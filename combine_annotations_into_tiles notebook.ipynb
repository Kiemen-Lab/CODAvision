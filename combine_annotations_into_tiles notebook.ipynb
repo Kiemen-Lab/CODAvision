{
 "cells": [
  {
   "cell_type": "code",
   "id": "initial_id",
   "metadata": {
    "collapsed": true,
    "ExecuteTime": {
     "end_time": "2024-05-17T20:58:05.768518Z",
     "start_time": "2024-05-17T20:58:05.473520Z"
    }
   },
   "source": [
    "import os\n",
    "import numpy as np\n",
    "from scipy.ndimage import distance_transform_edt\n",
    "from edit_annotation_tiles import edit_annotations_tiles\n",
    "from load_annotation_data import load_annotation_data\n",
    "from PIL import Image\n",
    "from skimage.morphology import disk, dilation\n",
    "from scipy.ndimage import convolve\n",
    "import matplotlib.pyplot as plt"
   ],
   "outputs": [],
   "execution_count": 25
  },
  {
   "metadata": {
    "ExecuteTime": {
     "end_time": "2024-05-17T19:47:16.659626Z",
     "start_time": "2024-05-17T19:47:16.644628Z"
    }
   },
   "cell_type": "code",
   "source": [
    "# Pre - inputs\n",
    "pth = r'\\\\10.99.68.52\\Kiemendata\\Valentina Matos\\coda to python\\test model'\n",
    "pthDL = r'\\\\10.99.68.52\\Kiemendata\\Valentina Matos\\coda to python\\test model\\04_19_2024'\n",
    "pthim_ann = r'\\\\10.99.68.52\\Kiemendata\\Valentina Matos\\coda to python\\test model\\5x'\n",
    "classcheck = 0\n",
    "datafile = r'\\\\10.99.68.52\\Kiemendata\\Valentina Matos\\coda to python\\test model\\04_19_2024\\net.pkl'"
   ],
   "id": "e0b71674d0266fda",
   "outputs": [],
   "execution_count": 14
  },
  {
   "metadata": {
    "ExecuteTime": {
     "end_time": "2024-05-17T19:47:18.244362Z",
     "start_time": "2024-05-17T19:47:17.459171Z"
    }
   },
   "cell_type": "code",
   "source": [
    "# Inputs \n",
    "import pickle\n",
    "with open(datafile, 'rb') as f:\n",
    "    data = pickle.load(f)\n",
    "nblack = data['nblack']\n",
    "sxy = data['sxy']\n",
    "ctlist0, numann0 = load_annotation_data(pthDL, pth, pthim_ann,classcheck)\n",
    "numann0 = np.array(numann0)  # Convert numann0 to a NumPy array\n",
    "\n",
    "numann = numann0.copy()\n",
    "percann = np.double(numann0 > 0)\n",
    "percann = np.dstack((percann, percann))\n",
    "percann0 = percann.copy()\n",
    "stile = None \n",
    "nbg = None\n",
    "\n",
    "outpth = r'training'\n"
   ],
   "id": "5b25891c0947e712",
   "outputs": [
    {
     "name": "stdout",
     "output_type": "stream",
     "text": [
      " \n",
      "Importing annotation data...\n",
      "Image 1 of 2: SG_013_0061\n",
      " annotation data previously loaded\n",
      "Image 2 of 2: SG_014_0016\n",
      " annotation data previously loaded\n"
     ]
    }
   ],
   "execution_count": 15
  },
  {
   "metadata": {
    "ExecuteTime": {
     "end_time": "2024-05-17T19:47:19.165111Z",
     "start_time": "2024-05-17T19:47:19.146977Z"
    }
   },
   "cell_type": "code",
   "source": [
    "if nbg is None:\n",
    "        nbg = 0\n",
    "if stile is None:\n",
    "    stile = 10000\n",
    "stile += 200\n",
    "kpall = 1\n"
   ],
   "id": "68090a8bf4efd866",
   "outputs": [],
   "execution_count": 16
  },
  {
   "metadata": {
    "ExecuteTime": {
     "end_time": "2024-05-17T19:47:20.192352Z",
     "start_time": "2024-05-17T19:47:20.019742Z"
    }
   },
   "cell_type": "code",
   "source": [
    "# Define folder locations\n",
    "outpthim = os.path.join(pthDL, outpth, 'im/')\n",
    "outpthlabel = os.path.join(pthDL, outpth, 'label/')\n",
    "outpthbg = os.path.join(pthDL, outpth, 'big_tiles/')\n",
    "os.makedirs(outpthim, exist_ok=True)\n",
    "os.makedirs(outpthlabel, exist_ok=True)\n",
    "os.makedirs(outpthbg, exist_ok=True)"
   ],
   "id": "89573e8c5fbade73",
   "outputs": [],
   "execution_count": 17
  },
  {
   "metadata": {
    "ExecuteTime": {
     "end_time": "2024-05-17T19:47:20.595412Z",
     "start_time": "2024-05-17T19:47:20.563268Z"
    }
   },
   "cell_type": "code",
   "source": [
    "imlistck = [f for f in os.listdir(outpthim) if f.endswith('.tif')]\n",
    "nm0 = len(imlistck) + 1"
   ],
   "id": "8bf246db8cf754af",
   "outputs": [],
   "execution_count": 18
  },
  {
   "metadata": {
    "ExecuteTime": {
     "end_time": "2024-05-17T19:47:21.726205Z",
     "start_time": "2024-05-17T19:47:21.323203Z"
    }
   },
   "cell_type": "code",
   "source": [
    "# Create very large blank images - NO IDEA WHAT THESE VARIABLES ARE\n",
    "imH = np.full((stile, stile, 3), nbg, dtype=np.double) #create an array with the specified dimensions with the value of ngb\n",
    "imT = np.zeros((stile, stile)) #blank mask\n",
    "nL = imT.size # size of the big tile\n",
    "ct = np.zeros(numann.shape[1]) # list (size of how many annotations you have)\n",
    "sf = np.sum(ct) / nL # how full is the big tile"
   ],
   "id": "e67212f695a262b5",
   "outputs": [],
   "execution_count": 19
  },
  {
   "metadata": {
    "ExecuteTime": {
     "end_time": "2024-05-17T19:47:22.965463Z",
     "start_time": "2024-05-17T19:47:22.945463Z"
    }
   },
   "cell_type": "code",
   "source": [
    "count = 1\n",
    "tcount = 0 #is not one because of python indexing starts at 0\n",
    "cutoff = 0.55 # Cut off for how full the big tile is (55% full)\n",
    "rsf = 5\n",
    "type0 = 1\n",
    "h = np.ones((51, 51))\n",
    "h[25, 25] = 0\n",
    "h = distance_transform_edt(h) < 26"
   ],
   "id": "c935204e4db755ba",
   "outputs": [],
   "execution_count": 20
  },
  {
   "metadata": {
    "ExecuteTime": {
     "end_time": "2024-05-17T19:47:24.279816Z",
     "start_time": "2024-05-17T19:47:24.271219Z"
    }
   },
   "cell_type": "code",
   "source": [
    "#__________ This should be the iteration of a  while loop__________\n",
    "# choose one of each class in order in a loop\n",
    "if count % 10 == 1:\n",
    "    type_ = tcount\n",
    "    tcount = (tcount % len(ct)) + 1\n",
    "# choose a tile containing the least prevalent class\n",
    "else:\n",
    "    tmp = np.sum(ct, axis=1)\n",
    "    tmp[type0] = np.max(tmp) #\n",
    "    type_ = np.argmin(tmp)\n",
    "    \n",
    "num = np.where(numann[:, type_] > 0)[0]\n",
    "\n",
    "if len(num) == 0:\n",
    "    numann[:, type_] = numann0[:, type_]\n",
    "    num = np.where(numann[:, type_] > 0)[0]\n",
    "num = np.random.choice(num, size=1, replace=False)\n"
   ],
   "id": "bc0b47385638499d",
   "outputs": [],
   "execution_count": 21
  },
  {
   "metadata": {
    "ExecuteTime": {
     "end_time": "2024-05-17T21:11:36.167344Z",
     "start_time": "2024-05-17T21:11:36.157344Z"
    }
   },
   "cell_type": "code",
   "source": [
    "# load annotation and mask\n",
    "# tile_name = ctlist0['tile_name'][num[0]] USE THIS LINE IN THE FUNCTION, FOR REPRODUCIBILITY WE WILL USE A FIXED TILE NAME\n",
    "tile_name = '00226.tif' #--> 00068.tif datafile in matlab\n",
    "print(tile_name)\n",
    "tile_path = os.path.join(ctlist0['tile_pth'][num[0]], tile_name)\n",
    "pf = tile_path.rfind('\\\\', 0 ,tile_path.rfind('\\\\'))\n",
    "pthlabel = os.path.join(tile_path[0:pf], 'label')\n",
    "print(pthlabel)"
   ],
   "id": "9d8f780c18b8c225",
   "outputs": [
    {
     "name": "stdout",
     "output_type": "stream",
     "text": [
      "00226.tif\n",
      "\\\\10.99.68.52\\Kiemendata\\Valentina Matos\\coda to python\\test model\\data\\SG_014_0016\\04_19_2024_boundbox\\label\n"
     ]
    }
   ],
   "execution_count": 46
  },
  {
   "metadata": {
    "ExecuteTime": {
     "end_time": "2024-05-17T21:21:38.318300Z",
     "start_time": "2024-05-17T21:21:38.229180Z"
    }
   },
   "cell_type": "code",
   "source": [
    "im = np.array(Image.open(tile_path))\n",
    "TA = np.array(Image.open(os.path.join(pthlabel, tile_name)))"
   ],
   "id": "c3175bde24aa4fa3",
   "outputs": [],
   "execution_count": 54
  },
  {
   "metadata": {
    "ExecuteTime": {
     "end_time": "2024-05-17T21:21:38.913278Z",
     "start_time": "2024-05-17T21:21:38.823280Z"
    }
   },
   "cell_type": "code",
   "source": "plt.imshow(TA)",
   "id": "ae837f05f4546381",
   "outputs": [
    {
     "data": {
      "text/plain": [
       "<matplotlib.image.AxesImage at 0x1a2035c99a0>"
      ]
     },
     "execution_count": 55,
     "metadata": {},
     "output_type": "execute_result"
    },
    {
     "data": {
      "text/plain": [
       "<Figure size 640x480 with 1 Axes>"
      ],
      "image/png": "[encoded data removed]"
     },
     "metadata": {},
     "output_type": "display_data"
    }
   ],
   "execution_count": 55
  },
  {
   "metadata": {
    "ExecuteTime": {
     "end_time": "2024-05-17T21:21:39.631011Z",
     "start_time": "2024-05-17T21:21:39.581387Z"
    }
   },
   "cell_type": "code",
   "source": [
    "doaug = (count % 3 == 1)\n",
    "im, TA, kp = edit_annotations_tiles(im, TA, doaug, type_, ct, imT.shape[0], kpall) # BUUUUUUG!!!!: after the augmentation the image is not displayed correctly, some part of the images are cropped cause the frame is not adjusted correctly \n",
    "numann[num, kp-1] = 0 #kp-1 due to layer index starting in 1 and python index starting in 0\n",
    "percann[num, kp-1, 0] += 1\n",
    "percann[num, kp-1, 1] = 2\n",
    "fx = (TA != 0)\n",
    "if np.sum(fx) < 30:\n",
    "    print('skipped')\n",
    "    #continue"
   ],
   "id": "318ba13d2db2a817",
   "outputs": [],
   "execution_count": 56
  },
  {
   "metadata": {
    "ExecuteTime": {
     "end_time": "2024-05-17T21:21:56.479361Z",
     "start_time": "2024-05-17T21:21:56.386364Z"
    }
   },
   "cell_type": "code",
   "source": "plt.imshow(TA)",
   "id": "4a4dda9e0becb47",
   "outputs": [
    {
     "data": {
      "text/plain": [
       "<matplotlib.image.AxesImage at 0x1a2036ef670>"
      ]
     },
     "execution_count": 58,
     "metadata": {},
     "output_type": "execute_result"
    },
    {
     "data": {
      "text/plain": [
       "<Figure size 640x480 with 1 Axes>"
      ],
      "image/png": "[encoded data removed]"
     },
     "metadata": {},
     "output_type": "display_data"
    }
   ],
   "execution_count": 58
  },
  {
   "metadata": {
    "ExecuteTime": {
     "end_time": "2024-05-17T21:21:44.270481Z",
     "start_time": "2024-05-17T21:21:40.366483Z"
    }
   },
   "cell_type": "code",
   "source": [
    " # find low density location in large tile to add annotation\n",
    "tmp = imT > 0\n",
    "tmp2 = tmp[::rsf, ::rsf]\n",
    "tmp2 = convolve(tmp2.astype(float), h, mode='constant', cval=0.0)\n",
    "tmp = distance_transform_edt(tmp2 == 0)\n",
    "tmp[:19, :] = 0\n",
    "tmp[-20:, :] = 0\n",
    "tmp[:, :19] = 0\n",
    "tmp[:, -20:] = 0\n",
    "xii = np.argmax(tmp)\n",
    "xii = np.random.choice(xii, size=1, replace=False)\n",
    "x, y = np.unravel_index(xii, tmp.shape)\n",
    "x *= rsf\n",
    "y *= rsf\n",
    "szz = np.array(TA.shape) - 1\n",
    "szzA = szz // 2\n",
    "szzB = szz - szzA"
   ],
   "id": "c4090859e639f968",
   "outputs": [],
   "execution_count": 57
  },
  {
   "metadata": {
    "ExecuteTime": {
     "end_time": "2024-05-16T18:06:05.968442Z",
     "start_time": "2024-05-16T18:06:05.242055Z"
    }
   },
   "cell_type": "code",
   "source": "%reset",
   "id": "5bc162b3d90d9316",
   "outputs": [],
   "execution_count": 8
  },
  {
   "metadata": {
    "ExecuteTime": {
     "end_time": "2024-05-16T15:49:27.888535Z",
     "start_time": "2024-05-16T15:49:27.874536Z"
    }
   },
   "cell_type": "code",
   "source": [
    "with open(datafile, 'rb') as f:\n",
    "    data = pickle.load(f)\n",
    "pth = data['pthim']\n",
    "print(pth)"
   ],
   "id": "e76421407f45425f",
   "outputs": [
    {
     "name": "stdout",
     "output_type": "stream",
     "text": [
      "\\\\10.99.68.52\\Kiemendata\\Valentina Matos\\coda to python\\test model\\5x\n"
     ]
    }
   ],
   "execution_count": 109
  },
  {
   "metadata": {
    "ExecuteTime": {
     "end_time": "2024-05-17T19:35:00.233560Z",
     "start_time": "2024-05-17T19:34:59.397025Z"
    }
   },
   "cell_type": "code",
   "source": "%reset",
   "id": "58301141ab179c74",
   "outputs": [],
   "execution_count": 11
  },
  {
   "metadata": {},
   "cell_type": "code",
   "outputs": [],
   "execution_count": null,
   "source": "",
   "id": "46d6ba0c95b2653f"
  }
 ],
 "metadata": {
  "kernelspec": {
   "display_name": "Python 3",
   "language": "python",
   "name": "python3"
  },
  "language_info": {
   "codemirror_mode": {
    "name": "ipython",
    "version": 2
   },
   "file_extension": ".py",
   "mimetype": "text/x-python",
   "name": "python",
   "nbconvert_exporter": "python",
   "pygments_lexer": "ipython2",
   "version": "2.7.6"
  }
 },
 "nbformat": 4,
 "nbformat_minor": 5
}
