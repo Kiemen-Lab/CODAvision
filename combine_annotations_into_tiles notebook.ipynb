{
 "cells": [
  {
   "cell_type": "code",
   "id": "initial_id",
   "metadata": {
    "collapsed": true,
    "ExecuteTime": {
     "end_time": "2024-05-16T18:36:31.838574Z",
     "start_time": "2024-05-16T18:36:31.102576Z"
    }
   },
   "source": [
    "import os\n",
    "import numpy as np\n",
    "import cv2\n",
    "from skimage.morphology import binary_dilation, disk, dilation\n",
    "from scipy.ndimage import distance_transform_edt\n",
    "from edit_annotation_tiles import edit_annotations_tiles\n",
    "from load_annotation_data import load_annotation_data"
   ],
   "outputs": [],
   "execution_count": 1
  },
  {
   "metadata": {
    "ExecuteTime": {
     "end_time": "2024-05-16T18:36:31.853574Z",
     "start_time": "2024-05-16T18:36:31.840576Z"
    }
   },
   "cell_type": "code",
   "source": [
    "# Pre - inputs\n",
    "pth = r'\\\\10.99.68.52\\Kiemendata\\Valentina Matos\\coda to python\\test model'\n",
    "pthDL = r'\\\\10.99.68.52\\Kiemendata\\Valentina Matos\\coda to python\\test model\\04_19_2024'\n",
    "pthim_ann = r'\\\\10.99.68.52\\Kiemendata\\Valentina Matos\\coda to python\\test model\\5x'\n",
    "classcheck = 0\n",
    "datafile = r'\\\\10.99.68.52\\Kiemendata\\Valentina Matos\\coda to python\\test model\\04_19_2024\\net.pkl'"
   ],
   "id": "e0b71674d0266fda",
   "outputs": [],
   "execution_count": 2
  },
  {
   "metadata": {
    "ExecuteTime": {
     "end_time": "2024-05-16T18:44:15.445724Z",
     "start_time": "2024-05-16T18:36:35.426203Z"
    }
   },
   "cell_type": "code",
   "source": [
    "# Inputs \n",
    "import pickle\n",
    "with open(datafile, 'rb') as f:\n",
    "    data = pickle.load(f)\n",
    "nblack = data['nblack']\n",
    "sxy = data['sxy']\n",
    "ctlist0, numann0 = load_annotation_data(pthDL, pth, pthim_ann,classcheck)\n",
    "numann0 = np.array(numann0)  # Convert numann0 to a NumPy array\n",
    "\n",
    "numann = numann0.copy()\n",
    "percann = np.double(numann0 > 0)\n",
    "percann = np.dstack((percann, percann))\n",
    "percann0 = percann.copy()\n",
    "stile = None \n",
    "nbg = None\n",
    "\n",
    "outpth = r'training'\n"
   ],
   "id": "5b25891c0947e712",
   "outputs": [
    {
     "name": "stdout",
     "output_type": "stream",
     "text": [
      " \n",
      "Importing annotation data...\n",
      "Image 1 of 2: SG_013_0061\n",
      " 1. of 4. Importing annotation data from xml file\n",
      " Creating file...\n",
      "  Existing TA loaded\n",
      " 2. of 4. Interpolating annotated regions and saving mask image\n",
      " 4. of 4. Creating bounding box tiles of all annotations\n",
      " Finished image in 108 seconds.\n",
      "Image 2 of 2: SG_014_0016\n",
      " 1. of 4. Importing annotation data from xml file\n",
      " Creating file...\n",
      "  Existing TA loaded\n",
      " 2. of 4. Interpolating annotated regions and saving mask image\n",
      " 4. of 4. Creating bounding box tiles of all annotations\n",
      " Finished image in 460 seconds.\n"
     ]
    }
   ],
   "execution_count": 3
  },
  {
   "metadata": {
    "ExecuteTime": {
     "end_time": "2024-05-16T18:30:07.230729Z",
     "start_time": "2024-05-16T18:30:07.212673Z"
    }
   },
   "cell_type": "code",
   "source": "",
   "id": "e165cb7d632b795d",
   "outputs": [],
   "execution_count": 6
  },
  {
   "metadata": {
    "ExecuteTime": {
     "end_time": "2024-05-16T16:28:40.870835Z",
     "start_time": "2024-05-16T16:28:40.862838Z"
    }
   },
   "cell_type": "code",
   "source": [
    "if nbg is None:\n",
    "        nbg = 0\n",
    "if stile is None:\n",
    "    stile = 10000\n",
    "stile += 200\n",
    "kpall = 1\n"
   ],
   "id": "68090a8bf4efd866",
   "outputs": [],
   "execution_count": 7
  },
  {
   "metadata": {
    "ExecuteTime": {
     "end_time": "2024-05-16T16:28:52.008060Z",
     "start_time": "2024-05-16T16:28:51.968724Z"
    }
   },
   "cell_type": "code",
   "source": [
    "# Define folder locations\n",
    "outpthim = os.path.join(pthDL, outpth, 'im/')\n",
    "outpthlabel = os.path.join(pthDL, outpth, 'label/')\n",
    "outpthbg = os.path.join(pthDL, outpth, 'big_tiles/')\n",
    "os.makedirs(outpthim, exist_ok=True)\n",
    "os.makedirs(outpthlabel, exist_ok=True)\n",
    "os.makedirs(outpthbg, exist_ok=True)"
   ],
   "id": "89573e8c5fbade73",
   "outputs": [],
   "execution_count": 8
  },
  {
   "metadata": {
    "ExecuteTime": {
     "end_time": "2024-05-16T16:28:57.503273Z",
     "start_time": "2024-05-16T16:28:57.482124Z"
    }
   },
   "cell_type": "code",
   "source": [
    "imlistck = [f for f in os.listdir(outpthim) if f.endswith('.tif')]\n",
    "nm0 = len(imlistck) + 1"
   ],
   "id": "8bf246db8cf754af",
   "outputs": [],
   "execution_count": 9
  },
  {
   "metadata": {
    "ExecuteTime": {
     "end_time": "2024-05-16T16:28:58.284023Z",
     "start_time": "2024-05-16T16:28:57.880024Z"
    }
   },
   "cell_type": "code",
   "source": [
    "# Create very large blank images - NO IDEA WHAT THESE VARIABLES ARE\n",
    "imH = np.full((stile, stile, 3), nbg, dtype=np.double) #create an array with the specified dimensions with the value of ngb\n",
    "imT = np.zeros((stile, stile)) #blank mask\n",
    "nL = imT.size # size of the big tile\n",
    "ct = np.zeros(numann.shape[1]) # list (size of how many annotations you have)\n",
    "sf = np.sum(ct) / nL # how full is the big tile"
   ],
   "id": "e67212f695a262b5",
   "outputs": [],
   "execution_count": 10
  },
  {
   "metadata": {},
   "cell_type": "markdown",
   "source": "",
   "id": "a944c6c8cbef135e"
  },
  {
   "metadata": {
    "ExecuteTime": {
     "end_time": "2024-05-16T16:30:01.225936Z",
     "start_time": "2024-05-16T16:30:01.207939Z"
    }
   },
   "cell_type": "code",
   "source": [
    "count = 1\n",
    "tcount = 0 #is not one because of python indexing starts at 0\n",
    "cutoff = 0.55 # Cut off for how full the big tile is (55% full)\n",
    "rsf = 5\n",
    "type0 = 1\n",
    "h = np.ones((51, 51))\n",
    "h[25, 25] = 0\n",
    "h = distance_transform_edt(h) < 26"
   ],
   "id": "c935204e4db755ba",
   "outputs": [],
   "execution_count": 13
  },
  {
   "metadata": {
    "ExecuteTime": {
     "end_time": "2024-05-16T16:51:04.507411Z",
     "start_time": "2024-05-16T16:30:05.321424Z"
    }
   },
   "cell_type": "code",
   "source": [
    "#__________ This should be the iteration of a  while loop__________\n",
    "# choose one of each class in order in a loop\n",
    "if count % 10 == 1:\n",
    "    type_ = tcount\n",
    "    tcount = (tcount % len(ct)) + 1\n",
    "# choose a tile containing the least prevalent class\n",
    "else:\n",
    "    tmp = np.sum(ct, axis=1)\n",
    "    tmp[type0] = np.max(tmp) #\n",
    "    type_ = np.argmin(tmp)\n",
    "    \n",
    "num = np.where(numann[:, type_] > 0)[0]\n",
    "\n",
    "if len(num) == 0:\n",
    "    numann[:, type_] = numann0[:, type_]\n",
    "    num = np.where(numann[:, type_] > 0)[0]\n",
    "num = np.random.choice(num, size=1, replace=False)\n"
   ],
   "id": "bc0b47385638499d",
   "outputs": [
    {
     "ename": "KeyboardInterrupt",
     "evalue": "",
     "output_type": "error",
     "traceback": [
      "\u001B[1;31m---------------------------------------------------------------------------\u001B[0m",
      "\u001B[1;31mKeyboardInterrupt\u001B[0m                         Traceback (most recent call last)",
      "Cell \u001B[1;32mIn[14], line 14\u001B[0m\n\u001B[0;32m     10\u001B[0m     type_ \u001B[38;5;241m=\u001B[39m np\u001B[38;5;241m.\u001B[39margmin(tmp)\n\u001B[0;32m     12\u001B[0m num \u001B[38;5;241m=\u001B[39m np\u001B[38;5;241m.\u001B[39mwhere(numann[:, type_] \u001B[38;5;241m>\u001B[39m \u001B[38;5;241m0\u001B[39m)[\u001B[38;5;241m0\u001B[39m]\n\u001B[1;32m---> 14\u001B[0m \u001B[38;5;28;01mif\u001B[39;00m \u001B[38;5;28;43mlen\u001B[39;49m(num) \u001B[38;5;241m==\u001B[39m \u001B[38;5;241m0\u001B[39m:\n\u001B[0;32m     15\u001B[0m     numann[:, type_] \u001B[38;5;241m=\u001B[39m numann0[:, type_]\n\u001B[0;32m     16\u001B[0m     num \u001B[38;5;241m=\u001B[39m np\u001B[38;5;241m.\u001B[39mwhere(numann[:, type_] \u001B[38;5;241m>\u001B[39m \u001B[38;5;241m0\u001B[39m)[\u001B[38;5;241m0\u001B[39m]\n",
      "Cell \u001B[1;32mIn[14], line 14\u001B[0m\n\u001B[0;32m     10\u001B[0m     type_ \u001B[38;5;241m=\u001B[39m np\u001B[38;5;241m.\u001B[39margmin(tmp)\n\u001B[0;32m     12\u001B[0m num \u001B[38;5;241m=\u001B[39m np\u001B[38;5;241m.\u001B[39mwhere(numann[:, type_] \u001B[38;5;241m>\u001B[39m \u001B[38;5;241m0\u001B[39m)[\u001B[38;5;241m0\u001B[39m]\n\u001B[1;32m---> 14\u001B[0m \u001B[38;5;28;01mif\u001B[39;00m \u001B[38;5;28;43mlen\u001B[39;49m(num) \u001B[38;5;241m==\u001B[39m \u001B[38;5;241m0\u001B[39m:\n\u001B[0;32m     15\u001B[0m     numann[:, type_] \u001B[38;5;241m=\u001B[39m numann0[:, type_]\n\u001B[0;32m     16\u001B[0m     num \u001B[38;5;241m=\u001B[39m np\u001B[38;5;241m.\u001B[39mwhere(numann[:, type_] \u001B[38;5;241m>\u001B[39m \u001B[38;5;241m0\u001B[39m)[\u001B[38;5;241m0\u001B[39m]\n",
      "File \u001B[1;32m_pydevd_bundle\\\\pydevd_cython_win32_38_64.pyx:1187\u001B[0m, in \u001B[0;36m_pydevd_bundle.pydevd_cython_win32_38_64.SafeCallWrapper.__call__\u001B[1;34m()\u001B[0m\n",
      "File \u001B[1;32m_pydevd_bundle\\\\pydevd_cython_win32_38_64.pyx:627\u001B[0m, in \u001B[0;36m_pydevd_bundle.pydevd_cython_win32_38_64.PyDBFrame.trace_dispatch\u001B[1;34m()\u001B[0m\n",
      "File \u001B[1;32m_pydevd_bundle\\\\pydevd_cython_win32_38_64.pyx:1103\u001B[0m, in \u001B[0;36m_pydevd_bundle.pydevd_cython_win32_38_64.PyDBFrame.trace_dispatch\u001B[1;34m()\u001B[0m\n",
      "File \u001B[1;32m_pydevd_bundle\\\\pydevd_cython_win32_38_64.pyx:1061\u001B[0m, in \u001B[0;36m_pydevd_bundle.pydevd_cython_win32_38_64.PyDBFrame.trace_dispatch\u001B[1;34m()\u001B[0m\n",
      "File \u001B[1;32mC:\\Program Files\\JetBrains\\PyCharm 2024.1\\plugins\\python\\helpers-pro\\jupyter_debug\\pydev_jupyter_plugin.py:169\u001B[0m, in \u001B[0;36mstop\u001B[1;34m(plugin, pydb, frame, event, args, stop_info, arg, step_cmd)\u001B[0m\n\u001B[0;32m    167\u001B[0m     frame \u001B[38;5;241m=\u001B[39m suspend_jupyter(main_debugger, thread, frame, step_cmd)\n\u001B[0;32m    168\u001B[0m     \u001B[38;5;28;01mif\u001B[39;00m frame:\n\u001B[1;32m--> 169\u001B[0m         \u001B[43mmain_debugger\u001B[49m\u001B[38;5;241;43m.\u001B[39;49m\u001B[43mdo_wait_suspend\u001B[49m\u001B[43m(\u001B[49m\u001B[43mthread\u001B[49m\u001B[43m,\u001B[49m\u001B[43m \u001B[49m\u001B[43mframe\u001B[49m\u001B[43m,\u001B[49m\u001B[43m \u001B[49m\u001B[43mevent\u001B[49m\u001B[43m,\u001B[49m\u001B[43m \u001B[49m\u001B[43marg\u001B[49m\u001B[43m)\u001B[49m\n\u001B[0;32m    170\u001B[0m         \u001B[38;5;28;01mreturn\u001B[39;00m \u001B[38;5;28;01mTrue\u001B[39;00m\n\u001B[0;32m    171\u001B[0m \u001B[38;5;28;01mreturn\u001B[39;00m \u001B[38;5;28;01mFalse\u001B[39;00m\n",
      "File \u001B[1;32mC:\\Program Files\\JetBrains\\PyCharm 2024.1\\plugins\\python\\helpers\\pydev\\pydevd.py:1185\u001B[0m, in \u001B[0;36mPyDB.do_wait_suspend\u001B[1;34m(self, thread, frame, event, arg, send_suspend_message, is_unhandled_exception)\u001B[0m\n\u001B[0;32m   1182\u001B[0m         from_this_thread\u001B[38;5;241m.\u001B[39mappend(frame_id)\n\u001B[0;32m   1184\u001B[0m \u001B[38;5;28;01mwith\u001B[39;00m \u001B[38;5;28mself\u001B[39m\u001B[38;5;241m.\u001B[39m_threads_suspended_single_notification\u001B[38;5;241m.\u001B[39mnotify_thread_suspended(thread_id, stop_reason):\n\u001B[1;32m-> 1185\u001B[0m     \u001B[38;5;28;43mself\u001B[39;49m\u001B[38;5;241;43m.\u001B[39;49m\u001B[43m_do_wait_suspend\u001B[49m\u001B[43m(\u001B[49m\u001B[43mthread\u001B[49m\u001B[43m,\u001B[49m\u001B[43m \u001B[49m\u001B[43mframe\u001B[49m\u001B[43m,\u001B[49m\u001B[43m \u001B[49m\u001B[43mevent\u001B[49m\u001B[43m,\u001B[49m\u001B[43m \u001B[49m\u001B[43marg\u001B[49m\u001B[43m,\u001B[49m\u001B[43m \u001B[49m\u001B[43msuspend_type\u001B[49m\u001B[43m,\u001B[49m\u001B[43m \u001B[49m\u001B[43mfrom_this_thread\u001B[49m\u001B[43m)\u001B[49m\n",
      "File \u001B[1;32mC:\\Program Files\\JetBrains\\PyCharm 2024.1\\plugins\\python\\helpers\\pydev\\pydevd.py:1200\u001B[0m, in \u001B[0;36mPyDB._do_wait_suspend\u001B[1;34m(self, thread, frame, event, arg, suspend_type, from_this_thread)\u001B[0m\n\u001B[0;32m   1197\u001B[0m             \u001B[38;5;28mself\u001B[39m\u001B[38;5;241m.\u001B[39m_call_mpl_hook()\n\u001B[0;32m   1199\u001B[0m         \u001B[38;5;28mself\u001B[39m\u001B[38;5;241m.\u001B[39mprocess_internal_commands()\n\u001B[1;32m-> 1200\u001B[0m         \u001B[43mtime\u001B[49m\u001B[38;5;241;43m.\u001B[39;49m\u001B[43msleep\u001B[49m\u001B[43m(\u001B[49m\u001B[38;5;241;43m0.01\u001B[39;49m\u001B[43m)\u001B[49m\n\u001B[0;32m   1202\u001B[0m \u001B[38;5;28mself\u001B[39m\u001B[38;5;241m.\u001B[39mcancel_async_evaluation(get_current_thread_id(thread), \u001B[38;5;28mstr\u001B[39m(\u001B[38;5;28mid\u001B[39m(frame)))\n\u001B[0;32m   1204\u001B[0m \u001B[38;5;66;03m# process any stepping instructions\u001B[39;00m\n",
      "\u001B[1;31mKeyboardInterrupt\u001B[0m: "
     ]
    }
   ],
   "execution_count": 14
  },
  {
   "metadata": {
    "ExecuteTime": {
     "end_time": "2024-05-16T15:41:02.576428Z",
     "start_time": "2024-05-16T15:41:02.559430Z"
    }
   },
   "cell_type": "code",
   "source": [
    "# load annotation and mask\n",
    "tile_name = ctlist0[num[0]]\n",
    "print(tile_name)\n",
    "pthim = os.path.join(pthDL, tile_name)"
   ],
   "id": "9d8f780c18b8c225",
   "outputs": [
    {
     "name": "stderr",
     "output_type": "stream",
     "text": [
      "UsageError: Line magic function `%` not found.\n"
     ]
    }
   ],
   "execution_count": 108
  },
  {
   "metadata": {
    "ExecuteTime": {
     "end_time": "2024-05-16T18:06:05.968442Z",
     "start_time": "2024-05-16T18:06:05.242055Z"
    }
   },
   "cell_type": "code",
   "source": "%reset",
   "id": "5bc162b3d90d9316",
   "outputs": [],
   "execution_count": 8
  },
  {
   "metadata": {
    "ExecuteTime": {
     "end_time": "2024-05-16T15:49:27.888535Z",
     "start_time": "2024-05-16T15:49:27.874536Z"
    }
   },
   "cell_type": "code",
   "source": [
    "with open(datafile, 'rb') as f:\n",
    "    data = pickle.load(f)\n",
    "pth = data['pthim']\n",
    "print(pth)"
   ],
   "id": "e76421407f45425f",
   "outputs": [
    {
     "name": "stdout",
     "output_type": "stream",
     "text": [
      "\\\\10.99.68.52\\Kiemendata\\Valentina Matos\\coda to python\\test model\\5x\n"
     ]
    }
   ],
   "execution_count": 109
  },
  {
   "metadata": {},
   "cell_type": "code",
   "outputs": [],
   "execution_count": null,
   "source": "",
   "id": "58301141ab179c74"
  }
 ],
 "metadata": {
  "kernelspec": {
   "display_name": "Python 3",
   "language": "python",
   "name": "python3"
  },
  "language_info": {
   "codemirror_mode": {
    "name": "ipython",
    "version": 2
   },
   "file_extension": ".py",
   "mimetype": "text/x-python",
   "name": "python",
   "nbconvert_exporter": "python",
   "pygments_lexer": "ipython2",
   "version": "2.7.6"
  }
 },
 "nbformat": 4,
 "nbformat_minor": 5
}
