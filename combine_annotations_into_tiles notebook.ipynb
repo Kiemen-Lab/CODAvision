{
 "cells": [
  {
   "cell_type": "code",
   "id": "initial_id",
   "metadata": {
    "collapsed": true,
    "ExecuteTime": {
     "end_time": "2024-05-14T21:21:40.638928Z",
     "start_time": "2024-05-14T21:21:40.630930Z"
    }
   },
   "source": [
    "import os\n",
    "import numpy as np\n",
    "import cv2\n",
    "from skimage.morphology import binary_dilation, disk, dilation\n",
    "from scipy.ndimage import distance_transform_edt\n",
    "from edit_annotation_tiles import edit_annotations_tiles\n",
    "from load_annotation_data import load_annotation_data"
   ],
   "outputs": [],
   "execution_count": 29
  },
  {
   "metadata": {
    "ExecuteTime": {
     "end_time": "2024-05-14T20:55:33.562742Z",
     "start_time": "2024-05-14T20:55:33.552742Z"
    }
   },
   "cell_type": "code",
   "source": [
    "# Pre - inputs\n",
    "pth = r'\\\\10.99.68.52\\Kiemendata\\Valentina Matos\\coda to python\\test model'\n",
    "pthDL = r'\\\\10.99.68.52\\Kiemendata\\Valentina Matos\\coda to python\\test model\\04_19_2024'\n",
    "pthim_ann = r'\\\\10.99.68.52\\Kiemendata\\Valentina Matos\\coda to python\\test model\\5x'\n",
    "classcheck = 0\n",
    "datafile = r'\\\\10.99.68.52\\Kiemendata\\Valentina Matos\\coda to python\\test model\\04_19_2024\\net.pkl'"
   ],
   "id": "e0b71674d0266fda",
   "outputs": [],
   "execution_count": 17
  },
  {
   "metadata": {
    "ExecuteTime": {
     "end_time": "2024-05-14T20:56:04.952975Z",
     "start_time": "2024-05-14T20:56:04.803754Z"
    }
   },
   "cell_type": "code",
   "source": [
    "# Inputs \n",
    "import pickle\n",
    "with open(datafile, 'rb') as f:\n",
    "    data = pickle.load(f)\n",
    "nblack = data['nblack']\n",
    "sxy = data['sxy']\n",
    "ctlist0, numann0 = load_annotation_data(pthDL, pth, pthim_ann,classcheck)\n",
    "numann0 = np.array(numann0)  # Convert numann0 to a NumPy array\n",
    "\n",
    "numann = numann0.copy()\n",
    "percann = np.double(numann0 > 0)\n",
    "percann = np.dstack((percann, percann))\n",
    "percann0 = percann.copy()\n",
    "stile = None \n",
    "nbg = None\n",
    "\n",
    "outpth = r'training'\n"
   ],
   "id": "5b25891c0947e712",
   "outputs": [
    {
     "name": "stdout",
     "output_type": "stream",
     "text": [
      " \n",
      "Importing annotation data...\n",
      "Image 1 of 2: SG_013_0061\n",
      " annotation data previously loaded\n",
      "Image 2 of 2: SG_014_0016\n",
      " annotation data previously loaded\n"
     ]
    }
   ],
   "execution_count": 19
  },
  {
   "metadata": {
    "ExecuteTime": {
     "end_time": "2024-05-14T21:07:40.159130Z",
     "start_time": "2024-05-14T21:07:40.152130Z"
    }
   },
   "cell_type": "code",
   "source": [
    "if nbg is None:\n",
    "        nbg = 0\n",
    "if stile is None:\n",
    "    stile = 10000\n",
    "stile += 200\n",
    "kpall = 1\n"
   ],
   "id": "68090a8bf4efd866",
   "outputs": [],
   "execution_count": 25
  },
  {
   "metadata": {
    "ExecuteTime": {
     "end_time": "2024-05-14T20:56:47.906764Z",
     "start_time": "2024-05-14T20:56:47.871767Z"
    }
   },
   "cell_type": "code",
   "source": [
    "# Define folder locations\n",
    "outpthim = os.path.join(pthDL, outpth, 'im/')\n",
    "outpthlabel = os.path.join(pthDL, outpth, 'label/')\n",
    "outpthbg = os.path.join(pthDL, outpth, 'big_tiles/')\n",
    "os.makedirs(outpthim, exist_ok=True)\n",
    "os.makedirs(outpthlabel, exist_ok=True)\n",
    "os.makedirs(outpthbg, exist_ok=True)"
   ],
   "id": "89573e8c5fbade73",
   "outputs": [],
   "execution_count": 21
  },
  {
   "metadata": {
    "ExecuteTime": {
     "end_time": "2024-05-14T20:58:00.246727Z",
     "start_time": "2024-05-14T20:58:00.237725Z"
    }
   },
   "cell_type": "code",
   "source": [
    "imlistck = [f for f in os.listdir(outpthim) if f.endswith('.tif')]\n",
    "nm0 = len(imlistck) + 1"
   ],
   "id": "8bf246db8cf754af",
   "outputs": [],
   "execution_count": 22
  },
  {
   "metadata": {
    "ExecuteTime": {
     "end_time": "2024-05-14T21:10:54.578683Z",
     "start_time": "2024-05-14T21:10:54.141684Z"
    }
   },
   "cell_type": "code",
   "source": [
    "# Create very large blank images - NO IDEA WHAT THESE VARIABLES ARE\n",
    "imH = np.full((stile, stile, 3), nbg, dtype=np.double) #create an array with the specified dimensions with the value of ngb\n",
    "imT = np.zeros((stile, stile))\n",
    "nL = imT.size\n",
    "ct = np.zeros(numann.shape[1])\n",
    "sf = np.sum(ct) / nL"
   ],
   "id": "e67212f695a262b5",
   "outputs": [],
   "execution_count": 27
  },
  {
   "metadata": {
    "ExecuteTime": {
     "end_time": "2024-05-14T21:24:01.297649Z",
     "start_time": "2024-05-14T21:24:01.293648Z"
    }
   },
   "cell_type": "code",
   "source": [
    "count = 1\n",
    "tcount = 1\n",
    "cutoff = 0.55\n",
    "rsf = 5\n",
    "type0 = 0\n",
    "h = np.ones((51, 51))\n",
    "h[25, 25] = 0\n",
    "h = distance_transform_edt(h) < 26"
   ],
   "id": "c935204e4db755ba",
   "outputs": [],
   "execution_count": 35
  },
  {
   "metadata": {
    "ExecuteTime": {
     "end_time": "2024-05-14T21:22:59.879451Z",
     "start_time": "2024-05-14T21:22:59.861439Z"
    }
   },
   "cell_type": "code",
   "source": [
    "# choose one of each class in order in a loop\n",
    "if count % 10 == 1:\n",
    "    type_ = tcount\n",
    "    tcount = (tcount % len(ct)) + 1\n",
    "# choose a tile containing the least prevalent class\n",
    "else:\n",
    "    tmp = np.sum(ct, axis=1)\n",
    "    tmp[type0] = np.max(tmp) #\n",
    "    type_ = np.argmin(tmp)\n",
    "    \n",
    "num = np.where(numann[:, type_] > 0)[0]\n",
    "\n",
    "if len(num) == 0:\n",
    "    numann[:, type_] = numann0[:, type_]\n",
    "    num = np.where(numann[:, type_] > 0)[0]\n",
    "num = np.random.permutation(num)"
   ],
   "id": "bc0b47385638499d",
   "outputs": [],
   "execution_count": 33
  },
  {
   "metadata": {
    "ExecuteTime": {
     "end_time": "2024-05-14T21:23:27.200323Z",
     "start_time": "2024-05-14T21:23:27.181413Z"
    }
   },
   "cell_type": "code",
   "source": [
    "a = np.array([[-1, 2, 3, 0]])\n",
    "np.argmin(a)\n"
   ],
   "id": "9d8f780c18b8c225",
   "outputs": [],
   "execution_count": 34
  }
 ],
 "metadata": {
  "kernelspec": {
   "display_name": "Python 3",
   "language": "python",
   "name": "python3"
  },
  "language_info": {
   "codemirror_mode": {
    "name": "ipython",
    "version": 2
   },
   "file_extension": ".py",
   "mimetype": "text/x-python",
   "name": "python",
   "nbconvert_exporter": "python",
   "pygments_lexer": "ipython2",
   "version": "2.7.6"
  }
 },
 "nbformat": 4,
 "nbformat_minor": 5
}
