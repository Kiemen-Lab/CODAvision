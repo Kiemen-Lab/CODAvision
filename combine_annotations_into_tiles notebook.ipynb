{
 "cells": [
  {
   "cell_type": "code",
   "id": "initial_id",
   "metadata": {
    "collapsed": true,
    "ExecuteTime": {
     "end_time": "2024-05-20T17:49:45.018219Z",
     "start_time": "2024-05-20T17:49:45.004219Z"
    }
   },
   "source": [
    "import os\n",
    "import numpy as np\n",
    "from scipy.ndimage import distance_transform_edt\n",
    "from edit_annotation_tiles import edit_annotations_tiles\n",
    "from load_annotation_data import load_annotation_data\n",
    "from PIL import Image\n",
    "from skimage.morphology import disk, dilation\n",
    "from scipy.ndimage import convolve\n",
    "import matplotlib.pyplot as plt"
   ],
   "outputs": [],
   "execution_count": 55
  },
  {
   "metadata": {
    "ExecuteTime": {
     "end_time": "2024-05-20T17:49:45.240638Z",
     "start_time": "2024-05-20T17:49:45.223168Z"
    }
   },
   "cell_type": "code",
   "source": [
    "# Pre - inputs\n",
    "pth = r'\\\\10.99.68.52\\Kiemendata\\Valentina Matos\\coda to python\\test model'\n",
    "pthDL = r'\\\\10.99.68.52\\Kiemendata\\Valentina Matos\\coda to python\\test model\\04_19_2024'\n",
    "pthim_ann = r'\\\\10.99.68.52\\Kiemendata\\Valentina Matos\\coda to python\\test model\\5x'\n",
    "classcheck = 0\n",
    "datafile = r'\\\\10.99.68.52\\Kiemendata\\Valentina Matos\\coda to python\\test model\\04_19_2024\\net.pkl'"
   ],
   "id": "e0b71674d0266fda",
   "outputs": [],
   "execution_count": 56
  },
  {
   "metadata": {
    "ExecuteTime": {
     "end_time": "2024-05-20T17:49:45.600785Z",
     "start_time": "2024-05-20T17:49:45.446643Z"
    }
   },
   "cell_type": "code",
   "source": [
    "# Inputs \n",
    "import pickle\n",
    "with open(datafile, 'rb') as f:\n",
    "    data = pickle.load(f)\n",
    "nblack = data['nblack']\n",
    "sxy = data['sxy']\n",
    "ctlist0, numann0 = load_annotation_data(pthDL, pth, pthim_ann,classcheck)\n",
    "numann0 = np.array(numann0)  # Convert numann0 to a NumPy array\n",
    "\n",
    "numann = numann0.copy()\n",
    "percann = np.double(numann0 > 0)\n",
    "percann = np.dstack((percann, percann))\n",
    "percann0 = percann.copy()\n",
    "stile = None \n",
    "nbg = None\n",
    "\n",
    "outpth = r'training'\n"
   ],
   "id": "5b25891c0947e712",
   "outputs": [
    {
     "name": "stdout",
     "output_type": "stream",
     "text": [
      " \n",
      "Importing annotation data...\n",
      "Image 1 of 2: SG_013_0061\n",
      " annotation data previously loaded\n",
      "Image 2 of 2: SG_014_0016\n",
      " annotation data previously loaded\n"
     ]
    }
   ],
   "execution_count": 57
  },
  {
   "metadata": {
    "ExecuteTime": {
     "end_time": "2024-05-20T17:49:45.646791Z",
     "start_time": "2024-05-20T17:49:45.636791Z"
    }
   },
   "cell_type": "code",
   "source": [
    "if nbg is None:\n",
    "        nbg = 0\n",
    "if stile is None:\n",
    "    stile = 10000\n",
    "stile += 200\n",
    "kpall = 1\n"
   ],
   "id": "68090a8bf4efd866",
   "outputs": [],
   "execution_count": 58
  },
  {
   "metadata": {
    "ExecuteTime": {
     "end_time": "2024-05-20T17:49:45.865765Z",
     "start_time": "2024-05-20T17:49:45.802765Z"
    }
   },
   "cell_type": "code",
   "source": [
    "# Define folder locations\n",
    "outpthim = os.path.join(pthDL, outpth, 'im/')\n",
    "outpthlabel = os.path.join(pthDL, outpth, 'label/')\n",
    "outpthbg = os.path.join(pthDL, outpth, 'big_tiles/')\n",
    "os.makedirs(outpthim, exist_ok=True)\n",
    "os.makedirs(outpthlabel, exist_ok=True)\n",
    "os.makedirs(outpthbg, exist_ok=True)"
   ],
   "id": "89573e8c5fbade73",
   "outputs": [],
   "execution_count": 59
  },
  {
   "metadata": {
    "ExecuteTime": {
     "end_time": "2024-05-20T17:49:46.006765Z",
     "start_time": "2024-05-20T17:49:45.987765Z"
    }
   },
   "cell_type": "code",
   "source": [
    "imlistck = [f for f in os.listdir(outpthim) if f.endswith('.tif')]\n",
    "nm0 = len(imlistck) + 1"
   ],
   "id": "8bf246db8cf754af",
   "outputs": [],
   "execution_count": 60
  },
  {
   "metadata": {
    "ExecuteTime": {
     "end_time": "2024-05-20T19:34:52.921849Z",
     "start_time": "2024-05-20T19:34:52.547850Z"
    }
   },
   "cell_type": "code",
   "source": [
    "# Create very large blank images - NO IDEA WHAT THESE VARIABLES ARE\n",
    "imH = np.full((stile, stile, 3), nbg, dtype=np.double) #create an array with the specified dimensions with the value of ngb\n",
    "imT = np.zeros((stile, stile)) #blank mask\n",
    "nL = imT.size # size of the big tile\n",
    "ct = np.zeros(numann.shape[1]) # list (size of how many annotations you have)\n",
    "sf = np.sum(ct) / nL # how full is the big tile"
   ],
   "id": "e67212f695a262b5",
   "outputs": [],
   "execution_count": 97
  },
  {
   "metadata": {
    "ExecuteTime": {
     "end_time": "2024-05-20T17:49:46.634765Z",
     "start_time": "2024-05-20T17:49:46.619765Z"
    }
   },
   "cell_type": "code",
   "source": [
    "count = 1\n",
    "tcount = 0 #is not one because of python indexing starts at 0\n",
    "cutoff = 0.55 # Cut off for how full the big tile is (55% full)\n",
    "rsf = 5\n",
    "type0 = 1\n",
    "h = np.ones((51, 51))\n",
    "h[25, 25] = 0\n",
    "h = distance_transform_edt(h) < 26"
   ],
   "id": "c935204e4db755ba",
   "outputs": [],
   "execution_count": 62
  },
  {
   "metadata": {
    "ExecuteTime": {
     "end_time": "2024-05-20T17:49:46.949819Z",
     "start_time": "2024-05-20T17:49:46.934821Z"
    }
   },
   "cell_type": "code",
   "source": [
    "#__________ This should be the iteration of a  while loop__________\n",
    "# choose one of each class in order in a loop\n",
    "if count % 10 == 1:\n",
    "    type_ = tcount\n",
    "    tcount = (tcount % len(ct)) + 1\n",
    "# choose a tile containing the least prevalent class\n",
    "else:\n",
    "    tmp = np.sum(ct, axis=0).copy()  # Create a copy of the array\n",
    "    tmp[type0] = np.max(tmp)\n",
    "    type_ = np.argmin(tmp)\n",
    "    \n",
    "num = np.where(numann[:, type_] > 0)[0]\n",
    "\n",
    "if len(num) == 0:\n",
    "    numann[:, type_] = numann0[:, type_]\n",
    "    num = np.where(numann[:, type_] > 0)[0]\n",
    "num = np.random.choice(num, size=1, replace=False)\n"
   ],
   "id": "bc0b47385638499d",
   "outputs": [],
   "execution_count": 63
  },
  {
   "metadata": {
    "ExecuteTime": {
     "end_time": "2024-05-20T17:51:11.470946Z",
     "start_time": "2024-05-20T17:51:11.459949Z"
    }
   },
   "cell_type": "code",
   "source": [
    "\n",
    "# load annotation and mask\n",
    "tile_name = ctlist0['tile_name'][num[0]] \n",
    "# USE THIS LINE IN THE FUNCTION, FOR REPRODUCIBILITY WE WILL USE A FIXED TILE NAME\n",
    "tile_name = '00022.tif' # 00240 in matlab\n",
    "print(tile_name)\n",
    "tile_path = os.path.join(ctlist0['tile_pth'][num[0]], tile_name)\n",
    "pf = tile_path.rfind('\\\\', 0 ,tile_path.rfind('\\\\'))\n",
    "pthlabel = os.path.join(tile_path[0:pf], 'label')\n",
    "print(pthlabel)"
   ],
   "id": "9d8f780c18b8c225",
   "outputs": [
    {
     "name": "stdout",
     "output_type": "stream",
     "text": [
      "00022.tif\n",
      "\\\\10.99.68.52\\Kiemendata\\Valentina Matos\\coda to python\\test model\\data\\SG_014_0016\\04_19_2024_boundbox\\label\n"
     ]
    }
   ],
   "execution_count": 68
  },
  {
   "metadata": {
    "ExecuteTime": {
     "end_time": "2024-05-20T17:51:11.861234Z",
     "start_time": "2024-05-20T17:51:11.782846Z"
    }
   },
   "cell_type": "code",
   "source": [
    "im = np.array(Image.open(tile_path))\n",
    "TA = np.array(Image.open(os.path.join(pthlabel, tile_name)))"
   ],
   "id": "c3175bde24aa4fa3",
   "outputs": [],
   "execution_count": 69
  },
  {
   "metadata": {
    "ExecuteTime": {
     "end_time": "2024-05-20T17:51:12.249515Z",
     "start_time": "2024-05-20T17:51:12.124799Z"
    }
   },
   "cell_type": "code",
   "source": [
    "plt.imshow(TA)\n",
    "plt.title(tile_name + ' pre augmentation')"
   ],
   "id": "ae837f05f4546381",
   "outputs": [
    {
     "data": {
      "text/plain": [
       "Text(0.5, 1.0, '00022.tif pre augmentation')"
      ]
     },
     "execution_count": 70,
     "metadata": {},
     "output_type": "execute_result"
    },
    {
     "data": {
      "text/plain": [
       "<Figure size 640x480 with 1 Axes>"
      ],
      "image/png": "[encoded data removed]"
     },
     "metadata": {},
     "output_type": "display_data"
    }
   ],
   "execution_count": 70
  },
  {
   "metadata": {
    "ExecuteTime": {
     "end_time": "2024-05-20T17:51:43.538190Z",
     "start_time": "2024-05-20T17:51:43.334192Z"
    }
   },
   "cell_type": "code",
   "source": [
    "doaug = (count % 3 == 1)\n",
    "im, TA, kp = edit_annotations_tiles(im, TA, doaug, type_, ct, imT.shape[0], kpall)  \n",
    "numann[num, kp-1] = 0 #kp-1 due to layer index starting in 1 and python index starting in 0\n",
    "percann[num, kp-1, 0] += 1\n",
    "percann[num, kp-1, 1] = 2\n",
    "fx = (TA != 0)\n",
    "if np.sum(fx) < 30:\n",
    "    print('skipped')\n",
    "    #continue"
   ],
   "id": "318ba13d2db2a817",
   "outputs": [],
   "execution_count": 71
  },
  {
   "metadata": {
    "ExecuteTime": {
     "end_time": "2024-05-20T17:51:43.886749Z",
     "start_time": "2024-05-20T17:51:43.776750Z"
    }
   },
   "cell_type": "code",
   "source": [
    "plt.imshow(TA) # checked jaime's code in here!!!!\n",
    "plt.title(tile_name + ' post augmentation')"
   ],
   "id": "4a4dda9e0becb47",
   "outputs": [
    {
     "data": {
      "text/plain": [
       "Text(0.5, 1.0, '00022.tif post augmentation')"
      ]
     },
     "execution_count": 72,
     "metadata": {},
     "output_type": "execute_result"
    },
    {
     "data": {
      "text/plain": [
       "<Figure size 640x480 with 1 Axes>"
      ],
      "image/png": "[encoded data removed]"
     },
     "metadata": {},
     "output_type": "display_data"
    }
   ],
   "execution_count": 72
  },
  {
   "metadata": {
    "ExecuteTime": {
     "end_time": "2024-05-20T18:38:58.750262Z",
     "start_time": "2024-05-20T18:38:54.871744Z"
    }
   },
   "cell_type": "code",
   "source": [
    " # find low density location in large tile to add annotation\n",
    "tmp = imT > 0\n",
    "tmp2 = tmp[::rsf, ::rsf]\n",
    "tmp2 = convolve(tmp2.astype(float), h, mode='constant', cval=0.0)\n",
    "tmp = distance_transform_edt(tmp2 == 0)\n",
    "tmp[:19, :] = 0\n",
    "tmp[-20:, :] = 0\n",
    "tmp[:, :19] = 0\n",
    "tmp[:, -20:] = 0\n",
    "xii = np.argmax(tmp)\n",
    "xii = np.random.choice(xii, size=1, replace=False)\n",
    "x, y = np.unravel_index(xii, tmp.shape)\n",
    "\n",
    "x = int(x * rsf)\n",
    "y = int(y * rsf)\n",
    "\n",
    "szz = np.array(TA.shape) - 1\n",
    "szzA = szz // 2\n",
    "szzB = szz - szzA\n",
    "\n",
    "# Ensure szzA and szzB are tuples of integers to be used for slicing afterwards\n",
    "szzA = tuple(map(int, szzA))\n",
    "szzB = tuple(map(int, szzB))"
   ],
   "id": "c4090859e639f968",
   "outputs": [],
   "execution_count": 87
  },
  {
   "metadata": {},
   "cell_type": "markdown",
   "source": "",
   "id": "17e8920acf94fa40"
  },
  {
   "metadata": {
    "ExecuteTime": {
     "end_time": "2024-05-20T18:39:04.593235Z",
     "start_time": "2024-05-20T18:39:04.582236Z"
    }
   },
   "cell_type": "code",
   "source": [
    "if x + szzA[0] > imT.shape[1]:\n",
    "    x -= szzA[0]\n",
    "if y + szzA[1] > imT.shape[0]:\n",
    "    y -= szzA[1]\n",
    "if x - szzB[0] < 0:\n",
    "    x += szzB[0]\n",
    "if y - szzB[1] < 0:\n",
    "    y += szzB[1]"
   ],
   "id": "c50bae9f1e2d054e",
   "outputs": [],
   "execution_count": 88
  },
  {
   "metadata": {
    "ExecuteTime": {
     "end_time": "2024-05-20T18:39:28.338447Z",
     "start_time": "2024-05-20T18:39:28.317179Z"
    }
   },
   "cell_type": "code",
   "source": [
    "tmpT = imT[x - szzB[0]:x + szzA[0] + 1, y - szzB[1]:y + szzA[1] + 1].copy()\n",
    "tmpT[fx] = TA[fx]\n",
    "tmpH = imH[x - szzB[0]:x + szzA[0] + 1, y - szzB[1]:y + szzA[1] + 1, :].copy()\n",
    "tmpH[np.dstack((fx, fx, fx))] = im[np.dstack((fx, fx, fx))]\n",
    "imT[x - szzB[0]:x + szzA[0] + 1, y - szzB[1]:y + szzA[1] + 1] = tmpT\n",
    "imH[x - szzB[0]:x + szzA[0] + 1, y - szzB[1]:y + szzA[1] + 1, :] = tmpH"
   ],
   "id": "cedfeba49b9f7976",
   "outputs": [],
   "execution_count": 89
  },
  {
   "metadata": {
    "ExecuteTime": {
     "end_time": "2024-05-20T18:57:43.193443Z",
     "start_time": "2024-05-20T18:57:43.175445Z"
    }
   },
   "cell_type": "code",
   "source": [
    "# Update total count\n",
    "if count % 2 == 0:\n",
    "    sf = np.sum(imT > 0) / nL  # print(f\"{count} {round(sf * 100)}\")\n",
    "\n",
    "for p in range(numann.shape[1]):\n",
    "    ct[p] += np.sum(tmpT == p)\n",
    "\n",
    "if count % 150 == 0 or sf > cutoff:\n",
    "    tmp = np.histogram(imT, bins=np.arange(numann.shape[1] + 2))[0]\n",
    "    ct = tmp[1:]\n",
    "    ct[ct == 0] = 1\n",
    "\n",
    "count += 1\n",
    "type0 = type_"
   ],
   "id": "79186b3e79ed28a4",
   "outputs": [],
   "execution_count": 90
  },
  {
   "metadata": {
    "ExecuteTime": {
     "end_time": "2024-05-20T19:06:01.230905Z",
     "start_time": "2024-05-20T19:06:00.402907Z"
    }
   },
   "cell_type": "code",
   "source": [
    " # cut edges off tile\n",
    "imH = imH[100:-100, 100:-100, :].astype(np.uint8)\n",
    "imT = imT[100:-100, 100:-100].astype(np.uint8)\n",
    "\n",
    "for p in range(nblack-1): # the '-1' has to do with python indxing \n",
    "    ct[p] = np.sum(imT == p)\n",
    "    \n",
    "imT[imT == 0] = nblack"
   ],
   "id": "1372e95f1bcfefe3",
   "outputs": [],
   "execution_count": 92
  },
  {
   "metadata": {
    "ExecuteTime": {
     "end_time": "2024-05-20T19:11:00.935135Z",
     "start_time": "2024-05-20T19:10:51.419147Z"
    }
   },
   "cell_type": "code",
   "source": [
    "# save cutouts to outpth\n",
    "sz = imH.shape\n",
    "for s1 in range(0, sz[0], sxy):\n",
    "    for s2 in range(0, sz[1], sxy):\n",
    "        try:\n",
    "            imHtmp = imH[s1:s1 + sxy, s2:s2 + sxy, :]\n",
    "            imTtmp = imT[s1:s1 + sxy, s2:s2 + sxy]\n",
    "        except ValueError:\n",
    "            continue\n",
    "\n",
    "        Image.fromarray(imHtmp).save(os.path.join(outpthim, f\"{nm0}.tif\"))\n",
    "        Image.fromarray(imTtmp).save(os.path.join(outpthlabel, f\"{nm0}.tif\"))\n",
    "        nm0 += 1   "
   ],
   "id": "8df4c97230417b00",
   "outputs": [],
   "execution_count": 93
  },
  {
   "metadata": {
    "ExecuteTime": {
     "end_time": "2024-05-20T19:14:07.546465Z",
     "start_time": "2024-05-20T19:14:07.528768Z"
    }
   },
   "cell_type": "code",
   "source": "nm1 = len([f for f in os.listdir(outpthbg) if f.startswith('HE')]) + 1",
   "id": "63ed31140f185d04",
   "outputs": [],
   "execution_count": 95
  },
  {
   "metadata": {
    "ExecuteTime": {
     "end_time": "2024-05-20T19:14:14.453455Z",
     "start_time": "2024-05-20T19:14:13.470456Z"
    }
   },
   "cell_type": "code",
   "source": [
    "# save large tiles\n",
    "Image.fromarray(imH).save(os.path.join(outpthbg, f\"HE_tile_{nm1}.jpg\"))\n",
    "Image.fromarray(imT).save(os.path.join(outpthbg, f\"label_tile_{nm1}.jpg\"))"
   ],
   "id": "bffc87df529d9f05",
   "outputs": [],
   "execution_count": 96
  },
  {
   "metadata": {
    "ExecuteTime": {
     "end_time": "2024-05-20T19:11:42.664927Z",
     "start_time": "2024-05-20T19:11:42.653925Z"
    }
   },
   "cell_type": "code",
   "source": "print(os.path.join(outpthim, f\"{nm0}.tif\"))\n",
   "id": "26982ff33f9703a9",
   "outputs": [
    {
     "name": "stdout",
     "output_type": "stream",
     "text": [
      "\\\\10.99.68.52\\Kiemendata\\Valentina Matos\\coda to python\\test model\\04_19_2024\\training\\im/101.tif\n"
     ]
    }
   ],
   "execution_count": 94
  },
  {
   "metadata": {
    "ExecuteTime": {
     "end_time": "2024-05-16T18:06:05.968442Z",
     "start_time": "2024-05-16T18:06:05.242055Z"
    }
   },
   "cell_type": "code",
   "source": "%reset",
   "id": "5bc162b3d90d9316",
   "outputs": [],
   "execution_count": 8
  },
  {
   "metadata": {
    "ExecuteTime": {
     "end_time": "2024-05-16T15:49:27.888535Z",
     "start_time": "2024-05-16T15:49:27.874536Z"
    }
   },
   "cell_type": "code",
   "source": [
    "with open(datafile, 'rb') as f:\n",
    "    data = pickle.load(f)\n",
    "pth = data['pthim']\n",
    "print(pth)"
   ],
   "id": "e76421407f45425f",
   "outputs": [
    {
     "name": "stdout",
     "output_type": "stream",
     "text": [
      "\\\\10.99.68.52\\Kiemendata\\Valentina Matos\\coda to python\\test model\\5x\n"
     ]
    }
   ],
   "execution_count": 109
  },
  {
   "metadata": {
    "ExecuteTime": {
     "end_time": "2024-05-20T16:15:01.012178Z",
     "start_time": "2024-05-20T16:14:59.100871Z"
    }
   },
   "cell_type": "code",
   "source": "%reset",
   "id": "58301141ab179c74",
   "outputs": [],
   "execution_count": 33
  },
  {
   "metadata": {
    "ExecuteTime": {
     "end_time": "2024-05-21T17:43:33.258351Z",
     "start_time": "2024-05-21T17:43:33.246351Z"
    }
   },
   "cell_type": "code",
   "source": [
    "\n",
    "for count in range(100):\n",
    "    rem = count % 10\n",
    "    print(f'{count} {rem+1}')"
   ],
   "id": "46d6ba0c95b2653f",
   "outputs": [
    {
     "name": "stdout",
     "output_type": "stream",
     "text": [
      "0 1\n",
      "1 2\n",
      "2 3\n",
      "3 4\n",
      "4 5\n",
      "5 6\n",
      "6 7\n",
      "7 8\n",
      "8 9\n",
      "9 10\n",
      "10 1\n",
      "11 2\n",
      "12 3\n",
      "13 4\n",
      "14 5\n",
      "15 6\n",
      "16 7\n",
      "17 8\n",
      "18 9\n",
      "19 10\n",
      "20 1\n",
      "21 2\n",
      "22 3\n",
      "23 4\n",
      "24 5\n",
      "25 6\n",
      "26 7\n",
      "27 8\n",
      "28 9\n",
      "29 10\n",
      "30 1\n",
      "31 2\n",
      "32 3\n",
      "33 4\n",
      "34 5\n",
      "35 6\n",
      "36 7\n",
      "37 8\n",
      "38 9\n",
      "39 10\n",
      "40 1\n",
      "41 2\n",
      "42 3\n",
      "43 4\n",
      "44 5\n",
      "45 6\n",
      "46 7\n",
      "47 8\n",
      "48 9\n",
      "49 10\n",
      "50 1\n",
      "51 2\n",
      "52 3\n",
      "53 4\n",
      "54 5\n",
      "55 6\n",
      "56 7\n",
      "57 8\n",
      "58 9\n",
      "59 10\n",
      "60 1\n",
      "61 2\n",
      "62 3\n",
      "63 4\n",
      "64 5\n",
      "65 6\n",
      "66 7\n",
      "67 8\n",
      "68 9\n",
      "69 10\n",
      "70 1\n",
      "71 2\n",
      "72 3\n",
      "73 4\n",
      "74 5\n",
      "75 6\n",
      "76 7\n",
      "77 8\n",
      "78 9\n",
      "79 10\n",
      "80 1\n",
      "81 2\n",
      "82 3\n",
      "83 4\n",
      "84 5\n",
      "85 6\n",
      "86 7\n",
      "87 8\n",
      "88 9\n",
      "89 10\n",
      "90 1\n",
      "91 2\n",
      "92 3\n",
      "93 4\n",
      "94 5\n",
      "95 6\n",
      "96 7\n",
      "97 8\n",
      "98 9\n",
      "99 10\n"
     ]
    }
   ],
   "execution_count": 2
  },
  {
   "metadata": {},
   "cell_type": "code",
   "outputs": [],
   "execution_count": null,
   "source": "",
   "id": "24abfc7523a287e6"
  }
 ],
 "metadata": {
  "kernelspec": {
   "display_name": "Python 3",
   "language": "python",
   "name": "python3"
  },
  "language_info": {
   "codemirror_mode": {
    "name": "ipython",
    "version": 2
   },
   "file_extension": ".py",
   "mimetype": "text/x-python",
   "name": "python",
   "nbconvert_exporter": "python",
   "pygments_lexer": "ipython2",
   "version": "2.7.6"
  }
 },
 "nbformat": 4,
 "nbformat_minor": 5
}
