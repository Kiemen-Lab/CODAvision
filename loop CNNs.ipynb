{
 "cells": [
  {
   "cell_type": "code",
   "id": "initial_id",
   "metadata": {
    "collapsed": true,
    "ExecuteTime": {
     "end_time": "2025-02-19T16:26:49.652642Z",
     "start_time": "2025-02-19T16:26:44.585432Z"
    }
   },
   "source": [
    "import os\n",
    "import numpy as np\n",
    "from base import *"
   ],
   "outputs": [],
   "execution_count": 1
  },
  {
   "metadata": {
    "ExecuteTime": {
     "end_time": "2025-02-19T16:26:49.684290Z",
     "start_time": "2025-02-19T16:26:49.652642Z"
    }
   },
   "cell_type": "code",
   "source": [
    "pth = r'\\\\10.99.134.183\\kiemen-lab-data\\DSAI\\liver tissue data'\n",
    "pthim = os.path.join(pth, '10x')\n",
    "umpix = 1\n",
    "pthtest = os.path.join(pth, 'testing image')\n",
    "pthtestim = os.path.join(pthtest, '10x')\n",
    "nm = 'Valentina_02_14_2024'\n",
    "resolution = '10x'\n",
    "\n",
    "WS = [[0, 0, 0, 0, 0, 0, 2], [7, 6], \n",
    "      [1, 2, 3, 4, 5, 6, 7], \n",
    "      [4, 6, 2, 3, 5, 1, 7], []]\n",
    "\n",
    "numclass = max(WS[2])\n",
    "sxy = 1024\n",
    "pthDL = os.path.join(pth, nm)\n",
    "nblack = numclass + 1\n",
    "nwhite = WS[1][0]\n",
    "cmap = np.array([[230, 190, 100],\n",
    "                  [65, 155, 210],\n",
    "                  [145, 35, 35],\n",
    "                  [158, 24, 118],\n",
    "                  [30, 50, 50],\n",
    "                  [235, 188, 215],\n",
    "                  [255, 255, 255]])\n",
    "classNames = ['PDAC', 'bile duct', 'vasculature', 'hepatocyte','immune','stroma','whitespace']\n",
    "classCheck = []\n",
    "ntrain = 15\n",
    "nvalidate = np.ceil(ntrain/5)\n",
    "nTA = 2"
   ],
   "id": "56b6378e22a9fe09",
   "outputs": [],
   "execution_count": 2
  },
  {
   "metadata": {},
   "cell_type": "code",
   "source": [
    "CNNs = [\"DeepLabV3_plus\"]\n",
    "\n",
    "#Train test and classify an image for each CNN\n",
    "for cnn_name in CNNs:\n",
    "    print(f'______________{cnn_name}_______________')\n",
    "    save_model_metadata_GUI(pthDL, pthim,pthtest, WS, nm, umpix, cmap, sxy, classNames, ntrain, nvalidate, nTA = 3,final_df = None, combined_df = None, model_type=cnn_name, batch_size=3)\n",
    "    train_segmentation_model_cnns(pthDL)\n",
    "    test_segmentation_model(pthDL,pthtest, pthtestim, cnn_name)\n",
    "    # classify_images(pthim,pthDL, cnn_name)\n",
    "    print(f'__________________________________________')"
   ],
   "id": "46cc8813f7931e20",
   "outputs": [],
   "execution_count": null
  }
 ],
 "metadata": {
  "kernelspec": {
   "display_name": "Python 3",
   "language": "python",
   "name": "python3"
  },
  "language_info": {
   "codemirror_mode": {
    "name": "ipython",
    "version": 2
   },
   "file_extension": ".py",
   "mimetype": "text/x-python",
   "name": "python",
   "nbconvert_exporter": "python",
   "pygments_lexer": "ipython2",
   "version": "2.7.6"
  }
 },
 "nbformat": 4,
 "nbformat_minor": 5
}
