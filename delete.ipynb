{
 "cells": [
  {
   "cell_type": "code",
   "id": "initial_id",
   "metadata": {
    "collapsed": true,
    "ExecuteTime": {
     "end_time": "2024-10-15T15:59:46.972996Z",
     "start_time": "2024-10-15T15:59:46.885604Z"
    }
   },
   "source": [
    "import os\n",
    "import pickle\n",
    "\n",
    "pthDL = r'\\\\10.99.68.52\\Kiemendata\\Valentina Matos\\Dashboard Project\\Test\\10_15_2024'\n",
    "with open(os.path.join(pthDL,'net.pkl'), 'rb') as f:\n",
    "    data = pickle.load(f)\n",
    "\n",
    "print(data)"
   ],
   "outputs": [
    {
     "name": "stdout",
     "output_type": "stream",
     "text": [
      "{'pthim': '//10.99.68.52/Kiemendata/Valentina Matos/Dashboard Project/Test\\\\5x', 'pthDL': '//10.99.68.52/Kiemendata/Valentina Matos/Dashboard Project/Test\\\\10_15_2024', 'WS': [[2, 0, 0, 1, 0, 0, 0, 0, 0, 2, 2, 0, 0, 0], [7, 6], [1, 2, 3, 4, 5, 6, 7, 8, 7, 9, 10, 8, 11, 1], [6, 5, 13, 11, 10, 12, 8, 4, 3, 2, 1, 9, 7], [14]], 'nm': '10_15_2024', 'umpix': 2, 'cmap': array([[  0, 255, 255],\n",
      "       [  0,   0, 127],\n",
      "       [170, 255, 127],\n",
      "       [255, 255, 127],\n",
      "       [170,   0, 127],\n",
      "       [255, 170, 255],\n",
      "       [255, 255, 255],\n",
      "       [ 85,   0,   0],\n",
      "       [ 85,  85, 127],\n",
      "       [  0,   0,   0],\n",
      "       [255, 211,  33]]), 'sxy': 512, 'classNames': ['islets', 'normal duct', 'blood vessel', 'fat', 'acini', 'ecm', 'noise_combo', 'panincombo', 'nerve', 'immune', 'PDAC', 'black'], 'ntrain': 15, 'nblack': 12, 'nwhite': 7, 'final_df':       Layer Name           Color Whitespace Settings  Delete layer  \\\n",
      "0         islets     (0, 255, 0)                   2         False   \n",
      "1    normal duct   (255, 255, 0)                   0         False   \n",
      "2   blood vessel     (255, 0, 0)                   0         False   \n",
      "3            fat   (0, 255, 255)                   1         False   \n",
      "4          acini   (255, 0, 255)                   0         False   \n",
      "5            ecm  (255, 128, 64)                   0         False   \n",
      "6     whitespace     (0, 0, 255)                   0         False   \n",
      "7          panin   (255, 0, 128)                   0         False   \n",
      "8          noise  (64, 128, 128)                   0         False   \n",
      "9          nerve   (128, 0, 255)                   2         False   \n",
      "10        immune   (0, 128, 255)                   2         False   \n",
      "11      HG panin   (128, 0, 128)                   0         False   \n",
      "12          PDAC     (64, 0, 64)                   0         False   \n",
      "13         weird     (255, 0, 0)                   0          True   \n",
      "\n",
      "    Combined layers  Nesting  Component analysis  \n",
      "0                 1        7               False  \n",
      "1                 2        9               False  \n",
      "2                 3        1               False  \n",
      "3                 4        2               False  \n",
      "4                 5        3               False  \n",
      "5                 6        4               False  \n",
      "6                 7        8               False  \n",
      "7                 8       12               False  \n",
      "8                 7       10               False  \n",
      "9                 9       11                True  \n",
      "10               10       13                True  \n",
      "11                8        5               False  \n",
      "12               11        6                True  \n",
      "13               12       14               False  , 'combined_df':       Layer Name            Color Whitespace Settings Layer idx Delete layer  \\\n",
      "0         islets    (0, 255, 255)                   2         1        False   \n",
      "1    normal duct      (0, 0, 127)                   0         2        False   \n",
      "2   blood vessel  (170, 255, 127)                   0         3        False   \n",
      "3            fat  (255, 255, 127)                   1         4        False   \n",
      "4          acini    (170, 0, 127)                   0         5        False   \n",
      "5            ecm  (255, 170, 255)                   0         6        False   \n",
      "6    noise_combo  (255, 255, 255)                   0    [7, 9]          NaN   \n",
      "7     panincombo       (85, 0, 0)                   0   [8, 12]          NaN   \n",
      "8          nerve    (85, 85, 127)                   2        10        False   \n",
      "9         immune        (0, 0, 0)                   2        11        False   \n",
      "10          PDAC   (255, 211, 33)                   0        13        False   \n",
      "11         weird      (255, 0, 0)                   0        14        False   \n",
      "\n",
      "    Deleted  \n",
      "0     False  \n",
      "1     False  \n",
      "2     False  \n",
      "3     False  \n",
      "4     False  \n",
      "5     False  \n",
      "6     False  \n",
      "7     False  \n",
      "8     False  \n",
      "9     False  \n",
      "10    False  \n",
      "11     True  , 'nvalidate': 2}\n"
     ]
    }
   ],
   "execution_count": 9
  },
  {
   "metadata": {},
   "cell_type": "code",
   "outputs": [],
   "execution_count": null,
   "source": "",
   "id": "6aa0042c08df4bfa"
  }
 ],
 "metadata": {
  "kernelspec": {
   "display_name": "Python 3",
   "language": "python",
   "name": "python3"
  },
  "language_info": {
   "codemirror_mode": {
    "name": "ipython",
    "version": 2
   },
   "file_extension": ".py",
   "mimetype": "text/x-python",
   "name": "python",
   "nbconvert_exporter": "python",
   "pygments_lexer": "ipython2",
   "version": "2.7.6"
  }
 },
 "nbformat": 4,
 "nbformat_minor": 5
}
