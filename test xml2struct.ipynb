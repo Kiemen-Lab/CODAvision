{
 "cells": [
  {
   "cell_type": "code",
   "id": "initial_id",
   "metadata": {
    "collapsed": true,
    "ExecuteTime": {
     "end_time": "2024-04-12T19:03:53.827832Z",
     "start_time": "2024-04-12T19:03:53.182341Z"
    }
   },
   "source": [
    "# Import the required modules \n",
    "import xmltodict \n",
    "import pandas as pd"
   ],
   "outputs": [],
   "execution_count": 39
  },
  {
   "metadata": {
    "ExecuteTime": {
     "end_time": "2024-04-12T13:51:25.366793Z",
     "start_time": "2024-04-12T13:51:25.321195Z"
    }
   },
   "cell_type": "code",
   "source": [
    "xml_file = r'\\\\10.99.68.52\\Kiemendata\\Valentina Matos\\coda to python\\test model\\SG_013_0061.xml'\n",
    "# Open the file and read the contents \n",
    "with open(xml_file, 'r', encoding='utf-8') as file: \n",
    "\tmy_xml = file.read() \n",
    "# Use xmltodict to parse teh xml document\n",
    "my_dict = xmltodict.parse(my_xml) "
   ],
   "id": "9b60cc0a733905c1",
   "outputs": [],
   "execution_count": 2
  },
  {
   "metadata": {
    "ExecuteTime": {
     "end_time": "2024-04-12T13:51:26.143768Z",
     "start_time": "2024-04-12T13:51:26.126770Z"
    }
   },
   "cell_type": "code",
   "source": [
    "# Get the number of keys in the dictionary\n",
    "num_keys = len(my_dict)\n",
    "print(f\"The dictionary has {num_keys} keys.\")\n",
    "\n",
    "# Print the keys\n",
    "print(\"The keys are:\")\n",
    "for key in my_dict:\n",
    "    print(key)"
   ],
   "id": "28e1de179f94feda",
   "outputs": [
    {
     "name": "stdout",
     "output_type": "stream",
     "text": [
      "The dictionary has 1 keys.\n",
      "The keys are:\n",
      "Annotations\n"
     ]
    }
   ],
   "execution_count": 3
  },
  {
   "metadata": {
    "ExecuteTime": {
     "end_time": "2024-04-12T13:51:29.296322Z",
     "start_time": "2024-04-12T13:51:29.290322Z"
    }
   },
   "cell_type": "code",
   "source": [
    "my_dict2 = my_dict['Annotations']\n",
    "# Get the number of keys in the dictionary\n",
    "num_keys = len(my_dict2)\n",
    "print(f\"The dictionary has {num_keys} keys.\")\n",
    "\n",
    "# Print the keys\n",
    "print(\"The keys are:\")\n",
    "for key in my_dict2:\n",
    "    print(key)\n"
   ],
   "id": "b6800fae0f4b9f15",
   "outputs": [
    {
     "name": "stdout",
     "output_type": "stream",
     "text": [
      "The dictionary has 2 keys.\n",
      "The keys are:\n",
      "@MicronsPerPixel\n",
      "Annotation\n"
     ]
    }
   ],
   "execution_count": 4
  },
  {
   "metadata": {
    "ExecuteTime": {
     "end_time": "2024-04-12T13:51:30.018284Z",
     "start_time": "2024-04-12T13:51:30.004285Z"
    }
   },
   "cell_type": "code",
   "source": [
    "reduced_annotations = my_dict2['@MicronsPerPixel'] #microns perpixel\n",
    "print(reduced_annotations)"
   ],
   "id": "149884b3d48aead6",
   "outputs": [
    {
     "name": "stdout",
     "output_type": "stream",
     "text": [
      "0.441600\n"
     ]
    }
   ],
   "execution_count": 5
  },
  {
   "metadata": {
    "ExecuteTime": {
     "end_time": "2024-04-12T13:51:30.397629Z",
     "start_time": "2024-04-12T13:51:30.383631Z"
    }
   },
   "cell_type": "code",
   "source": [
    "#True annotations (They are a list)\n",
    "annotations = my_dict['Annotations']['Annotation']\n",
    "# Get the number of keys in the dictionary\n",
    "num_elements = len(annotations)\n",
    "print(f\"The list has {num_elements} elements.\")\n"
   ],
   "id": "535ba8d29aa6ff19",
   "outputs": [
    {
     "name": "stdout",
     "output_type": "stream",
     "text": [
      "The list has 14 elements.\n"
     ]
    }
   ],
   "execution_count": 6
  },
  {
   "metadata": {
    "ExecuteTime": {
     "end_time": "2024-04-12T18:45:12.087249Z",
     "start_time": "2024-04-12T18:45:12.077249Z"
    }
   },
   "cell_type": "code",
   "source": [
    "#Access the elements of the annotarions list (Accessing layer 1 specifically)\n",
    "# layer_1 = annotations[0]\n",
    "layer_1 = my_dict['Annotations']['Annotation'][2][\"Regions\"]\n",
    "keys_layer = layer_1.keys()\n",
    "if \"Region\" in my_dict[\"Annotations\"][\"Annotation\"][0][\"Regions\"]:\n",
    "    # Do something if the key 'region' is present in the dictionary\n",
    "    print(\"'Region' key exists.\")\n",
    "else:\n",
    "    # Do something else if the key 'region' is not present in the dictionary\n",
    "    print(\"'Region' key does not exist.\")\n"
   ],
   "id": "91d4dd030d14af3d",
   "outputs": [
    {
     "name": "stdout",
     "output_type": "stream",
     "text": [
      "'Region' key does not exist.\n"
     ]
    }
   ],
   "execution_count": 34
  },
  {
   "metadata": {
    "ExecuteTime": {
     "end_time": "2024-04-12T16:21:10.512980Z",
     "start_time": "2024-04-12T16:21:10.492974Z"
    }
   },
   "cell_type": "code",
   "source": [
    "layer = 1 #layer 2 in xml file\n",
    "annotation_list_index = 0 #to access info of a single annotation in a chosen layer\n",
    "\n",
    "annotation_id = float(my_dict[\"Annotations\"][\"Annotation\"][layer]['@Id'])\n",
    "annotation_number = float(my_dict[\"Annotations\"][\"Annotation\"][layer][\"Regions\"][\"Region\"][annotation_list_index]['@Id'])\n",
    "\n",
    "vertex_number = 0 #1st vertex of chosen annotation\n",
    "x = float(my_dict[\"Annotations\"][\"Annotation\"][layer][\"Regions\"][\"Region\"][annotation_list_index][\"Vertices\"][\"Vertex\"][vertex_number][\"@X\"])\n",
    "y = float(my_dict[\"Annotations\"][\"Annotation\"][layer][\"Regions\"][\"Region\"][annotation_list_index][\"Vertices\"][\"Vertex\"][vertex_number][\"@Y\"])\n",
    "xyout = []\n",
    "xyout.append([annotation_id, annotation_number, x, y])\n",
    "print(xyout)"
   ],
   "id": "972375d3766443c7",
   "outputs": [
    {
     "name": "stdout",
     "output_type": "stream",
     "text": [
      "[[2.0, 1.0, 17371.0, 17675.0]]\n"
     ]
    }
   ],
   "execution_count": 19
  },
  {
   "metadata": {
    "ExecuteTime": {
     "end_time": "2024-04-12T19:03:58.613411Z",
     "start_time": "2024-04-12T19:03:58.387994Z"
    }
   },
   "cell_type": "code",
   "source": [
    "xyout = []\n",
    "for layer in range(len(my_dict[\"Annotations\"][\"Annotation\"])):\n",
    "    # Check if there are annotations in the current layer\n",
    "    if 'Region' in my_dict[\"Annotations\"][\"Annotation\"][layer][\"Regions\"]:\n",
    "        annotation_id = float(my_dict[\"Annotations\"][\"Annotation\"][layer]['@Id'])\n",
    "        annotations = my_dict[\"Annotations\"][\"Annotation\"][layer][\"Regions\"][\"Region\"]\n",
    "        for annotation_list_index in range(len(annotations)):\n",
    "            annotation_number = float(my_dict[\"Annotations\"][\"Annotation\"][layer][\"Regions\"][\"Region\"][annotation_list_index]['@Id'])\n",
    "            for vertex_idx in range(len(annotations[annotation_list_index]['Vertices'][\"Vertex\"])):\n",
    "                x = float(my_dict[\"Annotations\"][\"Annotation\"][layer][\"Regions\"][\"Region\"][annotation_list_index][\"Vertices\"][\"Vertex\"][vertex_idx][\"@X\"])\n",
    "                y = float(my_dict[\"Annotations\"][\"Annotation\"][layer][\"Regions\"][\"Region\"][annotation_list_index][\"Vertices\"][\"Vertex\"][vertex_idx][\"@Y\"])\n",
    "                xyout.append([annotation_id, annotation_number, x, y])\n",
    "\n",
    "xyout_df = pd.DataFrame(xyout, columns=['Annotation Id', 'Annotation Number', 'X vertex', 'Y vertex'])\n",
    "xyout_df"
   ],
   "id": "5ae2c8ff22b5b1c2",
   "outputs": [
    {
     "data": {
      "text/plain": [
       "      Annotation Id  Annotation Number  X vertex  Y vertex\n",
       "0               2.0                1.0   17371.0   17675.0\n",
       "1               2.0                1.0   17371.0   17676.0\n",
       "2               2.0                1.0   17370.0   17676.0\n",
       "3               2.0                1.0   17369.0   17678.0\n",
       "4               2.0                1.0   17368.0   17678.0\n",
       "...             ...                ...       ...       ...\n",
       "3556            3.0                2.0   12395.0   10319.0\n",
       "3557            3.0                2.0   12397.0   10317.0\n",
       "3558            3.0                2.0   12398.0   10315.0\n",
       "3559            3.0                2.0   12399.0   10314.0\n",
       "3560            3.0                2.0   12399.0   10315.0\n",
       "\n",
       "[3561 rows x 4 columns]"
      ],
      "text/html": [
       "<div>\n",
       "<style scoped>\n",
       "    .dataframe tbody tr th:only-of-type {\n",
       "        vertical-align: middle;\n",
       "    }\n",
       "\n",
       "    .dataframe tbody tr th {\n",
       "        vertical-align: top;\n",
       "    }\n",
       "\n",
       "    .dataframe thead th {\n",
       "        text-align: right;\n",
       "    }\n",
       "</style>\n",
       "<table border=\"1\" class=\"dataframe\">\n",
       "  <thead>\n",
       "    <tr style=\"text-align: right;\">\n",
       "      <th></th>\n",
       "      <th>Annotation Id</th>\n",
       "      <th>Annotation Number</th>\n",
       "      <th>X vertex</th>\n",
       "      <th>Y vertex</th>\n",
       "    </tr>\n",
       "  </thead>\n",
       "  <tbody>\n",
       "    <tr>\n",
       "      <th>0</th>\n",
       "      <td>2.0</td>\n",
       "      <td>1.0</td>\n",
       "      <td>17371.0</td>\n",
       "      <td>17675.0</td>\n",
       "    </tr>\n",
       "    <tr>\n",
       "      <th>1</th>\n",
       "      <td>2.0</td>\n",
       "      <td>1.0</td>\n",
       "      <td>17371.0</td>\n",
       "      <td>17676.0</td>\n",
       "    </tr>\n",
       "    <tr>\n",
       "      <th>2</th>\n",
       "      <td>2.0</td>\n",
       "      <td>1.0</td>\n",
       "      <td>17370.0</td>\n",
       "      <td>17676.0</td>\n",
       "    </tr>\n",
       "    <tr>\n",
       "      <th>3</th>\n",
       "      <td>2.0</td>\n",
       "      <td>1.0</td>\n",
       "      <td>17369.0</td>\n",
       "      <td>17678.0</td>\n",
       "    </tr>\n",
       "    <tr>\n",
       "      <th>4</th>\n",
       "      <td>2.0</td>\n",
       "      <td>1.0</td>\n",
       "      <td>17368.0</td>\n",
       "      <td>17678.0</td>\n",
       "    </tr>\n",
       "    <tr>\n",
       "      <th>...</th>\n",
       "      <td>...</td>\n",
       "      <td>...</td>\n",
       "      <td>...</td>\n",
       "      <td>...</td>\n",
       "    </tr>\n",
       "    <tr>\n",
       "      <th>3556</th>\n",
       "      <td>3.0</td>\n",
       "      <td>2.0</td>\n",
       "      <td>12395.0</td>\n",
       "      <td>10319.0</td>\n",
       "    </tr>\n",
       "    <tr>\n",
       "      <th>3557</th>\n",
       "      <td>3.0</td>\n",
       "      <td>2.0</td>\n",
       "      <td>12397.0</td>\n",
       "      <td>10317.0</td>\n",
       "    </tr>\n",
       "    <tr>\n",
       "      <th>3558</th>\n",
       "      <td>3.0</td>\n",
       "      <td>2.0</td>\n",
       "      <td>12398.0</td>\n",
       "      <td>10315.0</td>\n",
       "    </tr>\n",
       "    <tr>\n",
       "      <th>3559</th>\n",
       "      <td>3.0</td>\n",
       "      <td>2.0</td>\n",
       "      <td>12399.0</td>\n",
       "      <td>10314.0</td>\n",
       "    </tr>\n",
       "    <tr>\n",
       "      <th>3560</th>\n",
       "      <td>3.0</td>\n",
       "      <td>2.0</td>\n",
       "      <td>12399.0</td>\n",
       "      <td>10315.0</td>\n",
       "    </tr>\n",
       "  </tbody>\n",
       "</table>\n",
       "<p>3561 rows × 4 columns</p>\n",
       "</div>"
      ]
     },
     "execution_count": 40,
     "metadata": {},
     "output_type": "execute_result"
    }
   ],
   "execution_count": 40
  },
  {
   "metadata": {
    "ExecuteTime": {
     "end_time": "2024-04-12T19:22:18.461051Z",
     "start_time": "2024-04-12T19:22:18.443571Z"
    }
   },
   "cell_type": "code",
   "source": [
    "def load_annotaions(my_dict):\n",
    "    xyout = []\n",
    "    reduced_annotations = my_dict['Annotations']['@MicronsPerPixel']\n",
    "    for layer in range(len(my_dict[\"Annotations\"][\"Annotation\"])):\n",
    "        # Check if there are annotations in the current layer\n",
    "        if 'Region' in my_dict[\"Annotations\"][\"Annotation\"][layer][\"Regions\"]:\n",
    "            annotation_id = float(my_dict[\"Annotations\"][\"Annotation\"][layer]['@Id'])\n",
    "            annotations = my_dict[\"Annotations\"][\"Annotation\"][layer][\"Regions\"][\"Region\"]\n",
    "            for annotation_list_index in range(len(annotations)):\n",
    "                annotation_number = float(my_dict[\"Annotations\"][\"Annotation\"][layer][\"Regions\"][\"Region\"][annotation_list_index]['@Id'])\n",
    "                for vertex_idx in range(len(annotations[annotation_list_index]['Vertices'][\"Vertex\"])):\n",
    "                    x = float(my_dict[\"Annotations\"][\"Annotation\"][layer][\"Regions\"][\"Region\"][annotation_list_index][\"Vertices\"][\"Vertex\"][vertex_idx][\"@X\"])\n",
    "                    y = float(my_dict[\"Annotations\"][\"Annotation\"][layer][\"Regions\"][\"Region\"][annotation_list_index][\"Vertices\"][\"Vertex\"][vertex_idx][\"@Y\"])\n",
    "                    xyout.append([annotation_id, annotation_number, x, y])\n",
    "\n",
    "    xyout_df = pd.DataFrame(xyout, columns=['Annotation Id', 'Annotation Number', 'X vertex', 'Y vertex'])\n",
    "    return reduced_annotations, xyout_df\n"
   ],
   "id": "56c0ea92627783d8",
   "outputs": [],
   "execution_count": 42
  },
  {
   "metadata": {
    "ExecuteTime": {
     "end_time": "2024-04-12T19:23:22.822689Z",
     "start_time": "2024-04-12T19:23:22.799691Z"
    }
   },
   "cell_type": "code",
   "source": [
    "reduced_annotations, xyout_df = load_annotaions(my_dict)\n",
    "print(reduced_annotations)\n",
    "xyout_df"
   ],
   "id": "178979fc70d98e81",
   "outputs": [
    {
     "name": "stdout",
     "output_type": "stream",
     "text": [
      "0.441600\n"
     ]
    },
    {
     "data": {
      "text/plain": [
       "      Annotation Id  Annotation Number  X vertex  Y vertex\n",
       "0               2.0                1.0   17371.0   17675.0\n",
       "1               2.0                1.0   17371.0   17676.0\n",
       "2               2.0                1.0   17370.0   17676.0\n",
       "3               2.0                1.0   17369.0   17678.0\n",
       "4               2.0                1.0   17368.0   17678.0\n",
       "...             ...                ...       ...       ...\n",
       "3556            3.0                2.0   12395.0   10319.0\n",
       "3557            3.0                2.0   12397.0   10317.0\n",
       "3558            3.0                2.0   12398.0   10315.0\n",
       "3559            3.0                2.0   12399.0   10314.0\n",
       "3560            3.0                2.0   12399.0   10315.0\n",
       "\n",
       "[3561 rows x 4 columns]"
      ],
      "text/html": [
       "<div>\n",
       "<style scoped>\n",
       "    .dataframe tbody tr th:only-of-type {\n",
       "        vertical-align: middle;\n",
       "    }\n",
       "\n",
       "    .dataframe tbody tr th {\n",
       "        vertical-align: top;\n",
       "    }\n",
       "\n",
       "    .dataframe thead th {\n",
       "        text-align: right;\n",
       "    }\n",
       "</style>\n",
       "<table border=\"1\" class=\"dataframe\">\n",
       "  <thead>\n",
       "    <tr style=\"text-align: right;\">\n",
       "      <th></th>\n",
       "      <th>Annotation Id</th>\n",
       "      <th>Annotation Number</th>\n",
       "      <th>X vertex</th>\n",
       "      <th>Y vertex</th>\n",
       "    </tr>\n",
       "  </thead>\n",
       "  <tbody>\n",
       "    <tr>\n",
       "      <th>0</th>\n",
       "      <td>2.0</td>\n",
       "      <td>1.0</td>\n",
       "      <td>17371.0</td>\n",
       "      <td>17675.0</td>\n",
       "    </tr>\n",
       "    <tr>\n",
       "      <th>1</th>\n",
       "      <td>2.0</td>\n",
       "      <td>1.0</td>\n",
       "      <td>17371.0</td>\n",
       "      <td>17676.0</td>\n",
       "    </tr>\n",
       "    <tr>\n",
       "      <th>2</th>\n",
       "      <td>2.0</td>\n",
       "      <td>1.0</td>\n",
       "      <td>17370.0</td>\n",
       "      <td>17676.0</td>\n",
       "    </tr>\n",
       "    <tr>\n",
       "      <th>3</th>\n",
       "      <td>2.0</td>\n",
       "      <td>1.0</td>\n",
       "      <td>17369.0</td>\n",
       "      <td>17678.0</td>\n",
       "    </tr>\n",
       "    <tr>\n",
       "      <th>4</th>\n",
       "      <td>2.0</td>\n",
       "      <td>1.0</td>\n",
       "      <td>17368.0</td>\n",
       "      <td>17678.0</td>\n",
       "    </tr>\n",
       "    <tr>\n",
       "      <th>...</th>\n",
       "      <td>...</td>\n",
       "      <td>...</td>\n",
       "      <td>...</td>\n",
       "      <td>...</td>\n",
       "    </tr>\n",
       "    <tr>\n",
       "      <th>3556</th>\n",
       "      <td>3.0</td>\n",
       "      <td>2.0</td>\n",
       "      <td>12395.0</td>\n",
       "      <td>10319.0</td>\n",
       "    </tr>\n",
       "    <tr>\n",
       "      <th>3557</th>\n",
       "      <td>3.0</td>\n",
       "      <td>2.0</td>\n",
       "      <td>12397.0</td>\n",
       "      <td>10317.0</td>\n",
       "    </tr>\n",
       "    <tr>\n",
       "      <th>3558</th>\n",
       "      <td>3.0</td>\n",
       "      <td>2.0</td>\n",
       "      <td>12398.0</td>\n",
       "      <td>10315.0</td>\n",
       "    </tr>\n",
       "    <tr>\n",
       "      <th>3559</th>\n",
       "      <td>3.0</td>\n",
       "      <td>2.0</td>\n",
       "      <td>12399.0</td>\n",
       "      <td>10314.0</td>\n",
       "    </tr>\n",
       "    <tr>\n",
       "      <th>3560</th>\n",
       "      <td>3.0</td>\n",
       "      <td>2.0</td>\n",
       "      <td>12399.0</td>\n",
       "      <td>10315.0</td>\n",
       "    </tr>\n",
       "  </tbody>\n",
       "</table>\n",
       "<p>3561 rows × 4 columns</p>\n",
       "</div>"
      ]
     },
     "execution_count": 43,
     "metadata": {},
     "output_type": "execute_result"
    }
   ],
   "execution_count": 43
  },
  {
   "metadata": {
    "ExecuteTime": {
     "end_time": "2024-04-12T19:26:53.370570Z",
     "start_time": "2024-04-12T19:26:53.348665Z"
    }
   },
   "cell_type": "code",
   "source": [
    "def load_annotations(my_dict):\n",
    "    xyout = []\n",
    "    reduced_annotations = my_dict['Annotations'].get('@MicronsPerPixel')\n",
    "    \n",
    "    annotations = my_dict.get(\"Annotations\", {}).get(\"Annotation\", [])\n",
    "    for annotation in annotations:\n",
    "        if 'Region' in annotation.get(\"Regions\", {}):\n",
    "            annotation_id = float(annotation.get('@Id'))\n",
    "            regions = annotation[\"Regions\"][\"Region\"]\n",
    "            for region in regions:\n",
    "                annotation_number = float(region.get('@Id'))\n",
    "                vertices = region.get(\"Vertices\", {}).get(\"Vertex\", [])\n",
    "                for vertex in vertices:\n",
    "                    x = float(vertex.get('@X'))\n",
    "                    y = float(vertex.get('@Y'))\n",
    "                    xyout.append([annotation_id, annotation_number, x, y])\n",
    "\n",
    "    xyout_df = pd.DataFrame(xyout, columns=['Annotation Id', 'Annotation Number', 'X vertex', 'Y vertex'])\n",
    "    return reduced_annotations, xyout_df"
   ],
   "id": "3f45c3f6994333ec",
   "outputs": [],
   "execution_count": 44
  },
  {
   "metadata": {
    "ExecuteTime": {
     "end_time": "2024-04-12T19:26:54.302692Z",
     "start_time": "2024-04-12T19:26:54.281475Z"
    }
   },
   "cell_type": "code",
   "source": [
    "reduced_annotations, xyout_df = load_annotaions(my_dict)\n",
    "print(reduced_annotations)\n",
    "xyout_df"
   ],
   "id": "33a26de7f103f05",
   "outputs": [
    {
     "name": "stdout",
     "output_type": "stream",
     "text": [
      "0.441600\n"
     ]
    },
    {
     "data": {
      "text/plain": [
       "      Annotation Id  Annotation Number  X vertex  Y vertex\n",
       "0               2.0                1.0   17371.0   17675.0\n",
       "1               2.0                1.0   17371.0   17676.0\n",
       "2               2.0                1.0   17370.0   17676.0\n",
       "3               2.0                1.0   17369.0   17678.0\n",
       "4               2.0                1.0   17368.0   17678.0\n",
       "...             ...                ...       ...       ...\n",
       "3556            3.0                2.0   12395.0   10319.0\n",
       "3557            3.0                2.0   12397.0   10317.0\n",
       "3558            3.0                2.0   12398.0   10315.0\n",
       "3559            3.0                2.0   12399.0   10314.0\n",
       "3560            3.0                2.0   12399.0   10315.0\n",
       "\n",
       "[3561 rows x 4 columns]"
      ],
      "text/html": [
       "<div>\n",
       "<style scoped>\n",
       "    .dataframe tbody tr th:only-of-type {\n",
       "        vertical-align: middle;\n",
       "    }\n",
       "\n",
       "    .dataframe tbody tr th {\n",
       "        vertical-align: top;\n",
       "    }\n",
       "\n",
       "    .dataframe thead th {\n",
       "        text-align: right;\n",
       "    }\n",
       "</style>\n",
       "<table border=\"1\" class=\"dataframe\">\n",
       "  <thead>\n",
       "    <tr style=\"text-align: right;\">\n",
       "      <th></th>\n",
       "      <th>Annotation Id</th>\n",
       "      <th>Annotation Number</th>\n",
       "      <th>X vertex</th>\n",
       "      <th>Y vertex</th>\n",
       "    </tr>\n",
       "  </thead>\n",
       "  <tbody>\n",
       "    <tr>\n",
       "      <th>0</th>\n",
       "      <td>2.0</td>\n",
       "      <td>1.0</td>\n",
       "      <td>17371.0</td>\n",
       "      <td>17675.0</td>\n",
       "    </tr>\n",
       "    <tr>\n",
       "      <th>1</th>\n",
       "      <td>2.0</td>\n",
       "      <td>1.0</td>\n",
       "      <td>17371.0</td>\n",
       "      <td>17676.0</td>\n",
       "    </tr>\n",
       "    <tr>\n",
       "      <th>2</th>\n",
       "      <td>2.0</td>\n",
       "      <td>1.0</td>\n",
       "      <td>17370.0</td>\n",
       "      <td>17676.0</td>\n",
       "    </tr>\n",
       "    <tr>\n",
       "      <th>3</th>\n",
       "      <td>2.0</td>\n",
       "      <td>1.0</td>\n",
       "      <td>17369.0</td>\n",
       "      <td>17678.0</td>\n",
       "    </tr>\n",
       "    <tr>\n",
       "      <th>4</th>\n",
       "      <td>2.0</td>\n",
       "      <td>1.0</td>\n",
       "      <td>17368.0</td>\n",
       "      <td>17678.0</td>\n",
       "    </tr>\n",
       "    <tr>\n",
       "      <th>...</th>\n",
       "      <td>...</td>\n",
       "      <td>...</td>\n",
       "      <td>...</td>\n",
       "      <td>...</td>\n",
       "    </tr>\n",
       "    <tr>\n",
       "      <th>3556</th>\n",
       "      <td>3.0</td>\n",
       "      <td>2.0</td>\n",
       "      <td>12395.0</td>\n",
       "      <td>10319.0</td>\n",
       "    </tr>\n",
       "    <tr>\n",
       "      <th>3557</th>\n",
       "      <td>3.0</td>\n",
       "      <td>2.0</td>\n",
       "      <td>12397.0</td>\n",
       "      <td>10317.0</td>\n",
       "    </tr>\n",
       "    <tr>\n",
       "      <th>3558</th>\n",
       "      <td>3.0</td>\n",
       "      <td>2.0</td>\n",
       "      <td>12398.0</td>\n",
       "      <td>10315.0</td>\n",
       "    </tr>\n",
       "    <tr>\n",
       "      <th>3559</th>\n",
       "      <td>3.0</td>\n",
       "      <td>2.0</td>\n",
       "      <td>12399.0</td>\n",
       "      <td>10314.0</td>\n",
       "    </tr>\n",
       "    <tr>\n",
       "      <th>3560</th>\n",
       "      <td>3.0</td>\n",
       "      <td>2.0</td>\n",
       "      <td>12399.0</td>\n",
       "      <td>10315.0</td>\n",
       "    </tr>\n",
       "  </tbody>\n",
       "</table>\n",
       "<p>3561 rows × 4 columns</p>\n",
       "</div>"
      ]
     },
     "execution_count": 45,
     "metadata": {},
     "output_type": "execute_result"
    }
   ],
   "execution_count": 45
  },
  {
   "metadata": {},
   "cell_type": "code",
   "outputs": [],
   "execution_count": null,
   "source": "",
   "id": "4f7ce8648d610dff"
  }
 ],
 "metadata": {
  "kernelspec": {
   "display_name": "Python 3",
   "language": "python",
   "name": "python3"
  },
  "language_info": {
   "codemirror_mode": {
    "name": "ipython",
    "version": 2
   },
   "file_extension": ".py",
   "mimetype": "text/x-python",
   "name": "python",
   "nbconvert_exporter": "python",
   "pygments_lexer": "ipython2",
   "version": "2.7.6"
  }
 },
 "nbformat": 4,
 "nbformat_minor": 5
}
