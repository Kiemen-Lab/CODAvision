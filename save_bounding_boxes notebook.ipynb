{
 "cells": [
  {
   "cell_type": "code",
   "id": "initial_id",
   "metadata": {
    "collapsed": true,
    "ExecuteTime": {
     "end_time": "2024-04-29T20:07:59.591771Z",
     "start_time": "2024-04-29T20:07:59.573801Z"
    }
   },
   "source": [
    "import numpy as np\n",
    "from calculate_tissue_mask import calculate_tissue_mask \n",
    "import pickle\n",
    "from PIL import Image\n",
    "# Disable the maximum image pixel check\n",
    "Image.MAX_IMAGE_PIXELS = None\n"
   ],
   "outputs": [],
   "execution_count": 46
  },
  {
   "metadata": {
    "ExecuteTime": {
     "end_time": "2024-04-29T20:08:00.045406Z",
     "start_time": "2024-04-29T20:08:00.004402Z"
    }
   },
   "cell_type": "code",
   "source": [
    "#Load WS (example)\n",
    "datafile = r'\\\\10.99.68.52\\Kiemendata\\Valentina Matos\\coda to python\\test model\\04_19_2024\\net.pkl'\n",
    "with open(datafile, 'rb') as f:\n",
    "    data = pickle.load(f)\n",
    "WS = data['WS']\n",
    "print(f'WS: {WS}')"
   ],
   "id": "76848410b13fec07",
   "outputs": [
    {
     "name": "stdout",
     "output_type": "stream",
     "text": [
      "WS: [[2, 0, 0, 1, 0, 0, 2, 0, 2, 2, 2, 0, 0], [7, 6], [1, 2, 3, 4, 5, 6, 7, 8, 7, 9, 10, 8, 11], [6, 5, 4, 11, 1, 2, 3, 8, 10, 12, 13, 7, 9], []]\n"
     ]
    }
   ],
   "execution_count": 47
  },
  {
   "metadata": {
    "ExecuteTime": {
     "end_time": "2024-04-29T20:08:18.068602Z",
     "start_time": "2024-04-29T20:08:01.416545Z"
    }
   },
   "cell_type": "code",
   "source": [
    "#inputs\n",
    "imnm = 'SG_013_0061'\n",
    "pth = r'\\\\10.99.68.52\\Kiemendata\\Valentina Matos\\coda to python\\test model\\5x'\n",
    "I0, TA, _ = calculate_tissue_mask(pth, imnm) \n",
    "model_name = '02_23_2024'\n",
    "numclass=max(WS[3])\n",
    "print(f'numclass: {numclass}')"
   ],
   "id": "7b863ffcfb106856",
   "outputs": [
    {
     "name": "stdout",
     "output_type": "stream",
     "text": [
      "Existing TA loaded\n",
      "numclass: 13\n"
     ]
    }
   ],
   "execution_count": 48
  },
  {
   "metadata": {
    "ExecuteTime": {
     "end_time": "2024-04-29T20:08:24.222417Z",
     "start_time": "2024-04-29T20:08:24.218415Z"
    }
   },
   "cell_type": "code",
   "source": [
    "#________________________Start of the function___________________\n",
    "import os\n",
    "from PIL import Image\n",
    "import numpy as np\n",
    "from skimage import morphology, measure\n",
    "from scipy import ndimage\n",
    "from skimage.measure import label\n"
   ],
   "id": "ddfb21708f254c82",
   "outputs": [],
   "execution_count": 49
  },
  {
   "metadata": {
    "ExecuteTime": {
     "end_time": "2024-04-29T20:08:26.799994Z",
     "start_time": "2024-04-29T20:08:26.785441Z"
    }
   },
   "cell_type": "code",
   "source": [
    "#Should be part of load_annotation_data:\n",
    "pth = r'\\\\10.99.68.52\\Kiemendata\\Valentina Matos\\coda to python\\test model'\n",
    "outpth = os.path.join(pth,'data',imnm,'')\n",
    "print(f'outpth: {outpth}')\n"
   ],
   "id": "e1236a6e7b3318a8",
   "outputs": [
    {
     "name": "stdout",
     "output_type": "stream",
     "text": [
      "outpth: \\\\10.99.68.52\\Kiemendata\\Valentina Matos\\coda to python\\test model\\data\\SG_013_0061\\\n"
     ]
    }
   ],
   "execution_count": 50
  },
  {
   "metadata": {
    "ExecuteTime": {
     "end_time": "2024-04-29T20:09:07.595637Z",
     "start_time": "2024-04-29T20:09:07.245211Z"
    }
   },
   "cell_type": "code",
   "source": [
    "print('4. of 4. Creating bounding box tiles of all annotations')\n",
    "try:\n",
    "    imlabel = np.array(Image.open(os.path.join(outpth, 'view_annotations.tif')))\n",
    "except:\n",
    "    imlabel = np.array(Image.open(os.path.join(outpth, 'view_annotations_raw.tif')))"
   ],
   "id": "b1346c45da5619a3",
   "outputs": [
    {
     "name": "stdout",
     "output_type": "stream",
     "text": [
      "4. of 4. Creating bounding box tiles of all annotations\n"
     ]
    }
   ],
   "execution_count": 52
  },
  {
   "metadata": {
    "ExecuteTime": {
     "end_time": "2024-04-29T20:45:55.257283Z",
     "start_time": "2024-04-29T20:45:55.222434Z"
    }
   },
   "cell_type": "code",
   "source": [
    "# Create directories:\n",
    "pthbb = os.path.join(outpth, model_name + '_boundbox')\n",
    "pthim = os.path.join(pthbb, 'im')\n",
    "pthlabel = os.path.join(pthbb, 'label')\n",
    "\n",
    "if os.path.isdir(pthim):\n",
    "    os.rmdir(pthim)\n",
    "if os.path.isdir(pthlabel):\n",
    "    os.rmdir(pthlabel)\n",
    "\n",
    "os.makedirs(pthim)\n",
    "os.makedirs(pthlabel)"
   ],
   "id": "f2bdcdda934d2b20",
   "outputs": [],
   "execution_count": 66
  },
  {
   "metadata": {
    "ExecuteTime": {
     "end_time": "2024-04-29T20:46:27.767048Z",
     "start_time": "2024-04-29T20:45:56.168662Z"
    }
   },
   "cell_type": "code",
   "source": [
    "#Image Processing\n",
    "# Perform morphological closing\n",
    "tmp = ndimage.binary_closing(imlabel > 0, structure=morphology.disk(10))\n",
    "# Fill holes in the binary image\n",
    "tmp = ndimage.binary_fill_holes(tmp)\n",
    "# Remove small objects with less than 300 pixels\n",
    "tmp = morphology.remove_small_objects(tmp, min_size=300)"
   ],
   "id": "1348bca9e90c1bab",
   "outputs": [],
   "execution_count": 67
  },
  {
   "metadata": {
    "ExecuteTime": {
     "end_time": "2024-04-29T20:46:28.223048Z",
     "start_time": "2024-04-29T20:46:27.769049Z"
    }
   },
   "cell_type": "code",
   "source": [
    "L = label(tmp)\n",
    "numann = np.zeros((np.max(L) + 1, numclass))"
   ],
   "id": "10ce2dc87282a29b",
   "outputs": [],
   "execution_count": 68
  },
  {
   "metadata": {
    "ExecuteTime": {
     "end_time": "2024-04-29T20:46:29.163049Z",
     "start_time": "2024-04-29T20:46:28.225050Z"
    }
   },
   "cell_type": "code",
   "source": [
    "for pk in range(1, np.max(L) + 1):\n",
    "    \n",
    "    # Create a binary mask for the current component\n",
    "    tmp = (L == pk).astype(float)\n",
    "    a = np.sum(tmp, axis=1)\n",
    "    b = np.sum(tmp, axis=0)\n",
    "    # rect = [np.argmax(a > 0), np.argmax(a > 0), np.argmax(b > 0), np.argmax(b > 0)]\n",
    "    rect = [np.nonzero(b)[0][0], np.nonzero(b)[0][-1],np.nonzero(a)[0][0], np.nonzero(a)[0][-1]]\n",
    "    # rect = [np.argmax(a), np.argmax(a[::-1]), np.argmax(b), np.argmax(b[::-1])]\n",
    "    # rect = [np.argmax(a > 0), np.argmax(np.flip(a) > 0), np.argmax(b > 0), np.argmax(np.flip(b) > 0)]\n",
    "    \n",
    "    # Crop the binary mask to the region defined by the bounding box\n",
    "    tmp = tmp[rect[2]:rect[3]+1, rect[0]:rect[1]+1]\n",
    "\n",
    "    # make label and image bounding boxes\n",
    "    tmplabel = imlabel[rect[2]:rect[3]+1, rect[0]:rect[1]+1] * tmp\n",
    "    tmpim = I0[rect[2]:rect[3]+1, rect[0]:rect[1]+1, :]\n",
    "\n",
    "    nm = str(pk).zfill(5)\n",
    "    Image.fromarray(tmpim.astype(np.uint8)).save(os.path.join(pthim, f'{nm}.tif'))\n",
    "    Image.fromarray(tmplabel.astype(np.uint8)).save(os.path.join(pthlabel, f'{nm}.tif'))\n",
    "\n",
    "    for anns in range(numclass):\n",
    "        numann[pk, anns] = np.sum(tmplabel == anns)"
   ],
   "id": "80f64a2b216aee60",
   "outputs": [],
   "execution_count": 69
  },
  {
   "metadata": {
    "ExecuteTime": {
     "end_time": "2024-04-29T20:46:29.179048Z",
     "start_time": "2024-04-29T20:46:29.165049Z"
    }
   },
   "cell_type": "code",
   "source": [
    "ctlist = [f for f in os.listdir(pthim) if f.endswith('.tif')]\n",
    "bb = 1  # indicate that xml file is fully analyzed"
   ],
   "id": "df46cb2a969f1127",
   "outputs": [],
   "execution_count": 70
  },
  {
   "metadata": {
    "ExecuteTime": {
     "end_time": "2024-04-29T20:46:29.194049Z",
     "start_time": "2024-04-29T20:46:29.181048Z"
    }
   },
   "cell_type": "code",
   "source": [
    "annotations_file = os.path.join(outpth, 'annotations.pkl')\n",
    "data = {'numann': numann, 'ctlist': ctlist, 'bb': bb}"
   ],
   "id": "6dc1a3e20784154e",
   "outputs": [],
   "execution_count": 71
  },
  {
   "metadata": {
    "ExecuteTime": {
     "end_time": "2024-04-30T13:54:34.802481Z",
     "start_time": "2024-04-30T13:54:33.840843Z"
    }
   },
   "cell_type": "code",
   "source": [
    "if os.path.join(outpth, 'annotations.pkl'):\n",
    "    with open(annotations_file, 'ab') as f: #append new data if the file already exists\n",
    "        pickle.dump(data, f)\n",
    "else:\n",
    "    with open(annotations_file, 'wb') as f: #save data to new file 'write binary mode'\n",
    "        pickle.dump(data, f)"
   ],
   "id": "224362e4e1d58ff5",
   "outputs": [],
   "execution_count": 73
  },
  {
   "metadata": {
    "ExecuteTime": {
     "end_time": "2024-04-30T15:00:21.032013Z",
     "start_time": "2024-04-30T15:00:20.978014Z"
    }
   },
   "cell_type": "code",
   "source": [
    "from PIL import Image\n",
    "import os\n",
    "\n",
    "def images_equal(image1_path, image2_path):\n",
    "    \"\"\"\n",
    "    Compare two images to check if they are equal.\n",
    "\n",
    "    Parameters:\n",
    "        image1_path (str): Path to the first image.\n",
    "        image2_path (str): Path to the second image.\n",
    "\n",
    "    Returns:\n",
    "        bool: True if the images are equal, False otherwise.\n",
    "    \"\"\"\n",
    "    image1 = Image.open(image1_path)\n",
    "    image2 = Image.open(image2_path)\n",
    "    \n",
    "    # Check if images have the same size and mode\n",
    "    if image1.size != image2.size or image1.mode != image2.mode:\n",
    "        return False\n",
    "    \n",
    "    # Compare pixel values\n",
    "    pixels1 = list(image1.getdata())\n",
    "    pixels2 = list(image2.getdata())\n",
    "    if pixels1 != pixels2:\n",
    "        return False\n",
    "    \n",
    "    return True\n",
    "\n",
    "# Usage example:\n",
    "pth = r\"\\\\10.99.68.52\\Kiemendata\\Valentina Matos\\coda to python\\test model\" \n",
    "image_path_python = os.path.join(pth, 'data python', 'SG_013_0061', '02_23_2024_boundbox')\n",
    "image_path_matlab = os.path.join(pth, 'data matlab', 'SG_013_0061', '02_23_2024_boundbox')\n",
    "\n",
    "impython_path = os.path.join(image_path_python, 'im', '00001.tif')\n",
    "immaltab_path = os.path.join(image_path_matlab, 'im', '00001.tif')\n",
    "imlabelpython_path = os.path.join(image_path_python, 'label', '00001.tif')\n",
    "imlabelmatlab_path = os.path.join(image_path_matlab, 'label', '00001.tif')\n",
    "\n",
    "# Test if images are equal\n",
    "are_images_equal = images_equal(impython_path, immaltab_path)\n",
    "print(\"Are the images equal?\", are_images_equal)\n"
   ],
   "id": "1fd942de7fdab879",
   "outputs": [
    {
     "name": "stdout",
     "output_type": "stream",
     "text": [
      "Are the images equal? True\n"
     ]
    }
   ],
   "execution_count": 77
  },
  {
   "metadata": {
    "ExecuteTime": {
     "end_time": "2024-04-30T14:57:34.887901Z",
     "start_time": "2024-04-30T14:57:34.870901Z"
    }
   },
   "cell_type": "code",
   "source": [
    "# # Unit test if generated images are the same as the MATLAB \n",
    "# import unittest\n",
    "# from PIL import Image\n",
    "# import os\n",
    "# \n",
    "# def images_equal(image1_path, image2_path):\n",
    "#     \"\"\"\n",
    "#     Compare two images to check if they are equal.\n",
    "# \n",
    "#     Parameters:\n",
    "#         image1_path (str): Path to the first image.\n",
    "#         image2_path (str): Path to the second image.\n",
    "# \n",
    "#     Returns:\n",
    "#         bool: True if the images are equal, False otherwise.\n",
    "#     \"\"\"\n",
    "#     image1 = Image.open(image1_path)\n",
    "#     image2 = Image.open(image2_path)\n",
    "#     \n",
    "#     # Check if images have the same size and mode\n",
    "#     if image1.size != image2.size or image1.mode != image2.mode:\n",
    "#         return False\n",
    "#     \n",
    "#     # Compare pixel values\n",
    "#     pixels1 = list(image1.getdata())\n",
    "#     pixels2 = list(image2.getdata())\n",
    "#     if pixels1 != pixels2:\n",
    "#         return False\n",
    "#     \n",
    "#     return True\n",
    "# \n",
    "# class TestImageEquality(unittest.TestCase):\n",
    "#     def setUp(self):\n",
    "#         pth = r\"\\\\10.99.68.52\\Kiemendata\\Valentina Matos\\coda to python\\test model\" \n",
    "#         image_path_python = os.path.join(pth, 'data python', 'SG_013_0061', '02_23_2024_boundbox')\n",
    "#         image_path_matlab = os.path.join(pth, 'data matlab', 'SG_013_0061', '02_23_2024_boundbox')\n",
    "# \n",
    "#         self.impython_path = os.path.join(image_path_python, 'im', '00001.tif')\n",
    "#         self.immaltab_path = os.path.join(image_path_matlab, 'im', '00001.tif')\n",
    "#         self.imlabelpython_path = os.path.join(image_path_python, 'label', '00001.tif')\n",
    "#         self.imlabelmatlab_path = os.path.join(image_path_matlab, 'label', '00001.tif')\n",
    "# \n",
    "#     def test_images_equal(self):\n",
    "#         are_images_equal = images_equal(self.impython_path, self.immaltab_path)\n",
    "#         self.assertTrue(are_images_equal, \"Images are not equal\")\n",
    "# \n",
    "# if __name__ == '__main__':\n",
    "#     unittest.main()\n"
   ],
   "id": "5893725755f7a156",
   "outputs": [
    {
     "name": "stderr",
     "output_type": "stream",
     "text": [
      "E\n",
      "======================================================================\n",
      "ERROR: C:\\Users\\Valentina\\AppData\\Roaming\\jupyter\\runtime\\kernel-0139b683-d7c6-4caf-bfe5-494d7ea33eb3 (unittest.loader._FailedTest)\n",
      "----------------------------------------------------------------------\n",
      "AttributeError: module '__main__' has no attribute 'C:\\Users\\Valentina\\AppData\\Roaming\\jupyter\\runtime\\kernel-0139b683-d7c6-4caf-bfe5-494d7ea33eb3'\n",
      "\n",
      "----------------------------------------------------------------------\n",
      "Ran 1 test in 0.000s\n",
      "\n",
      "FAILED (errors=1)\n"
     ]
    },
    {
     "ename": "SystemExit",
     "evalue": "True",
     "output_type": "error",
     "traceback": [
      "An exception has occurred, use %tb to see the full traceback.\n",
      "\u001B[1;31mSystemExit\u001B[0m\u001B[1;31m:\u001B[0m True\n"
     ]
    },
    {
     "name": "stderr",
     "output_type": "stream",
     "text": [
      "C:\\Users\\Valentina\\miniconda3\\envs\\CODA_python\\lib\\site-packages\\IPython\\core\\interactiveshell.py:3516: UserWarning: To exit: use 'exit', 'quit', or Ctrl-D.\n",
      "  warn(\"To exit: use 'exit', 'quit', or Ctrl-D.\", stacklevel=1)\n"
     ]
    }
   ],
   "execution_count": 75
  }
 ],
 "metadata": {
  "kernelspec": {
   "display_name": "Python 3",
   "language": "python",
   "name": "python3"
  },
  "language_info": {
   "codemirror_mode": {
    "name": "ipython",
    "version": 2
   },
   "file_extension": ".py",
   "mimetype": "text/x-python",
   "name": "python",
   "nbconvert_exporter": "python",
   "pygments_lexer": "ipython2",
   "version": "2.7.6"
  }
 },
 "nbformat": 4,
 "nbformat_minor": 5
}
