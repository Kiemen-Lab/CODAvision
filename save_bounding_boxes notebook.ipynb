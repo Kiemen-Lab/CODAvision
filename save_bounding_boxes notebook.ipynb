{
 "cells": [
  {
   "cell_type": "code",
   "id": "initial_id",
   "metadata": {
    "collapsed": true,
    "ExecuteTime": {
     "end_time": "2024-04-26T21:35:15.423990Z",
     "start_time": "2024-04-26T21:35:15.417988Z"
    }
   },
   "source": [
    "import numpy as np\n",
    "from calculate_tissue_mask import calculate_tissue_mask \n",
    "import os\n",
    "import cv2\n",
    "from PIL import Image\n",
    "# Disable the maximum image pixel check\n",
    "Image.MAX_IMAGE_PIXELS = None\n",
    "from scipy.ndimage import binary_closing, binary_fill_holes, binary_opening\n"
   ],
   "outputs": [],
   "execution_count": 3
  },
  {
   "metadata": {
    "ExecuteTime": {
     "end_time": "2024-04-26T22:35:37.662824Z",
     "start_time": "2024-04-26T22:35:30.095129Z"
    }
   },
   "cell_type": "code",
   "source": [
    "#inputs\n",
    "# imnm = 'SG_013_0061'\n",
    "# pth = r'\\\\10.99.68.52\\Kiemendata\\Valentina Matos\\coda to python\\test model\\5x'\n",
    "# I0, TA, _ = calculate_tissue_mask(pth, imnm) #update here the function with the one that jaime uploaded to github\n",
    "# # need to run here the save annotation mask code to get the annotation raw images\n",
    "# outpth = r'\\\\10.99.68.52\\Kiemendata\\Valentina Matos\\coda to python\\test model\\data\\SG_013_0061'\n",
    "# model_name = '02_23_2024'\n",
    "# numclass = 11\n",
    "# classNames = [\"islet\",\"epithelium\",\"vasculature\", \"fat\" ,\"acini\",\"stroma\", \"nontissue\", \"PanIN\", \"nerves\", \"immune\", \"PDAC\", \"black\"]\n",
    "# cmap = np.array([[121, 248, 252],    # 1 islet\n",
    "#                  [0, 0, 255],         # 2 duct\n",
    "#                  [80, 237, 80],       # 3 blood vessel\n",
    "#                  [255, 255, 0],       # 4 fat\n",
    "#                  [149, 35, 184],      # 5 acinus\n",
    "#                  [255, 194, 245],     # 6 ecm\n",
    "#                  [255, 255, 255],     # 7 whitespace\n",
    "#                  [255, 0, 0],         # 8 LG PanIN\n",
    "#                  [73, 120, 111],      # 9 nerves\n",
    "#                  [0, 0, 0],           # 10 immune\n",
    "#                  [240, 159, 10]])     # 11 PDAC\n",
    "# \n",
    "# cmap2 = np.vstack((np.array([0, 0, 0]), cmap)) / 255"
   ],
   "id": "28e58d4b300e3e40",
   "outputs": [
    {
     "name": "stdout",
     "output_type": "stream",
     "text": [
      "Existing TA loaded\n"
     ]
    }
   ],
   "execution_count": 7
  },
  {
   "metadata": {
    "ExecuteTime": {
     "end_time": "2024-04-29T18:03:42.541459Z",
     "start_time": "2024-04-29T18:03:42.535459Z"
    }
   },
   "cell_type": "code",
   "source": [
    "#inputs\n",
    "imnm = 'SG_013_0061'\n",
    "pth = r'\\\\10.99.68.52\\Kiemendata\\Valentina Matos\\coda to python\\test model\\5x'\n",
    "I0, TA, _ = calculate_tissue_mask(pth, imnm) #update here the function with the one that jaime uploaded to github\n"
   ],
   "id": "7b863ffcfb106856",
   "outputs": [],
   "execution_count": 8
  },
  {
   "metadata": {
    "ExecuteTime": {
     "end_time": "2024-04-19T19:28:09.476500Z",
     "start_time": "2024-04-19T19:28:08.060500Z"
    }
   },
   "cell_type": "code",
   "source": [
    "#________________________Start of the function___________________\n",
    "\n",
    "print(' 4. of 4. Creating bounding box tiles of all annotations')\n",
    "I0 = np.double(I0)\n",
    "\n",
    "try:\n",
    "    imlabel = np.double(np.array(Image.open(os.path.join(outpth, 'view_annotations.tif'))))\n",
    "except:\n",
    "    imlabel = np.double(np.array(Image.open(os.path.join(outpth, 'view_annotations_raw.tif'))))\n"
   ],
   "id": "ddfb21708f254c82",
   "outputs": [
    {
     "name": "stdout",
     "output_type": "stream",
     "text": [
      " 4. of 4. Creating bounding box tiles of all annotations\n"
     ]
    },
    {
     "ename": "FileNotFoundError",
     "evalue": "[Errno 2] No such file or directory: '\\\\\\\\10.99.68.52\\\\Kiemendata\\\\Valentina Matos\\\\coda to python\\\\test model\\\\data\\\\SG_013_0061\\\\view_annotations_raw.tif'",
     "output_type": "error",
     "traceback": [
      "\u001B[1;31m---------------------------------------------------------------------------\u001B[0m",
      "\u001B[1;31mFileNotFoundError\u001B[0m                         Traceback (most recent call last)",
      "Cell \u001B[1;32mIn[7], line 7\u001B[0m\n\u001B[0;32m      6\u001B[0m \u001B[38;5;28;01mtry\u001B[39;00m:\n\u001B[1;32m----> 7\u001B[0m     imlabel \u001B[38;5;241m=\u001B[39m np\u001B[38;5;241m.\u001B[39mdouble(np\u001B[38;5;241m.\u001B[39marray(\u001B[43mImage\u001B[49m\u001B[38;5;241;43m.\u001B[39;49m\u001B[43mopen\u001B[49m\u001B[43m(\u001B[49m\u001B[43mos\u001B[49m\u001B[38;5;241;43m.\u001B[39;49m\u001B[43mpath\u001B[49m\u001B[38;5;241;43m.\u001B[39;49m\u001B[43mjoin\u001B[49m\u001B[43m(\u001B[49m\u001B[43moutpth\u001B[49m\u001B[43m,\u001B[49m\u001B[43m \u001B[49m\u001B[38;5;124;43m'\u001B[39;49m\u001B[38;5;124;43mview_annotations.tif\u001B[39;49m\u001B[38;5;124;43m'\u001B[39;49m\u001B[43m)\u001B[49m\u001B[43m)\u001B[49m))\n\u001B[0;32m      8\u001B[0m \u001B[38;5;28;01mexcept\u001B[39;00m:\n",
      "File \u001B[1;32m~\\miniconda3\\envs\\CODA_python\\lib\\site-packages\\PIL\\Image.py:3247\u001B[0m, in \u001B[0;36mopen\u001B[1;34m(fp, mode, formats)\u001B[0m\n\u001B[0;32m   3246\u001B[0m \u001B[38;5;28;01mif\u001B[39;00m filename:\n\u001B[1;32m-> 3247\u001B[0m     fp \u001B[38;5;241m=\u001B[39m \u001B[43mbuiltins\u001B[49m\u001B[38;5;241;43m.\u001B[39;49m\u001B[43mopen\u001B[49m\u001B[43m(\u001B[49m\u001B[43mfilename\u001B[49m\u001B[43m,\u001B[49m\u001B[43m \u001B[49m\u001B[38;5;124;43m\"\u001B[39;49m\u001B[38;5;124;43mrb\u001B[39;49m\u001B[38;5;124;43m\"\u001B[39;49m\u001B[43m)\u001B[49m\n\u001B[0;32m   3248\u001B[0m     exclusive_fp \u001B[38;5;241m=\u001B[39m \u001B[38;5;28;01mTrue\u001B[39;00m\n",
      "\u001B[1;31mFileNotFoundError\u001B[0m: [Errno 2] No such file or directory: '\\\\\\\\10.99.68.52\\\\Kiemendata\\\\Valentina Matos\\\\coda to python\\\\test model\\\\data\\\\SG_013_0061\\\\view_annotations.tif'",
      "\nDuring handling of the above exception, another exception occurred:\n",
      "\u001B[1;31mFileNotFoundError\u001B[0m                         Traceback (most recent call last)",
      "Cell \u001B[1;32mIn[7], line 9\u001B[0m\n\u001B[0;32m      7\u001B[0m     imlabel \u001B[38;5;241m=\u001B[39m np\u001B[38;5;241m.\u001B[39mdouble(np\u001B[38;5;241m.\u001B[39marray(Image\u001B[38;5;241m.\u001B[39mopen(os\u001B[38;5;241m.\u001B[39mpath\u001B[38;5;241m.\u001B[39mjoin(outpth, \u001B[38;5;124m'\u001B[39m\u001B[38;5;124mview_annotations.tif\u001B[39m\u001B[38;5;124m'\u001B[39m))))\n\u001B[0;32m      8\u001B[0m \u001B[38;5;28;01mexcept\u001B[39;00m:\n\u001B[1;32m----> 9\u001B[0m     imlabel \u001B[38;5;241m=\u001B[39m np\u001B[38;5;241m.\u001B[39mdouble(np\u001B[38;5;241m.\u001B[39marray(\u001B[43mImage\u001B[49m\u001B[38;5;241;43m.\u001B[39;49m\u001B[43mopen\u001B[49m\u001B[43m(\u001B[49m\u001B[43mos\u001B[49m\u001B[38;5;241;43m.\u001B[39;49m\u001B[43mpath\u001B[49m\u001B[38;5;241;43m.\u001B[39;49m\u001B[43mjoin\u001B[49m\u001B[43m(\u001B[49m\u001B[43moutpth\u001B[49m\u001B[43m,\u001B[49m\u001B[43m \u001B[49m\u001B[38;5;124;43m'\u001B[39;49m\u001B[38;5;124;43mview_annotations_raw.tif\u001B[39;49m\u001B[38;5;124;43m'\u001B[39;49m\u001B[43m)\u001B[49m\u001B[43m)\u001B[49m))\n",
      "File \u001B[1;32m~\\miniconda3\\envs\\CODA_python\\lib\\site-packages\\PIL\\Image.py:3247\u001B[0m, in \u001B[0;36mopen\u001B[1;34m(fp, mode, formats)\u001B[0m\n\u001B[0;32m   3244\u001B[0m     filename \u001B[38;5;241m=\u001B[39m fp\n\u001B[0;32m   3246\u001B[0m \u001B[38;5;28;01mif\u001B[39;00m filename:\n\u001B[1;32m-> 3247\u001B[0m     fp \u001B[38;5;241m=\u001B[39m \u001B[43mbuiltins\u001B[49m\u001B[38;5;241;43m.\u001B[39;49m\u001B[43mopen\u001B[49m\u001B[43m(\u001B[49m\u001B[43mfilename\u001B[49m\u001B[43m,\u001B[49m\u001B[43m \u001B[49m\u001B[38;5;124;43m\"\u001B[39;49m\u001B[38;5;124;43mrb\u001B[39;49m\u001B[38;5;124;43m\"\u001B[39;49m\u001B[43m)\u001B[49m\n\u001B[0;32m   3248\u001B[0m     exclusive_fp \u001B[38;5;241m=\u001B[39m \u001B[38;5;28;01mTrue\u001B[39;00m\n\u001B[0;32m   3250\u001B[0m \u001B[38;5;28;01mtry\u001B[39;00m:\n",
      "\u001B[1;31mFileNotFoundError\u001B[0m: [Errno 2] No such file or directory: '\\\\\\\\10.99.68.52\\\\Kiemendata\\\\Valentina Matos\\\\coda to python\\\\test model\\\\data\\\\SG_013_0061\\\\view_annotations_raw.tif'"
     ]
    }
   ],
   "execution_count": 7
  },
  {
   "metadata": {
    "ExecuteTime": {
     "end_time": "2024-04-19T18:39:07.454061Z",
     "start_time": "2024-04-19T18:39:07.412412Z"
    }
   },
   "cell_type": "code",
   "source": [
    "#Check if directories exist, if so delete them and create them again\n",
    "pthbb = os.path.join(outpth, f'{model_name}_boundbox')\n",
    "pthim = os.path.join(pthbb, 'im')\n",
    "pthlabel = os.path.join(pthbb, 'label')\n",
    "\n",
    "# Create the parent directory if it doesn't exist\n",
    "if not os.path.exists(pthbb):\n",
    "    os.makedirs(pthbb)\n",
    "\n",
    "# Check if directories exist, if so delete them and create them again\n",
    "if os.path.isdir(pthim):\n",
    "    os.rmdir(pthim)\n",
    "if os.path.isdir(pthlabel):\n",
    "    os.rmdir(pthlabel)\n",
    "\n",
    "os.mkdir(pthim)\n",
    "os.mkdir(pthlabel)"
   ],
   "id": "b1346c45da5619a3",
   "outputs": [],
   "execution_count": 4
  },
  {
   "metadata": {
    "jupyter": {
     "is_executing": true
    },
    "ExecuteTime": {
     "start_time": "2024-04-19T18:41:46.149200Z"
    }
   },
   "cell_type": "code",
   "source": [
    "#Process the annotations\n",
    "tmp = binary_closing(imlabel > 0, np.ones((10, 10), dtype=bool))\n",
    "tmp = binary_fill_holes(tmp)\n",
    "tmp = binary_opening(tmp, np.ones((300, 300), dtype=bool))"
   ],
   "id": "f2bdcdda934d2b20",
   "outputs": [],
   "execution_count": null
  },
  {
   "metadata": {},
   "cell_type": "code",
   "outputs": [],
   "execution_count": null,
   "source": "",
   "id": "1348bca9e90c1bab"
  }
 ],
 "metadata": {
  "kernelspec": {
   "display_name": "Python 3",
   "language": "python",
   "name": "python3"
  },
  "language_info": {
   "codemirror_mode": {
    "name": "ipython",
    "version": 2
   },
   "file_extension": ".py",
   "mimetype": "text/x-python",
   "name": "python",
   "nbconvert_exporter": "python",
   "pygments_lexer": "ipython2",
   "version": "2.7.6"
  }
 },
 "nbformat": 4,
 "nbformat_minor": 5
}
