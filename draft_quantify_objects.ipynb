{
 "cells": [
  {
   "cell_type": "code",
   "execution_count": 18,
   "id": "initial_id",
   "metadata": {
    "collapsed": true,
    "ExecuteTime": {
     "end_time": "2024-09-11T00:06:38.453674Z",
     "start_time": "2024-09-11T00:06:38.443679Z"
    }
   },
   "outputs": [],
   "source": [
    "import os\n",
    "import numpy as np\n",
    "import pandas as pd\n",
    "import pickle\n",
    "import cv2\n",
    "from skimage.measure import label\n",
    "from skimage.morphology import remove_small_objects"
   ]
  },
  {
   "cell_type": "code",
   "outputs": [],
   "source": [
    "#inputs\n",
    "pthDL = r'\\\\10.99.68.52\\Kiemendata\\Valentina Matos\\tissues for methods paper\\human liver\\CODA_python_08_30_2024'\n",
    "quantpath = r'\\\\10.99.68.52\\Kiemendata\\Valentina Matos\\tissues for methods paper\\human liver\\10x\\classification_CODA_python_08_30_2024'\n",
    "tissue = [4, 2] #array with the annotation label that we want to quantify"
   ],
   "metadata": {
    "collapsed": false,
    "ExecuteTime": {
     "end_time": "2024-09-11T00:06:38.483703Z",
     "start_time": "2024-09-11T00:06:38.475673Z"
    }
   },
   "id": "caa80fdcb54ff18e",
   "execution_count": 19
  },
  {
   "cell_type": "code",
   "outputs": [],
   "source": [
    "#Load model data\n",
    "with open(os.path.join(pthDL, 'net.pkl'), 'rb') as f:\n",
    "    data = pickle.load(f)\n",
    "    classNames = data['classNames']"
   ],
   "metadata": {
    "collapsed": false,
    "ExecuteTime": {
     "end_time": "2024-09-11T00:06:38.514988Z",
     "start_time": "2024-09-11T00:06:38.486680Z"
    }
   },
   "id": "bf24031173ea56d2",
   "execution_count": 20
  },
  {
   "cell_type": "code",
   "outputs": [],
   "source": [
    "# Define the path to the Excel file and the sheet name\n",
    "excel_file = os.path.join(quantpath, 'image_quantifications.xlsx')\n",
    "sheetName = 'Object analysis'\n",
    "\n",
    "# Check if the Excel file exists\n",
    "mode = 'w' if not os.path.exists(excel_file) else 'a'\n",
    "\n",
    "# Write initial information to the Excel file\n",
    "with pd.ExcelWriter(excel_file, engine='openpyxl', mode=mode) as writer:\n",
    "    pd.DataFrame([['Model:', pthDL]]).to_excel(writer, sheet_name=sheetName, startrow=0, header=False, index=False)\n",
    "    pd.DataFrame([['Image location:', quantpath]]).to_excel(writer, sheet_name=sheetName, startrow=1, header=False, index=False)\n",
    "    pd.DataFrame([[\"Image\", \"Object ID\", \"Object Size (pixels)\"]]).to_excel(writer, sheet_name=sheetName, startrow=2, header=False, index=False)"
   ],
   "metadata": {
    "collapsed": false,
    "ExecuteTime": {
     "end_time": "2024-09-11T00:06:38.732043Z",
     "start_time": "2024-09-11T00:06:38.519677Z"
    }
   },
   "id": "5c7c8238e019fd37",
   "execution_count": 21
  },
  {
   "cell_type": "code",
   "outputs": [
    {
     "name": "stdout",
     "output_type": "stream",
     "text": [
      "_______Starting object analysis________\n",
      "Processing image Liv-17_0001.tif\n"
     ]
    },
    {
     "ename": "TypeError",
     "evalue": "list indices must be integers or slices, not function",
     "output_type": "error",
     "traceback": [
      "\u001B[1;31m---------------------------------------------------------------------------\u001B[0m",
      "\u001B[1;31mTypeError\u001B[0m                                 Traceback (most recent call last)",
      "Cell \u001B[1;32mIn[22], line 22\u001B[0m\n\u001B[0;32m     20\u001B[0m         \u001B[38;5;28;01mfor\u001B[39;00m i \u001B[38;5;129;01min\u001B[39;00m np\u001B[38;5;241m.\u001B[39munique(labeled):\n\u001B[0;32m     21\u001B[0m             \u001B[38;5;28;01mif\u001B[39;00m i \u001B[38;5;241m!=\u001B[39m \u001B[38;5;241m0\u001B[39m:\n\u001B[1;32m---> 22\u001B[0m                 all_props\u001B[38;5;241m.\u001B[39mappend([os\u001B[38;5;241m.\u001B[39mpath\u001B[38;5;241m.\u001B[39mbasename(im_path), \u001B[38;5;124mf\u001B[39m\u001B[38;5;124m\"\u001B[39m\u001B[38;5;132;01m{\u001B[39;00mclassNames[label]\u001B[38;5;132;01m}\u001B[39;00m\u001B[38;5;124m \u001B[39m\u001B[38;5;132;01m{\u001B[39;00mi\u001B[38;5;132;01m}\u001B[39;00m\u001B[38;5;124m\"\u001B[39m, np\u001B[38;5;241m.\u001B[39msum(labeled \u001B[38;5;241m==\u001B[39m i)])\n\u001B[0;32m     24\u001B[0m \u001B[38;5;66;03m# Convert to DataFrame\u001B[39;00m\n\u001B[0;32m     25\u001B[0m props_df \u001B[38;5;241m=\u001B[39m pd\u001B[38;5;241m.\u001B[39mDataFrame(all_props, columns\u001B[38;5;241m=\u001B[39m[\u001B[38;5;124m\"\u001B[39m\u001B[38;5;124mImage\u001B[39m\u001B[38;5;124m\"\u001B[39m, \u001B[38;5;124m\"\u001B[39m\u001B[38;5;124mObject ID\u001B[39m\u001B[38;5;124m\"\u001B[39m, \u001B[38;5;124m\"\u001B[39m\u001B[38;5;124mObject Size (pixels)\u001B[39m\u001B[38;5;124m\"\u001B[39m])\n",
      "\u001B[1;31mTypeError\u001B[0m: list indices must be integers or slices, not function"
     ]
    }
   ],
   "source": [
    "# Start object analysis\n",
    "files = [os.path.join(quantpath, f) for f in os.listdir(quantpath) if f.endswith('.tif')]\n",
    "print('_______Starting object analysis________')\n",
    "\n",
    "all_props = []\n",
    "\n",
    "for im_path in files:\n",
    "    print(f'Processing image {os.path.basename(im_path)}')\n",
    "    # Load image\n",
    "    img = cv2.imread(im_path, cv2.IMREAD_GRAYSCALE)\n",
    "\n",
    "    # Create a mask with the chosen annotation class to analyze\n",
    "    for annotation_class in tissue:\n",
    "        label_mask = img == annotation_class\n",
    "        # Label objects\n",
    "        labeled = label(label_mask, connectivity=1)\n",
    "        labeled = remove_small_objects(labeled, min_size=500, connectivity=1)\n",
    "        \n",
    "        # Get object sizes\n",
    "        for i in np.unique(labeled):\n",
    "            if i != 0:\n",
    "                all_props.append([os.path.basename(im_path), f\"{classNames[label]} {i}\", np.sum(labeled == i)])\n",
    "\n",
    "# Convert to DataFrame\n",
    "props_df = pd.DataFrame(all_props, columns=[\"Image\", \"Object ID\", \"Object Size (pixels)\"])\n",
    "\n",
    "# Write to Excel\n",
    "with pd.ExcelWriter(excel_file, engine='openpyxl', mode='a') as writer:\n",
    "    props_df.to_excel(writer, sheet_name=sheetName, startrow=writer.sheets[sheetName].max_row, header=False, index=False)\n",
    "\n",
    "print('_______Object analysis completed________')"
   ],
   "metadata": {
    "collapsed": false,
    "ExecuteTime": {
     "end_time": "2024-09-11T00:07:16.243285Z",
     "start_time": "2024-09-11T00:06:38.734191Z"
    }
   },
   "id": "4032cedaf855153a",
   "execution_count": 22
  }
 ],
 "metadata": {
  "kernelspec": {
   "display_name": "Python 3",
   "language": "python",
   "name": "python3"
  },
  "language_info": {
   "codemirror_mode": {
    "name": "ipython",
    "version": 2
   },
   "file_extension": ".py",
   "mimetype": "text/x-python",
   "name": "python",
   "nbconvert_exporter": "python",
   "pygments_lexer": "ipython2",
   "version": "2.7.6"
  }
 },
 "nbformat": 4,
 "nbformat_minor": 5
}
