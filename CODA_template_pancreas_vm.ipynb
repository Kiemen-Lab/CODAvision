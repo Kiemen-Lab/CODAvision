{
 "cells": [
  {
   "cell_type": "code",
   "id": "initial_id",
   "metadata": {
    "collapsed": true,
    "ExecuteTime": {
     "end_time": "2024-09-11T15:10:55.749123Z",
     "start_time": "2024-09-11T15:10:52.861345Z"
    }
   },
   "source": [
    "\"\"\"\n",
    "Author: Valentina Matos (Johns Hopkins - Wirtz/Kiemen Lab)\n",
    "Date: June 22, 2024\n",
    "\"\"\"\n",
    "import os\n",
    "import numpy as np\n",
    "from base import *"
   ],
   "execution_count": 2,
   "outputs": []
  },
  {
   "metadata": {
    "ExecuteTime": {
     "end_time": "2024-09-04T21:09:53.893154Z",
     "start_time": "2024-09-04T21:09:13.208617Z"
    }
   },
   "cell_type": "code",
   "source": [
    "from CODAGUI_fend import MainWindow\n",
    "import sys\n",
    "from PySide6 import QtWidgets\n",
    "\n",
    "# Execute the GUI\n",
    "app = QtWidgets.QApplication.instance()\n",
    "if app is None:\n",
    "    app = QtWidgets.QApplication(sys.argv)\n",
    "    \n",
    "# Load and apply the dark theme stylesheet\n",
    "with open('dark_theme.qss', 'r') as file:\n",
    "    app.setStyleSheet(file.read())\n",
    "\n",
    "window = MainWindow()\n",
    "window.show()\n",
    "app.exec()\n"
   ],
   "id": "7e079f6e3b9b5d95",
   "execution_count": 3,
   "outputs": []
  },
  {
   "metadata": {
    "ExecuteTime": {
     "end_time": "2024-08-26T18:11:25.418666Z",
     "start_time": "2024-08-26T18:11:25.393035Z"
    }
   },
   "cell_type": "code",
   "source": [
    "#_______________Variable parametrization from GUI_______________\n",
    "\n",
    "#Paths\n",
    "pth = window.ui.trianing_LE.text()\n",
    "pthtest = window.ui.testing_LE.text()\n",
    "model_name = window.ui.model_name.text()\n",
    "resolution = window.ui.resolution_CB.currentText()\n",
    "pthim = os.path.join(pth, f'{resolution}')\n",
    "pthDL = os.path.join(pth, model_name)\n",
    "\n",
    "#Tif resolution\n",
    "resolution_to_umpix = {\"10x\": 1, \"5x\": 2, \"16x\": 4}\n",
    "umpix = resolution_to_umpix.get(resolution, 2)  # Default to 2 if resolution not found\n",
    "\n",
    "# Get the dataframe with annotation information\n",
    "combined_df = window.combined_df\n",
    "classNames = combined_df['Combined names'].tolist()\n",
    "colormap = combined_df['Combined colors'].tolist()\n",
    "\n",
    "#Training tile size\n",
    "tile_size = window.tile_size\n",
    "#Number of training tiles\n",
    "ntrain = window.ntrain\n",
    "nvalidate = window.nval\n",
    "#Number of validations tiles\n",
    "nval = window.nval\n",
    "#Number of TA images to evaluate (coming sooon)\n",
    "# TA = window.TA\n",
    "\n",
    "#Create WS\n",
    "df = window.df\n",
    "layers_to_delete = df.index[df['Delete layer']].tolist()\n",
    "layers_to_delete = [i+1 for i in layers_to_delete] #get row index starting from 1\n",
    "nesting_list = df['Nesting'].tolist()\n",
    "nesting_list.reverse()\n",
    "WS = [df['Whitespace Settings'].tolist(),\n",
    "      [window.add_ws_to, window.add_nonws_to],\n",
    "      df['Combined layers'].tolist(),\n",
    "      nesting_list,\n",
    "      layers_to_delete\n",
    "      ]\n",
    "\n",
    "\n",
    "numclass = max(WS[2])\n",
    "nblack = numclass + 1;nwhite = WS[1][0]\n",
    "\n",
    "colormap = np.array(colormap)\n",
    "\n",
    "#Final Parameters\n",
    "print('Classnames: ', classNames)\n",
    "print('Colormap: ', colormap)\n",
    "print(WS)"
   ],
   "id": "e7c660d1ea88e0b9",
   "execution_count": 4,
   "outputs": []
  },
  {
   "metadata": {
    "ExecuteTime": {
     "end_time": "2024-08-19T14:43:28.293400Z",
     "start_time": "2024-08-19T14:43:28.191628Z"
    }
   },
   "cell_type": "code",
   "source": [
    "# 1 save model metadata\n",
    "save_model_metadata(pthDL, pthim, WS, model_name, umpix, colormap, tile_size, classNames, ntrain, nvalidate)"
   ],
   "id": "70faa566c671beee",
   "execution_count": 19,
   "outputs": []
  },
  {
   "metadata": {
    "ExecuteTime": {
     "end_time": "2024-08-19T15:03:56.833222Z",
     "start_time": "2024-08-19T15:03:22.739130Z"
    }
   },
   "cell_type": "code",
   "source": [
    "# 2 load and format annotations from each annotated image\n",
    "# WSI2tif(pth, resolution, umpix) # Create tif images from /.ndpi / .svs\n",
    "[ctlist0, numann0] = load_annotation_data(pthDL, pth, pthim)"
   ],
   "id": "8319aa7c7cb245d9",
   "execution_count": 22,
   "outputs": []
  },
  {
   "metadata": {
    "ExecuteTime": {
     "end_time": "2024-08-15T20:42:17.208644Z",
     "start_time": "2024-08-15T19:31:44.899759Z"
    }
   },
   "cell_type": "code",
   "source": [
    "# 3 Make training & validation tiles for model training\n",
    "create_training_tiles(pthDL, numann0, ctlist0)"
   ],
   "id": "8b3fc3f9f5725670",
   "execution_count": 9,
   "outputs": []
  },
  {
   "metadata": {
    "ExecuteTime": {
     "end_time": "2024-08-16T04:23:40.451197Z",
     "start_time": "2024-08-15T20:42:17.209644Z"
    }
   },
   "cell_type": "code",
   "source": [
    "# 4 Train model\n",
    "train_segmentation_model(pthDL)"
   ],
   "id": "3b9f6cd5b9707c7a",
   "execution_count": 10,
   "outputs": []
  },
  {
   "metadata": {
    "ExecuteTime": {
     "end_time": "2024-08-16T04:23:43.992382Z",
     "start_time": "2024-08-16T04:23:40.452197Z"
    }
   },
   "cell_type": "code",
   "source": [
    "# 5 Test model\n",
    "pthtestim = os.path.join(pthtest, f'{resolution}')\n",
    "# WSI2tif(pthtest, resolution, umpix)\n",
    "test_segmentation_model(pthDL, pthtest, pthtestim)"
   ],
   "id": "b34c5e19218aaf3",
   "execution_count": 11,
   "outputs": []
  },
  {
   "metadata": {
    "ExecuteTime": {
     "end_time": "2024-08-16T04:23:43.993387Z",
     "start_time": "2024-08-16T04:23:43.993387Z"
    }
   },
   "cell_type": "code",
   "source": [
    "# 6 Classify images with pretrained model\n",
    "classify_images(pthim,pthDL)"
   ],
   "id": "c75c0cb40723b072",
   "execution_count": null,
   "outputs": []
  },
  {
   "metadata": {},
   "cell_type": "code",
   "source": [
    "# 6 Classify images with pretrained model\n",
    "classify_images(pthim,pthDL)"
   ],
   "id": "fe74ead878c5766e",
   "execution_count": null,
   "outputs": []
  },
  {
   "metadata": {
    "ExecuteTime": {
     "end_time": "2024-09-11T15:11:29.832231Z",
     "start_time": "2024-09-11T15:11:29.384869Z"
    }
   },
   "cell_type": "code",
   "source": [
    "\n",
    "def compare_tif_and_png(tif_path, png_path):\n",
    "    # Load the TIFF image using Pillow\n",
    "    with Image.open(tif_path) as tif_image:\n",
    "        tif_image = np.array(tif_image)\n",
    "    \n",
    "    # Load the PNG image using Pillow\n",
    "    with Image.open(png_path) as png_image:\n",
    "        png_image = np.array(png_image)\n",
    "        \n",
    "        # Ensure images have the same size\n",
    "        if tif_image.shape != png_image.shape:\n",
    "            raise ValueError(\"Images must have the same dimensions\")\n",
    "        \n",
    "        # Compare pixel by pixel\n",
    "        total_pixels = tif_image.size\n",
    "        matching_pixels = np.sum(tif_image == png_image)\n",
    "        \n",
    "        # Calculate percentage similarity\n",
    "        similarity_percentage = (matching_pixels / total_pixels) * 100\n",
    "        return similarity_percentage\n",
    "    \n",
    "png_path =  r'\\\\10.99.68.52\\Kiemendata\\Valentina Matos\\tissues for methods paper\\mouse lung\\testfiles python\\testing images\\5x\\TA\\TVWT 2-2 2.tif'\n",
    "\n",
    "tif_path =  r'\\\\10.99.68.52\\Kiemendata\\Valentina Matos\\tissues for methods paper\\mouse lung\\testfiles python\\testing images\\5x\\TA python\\TVWT 2-2 2.tif'\n",
    "\n",
    "compare_tif_and_png(tif_path, png_path)\n",
    "   \n",
    "   "
   ],
   "id": "bb18a740ef5fdd8d",
   "execution_count": 4,
   "outputs": []
  },
  {
   "metadata": {
    "ExecuteTime": {
     "end_time": "2024-08-20T15:50:13.015694Z",
     "start_time": "2024-08-20T15:50:13.013690Z"
    }
   },
   "cell_type": "code",
   "source": [
    "from PIL import Image\n",
    "\n",
    "# Set the pixel limit to None to effectively remove the limit\n",
    "Image.MAX_IMAGE_PIXELS = None\n",
    "\n",
    "import numpy as np\n",
    "from PIL import Image\n",
    "from skimage.metrics import structural_similarity as ssim\n",
    "\n",
    "def compare_images(img1_path, img2_path):\n",
    "    # Open and convert images to grayscale\n",
    "    img1 = Image.open(img1_path).convert('RGB')\n",
    "    img2 = Image.open(img2_path).convert('RGB')\n",
    "    \n",
    "    # Convert images to numpy arrays\n",
    "    img1_array = np.array(img1)\n",
    "    img2_array = np.array(img2)\n",
    "    \n",
    "    # Convert to floating point for SSIM calculation\n",
    "    img1_array = img1_array.astype(np.float64)\n",
    "    img2_array = img2_array.astype(np.float64)\n",
    "    \n",
    "    # Calculate Mean Squared Error (MSE)\n",
    "    mse = np.mean((img1_array - img2_array) ** 2)\n",
    "    \n",
    "    # Convert images to grayscale\n",
    "    img1_gray = np.mean(img1_array, axis=2)\n",
    "    img2_gray = np.mean(img2_array, axis=2)\n",
    "    \n",
    "    # Calculate Structural Similarity Index (SSIM)\n",
    "    # Set data_range to the range of pixel values (e.g., 255 for 8-bit images)\n",
    "    data_range = img1_gray.max() - img1_gray.min()\n",
    "    ssim_index, _ = ssim(img1_gray, img2_gray, full=True, data_range=data_range)\n",
    "    \n",
    "    return mse, ssim_index\n",
    "\n",
    "# Example usage\n",
    "if __name__ == '__main__':\n",
    "    img1_path = r'\\\\10.99.68.52\\Kiemendata\\Valentina Matos\\tissues for methods paper\\slides scanned from bispecific study\\5x tif\\2024-03-15 15.06.tif'\n",
    "    img2_path = r'\\\\10.99.68.52\\Kiemendata\\Valentina Matos\\tissues for methods paper\\slides scanned from bispecific study\\5x\\2024-03-15 15.06.png'\n",
    "    \n",
    "    mse, ssim_index = compare_images(img1_path, img2_path)\n",
    "    \n",
    "    print(f\"Mean Squared Error (MSE): {mse}\")\n",
    "    print(f\"Structural Similarity Index (SSIM): {ssim_index}\")\n"
   ],
   "id": "b8122e1f4b9439b",
   "execution_count": 6,
   "outputs": []
  },
  {
   "cell_type": "code",
   "source": [
    "\n",
    "import subprocess\n",
    "\n",
    "# Path to the designer executable\n",
    "designer_path = r'C:\\Users\\Valentina\\AppData\\Local\\anaconda3\\envs\\ANACODA_GUI\\Lib\\site-packages\\PySide6\\designer.exe'\n",
    "\n",
    "# Open Qt Designer\n",
    "subprocess.Popen([designer_path])"
   ],
   "metadata": {
    "collapsed": false,
    "ExecuteTime": {
     "end_time": "2024-09-04T21:36:43.799401Z",
     "start_time": "2024-09-04T21:36:43.777086Z"
    }
   },
   "id": "e42e399561f60f91",
   "execution_count": 4,
   "outputs": []
  },
  {
   "metadata": {
    "ExecuteTime": {
     "end_time": "2024-10-10T14:15:23.222745Z",
     "start_time": "2024-10-10T14:15:21.190725Z"
    }
   },
   "cell_type": "code",
   "source": [
    "from PIL import Image\n",
    "import numpy as np\n",
    "Image.MAX_IMAGE_PIXELS = None\n",
    "\n",
    "pth1 = r'\\\\10.99.68.52\\Kiemendata\\Valentina Matos\\tissues for methods paper\\human pancreas ready to train\\test model\\5x\\classification_03_12_2024\\6520-197 HE.tif'\n",
    "pth2 = r'\\\\10.99.68.52\\Kiemendata\\Valentina Matos\\tissues for methods paper\\human pancreas ready to train\\test model\\5x\\classification_ANACODA_08_28_2024\\6520-197 HE.tif'\n",
    "\n",
    "#compere images\n",
    "\n",
    "def compare_images(img1_path, img2_path):\n",
    "    # load imageas as grayscale\n",
    "    img1 = Image.open(img1_path).convert('L')\n",
    "    img2 = Image.open(img2_path).convert('L')\n",
    "    \n",
    "    #convert images to numpy arrays\n",
    "    img1_array = np.array(img1)\n",
    "    img2_array = np.array(img2)\n",
    "    \n",
    "    #tissue image\n",
    "    img1_array_tissue = img1_array != 5\n",
    "    img2_array_tissue = img2_array != 5\n",
    "    \n",
    "    #calcualte pixel difference\n",
    "    diff = np.sum(img1_array_tissue != img2_array_tissue)\n",
    "    \n",
    "    #calculate percentage similarity\n",
    "    total_pixels = img1_array_tissue.size\n",
    "    similarity_percentage = (1 - diff / total_pixels) * 100\n",
    "    \n",
    "    return similarity_percentage\n",
    "\n",
    "similarity_percentage = compare_images(pth1, pth2)\n",
    "print(f\"Similarity percentage: {similarity_percentage:.2f}%\")\n",
    "    "
   ],
   "id": "9a765d4b3508488f",
   "execution_count": 21,
   "outputs": []
  },
  {
   "metadata": {
    "ExecuteTime": {
     "end_time": "2024-10-10T14:10:02.084943Z",
     "start_time": "2024-10-10T14:09:58.817002Z"
    }
   },
   "cell_type": "code",
   "source": [
    "# plot black and white pixel difference of the images:\n",
    "import matplotlib.pyplot as plt\n",
    "from PIL import Image\n",
    "import numpy as np\n",
    "pth1 = r'\\\\10.99.68.52\\Kiemendata\\Valentina Matos\\tissues for methods paper\\mouse lung\\annotations\\5x\\classification_04_05_2024\\TVNTC 1-2 2.tif'\n",
    "pth2 = r'\\\\10.99.68.52\\Kiemendata\\Valentina Matos\\tissues for methods paper\\mouse lung\\test python TA 205\\5x\\classification_CODA_python_09_25_2024_TA_205_python\\TVNTC 1-2 2.tif'\n",
    "\n",
    "def plot_image_diff(img1_path, img2_path):\n",
    "    # load imageas as grayscale\n",
    "    img1 = Image.open(img1_path).convert('L')\n",
    "    img2 = Image.open(img2_path).convert('L')\n",
    "    \n",
    "    #convert images to numpy arrays\n",
    "    img1_array = np.array(img1)\n",
    "    img2_array = np.array(img2)\n",
    "    \n",
    "    #Pixel difference\n",
    "    diff = img1_array != img2_array\n",
    "    \n",
    "    #Save image\n",
    "    pthsave = os.path.join(os.path.dirname(img1_path), 'diff.jpg')\n",
    "    print(pthsave)\n",
    "    Image.fromarray(diff).save(pthsave)\n",
    "    \n",
    "    #plot the difference\n",
    "    plt.figure(figsize=(10, 10))\n",
    "    plt.imshow(diff, cmap='gray')\n",
    "    plt.axis('off')\n",
    "    plt.show()\n",
    "    \n",
    "    return \n",
    "\n",
    "plot_image_diff(pth1, pth2)"
   ],
   "id": "e5d47ddd849002c9",
   "execution_count": 20,
   "outputs": []
  },
  {
   "metadata": {
    "ExecuteTime": {
     "end_time": "2024-10-10T22:33:43.011850Z",
     "start_time": "2024-10-10T20:36:05.387603Z"
    }
   },
   "cell_type": "code",
   "source": [
    "import numpy as np\n",
    "import matplotlib.pyplot as plt\n",
    "\n",
    "from sklearn.metrics import confusion_matrix, ConfusionMatrixDisplay\n",
    "from PIL import Image\n",
    "import os\n",
    "import pickle\n",
    "import matplotlib\n",
    "matplotlib.use('TkAgg')\n",
    "\n",
    "Image.MAX_IMAGE_PIXELS = None\n",
    "\n",
    "# Load model labels\n",
    "pthDL = r'\\\\10.99.68.52\\Kiemendata\\Valentina Matos\\tissues for methods paper\\human liver\\CODA_python_08_30_2024'\n",
    "with open(os.path.join(pthDL, 'net.pkl'), 'rb') as f:\n",
    "    data = pickle.load(f)\n",
    "    classNames = data['classNames']\n",
    "    nblack = data['nblack']\n",
    "    nwhite = data['nwhite']\n",
    "\n",
    "# Load the images\n",
    "\n",
    "im_matlab = r'\\\\10.99.68.52\\Kiemendata\\Valentina Matos\\tissues for methods paper\\human liver\\10x\\classification_02_25_2024\\Liv-17_0001.tif'\n",
    "im_python = r'\\\\10.99.68.52\\Kiemendata\\Valentina Matos\\tissues for methods paper\\human liver\\10x\\classification_CODA_python_08_30_2024\\Liv-17_0001.tif'\n",
    "\n",
    "def confussion_matrix_diff(im_matlab, im_python, classNames, nwhite, nblack):\n",
    "    # Load images as grayscale\n",
    "    img1 = Image.open(im_matlab).convert('L')\n",
    "    img2 = Image.open(im_python).convert('L')\n",
    "\n",
    "    # Convert images to numpy arrays\n",
    "    img1_array = np.array(img1)\n",
    "    img2_array = np.array(img2)\n",
    "    img1_array[img1_array == nblack] = nwhite\n",
    "    img2_array[img2_array == nblack] = nwhite\n",
    "\n",
    "    classNames = classNames[:-1]\n",
    "\n",
    "    # # Pixel difference\n",
    "    diff = img1_array != img2_array\n",
    "\n",
    "    # Misclassified pixels\n",
    "    img1_diff = img1_array[diff]\n",
    "    img2_diff = img2_array[diff]\n",
    "\n",
    "    # Create a confusion matrix\n",
    "    cm = confusion_matrix(img1_diff.ravel(), img2_diff.ravel())\n",
    "\n",
    "    # Display the confusion matrix\n",
    "\n",
    "    disp = ConfusionMatrixDisplay(confusion_matrix=cm, display_labels=classNames, )\n",
    "    disp.plot(cmap='viridis', xticks_rotation=90)\n",
    "    plt.title('Confusion Matrix Matlab vs Python (Misclassified pixels): Liver 10x', color = 'white')\n",
    "    plt.xlabel('Python prediction')\n",
    "    plt.ylabel('Matlab prediction')\n",
    "    #set background color to black\n",
    "    plt.gcf().set_facecolor('black')\n",
    "\n",
    "    \n",
    "     # Set the color of the text to white\n",
    "    plt.gca().set_facecolor('white')\n",
    "    plt.rcParams.update({'text.color': 'white'})\n",
    "    plt.tick_params(axis='x', colors='white')\n",
    "    plt.tick_params(axis='y', colors='white')\n",
    "    cbar = disp.im_.colorbar\n",
    "    cbar.ax.yaxis.set_tick_params(color='white')\n",
    "    plt.setp(plt.getp(cbar.ax.axes, 'yticklabels'), color='white') \n",
    "    plt.show()\n",
    " \n",
    "    return cm\n",
    "\n",
    "cm = confussion_matrix_diff(im_matlab, im_python, classNames, nwhite, nblack)"
   ],
   "id": "dc70cdf0e936087b",
   "execution_count": 1,
   "outputs": []
  },
  {
   "metadata": {
    "ExecuteTime": {
     "end_time": "2024-10-09T16:39:37.020708Z",
     "start_time": "2024-10-09T16:39:36.922093Z"
    }
   },
   "cell_type": "code",
   "source": [
    "import matplotlib.pyplot as plt\n",
    "import numpy as np\n",
    "\n",
    "# Data\n",
    "tasks = ['Save metadata', 'Load annotations', 'Create training tiles', 'Train model', 'Test model', 'Classify image']\n",
    "python_times = [0.001, 1.5, 95, 20, 0.15, 0.28]\n",
    "matlab_times = [0.00833, 4, 201, 96, 0.15, 0.28]\n",
    "\n",
    "# Data for plotting\n",
    "labels = ['Python', 'Matlab']\n",
    "times = [python_times, matlab_times]\n",
    "\n",
    "# Create the stacked bar plot\n",
    "fig, ax = plt.subplots(figsize=(10, 6))\n",
    "\n",
    "# Define the bottom for each bar\n",
    "bottom_python = 0\n",
    "bottom_matlab = 0\n",
    "\n",
    "# Colors for each task in RGB format\n",
    "colors = [(106/255, 13/255, 173/255), (255/255, 105/255, 180/255), (30/255, 144/255, 255/255),\n",
    "          (255/255, 20/255, 147/255), (138/255, 43/255, 226/255), (221/255, 160/255, 221/255)]\n",
    "\n",
    "# Plot each task as a segment of the bar\n",
    "for i in range(len(tasks)):\n",
    "    ax.bar(labels[0], python_times[i], bottom=bottom_python, color=colors[i], edgecolor='grey', label=tasks[i])\n",
    "    ax.bar(labels[1], matlab_times[i], bottom=bottom_matlab, color=colors[i], edgecolor='grey')\n",
    "    bottom_python += python_times[i]\n",
    "    bottom_matlab += matlab_times[i]\n",
    "\n",
    "# Add labels\n",
    "ax.set_xlabel('Language', fontweight='bold')\n",
    "ax.set_ylabel('Time (minutes)', fontweight='bold')\n",
    "ax.set_title('Total Time Comparison: Python vs Matlab', fontweight='bold')\n",
    "\n",
    "# Create a custom legend\n",
    "handles = [plt.Rectangle((0,0),1,1, facecolor=colors[i], edgecolor='grey') for i in range(len(tasks))]\n",
    "ax.legend(handles, tasks, loc='upper left', bbox_to_anchor=(1, 1))\n",
    "\n",
    "# Show the plot\n",
    "plt.tight_layout()\n",
    "plt.show()"
   ],
   "id": "1f8fde7a109d1a42",
   "execution_count": 22,
   "outputs": []
  },
  {
   "metadata": {},
   "cell_type": "code",
   "execution_count": null,
   "source": "",
   "id": "75fcc6896d8d2101",
   "outputs": []
  }
 ],
 "metadata": {
  "kernelspec": {
   "display_name": "Python 3",
   "language": "python",
   "name": "python3"
  },
  "language_info": {
   "codemirror_mode": {
    "name": "ipython",
    "version": 2
   },
   "file_extension": ".py",
   "mimetype": "text/x-python",
   "name": "python",
   "nbconvert_exporter": "python",
   "pygments_lexer": "ipython2",
   "version": "2.7.6"
  }
 },
 "nbformat": 4,
 "nbformat_minor": 5
}
