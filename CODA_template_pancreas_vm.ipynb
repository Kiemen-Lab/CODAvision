{
 "cells": [
  {
   "cell_type": "code",
   "id": "initial_id",
   "metadata": {
    "collapsed": true,
    "ExecuteTime": {
     "end_time": "2024-08-15T15:12:37.861925Z",
     "start_time": "2024-08-15T15:12:37.843880Z"
    }
   },
   "source": [
    "\"\"\"\n",
    "Author: Valentina Matos (Johns Hopkins - Wirtz/Kiemen Lab)\n",
    "Date: June 22, 2024\n",
    "\"\"\"\n",
    "import os\n",
    "import numpy as np\n",
    "import warnings\n",
    "from save_model_metadata import save_model_metadata\n",
    "from load_annotation_data import load_annotation_data\n",
    "from train_segmentation_model import train_segmentation_model\n",
    "from create_training_tiles import create_training_tiles\n",
    "from test_segmentation_model import test_segmentation_model\n",
    "from classify_images import classify_images\n",
    "import sys\n",
    "from PySide6 import QtWidgets\n",
    "from CODAGUI_fend import MainWindow\n",
    "# from WSI2tif import WSI2tif\n",
    "warnings.filterwarnings(\"ignore\")"
   ],
   "outputs": [],
   "execution_count": 8
  },
  {
   "metadata": {
    "ExecuteTime": {
     "end_time": "2024-08-15T15:12:38.267805Z",
     "start_time": "2024-08-15T15:12:38.261805Z"
    }
   },
   "cell_type": "code",
   "source": [
    "import tensorflow as tf\n",
    "print(\"Num GPUs Available: \", len(tf.config.list_physical_devices('GPU')))\n",
    "tf.config.list_physical_devices('GPU')"
   ],
   "id": "13c41dac1bb579fd",
   "outputs": [
    {
     "name": "stdout",
     "output_type": "stream",
     "text": [
      "Num GPUs Available:  1\n"
     ]
    },
    {
     "data": {
      "text/plain": [
       "[PhysicalDevice(name='/physical_device:GPU:0', device_type='GPU')]"
      ]
     },
     "execution_count": 9,
     "metadata": {},
     "output_type": "execute_result"
    }
   ],
   "execution_count": 9
  },
  {
   "metadata": {
    "ExecuteTime": {
     "end_time": "2024-08-15T15:16:56.721253Z",
     "start_time": "2024-08-15T15:13:04.159628Z"
    }
   },
   "cell_type": "code",
   "source": [
    "# Execute the GUI\n",
    "app = QtWidgets.QApplication.instance()\n",
    "if app is None:\n",
    "    app = QtWidgets.QApplication(sys.argv)\n",
    "\n",
    "window = MainWindow()\n",
    "window.show()\n",
    "app.exec()\n"
   ],
   "id": "7e079f6e3b9b5d95",
   "outputs": [
    {
     "name": "stdout",
     "output_type": "stream",
     "text": [
      "Form filled with: \n",
      "Training path: //10.99.68.52/Kiemendata/Valentina Matos/tissues for methods paper/human liver\n",
      "Testing path: //10.99.68.52/Kiemendata/Valentina Matos/tissues for methods paper/human liver/testing image\n",
      "Model name: 08_15_2024\n",
      "Resolution: 10x\n",
      "Loaded XML file: //10.99.68.52/Kiemendata/Valentina Matos/tissues for methods paper/human liver\\Liv-17_0001.xml\n",
      "    Layer Name           Color Whitespace Settings\n",
      "0         PDAC  (64, 128, 128)                None\n",
      "1    bile duct   (255, 255, 0)                None\n",
      "2  vasculature     (255, 0, 0)                None\n",
      "3   hepatocyte   (255, 0, 255)                None\n",
      "4       immune       (0, 0, 0)                None\n",
      "5       stroma  (255, 128, 64)                None\n",
      "6   whitespace     (0, 0, 255)                None\n",
      "Color changed for hepatocyte to (170, 85, 127)\n",
      "Color changed for vasculature to (255, 0, 0)\n",
      "Color changed for PDAC to (0, 0, 0)\n",
      "Color changed for PDAC to (255, 170, 127)\n",
      "Color changed for stroma to (255, 220, 247)\n",
      "Color changed for whitespace to (255, 255, 255)\n",
      "Color changed for bile duct to (255, 255, 0)\n",
      "Updated DataFrame:\n",
      "    Layer Name            Color Whitespace Settings  Nesting\n",
      "0         PDAC  (255, 170, 127)                   0        7\n",
      "1    bile duct    (255, 255, 0)                   0        2\n",
      "2  vasculature      (255, 0, 0)                   0        3\n",
      "3   hepatocyte   (170, 85, 127)                   0        1\n",
      "4       immune        (0, 0, 0)                   2        5\n",
      "5       stroma  (255, 220, 247)                   0        4\n",
      "6   whitespace  (255, 255, 255)                   2        6\n",
      "Original DataFrame:\n",
      "    Layer Name            Color Whitespace Settings  Nesting  Delete layer  \\\n",
      "0         PDAC  (255, 170, 127)                   0        7          True   \n",
      "1    bile duct    (255, 255, 0)                   0        2          True   \n",
      "2  vasculature      (255, 0, 0)                   0        3          True   \n",
      "3   hepatocyte   (170, 85, 127)                   0        1          True   \n",
      "4       immune        (0, 0, 0)                   2        5          True   \n",
      "5       stroma  (255, 220, 247)                   0        4          True   \n",
      "6   whitespace  (255, 255, 255)                   2        6          True   \n",
      "\n",
      "   Component analysis  Combined layers  \n",
      "0               False                1  \n",
      "1               False                2  \n",
      "2               False                3  \n",
      "3               False                4  \n",
      "4               False                5  \n",
      "5               False                6  \n",
      "6               False                7  \n",
      "\n",
      "Combined Layers DataFrame:\n",
      "  Combined names  Combined colors\n",
      "0           PDAC  (255, 170, 127)\n",
      "1      bile duct    (255, 255, 0)\n",
      "2    vasculature      (255, 0, 0)\n",
      "3     hepatocyte   (170, 85, 127)\n",
      "4         immune        (0, 0, 0)\n",
      "5         stroma  (255, 220, 247)\n",
      "6     whitespace  (255, 255, 255)\n"
     ]
    },
    {
     "data": {
      "text/plain": [
       "0"
      ]
     },
     "execution_count": 11,
     "metadata": {},
     "output_type": "execute_result"
    }
   ],
   "execution_count": 11
  },
  {
   "metadata": {
    "ExecuteTime": {
     "end_time": "2024-08-15T15:17:02.786911Z",
     "start_time": "2024-08-15T15:17:02.767906Z"
    }
   },
   "cell_type": "code",
   "source": [
    "#_______________Variable parametrization from GUI_______________\n",
    "\n",
    "#Paths\n",
    "pth = window.ui.trianing_LE.text()\n",
    "pthtest = window.ui.testing_LE.text()\n",
    "model_name = window.ui.model_name.text()\n",
    "resolution = window.ui.resolution_CB.currentText()\n",
    "pthim = os.path.join(pth, f'{resolution}')\n",
    "pthDL = os.path.join(pth, model_name)\n",
    "\n",
    "#Tif resolution\n",
    "resolution_to_umpix = {\"10x\": 1, \"5x\": 2, \"16x\": 4}\n",
    "umpix = resolution_to_umpix.get(resolution, 2)  # Default to 2 if resolution not found\n",
    "\n",
    "# Get the dataframe with annotation information\n",
    "combined_df = window.combined_df\n",
    "classNames = combined_df['Combined names'].tolist()\n",
    "colormap = combined_df['Combined colors'].tolist()\n",
    "\n",
    "#Training tile size\n",
    "tile_size = window.tile_size\n",
    "#Number of training tiles\n",
    "ntrain = window.ntrain\n",
    "nvalidate = window.nval\n",
    "#Number of validations tiles\n",
    "nval = window.nval\n",
    "#Number of TA images to evaluate (coming sooon)\n",
    "# TA = window.TA\n",
    "\n",
    "#Create WS\n",
    "df = window.df\n",
    "layers_to_delete = df.index[~df['Delete layer']].tolist()\n",
    "layers_to_delete = [i+1 for i in layers_to_delete] #get row index starting from 1\n",
    "nesting_list = df['Nesting'].tolist()\n",
    "nesting_list.reverse()\n",
    "WS = [df['Whitespace Settings'].tolist(),\n",
    "      [window.add_ws_to, window.add_nonws_to],\n",
    "      df['Combined layers'].tolist(),\n",
    "      nesting_list,\n",
    "      layers_to_delete\n",
    "      ]\n",
    "\n",
    "\n",
    "numclass = max(WS[2])\n",
    "nblack = numclass + 1;nwhite = WS[1][0]\n",
    "\n",
    "colormap = np.array(colormap)\n",
    "\n",
    "#Final Parameters\n",
    "print('Classnames: ', classNames)\n",
    "print('Colormap: ', colormap)\n",
    "print(WS)"
   ],
   "id": "e7c660d1ea88e0b9",
   "outputs": [
    {
     "name": "stdout",
     "output_type": "stream",
     "text": [
      "Classnames:  ['PDAC', 'bile duct', 'vasculature', 'hepatocyte', 'immune', 'stroma', 'whitespace']\n",
      "Colormap:  [[255 170 127]\n",
      " [255 255   0]\n",
      " [255   0   0]\n",
      " [170  85 127]\n",
      " [  0   0   0]\n",
      " [255 220 247]\n",
      " [255 255 255]]\n",
      "[[0, 0, 0, 0, 2, 0, 2], [7, 6], [1, 2, 3, 4, 5, 6, 7], [6, 4, 5, 1, 3, 2, 7], []]\n"
     ]
    }
   ],
   "execution_count": 12
  },
  {
   "metadata": {
    "ExecuteTime": {
     "end_time": "2024-08-15T15:17:04.827373Z",
     "start_time": "2024-08-15T15:17:04.552528Z"
    }
   },
   "cell_type": "code",
   "source": [
    "# 1 save model metadata\n",
    "save_model_metadata(pthDL, pthim, WS, model_name, umpix, colormap, tile_size, classNames, ntrain, nvalidate)"
   ],
   "id": "70faa566c671beee",
   "outputs": [
    {
     "name": "stdout",
     "output_type": "stream",
     "text": [
      "Saving model metadata and classification colormap...\n",
      "Creating Net metadata file...\n",
      "Plotting cmap took 0.0 minutes and 0.14815878868103027 seconds\n",
      "Saving metadata took 0.0 minutes and 0.2463243007659912 seconds\n"
     ]
    },
    {
     "data": {
      "text/plain": [
       "<Figure size 640x480 with 1 Axes>"
      ],
      "image/png": "[encoded data removed]"
     },
     "metadata": {},
     "output_type": "display_data"
    }
   ],
   "execution_count": 13
  },
  {
   "metadata": {},
   "cell_type": "code",
   "outputs": [],
   "execution_count": null,
   "source": [
    "# Create tif images from /.ndpi / .svs\n",
    "WSI2tif(pth, resolution, umpix)"
   ],
   "id": "8319aa7c7cb245d9"
  },
  {
   "metadata": {
    "ExecuteTime": {
     "end_time": "2024-08-15T15:40:01.585589Z",
     "start_time": "2024-08-15T15:17:16.952596Z"
    }
   },
   "cell_type": "code",
   "source": [
    "# 2 load and format annotations from each annotated image\n",
    "[ctlist0, numann0] = load_annotation_data(pthDL, pth, pthim)"
   ],
   "id": "8b3fc3f9f5725670",
   "outputs": [
    {
     "name": "stdout",
     "output_type": "stream",
     "text": [
      " \n",
      "Importing annotation data...\n",
      "Image 1 of 6: Liv-17_0001\n",
      "Checking parameters took 0.0 minutes and 0.0 seconds\n",
      " 1. of 4. Importing annotation data from xml file\n",
      "Loading annotation took 0.0 minutes and 0.3515191078186035 seconds\n",
      " Creating file...\n",
      "Import xml took 0.0 minutes and 0.38153576850891113 seconds\n",
      "  Existing TA loaded\n",
      "Calculating tissue mask took 0.0 minutes and 25.158158779144287 seconds\n",
      " 2. of 4. Interpolating annotated regions and saving mask image\n",
      "Format white took 0.0 minutes and 41.23377251625061 seconds\n",
      "Saving annotation mask took 2.0 minutes and 34.593748807907104 seconds\n",
      " 4. of 4. Creating bounding box tiles of all annotations\n",
      "Bounding boxes took 0.0 minutes and 24.523181676864624 seconds\n",
      " Finished image in 224 seconds.\n",
      "Image 2 of 6: Liv-17_0041\n",
      "Checking parameters took 0.0 minutes and 0.0010001659393310547 seconds\n",
      " 1. of 4. Importing annotation data from xml file\n",
      "Loading annotation took 0.0 minutes and 0.1887073516845703 seconds\n",
      " Creating file...\n",
      "Import xml took 0.0 minutes and 0.20680665969848633 seconds\n",
      "  Existing TA loaded\n",
      "Calculating tissue mask took 0.0 minutes and 22.634047031402588 seconds\n",
      " 2. of 4. Interpolating annotated regions and saving mask image\n",
      "Format white took 0.0 minutes and 41.374755859375 seconds\n",
      "Saving annotation mask took 2.0 minutes and 32.73838543891907 seconds\n",
      " 4. of 4. Creating bounding box tiles of all annotations\n",
      "Bounding boxes took 0.0 minutes and 19.12725520133972 seconds\n",
      " Finished image in 216 seconds.\n",
      "Image 3 of 6: Liv-17_0081\n",
      "Checking parameters took 0.0 minutes and 0.0010001659393310547 seconds\n",
      " 1. of 4. Importing annotation data from xml file\n",
      "Loading annotation took 0.0 minutes and 0.22799897193908691 seconds\n",
      " Creating file...\n",
      "Import xml took 0.0 minutes and 0.24899983406066895 seconds\n",
      "  Existing TA loaded\n",
      "Calculating tissue mask took 0.0 minutes and 24.35409164428711 seconds\n",
      " 2. of 4. Interpolating annotated regions and saving mask image\n",
      "Format white took 0.0 minutes and 40.809802770614624 seconds\n",
      "Saving annotation mask took 2.0 minutes and 34.79349231719971 seconds\n",
      " 4. of 4. Creating bounding box tiles of all annotations\n",
      "Bounding boxes took 0.0 minutes and 20.353513717651367 seconds\n",
      " Finished image in 221 seconds.\n",
      "Image 4 of 6: Liv-17_0121\n",
      "Checking parameters took 0.0 minutes and 0.0010004043579101562 seconds\n",
      " 1. of 4. Importing annotation data from xml file\n",
      "Loading annotation took 0.0 minutes and 0.1967620849609375 seconds\n",
      " Creating file...\n",
      "Import xml took 0.0 minutes and 0.2242107391357422 seconds\n",
      "  Existing TA loaded\n",
      "Calculating tissue mask took 0.0 minutes and 24.05495047569275 seconds\n",
      " 2. of 4. Interpolating annotated regions and saving mask image\n",
      "Format white took 0.0 minutes and 39.82063293457031 seconds\n",
      "Saving annotation mask took 2.0 minutes and 28.1203453540802 seconds\n",
      " 4. of 4. Creating bounding box tiles of all annotations\n",
      "Bounding boxes took 0.0 minutes and 19.216295957565308 seconds\n",
      " Finished image in 212 seconds.\n",
      "Image 5 of 6: Liv-17_0161\n",
      "Checking parameters took 0.0 minutes and 0.0010650157928466797 seconds\n",
      " 1. of 4. Importing annotation data from xml file\n",
      "Loading annotation took 0.0 minutes and 0.3117341995239258 seconds\n",
      " Creating file...\n",
      "Import xml took 0.0 minutes and 0.34961771965026855 seconds\n",
      "  Existing TA loaded\n",
      "Calculating tissue mask took 0.0 minutes and 29.272958755493164 seconds\n",
      " 2. of 4. Interpolating annotated regions and saving mask image\n",
      "Format white took 0.0 minutes and 52.13311839103699 seconds\n",
      "Saving annotation mask took 3.0 minutes and 12.639643430709839 seconds\n",
      " 4. of 4. Creating bounding box tiles of all annotations\n",
      "Bounding boxes took 0.0 minutes and 25.291001558303833 seconds\n",
      " Finished image in 274 seconds.\n",
      "Image 6 of 6: Liv-17_0199\n",
      "Checking parameters took 0.0 minutes and 0.0009996891021728516 seconds\n",
      " 1. of 4. Importing annotation data from xml file\n",
      "Loading annotation took 0.0 minutes and 0.24950718879699707 seconds\n",
      " Creating file...\n",
      "Import xml took 0.0 minutes and 0.28063082695007324 seconds\n",
      "  Existing TA loaded\n",
      "Calculating tissue mask took 0.0 minutes and 24.134178400039673 seconds\n",
      " 2. of 4. Interpolating annotated regions and saving mask image\n",
      "Format white took 0.0 minutes and 41.02347493171692 seconds\n",
      "Saving annotation mask took 2.0 minutes and 32.821727991104126 seconds\n",
      " 4. of 4. Creating bounding box tiles of all annotations\n",
      "Bounding boxes took 0.0 minutes and 18.901992082595825 seconds\n",
      " Finished image in 216 seconds.\n"
     ]
    }
   ],
   "execution_count": 14
  },
  {
   "metadata": {
    "ExecuteTime": {
     "end_time": "2024-08-15T18:04:50.970910Z",
     "start_time": "2024-08-15T16:52:16.524477Z"
    }
   },
   "cell_type": "code",
   "source": [
    "# 3 Make training & validation tiles for model training\n",
    "create_training_tiles(pthDL, numann0, ctlist0)"
   ],
   "id": "3b9f6cd5b9707c7a",
   "outputs": [
    {
     "name": "stdout",
     "output_type": "stream",
     "text": [
      "\n",
      "Calculating total number of pixels in the training dataset...\n",
      " There are 544424200.0 pixels of PDAC, 41% of the most common class.\n",
      " There are 32237300.0 pixels of bile duct, 2% of the most common class.\n",
      " There are 92535400.0 pixels of vasculature, 7% of the most common class.\n",
      " There are 1312608300.0 pixels of hepatocyte. This is the most common class.\n",
      " There are 32903400.0 pixels of immune, 2% of the most common class.\n",
      " There are 655049200.0 pixels of stroma, 49% of the most common class.\n",
      " There are 817804400.0 pixels of whitespace, 62% of the most common class.\n",
      "\n",
      "Building training tiles...\n",
      "Starting time for the while loop\n",
      "Saving big tiles\n",
      "  1 of 15 training images completed in 4 minutes\n",
      "  Used 136.7% counts and 32.7% unique annotations of PDAC\n",
      "  Used 586.2% counts and 100.0% unique annotations of bile duct\n",
      "  Used 433.3% counts and 77.8% unique annotations of vasculature\n",
      "  Used 277.5% counts and 46.4% unique annotations of hepatocyte\n",
      "  Used 665.8% counts and 100.0% unique annotations of immune\n",
      "  Used 308.8% counts and 56.1% unique annotations of stroma\n",
      "  Used 224.2% counts and 38.1% unique annotations of whitespace\n",
      "Starting time for the while loop\n",
      "Saving big tiles\n",
      "  2 of 15 training images completed in 8 minutes\n",
      "  Used 176.5% counts and 67.3% unique annotations of PDAC\n",
      "  Used 1048.3% counts and 100.0% unique annotations of bile duct\n",
      "  Used 755.6% counts and 90.3% unique annotations of vasculature\n",
      "  Used 451.0% counts and 60.9% unique annotations of hepatocyte\n",
      "  Used 1205.3% counts and 100.0% unique annotations of immune\n",
      "  Used 512.8% counts and 75.7% unique annotations of stroma\n",
      "  Used 345.3% counts and 55.7% unique annotations of whitespace\n",
      "Starting time for the while loop\n",
      "Saving big tiles\n",
      "  3 of 15 training images completed in 12 minutes\n",
      "  Used 216.3% counts and 98.0% unique annotations of PDAC\n",
      "  Used 1560.3% counts and 100.0% unique annotations of bile duct\n",
      "  Used 1115.3% counts and 100.0% unique annotations of vasculature\n",
      "  Used 640.4% counts and 75.5% unique annotations of hepatocyte\n",
      "  Used 1797.4% counts and 100.0% unique annotations of immune\n",
      "  Used 737.2% counts and 93.9% unique annotations of stroma\n",
      "  Used 479.6% counts and 74.0% unique annotations of whitespace\n",
      "Starting time for the while loop\n",
      "Saving big tiles\n",
      "  4 of 15 training images completed in 16 minutes\n",
      "  Used 257.1% counts and 100.0% unique annotations of PDAC\n",
      "  Used 2020.7% counts and 100.0% unique annotations of bile duct\n",
      "  Used 1440.3% counts and 100.0% unique annotations of vasculature\n",
      "  Used 811.9% counts and 86.1% unique annotations of hepatocyte\n",
      "  Used 2321.1% counts and 100.0% unique annotations of immune\n",
      "  Used 944.6% counts and 98.6% unique annotations of stroma\n",
      "  Used 602.4% counts and 81.3% unique annotations of whitespace\n",
      "Starting time for the while loop\n",
      "Saving big tiles\n",
      "  5 of 15 training images completed in 20 minutes\n",
      "  Used 293.9% counts and 100.0% unique annotations of PDAC\n",
      "  Used 2481.0% counts and 100.0% unique annotations of bile duct\n",
      "  Used 1765.3% counts and 100.0% unique annotations of vasculature\n",
      "  Used 983.4% counts and 93.4% unique annotations of hepatocyte\n",
      "  Used 2850.0% counts and 100.0% unique annotations of immune\n",
      "  Used 1143.9% counts and 100.0% unique annotations of stroma\n",
      "  Used 723.2% counts and 86.5% unique annotations of whitespace\n",
      "Starting time for the while loop\n",
      "Saving big tiles\n",
      "  6 of 15 training images completed in 24 minutes\n",
      "  Used 329.6% counts and 100.0% unique annotations of PDAC\n",
      "  Used 2956.9% counts and 100.0% unique annotations of bile duct\n",
      "  Used 2090.3% counts and 100.0% unique annotations of vasculature\n",
      "  Used 1162.3% counts and 99.3% unique annotations of hepatocyte\n",
      "  Used 3405.3% counts and 100.0% unique annotations of immune\n",
      "  Used 1350.0% counts and 100.0% unique annotations of stroma\n",
      "  Used 847.8% counts and 91.0% unique annotations of whitespace\n",
      "Starting time for the while loop\n",
      "Saving big tiles\n",
      "  7 of 15 training images completed in 28 minutes\n",
      "  Used 373.5% counts and 100.0% unique annotations of PDAC\n",
      "  Used 3441.4% counts and 100.0% unique annotations of bile duct\n",
      "  Used 2429.2% counts and 100.0% unique annotations of vasculature\n",
      "  Used 1342.4% counts and 100.0% unique annotations of hepatocyte\n",
      "  Used 3952.6% counts and 100.0% unique annotations of immune\n",
      "  Used 1566.2% counts and 100.0% unique annotations of stroma\n",
      "  Used 977.5% counts and 93.8% unique annotations of whitespace\n",
      "Starting time for the while loop\n",
      "Saving big tiles\n",
      "  8 of 15 training images completed in 32 minutes\n",
      "  Used 409.2% counts and 100.0% unique annotations of PDAC\n",
      "  Used 3953.4% counts and 100.0% unique annotations of bile duct\n",
      "  Used 2788.9% counts and 100.0% unique annotations of vasculature\n",
      "  Used 1532.5% counts and 100.0% unique annotations of hepatocyte\n",
      "  Used 4584.2% counts and 100.0% unique annotations of immune\n",
      "  Used 1787.8% counts and 100.0% unique annotations of stroma\n",
      "  Used 1109.7% counts and 96.2% unique annotations of whitespace\n",
      "Starting time for the while loop\n",
      "Saving big tiles\n",
      "  9 of 15 training images completed in 36 minutes\n",
      "  Used 445.9% counts and 100.0% unique annotations of PDAC\n",
      "  Used 4429.3% counts and 100.0% unique annotations of bile duct\n",
      "  Used 3118.1% counts and 100.0% unique annotations of vasculature\n",
      "  Used 1706.0% counts and 100.0% unique annotations of hepatocyte\n",
      "  Used 5131.6% counts and 100.0% unique annotations of immune\n",
      "  Used 1993.9% counts and 100.0% unique annotations of stroma\n",
      "  Used 1234.3% counts and 98.3% unique annotations of whitespace\n",
      "Starting time for the while loop\n",
      "Saving big tiles\n",
      "  10 of 15 training images completed in 40 minutes\n",
      "  Used 482.7% counts and 100.0% unique annotations of PDAC\n",
      "  Used 4896.6% counts and 100.0% unique annotations of bile duct\n",
      "  Used 3447.2% counts and 100.0% unique annotations of vasculature\n",
      "  Used 1878.8% counts and 100.0% unique annotations of hepatocyte\n",
      "  Used 5673.7% counts and 100.0% unique annotations of immune\n",
      "  Used 2199.3% counts and 100.0% unique annotations of stroma\n",
      "  Used 1356.7% counts and 100.0% unique annotations of whitespace\n",
      "Starting time for the while loop\n",
      "Saving big tiles\n",
      "  11 of 15 training images completed in 44 minutes\n",
      "  Used 521.4% counts and 100.0% unique annotations of PDAC\n",
      "  Used 5403.4% counts and 100.0% unique annotations of bile duct\n",
      "  Used 3802.8% counts and 100.0% unique annotations of vasculature\n",
      "  Used 2066.9% counts and 100.0% unique annotations of hepatocyte\n",
      "  Used 6255.3% counts and 100.0% unique annotations of immune\n",
      "  Used 2419.6% counts and 100.0% unique annotations of stroma\n",
      "  Used 1488.9% counts and 100.0% unique annotations of whitespace\n",
      "Starting time for the while loop\n",
      "Saving big tiles\n",
      "  12 of 15 training images completed in 48 minutes\n",
      "  Used 558.2% counts and 100.0% unique annotations of PDAC\n",
      "  Used 5884.5% counts and 100.0% unique annotations of bile duct\n",
      "  Used 4144.4% counts and 100.0% unique annotations of vasculature\n",
      "  Used 2245.0% counts and 100.0% unique annotations of hepatocyte\n",
      "  Used 6839.5% counts and 100.0% unique annotations of immune\n",
      "  Used 2629.7% counts and 100.0% unique annotations of stroma\n",
      "  Used 1613.8% counts and 100.0% unique annotations of whitespace\n",
      "Starting time for the while loop\n",
      "Saving big tiles\n",
      "  13 of 15 training images completed in 52 minutes\n",
      "  Used 598.0% counts and 100.0% unique annotations of PDAC\n",
      "  Used 6325.9% counts and 100.0% unique annotations of bile duct\n",
      "  Used 4450.0% counts and 100.0% unique annotations of vasculature\n",
      "  Used 2412.6% counts and 100.0% unique annotations of hepatocyte\n",
      "  Used 7334.2% counts and 100.0% unique annotations of immune\n",
      "  Used 2823.6% counts and 100.0% unique annotations of stroma\n",
      "  Used 1730.8% counts and 100.0% unique annotations of whitespace\n",
      "Starting time for the while loop\n",
      "Saving big tiles\n",
      "  14 of 15 training images completed in 56 minutes\n",
      "  Used 638.8% counts and 100.0% unique annotations of PDAC\n",
      "  Used 6819.0% counts and 100.0% unique annotations of bile duct\n",
      "  Used 4800.0% counts and 100.0% unique annotations of vasculature\n",
      "  Used 2600.0% counts and 100.0% unique annotations of hepatocyte\n",
      "  Used 7865.8% counts and 100.0% unique annotations of immune\n",
      "  Used 3043.9% counts and 100.0% unique annotations of stroma\n",
      "  Used 1861.9% counts and 100.0% unique annotations of whitespace\n",
      "Starting time for the while loop\n",
      "Saving big tiles\n",
      "  15 of 15 training images completed in 60 minutes\n",
      "  Used 679.6% counts and 100.0% unique annotations of PDAC\n",
      "  Used 7301.7% counts and 100.0% unique annotations of bile duct\n",
      "  Used 5136.1% counts and 100.0% unique annotations of vasculature\n",
      "  Used 2777.5% counts and 100.0% unique annotations of hepatocyte\n",
      "  Used 8415.8% counts and 100.0% unique annotations of immune\n",
      "  Used 3257.4% counts and 100.0% unique annotations of stroma\n",
      "  Used 1988.9% counts and 100.0% unique annotations of whitespace\n",
      "  Elapsed time to create training big tiles: 1.0h 0.0m 38.61181116104126s\n",
      "\n",
      "\n",
      "Building validation tiles...\n",
      "Starting time for the while loop\n",
      "Saving big tiles\n",
      "1 of 3 validation images completed in 3 minutes\n",
      "Used 140.8% counts and 35.7% unique annotations of PDAC\n",
      "Used 586.2% counts and 100.0% unique annotations of bile duct\n",
      "Used 447.2% counts and 90.3% unique annotations of vasculature\n",
      "Used 278.1% counts and 47.7% unique annotations of hepatocyte\n",
      "Used 671.1% counts and 100.0% unique annotations of immune\n",
      "Used 316.2% counts and 62.2% unique annotations of stroma\n",
      "Used 226.0% counts and 39.4% unique annotations of whitespace\n",
      "Starting time for the while loop\n",
      "Saving big tiles\n",
      "2 of 3 validation images completed in 8 minutes\n",
      "Used 181.6% counts and 70.4% unique annotations of PDAC\n",
      "Used 1065.5% counts and 100.0% unique annotations of bile duct\n",
      "Used 783.3% counts and 100.0% unique annotations of vasculature\n",
      "Used 458.3% counts and 62.3% unique annotations of hepatocyte\n",
      "Used 1205.3% counts and 100.0% unique annotations of immune\n",
      "Used 528.4% counts and 81.8% unique annotations of stroma\n",
      "Used 352.2% counts and 57.4% unique annotations of whitespace\n",
      "Starting time for the while loop\n",
      "Saving big tiles\n",
      "3 of 3 validation images completed in 11 minutes\n",
      "Used 217.3% counts and 98.0% unique annotations of PDAC\n",
      "Used 1562.1% counts and 100.0% unique annotations of bile duct\n",
      "Used 1129.2% counts and 100.0% unique annotations of vasculature\n",
      "Used 645.0% counts and 74.2% unique annotations of hepatocyte\n",
      "Used 1800.0% counts and 100.0% unique annotations of immune\n",
      "Used 743.2% counts and 96.6% unique annotations of stroma\n",
      "Used 482.0% counts and 73.0% unique annotations of whitespace\n",
      "Elapsed time to create validation big tiles: 0.0h 11.0m 55.57740664482117s\n"
     ]
    }
   ],
   "execution_count": 15
  },
  {
   "metadata": {
    "jupyter": {
     "is_executing": true
    },
    "ExecuteTime": {
     "start_time": "2024-08-15T18:04:50.971911Z"
    }
   },
   "cell_type": "code",
   "source": [
    "# 4 Train model\n",
    "train_segmentation_model(pthDL)"
   ],
   "id": "b34c5e19218aaf3",
   "outputs": [
    {
     "name": "stdout",
     "output_type": "stream",
     "text": [
      "TensorFlow is using the following GPU: LogicalDevice(name='/device:GPU:0', device_type='GPU')\n",
      "Starting model training...\n",
      "Epoch 1/8\n"
     ]
    }
   ],
   "execution_count": null
  },
  {
   "metadata": {
    "ExecuteTime": {
     "end_time": "2024-08-15T14:14:49.612530Z",
     "start_time": "2024-08-15T14:10:18.122812Z"
    }
   },
   "cell_type": "code",
   "source": [
    "# 5 Test model\n",
    "pthtestim = os.path.join(pthtest, f'{resolution}')\n",
    "# WSI2tif(pthtest, resolution, umpix)\n",
    "test_segmentation_model(pthDL, pthtest, pthtestim)"
   ],
   "id": "c75c0cb40723b072",
   "outputs": [
    {
     "name": "stdout",
     "output_type": "stream",
     "text": [
      "Testing segmentation model......\n",
      " \n",
      "Importing annotation data...\n",
      "Image 1 of 2: SG_013_0013\n",
      "Checking parameters took 0.0 minutes and 0.0009999275207519531 seconds\n",
      " 1. of 4. Importing annotation data from xml file\n",
      "Loading annotation took 0.0 minutes and 2.049485445022583 seconds\n",
      " Creating file...\n",
      "Import xml took 0.0 minutes and 2.163480758666992 seconds\n",
      "  Calculating TA image\n",
      "Calculating tissue mask took 0.0 minutes and 11.63170576095581 seconds\n",
      " 2. of 4. Interpolating annotated regions and saving mask image\n",
      "Format white took 0.0 minutes and 23.36711549758911 seconds\n",
      "Saving annotation mask took 1.0 minutes and 23.94567584991455 seconds\n",
      " 4. of 4. Creating bounding box tiles of all annotations\n",
      "Bounding boxes took 0.0 minutes and 23.464845180511475 seconds\n",
      " Finished image in 127 seconds.\n",
      "Image 2 of 2: SG_014_0016\n",
      "Checking parameters took 0.0 minutes and 0.0009999275207519531 seconds\n",
      " 1. of 4. Importing annotation data from xml file\n",
      "Loading annotation took 0.0 minutes and 1.3741555213928223 seconds\n",
      " Creating file...\n",
      "Import xml took 0.0 minutes and 1.4655234813690186 seconds\n",
      "  Calculating TA image\n",
      "Calculating tissue mask took 0.0 minutes and 13.559211492538452 seconds\n",
      " 2. of 4. Interpolating annotated regions and saving mask image\n",
      "  annotation out of bounds\n",
      "Format white took 0.0 minutes and 29.16738772392273 seconds\n",
      "Saving annotation mask took 1.0 minutes and 36.035234451293945 seconds\n",
      " 4. of 4. Creating bounding box tiles of all annotations\n",
      "Bounding boxes took 0.0 minutes and 25.09147024154663 seconds\n",
      " Finished image in 143 seconds.\n"
     ]
    },
    {
     "ename": "KeyError",
     "evalue": "'model'",
     "output_type": "error",
     "traceback": [
      "\u001B[1;31m---------------------------------------------------------------------------\u001B[0m",
      "\u001B[1;31mKeyError\u001B[0m                                  Traceback (most recent call last)",
      "Cell \u001B[1;32mIn[24], line 4\u001B[0m\n\u001B[0;32m      2\u001B[0m pthtestim \u001B[38;5;241m=\u001B[39m os\u001B[38;5;241m.\u001B[39mpath\u001B[38;5;241m.\u001B[39mjoin(pthtest, \u001B[38;5;124mf\u001B[39m\u001B[38;5;124m'\u001B[39m\u001B[38;5;132;01m{\u001B[39;00mresolution\u001B[38;5;132;01m}\u001B[39;00m\u001B[38;5;124m'\u001B[39m)\n\u001B[0;32m      3\u001B[0m \u001B[38;5;66;03m# WSI2tif(pthtest, resolution, umpix)\u001B[39;00m\n\u001B[1;32m----> 4\u001B[0m \u001B[43mtest_segmentation_model\u001B[49m\u001B[43m(\u001B[49m\u001B[43mpthDL\u001B[49m\u001B[43m,\u001B[49m\u001B[43m \u001B[49m\u001B[43mpthtest\u001B[49m\u001B[43m,\u001B[49m\u001B[43m \u001B[49m\u001B[43mpthtestim\u001B[49m\u001B[43m)\u001B[49m\n",
      "File \u001B[1;32m~\\PycharmProjects\\CODA\\CODA_python\\test_segmentation_model.py:32\u001B[0m, in \u001B[0;36mtest_segmentation_model\u001B[1;34m(pthDL, pthtest, pthtestim)\u001B[0m\n\u001B[0;32m     29\u001B[0m pthtestdata \u001B[38;5;241m=\u001B[39m os\u001B[38;5;241m.\u001B[39mpath\u001B[38;5;241m.\u001B[39mjoin(pthtest, \u001B[38;5;124m'\u001B[39m\u001B[38;5;124mdata py\u001B[39m\u001B[38;5;124m'\u001B[39m)\n\u001B[0;32m     30\u001B[0m load_annotation_data(pthDL, pthtest, pthtestim)\n\u001B[1;32m---> 32\u001B[0m pthclassifytest \u001B[38;5;241m=\u001B[39m \u001B[43mclassify_images\u001B[49m\u001B[43m(\u001B[49m\u001B[43mpthtestim\u001B[49m\u001B[43m,\u001B[49m\u001B[43m \u001B[49m\u001B[43mpthDL\u001B[49m\u001B[43m,\u001B[49m\u001B[43m \u001B[49m\u001B[43mcolor_overlay_HE\u001B[49m\u001B[38;5;241;43m=\u001B[39;49m\u001B[38;5;28;43;01mTrue\u001B[39;49;00m\u001B[43m,\u001B[49m\u001B[43m \u001B[49m\u001B[43mcolor_mask\u001B[49m\u001B[38;5;241;43m=\u001B[39;49m\u001B[38;5;28;43;01mFalse\u001B[39;49;00m\u001B[43m)\u001B[49m\n\u001B[0;32m     34\u001B[0m classNames \u001B[38;5;241m=\u001B[39m classNames[:\u001B[38;5;241m-\u001B[39m\u001B[38;5;241m1\u001B[39m]\n\u001B[0;32m     35\u001B[0m numClasses \u001B[38;5;241m=\u001B[39m nblack \u001B[38;5;241m-\u001B[39m \u001B[38;5;241m1\u001B[39m\n",
      "File \u001B[1;32m~\\PycharmProjects\\CODA\\CODA_python\\classify_images.py:29\u001B[0m, in \u001B[0;36mclassify_images\u001B[1;34m(pthim, pthDL, color_overlay_HE, color_mask)\u001B[0m\n\u001B[0;32m     27\u001B[0m \u001B[38;5;28;01mwith\u001B[39;00m \u001B[38;5;28mopen\u001B[39m(os\u001B[38;5;241m.\u001B[39mpath\u001B[38;5;241m.\u001B[39mjoin(pthDL, \u001B[38;5;124m'\u001B[39m\u001B[38;5;124mnet.pkl\u001B[39m\u001B[38;5;124m'\u001B[39m), \u001B[38;5;124m'\u001B[39m\u001B[38;5;124mrb\u001B[39m\u001B[38;5;124m'\u001B[39m) \u001B[38;5;28;01mas\u001B[39;00m f:\n\u001B[0;32m     28\u001B[0m     data \u001B[38;5;241m=\u001B[39m pickle\u001B[38;5;241m.\u001B[39mload(f)\n\u001B[1;32m---> 29\u001B[0m     model \u001B[38;5;241m=\u001B[39m \u001B[43mdata\u001B[49m\u001B[43m[\u001B[49m\u001B[38;5;124;43m'\u001B[39;49m\u001B[38;5;124;43mmodel\u001B[39;49m\u001B[38;5;124;43m'\u001B[39;49m\u001B[43m]\u001B[49m\n\u001B[0;32m     30\u001B[0m     classNames \u001B[38;5;241m=\u001B[39m data[\u001B[38;5;124m'\u001B[39m\u001B[38;5;124mclassNames\u001B[39m\u001B[38;5;124m'\u001B[39m]\n\u001B[0;32m     31\u001B[0m     \u001B[38;5;66;03m# sxy = data['sxy']\u001B[39;00m\n",
      "\u001B[1;31mKeyError\u001B[0m: 'model'"
     ]
    }
   ],
   "execution_count": 24
  },
  {
   "metadata": {},
   "cell_type": "code",
   "source": [
    "# 6 Classify images with pretrained model\n",
    "classify_images(pthim,pthDL)"
   ],
   "id": "fe74ead878c5766e",
   "outputs": [],
   "execution_count": null
  }
 ],
 "metadata": {
  "kernelspec": {
   "display_name": "Python 3",
   "language": "python",
   "name": "python3"
  },
  "language_info": {
   "codemirror_mode": {
    "name": "ipython",
    "version": 2
   },
   "file_extension": ".py",
   "mimetype": "text/x-python",
   "name": "python",
   "nbconvert_exporter": "python",
   "pygments_lexer": "ipython2",
   "version": "2.7.6"
  }
 },
 "nbformat": 4,
 "nbformat_minor": 5
}
