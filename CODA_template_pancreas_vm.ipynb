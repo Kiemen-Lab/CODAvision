{
 "cells": [
  {
   "cell_type": "code",
   "id": "initial_id",
   "metadata": {
    "collapsed": true,
    "ExecuteTime": {
     "end_time": "2024-06-25T18:59:56.994185Z",
     "start_time": "2024-06-25T18:59:54.337936Z"
    }
   },
   "source": [
    "import pickle\n",
    "\n",
    "\"\"\"\n",
    "Author: Valentina Matos (Johns Hopkins - Wirtz/Kiemen Lab)\n",
    "Date: June 22, 2024\n",
    "\"\"\"\n",
    "\n",
    "import os\n",
    "import numpy as np\n",
    "import warnings\n",
    "from save_model_metadata import save_model_metadata\n",
    "from load_annotation_data import load_annotation_data\n",
    "from train_segmentation_model import train_segmentation_model\n",
    "from create_training_tiles import create_training_tiles\n",
    "from test_segmentation_model import test_segmentation_model\n",
    "from classify_images import classify_images\n",
    "warnings.filterwarnings(\"ignore\")"
   ],
   "outputs": [],
   "execution_count": 1
  },
  {
   "metadata": {
    "ExecuteTime": {
     "end_time": "2024-06-25T18:59:57.010190Z",
     "start_time": "2024-06-25T18:59:56.995186Z"
    }
   },
   "cell_type": "code",
   "source": [
    "# Variable parametrization\n",
    "\n",
    "pth = r'\\\\10.99.68.52\\Kiemendata\\Valentina Matos\\coda to python\\test model'\n",
    "pthim = os.path.join(pth, '5x')\n",
    "umpix = 2\n",
    "pthtest = os.path.join(pth, 'testing images')\n",
    "pthtestim = os.path.join(pthtest, '5x')\n",
    "nm = '04_19_2024'\n",
    "\n",
    "WS = [[2, 0, 0, 1, 0, 0, 2, 0, 2, 2, 2, 0, 0], [7, 6], \n",
    "      [1, 2, 3, 4, 5, 6, 7, 8, 7, 9, 10, 8, 11], \n",
    "      [6, 5, 4, 11, 1, 2, 3, 8, 10, 12, 13, 7, 9], []]\n",
    "\n",
    "numclass = max(WS[2])\n",
    "sxy = 1024\n",
    "pthDL = os.path.join(pth, nm)\n",
    "nblack = numclass + 1\n",
    "nwhite = WS[1][0]\n",
    "cmap = np.array([[121, 248, 252],\n",
    "                  [0, 0, 255],\n",
    "                  [80, 237, 80],\n",
    "                  [255, 255, 0],\n",
    "                  [149, 35, 184],\n",
    "                  [25, 194, 245],\n",
    "                  [255, 255, 255],\n",
    "                  [255, 0, 0],\n",
    "                  [73, 120, 111],\n",
    "                  [0, 0, 0],\n",
    "                  [135, 7, 7],\n",
    "                  [240, 159, 10]])\n",
    "classNames = ['islet', 'duct', 'blood vessel', 'fat','acini','ecm','whitespace','PanIN', 'nerves','immune', 'PDAC']\n",
    "ntrain = 15\n",
    "nvalidate = np.ceil(ntrain/5)\n",
    "# numims = 2 #not usable for now"
   ],
   "id": "89319e11a423e18f",
   "outputs": [],
   "execution_count": 2
  },
  {
   "metadata": {},
   "cell_type": "code",
   "source": [
    "# 1 save model metadata\n",
    "save_model_metadata(pthDL, pthim, WS, nm, umpix, cmap, sxy, classNames, ntrain, nvalidate)"
   ],
   "id": "70faa566c671beee",
   "outputs": [],
   "execution_count": null
  },
  {
   "metadata": {},
   "cell_type": "code",
   "outputs": [],
   "execution_count": null,
   "source": [
    "# 2 load and format annotations from each annotated image\n",
    "[ctlist0, numann0] = load_annotation_data(pthDL, pth, pthim)"
   ],
   "id": "8b3fc3f9f5725670"
  },
  {
   "metadata": {},
   "cell_type": "code",
   "outputs": [],
   "execution_count": null,
   "source": [
    "# 3 Make training & validation tiles for model training\n",
    "create_training_tiles(pthDL, numann0, ctlist0)"
   ],
   "id": "3b9f6cd5b9707c7a"
  },
  {
   "metadata": {},
   "cell_type": "code",
   "outputs": [],
   "execution_count": null,
   "source": [
    "# 4 Train model\n",
    "train_segmentation_model(pthDL)"
   ],
   "id": "b34c5e19218aaf3"
  },
  {
   "metadata": {},
   "cell_type": "code",
   "outputs": [],
   "execution_count": null,
   "source": [
    "# 5 Test model\n",
    "test_segmentation_model(pthDL, pthtest, pthtestim)"
   ],
   "id": "c75c0cb40723b072"
  },
  {
   "metadata": {
    "jupyter": {
     "is_executing": true
    },
    "ExecuteTime": {
     "start_time": "2024-06-25T19:03:17.527257Z"
    }
   },
   "cell_type": "code",
   "source": [
    "# 6 Classify images with pretrained model\n",
    "pthim = r'C:\\Users\\Valentina\\OneDrive - Johns Hopkins\\Desktop\\test png\\PNG'\n",
    "classify_images(pthim,pthDL)"
   ],
   "id": "fe74ead878c5766e",
   "outputs": [
    {
     "name": "stdout",
     "output_type": "stream",
     "text": [
      "   \n",
      "  Starting classification of image 1 of 2: SG_013_0061.png\n"
     ]
    }
   ],
   "execution_count": null
  },
  {
   "metadata": {},
   "cell_type": "code",
   "outputs": [],
   "execution_count": null,
   "source": "",
   "id": "4f9d291cd046656b"
  }
 ],
 "metadata": {
  "kernelspec": {
   "display_name": "Python 3",
   "language": "python",
   "name": "python3"
  },
  "language_info": {
   "codemirror_mode": {
    "name": "ipython",
    "version": 2
   },
   "file_extension": ".py",
   "mimetype": "text/x-python",
   "name": "python",
   "nbconvert_exporter": "python",
   "pygments_lexer": "ipython2",
   "version": "2.7.6"
  }
 },
 "nbformat": 4,
 "nbformat_minor": 5
}
