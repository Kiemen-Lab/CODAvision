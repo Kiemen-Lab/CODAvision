{
 "cells": [
  {
   "cell_type": "code",
   "id": "initial_id",
   "metadata": {
    "collapsed": true,
    "ExecuteTime": {
     "end_time": "2024-09-11T15:10:55.749123Z",
     "start_time": "2024-09-11T15:10:52.861345Z"
    }
   },
   "source": [
    "\"\"\"\n",
    "Author: Valentina Matos (Johns Hopkins - Wirtz/Kiemen Lab)\n",
    "Date: June 22, 2024\n",
    "\"\"\"\n",
    "import os\n",
    "import numpy as np\n",
    "from base import *"
   ],
   "outputs": [],
   "execution_count": 2
  },
  {
   "metadata": {
    "ExecuteTime": {
     "end_time": "2024-09-04T21:09:53.893154Z",
     "start_time": "2024-09-04T21:09:13.208617Z"
    }
   },
   "cell_type": "code",
   "source": [
    "from CODAGUI_fend import MainWindow\n",
    "import sys\n",
    "from PySide6 import QtWidgets\n",
    "\n",
    "# Execute the GUI\n",
    "app = QtWidgets.QApplication.instance()\n",
    "if app is None:\n",
    "    app = QtWidgets.QApplication(sys.argv)\n",
    "    \n",
    "# Load and apply the dark theme stylesheet\n",
    "with open('dark_theme.qss', 'r') as file:\n",
    "    app.setStyleSheet(file.read())\n",
    "\n",
    "window = MainWindow()\n",
    "window.show()\n",
    "app.exec()\n"
   ],
   "id": "7e079f6e3b9b5d95",
   "outputs": [
    {
     "name": "stdout",
     "output_type": "stream",
     "text": [
      "Form filled with: \n",
      "Training path: //10.99.68.52/Kiemendata/Valentina Matos/tissues for methods paper/human skin/test model\n",
      "Testing path: //10.99.68.52/Kiemendata/Valentina Matos/tissues for methods paper/human skin/test model/testing annotations\n",
      "Model name: 09_04_2024\n",
      "Resolution: 5x\n",
      "Loaded XML file: //10.99.68.52/Kiemendata/Valentina Matos/tissues for methods paper/human skin/test model\\OTS-21-11041 - 2021-11-15 12.13.09.xml\n",
      "      Layer Name           Color Whitespace Settings\n",
      "0       follicle     (0, 255, 0)                None\n",
      "1    sweat gland   (128, 0, 128)                None\n",
      "2      oil gland   (0, 128, 255)                None\n",
      "3      epidermis   (255, 255, 0)                None\n",
      "4         nerves    (128, 64, 0)                None\n",
      "5  blood vessels     (255, 0, 0)                None\n",
      "6            fat   (0, 255, 255)                None\n",
      "7       collagen  (255, 128, 64)                None\n",
      "8     whitespace     (0, 0, 255)                None\n"
     ]
    },
    {
     "data": {
      "text/plain": "0"
     },
     "execution_count": 3,
     "metadata": {},
     "output_type": "execute_result"
    }
   ],
   "execution_count": 3
  },
  {
   "metadata": {
    "ExecuteTime": {
     "end_time": "2024-08-26T18:11:25.418666Z",
     "start_time": "2024-08-26T18:11:25.393035Z"
    }
   },
   "cell_type": "code",
   "source": [
    "#_______________Variable parametrization from GUI_______________\n",
    "\n",
    "#Paths\n",
    "pth = window.ui.trianing_LE.text()\n",
    "pthtest = window.ui.testing_LE.text()\n",
    "model_name = window.ui.model_name.text()\n",
    "resolution = window.ui.resolution_CB.currentText()\n",
    "pthim = os.path.join(pth, f'{resolution}')\n",
    "pthDL = os.path.join(pth, model_name)\n",
    "\n",
    "#Tif resolution\n",
    "resolution_to_umpix = {\"10x\": 1, \"5x\": 2, \"16x\": 4}\n",
    "umpix = resolution_to_umpix.get(resolution, 2)  # Default to 2 if resolution not found\n",
    "\n",
    "# Get the dataframe with annotation information\n",
    "combined_df = window.combined_df\n",
    "classNames = combined_df['Combined names'].tolist()\n",
    "colormap = combined_df['Combined colors'].tolist()\n",
    "\n",
    "#Training tile size\n",
    "tile_size = window.tile_size\n",
    "#Number of training tiles\n",
    "ntrain = window.ntrain\n",
    "nvalidate = window.nval\n",
    "#Number of validations tiles\n",
    "nval = window.nval\n",
    "#Number of TA images to evaluate (coming sooon)\n",
    "# TA = window.TA\n",
    "\n",
    "#Create WS\n",
    "df = window.df\n",
    "layers_to_delete = df.index[~df['Delete layer']].tolist()\n",
    "layers_to_delete = [i+1 for i in layers_to_delete] #get row index starting from 1\n",
    "nesting_list = df['Nesting'].tolist()\n",
    "nesting_list.reverse()\n",
    "WS = [df['Whitespace Settings'].tolist(),\n",
    "      [window.add_ws_to, window.add_nonws_to],\n",
    "      df['Combined layers'].tolist(),\n",
    "      nesting_list,\n",
    "      layers_to_delete\n",
    "      ]\n",
    "\n",
    "\n",
    "numclass = max(WS[2])\n",
    "nblack = numclass + 1;nwhite = WS[1][0]\n",
    "\n",
    "colormap = np.array(colormap)\n",
    "\n",
    "#Final Parameters\n",
    "print('Classnames: ', classNames)\n",
    "print('Colormap: ', colormap)\n",
    "print(WS)"
   ],
   "id": "e7c660d1ea88e0b9",
   "outputs": [
    {
     "name": "stdout",
     "output_type": "stream",
     "text": [
      "Classnames:  ['islets', 'normal duct', 'blood vessel', 'fat', 'acini', 'ecm', 'whitespace', 'panin', 'noise', 'nerve', 'immune', 'HG panin', 'PDAC', 'weird']\n",
      "Colormap:  [[  0 255   0]\n",
      " [255 255   0]\n",
      " [255   0   0]\n",
      " [  0 255 255]\n",
      " [255   0 255]\n",
      " [255 128  64]\n",
      " [  0   0 255]\n",
      " [255   0 128]\n",
      " [ 64 128 128]\n",
      " [128   0 255]\n",
      " [  0 128 255]\n",
      " [128   0 128]\n",
      " [ 64   0  64]\n",
      " [255   0   0]]\n",
      "[[1, 1, 1, 1, 1, 1, 1, 1, 1, 1, 1, 1, 1, 1], [1, 4], [1, 2, 3, 4, 5, 6, 7, 8, 9, 10, 11, 12, 13, 14], [14, 13, 12, 11, 10, 9, 8, 7, 6, 5, 4, 3, 2, 1], []]\n"
     ]
    }
   ],
   "execution_count": 4
  },
  {
   "metadata": {
    "ExecuteTime": {
     "end_time": "2024-08-19T14:43:28.293400Z",
     "start_time": "2024-08-19T14:43:28.191628Z"
    }
   },
   "cell_type": "code",
   "source": [
    "# 1 save model metadata\n",
    "save_model_metadata(pthDL, pthim, WS, model_name, umpix, colormap, tile_size, classNames, ntrain, nvalidate)"
   ],
   "id": "70faa566c671beee",
   "outputs": [
    {
     "name": "stdout",
     "output_type": "stream",
     "text": [
      "Saving model metadata and classification colormap...\n",
      "Creating Net metadata file...\n",
      "Plotting cmap took 0.0 minutes and 0.02551102638244629 seconds\n",
      "Saving metadata took 0.0 minutes and 0.06803035736083984 seconds\n"
     ]
    },
    {
     "data": {
      "text/plain": [
       "<Figure size 640x480 with 1 Axes>"
      ],
      "image/png": "[encoded data removed]"
     },
     "metadata": {},
     "output_type": "display_data"
    }
   ],
   "execution_count": 19
  },
  {
   "metadata": {
    "ExecuteTime": {
     "end_time": "2024-08-19T15:03:56.833222Z",
     "start_time": "2024-08-19T15:03:22.739130Z"
    }
   },
   "cell_type": "code",
   "source": [
    "# 2 load and format annotations from each annotated image\n",
    "# WSI2tif(pth, resolution, umpix) # Create tif images from /.ndpi / .svs\n",
    "[ctlist0, numann0] = load_annotation_data(pthDL, pth, pthim)"
   ],
   "id": "8319aa7c7cb245d9",
   "outputs": [
    {
     "name": "stdout",
     "output_type": "stream",
     "text": [
      " \n",
      "Importing annotation data...\n",
      "Image 1 of 6: Liv-17_0001\n",
      "Checking parameters took 0.0 minutes and 0.07610654830932617 seconds\n",
      " annotation data previously loaded\n",
      "Image 2 of 6: Liv-17_0041\n",
      "Checking parameters took 0.0 minutes and 0.061867475509643555 seconds\n",
      " annotation data previously loaded\n",
      "Image 3 of 6: Liv-17_0081\n",
      "Checking parameters took 0.0 minutes and 0.07853960990905762 seconds\n",
      " annotation data previously loaded\n",
      "Image 4 of 6: Liv-17_0121\n",
      "Checking parameters took 0.0 minutes and 0.025510072708129883 seconds\n",
      " annotation data previously loaded\n",
      "Image 5 of 6: Liv-17_0161\n",
      "Checking parameters took 0.0 minutes and 0.025005102157592773 seconds\n",
      " 1. of 4. Importing annotation data from xml file\n",
      "Loading annotation took 0.0 minutes and 0.21580862998962402 seconds\n",
      " Creating file...\n",
      "Import xml took 0.0 minutes and 0.23991918563842773 seconds\n",
      "  Existing TA loaded\n",
      "Calculating tissue mask took 0.0 minutes and 29.92670488357544 seconds\n",
      " 2. of 4. Interpolating annotated regions and saving mask image\n"
     ]
    },
    {
     "ename": "MemoryError",
     "evalue": "Unable to allocate 6.29 GiB for an array with shape (844248776,) and data type int64",
     "output_type": "error",
     "traceback": [
      "\u001B[1;31m---------------------------------------------------------------------------\u001B[0m",
      "\u001B[1;31mMemoryError\u001B[0m                               Traceback (most recent call last)",
      "Cell \u001B[1;32mIn[22], line 3\u001B[0m\n\u001B[0;32m      1\u001B[0m \u001B[38;5;66;03m# 2 load and format annotations from each annotated image\u001B[39;00m\n\u001B[0;32m      2\u001B[0m \u001B[38;5;66;03m# WSI2tif(pth, resolution, umpix) # Create tif images from /.ndpi / .svs\u001B[39;00m\n\u001B[1;32m----> 3\u001B[0m [ctlist0, numann0] \u001B[38;5;241m=\u001B[39m \u001B[43mload_annotation_data\u001B[49m\u001B[43m(\u001B[49m\u001B[43mpthDL\u001B[49m\u001B[43m,\u001B[49m\u001B[43m \u001B[49m\u001B[43mpth\u001B[49m\u001B[43m,\u001B[49m\u001B[43m \u001B[49m\u001B[43mpthim\u001B[49m\u001B[43m)\u001B[49m\n",
      "File \u001B[1;32m~\\PycharmProjects\\CODA\\CODA_python\\load_annotation_data.py:136\u001B[0m, in \u001B[0;36mload_annotation_data\u001B[1;34m(pthDL, pth, pthim, classcheck)\u001B[0m\n\u001B[0;32m    134\u001B[0m \u001B[38;5;28mprint\u001B[39m(\u001B[38;5;124mf\u001B[39m\u001B[38;5;124m'\u001B[39m\u001B[38;5;124mCalculating tissue mask took \u001B[39m\u001B[38;5;132;01m{\u001B[39;00mnp\u001B[38;5;241m.\u001B[39mfloor(elapsed_time\u001B[38;5;250m \u001B[39m\u001B[38;5;241m/\u001B[39m\u001B[38;5;250m \u001B[39m\u001B[38;5;241m60\u001B[39m)\u001B[38;5;132;01m}\u001B[39;00m\u001B[38;5;124m minutes and \u001B[39m\u001B[38;5;132;01m{\u001B[39;00melapsed_time\u001B[38;5;241m-\u001B[39m\u001B[38;5;241m60\u001B[39m\u001B[38;5;241m*\u001B[39mnp\u001B[38;5;241m.\u001B[39mfloor(elapsed_time\u001B[38;5;250m \u001B[39m\u001B[38;5;241m/\u001B[39m\u001B[38;5;250m \u001B[39m\u001B[38;5;241m60\u001B[39m)\u001B[38;5;132;01m}\u001B[39;00m\u001B[38;5;124m seconds\u001B[39m\u001B[38;5;124m'\u001B[39m)\n\u001B[0;32m    135\u001B[0m save_mask_start \u001B[38;5;241m=\u001B[39m time\u001B[38;5;241m.\u001B[39mtime()\n\u001B[1;32m--> 136\u001B[0m J0 \u001B[38;5;241m=\u001B[39m \u001B[43msave_annotation_mask\u001B[49m\u001B[43m(\u001B[49m\u001B[43mI0\u001B[49m\u001B[43m,\u001B[49m\u001B[43m \u001B[49m\u001B[43moutpth\u001B[49m\u001B[43m,\u001B[49m\u001B[43m \u001B[49m\u001B[43mWS\u001B[49m\u001B[43m,\u001B[49m\u001B[43m \u001B[49m\u001B[43mumpix\u001B[49m\u001B[43m,\u001B[49m\u001B[43m \u001B[49m\u001B[43mTA\u001B[49m\u001B[43m,\u001B[49m\u001B[43m \u001B[49m\u001B[38;5;241;43m1\u001B[39;49m\u001B[43m)\u001B[49m\n\u001B[0;32m    137\u001B[0m elapsed_time \u001B[38;5;241m=\u001B[39m time\u001B[38;5;241m.\u001B[39mtime() \u001B[38;5;241m-\u001B[39m save_mask_start\n\u001B[0;32m    138\u001B[0m \u001B[38;5;28mprint\u001B[39m(\u001B[38;5;124mf\u001B[39m\u001B[38;5;124m'\u001B[39m\u001B[38;5;124mSaving annotation mask took \u001B[39m\u001B[38;5;132;01m{\u001B[39;00mnp\u001B[38;5;241m.\u001B[39mfloor(elapsed_time\u001B[38;5;250m \u001B[39m\u001B[38;5;241m/\u001B[39m\u001B[38;5;250m \u001B[39m\u001B[38;5;241m60\u001B[39m)\u001B[38;5;132;01m}\u001B[39;00m\u001B[38;5;124m minutes and \u001B[39m\u001B[38;5;132;01m{\u001B[39;00melapsed_time\u001B[38;5;241m-\u001B[39m\u001B[38;5;241m60\u001B[39m\u001B[38;5;241m*\u001B[39mnp\u001B[38;5;241m.\u001B[39mfloor(elapsed_time\u001B[38;5;250m \u001B[39m\u001B[38;5;241m/\u001B[39m\u001B[38;5;250m \u001B[39m\u001B[38;5;241m60\u001B[39m)\u001B[38;5;132;01m}\u001B[39;00m\u001B[38;5;124m seconds\u001B[39m\u001B[38;5;124m'\u001B[39m)\n",
      "File \u001B[1;32m~\\PycharmProjects\\CODA\\CODA_python\\save_annotation_mask.py:52\u001B[0m, in \u001B[0;36msave_annotation_mask\u001B[1;34m(I, outpth, WS, umpix, TA, kpb)\u001B[0m\n\u001B[0;32m     50\u001B[0m \u001B[38;5;28;01mif\u001B[39;00m TA\u001B[38;5;241m.\u001B[39msize \u001B[38;5;241m>\u001B[39m \u001B[38;5;241m0\u001B[39m: \u001B[38;5;66;03m# if TA is not empty, remove small objects and invert it\u001B[39;00m\n\u001B[0;32m     51\u001B[0m     TA \u001B[38;5;241m=\u001B[39m TA \u001B[38;5;241m>\u001B[39m \u001B[38;5;241m0\u001B[39m\n\u001B[1;32m---> 52\u001B[0m     TA \u001B[38;5;241m=\u001B[39m \u001B[43mremove_small_objects\u001B[49m\u001B[43m(\u001B[49m\u001B[43mTA\u001B[49m\u001B[38;5;241;43m.\u001B[39;49m\u001B[43mastype\u001B[49m\u001B[43m(\u001B[49m\u001B[38;5;28;43mbool\u001B[39;49m\u001B[43m)\u001B[49m\u001B[43m,\u001B[49m\u001B[43m \u001B[49m\u001B[43mmin_size\u001B[49m\u001B[38;5;241;43m=\u001B[39;49m\u001B[38;5;241;43m30\u001B[39;49m\u001B[43m,\u001B[49m\u001B[43m \u001B[49m\u001B[43mconnectivity\u001B[49m\u001B[38;5;241;43m=\u001B[39;49m\u001B[38;5;241;43m2\u001B[39;49m\u001B[43m)\u001B[49m\n\u001B[0;32m     53\u001B[0m     TA \u001B[38;5;241m=\u001B[39m np\u001B[38;5;241m.\u001B[39mlogical_not(TA)\n\u001B[0;32m     54\u001B[0m \u001B[38;5;28;01melse\u001B[39;00m: \u001B[38;5;66;03m# If TA is empty, create a TA from the image by performing some operations\u001B[39;00m\n",
      "File \u001B[1;32m~\\.conda\\envs\\CODA_python3\\lib\\site-packages\\skimage\\morphology\\misc.py:142\u001B[0m, in \u001B[0;36mremove_small_objects\u001B[1;34m(ar, min_size, connectivity, out)\u001B[0m\n\u001B[0;32m    139\u001B[0m     ccs \u001B[38;5;241m=\u001B[39m out\n\u001B[0;32m    141\u001B[0m \u001B[38;5;28;01mtry\u001B[39;00m:\n\u001B[1;32m--> 142\u001B[0m     component_sizes \u001B[38;5;241m=\u001B[39m \u001B[43mnp\u001B[49m\u001B[38;5;241;43m.\u001B[39;49m\u001B[43mbincount\u001B[49m\u001B[43m(\u001B[49m\u001B[43mccs\u001B[49m\u001B[38;5;241;43m.\u001B[39;49m\u001B[43mravel\u001B[49m\u001B[43m(\u001B[49m\u001B[43m)\u001B[49m\u001B[43m)\u001B[49m\n\u001B[0;32m    143\u001B[0m \u001B[38;5;28;01mexcept\u001B[39;00m \u001B[38;5;167;01mValueError\u001B[39;00m:\n\u001B[0;32m    144\u001B[0m     \u001B[38;5;28;01mraise\u001B[39;00m \u001B[38;5;167;01mValueError\u001B[39;00m(\n\u001B[0;32m    145\u001B[0m         \u001B[38;5;124m\"\u001B[39m\u001B[38;5;124mNegative value labels are not supported. Try \u001B[39m\u001B[38;5;124m\"\u001B[39m\n\u001B[0;32m    146\u001B[0m         \u001B[38;5;124m\"\u001B[39m\u001B[38;5;124mrelabeling the input with `scipy.ndimage.label` or \u001B[39m\u001B[38;5;124m\"\u001B[39m\n\u001B[0;32m    147\u001B[0m         \u001B[38;5;124m\"\u001B[39m\u001B[38;5;124m`skimage.morphology.label`.\u001B[39m\u001B[38;5;124m\"\u001B[39m\n\u001B[0;32m    148\u001B[0m     )\n",
      "File \u001B[1;32m<__array_function__ internals>:180\u001B[0m, in \u001B[0;36mbincount\u001B[1;34m(*args, **kwargs)\u001B[0m\n",
      "\u001B[1;31mMemoryError\u001B[0m: Unable to allocate 6.29 GiB for an array with shape (844248776,) and data type int64"
     ]
    }
   ],
   "execution_count": 22
  },
  {
   "metadata": {
    "ExecuteTime": {
     "end_time": "2024-08-15T20:42:17.208644Z",
     "start_time": "2024-08-15T19:31:44.899759Z"
    }
   },
   "cell_type": "code",
   "source": [
    "# 3 Make training & validation tiles for model training\n",
    "create_training_tiles(pthDL, numann0, ctlist0)"
   ],
   "id": "8b3fc3f9f5725670",
   "outputs": [
    {
     "name": "stdout",
     "output_type": "stream",
     "text": [
      " \n",
      "Importing annotation data...\n",
      "Image 1 of 6: Liv-17_0001\n",
      "Reload annotation data with updated WS.\n",
      "Checking parameters took 0.0 minutes and 0.07873320579528809 seconds\n",
      " 1. of 4. Importing annotation data from xml file\n",
      "Loading annotation took 0.0 minutes and 0.26817822456359863 seconds\n",
      " Creating file...\n",
      "Import xml took 0.0 minutes and 0.2979273796081543 seconds\n",
      "  Existing TA loaded\n",
      "Calculating tissue mask took 0.0 minutes and 24.67608141899109 seconds\n",
      " 2. of 4. Interpolating annotated regions and saving mask image\n",
      "\n",
      "Calculating total number of pixels in the training dataset...\n",
      " There are 544424200.0 pixels of PDAC, 41% of the most common class.\n",
      " There are 32237300.0 pixels of bile duct, 2% of the most common class.\n",
      " There are 92535400.0 pixels of vasculature, 7% of the most common class.\n",
      " There are 1312608300.0 pixels of hepatocyte. This is the most common class.\n",
      " There are 32903400.0 pixels of immune, 2% of the most common class.\n",
      " There are 655049200.0 pixels of stroma, 49% of the most common class.\n",
      " There are 817804400.0 pixels of whitespace, 62% of the most common class.\n",
      "\n",
      "Building training tiles...\n",
      "Starting time for the while loop\n",
      "Saving big tiles\n",
      "  1 of 15 training images completed in 3 minutes\n",
      "  Used 134.7% counts and 29.6% unique annotations of PDAC\n",
      "  Used 574.1% counts and 100.0% unique annotations of bile duct\n",
      "  Used 431.9% counts and 83.3% unique annotations of vasculature\n",
      "  Used 274.8% counts and 47.7% unique annotations of hepatocyte\n",
      "  Used 657.9% counts and 100.0% unique annotations of immune\n",
      "  Used 306.8% counts and 58.1% unique annotations of stroma\n",
      "  Used 221.8% counts and 38.1% unique annotations of whitespace\n",
      "Starting time for the while loop\n",
      "Saving big tiles\n",
      "  2 of 15 training images completed in 7 minutes\n",
      "  Used 176.5% counts and 66.3% unique annotations of PDAC\n",
      "  Used 1074.1% counts and 100.0% unique annotations of bile duct\n",
      "  Used 784.7% counts and 98.6% unique annotations of vasculature\n",
      "  Used 460.9% counts and 61.6% unique annotations of hepatocyte\n",
      "  Used 1218.4% counts and 100.0% unique annotations of immune\n",
      "  Used 527.7% counts and 80.4% unique annotations of stroma\n",
      "  Used 353.6% counts and 57.8% unique annotations of whitespace\n",
      "Starting time for the while loop\n",
      "Saving big tiles\n",
      "  3 of 15 training images completed in 11 minutes\n",
      "  Used 217.3% counts and 98.0% unique annotations of PDAC\n",
      "  Used 1500.0% counts and 100.0% unique annotations of bile duct\n",
      "  Used 1080.6% counts and 100.0% unique annotations of vasculature\n",
      "  Used 622.5% counts and 72.8% unique annotations of hepatocyte\n",
      "  Used 1723.7% counts and 100.0% unique annotations of immune\n",
      "  Used 716.2% counts and 95.3% unique annotations of stroma\n",
      "  Used 467.8% counts and 73.7% unique annotations of whitespace\n",
      "Starting time for the while loop\n",
      "Saving big tiles\n",
      "  4 of 15 training images completed in 15 minutes\n",
      "  Used 256.1% counts and 100.0% unique annotations of PDAC\n",
      "  Used 1951.7% counts and 100.0% unique annotations of bile duct\n",
      "  Used 1405.6% counts and 100.0% unique annotations of vasculature\n",
      "  Used 794.7% counts and 82.8% unique annotations of hepatocyte\n",
      "  Used 2236.8% counts and 100.0% unique annotations of immune\n",
      "  Used 915.5% counts and 100.0% unique annotations of stroma\n",
      "  Used 588.2% counts and 81.3% unique annotations of whitespace\n",
      "Starting time for the while loop\n",
      "Saving big tiles\n",
      "  5 of 15 training images completed in 19 minutes\n",
      "  Used 293.9% counts and 100.0% unique annotations of PDAC\n",
      "  Used 2462.1% counts and 100.0% unique annotations of bile duct\n",
      "  Used 1763.9% counts and 100.0% unique annotations of vasculature\n",
      "  Used 984.8% counts and 89.4% unique annotations of hepatocyte\n",
      "  Used 2839.5% counts and 100.0% unique annotations of immune\n",
      "  Used 1137.8% counts and 100.0% unique annotations of stroma\n",
      "  Used 721.1% counts and 86.2% unique annotations of whitespace\n",
      "Starting time for the while loop\n",
      "Saving big tiles\n",
      "  6 of 15 training images completed in 23 minutes\n",
      "  Used 331.6% counts and 100.0% unique annotations of PDAC\n",
      "  Used 2925.9% counts and 100.0% unique annotations of bile duct\n",
      "  Used 2087.5% counts and 100.0% unique annotations of vasculature\n",
      "  Used 1153.6% counts and 95.4% unique annotations of hepatocyte\n",
      "  Used 3363.2% counts and 100.0% unique annotations of immune\n",
      "  Used 1339.9% counts and 100.0% unique annotations of stroma\n",
      "  Used 842.2% counts and 90.7% unique annotations of whitespace\n",
      "Starting time for the while loop\n",
      "Saving big tiles\n",
      "  7 of 15 training images completed in 27 minutes\n",
      "  Used 371.4% counts and 100.0% unique annotations of PDAC\n",
      "  Used 3405.2% counts and 100.0% unique annotations of bile duct\n",
      "  Used 2425.0% counts and 100.0% unique annotations of vasculature\n",
      "  Used 1331.8% counts and 100.0% unique annotations of hepatocyte\n",
      "  Used 3926.3% counts and 100.0% unique annotations of immune\n",
      "  Used 1553.4% counts and 100.0% unique annotations of stroma\n",
      "  Used 969.2% counts and 95.2% unique annotations of whitespace\n",
      "Starting time for the while loop\n",
      "Saving big tiles\n",
      "  8 of 15 training images completed in 31 minutes\n",
      "  Used 414.3% counts and 100.0% unique annotations of PDAC\n",
      "  Used 3870.7% counts and 100.0% unique annotations of bile duct\n",
      "  Used 2752.8% counts and 100.0% unique annotations of vasculature\n",
      "  Used 1506.6% counts and 100.0% unique annotations of hepatocyte\n",
      "  Used 4460.5% counts and 100.0% unique annotations of immune\n",
      "  Used 1758.8% counts and 100.0% unique annotations of stroma\n",
      "  Used 1092.4% counts and 97.2% unique annotations of whitespace\n",
      "Starting time for the while loop\n",
      "Saving big tiles\n",
      "  9 of 15 training images completed in 35 minutes\n",
      "  Used 445.9% counts and 100.0% unique annotations of PDAC\n",
      "  Used 4325.9% counts and 100.0% unique annotations of bile duct\n",
      "  Used 3069.4% counts and 100.0% unique annotations of vasculature\n",
      "  Used 1671.5% counts and 100.0% unique annotations of hepatocyte\n",
      "  Used 5002.6% counts and 100.0% unique annotations of immune\n",
      "  Used 1958.1% counts and 100.0% unique annotations of stroma\n",
      "  Used 1211.1% counts and 99.3% unique annotations of whitespace\n",
      "Starting time for the while loop\n",
      "Saving big tiles\n",
      "  10 of 15 training images completed in 39 minutes\n",
      "  Used 478.6% counts and 100.0% unique annotations of PDAC\n",
      "  Used 4758.6% counts and 100.0% unique annotations of bile duct\n",
      "  Used 3375.0% counts and 100.0% unique annotations of vasculature\n",
      "  Used 1836.4% counts and 100.0% unique annotations of hepatocyte\n",
      "  Used 5505.3% counts and 100.0% unique annotations of immune\n",
      "  Used 2145.3% counts and 100.0% unique annotations of stroma\n",
      "  Used 1323.9% counts and 100.0% unique annotations of whitespace\n",
      "Starting time for the while loop\n",
      "Saving big tiles\n",
      "  11 of 15 training images completed in 43 minutes\n",
      "  Used 514.3% counts and 100.0% unique annotations of PDAC\n",
      "  Used 5231.0% counts and 100.0% unique annotations of bile duct\n",
      "  Used 3704.2% counts and 100.0% unique annotations of vasculature\n",
      "  Used 2010.6% counts and 100.0% unique annotations of hepatocyte\n",
      "  Used 6063.2% counts and 100.0% unique annotations of immune\n",
      "  Used 2353.4% counts and 100.0% unique annotations of stroma\n",
      "  Used 1446.4% counts and 100.0% unique annotations of whitespace\n",
      "Starting time for the while loop\n",
      "Saving big tiles\n",
      "  12 of 15 training images completed in 47 minutes\n",
      "  Used 560.2% counts and 100.0% unique annotations of PDAC\n",
      "  Used 5682.8% counts and 100.0% unique annotations of bile duct\n",
      "  Used 4025.0% counts and 100.0% unique annotations of vasculature\n",
      "  Used 2183.4% counts and 100.0% unique annotations of hepatocyte\n",
      "  Used 6581.6% counts and 100.0% unique annotations of immune\n",
      "  Used 2558.1% counts and 100.0% unique annotations of stroma\n",
      "  Used 1568.9% counts and 100.0% unique annotations of whitespace\n",
      "Starting time for the while loop\n",
      "Saving big tiles\n",
      "  13 of 15 training images completed in 51 minutes\n",
      "  Used 596.9% counts and 100.0% unique annotations of PDAC\n",
      "  Used 6196.6% counts and 100.0% unique annotations of bile duct\n",
      "  Used 4377.8% counts and 100.0% unique annotations of vasculature\n",
      "  Used 2371.5% counts and 100.0% unique annotations of hepatocyte\n",
      "  Used 7165.8% counts and 100.0% unique annotations of immune\n",
      "  Used 2775.7% counts and 100.0% unique annotations of stroma\n",
      "  Used 1701.4% counts and 100.0% unique annotations of whitespace\n",
      "Starting time for the while loop\n",
      "Saving big tiles\n",
      "  14 of 15 training images completed in 55 minutes\n",
      "  Used 641.8% counts and 100.0% unique annotations of PDAC\n",
      "  Used 6701.7% counts and 100.0% unique annotations of bile duct\n",
      "  Used 4730.6% counts and 100.0% unique annotations of vasculature\n",
      "  Used 2560.3% counts and 100.0% unique annotations of hepatocyte\n",
      "  Used 7736.8% counts and 100.0% unique annotations of immune\n",
      "  Used 3003.4% counts and 100.0% unique annotations of stroma\n",
      "  Used 1837.0% counts and 100.0% unique annotations of whitespace\n",
      "Starting time for the while loop\n",
      "Saving big tiles\n",
      "  15 of 15 training images completed in 58 minutes\n",
      "  Used 676.5% counts and 100.0% unique annotations of PDAC\n",
      "  Used 7132.8% counts and 100.0% unique annotations of bile duct\n",
      "  Used 5036.1% counts and 100.0% unique annotations of vasculature\n",
      "  Used 2719.9% counts and 100.0% unique annotations of hepatocyte\n",
      "  Used 8236.8% counts and 100.0% unique annotations of immune\n",
      "  Used 3191.2% counts and 100.0% unique annotations of stroma\n",
      "  Used 1950.2% counts and 100.0% unique annotations of whitespace\n",
      "  Elapsed time to create training big tiles: 0.0h 58.0m 56.85205411911011s\n",
      "\n",
      "\n",
      "Building validation tiles...\n",
      "Starting time for the while loop\n",
      "Saving big tiles\n",
      "1 of 3 validation images completed in 3 minutes\n",
      "Used 133.7% counts and 28.6% unique annotations of PDAC\n",
      "Used 596.6% counts and 100.0% unique annotations of bile duct\n",
      "Used 451.4% counts and 81.9% unique annotations of vasculature\n",
      "Used 282.1% counts and 46.4% unique annotations of hepatocyte\n",
      "Used 665.8% counts and 100.0% unique annotations of immune\n",
      "Used 312.8% counts and 56.1% unique annotations of stroma\n",
      "Used 224.9% counts and 36.0% unique annotations of whitespace\n",
      "Starting time for the while loop\n",
      "Saving big tiles\n",
      "2 of 3 validation images completed in 7 minutes\n",
      "Used 169.4% counts and 60.2% unique annotations of PDAC\n",
      "Used 1060.3% counts and 100.0% unique annotations of bile duct\n",
      "Used 770.8% counts and 95.8% unique annotations of vasculature\n",
      "Used 453.6% counts and 58.9% unique annotations of hepatocyte\n",
      "Used 1192.1% counts and 100.0% unique annotations of immune\n",
      "Used 516.2% counts and 75.7% unique annotations of stroma\n",
      "Used 345.0% counts and 53.3% unique annotations of whitespace\n",
      "Starting time for the while loop\n",
      "Saving big tiles\n",
      "3 of 3 validation images completed in 11 minutes\n",
      "Used 212.2% counts and 91.8% unique annotations of PDAC\n",
      "Used 1532.8% counts and 100.0% unique annotations of bile duct\n",
      "Used 1097.2% counts and 100.0% unique annotations of vasculature\n",
      "Used 627.2% counts and 70.9% unique annotations of hepatocyte\n",
      "Used 1731.6% counts and 100.0% unique annotations of immune\n",
      "Used 723.0% counts and 91.2% unique annotations of stroma\n",
      "Used 470.2% counts and 69.9% unique annotations of whitespace\n",
      "Elapsed time to create validation big tiles: 0.0h 11.0m 35.42131185531616s\n"
     ]
    }
   ],
   "execution_count": 9
  },
  {
   "metadata": {
    "ExecuteTime": {
     "end_time": "2024-08-16T04:23:40.451197Z",
     "start_time": "2024-08-15T20:42:17.209644Z"
    }
   },
   "cell_type": "code",
   "source": [
    "# 4 Train model\n",
    "train_segmentation_model(pthDL)"
   ],
   "id": "3b9f6cd5b9707c7a",
   "outputs": [
    {
     "name": "stdout",
     "output_type": "stream",
     "text": [
      "TensorFlow is using the following GPU: LogicalDevice(name='/device:GPU:0', device_type='GPU')\n",
      "Starting model training...\n",
      "Epoch 1/8\n",
      "375/375 [==============================] - 6294s 10s/step - loss: 0.3022 - accuracy: 0.8924 - val_loss: 0.2276 - val_accuracy: 0.9103\n",
      "Epoch 2/8\n",
      "375/375 [==============================] - 3074s 8s/step - loss: 0.1711 - accuracy: 0.9362 - val_loss: 0.1443 - val_accuracy: 0.9461\n",
      "Epoch 3/8\n",
      "375/375 [==============================] - 3055s 8s/step - loss: 0.1433 - accuracy: 0.9463 - val_loss: 0.1481 - val_accuracy: 0.9453\n",
      "Epoch 4/8\n",
      "375/375 [==============================] - 3043s 8s/step - loss: 0.1151 - accuracy: 0.9567 - val_loss: 0.1558 - val_accuracy: 0.9450\n",
      "Epoch 5/8\n",
      "375/375 [==============================] - 3040s 8s/step - loss: 0.1049 - accuracy: 0.9604 - val_loss: 0.2313 - val_accuracy: 0.9263\n",
      "Epoch 6/8\n",
      "375/375 [==============================] - 3038s 8s/step - loss: 0.1015 - accuracy: 0.9620 - val_loss: 6.0075 - val_accuracy: 0.2774\n",
      "Epoch 7/8\n",
      "375/375 [==============================] - 3093s 8s/step - loss: 0.1131 - accuracy: 0.9579 - val_loss: 0.1558 - val_accuracy: 0.9469\n",
      "Epoch 8/8\n",
      "375/375 [==============================] - 3037s 8s/step - loss: 0.0884 - accuracy: 0.9664 - val_loss: 0.2702 - val_accuracy: 0.9168\n",
      "Training time: 7h 41m 12s\n",
      "Saving model...\n"
     ]
    },
    {
     "name": "stderr",
     "output_type": "stream",
     "text": [
      "WARNING:absl:Found untraced functions such as _jit_compiled_convolution_op, _jit_compiled_convolution_op, _jit_compiled_convolution_op, _jit_compiled_convolution_op, _jit_compiled_convolution_op while saving (showing 5 of 52). These functions will not be directly callable after loading.\n"
     ]
    },
    {
     "name": "stdout",
     "output_type": "stream",
     "text": [
      "INFO:tensorflow:Assets written to: ram://7a3da428-fe01-40c1-a95d-991f8750f0b2/assets\n"
     ]
    },
    {
     "name": "stderr",
     "output_type": "stream",
     "text": [
      "INFO:tensorflow:Assets written to: ram://7a3da428-fe01-40c1-a95d-991f8750f0b2/assets\n"
     ]
    },
    {
     "data": {
      "text/plain": [
       "<Figure size 1200x600 with 2 Axes>"
      ],
      "image/png": "[encoded data removed]"
     },
     "metadata": {},
     "output_type": "display_data"
    }
   ],
   "execution_count": 10
  },
  {
   "metadata": {
    "ExecuteTime": {
     "end_time": "2024-08-16T04:23:43.992382Z",
     "start_time": "2024-08-16T04:23:40.452197Z"
    }
   },
   "cell_type": "code",
   "source": [
    "# 5 Test model\n",
    "pthtestim = os.path.join(pthtest, f'{resolution}')\n",
    "# WSI2tif(pthtest, resolution, umpix)\n",
    "test_segmentation_model(pthDL, pthtest, pthtestim)"
   ],
   "id": "b34c5e19218aaf3",
   "outputs": [
    {
     "name": "stdout",
     "output_type": "stream",
     "text": [
      "Testing segmentation model......\n"
     ]
    },
    {
     "ename": "FileNotFoundError",
     "evalue": "Unsuccessful TensorSliceReader constructor: Failed to find any matching files for ram://ea8b218e-c7d3-4933-a7ed-a374163d6e73/variables/variables\n You may be trying to load on a different device from the computational device. Consider setting the `experimental_io_device` option in `tf.saved_model.LoadOptions` to the io_device such as '/job:localhost'.",
     "output_type": "error",
     "traceback": [
      "\u001B[1;31m---------------------------------------------------------------------------\u001B[0m",
      "\u001B[1;31mFileNotFoundError\u001B[0m                         Traceback (most recent call last)",
      "Cell \u001B[1;32mIn[11], line 4\u001B[0m\n\u001B[0;32m      2\u001B[0m pthtestim \u001B[38;5;241m=\u001B[39m os\u001B[38;5;241m.\u001B[39mpath\u001B[38;5;241m.\u001B[39mjoin(pthtest, \u001B[38;5;124mf\u001B[39m\u001B[38;5;124m'\u001B[39m\u001B[38;5;132;01m{\u001B[39;00mresolution\u001B[38;5;132;01m}\u001B[39;00m\u001B[38;5;124m'\u001B[39m)\n\u001B[0;32m      3\u001B[0m \u001B[38;5;66;03m# WSI2tif(pthtest, resolution, umpix)\u001B[39;00m\n\u001B[1;32m----> 4\u001B[0m \u001B[43mtest_segmentation_model\u001B[49m\u001B[43m(\u001B[49m\u001B[43mpthDL\u001B[49m\u001B[43m,\u001B[49m\u001B[43m \u001B[49m\u001B[43mpthtest\u001B[49m\u001B[43m,\u001B[49m\u001B[43m \u001B[49m\u001B[43mpthtestim\u001B[49m\u001B[43m)\u001B[49m\n",
      "File \u001B[1;32m~\\PycharmProjects\\CODA\\CODA_python\\test_segmentation_model.py:24\u001B[0m, in \u001B[0;36mtest_segmentation_model\u001B[1;34m(pthDL, pthtest, pthtestim)\u001B[0m\n\u001B[0;32m     21\u001B[0m \u001B[38;5;28mprint\u001B[39m(\u001B[38;5;124m\"\u001B[39m\u001B[38;5;124mTesting segmentation model......\u001B[39m\u001B[38;5;124m\"\u001B[39m)\n\u001B[0;32m     23\u001B[0m \u001B[38;5;28;01mwith\u001B[39;00m \u001B[38;5;28mopen\u001B[39m(os\u001B[38;5;241m.\u001B[39mpath\u001B[38;5;241m.\u001B[39mjoin(pthDL, \u001B[38;5;124m'\u001B[39m\u001B[38;5;124mnet.pkl\u001B[39m\u001B[38;5;124m'\u001B[39m), \u001B[38;5;124m'\u001B[39m\u001B[38;5;124mrb\u001B[39m\u001B[38;5;124m'\u001B[39m) \u001B[38;5;28;01mas\u001B[39;00m f:\n\u001B[1;32m---> 24\u001B[0m     data \u001B[38;5;241m=\u001B[39m \u001B[43mpickle\u001B[49m\u001B[38;5;241;43m.\u001B[39;49m\u001B[43mload\u001B[49m\u001B[43m(\u001B[49m\u001B[43mf\u001B[49m\u001B[43m)\u001B[49m\n\u001B[0;32m     25\u001B[0m     nblack \u001B[38;5;241m=\u001B[39m data[\u001B[38;5;124m'\u001B[39m\u001B[38;5;124mnblack\u001B[39m\u001B[38;5;124m'\u001B[39m]\n\u001B[0;32m     26\u001B[0m     nwhite \u001B[38;5;241m=\u001B[39m data[\u001B[38;5;124m'\u001B[39m\u001B[38;5;124mnwhite\u001B[39m\u001B[38;5;124m'\u001B[39m]\n",
      "File \u001B[1;32m~\\.conda\\envs\\CODA_python3\\lib\\site-packages\\keras\\saving\\pickle_utils.py:47\u001B[0m, in \u001B[0;36mdeserialize_model_from_bytecode\u001B[1;34m(serialized_model)\u001B[0m\n\u001B[0;32m     45\u001B[0m             \u001B[38;5;28;01mwith\u001B[39;00m tf\u001B[38;5;241m.\u001B[39mio\u001B[38;5;241m.\u001B[39mgfile\u001B[38;5;241m.\u001B[39mGFile(dest_path, \u001B[38;5;124m\"\u001B[39m\u001B[38;5;124mwb\u001B[39m\u001B[38;5;124m\"\u001B[39m) \u001B[38;5;28;01mas\u001B[39;00m f:\n\u001B[0;32m     46\u001B[0m                 f\u001B[38;5;241m.\u001B[39mwrite(archive\u001B[38;5;241m.\u001B[39mextractfile(name)\u001B[38;5;241m.\u001B[39mread())\n\u001B[1;32m---> 47\u001B[0m model \u001B[38;5;241m=\u001B[39m \u001B[43msave_module\u001B[49m\u001B[38;5;241;43m.\u001B[39;49m\u001B[43mload_model\u001B[49m\u001B[43m(\u001B[49m\u001B[43mtemp_dir\u001B[49m\u001B[43m)\u001B[49m\n\u001B[0;32m     48\u001B[0m tf\u001B[38;5;241m.\u001B[39mio\u001B[38;5;241m.\u001B[39mgfile\u001B[38;5;241m.\u001B[39mrmtree(temp_dir)\n\u001B[0;32m     49\u001B[0m \u001B[38;5;28;01mreturn\u001B[39;00m model\n",
      "File \u001B[1;32m~\\.conda\\envs\\CODA_python3\\lib\\site-packages\\keras\\utils\\traceback_utils.py:70\u001B[0m, in \u001B[0;36mfilter_traceback.<locals>.error_handler\u001B[1;34m(*args, **kwargs)\u001B[0m\n\u001B[0;32m     67\u001B[0m     filtered_tb \u001B[38;5;241m=\u001B[39m _process_traceback_frames(e\u001B[38;5;241m.\u001B[39m__traceback__)\n\u001B[0;32m     68\u001B[0m     \u001B[38;5;66;03m# To get the full stack trace, call:\u001B[39;00m\n\u001B[0;32m     69\u001B[0m     \u001B[38;5;66;03m# `tf.debugging.disable_traceback_filtering()`\u001B[39;00m\n\u001B[1;32m---> 70\u001B[0m     \u001B[38;5;28;01mraise\u001B[39;00m e\u001B[38;5;241m.\u001B[39mwith_traceback(filtered_tb) \u001B[38;5;28;01mfrom\u001B[39;00m \u001B[38;5;28;01mNone\u001B[39;00m\n\u001B[0;32m     71\u001B[0m \u001B[38;5;28;01mfinally\u001B[39;00m:\n\u001B[0;32m     72\u001B[0m     \u001B[38;5;28;01mdel\u001B[39;00m filtered_tb\n",
      "File \u001B[1;32m~\\.conda\\envs\\CODA_python3\\lib\\site-packages\\tensorflow\\python\\saved_model\\load.py:933\u001B[0m, in \u001B[0;36mload_partial\u001B[1;34m(export_dir, filters, tags, options)\u001B[0m\n\u001B[0;32m    930\u001B[0m   loader \u001B[38;5;241m=\u001B[39m Loader(object_graph_proto, saved_model_proto, export_dir,\n\u001B[0;32m    931\u001B[0m                   ckpt_options, options, filters)\n\u001B[0;32m    932\u001B[0m \u001B[38;5;28;01mexcept\u001B[39;00m errors\u001B[38;5;241m.\u001B[39mNotFoundError \u001B[38;5;28;01mas\u001B[39;00m err:\n\u001B[1;32m--> 933\u001B[0m   \u001B[38;5;28;01mraise\u001B[39;00m \u001B[38;5;167;01mFileNotFoundError\u001B[39;00m(\n\u001B[0;32m    934\u001B[0m       \u001B[38;5;28mstr\u001B[39m(err) \u001B[38;5;241m+\u001B[39m \u001B[38;5;124m\"\u001B[39m\u001B[38;5;130;01m\\n\u001B[39;00m\u001B[38;5;124m You may be trying to load on a different device \u001B[39m\u001B[38;5;124m\"\u001B[39m\n\u001B[0;32m    935\u001B[0m       \u001B[38;5;124m\"\u001B[39m\u001B[38;5;124mfrom the computational device. Consider setting the \u001B[39m\u001B[38;5;124m\"\u001B[39m\n\u001B[0;32m    936\u001B[0m       \u001B[38;5;124m\"\u001B[39m\u001B[38;5;124m`experimental_io_device` option in `tf.saved_model.LoadOptions` \u001B[39m\u001B[38;5;124m\"\u001B[39m\n\u001B[0;32m    937\u001B[0m       \u001B[38;5;124m\"\u001B[39m\u001B[38;5;124mto the io_device such as \u001B[39m\u001B[38;5;124m'\u001B[39m\u001B[38;5;124m/job:localhost\u001B[39m\u001B[38;5;124m'\u001B[39m\u001B[38;5;124m.\u001B[39m\u001B[38;5;124m\"\u001B[39m)\n\u001B[0;32m    938\u001B[0m root \u001B[38;5;241m=\u001B[39m loader\u001B[38;5;241m.\u001B[39mget(\u001B[38;5;241m0\u001B[39m)\n\u001B[0;32m    939\u001B[0m root\u001B[38;5;241m.\u001B[39mgraph_debug_info \u001B[38;5;241m=\u001B[39m loader\u001B[38;5;241m.\u001B[39madjust_debug_info_func_names(debug_info)\n",
      "\u001B[1;31mFileNotFoundError\u001B[0m: Unsuccessful TensorSliceReader constructor: Failed to find any matching files for ram://ea8b218e-c7d3-4933-a7ed-a374163d6e73/variables/variables\n You may be trying to load on a different device from the computational device. Consider setting the `experimental_io_device` option in `tf.saved_model.LoadOptions` to the io_device such as '/job:localhost'."
     ]
    }
   ],
   "execution_count": 11
  },
  {
   "metadata": {
    "ExecuteTime": {
     "end_time": "2024-08-16T04:23:43.993387Z",
     "start_time": "2024-08-16T04:23:43.993387Z"
    }
   },
   "cell_type": "code",
   "source": [
    "# 6 Classify images with pretrained model\n",
    "classify_images(pthim,pthDL)"
   ],
   "id": "c75c0cb40723b072",
   "outputs": [],
   "execution_count": null
  },
  {
   "metadata": {},
   "cell_type": "code",
   "source": [
    "# 6 Classify images with pretrained model\n",
    "classify_images(pthim,pthDL)"
   ],
   "id": "fe74ead878c5766e",
   "outputs": [],
   "execution_count": null
  },
  {
   "metadata": {
    "ExecuteTime": {
     "end_time": "2024-09-11T15:11:29.832231Z",
     "start_time": "2024-09-11T15:11:29.384869Z"
    }
   },
   "cell_type": "code",
   "source": [
    "from PIL import Image\n",
    "def compare_tif_and_png(tif_path, png_path):\n",
    "    # Load the TIFF image using Pillow\n",
    "    with Image.open(tif_path) as tif_image:\n",
    "        tif_image = np.array(tif_image)\n",
    "    \n",
    "    # Load the PNG image using Pillow\n",
    "    with Image.open(png_path) as png_image:\n",
    "        png_image = np.array(png_image)\n",
    "        \n",
    "        # Ensure images have the same size\n",
    "        if tif_image.shape != png_image.shape:\n",
    "            raise ValueError(\"Images must have the same dimensions\")\n",
    "        \n",
    "        # Compare pixel by pixel\n",
    "        total_pixels = tif_image.size\n",
    "        matching_pixels = np.sum(tif_image == png_image)\n",
    "        \n",
    "        # Calculate percentage similarity\n",
    "        similarity_percentage = (matching_pixels / total_pixels) * 100\n",
    "        return similarity_percentage\n",
    "    \n",
    "png_path =  r'\\\\10.99.68.52\\Kiemendata\\Valentina Matos\\tissues for methods paper\\mouse lung\\testfiles python\\testing images\\5x\\TA\\TVWT 2-2 2.tif'\n",
    "\n",
    "tif_path =  r'\\\\10.99.68.52\\Kiemendata\\Valentina Matos\\tissues for methods paper\\mouse lung\\testfiles python\\testing images\\5x\\TA python\\TVWT 2-2 2.tif'\n",
    "\n",
    "compare_tif_and_png(tif_path, png_path)\n",
    "   \n",
    "   "
   ],
   "id": "bb18a740ef5fdd8d",
   "outputs": [
    {
     "data": {
      "text/plain": "95.78857188791272"
     },
     "execution_count": 4,
     "metadata": {},
     "output_type": "execute_result"
    }
   ],
   "execution_count": 4
  },
  {
   "metadata": {
    "ExecuteTime": {
     "end_time": "2024-08-20T15:50:13.015694Z",
     "start_time": "2024-08-20T15:50:13.013690Z"
    }
   },
   "cell_type": "code",
   "source": [
    "from PIL import Image\n",
    "import numpy as np\n",
    "from skimage.metrics import structural_similarity as ssim\n",
    "# Set the pixel limit to None to effectively remove the limit\n",
    "Image.MAX_IMAGE_PIXELS = None\n",
    "\n",
    "import numpy as np\n",
    "from PIL import Image\n",
    "from skimage.metrics import structural_similarity as ssim\n",
    "\n",
    "def compare_images(img1_path, img2_path):\n",
    "    # Open and convert images to grayscale\n",
    "    img1 = Image.open(img1_path).convert('RGB')\n",
    "    img2 = Image.open(img2_path).convert('RGB')\n",
    "    \n",
    "    # Convert images to numpy arrays\n",
    "    img1_array = np.array(img1)\n",
    "    img2_array = np.array(img2)\n",
    "    \n",
    "    # Convert to floating point for SSIM calculation\n",
    "    img1_array = img1_array.astype(np.float64)\n",
    "    img2_array = img2_array.astype(np.float64)\n",
    "    \n",
    "    # Calculate Mean Squared Error (MSE)\n",
    "    mse = np.mean((img1_array - img2_array) ** 2)\n",
    "    \n",
    "    # Convert images to grayscale\n",
    "    img1_gray = np.mean(img1_array, axis=2)\n",
    "    img2_gray = np.mean(img2_array, axis=2)\n",
    "    \n",
    "    # Calculate Structural Similarity Index (SSIM)\n",
    "    # Set data_range to the range of pixel values (e.g., 255 for 8-bit images)\n",
    "    data_range = img1_gray.max() - img1_gray.min()\n",
    "    ssim_index, _ = ssim(img1_gray, img2_gray, full=True, data_range=data_range)\n",
    "    \n",
    "    return mse, ssim_index\n",
    "\n",
    "# Example usage\n",
    "if __name__ == '__main__':\n",
    "    img1_path = r'\\\\10.99.68.52\\Kiemendata\\Valentina Matos\\tissues for methods paper\\slides scanned from bispecific study\\5x tif\\2024-03-15 15.06.tif'\n",
    "    img2_path = r'\\\\10.99.68.52\\Kiemendata\\Valentina Matos\\tissues for methods paper\\slides scanned from bispecific study\\5x\\2024-03-15 15.06.png'\n",
    "    \n",
    "    mse, ssim_index = compare_images(img1_path, img2_path)\n",
    "    \n",
    "    print(f\"Mean Squared Error (MSE): {mse}\")\n",
    "    print(f\"Structural Similarity Index (SSIM): {ssim_index}\")\n"
   ],
   "id": "b8122e1f4b9439b",
   "outputs": [],
   "execution_count": 6
  },
  {
   "cell_type": "code",
   "outputs": [
    {
     "data": {
      "text/plain": "<Popen: returncode: None args: ['C:\\\\Users\\\\Valentina\\\\AppData\\\\Local\\\\anaco...>"
     },
     "execution_count": 4,
     "metadata": {},
     "output_type": "execute_result"
    }
   ],
   "source": [
    "import os\n",
    "import subprocess\n",
    "\n",
    "# Path to the designer executable\n",
    "designer_path = r'C:\\Users\\Valentina\\AppData\\Local\\anaconda3\\envs\\ANACODA_GUI\\Lib\\site-packages\\PySide6\\designer.exe'\n",
    "\n",
    "# Open Qt Designer\n",
    "subprocess.Popen([designer_path])"
   ],
   "metadata": {
    "collapsed": false,
    "ExecuteTime": {
     "end_time": "2024-09-04T21:36:43.799401Z",
     "start_time": "2024-09-04T21:36:43.777086Z"
    }
   },
   "id": "e42e399561f60f91",
   "execution_count": 4
  },
  {
   "cell_type": "code",
   "outputs": [],
   "source": [],
   "metadata": {
    "collapsed": false
   },
   "id": "4f609cf0a5034b89"
  }
 ],
 "metadata": {
  "kernelspec": {
   "display_name": "Python 3",
   "language": "python",
   "name": "python3"
  },
  "language_info": {
   "codemirror_mode": {
    "name": "ipython",
    "version": 2
   },
   "file_extension": ".py",
   "mimetype": "text/x-python",
   "name": "python",
   "nbconvert_exporter": "python",
   "pygments_lexer": "ipython2",
   "version": "2.7.6"
  }
 },
 "nbformat": 4,
 "nbformat_minor": 5
}
