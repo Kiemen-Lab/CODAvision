{
 "cells": [
  {
   "cell_type": "code",
   "id": "initial_id",
   "metadata": {
    "collapsed": true,
    "ExecuteTime": {
     "end_time": "2024-06-12T15:45:41.638468Z",
     "start_time": "2024-06-12T15:45:41.624467Z"
    }
   },
   "source": [
    "import os \n",
    "from glob import glob\n",
    "import pickle\n",
    "from Semanticseg import read_image, semantic_seg\n",
    "import tensorflow as tf"
   ],
   "outputs": [],
   "execution_count": 8
  },
  {
   "metadata": {
    "ExecuteTime": {
     "end_time": "2024-06-12T15:50:01.777298Z",
     "start_time": "2024-06-12T15:49:56.464265Z"
    }
   },
   "cell_type": "code",
   "source": [
    "#inputs:\n",
    "pthDL = r'\\\\10.99.68.52\\Kiemendata\\Valentina Matos\\coda to python\\test model\\04_19_2024'\n",
    "\n",
    "with open(os.path.join(pthDL, 'net.pkl'), 'rb') as f:\n",
    "    data = pickle.load(f)\n",
    "    model = data['model']\n",
    "    classNames = data['classNames']\n",
    "    tile_size = data['sxy']\n",
    "\n",
    "tile_size = 1024\n",
    "# Paths to training and validation datasets:\n",
    "pthDataset = r'C:\\Users\\Valentina\\OneDrive - Johns Hopkins\\Desktop\\test png\\validation'\n",
    "\n",
    "# Get paths to validation images and labels\n",
    "test_images_path = sorted(glob(os.path.join(pthDataset, 'im', \"*.png\")))\n",
    "test_masks_path = sorted(glob(os.path.join(pthDataset, 'label','corrected_labels', \"*.png\")))"
   ],
   "id": "9c40e91e19fdcacd",
   "outputs": [],
   "execution_count": 15
  },
  {
   "metadata": {
    "ExecuteTime": {
     "end_time": "2024-06-12T15:45:25.640992Z",
     "start_time": "2024-06-12T15:45:25.626994Z"
    }
   },
   "cell_type": "code",
   "source": [
    "y_true = []\n",
    "y_pred = []"
   ],
   "id": "a3207ff9d8bc1c83",
   "outputs": [],
   "execution_count": 7
  },
  {
   "metadata": {
    "ExecuteTime": {
     "end_time": "2024-06-12T15:47:09.087102Z",
     "start_time": "2024-06-12T15:47:09.071103Z"
    }
   },
   "cell_type": "code",
   "source": [
    "# Read images and masks, perform segmentation, and collect predictions and true labels\n",
    "for img_path, mask_path in zip(test_images_path, test_masks_path):\n",
    "    image_tensor = read_image(img_path, tile_size)\n",
    "    mask_tensor = read_image(mask_path, tile_size, mask=True)\n",
    "\n",
    "    if image_tensor is not None and mask_tensor is not None:\n",
    "        print('hello')\n",
    "        pred_mask = semantic_seg(img_path, tile_size, model)\n",
    "        true_mask = tf.squeeze(mask_tensor).numpy().astype(int)\n",
    "\n",
    "        y_true.extend(true_mask.flatten())\n",
    "        y_pred.extend(pred_mask.flatten())\n",
    "    else:\n",
    "        print(f\"Error processing image or mask at {img_path} or {mask_path}\")\n"
   ],
   "id": "628e82353aff1b77",
   "outputs": [],
   "execution_count": 11
  },
  {
   "metadata": {},
   "cell_type": "code",
   "outputs": [],
   "execution_count": null,
   "source": "",
   "id": "198dee1fea44c584"
  }
 ],
 "metadata": {
  "kernelspec": {
   "display_name": "Python 3",
   "language": "python",
   "name": "python3"
  },
  "language_info": {
   "codemirror_mode": {
    "name": "ipython",
    "version": 2
   },
   "file_extension": ".py",
   "mimetype": "text/x-python",
   "name": "python",
   "nbconvert_exporter": "python",
   "pygments_lexer": "ipython2",
   "version": "2.7.6"
  }
 },
 "nbformat": 4,
 "nbformat_minor": 5
}
