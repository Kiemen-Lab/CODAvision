{
 "cells": [
  {
   "cell_type": "code",
   "source": [
    "from PIL import Image\n",
    "import numpy as np\n",
    "import os\n",
    "\n",
    "# Add the OpenSlide DLL directory\n",
    "openslide_path = r'C:\\Users\\Valentina\\openslide-win64-20220811\\bin'\n",
    "if hasattr(os, 'add_dll_directory'):\n",
    "    # Python 3.8+\n",
    "    with os.add_dll_directory(openslide_path):\n",
    "        from openslide import OpenSlide\n",
    "else:\n",
    "    # Earlier Python versions\n",
    "    if openslide_path not in os.environ['PATH']:\n",
    "        os.environ['PATH'] = openslide_path + os.pathsep + os.environ['PATH']\n",
    "    from openslide import OpenSlide\n"
   ],
   "metadata": {
    "collapsed": false,
    "ExecuteTime": {
     "end_time": "2024-07-10T00:43:54.004214Z",
     "start_time": "2024-07-10T00:43:53.994213Z"
    }
   },
   "outputs": [],
   "execution_count": 9
  },
  {
   "cell_type": "code",
   "source": [
    "wsisrc = r'\\\\10.99.68.52\\Kiemendata\\Valentina Matos\\LG HG PanIN project\\LGHG segmentation'\n",
    "tenxsrc = os.path.join(wsisrc, '10x_python')\n",
    "fivexsrc = os.path.join(wsisrc, '5x_python')\n",
    "if not os.path.exists(tenxsrc):\n",
    "    os.mkdir(tenxsrc)\n",
    "if not os.path.exists(fivexsrc):\n",
    "    os.mkdir(fivexsrc)"
   ],
   "metadata": {
    "collapsed": false,
    "ExecuteTime": {
     "end_time": "2024-07-10T00:43:54.469877Z",
     "start_time": "2024-07-10T00:43:54.431876Z"
    }
   },
   "outputs": [],
   "execution_count": 10
  },
  {
   "cell_type": "code",
   "source": [
    "wsis = [_ for _ in os.listdir(wsisrc) if _.endswith('ndpi')]\n",
    "wsis2 = [os.path.splitext(_)[0] for _ in wsis]\n",
    "tenx = [_ for _ in os.listdir(tenxsrc) if _.endswith('tif')]\n",
    "tenx2 = [os.path.splitext(_)[0] for _ in tenx]\n",
    "missingimages = [_ for _ in wsis2 if _ not in tenx2]"
   ],
   "metadata": {
    "collapsed": false,
    "ExecuteTime": {
     "end_time": "2024-07-08T20:45:00.414107Z",
     "start_time": "2024-07-08T20:45:00.305108Z"
    }
   },
   "outputs": [],
   "execution_count": 7
  },
  {
   "cell_type": "code",
   "source": [
    "for idx,missingimage in enumerate(missingimages):\n",
    "    print(idx,'/',len(missingimages),' processing: ',missingimage)\n",
    "    wsi = OpenSlide(os.path.join(wsisrc,missingimage+'.ndpi'))\n",
    "    rsf = 2\n",
    "    svs_img = wsi.read_region(location=(0,0),level=0,size=wsi.level_dimensions[0]).convert('RGB')\n",
    "    resize_factorx = rsf/float(wsi.properties['openslide.mpp-x']) #8um = 1.25x #4um = 2.5x, #2um=5x, 1um=10x, 0.5um=20x, 0.25um=40x\n",
    "    resize_factory = rsf/float(wsi.properties['openslide.mpp-y'])\n",
    "    resize_dimension = tuple([int(np.ceil(wsi.dimensions[0]/resize_factorx)),int(np.ceil(wsi.dimensions[1]/resize_factory))])\n",
    "    svs_img = svs_img.resize(resize_dimension,resample=Image.NEAREST)\n",
    "    svs_img.save(os.path.join(tenxsrc,missingimage+'.tif'),resolution=1,resolution_unit=1,quality=100,compression=None)\n",
    "\n",
    "    # rsf = 4\n",
    "    # resize_factorx = 1/rsf #8um = 1.25x #4um = 2.5x, #2um=5x, 1um=10x, 0.5um=20x, 0.25um=40x\n",
    "    # resize_factory = 1/rsf\n",
    "    # resize_dimension = tuple([int(np.ceil(wsi.dimensions[0]/resize_factorx)),int(np.ceil(wsi.dimensions[1]/resize_factory))])\n",
    "    # svs_img = svs_img.resize(resize_dimension,resample=Image.NEAREST)"
   ],
   "metadata": {
    "collapsed": false,
    "ExecuteTime": {
     "end_time": "2024-07-08T21:13:03.659269Z",
     "start_time": "2024-07-08T20:45:01.134106Z"
    }
   },
   "outputs": [
    {
     "name": "stdout",
     "output_type": "stream",
     "text": [
      "0 / 6  processing:  TC_033_0350\n",
      "1 / 6  processing:  TC_033_0490\n",
      "2 / 6  processing:  TC_037_0370\n",
      "3 / 6  processing:  TC_057_0570\n",
      "4 / 6  processing:  TC_062_1180\n",
      "5 / 6  processing:  TC_065_0320\n"
     ]
    }
   ],
   "execution_count": 8
  },
  {
   "cell_type": "code",
   "execution_count": null,
   "outputs": [],
   "source": [
    "    rsf = 8\n",
    "    resize_factorx = rsf/float(wsi.properties['openslide.mpp-x']) #8um = 1.25x #4um = 2.5x, #2um=5x, 1um=10x, 0.5um=20x, 0.25um=40x\n",
    "    resize_factory = rsf/float(wsi.properties['openslide.mpp-y'])\n",
    "    resize_dimension = tuple([int(np.ceil(wsi.dimensions[0]/resize_factorx)),int(np.ceil(wsi.dimensions[1]/resize_factory))])\n",
    "    svs_img2_5x = svs_img.resize(resize_dimension,resample=Image.NEAREST)\n",
    "    svs_img2_5x.save(os.path.join(twosrc,missingimage+'.tif'),resolution=2_5,resolution_unit=1,quality=100,compression=None)"
   ],
   "metadata": {
    "collapsed": false
   }
  },
  {
   "cell_type": "markdown",
   "source": [],
   "metadata": {
    "collapsed": false
   }
  }
 ],
 "metadata": {
  "kernelspec": {
   "display_name": "Python 3",
   "language": "python",
   "name": "python3"
  },
  "language_info": {
   "codemirror_mode": {
    "name": "ipython",
    "version": 2
   },
   "file_extension": ".py",
   "mimetype": "text/x-python",
   "name": "python",
   "nbconvert_exporter": "python",
   "pygments_lexer": "ipython2",
   "version": "2.7.6"
  }
 },
 "nbformat": 4,
 "nbformat_minor": 0
}
