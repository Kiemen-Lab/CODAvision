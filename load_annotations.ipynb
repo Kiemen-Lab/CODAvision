{
 "cells": [
  {
   "cell_type": "code",
   "metadata": {
    "collapsed": true,
    "ExecuteTime": {
     "end_time": "2024-04-11T19:56:00.171969Z",
     "start_time": "2024-04-11T19:56:00.161969Z"
    }
   },
   "source": [
    "import numpy as np\n",
    "import scipy.io as sio"
   ],
   "outputs": [],
   "execution_count": 5
  },
  {
   "cell_type": "code",
   "source": [
    "#inputs\n",
    "# stt = sio.loadmat(r'\\\\10.99.68.52\\Kiemendata\\Valentina Matos\\coda to python\\variables\\stt.mat')\n",
    "multlayer = 1\n",
    "layernum = 1\n"
   ],
   "metadata": {
    "collapsed": false,
    "ExecuteTime": {
     "end_time": "2024-04-11T19:56:26.455140Z",
     "start_time": "2024-04-11T19:56:26.149141Z"
    }
   },
   "outputs": [
    {
     "name": "stderr",
     "output_type": "stream",
     "text": [
      "\n",
      "KeyboardInterrupt\n",
      "\n"
     ]
    }
   ],
   "execution_count": 6
  },
  {
   "cell_type": "code",
   "source": "print(multlayer)",
   "metadata": {
    "collapsed": false,
    "pycharm": {
     "is_executing": true
    },
    "ExecuteTime": {
     "start_time": "2024-04-11T15:31:41.380801Z"
    }
   },
   "outputs": [],
   "execution_count": null
  },
  {
   "cell_type": "code",
   "execution_count": null,
   "outputs": [],
   "source": [
    "# For multilayer ==1\n",
    "xyout = [[] for _ in range(len(stt.Annotations.Annotation))]\n",
    "try:\n",
    "    reduce_annotations = float(stt.Annotations.Attributes.MicronsPerPixel)\n",
    "except:\n",
    "    reduce_annotations = 1\n",
    "\n",
    "for layer in range(len(stt.Annotations.Annotation)):\n",
    "    if 'Region' not in stt.Annotations.Annotation[layer].Regions:\n",
    "        continue\n",
    "    regionnum = len(stt.Annotations.Annotation[layer].Regions.Region)\n",
    "    RegionInfo = []\n",
    "    for kr in range(regionnum):\n",
    "        if regionnum > 1:\n",
    "            vertexnum = len(stt.Annotations.Annotation[layer].Regions.Region[kr].Vertices.Vertex)\n",
    "            RegionInfo.append(stt.Annotations.Annotation[layer].Regions.Region[kr].Attributes)\n",
    "            for kv in range(vertexnum):\n",
    "                try:\n",
    "                    x = float(stt.Annotations.Annotation[layer].Regions.Region[kr].Vertices.Vertex[kv].Attributes.X)\n",
    "                    y = float(stt.Annotations.Annotation[layer].Regions.Region[kr].Vertices.Vertex[kv].Attributes.Y)\n",
    "                    xyout[layer].append([layer, kr, x, y])\n",
    "                except:\n",
    "                    continue\n",
    "        else:\n",
    "            vertexnum = len(stt.Annotations.Annotation[layer].Regions.Region.Vertices.Vertex)\n",
    "            RegionInfo.append(stt.Annotations.Annotation[layer].Regions.Region.Attributes)\n",
    "            for kv in range(vertexnum):\n",
    "                x = float(stt.Annotations.Annotation[layer].Regions.Region.Vertices.Vertex[kv].Attributes.X)\n",
    "                y = float(stt.Annotations.Annotation[layer].Regions.Region.Vertices.Vertex[kv].Attributes.Y)\n",
    "                xyout[layer].append([layer, kr, x, y])\n",
    "xyout = np.array(xyout)"
   ],
   "metadata": {
    "collapsed": false
   }
  },
  {
   "cell_type": "code",
   "execution_count": null,
   "outputs": [],
   "source": [
    "# For multilayer == 0\n",
    "try:\n",
    "    reduce_annotations = float(stt.Annotations.Attributes.MicronsPerPixel)\n",
    "except:\n",
    "    reduce_annotations = 1\n",
    "regionnum = len(stt.Annotations.Annotation.Regions.Region)\n",
    "xyout = []\n",
    "RegionInfo = []\n",
    "for kr in range(regionnum):\n",
    "    if regionnum > 1:\n",
    "        vertexnum = len(stt.Annotations.Annotation.Regions.Region[kr].Vertices.Vertex)\n",
    "        RegionInfo.append(stt.Annotations.Annotation.Regions.Region[kr].Attributes)\n",
    "        for kv in range(vertexnum):\n",
    "            x = float(stt.Annotations.Annotation.Regions.Region[kr].Vertices.Vertex[kv].Attributes.X)\n",
    "            y = float(stt.Annotations.Annotation.Regions.Region[kr].Vertices.Vertex[kv].Attributes.Y)\n",
    "            xyout.append([layernum, kr, x, y])\n",
    "    else:\n",
    "        vertexnum = len(stt.Annotations.Annotation.Regions.Region.Vertices.Vertex)\n",
    "        RegionInfo.append(stt.Annotations.Annotation.Regions.Region.Attributes)\n",
    "        for kv in range(vertexnum):\n",
    "            x = float(stt.Annotations.Annotation.Regions.Region.Vertices.Vertex[kv].Attributes.X)\n",
    "            y = float(stt.Annotations.Annotation.Regions.Region.Vertices.Vertex[kv].Attributes.Y)\n",
    "            xyout.append([layernum, kr, x, y])\n",
    "xyout = np.array(xyout)"
   ],
   "metadata": {
    "collapsed": false
   }
  }
 ],
 "metadata": {
  "kernelspec": {
   "display_name": "Python 3",
   "language": "python",
   "name": "python3"
  },
  "language_info": {
   "codemirror_mode": {
    "name": "ipython",
    "version": 2
   },
   "file_extension": ".py",
   "mimetype": "text/x-python",
   "name": "python",
   "nbconvert_exporter": "python",
   "pygments_lexer": "ipython2",
   "version": "2.7.6"
  }
 },
 "nbformat": 4,
 "nbformat_minor": 0
}
