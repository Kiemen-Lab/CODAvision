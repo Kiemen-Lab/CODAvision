{
 "cells": [
  {
   "cell_type": "code",
   "id": "f113d9ee575f3a8c",
   "metadata": {
    "collapsed": true,
    "ExecuteTime": {
     "end_time": "2024-08-27T16:08:06.064973Z",
     "start_time": "2024-08-27T16:08:03.403809Z"
    }
   },
   "source": [
    "import os\n",
    "import numpy as np\n",
    "from save_model_metadata import save_model_metadata\n",
    "from load_annotation_data import load_annotation_data\n",
    "from create_training_tiles import create_training_tiles\n",
    "from train_segmentation_model import train_segmentation_model\n",
    "from classify_images import classify_images\n",
    "from test_segmentation_model import test_segmentation_model\n"
   ],
   "outputs": [],
   "execution_count": 1
  },
  {
   "metadata": {
    "ExecuteTime": {
     "end_time": "2024-08-27T16:08:06.080479Z",
     "start_time": "2024-08-27T16:08:06.064973Z"
    }
   },
   "cell_type": "code",
   "source": [
    "pth = r'\\\\10.99.68.52\\Kiemendata\\Valentina Matos\\tissues for methods paper\\human liver'\n",
    "pthim = os.path.join(pth, '10x')\n",
    "umpix = 1\n",
    "pthtest = os.path.join(pth, 'testing image')\n",
    "pthtestim = os.path.join(pthtest, '10x')\n",
    "nm = 'CODA_python_08_23_2024'\n",
    "\n",
    "WS = [[0, 0, 0, 0, 2, 0, 2], [7, 6], \n",
    "      [1, 2, 3, 4, 5, 6, 7], \n",
    "      [6, 4, 2, 3, 5, 1,7], []]\n",
    "numclass = max(WS[2])\n",
    "sxy = 1024\n",
    "pthDL = os.path.join(pth, nm)\n",
    "nblack = numclass + 1\n",
    "nwhite = WS[1][0]\n",
    "cmap = np.array([[230, 190, 100],\n",
    "                  [65, 155, 210],\n",
    "                  [145, 35, 35],\n",
    "                  [158, 24, 118],\n",
    "                  [30, 50, 50],\n",
    "                  [235, 188, 215],\n",
    "                  [255, 255, 255]])\n",
    "classNames = ['PDAC', 'bile duct', 'vasculature', 'hepatocyte','immune','stroma','whitespace']\n",
    "classCheck = []\n",
    "ntrain = 15\n",
    "nvalidate = np.ceil(ntrain/5)\n",
    "numims = 2"
   ],
   "id": "bd6576b12a7ec3a3",
   "outputs": [],
   "execution_count": 2
  },
  {
   "metadata": {
    "ExecuteTime": {
     "end_time": "2024-08-27T16:08:06.205511Z",
     "start_time": "2024-08-27T16:08:06.080479Z"
    }
   },
   "cell_type": "code",
   "source": "save_model_metadata(pthDL, pthim, WS, nm, umpix, cmap, sxy, classNames, ntrain, nvalidate)",
   "id": "7fad8a9aad407660",
   "outputs": [
    {
     "name": "stdout",
     "output_type": "stream",
     "text": [
      "Saving model metadata and classification colormap...\n",
      "Net file already exists, updating data...\n",
      "Plotting cmap took 0.0 minutes and 0.01562666893005371 seconds\n",
      "Saving metadata took 0.0 minutes and 0.09389758110046387 seconds\n"
     ]
    },
    {
     "data": {
      "text/plain": [
       "<Figure size 640x480 with 1 Axes>"
      ],
      "image/png": "[encoded data removed]"
     },
     "metadata": {},
     "output_type": "display_data"
    }
   ],
   "execution_count": 3
  },
  {
   "metadata": {
    "ExecuteTime": {
     "end_time": "2024-08-27T16:08:06.758460Z",
     "start_time": "2024-08-27T16:08:06.205511Z"
    }
   },
   "cell_type": "code",
   "source": "[ctlist0, numann0] = load_annotation_data(pthDL, pth, pthim, classCheck)",
   "id": "48bf1a410aaad605",
   "outputs": [
    {
     "name": "stdout",
     "output_type": "stream",
     "text": [
      " \n",
      "Importing annotation data...\n",
      "Image 1 of 6: Liv-17_0001\n",
      "Checking parameters took 0.0 minutes and 0.06276106834411621 seconds\n",
      " annotation data previously loaded\n",
      "Image 2 of 6: Liv-17_0041\n",
      "Checking parameters took 0.0 minutes and 0.03213024139404297 seconds\n",
      " annotation data previously loaded\n",
      "Image 3 of 6: Liv-17_0081\n",
      "Checking parameters took 0.0 minutes and 0.12807464599609375 seconds\n",
      " annotation data previously loaded\n",
      "Image 4 of 6: Liv-17_0121\n",
      "Checking parameters took 0.0 minutes and 0.07928133010864258 seconds\n",
      " annotation data previously loaded\n",
      "Image 5 of 6: Liv-17_0161\n",
      "Checking parameters took 0.0 minutes and 0.06328058242797852 seconds\n",
      " annotation data previously loaded\n",
      "Image 6 of 6: Liv-17_0199\n",
      "Checking parameters took 0.0 minutes and 0.07327675819396973 seconds\n",
      " annotation data previously loaded\n"
     ]
    }
   ],
   "execution_count": 4
  },
  {
   "metadata": {
    "ExecuteTime": {
     "end_time": "2024-08-27T16:08:06.774472Z",
     "start_time": "2024-08-27T16:08:06.758460Z"
    }
   },
   "cell_type": "code",
   "source": "create_training_tiles(pthDL, numann0, ctlist0)",
   "id": "initial_id",
   "outputs": [
    {
     "name": "stdout",
     "output_type": "stream",
     "text": [
      "\n",
      "Calculating total number of pixels in the training dataset...\n",
      " There are 544424200.0 pixels of PDAC, 41% of the most common class.\n",
      " There are 32034500.0 pixels of bile duct, 2% of the most common class.\n",
      " There are 92471600.0 pixels of vasculature, 7% of the most common class.\n",
      " There are 1312608300.0 pixels of hepatocyte. This is the most common class.\n",
      " There are 33182000.0 pixels of immune, 2% of the most common class.\n",
      " There are 655049200.0 pixels of stroma, 49% of the most common class.\n",
      " There are 817792400.0 pixels of whitespace, 62% of the most common class.\n",
      "\n",
      "Building training tiles...\n",
      "  Already done.\n",
      "  Elapsed time to create training big tiles: 0.0h 0.0m 0.009505033493041992s\n",
      "\n",
      "\n",
      "Building validation tiles...\n",
      "Already done.\n",
      "Elapsed time to create validation big tiles: 0.0h 0.0m 0.0s\n"
     ]
    }
   ],
   "execution_count": 5
  },
  {
   "metadata": {
    "jupyter": {
     "is_executing": true
    },
    "ExecuteTime": {
     "start_time": "2024-08-27T16:08:06.774472Z"
    }
   },
   "cell_type": "code",
   "source": "train_segmentation_model(pthDL, fine_tune=True)",
   "id": "dccc3166ebe9c7c7",
   "outputs": [
    {
     "name": "stdout",
     "output_type": "stream",
     "text": [
      "TensorFlow is using the following GPU: LogicalDevice(name='/device:GPU:0', device_type='GPU')\n",
      "\n",
      "Search: Running Trial #1\n",
      "\n",
      "Value             |Best Value So Far |Hyperparameter\n",
      "0.0090837         |0.0090837         |learning_rate\n",
      "\n"
     ]
    },
    {
     "name": "stderr",
     "output_type": "stream",
     "text": [
      "INFO:train_segmentation_model:Starting epoch 0\n"
     ]
    },
    {
     "name": "stdout",
     "output_type": "stream",
     "text": [
      "Epoch 1/8\n"
     ]
    }
   ],
   "execution_count": null
  },
  {
   "metadata": {
    "jupyter": {
     "is_executing": true
    }
   },
   "cell_type": "code",
   "source": "test_segmentation_model(pthDL, pthtest, pthtestim)",
   "id": "fbf0a4c56a42d4b3",
   "outputs": [],
   "execution_count": null
  },
  {
   "metadata": {
    "jupyter": {
     "is_executing": true
    }
   },
   "cell_type": "code",
   "source": "classify_images(pthim,pthDL, color_overlay_HE=True)",
   "id": "87cae942a8229844",
   "outputs": [],
   "execution_count": null
  },
  {
   "metadata": {
    "jupyter": {
     "is_executing": true
    }
   },
   "cell_type": "code",
   "source": [
    "# from make_overlay import make_overlay\n",
    "# from tifffile import imread \n",
    "# import numpy as np\n",
    "# from PIL import Image\n",
    "# \n",
    "# imclassify = Image.open(r'\\\\10.99.68.52\\Kiemendata\\Valentina Matos\\tissues for methods paper\\human liver\\10x\\classification_CODA_python_08_19_2024\\Liv-17_0001.tif')\n",
    "# imclassify = np.array(imclassify)\n",
    "# img_path = r'\\\\10.99.68.52\\Kiemendata\\Valentina Matos\\tissues for methods paper\\human liver\\10x\\Liv-17_0001.png'\n",
    "# imclassify = imclassify-1\n",
    "# save_path = r'\\\\10.99.68.52\\Kiemendata\\Valentina Matos\\tissues for methods paper\\human liver\\10x\\classification_CODA_python_08_19_2024\\check_classification'\n",
    "# _ = make_overlay(img_path, imclassify, colormap=cmap, save_path=save_path)"
   ],
   "id": "af4e4d206142dea",
   "outputs": [],
   "execution_count": null
  }
 ],
 "metadata": {
  "kernelspec": {
   "display_name": "Python 3",
   "language": "python",
   "name": "python3"
  },
  "language_info": {
   "codemirror_mode": {
    "name": "ipython",
    "version": 2
   },
   "file_extension": ".py",
   "mimetype": "text/x-python",
   "name": "python",
   "nbconvert_exporter": "python",
   "pygments_lexer": "ipython2",
   "version": "2.7.6"
  }
 },
 "nbformat": 4,
 "nbformat_minor": 5
}
