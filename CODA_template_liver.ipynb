{
 "cells": [
  {
   "cell_type": "code",
   "id": "f113d9ee575f3a8c",
   "metadata": {
    "collapsed": true,
    "ExecuteTime": {
     "end_time": "2024-09-05T20:18:32.471223Z",
     "start_time": "2024-09-05T20:18:31.608599Z"
    }
   },
   "source": [
    "import os\n",
    "import numpy as np\n",
    "from base import *\n"
   ],
   "execution_count": 2,
   "outputs": []
  },
  {
   "metadata": {
    "ExecuteTime": {
     "end_time": "2024-09-03T16:31:28.055977Z",
     "start_time": "2024-09-03T16:31:28.041999Z"
    }
   },
   "cell_type": "code",
   "source": [
    "pth = r'\\\\10.99.68.52\\Kiemendata\\Valentina Matos\\tissues for methods paper\\human liver'\n",
    "pthim = os.path.join(pth, '10x')\n",
    "umpix = 1\n",
    "pthtest = os.path.join(pth, 'testing image')\n",
    "pthtestim = os.path.join(pthtest, '10x')\n",
    "nm = 'CODA_python_08_30_2024'\n",
    "\n",
    "WS = [[0, 0, 0, 0, 2, 0, 2], [7, 6], \n",
    "      [1, 2, 3, 4, 5, 6, 7], \n",
    "      [6, 4, 2, 3, 5, 1,7], []]\n",
    "numclass = max(WS[2])\n",
    "sxy = 1024\n",
    "pthDL = os.path.join(pth, nm)\n",
    "nblack = numclass + 1\n",
    "nwhite = WS[1][0]\n",
    "cmap = np.array([[230, 190, 100],\n",
    "                  [65, 155, 210],\n",
    "                  [145, 35, 35],\n",
    "                  [158, 24, 118],\n",
    "                  [30, 50, 50],\n",
    "                  [235, 188, 215],\n",
    "                  [255, 255, 255]])\n",
    "classNames = ['PDAC', 'bile duct', 'vasculature', 'hepatocyte','immune','stroma','whitespace']\n",
    "classCheck = []\n",
    "ntrain = 15\n",
    "nvalidate = np.ceil(ntrain/5)\n",
    "numims = 2"
   ],
   "id": "bd6576b12a7ec3a3",
   "execution_count": 2,
   "outputs": []
  },
  {
   "metadata": {
    "ExecuteTime": {
     "end_time": "2024-08-30T23:54:49.170137Z",
     "start_time": "2024-08-30T23:54:49.062567Z"
    }
   },
   "cell_type": "code",
   "source": "save_model_metadata(pthDL, pthim, WS, nm, umpix, cmap, sxy, classNames, ntrain, nvalidate) ",
   "id": "7fad8a9aad407660",
   "execution_count": 3,
   "outputs": []
  },
  {
   "metadata": {
    "ExecuteTime": {
     "end_time": "2024-08-30T23:54:49.418142Z",
     "start_time": "2024-08-30T23:54:49.203496Z"
    }
   },
   "cell_type": "code",
   "source": "[ctlist0, numann0] = load_annotation_data(pthDL, pth, pthim, classCheck)",
   "id": "48bf1a410aaad605",
   "execution_count": 5,
   "outputs": []
  },
  {
   "metadata": {
    "ExecuteTime": {
     "end_time": "2024-08-30T23:54:49.449010Z",
     "start_time": "2024-08-30T23:54:49.419139Z"
    }
   },
   "cell_type": "code",
   "source": "create_training_tiles(pthDL, numann0, ctlist0)",
   "id": "initial_id",
   "execution_count": 6,
   "outputs": []
  },
  {
   "metadata": {
    "ExecuteTime": {
     "end_time": "2024-08-31T00:32:12.615249Z",
     "start_time": "2024-08-30T23:54:49.450006Z"
    }
   },
   "cell_type": "code",
   "source": "train_segmentation_model(pthDL, fine_tune=False)",
   "id": "dccc3166ebe9c7c7",
   "execution_count": 7,
   "outputs": []
  },
  {
   "metadata": {
    "ExecuteTime": {
     "end_time": "2024-09-03T16:32:38.390969Z",
     "start_time": "2024-09-03T16:31:37.620844Z"
    }
   },
   "cell_type": "code",
   "source": "test_segmentation_model(pthDL, pthtest, pthtestim)",
   "id": "fbf0a4c56a42d4b3",
   "execution_count": 3,
   "outputs": []
  },
  {
   "metadata": {
    "jupyter": {
     "is_executing": true
    },
    "ExecuteTime": {
     "end_time": "2024-08-31T01:18:43.711304Z",
     "start_time": "2024-08-31T00:39:27.075758Z"
    }
   },
   "cell_type": "code",
   "source": [
    "classify_images(pthim,pthDL, color_overlay_HE=True)"
   ],
   "id": "87cae942a8229844",
   "execution_count": 9,
   "outputs": []
  },
  {
   "cell_type": "code",
   "source": [
    "quantify_images(pthim,pthDL)"
   ],
   "metadata": {
    "collapsed": false
   },
   "id": "969878325d7cfe87",
   "execution_count": null,
   "outputs": []
  }
 ],
 "metadata": {
  "kernelspec": {
   "display_name": "Python 3",
   "language": "python",
   "name": "python3"
  },
  "language_info": {
   "codemirror_mode": {
    "name": "ipython",
    "version": 2
   },
   "file_extension": ".py",
   "mimetype": "text/x-python",
   "name": "python",
   "nbconvert_exporter": "python",
   "pygments_lexer": "ipython2",
   "version": "2.7.6"
  }
 },
 "nbformat": 4,
 "nbformat_minor": 5
}
