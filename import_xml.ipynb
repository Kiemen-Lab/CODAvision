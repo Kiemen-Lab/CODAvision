{
 "cells": [
  {
   "cell_type": "code",
   "metadata": {
    "collapsed": true,
    "ExecuteTime": {
     "end_time": "2024-04-19T20:56:09.047080Z",
     "start_time": "2024-04-19T20:56:08.975082Z"
    }
   },
   "source": [
    "import xml.etree.ElementTree as ET\n",
    "import numpy as np"
   ],
   "outputs": [],
   "execution_count": 1
  },
  {
   "cell_type": "code",
   "execution_count": 12,
   "outputs": [
    {
     "data": {
      "text/plain": "False"
     },
     "execution_count": 12,
     "metadata": {},
     "output_type": "execute_result"
    }
   ],
   "source": [
    "xmlfile = r'\\\\10.99.68.52\\Kiemendata\\Valentina Matos\\Dashboard Project\\Test\\SG_013_0061.xml'\n",
    "tree = ET.parse(xmlfile)  # Parse XML file using ElementTree\n",
    "root = tree.getroot()  # Get the root element of the XML tree\n",
    "# Check if annotations exist\n",
    "if 'Regions' in root.find('.//Annotation').find('Regions').tag:  # Check if the XML contains annotation regions\n",
    "    multilayer = False  # Set multilayer flag to False if annotations are single-layered\n",
    "else:\n",
    "    multilayer = True  # Set multilayer flag to True if annotations are multi-layered\n",
    "layernum = 1  # Example value for layernum\n",
    "multilayer"
   ],
   "metadata": {
    "collapsed": false
   }
  },
  {
   "cell_type": "code",
   "execution_count": 6,
   "outputs": [],
   "source": [
    "# Initialize variables to store annotation data\n",
    "xyout = []  # List to store annotation coordinates\n",
    "reduce_annotations = 1  # Default value for annotation resolution\n",
    "\n",
    "# Determine if the XML file contains multiple annotation layers\n",
    "if multilayer:\n",
    "    # Find all Annotation elements in the XML tree\n",
    "    annotations = root.findall('.//Annotation')\n",
    "else:\n",
    "    # Find the first Annotation element in the XML tree\n",
    "    annotations = [root.find('.//Annotation')]"
   ],
   "metadata": {
    "collapsed": false
   }
  },
  {
   "cell_type": "code",
   "execution_count": 7,
   "outputs": [],
   "source": [
    "# Iterate through each Annotation element\n",
    "for annotation in annotations:\n",
    "    # Check if the Annotation element contains Regions\n",
    "    if 'Regions' not in annotation.find('Regions').tag:\n",
    "        continue  # Skip to the next Annotation if Regions are not present\n",
    "\n",
    "    # Find all Region elements within the Annotation\n",
    "    regions = annotation.find('Regions').findall('Region')\n",
    "\n",
    "    # Iterate through each Region element\n",
    "    for region in regions:\n",
    "        # Extract attributes of the Region element\n",
    "        region_info = region.attrib\n",
    "\n",
    "        # Check if the Region element contains multiple Vertices\n",
    "        if 'Vertex' in region.find('Vertices').find('Vertex').tag:\n",
    "            # Find all Vertex elements within the Region\n",
    "            vertices = region.find('Vertices').findall('Vertex')\n",
    "        else:\n",
    "            # Find the single Vertex element within the Region\n",
    "            vertices = region.find('Vertices').find('Vertex')\n",
    "\n",
    "        # Check if vertices is a list (multiple vertices)\n",
    "        if isinstance(vertices, list):\n",
    "            # Iterate through each Vertex element\n",
    "            for vertex in vertices:\n",
    "                try:\n",
    "                    # Extract X and Y coordinates from Vertex attributes\n",
    "                    x = float(vertex.attrib['X'])\n",
    "                    y = float(vertex.attrib['Y'])\n",
    "                    # Append annotation data to xyout list\n",
    "                    xyout.append([layernum, int(region_info['Id']), x, y])\n",
    "                except ValueError:\n",
    "                    continue  # Skip to the next Vertex if coordinates are invalid\n",
    "        else:\n",
    "            try:\n",
    "                # Extract X and Y coordinates from Vertex attributes\n",
    "                x = float(vertices.attrib['X'])\n",
    "                y = float(vertices.attrib['Y'])\n",
    "                # Append annotation data to xyout list\n",
    "                xyout.append([layernum, int(region_info['Id']), x, y])\n",
    "            except ValueError:\n",
    "                continue  # Skip to the next Region if coordinates are invalid"
   ],
   "metadata": {
    "collapsed": false
   }
  },
  {
   "cell_type": "code",
   "execution_count": 8,
   "outputs": [
    {
     "data": {
      "text/plain": "(array([[1.0000e+00, 1.0000e+00, 1.8493e+04, 1.7623e+04],\n        [1.0000e+00, 1.0000e+00, 1.8493e+04, 1.7624e+04],\n        [1.0000e+00, 1.0000e+00, 1.8493e+04, 1.7625e+04],\n        ...,\n        [1.0000e+00, 2.5000e+01, 6.3455e+04, 1.3223e+04],\n        [1.0000e+00, 2.5000e+01, 6.3456e+04, 1.3223e+04],\n        [1.0000e+00, 2.5000e+01, 6.3456e+04, 1.3226e+04]]),\n 1)"
     },
     "execution_count": 8,
     "metadata": {},
     "output_type": "execute_result"
    }
   ],
   "source": [
    "# Convert xyout list to NumPy array\n",
    "xyout = np.array(xyout)\n",
    "\n",
    "# Display annotation data and resolution\n",
    "xyout, reduce_annotations"
   ],
   "metadata": {
    "collapsed": false
   }
  },
  {
   "cell_type": "code",
   "execution_count": null,
   "outputs": [],
   "source": [],
   "metadata": {
    "collapsed": false
   }
  }
 ],
 "metadata": {
  "kernelspec": {
   "display_name": "Python 3",
   "language": "python",
   "name": "python3"
  },
  "language_info": {
   "codemirror_mode": {
    "name": "ipython",
    "version": 2
   },
   "file_extension": ".py",
   "mimetype": "text/x-python",
   "name": "python",
   "nbconvert_exporter": "python",
   "pygments_lexer": "ipython2",
   "version": "2.7.6"
  }
 },
 "nbformat": 4,
 "nbformat_minor": 0
}
