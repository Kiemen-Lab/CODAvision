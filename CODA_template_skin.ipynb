{
 "cells": [
  {
   "cell_type": "code",
   "id": "initial_id",
   "metadata": {
    "collapsed": true,
    "ExecuteTime": {
     "end_time": "2024-08-21T10:04:41.954911Z",
     "start_time": "2024-08-21T10:04:41.897268Z"
    }
   },
   "source": [
    "import os\n",
    "import numpy as np\n",
    "pth = r'\\\\10.99.68.52\\Kiemendata\\Valentina Matos\\Jaime\\human skin'\n",
    "pthim = os.path.join(pth, '10x')\n",
    "umpix = 1\n",
    "#pthtest = os.path.join(pth, 'testing images')\n",
    "#pthtestim = os.path.join(pthtest, '5x')\n",
    "nm = 'CODA_python_25_07_2024'\n",
    "\n",
    "WS = [[0, 0, 2, 0, 2, 0, 1, 0, 2], [9, 8], \n",
    "      [1, 2, 3, 4, 5, 6, 7, 5, 8], \n",
    "      [8, 5, 4, 7, 6, 2, 1, 3, 9], []]\n",
    "numclass = max(WS[2])\n",
    "sxy = 1024\n",
    "pthDL = os.path.join(pth, nm)\n",
    "nblack = numclass + 1\n",
    "nwhite = WS[1][0]\n",
    "cmap = np.array([[102, 51, 0],\n",
    "                  [1, 109, 157],\n",
    "                  [81, 179, 93],\n",
    "                  [250, 213, 164],\n",
    "                  [255, 51, 0],\n",
    "                  [255, 244, 25],\n",
    "                  [255, 189, 222],\n",
    "                  [255, 255, 255]])\n",
    "classNames = ['follicle', 'sweat gland', 'oil glandl', 'epidermis','collagen','blood vessel','fat','whitespace']\n",
    "classCheck = []\n",
    "ntrain = 15\n",
    "nvalidate = np.ceil(ntrain/5)\n",
    "numims = 2"
   ],
   "outputs": [],
   "execution_count": 1
  },
  {
   "metadata": {
    "ExecuteTime": {
     "end_time": "2024-08-21T10:04:42.250139Z",
     "start_time": "2024-08-21T10:04:41.955912Z"
    }
   },
   "cell_type": "code",
   "source": [
    "from save_model_metadata import save_model_metadata\n",
    "save_model_metadata(pthDL, pthim, WS, nm, umpix, cmap, sxy, classNames, ntrain, nvalidate)"
   ],
   "id": "579bd1b12e6c0ea7",
   "outputs": [
    {
     "name": "stdout",
     "output_type": "stream",
     "text": [
      "Saving model metadata and classification colormap...\n",
      "Creating Net metadata file...\n",
      "Plotting cmap took 0.0 minutes and 0.019515514373779297 seconds\n",
      "Saving metadata took 0.0 minutes and 0.06203818321228027 seconds\n"
     ]
    },
    {
     "data": {
      "text/plain": [
       "<Figure size 640x480 with 1 Axes>"
      ],
      "image/png": "[encoded data removed]"
     },
     "metadata": {},
     "output_type": "display_data"
    }
   ],
   "execution_count": 2
  },
  {
   "metadata": {
    "ExecuteTime": {
     "end_time": "2024-08-21T10:04:43.515945Z",
     "start_time": "2024-08-21T10:04:42.251139Z"
    }
   },
   "cell_type": "code",
   "source": [
    "from load_annotation_data import load_annotation_data\n",
    "[ctlist0, numann0] = load_annotation_data(pthDL, pth, pthim, classCheck)"
   ],
   "id": "242a9b284b98f717",
   "outputs": [
    {
     "name": "stdout",
     "output_type": "stream",
     "text": [
      " \n",
      "Importing annotation data...\n",
      "Image 1 of 5: OTS-21-11041 - 2021-11-15 12.13.09\n",
      "Checking parameters took 0.0 minutes and 0.15914678573608398 seconds\n",
      " annotation data previously loaded\n",
      "Image 2 of 5: OTS-21-11041 - 2021-11-15 13.26.29\n",
      "Checking parameters took 0.0 minutes and 0.1431722640991211 seconds\n",
      " annotation data previously loaded\n",
      "Image 3 of 5: OTS-21-11041 - 2021-11-15 14.36.12\n",
      "Checking parameters took 0.0 minutes and 0.10608100891113281 seconds\n",
      " annotation data previously loaded\n",
      "Image 4 of 5: OTS-21-11041 - 2021-11-15 15.53.22\n",
      "Checking parameters took 0.0 minutes and 0.08743882179260254 seconds\n",
      " annotation data previously loaded\n",
      "Image 5 of 5: OTS-21-11041 - 2021-11-15 16.47.58\n",
      "Checking parameters took 0.0 minutes and 0.10755228996276855 seconds\n",
      " annotation data previously loaded\n"
     ]
    }
   ],
   "execution_count": 3
  },
  {
   "metadata": {
    "ExecuteTime": {
     "end_time": "2024-08-21T10:04:50.983301Z",
     "start_time": "2024-08-21T10:04:43.516944Z"
    }
   },
   "cell_type": "code",
   "source": [
    "from BB_avg_size import BB_avg_size\n",
    "avg_size = BB_avg_size(ctlist0)"
   ],
   "id": "3206c4b415a59c7a",
   "outputs": [
    {
     "name": "stdout",
     "output_type": "stream",
     "text": [
      "44128.2311827957\n",
      "558\n"
     ]
    }
   ],
   "execution_count": 4
  },
  {
   "metadata": {
    "jupyter": {
     "is_executing": true
    },
    "ExecuteTime": {
     "start_time": "2024-08-21T10:04:50.984300Z"
    }
   },
   "cell_type": "code",
   "source": [
    "from create_training_tiles import create_training_tiles\n",
    "create_training_tiles(pthDL, numann0, ctlist0)"
   ],
   "id": "8f706a6bf34fc33e",
   "outputs": [
    {
     "name": "stdout",
     "output_type": "stream",
     "text": [
      "\n",
      "Calculating total number of pixels in the training dataset...\n",
      " There are 386718100.0 pixels of follicle. This is the most common class.\n",
      " There are 49596100.0 pixels of sweat gland, 12% of the most common class.\n",
      " There are 114012000.0 pixels of oil glandl, 29% of the most common class.\n",
      " There are 193555000.0 pixels of epidermis, 50% of the most common class.\n",
      " There are 368207700.0 pixels of collagen, 95% of the most common class.\n",
      " There are 29647700.0 pixels of blood vessel, 7% of the most common class.\n",
      " There are 99208000.0 pixels of fat, 25% of the most common class.\n",
      " There are 265290000.0 pixels of whitespace, 68% of the most common class.\n",
      "\n",
      "Building training tiles...\n",
      "Starting time for the while loop\n"
     ]
    }
   ],
   "execution_count": null
  },
  {
   "metadata": {
    "jupyter": {
     "is_executing": true
    },
    "ExecuteTime": {
     "start_time": "2024-08-16T15:33:19.686978Z"
    }
   },
   "cell_type": "code",
   "source": [
    "from train_segmentation_model import train_segmentation_model\n",
    "train_segmentation_model(pthDL, fine_tune=True)"
   ],
   "id": "a4c088f76489d96d",
   "outputs": [
    {
     "name": "stdout",
     "output_type": "stream",
     "text": [
      "TensorFlow is using the following GPU: LogicalDevice(name='/device:GPU:0', device_type='GPU')\n",
      "Starting model training...\n",
      "Epoch 1/8\n"
     ]
    }
   ],
   "execution_count": null
  },
  {
   "metadata": {},
   "cell_type": "code",
   "outputs": [],
   "execution_count": null,
   "source": [
    "from classify_images import classify_images\n",
    "classify_images(pthim,pthDL)"
   ],
   "id": "7d02aaa8fde92c33"
  }
 ],
 "metadata": {
  "kernelspec": {
   "display_name": "Python 3",
   "language": "python",
   "name": "python3"
  },
  "language_info": {
   "codemirror_mode": {
    "name": "ipython",
    "version": 2
   },
   "file_extension": ".py",
   "mimetype": "text/x-python",
   "name": "python",
   "nbconvert_exporter": "python",
   "pygments_lexer": "ipython2",
   "version": "2.7.6"
  }
 },
 "nbformat": 4,
 "nbformat_minor": 5
}
