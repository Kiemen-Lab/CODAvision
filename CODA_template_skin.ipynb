{
 "cells": [
  {
   "cell_type": "code",
   "id": "initial_id",
   "metadata": {
    "collapsed": true,
    "ExecuteTime": {
     "end_time": "2024-09-13T18:30:20.354456Z",
     "start_time": "2024-09-13T18:30:20.340457Z"
    }
   },
   "source": [
    "import os\n",
    "import numpy as np\n",
    "from base import *\n",
    "\n",
    "pth = r'\\\\10.99.68.52\\Kiemendata\\Valentina Matos\\tissues for methods paper\\human skin\\test model'\n",
    "pthim = os.path.join(pth, '10x')\n",
    "umpix = 1\n",
    "pthtest = os.path.join(pth, 'testing annotations')\n",
    "pthtestim = os.path.join(pthtest, '10x')\n",
    "nm = 'ANACODA_09_13_2024_TA_205'\n",
    "\n",
    "WS = [[0, 0, 2, 0, 2, 0, 1, 0, 2], [9, 8], \n",
    "      [1, 2, 3, 4, 5, 6, 7, 5, 8], \n",
    "      [8, 5, 4, 7, 6, 2, 1, 3, 9], []]\n",
    "\n",
    "numclass = max(WS[2])\n",
    "sxy = 1024\n",
    "pthDL = os.path.join(pth, nm)\n",
    "nblack = numclass + 1\n",
    "nwhite = WS[1][0]\n",
    "cmap = np.array([[102, 51, 0],\n",
    "                  [1, 109, 157],\n",
    "                  [81, 179, 93],\n",
    "                  [250, 213, 164],\n",
    "                  [255, 51, 0],\n",
    "                  [255, 244, 25],\n",
    "                  [255, 189, 222],\n",
    "                  [255, 255, 255]])\n",
    "classNames = ['follicle', 'sweat gland', 'oil gland', 'epidermis','collagen','blood vessel','fat','whitespace']\n",
    "classCheck = []\n",
    "ntrain = 15\n",
    "nvalidate = np.ceil(ntrain/5)\n",
    "numims = 2"
   ],
   "outputs": [],
   "execution_count": 8
  },
  {
   "metadata": {
    "ExecuteTime": {
     "end_time": "2024-09-13T18:30:20.464678Z",
     "start_time": "2024-09-13T18:30:20.370526Z"
    }
   },
   "cell_type": "code",
   "source": [
    "save_model_metadata(pthDL, pthim, WS, nm, umpix, cmap, sxy, classNames, ntrain, nvalidate)"
   ],
   "id": "579bd1b12e6c0ea7",
   "outputs": [
    {
     "name": "stdout",
     "output_type": "stream",
     "text": [
      "Saving model metadata and classification colormap...\n",
      "Net file already exists, updating data...\n"
     ]
    },
    {
     "data": {
      "text/plain": [
       "<Figure size 640x480 with 1 Axes>"
      ],
      "image/png": "[encoded data removed]"
     },
     "metadata": {},
     "output_type": "display_data"
    }
   ],
   "execution_count": 9
  },
  {
   "metadata": {
    "ExecuteTime": {
     "end_time": "2024-09-13T18:30:20.799112Z",
     "start_time": "2024-09-13T18:30:20.481679Z"
    }
   },
   "cell_type": "code",
   "source": [
    "[ctlist0, numann0] = load_annotation_data(pthDL, pth, pthim, classCheck)"
   ],
   "id": "242a9b284b98f717",
   "outputs": [
    {
     "name": "stdout",
     "output_type": "stream",
     "text": [
      " \n",
      "Importing annotation data...\n",
      " \n",
      " Making downsampled images...\n",
      "Image 1 of 5: OTS-21-11041 - 2021-11-15 12.13.09\n",
      " annotation data previously loaded\n",
      "Image 2 of 5: OTS-21-11041 - 2021-11-15 13.26.29\n",
      " annotation data previously loaded\n",
      "Image 3 of 5: OTS-21-11041 - 2021-11-15 14.36.12\n",
      " annotation data previously loaded\n",
      "Image 4 of 5: OTS-21-11041 - 2021-11-15 15.53.22\n",
      " annotation data previously loaded\n",
      "Image 5 of 5: OTS-21-11041 - 2021-11-15 16.47.58\n",
      " annotation data previously loaded\n"
     ]
    }
   ],
   "execution_count": 10
  },
  {
   "metadata": {
    "jupyter": {
     "is_executing": true
    },
    "ExecuteTime": {
     "start_time": "2024-09-13T18:30:20.816143Z"
    }
   },
   "cell_type": "code",
   "source": [
    "create_training_tiles(pthDL, numann0, ctlist0)"
   ],
   "id": "8f706a6bf34fc33e",
   "outputs": [
    {
     "name": "stdout",
     "output_type": "stream",
     "text": [
      "\n",
      "Calculating total number of pixels in the training dataset...\n",
      " There are 386718100.0 pixels of follicle. This is the most common class.\n",
      " There are 49596100.0 pixels of sweat gland, 12% of the most common class.\n",
      " There are 114012000.0 pixels of oil gland, 29% of the most common class.\n",
      " There are 193555000.0 pixels of epidermis, 50% of the most common class.\n",
      " There are 368207700.0 pixels of collagen, 95% of the most common class.\n",
      " There are 29647700.0 pixels of blood vessel, 7% of the most common class.\n",
      " There are 99208000.0 pixels of fat, 25% of the most common class.\n",
      " There are 265290000.0 pixels of whitespace, 68% of the most common class.\n",
      "\n",
      "Building training tiles...\n"
     ]
    }
   ],
   "execution_count": null
  },
  {
   "metadata": {},
   "cell_type": "code",
   "source": [
    "train_segmentation_model(pthDL, fine_tune=False)"
   ],
   "id": "a4c088f76489d96d",
   "outputs": [],
   "execution_count": null
  },
  {
   "metadata": {},
   "cell_type": "code",
   "source": [
    "test_segmentation_model(pthDL, pthtest, pthtestim)"
   ],
   "id": "bb3be3c868d751f8",
   "outputs": [],
   "execution_count": null
  },
  {
   "metadata": {},
   "cell_type": "code",
   "source": [
    "classify_images(pthim,pthDL)"
   ],
   "id": "7d02aaa8fde92c33",
   "outputs": [],
   "execution_count": null
  },
  {
   "metadata": {
    "ExecuteTime": {
     "end_time": "2024-09-20T17:26:22.020908Z",
     "start_time": "2024-09-20T17:23:15.223730Z"
    }
   },
   "cell_type": "code",
   "source": [
    "import shutil\n",
    "import os\n",
    "import glob\n",
    "\n",
    "tenxlucie = r'\\\\10.99.68.52\\KiemenData\\Mimi Canto\\10x'\n",
    "pthtraining = r'\\\\10.99.68.52\\Kiemendata\\Valentina Matos\\LG HG PanIN project\\LGHG segmentation\\10x'\n",
    "pthndpi = r'\\\\10.99.68.52\\Kiemendata\\Valentina Matos\\LG HG PanIN project\\LGHG segmentation'\n",
    "listndpi = [os.path.basename(f) for f in glob.glob(os.path.join(pthndpi, '*.ndpi'))]\n",
    "listtriani = os.listdir(pthtraining)\n",
    "listimlucie = os.listdir(tenxlucie)\n",
    "\n",
    "for im in listndpi:\n",
    "    tif = im[:-4] + 'tif'\n",
    "    if not os.path.exists(os.path.join(pthtraining, tif)):\n",
    "        print(tif)\n",
    "        shutil.copy(os.path.join(tenxlucie, tif), os.path.join(pthtraining, tif))\n"
   ],
   "id": "8a11db80dfa95e8f",
   "outputs": [
    {
     "name": "stdout",
     "output_type": "stream",
     "text": [
      "S14-13514 1O.tif\n"
     ]
    }
   ],
   "execution_count": 11
  },
  {
   "metadata": {
    "ExecuteTime": {
     "end_time": "2024-10-01T18:35:23.178816Z",
     "start_time": "2024-10-01T18:35:23.099213Z"
    }
   },
   "cell_type": "code",
   "source": [
    "import os\n",
    "import pickle\n",
    "pth = r'\\\\10.99.68.52\\Kiemendata\\Valentina Matos\\tissues for methods paper\\mouse lung\\annotations\\09_30_2024'\n",
    "with open(os.path.join(pth, 'net.pkl'), 'rb') as f:\n",
    "    data = pickle.load(f)\n",
    "print(data)"
   ],
   "id": "c1c8823c940313f9",
   "outputs": [
    {
     "name": "stdout",
     "output_type": "stream",
     "text": [
      "{'pthim': '//10.99.68.52/Kiemendata/Valentina Matos/tissues for methods paper/mouse lung/annotations\\\\5x', 'pthDL': '//10.99.68.52/Kiemendata/Valentina Matos/tissues for methods paper/mouse lung/annotations\\\\09_30_2024', 'WS': [[0, 0, 0, 0, 0, 0, 0], [6, 7], [1, 2, 3, 4, 1, 5, 6], [7, 4, 3, 2, 1, 6], [5]], 'nm': '09_30_2024', 'umpix': 2, 'cmap': array([[  0,   0, 127],\n",
      "       [  0,  85, 127],\n",
      "       [170,   0,   0],\n",
      "       [170, 170, 127],\n",
      "       [255, 170, 255],\n",
      "       [255, 128,   0]]), 'sxy': 1024, 'classNames': ['bronchioles', 'alveoli', 'vasculature', 'mets', 'whitespace', 'collagen', 'black'], 'ntrain': 15, 'nblack': 7, 'nwhite': 5, 'final_df':     Layer Name          Color Whitespace Settings  Delete layer  \\\n",
      "0  bronchioles    (0, 255, 0)                   0         False   \n",
      "1      alveoli  (255, 255, 0)                   0         False   \n",
      "2  vasculature    (255, 0, 0)                   0         False   \n",
      "3         mets  (0, 255, 255)                   0         False   \n",
      "4  nonexpanded  (255, 0, 255)                   0          True   \n",
      "5   whitespace    (0, 0, 255)                   0         False   \n",
      "6     collagen  (255, 128, 0)                   0         False   \n",
      "\n",
      "   Combined layers  Nesting  Component analysis  \n",
      "0                1        6               False  \n",
      "1                2        1               False  \n",
      "2                3        2               False  \n",
      "3                4        3               False  \n",
      "4                5        4               False  \n",
      "5                6        7               False  \n",
      "6                7        5               False  , 'combined_df':     Layer Name            Color Whitespace Settings  Deleted  Layer idx\n",
      "0  bronchioles      (0, 0, 127)                   0    False          1\n",
      "1      alveoli     (0, 85, 127)                   0    False          2\n",
      "2  vasculature      (170, 0, 0)                   0    False          3\n",
      "3         mets  (170, 170, 127)                   0    False          4\n",
      "4  nonexpanded  (255, 255, 255)                   0     True          5\n",
      "5   whitespace  (255, 170, 255)                   0    False          6\n",
      "6     collagen    (255, 128, 0)                   0    False          7, 'nvalidate': 3}\n"
     ]
    }
   ],
   "execution_count": 3
  },
  {
   "metadata": {},
   "cell_type": "code",
   "outputs": [],
   "execution_count": null,
   "source": "",
   "id": "cc0250a34453d8e9"
  }
 ],
 "metadata": {
  "kernelspec": {
   "display_name": "Python 3",
   "language": "python",
   "name": "python3"
  },
  "language_info": {
   "codemirror_mode": {
    "name": "ipython",
    "version": 2
   },
   "file_extension": ".py",
   "mimetype": "text/x-python",
   "name": "python",
   "nbconvert_exporter": "python",
   "pygments_lexer": "ipython2",
   "version": "2.7.6"
  }
 },
 "nbformat": 4,
 "nbformat_minor": 5
}
