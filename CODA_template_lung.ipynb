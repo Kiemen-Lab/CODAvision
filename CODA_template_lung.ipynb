{
 "cells": [
  {
   "cell_type": "code",
   "id": "initial_id",
   "metadata": {
    "collapsed": true,
    "ExecuteTime": {
     "end_time": "2024-09-11T15:26:47.253507Z",
     "start_time": "2024-09-11T15:26:44.838228Z"
    }
   },
   "source": [
    "import os\n",
    "import numpy as np\n",
    "from base import *"
   ],
   "outputs": [],
   "execution_count": 1
  },
  {
   "cell_type": "code",
   "outputs": [],
   "source": [
    "pth = r'\\\\10.99.68.52\\Kiemendata\\Valentina Matos\\tissues for methods paper\\mouse lung\\testfiles python'\n",
    "pthim = os.path.join(pth, '5x')\n",
    "umpix = 2\n",
    "pthtest = os.path.join(pth, 'testing images')\n",
    "pthtestim = os.path.join(pthtest, '5x')\n",
    "nm = 'CODA_python_09_11_2024_TA_matlab'\n",
    "\n",
    "WS = [[0, 2, 0, 0, 0, 2, 0], [6, 7], \n",
    "      [1, 2, 3, 4, 5, 6, 7], \n",
    "      [7, 2, 5, 4, 3, 1, 6], [5]]\n",
    "\n",
    "numclass = max(WS[2])\n",
    "sxy = 1024\n",
    "pthDL = os.path.join(pth, nm)\n",
    "nblack = numclass + 1\n",
    "nwhite = WS[1][0]\n",
    "cmap = np.array([[0, 255, 0],\n",
    "                  [23, 80, 150],\n",
    "                  [150, 31, 23],\n",
    "                  [199, 196, 147],\n",
    "                  [23, 80, 151],\n",
    "                  [255, 255, 255],\n",
    "                  [242, 167, 227]])\n",
    "\n",
    "classNames = ['bronchioles', 'alveoli', 'vasculature', 'mets', 'nonexpanded','whitespace','collagen']\n",
    "classCheck = []\n",
    "ntrain = 15\n",
    "nvalidate = np.ceil(ntrain/5)\n",
    "numims = 2"
   ],
   "metadata": {
    "collapsed": false,
    "ExecuteTime": {
     "end_time": "2024-09-11T15:26:47.269341Z",
     "start_time": "2024-09-11T15:26:47.254507Z"
    }
   },
   "id": "9ba9ed0ead2baa9b",
   "execution_count": 2
  },
  {
   "metadata": {
    "ExecuteTime": {
     "end_time": "2024-09-11T15:26:47.456010Z",
     "start_time": "2024-09-11T15:26:47.270358Z"
    }
   },
   "cell_type": "code",
   "source": [
    "save_model_metadata(pthDL, pthim, WS, nm, umpix, cmap, sxy, classNames, ntrain, nvalidate)"
   ],
   "id": "501634df47c6cdc5",
   "outputs": [
    {
     "name": "stdout",
     "output_type": "stream",
     "text": [
      "Saving model metadata and classification colormap...\n",
      "Net file already exists, updating data...\n"
     ]
    },
    {
     "data": {
      "text/plain": "<Figure size 640x480 with 1 Axes>",
      "image/png": "[encoded data removed]"
     },
     "metadata": {},
     "output_type": "display_data"
    }
   ],
   "execution_count": 3
  },
  {
   "metadata": {
    "ExecuteTime": {
     "end_time": "2024-09-11T15:26:48.108322Z",
     "start_time": "2024-09-11T15:26:47.457010Z"
    }
   },
   "cell_type": "code",
   "source": [
    "[ctlist0, numann0] = load_annotation_data(pthDL, pth, pthim, classCheck)"
   ],
   "id": "2b16298adbd85f13",
   "outputs": [
    {
     "name": "stdout",
     "output_type": "stream",
     "text": [
      " \n",
      "Importing annotation data...\n",
      " \n",
      " Making downsampled images...\n",
      "Image 1 of 4: 2024-02-26 10.36.39\n",
      " annotation data previously loaded\n",
      "Image 2 of 4: 84 - 2024-02-26 10.33.40\n",
      " annotation data previously loaded\n",
      "Image 3 of 4: TVNTC 1-2 2\n",
      " annotation data previously loaded\n",
      "Image 4 of 4: TVWT 4-1 1\n",
      " annotation data previously loaded\n"
     ]
    }
   ],
   "execution_count": 4
  },
  {
   "metadata": {
    "is_executing": true,
    "ExecuteTime": {
     "start_time": "2024-09-11T15:26:48.110322Z"
    }
   },
   "cell_type": "code",
   "source": [
    "create_training_tiles(pthDL, numann0, ctlist0)"
   ],
   "id": "3449c9fd82c44cb5",
   "outputs": [
    {
     "name": "stdout",
     "output_type": "stream",
     "text": [
      "\n",
      "Calculating total number of pixels in the training dataset...\n",
      " There are 29303100.0 pixels of bronchioles, 8% of the most common class.\n",
      " There are 125561600.0 pixels of alveoli, 37% of the most common class.\n",
      " There are 20736100.0 pixels of vasculature, 6% of the most common class.\n",
      " There are 33200800.0 pixels of mets, 9% of the most common class.\n",
      " There are 335117300.0 pixels of whitespace. This is the most common class.\n",
      " There are 21986600.0 pixels of collagen, 6% of the most common class.\n",
      "\n",
      "Building training tiles...\n"
     ]
    }
   ],
   "execution_count": null
  },
  {
   "metadata": {
    "is_executing": true
   },
   "cell_type": "code",
   "source": [
    "train_segmentation_model(pthDL, fine_tune=False)"
   ],
   "id": "b2c95a175d662c78",
   "outputs": [],
   "execution_count": null
  },
  {
   "metadata": {
    "is_executing": true
   },
   "cell_type": "code",
   "source": [
    "test_segmentation_model(pthDL,pthtest, pthtestim)"
   ],
   "id": "6462fd903fa4d552",
   "outputs": [],
   "execution_count": null
  },
  {
   "metadata": {
    "is_executing": true
   },
   "cell_type": "code",
   "source": [
    "classify_images(pthim,pthDL)"
   ],
   "id": "201d653012834981",
   "outputs": [],
   "execution_count": null
  },
  {
   "cell_type": "code",
   "outputs": [],
   "source": [
    "quantify_images(pthDL, pthim)"
   ],
   "metadata": {
    "collapsed": false,
    "is_executing": true
   },
   "id": "7f5db24d6f1cf309",
   "execution_count": null
  }
 ],
 "metadata": {
  "kernelspec": {
   "display_name": "Python 3",
   "language": "python",
   "name": "python3"
  },
  "language_info": {
   "codemirror_mode": {
    "name": "ipython",
    "version": 2
   },
   "file_extension": ".py",
   "mimetype": "text/x-python",
   "name": "python",
   "nbconvert_exporter": "python",
   "pygments_lexer": "ipython2",
   "version": "2.7.6"
  }
 },
 "nbformat": 4,
 "nbformat_minor": 5
}
