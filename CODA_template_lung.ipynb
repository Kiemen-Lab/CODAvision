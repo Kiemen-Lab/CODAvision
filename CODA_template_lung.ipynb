{
 "cells": [
  {
   "cell_type": "code",
   "id": "initial_id",
   "metadata": {
    "collapsed": true,
    "ExecuteTime": {
     "end_time": "2024-08-27T15:23:48.022240Z",
     "start_time": "2024-08-27T15:23:47.958964Z"
    }
   },
   "source": [
    "import os\n",
    "import numpy as np\n",
    "from base import *"
   ],
   "outputs": [],
   "execution_count": 1
  },
  {
   "cell_type": "code",
   "outputs": [],
   "source": [
    "pth = r'\\\\10.99.68.52\\Kiemendata\\Valentina Matos\\tissues for methods paper\\mouse lung\\annotations'\n",
    "pthim = os.path.join(pth, '5x')\n",
    "umpix = 2\n",
    "pthtest = os.path.join(pth, 'test')\n",
    "pthtestim = os.path.join(pthtest, '5x')\n",
    "nm = 'CODA_python_08_26_2024'\n",
    "\n",
    "WS = [[0, 2, 0, 0, 0, 2, 0], [6, 7], \n",
    "      [1, 2, 3, 4, 5, 6, 7], \n",
    "      [7, 2, 5, 4, 3, 1, 6], [5]]\n",
    "\n",
    "numclass = max(WS[2])\n",
    "sxy = 1024\n",
    "pthDL = os.path.join(pth, nm)\n",
    "nblack = numclass + 1\n",
    "nwhite = WS[1][0]\n",
    "cmap = np.array([[0, 255, 0],\n",
    "                  [23, 80, 150],\n",
    "                  [150, 31, 23],\n",
    "                  [199, 196, 147],\n",
    "                  [23, 80, 151],\n",
    "                  [255, 255, 255],\n",
    "                  [242, 167, 227]])\n",
    "\n",
    "classNames = ['bronchioles', 'alveoli', 'vasculature', 'mets', 'nonexpanded','whitespace','collagen']\n",
    "classCheck = []\n",
    "ntrain = 15\n",
    "nvalidate = np.ceil(ntrain/5)\n",
    "numims = 2"
   ],
   "metadata": {
    "collapsed": false
   },
   "id": "9ba9ed0ead2baa9b"
  },
  {
   "metadata": {},
   "cell_type": "code",
   "source": [
    "save_model_metadata(pthDL, pthim, WS, nm, umpix, cmap, sxy, classNames, ntrain, nvalidate)"
   ],
   "id": "501634df47c6cdc5",
   "outputs": [],
   "execution_count": null
  },
  {
   "metadata": {},
   "cell_type": "code",
   "source": [
    "[ctlist0, numann0] = load_annotation_data(pthDL, pth, pthim, classCheck)"
   ],
   "id": "2b16298adbd85f13",
   "outputs": [],
   "execution_count": null
  },
  {
   "metadata": {},
   "cell_type": "code",
   "source": [
    "create_training_tiles(pthDL, numann0, ctlist0)"
   ],
   "id": "3449c9fd82c44cb5",
   "outputs": [],
   "execution_count": null
  },
  {
   "metadata": {},
   "cell_type": "code",
   "source": [
    "train_segmentation_model(pthDL, fine_tune=True)"
   ],
   "id": "b2c95a175d662c78",
   "outputs": [],
   "execution_count": null
  },
  {
   "metadata": {},
   "cell_type": "code",
   "source": [
    "test_segmentation_model(pthDL,pthtest, pthtestim)"
   ],
   "id": "6462fd903fa4d552",
   "outputs": [],
   "execution_count": null
  },
  {
   "metadata": {},
   "cell_type": "code",
   "source": [
    "classify_images(pthim,pthDL)"
   ],
   "id": "201d653012834981",
   "outputs": [],
   "execution_count": null
  },
  {
   "cell_type": "code",
   "outputs": [],
   "source": [
    "quantify_images(pthDL, pthim)"
   ],
   "metadata": {
    "collapsed": false
   },
   "id": "7f5db24d6f1cf309"
  }
 ],
 "metadata": {
  "kernelspec": {
   "display_name": "Python 3",
   "language": "python",
   "name": "python3"
  },
  "language_info": {
   "codemirror_mode": {
    "name": "ipython",
    "version": 2
   },
   "file_extension": ".py",
   "mimetype": "text/x-python",
   "name": "python",
   "nbconvert_exporter": "python",
   "pygments_lexer": "ipython2",
   "version": "2.7.6"
  }
 },
 "nbformat": 4,
 "nbformat_minor": 5
}
