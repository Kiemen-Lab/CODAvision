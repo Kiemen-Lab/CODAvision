{
 "cells": [
  {
   "cell_type": "code",
   "id": "initial_id",
   "metadata": {
    "collapsed": true
   },
   "source": [
    "import os\n",
    "import numpy as np\n",
    "from base import *"
   ],
   "outputs": [],
   "execution_count": null
  },
  {
   "cell_type": "code",
   "source": [
    "pth = r'\\\\10.99.68.52\\Kiemendata\\Valentina Matos\\tissues for methods paper\\test lung'\n",
    "pthim = os.path.join(pth, '5x')\n",
    "umpix = 2\n",
    "pthtest = os.path.join(pth, 'test')\n",
    "pthtestim = os.path.join(pthtest, '5x')\n",
    "nm = '10_06_2024_forfun'\n",
    "\n",
    "\n",
    "WS = [[0, 2, 0, 0, 0, 2, 0], [6, 7], \n",
    "      [1, 2, 3, 4, 5, 6, 7], \n",
    "      [7, 2, 5, 4, 3, 1, 6], [5]]\n",
    "\n",
    "\n",
    "numclass = max(WS[2])\n",
    "sxy = 1024\n",
    "pthDL = os.path.join(pth, nm)\n",
    "nblack = numclass + 1\n",
    "nwhite = WS[1][0]\n",
    "cmap = np.array([[170, 170, 255],\n",
    "                   [  0,  85, 127],\n",
    "                   [170,   0,   0],\n",
    "                   [170, 170, 127],\n",
    "                   [255, 0, 255],\n",
    "                   [255, 255, 255],\n",
    "                   [255, 170, 255]])\n",
    "\n",
    "classNames = ['bronchioles', 'alveoli', 'vasculature', 'mets', 'nonexpanded','whitespace','collagen']\n",
    "classCheck = []\n",
    "ntrain = 15\n",
    "nvalidate = np.ceil(ntrain/5)\n",
    "numims = 2"
   ],
   "metadata": {
    "collapsed": false
   },
   "id": "9ba9ed0ead2baa9b",
   "outputs": [],
   "execution_count": null
  },
  {
   "metadata": {},
   "cell_type": "code",
   "source": [
    "save_model_metadata(pthDL, pthim, WS, nm, umpix, cmap, sxy, classNames, ntrain, nvalidate)"
   ],
   "id": "501634df47c6cdc5",
   "outputs": [],
   "execution_count": null
  },
  {
   "metadata": {},
   "cell_type": "code",
   "source": [
    "[ctlist0, numann0] = load_annotation_data(pthDL, pth, pthim, classCheck)"
   ],
   "id": "2b16298adbd85f13",
   "outputs": [],
   "execution_count": null
  },
  {
   "metadata": {},
   "cell_type": "code",
   "source": "create_training_tiles(pthDL, numann0, ctlist0)",
   "id": "3449c9fd82c44cb5",
   "outputs": [],
   "execution_count": null
  },
  {
   "metadata": {},
   "cell_type": "code",
   "source": [
    "train_segmentation_model(pthDL, fine_tune=False)"
   ],
   "id": "b2c95a175d662c78",
   "outputs": [],
   "execution_count": null
  },
  {
   "metadata": {},
   "cell_type": "code",
   "source": [
    "test_segmentation_model(pthDL,pthtest, pthtestim)"
   ],
   "id": "6462fd903fa4d552",
   "outputs": [],
   "execution_count": null
  },
  {
   "metadata": {},
   "cell_type": "code",
   "source": [
    "classify_images(pthim,pthDL)"
   ],
   "id": "201d653012834981",
   "outputs": [],
   "execution_count": null
  },
  {
   "cell_type": "code",
   "source": [
    "quantify_images(pthDL, pthim)"
   ],
   "metadata": {
    "collapsed": false
   },
   "id": "7f5db24d6f1cf309",
   "outputs": [],
   "execution_count": null
  },
  {
   "metadata": {},
   "cell_type": "code",
   "source": [
    "import os\n",
    "import numpy as np\n",
    "import cv2\n",
    "\n",
    "outpth = r'\\\\10.99.134.183\\kiemen-lab-data\\Valentina Matos\\Dashboard project\\ECMO image figure'\n",
    "img_path = r'\\\\10.99.134.183\\kiemen-lab-data\\Valentina Matos\\Dashboard project\\ECMO image figure\\ECMO_CT_flip_0142.tif'\n",
    "outpthcolor = os.path.join(outpth, 'color')\n",
    "os.makedirs(outpthcolor, exist_ok=True)\n",
    "\n",
    "imclassify = cv2.imread(img_path, cv2.IMREAD_GRAYSCALE)\n",
    "\n",
    "imclassify = imclassify - 1\n",
    "\n",
    "cmap = np.array([[139,149,221],\n",
    "                   [  222,186,138],\n",
    "                   [208,139,222],\n",
    "                   [140,222,138],\n",
    "                   [222,216,138],\n",
    "                   [120,30,30],\n",
    "                   [100,100,100]])\n",
    "\n",
    "red_channel = cmap[:, 0]\n",
    "green_channel = cmap[:, 1]\n",
    "blue_channel = cmap[:, 2]\n",
    "\n",
    "imcolor = np.dstack((red_channel[imclassify], green_channel[imclassify], blue_channel[imclassify])).astype(\n",
    "    np.uint8)\n",
    "\n",
    "save_file_path = os.path.join(outpthcolor, os.path.basename(img_path))\n",
    "cv2.imwrite(save_file_path, imcolor)"
   ],
   "id": "eaa251b0f1730e05",
   "outputs": [],
   "execution_count": null
  },
  {
   "metadata": {},
   "cell_type": "code",
   "source": [
    "#print number of labels\n",
    "import cv2\n",
    "import numpy as np\n",
    "import os\n",
    "img_path = r'\\\\10.99.134.183\\kiemen-lab-data\\Valentina Matos\\Dashboard project\\ECMO image figure\\ECMO_CT_flip_0142.tif'\n",
    "imclassify = cv2.imread(img_path, cv2.IMREAD_GRAYSCALE)\n",
    "print(np.unique(imclassify))\n"
   ],
   "id": "db455db6a04d3331",
   "outputs": [],
   "execution_count": null
  },
  {
   "metadata": {},
   "cell_type": "code",
   "source": "",
   "id": "8336469787467fe7",
   "outputs": [],
   "execution_count": null
  }
 ],
 "metadata": {
  "kernelspec": {
   "display_name": "Python 3",
   "language": "python",
   "name": "python3"
  },
  "language_info": {
   "codemirror_mode": {
    "name": "ipython",
    "version": 2
   },
   "file_extension": ".py",
   "mimetype": "text/x-python",
   "name": "python",
   "nbconvert_exporter": "python",
   "pygments_lexer": "ipython2",
   "version": "2.7.6"
  }
 },
 "nbformat": 4,
 "nbformat_minor": 5
}
