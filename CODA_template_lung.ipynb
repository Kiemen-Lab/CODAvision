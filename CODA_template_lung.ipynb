{
 "cells": [
  {
   "cell_type": "code",
   "id": "initial_id",
   "metadata": {
    "collapsed": true
   },
   "source": [
    "import os\n",
    "import numpy as np\n",
    "from base import *"
   ],
   "execution_count": null,
   "outputs": []
  },
  {
   "cell_type": "code",
   "source": [
    "pth = r'\\\\10.99.68.52\\Kiemendata\\Valentina Matos\\tissues for methods paper\\test lung'\n",
    "pthim = os.path.join(pth, '5x')\n",
    "umpix = 2\n",
    "pthtest = os.path.join(pth, 'test')\n",
    "pthtestim = os.path.join(pthtest, '5x')\n",
    "nm = '10_06_2024_forfun'\n",
    "\n",
    "\n",
    "WS = [[0, 2, 0, 0, 0, 2, 0], [6, 7], \n",
    "      [1, 2, 3, 4, 5, 6, 7], \n",
    "      [7, 2, 5, 4, 3, 1, 6], [5]]\n",
    "\n",
    "\n",
    "numclass = max(WS[2])\n",
    "sxy = 1024\n",
    "pthDL = os.path.join(pth, nm)\n",
    "nblack = numclass + 1\n",
    "nwhite = WS[1][0]\n",
    "cmap = np.array([[170, 170, 255],\n",
    "                   [  0,  85, 127],\n",
    "                   [170,   0,   0],\n",
    "                   [170, 170, 127],\n",
    "                   [255, 0, 255],\n",
    "                   [255, 255, 255],\n",
    "                   [255, 170, 255]])\n",
    "\n",
    "classNames = ['bronchioles', 'alveoli', 'vasculature', 'mets', 'nonexpanded','whitespace','collagen']\n",
    "classCheck = []\n",
    "ntrain = 15\n",
    "nvalidate = np.ceil(ntrain/5)\n",
    "numims = 2"
   ],
   "metadata": {
    "collapsed": false
   },
   "id": "9ba9ed0ead2baa9b",
   "execution_count": null,
   "outputs": []
  },
  {
   "metadata": {},
   "cell_type": "code",
   "source": [
    "save_model_metadata(pthDL, pthim, WS, nm, umpix, cmap, sxy, classNames, ntrain, nvalidate)"
   ],
   "id": "501634df47c6cdc5",
   "execution_count": null,
   "outputs": []
  },
  {
   "metadata": {
    "ExecuteTime": {
     "end_time": "2024-10-07T16:23:19.882740Z",
     "start_time": "2024-10-07T16:23:19.303491Z"
    }
   },
   "cell_type": "code",
   "source": [
    "[ctlist0, numann0] = load_annotation_data(pthDL, pth, pthim, classCheck)"
   ],
   "id": "2b16298adbd85f13",
   "execution_count": 5,
   "outputs": []
  },
  {
   "metadata": {
    "ExecuteTime": {
     "end_time": "2024-10-07T16:23:23.863536Z",
     "start_time": "2024-10-07T16:23:23.798537Z"
    }
   },
   "cell_type": "code",
   "source": [
    "create_training_tiles(pthDL, numann0, ctlist0)"
   ],
   "id": "3449c9fd82c44cb5",
   "execution_count": 6,
   "outputs": []
  },
  {
   "metadata": {
    "ExecuteTime": {
     "end_time": "2024-10-07T16:21:58.072680Z",
     "start_time": "2024-10-07T15:51:53.719055Z"
    }
   },
   "cell_type": "code",
   "source": "train_segmentation_model(pthDL)",
   "id": "b2c95a175d662c78",
   "execution_count": 3,
   "outputs": []
  },
  {
   "metadata": {
    "ExecuteTime": {
     "end_time": "2024-10-07T16:22:20.381889Z",
     "start_time": "2024-10-07T16:22:10.383454Z"
    }
   },
   "cell_type": "code",
   "source": [
    "test_segmentation_model(pthDL,pthtest, pthtestim)"
   ],
   "id": "6462fd903fa4d552",
   "execution_count": 4,
   "outputs": []
  },
  {
   "metadata": {
    "ExecuteTime": {
     "end_time": "2024-10-07T16:23:38.302727Z",
     "start_time": "2024-10-07T16:23:32.651085Z"
    }
   },
   "cell_type": "code",
   "source": [
    "classify_images(pthim,pthDL)"
   ],
   "id": "201d653012834981",
   "execution_count": 7,
   "outputs": []
  },
  {
   "metadata": {},
   "cell_type": "code",
   "execution_count": null,
   "source": "",
   "id": "9ef10f5d3ce1762e",
   "outputs": []
  },
  {
   "metadata": {
    "ExecuteTime": {
     "end_time": "2024-11-29T10:10:18.575278Z",
     "start_time": "2024-11-29T10:10:18.237368Z"
    }
   },
   "cell_type": "code",
   "source": [
    "import pydicom as dicom\n",
    "import cv2   \n",
    "import os\n",
    "from PIL import Image\n",
    "\n",
    "# specify your image path\n",
    "folder_path = r'\\\\10.99.68.52\\Kiemendata\\Valentina Matos\\Jaime\\trying other image formats\\dicom'\n",
    "for filename in os.listdir(folder_path):\n",
    "    image_path = os.path.join(folder_path, filename)\n",
    "    ds = dicom.dcmread(image_path)\n",
    "    pixel_array_numpy = ds.pixel_array\n",
    "    image8b = np.uint8((pixel_array_numpy/np.max(pixel_array_numpy)*255))\n",
    "    print(type(image8b.shape[1]))\n",
    "    # image_format = '.jpg' # or '.png'\n",
    "    # image_path = image_path.replace('.dcm', image_format)\n",
    "    # Image.fromarray(image8b).save(image_path)\n"
   ],
   "id": "7422c3b80c7d169e",
   "execution_count": 46,
   "outputs": []
  },
  {
   "metadata": {
    "ExecuteTime": {
     "end_time": "2024-11-29T08:51:18.670097Z",
     "start_time": "2024-11-29T08:51:18.654471Z"
    }
   },
   "cell_type": "code",
   "source": "",
   "id": "246b27226de00642",
   "execution_count": 34,
   "outputs": []
  },
  {
   "metadata": {},
   "cell_type": "code",
   "execution_count": null,
   "source": "",
   "id": "ce095c2d182abd5",
   "outputs": []
  }
 ],
 "metadata": {
  "kernelspec": {
   "display_name": "Python 3",
   "language": "python",
   "name": "python3"
  },
  "language_info": {
   "codemirror_mode": {
    "name": "ipython",
    "version": 2
   },
   "file_extension": ".py",
   "mimetype": "text/x-python",
   "name": "python",
   "nbconvert_exporter": "python",
   "pygments_lexer": "ipython2",
   "version": "2.7.6"
  }
 },
 "nbformat": 4,
 "nbformat_minor": 5
}
