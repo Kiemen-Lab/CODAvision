{
 "cells": [
  {
   "cell_type": "code",
   "id": "62c00763ffc298e6",
   "metadata": {
    "collapsed": true,
    "ExecuteTime": {
     "end_time": "2024-09-06T19:16:20.255309Z",
     "start_time": "2024-09-06T19:16:17.825439Z"
    }
   },
   "source": [
    "import os\n",
    "import numpy as np\n",
    "from base import *"
   ],
   "outputs": [],
   "execution_count": 1
  },
  {
   "cell_type": "code",
   "outputs": [],
   "source": [
    "pth = r'\\\\10.99.68.52\\Kiemendata\\Valentina Matos\\tissues for methods paper\\human pancreas ready to train\\test model'\n",
    "pthim = os.path.join(pth, '5x')\n",
    "umpix = 2\n",
    "pthtest = os.path.join(pth, 'test images')\n",
    "pthtestim = os.path.join(pthtest, '5x')\n",
    "nm = 'ANACODA_09_04_2024'\n",
    "\n",
    "WS = [[2, 0, 0, 1, 0, 0, 2, 0, 0, 2], [7, 6], \n",
    "      [1, 2, 3, 4, 5, 6, 7, 8, 9, 10], \n",
    "      [6, 5, 4, 1, 2, 3, 8, 10, 9, 7], [9]]\n",
    "numclass = max(WS[2])\n",
    "sxy = 1024\n",
    "pthDL = os.path.join(pth, nm)\n",
    "nblack = numclass + 1\n",
    "nwhite = WS[1][0]\n",
    "cmap = np.array([[121, 248, 252],\n",
    "                  [0, 0, 255],\n",
    "                  [80, 237, 80],\n",
    "                  [255, 255, 0],\n",
    "                  [149, 35, 245],\n",
    "                  [255, 194, 245],\n",
    "                  [255, 255, 255],\n",
    "                  [255, 0, 0],\n",
    "                  [64, 128, 128],\n",
    "                  [73, 120, 111]])\n",
    "classNames = ['islet', 'duct', 'blood vessel', 'fat','acini','ecm','whitespace','PanIN', 'PDAC','nerve']\n",
    "classCheck = []\n",
    "ntrain = 15\n",
    "nvalidate = np.ceil(ntrain/5)\n",
    "numims = 2"
   ],
   "metadata": {
    "collapsed": false,
    "ExecuteTime": {
     "end_time": "2024-09-06T19:16:20.271317Z",
     "start_time": "2024-09-06T19:16:20.256309Z"
    }
   },
   "id": "6fdd2ffbe7bcc440",
   "execution_count": 2
  },
  {
   "metadata": {
    "ExecuteTime": {
     "end_time": "2024-09-06T19:16:20.399501Z",
     "start_time": "2024-09-06T19:16:20.272316Z"
    }
   },
   "cell_type": "code",
   "source": [
    "save_model_metadata(pthDL, pthim, WS, nm, umpix, cmap, sxy, classNames, ntrain, nvalidate)"
   ],
   "id": "initial_id",
   "outputs": [
    {
     "name": "stdout",
     "output_type": "stream",
     "text": [
      "Saving model metadata and classification colormap...\n",
      "Net file already exists, updating data...\n"
     ]
    },
    {
     "data": {
      "text/plain": "<Figure size 640x480 with 1 Axes>",
      "image/png": "[encoded data removed]"
     },
     "metadata": {},
     "output_type": "display_data"
    }
   ],
   "execution_count": 3
  },
  {
   "metadata": {
    "ExecuteTime": {
     "end_time": "2024-09-06T19:16:30.148881Z",
     "start_time": "2024-09-06T19:16:28.985810Z"
    }
   },
   "cell_type": "code",
   "source": [
    "[ctlist0, numann0] = load_annotation_data(pthDL, pth, pthim, classCheck)"
   ],
   "id": "2a2b2349b4e81c26",
   "outputs": [
    {
     "name": "stdout",
     "output_type": "stream",
     "text": [
      " \n",
      "Importing annotation data...\n",
      " \n",
      " Loading PNG images...\n",
      "1 / 1 processing: 6520-197 HE\n",
      "Error processing 6520-197 HE: Unsupported or missing image file\n",
      "Image 1 of 5: 6520-197 HE\n",
      " annotation data previously loaded\n",
      "Image 2 of 5: S08-07401 1K\n",
      " annotation data previously loaded\n",
      "Image 3 of 5: S12-62356 1P1\n",
      " annotation data previously loaded\n",
      "Image 4 of 5: S14-03572 1E\n",
      " annotation data previously loaded\n",
      "Image 5 of 5: S14-19326 1FSCK\n",
      " annotation data previously loaded\n"
     ]
    }
   ],
   "execution_count": 4
  },
  {
   "metadata": {
    "jupyter": {
     "is_executing": true
    },
    "ExecuteTime": {
     "end_time": "2024-09-06T20:34:32.090040Z",
     "start_time": "2024-09-06T19:16:34.710350Z"
    }
   },
   "cell_type": "code",
   "source": [
    "create_training_tiles(pthDL, numann0, ctlist0)"
   ],
   "id": "a5d2cedf77297e3d",
   "outputs": [
    {
     "name": "stdout",
     "output_type": "stream",
     "text": [
      "\n",
      "Calculating total number of pixels in the training dataset...\n",
      " There are 83475400.0 pixels of islet, 62% of the most common class.\n",
      " There are 13532900.0 pixels of duct, 10% of the most common class.\n",
      " There are 55550100.0 pixels of blood vessel, 41% of the most common class.\n",
      " There are 117245800.0 pixels of fat, 87% of the most common class.\n",
      " There are 70479100.0 pixels of acini, 52% of the most common class.\n",
      " There are 133900000.0 pixels of ecm. This is the most common class.\n",
      " There are 127966300.0 pixels of whitespace, 95% of the most common class.\n",
      " There are 8878500.0 pixels of PanIN, 6% of the most common class.\n",
      " There are 30493300.0 pixels of nerve, 22% of the most common class.\n",
      "\n",
      "Building training tiles...\n",
      "Starting time for the while loop\n",
      "Total time elapsed for the while loop: 1677.4344935417175\n",
      "Saving big tiles\n",
      "  1 of 15 training images completed in 28 minutes\n",
      "  Used 827.8% counts and 100.0% unique annotations of islet\n",
      "  Used 4634.0% counts and 100.0% unique annotations of duct\n",
      "  Used 971.6% counts and 100.0% unique annotations of blood vessel\n",
      "  Used 617.6% counts and 100.0% unique annotations of fat\n",
      "  Used 1123.5% counts and 100.0% unique annotations of acini\n",
      "  Used 1831.3% counts and 100.0% unique annotations of ecm\n",
      "  Used 1971.2% counts and 100.0% unique annotations of whitespace\n",
      "  Used 6650.0% counts and 100.0% unique annotations of PanIN\n",
      "  Used 2170.8% counts and 100.0% unique annotations of nerve\n",
      "Starting time for the while loop\n",
      "Total time elapsed for the while loop: 1666.6009826660156\n",
      "Saving big tiles\n",
      "  2 of 15 training images completed in 56 minutes\n",
      "  Used 1517.6% counts and 100.0% unique annotations of islet\n",
      "  Used 9170.2% counts and 100.0% unique annotations of duct\n",
      "  Used 1869.7% counts and 100.0% unique annotations of blood vessel\n",
      "  Used 1149.1% counts and 100.0% unique annotations of fat\n",
      "  Used 2158.3% counts and 100.0% unique annotations of acini\n",
      "  Used 3552.6% counts and 100.0% unique annotations of ecm\n",
      "  Used 3833.1% counts and 100.0% unique annotations of whitespace\n",
      "  Used 12981.8% counts and 100.0% unique annotations of PanIN\n",
      "  Used 4141.6% counts and 100.0% unique annotations of nerve\n",
      "Starting time for the while loop\n"
     ]
    },
    {
     "ename": "KeyboardInterrupt",
     "evalue": "",
     "output_type": "error",
     "traceback": [
      "\u001B[1;31m---------------------------------------------------------------------------\u001B[0m",
      "\u001B[1;31mKeyboardInterrupt\u001B[0m                         Traceback (most recent call last)",
      "Cell \u001B[1;32mIn[5], line 1\u001B[0m\n\u001B[1;32m----> 1\u001B[0m \u001B[43mcreate_training_tiles\u001B[49m\u001B[43m(\u001B[49m\u001B[43mpthDL\u001B[49m\u001B[43m,\u001B[49m\u001B[43m \u001B[49m\u001B[43mnumann0\u001B[49m\u001B[43m,\u001B[49m\u001B[43m \u001B[49m\u001B[43mctlist0\u001B[49m\u001B[43m)\u001B[49m\n",
      "File \u001B[1;32m~\\PycharmProjects\\CODA_python\\base\\create_training_tiles.py:69\u001B[0m, in \u001B[0;36mcreate_training_tiles\u001B[1;34m(pthDL, numann0, ctlist0)\u001B[0m\n\u001B[0;32m     67\u001B[0m \u001B[38;5;28;01melse\u001B[39;00m:\n\u001B[0;32m     68\u001B[0m     \u001B[38;5;28;01mwhile\u001B[39;00m \u001B[38;5;28mlen\u001B[39m(glob\u001B[38;5;241m.\u001B[39mglob(os\u001B[38;5;241m.\u001B[39mpath\u001B[38;5;241m.\u001B[39mjoin(obg, \u001B[38;5;124m'\u001B[39m\u001B[38;5;124mHE*.jpg\u001B[39m\u001B[38;5;124m'\u001B[39m))) \u001B[38;5;241m<\u001B[39m ntrain:\n\u001B[1;32m---> 69\u001B[0m         numann, percann \u001B[38;5;241m=\u001B[39m \u001B[43mcombine_annotations_into_tiles\u001B[49m\u001B[43m(\u001B[49m\u001B[43mnumann0\u001B[49m\u001B[43m,\u001B[49m\u001B[43m \u001B[49m\u001B[43mnumann\u001B[49m\u001B[43m,\u001B[49m\u001B[43m \u001B[49m\u001B[43mpercann\u001B[49m\u001B[43m,\u001B[49m\u001B[43m \u001B[49m\u001B[43mctlist0\u001B[49m\u001B[43m,\u001B[49m\u001B[43m \u001B[49m\u001B[43mnblack\u001B[49m\u001B[43m,\u001B[49m\u001B[43m \u001B[49m\u001B[43mpthDL\u001B[49m\u001B[43m,\u001B[49m\u001B[43m \u001B[49m\u001B[43mty\u001B[49m\u001B[43m,\u001B[49m\u001B[43m \u001B[49m\u001B[43msxy\u001B[49m\u001B[43m)\u001B[49m\n\u001B[0;32m     70\u001B[0m         elapsed_time \u001B[38;5;241m=\u001B[39m time\u001B[38;5;241m.\u001B[39mtime() \u001B[38;5;241m-\u001B[39m train_start\n\u001B[0;32m     71\u001B[0m         \u001B[38;5;28mprint\u001B[39m(\n\u001B[0;32m     72\u001B[0m             \u001B[38;5;124mf\u001B[39m\u001B[38;5;124m'\u001B[39m\u001B[38;5;124m  \u001B[39m\u001B[38;5;132;01m{\u001B[39;00m\u001B[38;5;28mlen\u001B[39m(glob\u001B[38;5;241m.\u001B[39mglob(os\u001B[38;5;241m.\u001B[39mpath\u001B[38;5;241m.\u001B[39mjoin(obg,\u001B[38;5;250m \u001B[39m\u001B[38;5;124m\"\u001B[39m\u001B[38;5;124mHE*.jpg\u001B[39m\u001B[38;5;124m\"\u001B[39m)))\u001B[38;5;132;01m}\u001B[39;00m\u001B[38;5;124m of \u001B[39m\u001B[38;5;132;01m{\u001B[39;00mntrain\u001B[38;5;132;01m}\u001B[39;00m\u001B[38;5;124m training images completed in \u001B[39m\u001B[38;5;132;01m{\u001B[39;00m\u001B[38;5;28mint\u001B[39m(elapsed_time\u001B[38;5;250m \u001B[39m\u001B[38;5;241m/\u001B[39m\u001B[38;5;250m \u001B[39m\u001B[38;5;241m60\u001B[39m)\u001B[38;5;132;01m}\u001B[39;00m\u001B[38;5;124m minutes\u001B[39m\u001B[38;5;124m'\u001B[39m)\n",
      "File \u001B[1;32m~\\PycharmProjects\\CODA_python\\base\\combine_annotations_into_tiles.py:131\u001B[0m, in \u001B[0;36mcombine_annotations_into_tiles\u001B[1;34m(numann0, numann, percann, imlist, nblack, pthDL, outpth, sxy, stile, nbg)\u001B[0m\n\u001B[0;32m    129\u001B[0m c \u001B[38;5;241m=\u001B[39m cv2\u001B[38;5;241m.\u001B[39mfilter2D(tmp2_array32, \u001B[38;5;241m-\u001B[39m\u001B[38;5;241m1\u001B[39m, h_array32)\n\u001B[0;32m    130\u001B[0m c \u001B[38;5;241m=\u001B[39m np\u001B[38;5;241m.\u001B[39mround(c\u001B[38;5;241m*\u001B[39m\u001B[38;5;241m255\u001B[39m) \u001B[38;5;66;03m# To avoid percentile returning a negative value due to operating with a lot of small values\u001B[39;00m\n\u001B[1;32m--> 131\u001B[0m dist \u001B[38;5;241m=\u001B[39m cv2\u001B[38;5;241m.\u001B[39mdistanceTransform((\u001B[43mc\u001B[49m\u001B[43m \u001B[49m\u001B[38;5;241;43m<\u001B[39;49m\u001B[38;5;241;43m=\u001B[39;49m\u001B[43m \u001B[49m\u001B[43mnp\u001B[49m\u001B[38;5;241;43m.\u001B[39;49m\u001B[43mpercentile\u001B[49m\u001B[43m(\u001B[49m\u001B[43mc\u001B[49m\u001B[43m,\u001B[49m\u001B[43m \u001B[49m\u001B[38;5;241;43m5\u001B[39;49m\u001B[43m,\u001B[49m\u001B[43m \u001B[49m\u001B[43minterpolation\u001B[49m\u001B[38;5;241;43m=\u001B[39;49m\u001B[38;5;124;43m'\u001B[39;49m\u001B[38;5;124;43mmidpoint\u001B[39;49m\u001B[38;5;124;43m'\u001B[39;49m\u001B[43m)\u001B[49m)\u001B[38;5;241m.\u001B[39mastype(np\u001B[38;5;241m.\u001B[39muint8), cv2\u001B[38;5;241m.\u001B[39mDIST_L2, \u001B[38;5;241m3\u001B[39m)\n\u001B[0;32m    132\u001B[0m dist[:\u001B[38;5;241m20\u001B[39m, :] \u001B[38;5;241m=\u001B[39m \u001B[38;5;241m0\u001B[39m  \u001B[38;5;66;03m# Sets the first 20 rows to 0\u001B[39;00m\n\u001B[0;32m    133\u001B[0m dist[:, :\u001B[38;5;241m20\u001B[39m] \u001B[38;5;241m=\u001B[39m \u001B[38;5;241m0\u001B[39m  \u001B[38;5;66;03m# Sets the first 20 columns to 0\u001B[39;00m\n",
      "\u001B[1;31mKeyboardInterrupt\u001B[0m: "
     ]
    }
   ],
   "execution_count": 5
  },
  {
   "metadata": {
    "ExecuteTime": {
     "start_time": "2024-09-06T19:14:01.989081Z"
    }
   },
   "cell_type": "code",
   "source": [
    "train_segmentation_model(pthDL, fine_tune=False)"
   ],
   "id": "6eee6f3b8622c4d0",
   "outputs": [],
   "execution_count": null
  },
  {
   "cell_type": "code",
   "outputs": [],
   "source": [
    "test_segmentation_model(pthDL, pthtest, pthtestim)"
   ],
   "metadata": {
    "collapsed": false,
    "ExecuteTime": {
     "start_time": "2024-09-06T19:14:01.990081Z"
    }
   },
   "id": "786d981a73aa0ea8"
  },
  {
   "metadata": {
    "ExecuteTime": {
     "start_time": "2024-09-06T19:14:01.991081Z"
    }
   },
   "cell_type": "code",
   "source": [
    "classify_images(pthim,pthDL)"
   ],
   "id": "a3faac1b9267e3fc",
   "outputs": [],
   "execution_count": null
  },
  {
   "cell_type": "code",
   "outputs": [],
   "source": [
    "quantify_images(pthim,pthDL)"
   ],
   "metadata": {
    "collapsed": false,
    "ExecuteTime": {
     "start_time": "2024-09-06T19:14:01.992081Z"
    }
   },
   "id": "4e9d599cc13f5c1b"
  }
 ],
 "metadata": {
  "kernelspec": {
   "display_name": "Python 3",
   "language": "python",
   "name": "python3"
  },
  "language_info": {
   "codemirror_mode": {
    "name": "ipython",
    "version": 2
   },
   "file_extension": ".py",
   "mimetype": "text/x-python",
   "name": "python",
   "nbconvert_exporter": "python",
   "pygments_lexer": "ipython2",
   "version": "2.7.6"
  }
 },
 "nbformat": 4,
 "nbformat_minor": 5
}
