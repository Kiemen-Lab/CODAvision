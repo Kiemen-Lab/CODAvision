{
 "cells": [
  {
   "cell_type": "code",
   "id": "62c00763ffc298e6",
   "metadata": {
    "collapsed": true,
    "ExecuteTime": {
     "end_time": "2024-09-06T19:16:20.255309Z",
     "start_time": "2024-09-06T19:16:17.825439Z"
    }
   },
   "source": [
    "import os\n",
    "import numpy as np\n",
    "from base import *"
   ],
   "execution_count": 1,
   "outputs": []
  },
  {
   "cell_type": "code",
   "source": [
    "pth = r'\\\\10.99.68.52\\Kiemendata\\Valentina Matos\\tissues for methods paper\\human pancreas ready to train\\test model'\n",
    "pthim = os.path.join(pth, '5x')\n",
    "umpix = 2\n",
    "pthtest = os.path.join(pth, 'test images')\n",
    "pthtestim = os.path.join(pthtest, '5x')\n",
    "nm = 'ANACODA_09_04_2024'\n",
    "\n",
    "WS = [[2, 0, 0, 1, 0, 0, 2, 0, 0, 2], [7, 6], \n",
    "      [1, 2, 3, 4, 5, 6, 7, 8, 9, 10], \n",
    "      [6, 5, 4, 1, 2, 3, 8, 10, 9, 7], [9]]\n",
    "numclass = max(WS[2])\n",
    "sxy = 1024\n",
    "pthDL = os.path.join(pth, nm)\n",
    "nblack = numclass + 1\n",
    "nwhite = WS[1][0]\n",
    "cmap = np.array([[121, 248, 252],\n",
    "                  [0, 0, 255],\n",
    "                  [80, 237, 80],\n",
    "                  [255, 255, 0],\n",
    "                  [149, 35, 245],\n",
    "                  [255, 194, 245],\n",
    "                  [255, 255, 255],\n",
    "                  [255, 0, 0],\n",
    "                  [64, 128, 128],\n",
    "                  [73, 120, 111]])\n",
    "classNames = ['islet', 'duct', 'blood vessel', 'fat','acini','ecm','whitespace','PanIN', 'PDAC','nerve']\n",
    "classCheck = []\n",
    "ntrain = 15\n",
    "nvalidate = np.ceil(ntrain/5)\n",
    "numims = 2"
   ],
   "metadata": {
    "collapsed": false,
    "ExecuteTime": {
     "end_time": "2024-09-06T19:16:20.271317Z",
     "start_time": "2024-09-06T19:16:20.256309Z"
    }
   },
   "id": "6fdd2ffbe7bcc440",
   "execution_count": 2,
   "outputs": []
  },
  {
   "metadata": {
    "ExecuteTime": {
     "end_time": "2024-09-06T19:16:20.399501Z",
     "start_time": "2024-09-06T19:16:20.272316Z"
    }
   },
   "cell_type": "code",
   "source": [
    "save_model_metadata(pthDL, pthim, WS, nm, umpix, cmap, sxy, classNames, ntrain, nvalidate)"
   ],
   "id": "initial_id",
   "execution_count": 3,
   "outputs": []
  },
  {
   "metadata": {
    "ExecuteTime": {
     "end_time": "2024-09-06T19:16:30.148881Z",
     "start_time": "2024-09-06T19:16:28.985810Z"
    }
   },
   "cell_type": "code",
   "source": [
    "[ctlist0, numann0] = load_annotation_data(pthDL, pth, pthim, classCheck)"
   ],
   "id": "2a2b2349b4e81c26",
   "execution_count": 4,
   "outputs": []
  },
  {
   "metadata": {
    "jupyter": {
     "is_executing": true
    },
    "ExecuteTime": {
     "end_time": "2024-09-06T20:34:32.090040Z",
     "start_time": "2024-09-06T19:16:34.710350Z"
    }
   },
   "cell_type": "code",
   "source": [
    "create_training_tiles(pthDL, numann0, ctlist0)"
   ],
   "id": "a5d2cedf77297e3d",
   "execution_count": 5,
   "outputs": []
  },
  {
   "metadata": {
    "ExecuteTime": {
     "start_time": "2024-09-06T19:14:01.989081Z"
    }
   },
   "cell_type": "code",
   "source": [
    "train_segmentation_model(pthDL, fine_tune=False)"
   ],
   "id": "6eee6f3b8622c4d0",
   "execution_count": null,
   "outputs": []
  },
  {
   "cell_type": "code",
   "source": [
    "test_segmentation_model(pthDL, pthtest, pthtestim)"
   ],
   "metadata": {
    "collapsed": false,
    "ExecuteTime": {
     "start_time": "2024-09-06T19:14:01.990081Z"
    }
   },
   "id": "786d981a73aa0ea8",
   "execution_count": null,
   "outputs": []
  },
  {
   "metadata": {
    "ExecuteTime": {
     "start_time": "2024-09-06T19:14:01.991081Z"
    }
   },
   "cell_type": "code",
   "source": [
    "classify_images(pthim,pthDL)"
   ],
   "id": "a3faac1b9267e3fc",
   "execution_count": null,
   "outputs": []
  },
  {
   "cell_type": "code",
   "source": [
    "quantify_images(pthim,pthDL)"
   ],
   "metadata": {
    "collapsed": false,
    "ExecuteTime": {
     "start_time": "2024-09-06T19:14:01.992081Z"
    }
   },
   "id": "4e9d599cc13f5c1b",
   "execution_count": null,
   "outputs": []
  }
 ],
 "metadata": {
  "kernelspec": {
   "display_name": "Python 3",
   "language": "python",
   "name": "python3"
  },
  "language_info": {
   "codemirror_mode": {
    "name": "ipython",
    "version": 2
   },
   "file_extension": ".py",
   "mimetype": "text/x-python",
   "name": "python",
   "nbconvert_exporter": "python",
   "pygments_lexer": "ipython2",
   "version": "2.7.6"
  }
 },
 "nbformat": 4,
 "nbformat_minor": 5
}
