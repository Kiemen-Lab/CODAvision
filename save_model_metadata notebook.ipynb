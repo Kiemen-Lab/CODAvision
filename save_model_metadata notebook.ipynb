{
 "cells": [
  {
   "cell_type": "code",
   "id": "initial_id",
   "metadata": {
    "collapsed": true,
    "ExecuteTime": {
     "end_time": "2024-04-29T18:27:36.856695Z",
     "start_time": "2024-04-29T18:27:36.844746Z"
    }
   },
   "source": [
    "import os\n",
    "import numpy as np\n",
    "import matplotlib.pyplot as plt\n",
    "import plot_cmap_legend\n",
    "import pickle"
   ],
   "outputs": [],
   "execution_count": 18
  },
  {
   "metadata": {
    "ExecuteTime": {
     "end_time": "2024-04-29T18:28:26.851036Z",
     "start_time": "2024-04-29T18:28:26.836549Z"
    }
   },
   "cell_type": "code",
   "source": [
    "# Inputs\n",
    "pthDL = r'\\\\10.99.68.52\\Kiemendata\\Valentina Matos\\coda to python\\test model\\04_19_2024'\n",
    "pthim = r'\\\\10.99.68.52\\Kiemendata\\Valentina Matos\\coda to python\\test model\\5x'\n",
    "WS = [[2, 0, 0, 1, 0, 0, 2, 0, 2, 2, 2, 0, 0],  # remove whitespace if 0, keep only whitespace if 1, keep both if 2\n",
    "      [7, 6],  # first = add removed whitespace to this class, second = add removed tissue to this class\n",
    "      [1, 2, 3, 4, 5, 6, 7, 8, 7, 9, 10, 8, 11],  # rename classes according to this order\n",
    "      [6, 5, 4, 11, 1, 2, 3, 8, 10, 12, 13, 7, 9],  # reverse priority of classes (left = bottom, right = top)\n",
    "      []]  # List of annotations to delete\n",
    "nm = '04_19_2024'\n",
    "umpix = 2\n",
    "cmap = np.array([[121, 248, 252],    # 1 islet\n",
    "                 [0, 0, 255],         # 2 duct\n",
    "                 [80, 237, 80],       # 3 blood vessel\n",
    "                 [255, 255, 0],       # 4 fat\n",
    "                 [149, 35, 184],      # 5 acinus\n",
    "                 [255, 194, 245],     # 6 ecm\n",
    "                 [255, 255, 255],     # 7 whitespace\n",
    "                 [255, 0, 0],         # 8 LG PanIN\n",
    "                 [73, 120, 111],      # 9 nerves\n",
    "                 [0, 0, 0],           # 10 immune\n",
    "                 [240, 159, 10]])     # 11 PDAC\n",
    "sxy = 1000\n",
    "classNames = [\"islet\",\"epithelium\",\"vasculature\", \"fat\" ,\"acini\",\"stroma\", \"nontissue\", \"PanIN\", \"nerves\", \"immune\", \"PDAC\", \"black\"]\n",
    "\n",
    "ntrain = 15\n",
    "nvalidate = 3"
   ],
   "id": "2a6ac0d3d0bdb505",
   "outputs": [],
   "execution_count": 23
  },
  {
   "metadata": {
    "ExecuteTime": {
     "end_time": "2024-04-29T18:28:27.530887Z",
     "start_time": "2024-04-29T18:28:27.510113Z"
    }
   },
   "cell_type": "code",
   "source": [
    "if not os.path.isdir(pthDL):\n",
    "        os.mkdir(pthDL)\n",
    "\n",
    "\n",
    "print('Saving model metadata and classification colormap...')\n",
    "\n",
    "if classNames[-1] != \"black\":\n",
    "    classNames.append(\"black\")\n",
    "\n",
    "if classNames[-1] == \"black\":\n",
    "    classNames.pop()\n",
    "\n",
    "\n",
    "# fix WS and classNames if there are classes to delete\n",
    "ndelete = WS[4]\n",
    "if isinstance(ndelete, list):\n",
    "    ndelete.sort(reverse=True)\n",
    "    if ndelete:\n",
    "        for b in ndelete:\n",
    "            ncombine = WS[2]\n",
    "            nload = WS[3]\n",
    "            oldnum = ncombine[b - 1]\n",
    "            ncombine[b - 1] = 1\n",
    "            ncombine = [n - 1 if n > oldnum else n for n in ncombine]\n",
    "            nload = [n for n in nload if n != b]\n",
    "\n",
    "            if len(classNames) + 1 == max(WS[2]):\n",
    "                zz = [i for i in range(len(classNames)) if i + 1 not in [b, oldnum]]\n",
    "                classNames = [classNames[i] for i in zz]\n",
    "                cmap = cmap[zz]\n",
    "\n",
    "            WS[2] = ncombine\n",
    "\n",
    "        WS[2] = ncombine\n",
    "        WS[3] = nload\n",
    "elif isinstance(ndelete, int):\n",
    "    ncombine = WS[2]\n",
    "    nload = WS[3]\n",
    "    oldnum = ncombine[ndelete - 1]\n",
    "    ncombine[ndelete - 1] = 1\n",
    "    ncombine = [n - 1 if n > oldnum else n for n in ncombine]\n",
    "    nload = [n for n in nload if n != ndelete]\n",
    "\n",
    "    if len(classNames) == max(WS[2]):\n",
    "        zz = [i for i in range(len(classNames)) if i + 1 not in [oldnum]]\n",
    "        classNames = [classNames[i] for i in zz]\n",
    "        cmap = cmap[zz]\n",
    "    WS[2] = ncombine\n",
    "    WS[3] = nload\n",
    "\n",
    "nwhite = WS[2]\n",
    "nwhite = nwhite[WS[1][0] - 1]\n",
    "if max(WS[2]) != len(classNames):\n",
    "    raise ValueError('The length of classNames does not match the number of classes specified in WS[2].')\n",
    "if classNames[-1] != \"black\":\n",
    "    classNames.append(\"black\")\n",
    "nblack = len(classNames)\n",
    "existing_variables = {}\n"
   ],
   "id": "cb83eb9dd7750a18",
   "outputs": [
    {
     "name": "stdout",
     "output_type": "stream",
     "text": [
      "Saving model metadata and classification colormap...\n"
     ]
    }
   ],
   "execution_count": 24
  },
  {
   "metadata": {
    "ExecuteTime": {
     "end_time": "2024-04-29T18:28:28.049953Z",
     "start_time": "2024-04-29T18:28:28.036953Z"
    }
   },
   "cell_type": "code",
   "source": [
    "\n",
    "datafile = os.path.join(pthDL.rstrip('\\\\'), 'net.pkl')\n",
    "print(datafile)"
   ],
   "id": "3b5524e9a9f51ec",
   "outputs": [
    {
     "name": "stdout",
     "output_type": "stream",
     "text": [
      "\\\\10.99.68.52\\Kiemendata\\Valentina Matos\\coda to python\\test model\\04_19_2024\\net.pkl\n"
     ]
    }
   ],
   "execution_count": 25
  },
  {
   "metadata": {
    "ExecuteTime": {
     "end_time": "2024-04-29T18:28:28.554708Z",
     "start_time": "2024-04-29T18:28:28.469708Z"
    }
   },
   "cell_type": "code",
   "source": [
    "# Save the data to a pickle file\n",
    "if os.path.exists(datafile):\n",
    "    print('Net file already exists, updating data...')\n",
    "    with open(datafile, 'rb') as f:\n",
    "        try:\n",
    "            existing_data = pickle.load(f)\n",
    "        except EOFError:\n",
    "            existing_data = {}\n",
    "\n",
    "    existing_data.update({\"pthim\": pthim,\"pthDL\": pthDL, \"WS\": WS,\"nm\":nm,\"umpix\": umpix,\"cmap\": cmap, \"sxy\": sxy, \"classNames\":classNames,\"ntrain\":ntrain,  \"nblack\": nblack, \"nwhite\": nwhite, \"nvalidate\":nvalidate})\n",
    "\n",
    "    with open(datafile, 'wb') as f:\n",
    "        pickle.dump(existing_data, f)\n",
    "else:\n",
    "        print('Creating Net metadata file...')\n",
    "        with open(datafile, 'wb') as f:\n",
    "            pickle.dump({\"pthim\": pthim,\"pthDL\": pthDL, \"WS\": WS,\"nm\":nm,\"umpix\": umpix,\"cmap\": cmap, \"sxy\": sxy, \"classNames\":classNames,\"ntrain\":ntrain,  \"nblack\": nblack, \"nwhite\": nwhite, \"nvalidate\":nvalidate}, f)\n",
    "\n",
    "\n",
    "# plot color legend\n",
    "plot_cmap_legend.plot_cmap_legend(cmap, classNames)\n",
    "plt.savefig(os.path.join(pthDL, 'model_color_legend.png'))"
   ],
   "id": "e8c676d70c3e2e7f",
   "outputs": [
    {
     "name": "stdout",
     "output_type": "stream",
     "text": [
      "Creating Net metadata file...\n"
     ]
    },
    {
     "data": {
      "text/plain": [
       "<Figure size 640x480 with 1 Axes>"
      ],
      "image/png": "[encoded data removed]"
     },
     "metadata": {},
     "output_type": "display_data"
    },
    {
     "data": {
      "text/plain": [
       "<Figure size 640x480 with 0 Axes>"
      ]
     },
     "metadata": {},
     "output_type": "display_data"
    }
   ],
   "execution_count": 26
  },
  {
   "metadata": {
    "ExecuteTime": {
     "end_time": "2024-04-29T18:28:52.098416Z",
     "start_time": "2024-04-29T18:28:52.074412Z"
    }
   },
   "cell_type": "code",
   "source": [
    "# Load data from pickle file (example):\n",
    "datafile = r'\\\\10.99.68.52\\Kiemendata\\Valentina Matos\\coda to python\\test model\\04_19_2024\\net.pkl'\n",
    "with open(datafile, 'rb') as f:\n",
    "    data = pickle.load(f)\n",
    "WS = data['WS']\n",
    "cmap = data['cmap']\n",
    "classnames = data['classNames']\n",
    "nm = data['nm']\n",
    "print(f'WS: {WS}')\n",
    "print(f'classnames: {classnames}')\n",
    "print(f'Model name: {nm}')\n"
   ],
   "id": "b94ba6a9ace7fe04",
   "outputs": [
    {
     "name": "stdout",
     "output_type": "stream",
     "text": [
      "WS: [[2, 0, 0, 1, 0, 0, 2, 0, 2, 2, 2, 0, 0], [7, 6], [1, 2, 3, 4, 5, 6, 7, 8, 7, 9, 10, 8, 11], [6, 5, 4, 11, 1, 2, 3, 8, 10, 12, 13, 7, 9], []]\n",
      "classnames: ['islet', 'epithelium', 'vasculature', 'fat', 'acini', 'stroma', 'nontissue', 'PanIN', 'nerves', 'immune', 'PDAC', 'black']\n",
      "Model name: 04_19_2024\n"
     ]
    }
   ],
   "execution_count": 29
  },
  {
   "metadata": {},
   "cell_type": "code",
   "outputs": [],
   "execution_count": null,
   "source": "",
   "id": "561ea85e404d61c"
  }
 ],
 "metadata": {
  "kernelspec": {
   "display_name": "Python 3",
   "language": "python",
   "name": "python3"
  },
  "language_info": {
   "codemirror_mode": {
    "name": "ipython",
    "version": 2
   },
   "file_extension": ".py",
   "mimetype": "text/x-python",
   "name": "python",
   "nbconvert_exporter": "python",
   "pygments_lexer": "ipython2",
   "version": "2.7.6"
  }
 },
 "nbformat": 4,
 "nbformat_minor": 5
}
