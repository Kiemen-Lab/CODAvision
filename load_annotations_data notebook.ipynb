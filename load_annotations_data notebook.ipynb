{
 "cells": [
  {
   "cell_type": "code",
   "id": "initial_id",
   "metadata": {
    "collapsed": true,
    "ExecuteTime": {
     "end_time": "2024-05-02T00:26:53.378437Z",
     "start_time": "2024-05-02T00:26:53.370437Z"
    }
   },
   "source": [
    "from calculate_tissue_mask import calculate_tissue_mask\n",
    "from check_if_model_parameters_changed import check_if_model_parameters_changed\n",
    "from import_xml import import_xml\n",
    "from save_annotation_mask import save_annotation_mask\n",
    "from save_bounding_boxes import save_bounding_boxes"
   ],
   "outputs": [],
   "execution_count": 67
  },
  {
   "metadata": {
    "ExecuteTime": {
     "end_time": "2024-05-02T00:26:57.071358Z",
     "start_time": "2024-05-02T00:26:57.063359Z"
    }
   },
   "cell_type": "code",
   "source": [
    "import os\n",
    "import pickle\n",
    "import shutil\n",
    "import numpy as np\n",
    "from skimage import io\n",
    "import time\n"
   ],
   "id": "33727b552be4109f",
   "outputs": [],
   "execution_count": 68
  },
  {
   "metadata": {
    "ExecuteTime": {
     "end_time": "2024-05-02T00:26:57.565210Z",
     "start_time": "2024-05-02T00:26:57.547209Z"
    }
   },
   "cell_type": "code",
   "source": [
    "#inputs\n",
    "pth = r'\\\\10.99.68.52\\Kiemendata\\Valentina Matos\\coda to python\\test model'\n",
    "pthDL = r'\\\\10.99.68.52\\Kiemendata\\Valentina Matos\\coda to python\\test model\\04_19_2024'\n",
    "pthim = r'\\\\10.99.68.52\\Kiemendata\\Valentina Matos\\coda to python\\test model\\5x'\n",
    "classcheck=0"
   ],
   "id": "4e11885ddd885e66",
   "outputs": [],
   "execution_count": 69
  },
  {
   "metadata": {
    "ExecuteTime": {
     "end_time": "2024-05-02T00:26:57.984342Z",
     "start_time": "2024-05-02T00:26:57.956668Z"
    }
   },
   "cell_type": "code",
   "source": [
    "#Load data\n",
    "print(' ')\n",
    "print('Importing annotation data...')\n",
    "\n",
    "with open(os.path.join(pthDL, 'net.pkl'), 'rb') as f:\n",
    "    data = pickle.load(f)\n",
    "    WS = data['WS']\n",
    "    umpix = data['umpix']\n",
    "    cmap = data['cmap']\n",
    "    classNames = data['classNames']\n",
    "    nm = data['nm']\n",
    "    nwhite = data['nwhite']\n",
    "    \n",
    "cmap2 = np.vstack(([0, 0, 0], cmap)) / 255\n",
    "numclass = np.max(WS[2])\n",
    "imlist = [f for f in os.listdir(pth) if f.endswith('.xml')]\n",
    "numann0 = []\n",
    "ctlist0 = []\n",
    "outim = os.path.join(pth, 'check_annotations')\n",
    "os.makedirs(outim, exist_ok=True)"
   ],
   "id": "30edddcccfddbf25",
   "outputs": [
    {
     "name": "stdout",
     "output_type": "stream",
     "text": [
      " \n",
      "Importing annotation data...\n"
     ]
    }
   ],
   "execution_count": 70
  },
  {
   "metadata": {
    "ExecuteTime": {
     "end_time": "2024-05-02T00:26:58.415019Z",
     "start_time": "2024-05-02T00:26:58.396020Z"
    }
   },
   "cell_type": "code",
   "source": [
    "# Check that all images exist for all the .cml files contained in the folder\n",
    "for imnm in imlist:\n",
    "    imnm = imnm[:-4]\n",
    "    tif_file = os.path.join(pthim, f'{imnm}.tif')\n",
    "    jpg_file = os.path.join(pthim, f'{imnm}.jpg')\n",
    "    if not os.path.isfile(tif_file) and not os.path.isfile(jpg_file):\n",
    "        raise FileNotFoundError(f'Cannot find a tif or jpg file for xml file: {imnm}.xml')"
   ],
   "id": "a70a341cb4483b7e",
   "outputs": [],
   "execution_count": 71
  },
  {
   "metadata": {
    "ExecuteTime": {
     "end_time": "2024-05-02T00:27:11.343751Z",
     "start_time": "2024-05-02T00:26:58.851022Z"
    }
   },
   "cell_type": "code",
   "source": [
    "# for each annotation file\n",
    "start_time = time.time()  # Capture the start time before the loop\n",
    "for idx, imnm in enumerate(imlist, start=1):\n",
    "    print(f' Image {idx} of {len(imlist)}: {imnm[:-4]}')\n",
    "    imnm = imnm[:-4]\n",
    "    outpth = os.path.join(pth, 'data', imnm)\n",
    "    annotations_file = os.path.join(outpth, 'annotations.pkl')\n",
    "    \n",
    "    # check if model parameters have changed\n",
    "    reload_xml = check_if_model_parameters_changed(annotations_file, WS, umpix, nwhite, pthim)\n",
    "    \n",
    "    # skip if file hasn't been updated since last load\n",
    "    if os.path.isfile(annotations_file):\n",
    "        with open(annotations_file, 'rb') as f:\n",
    "            data = pickle.load(f)\n",
    "            dm, bb = data.get('dm', ''), data.get('bb', 0)\n",
    "    else:\n",
    "        dm, bb = '', 0\n",
    "    \n",
    "    date_modified = os.path.getmtime(os.path.join(pth, f'{imnm}.xml'))\n",
    "    if dm == str(date_modified) and bb == 1 and not reload_xml:\n",
    "        print(' annotation data previously loaded')\n",
    "        with open(annotations_file, 'rb') as f:\n",
    "            data = pickle.load(f)\n",
    "            numann, ctlist = data.get('numann', []), data.get('ctlist', [])\n",
    "        numann0.extend(numann)\n",
    "        ctlist0.extend(ctlist)\n",
    "        continue\n",
    "        \n",
    "    if os.path.isdir(outpth):\n",
    "        shutil.rmtree(outpth)\n",
    "    os.makedirs(outpth)\n",
    "    \n",
    "    # 1 read xml annotation files and save as pkl files\n",
    "    import_xml(annotations_file, os.path.join(pth, f'{imnm}.xml'), date_modified)\n",
    "    print(f'annotation_file: {annotations_file}')\n",
    "    print(\"xml_file:\", os.path.join(pth, f'{imnm}.xml'))\n",
    "    with open(annotations_file, 'wb') as f:\n",
    "        pickle.dump({'WS': WS, 'umpix': umpix, 'nwhite': nwhite, 'pthim': pthim}, f)\n",
    "        \n",
    "    # 2 fill annotation outlines and delete unwanted pixels\n",
    "    I0, TA, _ = calculate_tissue_mask(pthim, imnm)\n",
    "    J0 = save_annotation_mask(I0, outpth, WS, umpix, TA, 1)\n",
    "    io.imsave(os.path.join(outpth, 'view_annotations.tif'), J0.astype(np.uint8))\n",
    "    \n",
    "    # show mask in color\n",
    "    J2 = J0 + 1\n",
    "    cmap3 = cmap2[np.min(J2):np.max(J2) + 1, :]\n",
    "    mask = cmap3[J2]\n",
    "    I = I0[::2, ::2, :].astype(np.float64) * 0.5 + mask[::2, ::2, :] * 0.5\n",
    "    io.imsave(os.path.join(outim, f'{imnm}.jpg'), (I * 255).astype(np.uint8))\n",
    "    \n",
    "    # create annotation bounding boxes and update data to annotation.pkl file\n",
    "    numann, ctlist = save_bounding_boxes(I0, outpth, nm, numclass)\n",
    "    with open(annotations_file, 'wb') as f:\n",
    "        pickle.dump({'dm': str(date_modified), 'bb': 1, 'numann': numann, 'ctlist': ctlist}, f)\n",
    "    numann0.extend(numann)\n",
    "    ctlist0.extend(ctlist) \n",
    "    \n",
    "    print(f' Finished image in {round(time.time() - start_time)} seconds.')\n"
   ],
   "id": "a1704ef522505e04",
   "outputs": [
    {
     "name": "stdout",
     "output_type": "stream",
     "text": [
      " Image 1 of 2: SG_013_0061\n",
      " 1. of 4. Importing annotation data from xml file\n",
      "Creating file...\n",
      "annotation_file: \\\\10.99.68.52\\Kiemendata\\Valentina Matos\\coda to python\\test model\\data\\SG_013_0061\\annotations.pkl\n",
      "xml_file: \\\\10.99.68.52\\Kiemendata\\Valentina Matos\\coda to python\\test model\\SG_013_0061.xml\n",
      "Existing TA loaded\n",
      "     2. of 4. Interpolating annotated regions and saving mask image\n"
     ]
    },
    {
     "ename": "KeyError",
     "evalue": "'xyout'",
     "output_type": "error",
     "traceback": [
      "\u001B[1;31m---------------------------------------------------------------------------\u001B[0m",
      "\u001B[1;31mKeyError\u001B[0m                                  Traceback (most recent call last)",
      "Cell \u001B[1;32mIn[72], line 43\u001B[0m\n\u001B[0;32m     41\u001B[0m \u001B[38;5;66;03m# 2 fill annotation outlines and delete unwanted pixels\u001B[39;00m\n\u001B[0;32m     42\u001B[0m I0, TA, _ \u001B[38;5;241m=\u001B[39m calculate_tissue_mask(pthim, imnm)\n\u001B[1;32m---> 43\u001B[0m J0 \u001B[38;5;241m=\u001B[39m \u001B[43msave_annotation_mask\u001B[49m\u001B[43m(\u001B[49m\u001B[43mI0\u001B[49m\u001B[43m,\u001B[49m\u001B[43m \u001B[49m\u001B[43moutpth\u001B[49m\u001B[43m,\u001B[49m\u001B[43m \u001B[49m\u001B[43mWS\u001B[49m\u001B[43m,\u001B[49m\u001B[43m \u001B[49m\u001B[43mumpix\u001B[49m\u001B[43m,\u001B[49m\u001B[43m \u001B[49m\u001B[43mTA\u001B[49m\u001B[43m,\u001B[49m\u001B[43m \u001B[49m\u001B[38;5;241;43m1\u001B[39;49m\u001B[43m)\u001B[49m\n\u001B[0;32m     44\u001B[0m io\u001B[38;5;241m.\u001B[39mimsave(os\u001B[38;5;241m.\u001B[39mpath\u001B[38;5;241m.\u001B[39mjoin(outpth, \u001B[38;5;124m'\u001B[39m\u001B[38;5;124mview_annotations.tif\u001B[39m\u001B[38;5;124m'\u001B[39m), J0\u001B[38;5;241m.\u001B[39mastype(np\u001B[38;5;241m.\u001B[39muint8))\n\u001B[0;32m     46\u001B[0m \u001B[38;5;66;03m# show mask in color\u001B[39;00m\n",
      "File \u001B[1;32m~\\PycharmProjects\\CODA_python\\save_annotation_mask.py:39\u001B[0m, in \u001B[0;36msave_annotation_mask\u001B[1;34m(I, outpth, WS, umpix, TA, kpb)\u001B[0m\n\u001B[0;32m     37\u001B[0m \u001B[38;5;28;01mwith\u001B[39;00m \u001B[38;5;28mopen\u001B[39m(os\u001B[38;5;241m.\u001B[39mpath\u001B[38;5;241m.\u001B[39mjoin(outpth, \u001B[38;5;124m'\u001B[39m\u001B[38;5;124mannotations.pkl\u001B[39m\u001B[38;5;124m'\u001B[39m), \u001B[38;5;124m'\u001B[39m\u001B[38;5;124mrb\u001B[39m\u001B[38;5;124m'\u001B[39m) \u001B[38;5;28;01mas\u001B[39;00m f:\n\u001B[0;32m     38\u001B[0m     data \u001B[38;5;241m=\u001B[39m pickle\u001B[38;5;241m.\u001B[39mload(f)\n\u001B[1;32m---> 39\u001B[0m     xyout \u001B[38;5;241m=\u001B[39m \u001B[43mdata\u001B[49m\u001B[43m[\u001B[49m\u001B[38;5;124;43m'\u001B[39;49m\u001B[38;5;124;43mxyout\u001B[39;49m\u001B[38;5;124;43m'\u001B[39;49m\u001B[43m]\u001B[49m\n\u001B[0;32m     40\u001B[0m \u001B[38;5;28;01mif\u001B[39;00m xyout\u001B[38;5;241m.\u001B[39msize \u001B[38;5;241m==\u001B[39m \u001B[38;5;241m0\u001B[39m: \u001B[38;5;66;03m# If xyout is empty, return a black image\u001B[39;00m\n\u001B[0;32m     41\u001B[0m     J \u001B[38;5;241m=\u001B[39m np\u001B[38;5;241m.\u001B[39mzeros(I\u001B[38;5;241m.\u001B[39msize)\n",
      "\u001B[1;31mKeyError\u001B[0m: 'xyout'"
     ]
    }
   ],
   "execution_count": 72
  },
  {
   "metadata": {
    "ExecuteTime": {
     "end_time": "2024-05-02T00:10:08.021230Z",
     "start_time": "2024-05-02T00:10:07.989733Z"
    }
   },
   "cell_type": "code",
   "source": [
    "# Load data from pickle file (example):\n",
    "annotations_file = r'\\\\10.99.68.52\\Kiemendata\\Valentina Matos\\coda to python\\test model\\data\\SG_013_0061\\annotations.pkl'\n",
    "with open(annotations_file, 'rb') as f:\n",
    "    data = pickle.load(f)\n",
    "xyout_df = data['xyout']\n",
    "reduced_annotations = data['reduce_annotations']\n",
    "dm = data['dm']\n",
    "print(f'Reduced annotations: {reduced_annotations}')\n",
    "print(f'Date modified: {dm}')\n",
    "print('Annotation coordinates:')\n",
    "print(xyout_df)"
   ],
   "id": "77cd9e055f4e6511",
   "outputs": [
    {
     "ename": "KeyError",
     "evalue": "'xyout'",
     "output_type": "error",
     "traceback": [
      "\u001B[1;31m---------------------------------------------------------------------------\u001B[0m",
      "\u001B[1;31mKeyError\u001B[0m                                  Traceback (most recent call last)",
      "Cell \u001B[1;32mIn[48], line 5\u001B[0m\n\u001B[0;32m      3\u001B[0m \u001B[38;5;28;01mwith\u001B[39;00m \u001B[38;5;28mopen\u001B[39m(annotations_file, \u001B[38;5;124m'\u001B[39m\u001B[38;5;124mrb\u001B[39m\u001B[38;5;124m'\u001B[39m) \u001B[38;5;28;01mas\u001B[39;00m f:\n\u001B[0;32m      4\u001B[0m     data \u001B[38;5;241m=\u001B[39m pickle\u001B[38;5;241m.\u001B[39mload(f)\n\u001B[1;32m----> 5\u001B[0m xyout_df \u001B[38;5;241m=\u001B[39m \u001B[43mdata\u001B[49m\u001B[43m[\u001B[49m\u001B[38;5;124;43m'\u001B[39;49m\u001B[38;5;124;43mxyout\u001B[39;49m\u001B[38;5;124;43m'\u001B[39;49m\u001B[43m]\u001B[49m\n\u001B[0;32m      6\u001B[0m reduced_annotations \u001B[38;5;241m=\u001B[39m data[\u001B[38;5;124m'\u001B[39m\u001B[38;5;124mreduce_annotations\u001B[39m\u001B[38;5;124m'\u001B[39m]\n\u001B[0;32m      7\u001B[0m dm \u001B[38;5;241m=\u001B[39m data[\u001B[38;5;124m'\u001B[39m\u001B[38;5;124mdm\u001B[39m\u001B[38;5;124m'\u001B[39m]\n",
      "\u001B[1;31mKeyError\u001B[0m: 'xyout'"
     ]
    }
   ],
   "execution_count": 48
  },
  {
   "metadata": {},
   "cell_type": "code",
   "outputs": [],
   "execution_count": null,
   "source": "",
   "id": "9f825d0074ff02d9"
  }
 ],
 "metadata": {
  "kernelspec": {
   "display_name": "Python 3",
   "language": "python",
   "name": "python3"
  },
  "language_info": {
   "codemirror_mode": {
    "name": "ipython",
    "version": 2
   },
   "file_extension": ".py",
   "mimetype": "text/x-python",
   "name": "python",
   "nbconvert_exporter": "python",
   "pygments_lexer": "ipython2",
   "version": "2.7.6"
  }
 },
 "nbformat": 4,
 "nbformat_minor": 5
}
