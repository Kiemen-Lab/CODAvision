{
 "cells": [
  {
   "cell_type": "code",
   "id": "initial_id",
   "metadata": {
    "collapsed": true,
    "ExecuteTime": {
     "end_time": "2024-07-08T17:16:00.804957Z",
     "start_time": "2024-07-08T17:16:00.780959Z"
    }
   },
   "source": [
    "\n",
    "import pickle\n",
    "import os\n",
    "os.environ[\"TF_CPP_MIN_VLOG_LEVEL\"] = \"2\"\n",
    "os.system(\"nvcc --version\")\n",
    "import os\n",
    "from glob import glob\n",
    "import tensorflow as tf\n",
    "import tensorflow_io as tfio\n",
    "print(tf.__version__)\n",
    "import numpy as np\n"
   ],
   "outputs": [
    {
     "name": "stdout",
     "output_type": "stream",
     "text": [
      "2.10.1\n"
     ]
    }
   ],
   "execution_count": 35
  },
  {
   "metadata": {
    "ExecuteTime": {
     "end_time": "2024-07-08T17:11:10.833925Z",
     "start_time": "2024-07-08T17:11:10.819927Z"
    }
   },
   "cell_type": "code",
   "source": [
    "import tensorflow as tf\n",
    "import keras\n",
    "\n",
    "print(f\"TensorFlow version: {tf.__version__}\")\n",
    "print(f\"Keras version: {keras.__version__}\")"
   ],
   "id": "64d8c7cf1234a28c",
   "outputs": [
    {
     "name": "stdout",
     "output_type": "stream",
     "text": [
      "TensorFlow version: 2.10.1\n",
      "Keras version: 2.10.0\n"
     ]
    }
   ],
   "execution_count": 34
  },
  {
   "metadata": {
    "ExecuteTime": {
     "end_time": "2024-07-08T17:10:15.026250Z",
     "start_time": "2024-07-08T17:10:15.005252Z"
    }
   },
   "cell_type": "code",
   "source": [
    "import keras\n",
    "from keras import layers\n",
    "from tensorflow.keras import ops"
   ],
   "id": "f72670c4417939d7",
   "outputs": [
    {
     "ename": "ImportError",
     "evalue": "cannot import name 'ops' from 'tensorflow.keras' (C:\\Users\\Valentina\\anaconda3\\envs\\CODA_tinaFlow\\lib\\site-packages\\keras\\api\\_v2\\keras\\__init__.py)",
     "output_type": "error",
     "traceback": [
      "\u001B[1;31m---------------------------------------------------------------------------\u001B[0m",
      "\u001B[1;31mImportError\u001B[0m                               Traceback (most recent call last)",
      "Cell \u001B[1;32mIn[33], line 3\u001B[0m\n\u001B[0;32m      1\u001B[0m \u001B[38;5;28;01mimport\u001B[39;00m \u001B[38;5;21;01mkeras\u001B[39;00m\n\u001B[0;32m      2\u001B[0m \u001B[38;5;28;01mfrom\u001B[39;00m \u001B[38;5;21;01mkeras\u001B[39;00m \u001B[38;5;28;01mimport\u001B[39;00m layers\n\u001B[1;32m----> 3\u001B[0m \u001B[38;5;28;01mfrom\u001B[39;00m \u001B[38;5;21;01mtensorflow\u001B[39;00m\u001B[38;5;21;01m.\u001B[39;00m\u001B[38;5;21;01mkeras\u001B[39;00m \u001B[38;5;28;01mimport\u001B[39;00m ops\n",
      "\u001B[1;31mImportError\u001B[0m: cannot import name 'ops' from 'tensorflow.keras' (C:\\Users\\Valentina\\anaconda3\\envs\\CODA_tinaFlow\\lib\\site-packages\\keras\\api\\_v2\\keras\\__init__.py)"
     ]
    }
   ],
   "execution_count": 33
  },
  {
   "metadata": {
    "ExecuteTime": {
     "end_time": "2024-07-08T16:57:09.750975Z",
     "start_time": "2024-07-08T16:57:09.733977Z"
    }
   },
   "cell_type": "code",
   "source": [
    "classNames = ['islet', 'epithelium', 'vasculature', 'fat', 'acini', 'stroma', 'nontissue', 'PanIN', 'nerves', 'immune', 'PDAC', 'black']\n",
    "    \n",
    "print(classNames)"
   ],
   "id": "9afc189561648be",
   "outputs": [
    {
     "name": "stdout",
     "output_type": "stream",
     "text": [
      "['islet', 'epithelium', 'vasculature', 'fat', 'acini', 'stroma', 'nontissue', 'PanIN', 'nerves', 'immune', 'PDAC', 'black']\n"
     ]
    }
   ],
   "execution_count": 26
  },
  {
   "metadata": {
    "ExecuteTime": {
     "end_time": "2024-07-08T16:52:28.413596Z",
     "start_time": "2024-07-08T16:52:27.471725Z"
    }
   },
   "cell_type": "code",
   "source": [
    "#_______________Create Tensorflow dataset______________\n",
    "\n",
    "# Paths to training and validation datasets\n",
    "pthDataset = r'\\\\10.99.68.52\\Kiemendata\\Valentina Matos\\coda to python\\test model\\02_23_2024'\n",
    "\n",
    "# Define paths to training and validation directories\n",
    "pthTrain = os.path.join(pthDataset, 'training')\n",
    "pthValidation = os.path.join(pthDataset, 'validation')\n",
    "\n",
    "# Get paths to training images and labels\n",
    "train_images = sorted(glob(os.path.join(pthTrain, 'im', \"*.tif\")))\n",
    "train_masks = sorted(glob(os.path.join(pthTrain, 'label', 'corrected_labels', \"*.tif\")))\n",
    "\n",
    "# Get paths to validation images and labels\n",
    "val_images = sorted(glob(os.path.join(pthValidation, 'im', \"*.tif\")))\n",
    "val_masks = sorted(glob(os.path.join(pthValidation, 'label', 'corrected_labels', \"*.tif\")))\n",
    "\n",
    "# Define constants\n",
    "IMAGE_SIZE = 1024\n",
    "BATCH_SIZE = 4\n",
    "NUM_TRAIN_IMAGES = len(train_images)  # Number of training images\n",
    "NUM_VAL_IMAGES = len(val_images)  # Number of validation images\n",
    "\n",
    "NUM_CLASSES = len(classNames)  # Number of classes\n",
    "\n",
    "\n",
    "def read_image(image_path, mask=False):\n",
    "    image = tf.io.read_file(image_path)\n",
    "    if mask:\n",
    "        image = tfio.experimental.image.decode_tiff(image)\n",
    "        image = tf.image.rgb_to_grayscale(image)  # Convert to grayscale if it's not already\n",
    "        image.set_shape([None, None, 1])\n",
    "        image = tf.image.resize(images=image, size=[IMAGE_SIZE, IMAGE_SIZE])\n",
    "    else:\n",
    "        image = tfio.experimental.image.decode_tiff(image)\n",
    "        if tf.shape(image)[-1] == 1:  # If grayscale, convert to RGB\n",
    "            image = tf.image.grayscale_to_rgb(image)\n",
    "        image.set_shape([None, None, 3])\n",
    "        image = tf.image.resize(images=image, size=[IMAGE_SIZE, IMAGE_SIZE])\n",
    "    return tf.cast(image, tf.float32) / 255.0  # Normalize to [0, 1]\n",
    "\n",
    "def load_data(image_list, mask_list):\n",
    "    image = read_image(image_list)\n",
    "    mask = read_image(mask_list, mask=True)\n",
    "    return image, mask\n",
    "\n",
    "def data_generator(image_list, mask_list):\n",
    "    dataset = tf.data.Dataset.from_tensor_slices((image_list, mask_list))\n",
    "    dataset = dataset.map(load_data, num_parallel_calls=tf.data.AUTOTUNE)\n",
    "    dataset = dataset.batch(BATCH_SIZE, drop_remainder=True)\n",
    "    return dataset\n",
    "\n",
    "train_dataset = data_generator(train_images, train_masks)\n",
    "val_dataset = data_generator(val_images, val_masks)\n",
    "\n",
    "print(\"Train Dataset:\", train_dataset)\n",
    "print(\"Val Dataset:\", val_dataset)"
   ],
   "id": "1714f37170026bb9",
   "outputs": [
    {
     "name": "stdout",
     "output_type": "stream",
     "text": [
      "Train Dataset: <BatchDataset element_spec=(TensorSpec(shape=(4, 1024, 1024, 3), dtype=tf.float32, name=None), TensorSpec(shape=(4, 1024, 1024, 1), dtype=tf.float32, name=None))>\n",
      "Val Dataset: <BatchDataset element_spec=(TensorSpec(shape=(4, 1024, 1024, 3), dtype=tf.float32, name=None), TensorSpec(shape=(4, 1024, 1024, 1), dtype=tf.float32, name=None))>\n"
     ]
    }
   ],
   "execution_count": 18
  },
  {
   "metadata": {
    "ExecuteTime": {
     "end_time": "2024-07-08T17:16:38.212514Z",
     "start_time": "2024-07-08T17:16:36.713516Z"
    }
   },
   "cell_type": "code",
   "source": [
    "import tensorflow as tf\n",
    "import os\n",
    "from glob import glob\n",
    "import cv2\n",
    "\n",
    "# Paths to training and validation datasets\n",
    "pthDataset = r'\\\\10.99.68.52\\Kiemendata\\Valentina Matos\\coda to python\\test model\\02_23_2024'\n",
    "\n",
    "# Define paths to training and validation directories\n",
    "pthTrain = os.path.join(pthDataset, 'training')\n",
    "pthValidation = os.path.join(pthDataset, 'validation')\n",
    "\n",
    "# Get paths to training images and labels\n",
    "train_images = sorted(glob(os.path.join(pthTrain, 'im', \"*.tif\")))\n",
    "train_masks = sorted(glob(os.path.join(pthTrain, 'label', 'corrected_labels', \"*.tif\")))\n",
    "\n",
    "# Get paths to validation images and labels\n",
    "val_images = sorted(glob(os.path.join(pthValidation, 'im', \"*.tif\")))\n",
    "val_masks = sorted(glob(os.path.join(pthValidation, 'label', 'corrected_labels', \"*.tif\")))\n",
    "\n",
    "# Define constants\n",
    "IMAGE_SIZE = 1024\n",
    "BATCH_SIZE = 4\n",
    "NUM_TRAIN_IMAGES = len(train_images)\n",
    "NUM_VAL_IMAGES = len(val_images)\n",
    "\n",
    "NUM_CLASSES = len(classNames)  # Assuming classNames is defined elsewhere\n",
    "\n",
    "def read_tif(image_path, mask=False):\n",
    "    def parse_with_opencv(path):\n",
    "        img = cv2.imread(path.decode('UTF-8'), cv2.IMREAD_UNCHANGED)\n",
    "        if mask:\n",
    "            if len(img.shape) == 3:\n",
    "                img = img[:,:,0]  # Take first channel if multi-channel\n",
    "            img = img[:,:,np.newaxis]  # Add channel dimension\n",
    "        else:\n",
    "            if len(img.shape) == 2:\n",
    "                img = cv2.cvtColor(img, cv2.COLOR_GRAY2RGB)\n",
    "        img = cv2.resize(img, (IMAGE_SIZE, IMAGE_SIZE))\n",
    "        return img.astype(np.float32)\n",
    "    \n",
    "    image = tf.numpy_function(parse_with_opencv, [image_path], tf.float32)\n",
    "    if mask:\n",
    "        image.set_shape([IMAGE_SIZE, IMAGE_SIZE, 1])\n",
    "    else:\n",
    "        image.set_shape([IMAGE_SIZE, IMAGE_SIZE, 3])\n",
    "    return image\n",
    "\n",
    "def load_data(image_path, mask_path):\n",
    "    image = read_tif(image_path)\n",
    "    mask = read_tif(mask_path, mask=True)\n",
    "    return image, mask\n",
    "\n",
    "def data_generator(image_list, mask_list):\n",
    "    dataset = tf.data.Dataset.from_tensor_slices((image_list, mask_list))\n",
    "    dataset = dataset.map(load_data, num_parallel_calls=tf.data.AUTOTUNE)\n",
    "    dataset = dataset.batch(BATCH_SIZE, drop_remainder=True)\n",
    "    return dataset\n",
    "\n",
    "train_dataset = data_generator(train_images, train_masks)\n",
    "val_dataset = data_generator(val_images, val_masks)\n",
    "\n",
    "print(\"Train Dataset:\", train_dataset)\n",
    "print(\"Val Dataset:\", val_dataset)"
   ],
   "id": "189df344ddeab1cc",
   "outputs": [
    {
     "name": "stdout",
     "output_type": "stream",
     "text": [
      "Train Dataset: <BatchDataset element_spec=(TensorSpec(shape=(4, 1024, 1024, 3), dtype=tf.float32, name=None), TensorSpec(shape=(4, 1024, 1024, 1), dtype=tf.float32, name=None))>\n",
      "Val Dataset: <BatchDataset element_spec=(TensorSpec(shape=(4, 1024, 1024, 3), dtype=tf.float32, name=None), TensorSpec(shape=(4, 1024, 1024, 1), dtype=tf.float32, name=None))>\n"
     ]
    }
   ],
   "execution_count": 36
  },
  {
   "metadata": {
    "ExecuteTime": {
     "end_time": "2024-07-08T16:54:49.140280Z",
     "start_time": "2024-07-08T16:54:49.107281Z"
    }
   },
   "cell_type": "code",
   "source": [
    "##_____________________Building the DeepLabV3+ model_______________________________\n",
    "def convolution_block(\n",
    "    block_input,\n",
    "    num_filters=256,\n",
    "    kernel_size=3,\n",
    "    dilation_rate=1,\n",
    "    use_bias=False,\n",
    "):\n",
    "    x = layers.Conv2D(\n",
    "        num_filters,\n",
    "        kernel_size=kernel_size,\n",
    "        dilation_rate=dilation_rate,\n",
    "        padding=\"same\",\n",
    "        use_bias=use_bias,\n",
    "        kernel_initializer=keras.initializers.HeNormal(),\n",
    "    )(block_input)\n",
    "    x = layers.BatchNormalization()(x)\n",
    "    return ops.nn.relu(x)\n",
    "\n",
    "\n",
    "def DilatedSpatialPyramidPooling(dspp_input):\n",
    "    dims = dspp_input.shape\n",
    "    x = layers.AveragePooling2D(pool_size=(dims[-3], dims[-2]))(dspp_input)\n",
    "    x = convolution_block(x, kernel_size=1, use_bias=True)\n",
    "    out_pool = layers.UpSampling2D(\n",
    "        size=(dims[-3] // x.shape[1], dims[-2] // x.shape[2]),\n",
    "        interpolation=\"bilinear\",\n",
    "    )(x)\n",
    "\n",
    "    out_1 = convolution_block(dspp_input, kernel_size=1, dilation_rate=1)\n",
    "    out_6 = convolution_block(dspp_input, kernel_size=3, dilation_rate=6)\n",
    "    out_12 = convolution_block(dspp_input, kernel_size=3, dilation_rate=12)\n",
    "    out_18 = convolution_block(dspp_input, kernel_size=3, dilation_rate=18)\n",
    "\n",
    "    x = layers.Concatenate(axis=-1)([out_pool, out_1, out_6, out_12, out_18])\n",
    "    output = convolution_block(x, kernel_size=1)\n",
    "    return output\n",
    "\n",
    "\n",
    "def DeeplabV3Plus(image_size, num_classes):\n",
    "    model_input = keras.Input(shape=(image_size, image_size, 3))\n",
    "    preprocessed = keras.applications.resnet50.preprocess_input(model_input)\n",
    "    resnet50 = keras.applications.ResNet50(\n",
    "        weights=\"imagenet\", include_top=False, input_tensor=preprocessed\n",
    "    )\n",
    "    x = resnet50.get_layer(\"conv4_block6_2_relu\").output\n",
    "    x = DilatedSpatialPyramidPooling(x)\n",
    "\n",
    "    input_a = layers.UpSampling2D(\n",
    "        size=(image_size // 4 // x.shape[1], image_size // 4 // x.shape[2]),\n",
    "        interpolation=\"bilinear\",\n",
    "    )(x)\n",
    "    input_b = resnet50.get_layer(\"conv2_block3_2_relu\").output\n",
    "    input_b = convolution_block(input_b, num_filters=48, kernel_size=1)\n",
    "\n",
    "    x = layers.Concatenate(axis=-1)([input_a, input_b])\n",
    "    x = convolution_block(x)\n",
    "    x = convolution_block(x)\n",
    "    x = layers.UpSampling2D(\n",
    "        size=(image_size // x.shape[1], image_size // x.shape[2]),\n",
    "        interpolation=\"bilinear\",\n",
    "    )(x)\n",
    "    model_output = layers.Conv2D(num_classes, kernel_size=(1, 1), padding=\"same\")(x)\n",
    "    return keras.Model(inputs=model_input, outputs=model_output)\n",
    "\n",
    "\n",
    "model = DeeplabV3Plus(image_size=IMAGE_SIZE, num_classes=NUM_CLASSES)\n",
    "model.summary()"
   ],
   "id": "6373219b127c29f8",
   "outputs": [
    {
     "ename": "AttributeError",
     "evalue": "module 'keras.applications' has no attribute 'resnet50'",
     "output_type": "error",
     "traceback": [
      "\u001B[1;31m---------------------------------------------------------------------------\u001B[0m",
      "\u001B[1;31mAttributeError\u001B[0m                            Traceback (most recent call last)",
      "Cell \u001B[1;32mIn[23], line 67\u001B[0m\n\u001B[0;32m     63\u001B[0m     model_output \u001B[38;5;241m=\u001B[39m layers\u001B[38;5;241m.\u001B[39mConv2D(num_classes, kernel_size\u001B[38;5;241m=\u001B[39m(\u001B[38;5;241m1\u001B[39m, \u001B[38;5;241m1\u001B[39m), padding\u001B[38;5;241m=\u001B[39m\u001B[38;5;124m\"\u001B[39m\u001B[38;5;124msame\u001B[39m\u001B[38;5;124m\"\u001B[39m)(x)\n\u001B[0;32m     64\u001B[0m     \u001B[38;5;28;01mreturn\u001B[39;00m keras\u001B[38;5;241m.\u001B[39mModel(inputs\u001B[38;5;241m=\u001B[39mmodel_input, outputs\u001B[38;5;241m=\u001B[39mmodel_output)\n\u001B[1;32m---> 67\u001B[0m model \u001B[38;5;241m=\u001B[39m \u001B[43mDeeplabV3Plus\u001B[49m\u001B[43m(\u001B[49m\u001B[43mimage_size\u001B[49m\u001B[38;5;241;43m=\u001B[39;49m\u001B[43mIMAGE_SIZE\u001B[49m\u001B[43m,\u001B[49m\u001B[43m \u001B[49m\u001B[43mnum_classes\u001B[49m\u001B[38;5;241;43m=\u001B[39;49m\u001B[43mNUM_CLASSES\u001B[49m\u001B[43m)\u001B[49m\n\u001B[0;32m     68\u001B[0m model\u001B[38;5;241m.\u001B[39msummary()\n",
      "Cell \u001B[1;32mIn[23], line 42\u001B[0m, in \u001B[0;36mDeeplabV3Plus\u001B[1;34m(image_size, num_classes)\u001B[0m\n\u001B[0;32m     40\u001B[0m \u001B[38;5;28;01mdef\u001B[39;00m \u001B[38;5;21mDeeplabV3Plus\u001B[39m(image_size, num_classes):\n\u001B[0;32m     41\u001B[0m     model_input \u001B[38;5;241m=\u001B[39m keras\u001B[38;5;241m.\u001B[39mInput(shape\u001B[38;5;241m=\u001B[39m(image_size, image_size, \u001B[38;5;241m3\u001B[39m))\n\u001B[1;32m---> 42\u001B[0m     preprocessed \u001B[38;5;241m=\u001B[39m \u001B[43mkeras\u001B[49m\u001B[38;5;241;43m.\u001B[39;49m\u001B[43mapplications\u001B[49m\u001B[38;5;241;43m.\u001B[39;49m\u001B[43mresnet50\u001B[49m\u001B[38;5;241m.\u001B[39mpreprocess_input(model_input)\n\u001B[0;32m     43\u001B[0m     resnet50 \u001B[38;5;241m=\u001B[39m keras\u001B[38;5;241m.\u001B[39mapplications\u001B[38;5;241m.\u001B[39mResNet50(\n\u001B[0;32m     44\u001B[0m         weights\u001B[38;5;241m=\u001B[39m\u001B[38;5;124m\"\u001B[39m\u001B[38;5;124mimagenet\u001B[39m\u001B[38;5;124m\"\u001B[39m, include_top\u001B[38;5;241m=\u001B[39m\u001B[38;5;28;01mFalse\u001B[39;00m, input_tensor\u001B[38;5;241m=\u001B[39mpreprocessed\n\u001B[0;32m     45\u001B[0m     )\n\u001B[0;32m     46\u001B[0m     x \u001B[38;5;241m=\u001B[39m resnet50\u001B[38;5;241m.\u001B[39mget_layer(\u001B[38;5;124m\"\u001B[39m\u001B[38;5;124mconv4_block6_2_relu\u001B[39m\u001B[38;5;124m\"\u001B[39m)\u001B[38;5;241m.\u001B[39moutput\n",
      "\u001B[1;31mAttributeError\u001B[0m: module 'keras.applications' has no attribute 'resnet50'"
     ]
    }
   ],
   "execution_count": 23
  },
  {
   "metadata": {},
   "cell_type": "code",
   "outputs": [],
   "execution_count": null,
   "source": "",
   "id": "fff9011a6a99f4a9"
  }
 ],
 "metadata": {
  "kernelspec": {
   "display_name": "Python 3",
   "language": "python",
   "name": "python3"
  },
  "language_info": {
   "codemirror_mode": {
    "name": "ipython",
    "version": 2
   },
   "file_extension": ".py",
   "mimetype": "text/x-python",
   "name": "python",
   "nbconvert_exporter": "python",
   "pygments_lexer": "ipython2",
   "version": "2.7.6"
  }
 },
 "nbformat": 4,
 "nbformat_minor": 5
}
