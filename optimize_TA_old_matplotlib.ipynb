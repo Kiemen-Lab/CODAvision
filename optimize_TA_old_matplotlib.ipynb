{
 "cells": [
  {
   "cell_type": "code",
   "execution_count": null,
   "metadata": {
    "collapsed": true
   },
   "outputs": [],
   "source": []
  },
  {
   "cell_type": "code",
   "execution_count": 18,
   "outputs": [],
   "source": [
    "import os\n",
    "import numpy as np\n",
    "import matplotlib.pyplot as plt\n",
    "from skimage import io, morphology, measure\n",
    "from skimage.filters import threshold_otsu\n",
    "from skimage.morphology import remove_small_objects"
   ],
   "metadata": {
    "collapsed": false,
    "ExecuteTime": {
     "end_time": "2024-04-03T21:28:01.359586500Z",
     "start_time": "2024-04-03T21:28:01.314585500Z"
    }
   }
  },
  {
   "cell_type": "code",
   "execution_count": 7,
   "outputs": [],
   "source": [
    "imnm = '2024-02-26 10.36.39'\n",
    "pth = r'\\\\10.99.68.52\\Kiemendata\\Valentina Matos\\LG HG PanIN project\\Jaime\\Python tests'"
   ],
   "metadata": {
    "collapsed": false,
    "ExecuteTime": {
     "end_time": "2024-04-03T21:23:10.184675700Z",
     "start_time": "2024-04-03T21:23:10.180675800Z"
    }
   }
  },
  {
   "cell_type": "code",
   "execution_count": 8,
   "outputs": [],
   "source": [
    "outpth = os.path.join(pth.rstrip('\\\\'), 'TA')"
   ],
   "metadata": {
    "collapsed": false,
    "ExecuteTime": {
     "end_time": "2024-04-03T21:23:10.676683700Z",
     "start_time": "2024-04-03T21:23:10.653677Z"
    }
   }
  },
  {
   "cell_type": "code",
   "execution_count": 10,
   "outputs": [],
   "source": [
    "try:\n",
    "    im0 = io.imread(os.path.join(pth, imnm + '.tif'))\n",
    "except:\n",
    "    print('a')"
   ],
   "metadata": {
    "collapsed": false,
    "ExecuteTime": {
     "end_time": "2024-04-03T21:23:20.193603300Z",
     "start_time": "2024-04-03T21:23:18.818782900Z"
    }
   }
  },
  {
   "cell_type": "code",
   "execution_count": 14,
   "outputs": [],
   "source": [
    "TA = im0[:, :, 1] < 210\n",
    "io.imsave(os.path.join(outpth, imnm + 'thres.tif'), TA.astype(np.uint8) * 255)"
   ],
   "metadata": {
    "collapsed": false,
    "ExecuteTime": {
     "end_time": "2024-04-03T21:24:13.113092800Z",
     "start_time": "2024-04-03T21:24:10.958036700Z"
    }
   }
  },
  {
   "cell_type": "code",
   "execution_count": 16,
   "outputs": [],
   "source": [
    "kernel_size = 3\n",
    "kernel = morphology.disk(kernel_size)\n",
    "TA = morphology.binary_closing(TA, kernel)\n",
    "\n",
    "# Save closed image\n",
    "io.imsave(os.path.join(outpth, imnm + 'close.tif'), TA.astype(np.uint8) * 255)"
   ],
   "metadata": {
    "collapsed": false,
    "ExecuteTime": {
     "end_time": "2024-04-03T21:24:21.236390100Z",
     "start_time": "2024-04-03T21:24:15.969244500Z"
    }
   }
  },
  {
   "cell_type": "code",
   "execution_count": 19,
   "outputs": [],
   "source": [
    "min_area = 4\n",
    "TA = remove_small_objects(TA, min_size=min_area)\n",
    "\n",
    "# Save final image\n",
    "io.imsave(os.path.join(outpth, imnm + '.tif'), TA.astype(np.uint8) * 255)"
   ],
   "metadata": {
    "collapsed": false,
    "ExecuteTime": {
     "end_time": "2024-04-03T21:28:26.638148500Z",
     "start_time": "2024-04-03T21:28:25.691831400Z"
    }
   }
  },
  {
   "cell_type": "code",
   "execution_count": null,
   "outputs": [],
   "source": [],
   "metadata": {
    "collapsed": false,
    "is_executing": true,
    "ExecuteTime": {
     "start_time": "2024-04-03T21:12:39.383535300Z"
    }
   }
  },
  {
   "cell_type": "code",
   "execution_count": null,
   "outputs": [],
   "source": [],
   "metadata": {
    "collapsed": false
   }
  }
 ],
 "metadata": {
  "kernelspec": {
   "display_name": "Python 3",
   "language": "python",
   "name": "python3"
  },
  "language_info": {
   "codemirror_mode": {
    "name": "ipython",
    "version": 2
   },
   "file_extension": ".py",
   "mimetype": "text/x-python",
   "name": "python",
   "nbconvert_exporter": "python",
   "pygments_lexer": "ipython2",
   "version": "2.7.6"
  }
 },
 "nbformat": 4,
 "nbformat_minor": 0
}
