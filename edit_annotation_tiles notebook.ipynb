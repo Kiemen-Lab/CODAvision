{
 "cells": [
  {
   "cell_type": "code",
   "id": "initial_id",
   "metadata": {
    "collapsed": true,
    "ExecuteTime": {
     "end_time": "2024-05-09T16:52:49.139623Z",
     "start_time": "2024-05-09T16:52:47.287939Z"
    }
   },
   "source": "%reset",
   "outputs": [],
   "execution_count": 14
  },
  {
   "metadata": {
    "ExecuteTime": {
     "end_time": "2024-05-09T18:11:52.418681Z",
     "start_time": "2024-05-09T18:11:52.406680Z"
    }
   },
   "cell_type": "code",
   "source": [
    "import numpy as np\n",
    "from skimage.morphology import disk, dilation\n",
    "from augment_annotation import augment_annotation\n",
    "from load_annotation_data import load_annotation_data\n",
    "import matplotlib.pyplot as plt\n",
    "import os"
   ],
   "id": "9325a1c32c952cc2",
   "outputs": [],
   "execution_count": 28
  },
  {
   "metadata": {
    "ExecuteTime": {
     "end_time": "2024-05-09T18:13:50.358238Z",
     "start_time": "2024-05-09T18:11:54.721885Z"
    }
   },
   "cell_type": "code",
   "source": [
    "# Pre - inputs\n",
    "pth = r'\\\\10.99.68.52\\Kiemendata\\Valentina Matos\\coda to python\\test model'\n",
    "pthDL = r'\\\\10.99.68.52\\Kiemendata\\Valentina Matos\\coda to python\\test model\\04_19_2024'\n",
    "pthim_ann = r'\\\\10.99.68.52\\Kiemendata\\Valentina Matos\\coda to python\\test model\\5x'\n",
    "classcheck = 0\n",
    "_, numann = load_annotation_data(pthDL, pth, pthim_ann,classcheck)\n",
    "\n",
    "pthlabel = r'\\\\10.99.68.52\\Kiemendata\\Valentina Matos\\coda to python\\test model\\data\\SG_014_0016\\04_19_2024_boundbox\\label'\n",
    "pthim = r'\\\\10.99.68.52\\Kiemendata\\Valentina Matos\\coda to python\\test model\\data\\SG_014_0016\\04_19_2024_boundbox\\im'\n",
    "imnm = '00276.tif'\n",
    "size_tile = 10200\n",
    "imT = np.zeros((size_tile, size_tile), dtype=np.uint8)\n",
    "pth = r'\\\\10.99.68.52\\Kiemendata\\Valentina Matos\\coda to python\\test model'\n"
   ],
   "id": "858228c0be22801b",
   "outputs": [
    {
     "name": "stdout",
     "output_type": "stream",
     "text": [
      " \n",
      "Importing annotation data...\n",
      "Image 1 of 2: SG_013_0061\n",
      " 1. of 4. Importing annotation data from xml file\n",
      "Creating file...\n",
      "  Existing TA loaded\n",
      " 2. of 4. Interpolating annotated regions and saving mask image\n",
      "4. of 4. Creating bounding box tiles of all annotations\n"
     ]
    },
    {
     "ename": "NameError",
     "evalue": "name 'data' is not defined",
     "output_type": "error",
     "traceback": [
      "\u001B[1;31m---------------------------------------------------------------------------\u001B[0m",
      "\u001B[1;31mNameError\u001B[0m                                 Traceback (most recent call last)",
      "Cell \u001B[1;32mIn[29], line 6\u001B[0m\n\u001B[0;32m      4\u001B[0m pthim_ann \u001B[38;5;241m=\u001B[39m \u001B[38;5;124mr\u001B[39m\u001B[38;5;124m'\u001B[39m\u001B[38;5;130;01m\\\\\u001B[39;00m\u001B[38;5;124m10.99.68.52\u001B[39m\u001B[38;5;124m\\\u001B[39m\u001B[38;5;124mKiemendata\u001B[39m\u001B[38;5;124m\\\u001B[39m\u001B[38;5;124mValentina Matos\u001B[39m\u001B[38;5;124m\\\u001B[39m\u001B[38;5;124mcoda to python\u001B[39m\u001B[38;5;124m\\\u001B[39m\u001B[38;5;124mtest model\u001B[39m\u001B[38;5;124m\\\u001B[39m\u001B[38;5;124m5x\u001B[39m\u001B[38;5;124m'\u001B[39m\n\u001B[0;32m      5\u001B[0m classcheck \u001B[38;5;241m=\u001B[39m \u001B[38;5;241m0\u001B[39m\n\u001B[1;32m----> 6\u001B[0m _, numann \u001B[38;5;241m=\u001B[39m \u001B[43mload_annotation_data\u001B[49m\u001B[43m(\u001B[49m\u001B[43mpthDL\u001B[49m\u001B[43m,\u001B[49m\u001B[43m \u001B[49m\u001B[43mpth\u001B[49m\u001B[43m,\u001B[49m\u001B[43m \u001B[49m\u001B[43mpthim_ann\u001B[49m\u001B[43m,\u001B[49m\u001B[43mclasscheck\u001B[49m\u001B[43m)\u001B[49m\n\u001B[0;32m      8\u001B[0m pthlabel \u001B[38;5;241m=\u001B[39m \u001B[38;5;124mr\u001B[39m\u001B[38;5;124m'\u001B[39m\u001B[38;5;130;01m\\\\\u001B[39;00m\u001B[38;5;124m10.99.68.52\u001B[39m\u001B[38;5;124m\\\u001B[39m\u001B[38;5;124mKiemendata\u001B[39m\u001B[38;5;124m\\\u001B[39m\u001B[38;5;124mValentina Matos\u001B[39m\u001B[38;5;124m\\\u001B[39m\u001B[38;5;124mcoda to python\u001B[39m\u001B[38;5;124m\\\u001B[39m\u001B[38;5;124mtest model\u001B[39m\u001B[38;5;124m\\\u001B[39m\u001B[38;5;124mdata\u001B[39m\u001B[38;5;124m\\\u001B[39m\u001B[38;5;124mSG_014_0016\u001B[39m\u001B[38;5;124m\\\u001B[39m\u001B[38;5;124m04_19_2024_boundbox\u001B[39m\u001B[38;5;124m\\\u001B[39m\u001B[38;5;124mlabel\u001B[39m\u001B[38;5;124m'\u001B[39m\n\u001B[0;32m      9\u001B[0m pthim \u001B[38;5;241m=\u001B[39m \u001B[38;5;124mr\u001B[39m\u001B[38;5;124m'\u001B[39m\u001B[38;5;130;01m\\\\\u001B[39;00m\u001B[38;5;124m10.99.68.52\u001B[39m\u001B[38;5;124m\\\u001B[39m\u001B[38;5;124mKiemendata\u001B[39m\u001B[38;5;124m\\\u001B[39m\u001B[38;5;124mValentina Matos\u001B[39m\u001B[38;5;124m\\\u001B[39m\u001B[38;5;124mcoda to python\u001B[39m\u001B[38;5;124m\\\u001B[39m\u001B[38;5;124mtest model\u001B[39m\u001B[38;5;124m\\\u001B[39m\u001B[38;5;124mdata\u001B[39m\u001B[38;5;124m\\\u001B[39m\u001B[38;5;124mSG_014_0016\u001B[39m\u001B[38;5;124m\\\u001B[39m\u001B[38;5;124m04_19_2024_boundbox\u001B[39m\u001B[38;5;124m\\\u001B[39m\u001B[38;5;124mim\u001B[39m\u001B[38;5;124m'\u001B[39m\n",
      "File \u001B[1;32m~\\PycharmProjects\\CODA_python\\load_annotation_data.py:136\u001B[0m, in \u001B[0;36mload_annotation_data\u001B[1;34m(pthDL, pth, pthim, classcheck)\u001B[0m\n\u001B[0;32m    133\u001B[0m io\u001B[38;5;241m.\u001B[39mimsave(os\u001B[38;5;241m.\u001B[39mpath\u001B[38;5;241m.\u001B[39mjoin(outim, \u001B[38;5;124mf\u001B[39m\u001B[38;5;124m'\u001B[39m\u001B[38;5;132;01m{\u001B[39;00mimnm\u001B[38;5;132;01m}\u001B[39;00m\u001B[38;5;124m.jpg\u001B[39m\u001B[38;5;124m'\u001B[39m), (I \u001B[38;5;241m*\u001B[39m \u001B[38;5;241m255\u001B[39m)\u001B[38;5;241m.\u001B[39mastype(np\u001B[38;5;241m.\u001B[39muint8))\n\u001B[0;32m    135\u001B[0m \u001B[38;5;66;03m# create annotation bounding boxes and update data to annotation.pkl file\u001B[39;00m\n\u001B[1;32m--> 136\u001B[0m numann, ctlist \u001B[38;5;241m=\u001B[39m \u001B[43msave_bounding_boxes\u001B[49m\u001B[43m(\u001B[49m\u001B[43mI0\u001B[49m\u001B[43m,\u001B[49m\u001B[43m \u001B[49m\u001B[43moutpth\u001B[49m\u001B[43m,\u001B[49m\u001B[43m \u001B[49m\u001B[43mnm\u001B[49m\u001B[43m,\u001B[49m\u001B[43m \u001B[49m\u001B[43mnumclass\u001B[49m\u001B[43m)\u001B[49m\n\u001B[0;32m    137\u001B[0m numann0\u001B[38;5;241m.\u001B[39mextend(numann)\n\u001B[0;32m    138\u001B[0m ctlist0\u001B[38;5;241m.\u001B[39mextend(ctlist)\n",
      "File \u001B[1;32m~\\PycharmProjects\\CODA_python\\save_bounding_boxes.py:93\u001B[0m, in \u001B[0;36msave_bounding_boxes\u001B[1;34m(I0, outpth, model_name, numclass)\u001B[0m\n\u001B[0;32m     91\u001B[0m \u001B[38;5;66;03m# Save data on .pkl file\u001B[39;00m\n\u001B[0;32m     92\u001B[0m \u001B[38;5;28;01mif\u001B[39;00m os\u001B[38;5;241m.\u001B[39mpath\u001B[38;5;241m.\u001B[39mjoin(outpth, \u001B[38;5;124m'\u001B[39m\u001B[38;5;124mannotations.pkl\u001B[39m\u001B[38;5;124m'\u001B[39m):\n\u001B[1;32m---> 93\u001B[0m         pickle\u001B[38;5;241m.\u001B[39mdump(\u001B[43mdata\u001B[49m, f)\n\u001B[0;32m     94\u001B[0m \u001B[38;5;28;01melse\u001B[39;00m:\n\u001B[0;32m     95\u001B[0m     \u001B[38;5;28;01mwith\u001B[39;00m \u001B[38;5;28mopen\u001B[39m(annotations_file, \u001B[38;5;124m'\u001B[39m\u001B[38;5;124mwb\u001B[39m\u001B[38;5;124m'\u001B[39m) \u001B[38;5;28;01mas\u001B[39;00m f:  \u001B[38;5;66;03m# save data to new file 'write binary mode'\u001B[39;00m\n",
      "\u001B[1;31mNameError\u001B[0m: name 'data' is not defined"
     ]
    }
   ],
   "execution_count": 29
  },
  {
   "metadata": {
    "ExecuteTime": {
     "end_time": "2024-05-09T16:45:51.360479Z",
     "start_time": "2024-05-09T16:45:51.306054Z"
    }
   },
   "cell_type": "code",
   "source": [
    "# ________inputs of the function\n",
    "im = np.array(plt.imread(os.path.join(pthim, imnm)), dtype=np.float64)\n",
    "TA = np.array(plt.imread(os.path.join(pthlabel, imnm)), dtype=np.float64)\n",
    "do_augmentation = True\n",
    "class_id = 1\n",
    "big_tile_size = imT.shape[0] \n",
    "print(f'big tile size: {big_tile_size}')\n",
    "Shape_numann = 11\n",
    "print(f'Shape Numann: {Shape_numann}')\n",
    "num_pixels_class = np.zeros(Shape_numann, dtype=np.int32)\n",
    "kpall = 1"
   ],
   "id": "66dae9e1b0efab01",
   "outputs": [
    {
     "name": "stdout",
     "output_type": "stream",
     "text": [
      "big tile size: 10200\n",
      "Shape Numann: 11\n"
     ]
    }
   ],
   "execution_count": 12
  },
  {
   "metadata": {
    "ExecuteTime": {
     "end_time": "2024-05-09T16:36:45.694182Z",
     "start_time": "2024-05-09T16:36:45.673424Z"
    }
   },
   "cell_type": "code",
   "source": [
    "\n",
    "if do_augmentation:\n",
    "    im, TA = augment_annotation(im, TA, 1, 1, 1, 1, 0)\n",
    "else:\n",
    "    im, TA = augment_annotation(im, TA, 1, 1, 0, 0, 0)\n",
    "\n",
    "if kpall == 0:\n",
    "    maxn = num_pixels_class[type]\n",
    "    kp = num_pixels_class <= maxn * 1.05\n",
    "else:\n",
    "    kp = num_pixels_class >= 0\n"
   ],
   "id": "a805ce4ef270d504",
   "outputs": [],
   "execution_count": 6
  },
  {
   "metadata": {
    "ExecuteTime": {
     "end_time": "2024-05-09T16:40:59.235899Z",
     "start_time": "2024-05-09T16:40:59.126901Z"
    }
   },
   "cell_type": "code",
   "source": [
    "plt.imshow(im)\n",
    "plt.show()"
   ],
   "id": "d12de070ba3d2c2b",
   "outputs": [
    {
     "name": "stderr",
     "output_type": "stream",
     "text": [
      "Clipping input data to the valid range for imshow with RGB data ([0..1] for floats or [0..255] for integers).\n"
     ]
    },
    {
     "data": {
      "text/plain": [
       "<Figure size 640x480 with 1 Axes>"
      ],
      "image/png": "[encoded data removed]"
     },
     "metadata": {},
     "output_type": "display_data"
    }
   ],
   "execution_count": 7
  },
  {
   "metadata": {},
   "cell_type": "code",
   "outputs": [],
   "execution_count": null,
   "source": [
    "\n",
    "kp = np.concatenate(([0], kp))\n",
    "\n",
    "tmp = kp[TA.astype(int) + 1] #one or the other\n",
    "# tmp = kp[(TA + 1).astype(bool)]\n",
    "\n",
    "dil = np.random.randint(15) + 15\n",
    "tmp = dilation(tmp, disk(dil))\n",
    "\n",
    "TA = TA * tmp\n",
    "im[tmp] *= tmp\n",
    "\n",
    "p1 = min([big_tile_size, TA.shape[0]])\n",
    "p2 = min([big_tile_size, TA.shape[1]])\n",
    "im = im[0:p1, 0:p2, :]\n",
    "TA = TA[0:p1, 0:p2]\n",
    "\n",
    "#return variables\n",
    "\n",
    "im = im.astype(np.uint8)\n",
    "TA = TA.astype(np.uint8)\n",
    "kpout = np.unique(TA)\n",
    "kpout = kpout[1:]\n"
   ],
   "id": "cedaf6f7550feb6e"
  }
 ],
 "metadata": {
  "kernelspec": {
   "display_name": "Python 3",
   "language": "python",
   "name": "python3"
  },
  "language_info": {
   "codemirror_mode": {
    "name": "ipython",
    "version": 2
   },
   "file_extension": ".py",
   "mimetype": "text/x-python",
   "name": "python",
   "nbconvert_exporter": "python",
   "pygments_lexer": "ipython2",
   "version": "2.7.6"
  }
 },
 "nbformat": 4,
 "nbformat_minor": 5
}
