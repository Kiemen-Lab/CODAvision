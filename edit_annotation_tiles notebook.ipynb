{
 "cells": [
  {
   "cell_type": "code",
   "id": "initial_id",
   "metadata": {
    "collapsed": true,
    "ExecuteTime": {
     "end_time": "2024-05-14T15:00:40.710510Z",
     "start_time": "2024-05-14T15:00:39.466608Z"
    }
   },
   "source": "%reset",
   "outputs": [],
   "execution_count": 75
  },
  {
   "metadata": {
    "ExecuteTime": {
     "end_time": "2024-05-14T15:04:03.033859Z",
     "start_time": "2024-05-14T15:04:01.986715Z"
    }
   },
   "cell_type": "code",
   "source": [
    "import numpy as np\n",
    "from skimage.morphology import disk, dilation\n",
    "from augment_annotation import augment_annotation\n",
    "from load_annotation_data import load_annotation_data\n",
    "import matplotlib.pyplot as plt\n",
    "import os"
   ],
   "id": "9325a1c32c952cc2",
   "outputs": [],
   "execution_count": 1
  },
  {
   "metadata": {
    "ExecuteTime": {
     "end_time": "2024-05-14T15:04:06.371865Z",
     "start_time": "2024-05-14T15:04:06.127865Z"
    }
   },
   "cell_type": "code",
   "source": [
    "# Pre - inputs\n",
    "pth = r'\\\\10.99.68.52\\Kiemendata\\Valentina Matos\\coda to python\\test model'\n",
    "pthDL = r'\\\\10.99.68.52\\Kiemendata\\Valentina Matos\\coda to python\\test model\\04_19_2024'\n",
    "pthim_ann = r'\\\\10.99.68.52\\Kiemendata\\Valentina Matos\\coda to python\\test model\\5x'\n",
    "classcheck = 0\n",
    "_, numann = load_annotation_data(pthDL, pth, pthim_ann,classcheck)\n",
    "\n",
    "pthlabel = r'\\\\10.99.68.52\\Kiemendata\\Valentina Matos\\coda to python\\test model\\data\\SG_014_0016\\04_19_2024_boundbox\\label'\n",
    "pthim = r'\\\\10.99.68.52\\Kiemendata\\Valentina Matos\\coda to python\\test model\\data\\SG_014_0016\\04_19_2024_boundbox\\im'\n",
    "imnm = '00226.tif' #image names/idx differ from the ones in matlab, as the tiles are created in a random order\n",
    "size_tile = 10200\n",
    "imT = np.zeros((size_tile, size_tile), dtype=np.uint8)\n",
    "pth = r'\\\\10.99.68.52\\Kiemendata\\Valentina Matos\\coda to python\\test model'"
   ],
   "id": "858228c0be22801b",
   "outputs": [
    {
     "name": "stdout",
     "output_type": "stream",
     "text": [
      " \n",
      "Importing annotation data...\n",
      "Image 1 of 2: SG_013_0061\n",
      " annotation data previously loaded\n",
      "Image 2 of 2: SG_014_0016\n",
      " annotation data previously loaded\n"
     ]
    }
   ],
   "execution_count": 2
  },
  {
   "metadata": {
    "ExecuteTime": {
     "end_time": "2024-05-14T15:04:07.759752Z",
     "start_time": "2024-05-14T15:04:07.735753Z"
    }
   },
   "cell_type": "code",
   "source": [
    "import pandas as pd\n",
    "numann_array = np.array(numann)\n",
    "df_numann = pd.DataFrame(numann_array)\n",
    "df_numann"
   ],
   "id": "e1fef08c70a6f428",
   "outputs": [
    {
     "data": {
      "text/plain": [
       "      0      1        2       3    4       5        6    7    8    9    10\n",
       "0    0.0    0.0  15178.0     0.0  0.0     0.0   5368.0  0.0  0.0  0.0  0.0\n",
       "1    0.0  300.0      0.0     0.0  0.0     0.0      0.0  0.0  0.0  0.0  0.0\n",
       "2    0.0    0.0      0.0     0.0  0.0     0.0  64118.0  0.0  0.0  0.0  0.0\n",
       "3    0.0  486.0      0.0     0.0  0.0  3314.0      0.0  0.0  0.0  0.0  0.0\n",
       "4    0.0    0.0      0.0  6114.0  0.0  1265.0      0.0  0.0  0.0  0.0  0.0\n",
       "..   ...    ...      ...     ...  ...     ...      ...  ...  ...  ...  ...\n",
       "298  0.0    0.0    881.0     0.0  0.0  3155.0    702.0  0.0  0.0  0.0  0.0\n",
       "299  0.0    0.0      0.0     0.0  0.0  3016.0      0.0  0.0  0.0  0.0  0.0\n",
       "300  0.0    0.0      0.0     0.0  0.0     0.0  58222.0  0.0  0.0  0.0  0.0\n",
       "301  0.0    0.0      0.0     0.0  0.0     0.0  40035.0  0.0  0.0  0.0  0.0\n",
       "302  0.0    0.0      0.0     0.0  0.0     0.0  19652.0  0.0  0.0  0.0  0.0\n",
       "\n",
       "[303 rows x 11 columns]"
      ],
      "text/html": [
       "<div>\n",
       "<style scoped>\n",
       "    .dataframe tbody tr th:only-of-type {\n",
       "        vertical-align: middle;\n",
       "    }\n",
       "\n",
       "    .dataframe tbody tr th {\n",
       "        vertical-align: top;\n",
       "    }\n",
       "\n",
       "    .dataframe thead th {\n",
       "        text-align: right;\n",
       "    }\n",
       "</style>\n",
       "<table border=\"1\" class=\"dataframe\">\n",
       "  <thead>\n",
       "    <tr style=\"text-align: right;\">\n",
       "      <th></th>\n",
       "      <th>0</th>\n",
       "      <th>1</th>\n",
       "      <th>2</th>\n",
       "      <th>3</th>\n",
       "      <th>4</th>\n",
       "      <th>5</th>\n",
       "      <th>6</th>\n",
       "      <th>7</th>\n",
       "      <th>8</th>\n",
       "      <th>9</th>\n",
       "      <th>10</th>\n",
       "    </tr>\n",
       "  </thead>\n",
       "  <tbody>\n",
       "    <tr>\n",
       "      <th>0</th>\n",
       "      <td>0.0</td>\n",
       "      <td>0.0</td>\n",
       "      <td>15178.0</td>\n",
       "      <td>0.0</td>\n",
       "      <td>0.0</td>\n",
       "      <td>0.0</td>\n",
       "      <td>5368.0</td>\n",
       "      <td>0.0</td>\n",
       "      <td>0.0</td>\n",
       "      <td>0.0</td>\n",
       "      <td>0.0</td>\n",
       "    </tr>\n",
       "    <tr>\n",
       "      <th>1</th>\n",
       "      <td>0.0</td>\n",
       "      <td>300.0</td>\n",
       "      <td>0.0</td>\n",
       "      <td>0.0</td>\n",
       "      <td>0.0</td>\n",
       "      <td>0.0</td>\n",
       "      <td>0.0</td>\n",
       "      <td>0.0</td>\n",
       "      <td>0.0</td>\n",
       "      <td>0.0</td>\n",
       "      <td>0.0</td>\n",
       "    </tr>\n",
       "    <tr>\n",
       "      <th>2</th>\n",
       "      <td>0.0</td>\n",
       "      <td>0.0</td>\n",
       "      <td>0.0</td>\n",
       "      <td>0.0</td>\n",
       "      <td>0.0</td>\n",
       "      <td>0.0</td>\n",
       "      <td>64118.0</td>\n",
       "      <td>0.0</td>\n",
       "      <td>0.0</td>\n",
       "      <td>0.0</td>\n",
       "      <td>0.0</td>\n",
       "    </tr>\n",
       "    <tr>\n",
       "      <th>3</th>\n",
       "      <td>0.0</td>\n",
       "      <td>486.0</td>\n",
       "      <td>0.0</td>\n",
       "      <td>0.0</td>\n",
       "      <td>0.0</td>\n",
       "      <td>3314.0</td>\n",
       "      <td>0.0</td>\n",
       "      <td>0.0</td>\n",
       "      <td>0.0</td>\n",
       "      <td>0.0</td>\n",
       "      <td>0.0</td>\n",
       "    </tr>\n",
       "    <tr>\n",
       "      <th>4</th>\n",
       "      <td>0.0</td>\n",
       "      <td>0.0</td>\n",
       "      <td>0.0</td>\n",
       "      <td>6114.0</td>\n",
       "      <td>0.0</td>\n",
       "      <td>1265.0</td>\n",
       "      <td>0.0</td>\n",
       "      <td>0.0</td>\n",
       "      <td>0.0</td>\n",
       "      <td>0.0</td>\n",
       "      <td>0.0</td>\n",
       "    </tr>\n",
       "    <tr>\n",
       "      <th>...</th>\n",
       "      <td>...</td>\n",
       "      <td>...</td>\n",
       "      <td>...</td>\n",
       "      <td>...</td>\n",
       "      <td>...</td>\n",
       "      <td>...</td>\n",
       "      <td>...</td>\n",
       "      <td>...</td>\n",
       "      <td>...</td>\n",
       "      <td>...</td>\n",
       "      <td>...</td>\n",
       "    </tr>\n",
       "    <tr>\n",
       "      <th>298</th>\n",
       "      <td>0.0</td>\n",
       "      <td>0.0</td>\n",
       "      <td>881.0</td>\n",
       "      <td>0.0</td>\n",
       "      <td>0.0</td>\n",
       "      <td>3155.0</td>\n",
       "      <td>702.0</td>\n",
       "      <td>0.0</td>\n",
       "      <td>0.0</td>\n",
       "      <td>0.0</td>\n",
       "      <td>0.0</td>\n",
       "    </tr>\n",
       "    <tr>\n",
       "      <th>299</th>\n",
       "      <td>0.0</td>\n",
       "      <td>0.0</td>\n",
       "      <td>0.0</td>\n",
       "      <td>0.0</td>\n",
       "      <td>0.0</td>\n",
       "      <td>3016.0</td>\n",
       "      <td>0.0</td>\n",
       "      <td>0.0</td>\n",
       "      <td>0.0</td>\n",
       "      <td>0.0</td>\n",
       "      <td>0.0</td>\n",
       "    </tr>\n",
       "    <tr>\n",
       "      <th>300</th>\n",
       "      <td>0.0</td>\n",
       "      <td>0.0</td>\n",
       "      <td>0.0</td>\n",
       "      <td>0.0</td>\n",
       "      <td>0.0</td>\n",
       "      <td>0.0</td>\n",
       "      <td>58222.0</td>\n",
       "      <td>0.0</td>\n",
       "      <td>0.0</td>\n",
       "      <td>0.0</td>\n",
       "      <td>0.0</td>\n",
       "    </tr>\n",
       "    <tr>\n",
       "      <th>301</th>\n",
       "      <td>0.0</td>\n",
       "      <td>0.0</td>\n",
       "      <td>0.0</td>\n",
       "      <td>0.0</td>\n",
       "      <td>0.0</td>\n",
       "      <td>0.0</td>\n",
       "      <td>40035.0</td>\n",
       "      <td>0.0</td>\n",
       "      <td>0.0</td>\n",
       "      <td>0.0</td>\n",
       "      <td>0.0</td>\n",
       "    </tr>\n",
       "    <tr>\n",
       "      <th>302</th>\n",
       "      <td>0.0</td>\n",
       "      <td>0.0</td>\n",
       "      <td>0.0</td>\n",
       "      <td>0.0</td>\n",
       "      <td>0.0</td>\n",
       "      <td>0.0</td>\n",
       "      <td>19652.0</td>\n",
       "      <td>0.0</td>\n",
       "      <td>0.0</td>\n",
       "      <td>0.0</td>\n",
       "      <td>0.0</td>\n",
       "    </tr>\n",
       "  </tbody>\n",
       "</table>\n",
       "<p>303 rows × 11 columns</p>\n",
       "</div>"
      ]
     },
     "execution_count": 3,
     "metadata": {},
     "output_type": "execute_result"
    }
   ],
   "execution_count": 3
  },
  {
   "metadata": {
    "ExecuteTime": {
     "end_time": "2024-05-14T15:04:09.048776Z",
     "start_time": "2024-05-14T15:04:08.970776Z"
    }
   },
   "cell_type": "code",
   "source": [
    "# ________inputs of the function________\n",
    "im = np.array(plt.imread(os.path.join(pthim, imnm)), dtype=np.float64)\n",
    "print(f'im: {os.path.join(pthim, imnm)}')\n",
    "TA = np.array(plt.imread(os.path.join(pthlabel, imnm)), dtype=np.float64)\n",
    "print(f'TA: {os.path.join(pthlabel, imnm)}')\n",
    "do_augmentation = True\n",
    "class_id = 1\n",
    "big_tile_size = imT.shape[0] \n",
    "print(f'big tile size: {big_tile_size}')\n",
    "Shape_numann = 11\n",
    "print(f'Shape Numann: {Shape_numann}')\n",
    "num_pixels_class = np.zeros(Shape_numann, dtype=np.int32)\n",
    "print(f'num_pixels_class: {num_pixels_class}')\n",
    "kpall = 1"
   ],
   "id": "66dae9e1b0efab01",
   "outputs": [
    {
     "name": "stdout",
     "output_type": "stream",
     "text": [
      "im: \\\\10.99.68.52\\Kiemendata\\Valentina Matos\\coda to python\\test model\\data\\SG_014_0016\\04_19_2024_boundbox\\im\\00226.tif\n",
      "TA: \\\\10.99.68.52\\Kiemendata\\Valentina Matos\\coda to python\\test model\\data\\SG_014_0016\\04_19_2024_boundbox\\label\\00226.tif\n",
      "big tile size: 10200\n",
      "Shape Numann: 11\n",
      "num_pixels_class: [0 0 0 0 0 0 0 0 0 0 0]\n"
     ]
    }
   ],
   "execution_count": 4
  },
  {
   "metadata": {
    "ExecuteTime": {
     "end_time": "2024-05-14T15:04:10.026039Z",
     "start_time": "2024-05-14T15:04:09.908039Z"
    }
   },
   "cell_type": "code",
   "source": [
    "print(f'Type TA:{type(TA)}')\n",
    "print(f'Shape TA: {TA.shape}')\n",
    "labels = np.unique(TA)\n",
    "labels = labels[1:].astype(int)\n",
    "print(f'labels: {labels}')\n",
    "plt.imshow(TA)\n",
    "plt.title(imnm)\n",
    "plt.show()\n"
   ],
   "id": "2c6222da4f8b8ba8",
   "outputs": [
    {
     "name": "stdout",
     "output_type": "stream",
     "text": [
      "Type TA:<class 'numpy.ndarray'>\n",
      "Shape TA: (147, 102)\n",
      "labels: [1 5 6 7]\n"
     ]
    },
    {
     "data": {
      "text/plain": [
       "<Figure size 640x480 with 1 Axes>"
      ],
      "image/png": "[encoded data removed]"
     },
     "metadata": {},
     "output_type": "display_data"
    }
   ],
   "execution_count": 5
  },
  {
   "metadata": {
    "ExecuteTime": {
     "end_time": "2024-05-14T15:04:10.739039Z",
     "start_time": "2024-05-14T15:04:10.730039Z"
    }
   },
   "cell_type": "code",
   "source": [
    "if do_augmentation:\n",
    "    im, TA = augment_annotation(im, TA, 1, 1, 1, 1, 0)\n",
    "else:\n",
    "    im, TA = augment_annotation(im, TA, 1, 1, 0, 0, 0)\n",
    "\n",
    "if kpall == 0:\n",
    "    maxn = num_pixels_class[type]\n",
    "    kp = num_pixels_class <= maxn * 1.05\n",
    "else:\n",
    "    kp = num_pixels_class >= 0\n"
   ],
   "id": "a805ce4ef270d504",
   "outputs": [],
   "execution_count": 6
  },
  {
   "metadata": {
    "ExecuteTime": {
     "end_time": "2024-05-14T15:04:13.080764Z",
     "start_time": "2024-05-14T15:04:13.000753Z"
    }
   },
   "cell_type": "code",
   "source": [
    "# Tina's BS\n",
    "print(f'Type TA:{type(TA)}')\n",
    "print(f'Shape TA: {TA.shape}')\n",
    "labels = np.unique(TA)\n",
    "labels = labels[1:].astype(int)\n",
    "print(f'labels: {labels}')\n",
    "plt.imshow(TA)\n",
    "plt.title(imnm + ' after augmentation')\n",
    "plt.show()"
   ],
   "id": "d12de070ba3d2c2b",
   "outputs": [
    {
     "name": "stdout",
     "output_type": "stream",
     "text": [
      "Type TA:<class 'numpy.ndarray'>\n",
      "Shape TA: (93, 64)\n",
      "labels: [1 5 6 7]\n"
     ]
    },
    {
     "data": {
      "text/plain": [
       "<Figure size 640x480 with 1 Axes>"
      ],
      "image/png": "[encoded data removed]"
     },
     "metadata": {},
     "output_type": "display_data"
    }
   ],
   "execution_count": 7
  },
  {
   "metadata": {
    "ExecuteTime": {
     "end_time": "2024-05-14T15:07:05.075377Z",
     "start_time": "2024-05-14T15:07:05.069378Z"
    }
   },
   "cell_type": "code",
   "source": [
    "kp = np.concatenate(([0], kp))\n",
    "tmp = kp[TA.astype(int)] "
   ],
   "id": "cedaf6f7550feb6e",
   "outputs": [],
   "execution_count": 8
  },
  {
   "metadata": {
    "ExecuteTime": {
     "end_time": "2024-05-14T15:07:06.490336Z",
     "start_time": "2024-05-14T15:07:06.405328Z"
    }
   },
   "cell_type": "code",
   "source": [
    "#Tina's BS\n",
    "plt.imshow(tmp)\n",
    "plt.title('tmp')\n",
    "plt.show()"
   ],
   "id": "c3be27fac45d007a",
   "outputs": [
    {
     "data": {
      "text/plain": [
       "<Figure size 640x480 with 1 Axes>"
      ],
      "image/png": "[encoded data removed]"
     },
     "metadata": {},
     "output_type": "display_data"
    }
   ],
   "execution_count": 9
  },
  {
   "metadata": {
    "ExecuteTime": {
     "end_time": "2024-05-14T15:07:44.817171Z",
     "start_time": "2024-05-14T15:07:44.806170Z"
    }
   },
   "cell_type": "code",
   "source": [
    "dil = np.random.randint(15) + 15\n",
    "print(f'dil: {dil}')"
   ],
   "id": "d9cb1fcbb3918bf7",
   "outputs": [
    {
     "name": "stdout",
     "output_type": "stream",
     "text": [
      "dil: 24\n"
     ]
    }
   ],
   "execution_count": 10
  },
  {
   "metadata": {
    "ExecuteTime": {
     "end_time": "2024-05-14T15:07:45.768647Z",
     "start_time": "2024-05-14T15:07:45.649630Z"
    }
   },
   "cell_type": "code",
   "source": [
    "tmp = dilation(tmp, disk(dil))\n",
    "#Tina's BS\n",
    "plt.imshow(tmp)\n",
    "plt.title('tmp after dilation')\n",
    "plt.show()"
   ],
   "id": "9b9f2fd67dcf9ac4",
   "outputs": [
    {
     "data": {
      "text/plain": [
       "<Figure size 640x480 with 1 Axes>"
      ],
      "image/png": "[encoded data removed]"
     },
     "metadata": {},
     "output_type": "display_data"
    }
   ],
   "execution_count": 11
  },
  {
   "metadata": {
    "ExecuteTime": {
     "end_time": "2024-05-14T15:08:02.162907Z",
     "start_time": "2024-05-14T15:08:02.071909Z"
    }
   },
   "cell_type": "code",
   "source": [
    "TA = TA * tmp\n",
    "for i in range(im.shape[2]):\n",
    "    im[:,:,i] *= tmp\n",
    "#Tina's BS\n",
    "plt.imshow(TA)\n",
    "plt.title('TA after weird thing with kp')\n",
    "plt.show()"
   ],
   "id": "5ab6eb8c3d90fd42",
   "outputs": [
    {
     "data": {
      "text/plain": [
       "<Figure size 640x480 with 1 Axes>"
      ],
      "image/png": "[encoded data removed]"
     },
     "metadata": {},
     "output_type": "display_data"
    }
   ],
   "execution_count": 12
  },
  {
   "metadata": {
    "ExecuteTime": {
     "end_time": "2024-05-14T15:08:13.501573Z",
     "start_time": "2024-05-14T15:08:13.488573Z"
    }
   },
   "cell_type": "code",
   "source": [
    "p1 = min([big_tile_size, TA.shape[0]])\n",
    "p2 = min([big_tile_size, TA.shape[1]])"
   ],
   "id": "f41332e5cf0ab205",
   "outputs": [],
   "execution_count": 13
  },
  {
   "metadata": {
    "ExecuteTime": {
     "end_time": "2024-05-14T15:10:09.238758Z",
     "start_time": "2024-05-14T15:10:09.218758Z"
    }
   },
   "cell_type": "code",
   "source": [
    "# Crop both the image and the label mask to the specified dimensions (p1, p2)\n",
    "im = im[0:p1, 0:p2, :]\n",
    "TA = TA[0:p1, 0:p2]"
   ],
   "id": "6d00fac009018302",
   "outputs": [],
   "execution_count": 14
  },
  {
   "metadata": {
    "ExecuteTime": {
     "end_time": "2024-05-14T15:10:11.059532Z",
     "start_time": "2024-05-14T15:10:11.042532Z"
    }
   },
   "cell_type": "code",
   "source": [
    "\n",
    "#return variables\n",
    "im = im.astype(np.uint8)\n",
    "TA = TA.astype(np.uint8)\n",
    "\n",
    "kpout = np.unique(TA)\n",
    "kpout = kpout[1:]"
   ],
   "id": "a32d93e664f8233f",
   "outputs": [],
   "execution_count": 15
  },
  {
   "metadata": {
    "ExecuteTime": {
     "end_time": "2024-05-14T15:10:53.278495Z",
     "start_time": "2024-05-14T15:10:53.208496Z"
    }
   },
   "cell_type": "code",
   "source": "plt.imshow(im)",
   "id": "def9358c77f7e3dd",
   "outputs": [
    {
     "data": {
      "text/plain": [
       "<matplotlib.image.AxesImage at 0x169193269d0>"
      ]
     },
     "execution_count": 17,
     "metadata": {},
     "output_type": "execute_result"
    },
    {
     "data": {
      "text/plain": [
       "<Figure size 640x480 with 1 Axes>"
      ],
      "image/png": "[encoded data removed]"
     },
     "metadata": {},
     "output_type": "display_data"
    }
   ],
   "execution_count": 17
  },
  {
   "metadata": {},
   "cell_type": "code",
   "outputs": [],
   "execution_count": null,
   "source": "",
   "id": "f96f8903188c523e"
  }
 ],
 "metadata": {
  "kernelspec": {
   "display_name": "Python 3",
   "language": "python",
   "name": "python3"
  },
  "language_info": {
   "codemirror_mode": {
    "name": "ipython",
    "version": 2
   },
   "file_extension": ".py",
   "mimetype": "text/x-python",
   "name": "python",
   "nbconvert_exporter": "python",
   "pygments_lexer": "ipython2",
   "version": "2.7.6"
  }
 },
 "nbformat": 4,
 "nbformat_minor": 5
}
