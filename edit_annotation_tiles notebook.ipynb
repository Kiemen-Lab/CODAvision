{
 "cells": [
  {
   "cell_type": "code",
   "id": "initial_id",
   "metadata": {
    "collapsed": true,
    "ExecuteTime": {
     "end_time": "2024-05-08T22:17:11.520254Z",
     "start_time": "2024-05-08T22:17:10.620255Z"
    }
   },
   "source": [
    "import numpy as np\n",
    "from skimage.morphology import disk, dilation\n",
    "from augment_annotation import augment_annotation\n",
    "from load_annotation_data import load_annotation_data\n",
    "import matplotlib.pyplot as plt\n",
    "import os"
   ],
   "outputs": [],
   "execution_count": 1
  },
  {
   "metadata": {
    "ExecuteTime": {
     "end_time": "2024-05-08T22:20:27.876639Z",
     "start_time": "2024-05-08T22:20:27.579736Z"
    }
   },
   "cell_type": "code",
   "source": [
    "# inputs\n",
    "pth = r'\\\\10.99.68.52\\Kiemendata\\Valentina Matos\\coda to python\\test model'\n",
    "pthDL = r'\\\\10.99.68.52\\Kiemendata\\Valentina Matos\\coda to python\\test model\\04_19_2024'\n",
    "pthim_ann = r'\\\\10.99.68.52\\Kiemendata\\Valentina Matos\\coda to python\\test model\\5x'\n",
    "classcheck = 0\n",
    "_, numann = load_annotation_data(pthDL, pth, pthim_ann,classcheck)\n",
    "\n",
    "pthlabel = r'\\\\10.99.68.52\\Kiemendata\\Valentina Matos\\coda to python\\test model\\data\\SG_014_0016\\04_19_2024_boundbox\\label'\n",
    "pthim = r'\\\\10.99.68.52\\Kiemendata\\Valentina Matos\\coda to python\\test model\\data\\SG_014_0016\\04_19_2024_boundbox\\im'\n",
    "imnm = '00276.tif'\n",
    "size_tile = 10200\n",
    "imT = np.zeros((size_tile, size_tile), dtype=np.uint8)\n",
    "pth = r'\\\\10.99.68.52\\Kiemendata\\Valentina Matos\\coda to python\\test model'\n",
    "\n",
    "# ________inputs of the function\n",
    "im = np.array(plt.imread(os.path.join(pthim, imnm)), dtype=np.float64)\n",
    "TA = np.array(plt.imread(os.path.join(pthlabel, imnm)), dtype=np.float64)\n",
    "do_augmentation = True\n",
    "class_id = 1\n",
    "big_tile_size = imT.shape[0] \n",
    "num_pixels_class = np.zeros(np.array(numann).shape[1], dtype=np.int32)\n",
    "kpall = 1"
   ],
   "id": "858228c0be22801b",
   "outputs": [
    {
     "name": "stdout",
     "output_type": "stream",
     "text": [
      " \n",
      "Importing annotation data...\n",
      "Image 1 of 2: SG_013_0061\n",
      " annotation data previously loaded\n",
      "Image 2 of 2: SG_014_0016\n",
      " annotation data previously loaded\n"
     ]
    }
   ],
   "execution_count": 3
  },
  {
   "metadata": {
    "ExecuteTime": {
     "end_time": "2024-05-08T22:42:11.667233Z",
     "start_time": "2024-05-08T22:42:11.604235Z"
    }
   },
   "cell_type": "code",
   "source": [
    "#Debug this with matlab\n",
    "\n",
    "if do_augmentation:\n",
    "    im, TA = augment_annotation(im, TA, 1, 1, 1, 1, 0)\n",
    "else:\n",
    "    im, TA = augment_annotation(im, TA, 1, 1, 0, 0, 0)\n",
    "\n",
    "if kpall == 0:\n",
    "    maxn = num_pixels_class[type]\n",
    "    kp = num_pixels_class <= maxn * 1.05\n",
    "else:\n",
    "    kp = num_pixels_class >= 0\n",
    "\n",
    "kp = np.concatenate(([0], kp))\n",
    "\n",
    "tmp = kp[TA.astype(int) + 1] #one or the other\n",
    "# tmp = kp[(TA + 1).astype(bool)]\n",
    "\n",
    "dil = np.random.randint(15) + 15\n",
    "tmp = dilation(tmp, disk(dil))\n",
    "\n",
    "TA = TA * tmp\n",
    "im[tmp] *= tmp\n",
    "\n",
    "p1 = min([big_tile_size, TA.shape[0]])\n",
    "p2 = min([big_tile_size, TA.shape[1]])\n",
    "im = im[0:p1, 0:p2, :]\n",
    "TA = TA[0:p1, 0:p2]\n",
    "\n",
    "#return variables\n",
    "\n",
    "im = im.astype(np.uint8)\n",
    "TA = TA.astype(np.uint8)\n",
    "kpout = np.unique(TA)\n",
    "kpout = kpout[1:]\n"
   ],
   "id": "a805ce4ef270d504",
   "outputs": [
    {
     "ename": "ValueError",
     "evalue": "operands could not be broadcast together with shapes (29,60,60,3) (29,60) (29,60,60,3) ",
     "output_type": "error",
     "traceback": [
      "\u001B[1;31m---------------------------------------------------------------------------\u001B[0m",
      "\u001B[1;31mValueError\u001B[0m                                Traceback (most recent call last)",
      "Cell \u001B[1;32mIn[11], line 21\u001B[0m\n\u001B[0;32m     18\u001B[0m tmp \u001B[38;5;241m=\u001B[39m dilation(tmp, disk(dil))\n\u001B[0;32m     20\u001B[0m TA \u001B[38;5;241m=\u001B[39m TA \u001B[38;5;241m*\u001B[39m tmp\n\u001B[1;32m---> 21\u001B[0m im[tmp] \u001B[38;5;241m*\u001B[39m\u001B[38;5;241m=\u001B[39m tmp\n\u001B[0;32m     23\u001B[0m p1 \u001B[38;5;241m=\u001B[39m \u001B[38;5;28mmin\u001B[39m([big_tile_size, TA\u001B[38;5;241m.\u001B[39mshape[\u001B[38;5;241m0\u001B[39m]])\n\u001B[0;32m     24\u001B[0m p2 \u001B[38;5;241m=\u001B[39m \u001B[38;5;28mmin\u001B[39m([big_tile_size, TA\u001B[38;5;241m.\u001B[39mshape[\u001B[38;5;241m1\u001B[39m]])\n",
      "\u001B[1;31mValueError\u001B[0m: operands could not be broadcast together with shapes (29,60,60,3) (29,60) (29,60,60,3) "
     ]
    }
   ],
   "execution_count": 11
  }
 ],
 "metadata": {
  "kernelspec": {
   "display_name": "Python 3",
   "language": "python",
   "name": "python3"
  },
  "language_info": {
   "codemirror_mode": {
    "name": "ipython",
    "version": 2
   },
   "file_extension": ".py",
   "mimetype": "text/x-python",
   "name": "python",
   "nbconvert_exporter": "python",
   "pygments_lexer": "ipython2",
   "version": "2.7.6"
  }
 },
 "nbformat": 4,
 "nbformat_minor": 5
}
