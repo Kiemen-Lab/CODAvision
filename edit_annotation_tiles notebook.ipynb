{
 "cells": [
  {
   "cell_type": "code",
   "execution_count": null,
   "id": "initial_id",
   "metadata": {
    "collapsed": true
   },
   "outputs": [],
   "source": [
    "import numpy as np\n",
    "from skimage.morphology import disk, dilation\n",
    "from augment_annotation import augment_annotation\n",
    "import matplotlib.pyplot as plt\n",
    "import os"
   ]
  },
  {
   "metadata": {},
   "cell_type": "code",
   "outputs": [],
   "execution_count": null,
   "source": [
    "# inputs\n",
    "\n",
    "pthlabel = r'\\\\10.99.68.52\\Kiemendata\\Valentina Matos\\coda to python\\test model\\data\\SG_014_0016\\04_19_2024_boundbox\\label'\n",
    "pthim = r'\\\\10.99.68.52\\Kiemendata\\Valentina Matos\\coda to python\\test model\\data\\SG_014_0016\\04_19_2024_boundbox\\im'\n",
    "imnm = '00276.tif'\n",
    "size_tile = 10200\n",
    "imT = np.zeros((size_tile, size_tile), dtype=np.uint8)\n",
    "\n",
    "# ________inputs of the function\n",
    "im = np.array(plt.imread(os.path.join(pthim, imnm)), dtype=np.float64)\n",
    "TA = np.array(plt.imread(os.path.join(pthlabel, imnm)), dtype=np.float64)\n",
    "do_augmentation = True\n",
    "class_id = 1\n",
    "big_tile_size = imT.shape[0] \n",
    "num_pixels_class = np.zeros(numann.shape[1], dtype=np.int32)\n",
    "kpall = 1"
   ],
   "id": "858228c0be22801b"
  },
  {
   "metadata": {},
   "cell_type": "code",
   "outputs": [],
   "execution_count": null,
   "source": [
    "if do_augmentation:\n",
    "    im, TA = augment_annotation(im, TA, 1, 1, 1, 1, 0)\n",
    "else:\n",
    "    im, TA = augment_annotation(im, TA, 1, 1, 0, 0, 0)\n",
    "\n",
    "if kpall == 0:\n",
    "    maxn = num_pixels_class[type]\n",
    "    kp = num_pixels_class <= maxn * 1.05\n",
    "else:\n",
    "    kp = num_pixels_class >= 0\n",
    "\n",
    "\n",
    "kp = np.concatenate(([0], kp))\n",
    "tmp = kp[TA + 1]\n",
    "dil = np.random.randint(15) + 15\n",
    "tmp = dilation(tmp, disk(dil))\n",
    "TA = TA * tmp\n",
    "im = im * tmp\n",
    "\n",
    "kpout = np.unique(TA)\n",
    "kpout = kpout[1:]\n",
    "\n",
    "p1 = min([big_tile_size, TA.shape[0]])\n",
    "p2 = min([big_tile_size, TA.shape[1]])\n",
    "im = im[0:p1, 0:p2, :]\n",
    "TA = TA[0:p1, 0:p2]\n",
    "\n",
    "im = im.astype(np.uint8)\n",
    "TA = TA.astype(np.uint8)\n",
    "\n"
   ],
   "id": "a805ce4ef270d504"
  }
 ],
 "metadata": {
  "kernelspec": {
   "display_name": "Python 3",
   "language": "python",
   "name": "python3"
  },
  "language_info": {
   "codemirror_mode": {
    "name": "ipython",
    "version": 2
   },
   "file_extension": ".py",
   "mimetype": "text/x-python",
   "name": "python",
   "nbconvert_exporter": "python",
   "pygments_lexer": "ipython2",
   "version": "2.7.6"
  }
 },
 "nbformat": 4,
 "nbformat_minor": 5
}
