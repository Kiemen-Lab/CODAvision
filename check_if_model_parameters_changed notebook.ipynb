{
 "cells": [
  {
   "cell_type": "code",
   "id": "initial_id",
   "metadata": {
    "collapsed": true,
    "ExecuteTime": {
     "end_time": "2024-04-19T14:03:28.946785Z",
     "start_time": "2024-04-19T14:03:28.930783Z"
    }
   },
   "source": [
    "import os\n",
    "import scipy.io as sio\n",
    "import os\n",
    "import pickle\n",
    "import numpy as np\n",
    "import save_model_metadata"
   ],
   "outputs": [],
   "execution_count": 6
  },
  {
   "metadata": {
    "ExecuteTime": {
     "end_time": "2024-04-19T14:09:58.880229Z",
     "start_time": "2024-04-19T14:09:58.834968Z"
    }
   },
   "cell_type": "code",
   "source": [
    "\n",
    "# Load data from pickle file (example):\n",
    "datafile = r'\\\\10.99.68.52\\Kiemendata\\Valentina Matos\\coda to python\\variables\\net.pkl'\n",
    "\n",
    "with open(datafile, 'rb') as f:\n",
    "    data = pickle.load(f)\n",
    "\n",
    "WS = data['WS']\n",
    "cmap = data['cmap']\n",
    "classnames = data['classNames']\n",
    "nm = data['nm']\n",
    "umpix = data['umpix']\n",
    "nwhite = data['nwhite']\n",
    "pthim = data['pthim']\n",
    "\n",
    "print(f'WS: {WS}')\n",
    "print(f'classnames: {classnames}')\n",
    "print(f'Cmap: {cmap}')\n",
    "print(f'Umpix: {umpix}')\n",
    "print(f'Nwhite: {nwhite}')\n",
    "print(f'Pthim: {pthim}')\n"
   ],
   "id": "6ab77e8b2e1ea080",
   "outputs": [
    {
     "name": "stdout",
     "output_type": "stream",
     "text": [
      "WS: [[0, 0, 0, 0, 0, 2, 0], [6, 6], [1, 2, 3, 1, 4, 5, 3], [7, 2, 3, 1, 6], 4]\n",
      "classnames: ['bronchioles', 'alveoli', 'smooth_operator', 'test', 'whitespace', 'black']\n",
      "Cmap: [[  0 255   0]\n",
      " [255 255   0]\n",
      " [255 128   0]\n",
      " [  0   0 255]\n",
      " [  0   0   0]]\n",
      "Umpix: 2\n",
      "Nwhite: 5\n",
      "Pthim: \\\\10.99.68.52\\Kiemendata\\Valentina Matos\\LG HG PanIN project\\Jaime\\Test Dashboard\\5x\n"
     ]
    }
   ],
   "execution_count": 7
  },
  {
   "metadata": {
    "ExecuteTime": {
     "end_time": "2024-04-19T14:27:06.398364Z",
     "start_time": "2024-04-19T14:27:06.394372Z"
    }
   },
   "cell_type": "code",
   "source": [
    "# Change paraters\n",
    "umpix = 3"
   ],
   "id": "84279d7677934e5e",
   "outputs": [],
   "execution_count": 9
  },
  {
   "metadata": {
    "ExecuteTime": {
     "end_time": "2024-04-19T14:28:24.209383Z",
     "start_time": "2024-04-19T14:28:24.181384Z"
    }
   },
   "cell_type": "code",
   "source": [
    "# Initialize the variable to indicate if XML reload is needed\n",
    "reload_xml = 0\n",
    "\n",
    "# Check if the pickle file exists\n",
    "if not os.path.exists(datafile):\n",
    "    reload_xml = 0\n",
    "else:\n",
    "    # Load data from the pickle file\n",
    "    with open(datafile, 'rb') as f:\n",
    "        data = pickle.load(f)\n",
    "\n",
    "    # Check if variables exist in the loaded data\n",
    "    if not all(key in data for key in ['WS', 'umpix', 'nwhite', 'pthim']):\n",
    "        print('WS, umpix, nwhite, or pthim are missing in the pickle file. Reload the XML file to add them.')\n",
    "        reload_xml = 1\n",
    "    else:\n",
    "        # Check if any variables have changed compared to the existing ones\n",
    "        if data['WS'] != WS:\n",
    "            print('Reload annotation data with updated WS.')\n",
    "            reload_xml = 1\n",
    "        if data['umpix'] != umpix:\n",
    "            print('Reload annotation data with updated umpix.')\n",
    "            reload_xml = 1\n",
    "        if data['nwhite'] != nwhite:\n",
    "            print('Reload annotation data with updated nwhite.')\n",
    "            reload_xml = 1\n",
    "        if data['pthim'] != pthim:\n",
    "            print('Reload annotation data with updated pthim.')\n",
    "            reload_xml = 1\n",
    "            "
   ],
   "id": "591270252e4d2ef6",
   "outputs": [
    {
     "name": "stdout",
     "output_type": "stream",
     "text": [
      "Reload annotation data with updated umpix.\n"
     ]
    }
   ],
   "execution_count": 11
  },
  {
   "metadata": {},
   "cell_type": "code",
   "outputs": [],
   "execution_count": null,
   "source": "",
   "id": "e63a0979760a0e67"
  }
 ],
 "metadata": {
  "kernelspec": {
   "display_name": "Python 3",
   "language": "python",
   "name": "python3"
  },
  "language_info": {
   "codemirror_mode": {
    "name": "ipython",
    "version": 2
   },
   "file_extension": ".py",
   "mimetype": "text/x-python",
   "name": "python",
   "nbconvert_exporter": "python",
   "pygments_lexer": "ipython2",
   "version": "2.7.6"
  }
 },
 "nbformat": 4,
 "nbformat_minor": 5
}
