{
 "cells": [
  {
   "cell_type": "code",
   "source": [
    "from PIL import Image\n",
    "import numpy as np\n",
    "import os\n",
    "\n",
    "# Add the OpenSlide DLL directory\n",
    "openslide_path = r'C:\\Users\\Valentina\\openslide-win64-20220811\\bin'\n",
    "if hasattr(os, 'add_dll_directory'):\n",
    "    # Python 3.8+\n",
    "    with os.add_dll_directory(openslide_path):\n",
    "        from openslide import OpenSlide\n",
    "else:\n",
    "    # Earlier Python versions\n",
    "    if openslide_path not in os.environ['PATH']:\n",
    "        os.environ['PATH'] = openslide_path + os.pathsep + os.environ['PATH']\n",
    "    from openslide import OpenSlide\n"
   ],
   "metadata": {
    "collapsed": false,
    "ExecuteTime": {
     "end_time": "2024-07-05T17:31:14.247770Z",
     "start_time": "2024-07-05T17:31:14.236770Z"
    }
   },
   "outputs": [],
   "execution_count": 23
  },
  {
   "cell_type": "code",
   "source": [
    "path_wsi = r'\\\\10.99.68.52\\Kiemendata\\Valentina Matos\\LG HG PanIN project\\LGHG segmentation'\n",
    "tenx_path = os.path.join(path_wsi, '10x_python')\n",
    "fivex_path = os.path.join(path_wsi,'5x_python')\n",
    "onex_path = os.path.join(path_wsi, '1x_python')\n",
    "for path in [tenx_path, fivex_path, onex_path]:\n",
    "    if not os.path.exists(path):\n",
    "        os.mkdir(path)"
   ],
   "metadata": {
    "collapsed": false,
    "ExecuteTime": {
     "end_time": "2024-07-05T17:31:14.574899Z",
     "start_time": "2024-07-05T17:31:14.560887Z"
    }
   },
   "outputs": [],
   "execution_count": 24
  },
  {
   "cell_type": "code",
   "source": [
    "wsis = [_ for _ in os.listdir(path_wsi) if _.endswith('.ndpi') or _.endswith('.svs')]\n",
    "wsis2 = [os.path.splitext(_)[0] for _ in wsis]\n",
    "tenx = [_ for _ in os.listdir(tenx_path) if _.endswith('.tif')]\n",
    "tenx2 = [os.path.splitext(_)[0] for _ in tenx]\n",
    "missingimages = [_ for _ in wsis2 if _ not in tenx2]"
   ],
   "metadata": {
    "collapsed": false,
    "ExecuteTime": {
     "end_time": "2024-07-05T17:31:14.858881Z",
     "start_time": "2024-07-05T17:31:14.840885Z"
    }
   },
   "outputs": [],
   "execution_count": 25
  },
  {
   "metadata": {
    "ExecuteTime": {
     "end_time": "2024-07-05T17:31:17.653555Z",
     "start_time": "2024-07-05T17:31:17.645555Z"
    }
   },
   "cell_type": "code",
   "source": [
    "def process_image(missingimage, path_wsi, output_path, rsf):\n",
    "    print(f\"Processing: {missingimage}\")\n",
    "    file_extension = next(ext for ext in ['.ndpi', '.svs'] if os.path.exists(os.path.join(path_wsi, missingimage + ext)))\n",
    "    wsi = OpenSlide(os.path.join(path_wsi, missingimage + file_extension))\n",
    "    svs_img = wsi.read_region(location=(0,0), level=0, size=wsi.level_dimensions[0]).convert('RGB')\n",
    "    \n",
    "    if rsf == 1:  # 10x\n",
    "        resize_factorx = rsf / float(wsi.properties['openslide.mpp-x'])\n",
    "        resize_factory = rsf / float(wsi.properties['openslide.mpp-y'])\n",
    "    elif rsf == 4:  # 5x\n",
    "        resize_factorx = 1 / rsf\n",
    "        resize_factory = 1 / rsf\n",
    "    else:  # 1x\n",
    "        resize_factorx = rsf / float(wsi.properties['openslide.mpp-x'])\n",
    "        resize_factory = rsf / float(wsi.properties['openslide.mpp-y'])\n",
    "    \n",
    "    resize_dimension = tuple([int(np.ceil(wsi.dimensions[0]/resize_factorx)), int(np.ceil(wsi.dimensions[1]/resize_factory))])\n",
    "    svs_img = svs_img.resize(resize_dimension, resample=Image.NEAREST)\n",
    "    svs_img.save(os.path.join(output_path, missingimage + '.tif'), resolution=1, resolution_unit=1, quality=100, compression=None)\n"
   ],
   "outputs": [],
   "execution_count": 26
  },
  {
   "metadata": {
    "ExecuteTime": {
     "end_time": "2024-07-05T17:36:20.041450Z",
     "start_time": "2024-07-05T17:31:18.960161Z"
    }
   },
   "cell_type": "code",
   "source": [
    "# Process images for 10x, 5x, and 1x\n",
    "# for magnification, (output_path, rsf) in [('10x', (tenx_path, 1)), ('5x', (fivex_path, 4)), ('1x', (onex_path, 8))]:\n",
    "for magnification, (output_path, rsf) in [('5x', (fivex_path, 4))]:\n",
    "    print(f\"Creating {magnification} tif images\")\n",
    "    for idx, missingimage in enumerate(missingimages):\n",
    "        print(f\"{idx}/{len(missingimages)}\")\n",
    "        process_image(missingimage, path_wsi, output_path, rsf)\n",
    "print(\"Processing complete!\")"
   ],
   "outputs": [
    {
     "name": "stdout",
     "output_type": "stream",
     "text": [
      "Creating 5x tif images\n",
      "0/72\n",
      "Processing: AB_04_0001\n"
     ]
    },
    {
     "ename": "error",
     "evalue": "argument out of range",
     "output_type": "error",
     "traceback": [
      "\u001B[1;31m---------------------------------------------------------------------------\u001B[0m",
      "\u001B[1;31merror\u001B[0m                                     Traceback (most recent call last)",
      "Cell \u001B[1;32mIn[27], line 7\u001B[0m\n\u001B[0;32m      5\u001B[0m     \u001B[38;5;28;01mfor\u001B[39;00m idx, missingimage \u001B[38;5;129;01min\u001B[39;00m \u001B[38;5;28menumerate\u001B[39m(missingimages):\n\u001B[0;32m      6\u001B[0m         \u001B[38;5;28mprint\u001B[39m(\u001B[38;5;124mf\u001B[39m\u001B[38;5;124m\"\u001B[39m\u001B[38;5;132;01m{\u001B[39;00midx\u001B[38;5;132;01m}\u001B[39;00m\u001B[38;5;124m/\u001B[39m\u001B[38;5;132;01m{\u001B[39;00m\u001B[38;5;28mlen\u001B[39m(missingimages)\u001B[38;5;132;01m}\u001B[39;00m\u001B[38;5;124m\"\u001B[39m)\n\u001B[1;32m----> 7\u001B[0m         \u001B[43mprocess_image\u001B[49m\u001B[43m(\u001B[49m\u001B[43mmissingimage\u001B[49m\u001B[43m,\u001B[49m\u001B[43m \u001B[49m\u001B[43mpath_wsi\u001B[49m\u001B[43m,\u001B[49m\u001B[43m \u001B[49m\u001B[43moutput_path\u001B[49m\u001B[43m,\u001B[49m\u001B[43m \u001B[49m\u001B[43mrsf\u001B[49m\u001B[43m)\u001B[49m\n\u001B[0;32m      8\u001B[0m \u001B[38;5;28mprint\u001B[39m(\u001B[38;5;124m\"\u001B[39m\u001B[38;5;124mProcessing complete!\u001B[39m\u001B[38;5;124m\"\u001B[39m)\n",
      "Cell \u001B[1;32mIn[26], line 19\u001B[0m, in \u001B[0;36mprocess_image\u001B[1;34m(missingimage, path_wsi, output_path, rsf)\u001B[0m\n\u001B[0;32m     17\u001B[0m resize_dimension \u001B[38;5;241m=\u001B[39m \u001B[38;5;28mtuple\u001B[39m([\u001B[38;5;28mint\u001B[39m(np\u001B[38;5;241m.\u001B[39mceil(wsi\u001B[38;5;241m.\u001B[39mdimensions[\u001B[38;5;241m0\u001B[39m]\u001B[38;5;241m/\u001B[39mresize_factorx)), \u001B[38;5;28mint\u001B[39m(np\u001B[38;5;241m.\u001B[39mceil(wsi\u001B[38;5;241m.\u001B[39mdimensions[\u001B[38;5;241m1\u001B[39m]\u001B[38;5;241m/\u001B[39mresize_factory))])\n\u001B[0;32m     18\u001B[0m svs_img \u001B[38;5;241m=\u001B[39m svs_img\u001B[38;5;241m.\u001B[39mresize(resize_dimension, resample\u001B[38;5;241m=\u001B[39mImage\u001B[38;5;241m.\u001B[39mNEAREST)\n\u001B[1;32m---> 19\u001B[0m \u001B[43msvs_img\u001B[49m\u001B[38;5;241;43m.\u001B[39;49m\u001B[43msave\u001B[49m\u001B[43m(\u001B[49m\u001B[43mos\u001B[49m\u001B[38;5;241;43m.\u001B[39;49m\u001B[43mpath\u001B[49m\u001B[38;5;241;43m.\u001B[39;49m\u001B[43mjoin\u001B[49m\u001B[43m(\u001B[49m\u001B[43moutput_path\u001B[49m\u001B[43m,\u001B[49m\u001B[43m \u001B[49m\u001B[43mmissingimage\u001B[49m\u001B[43m \u001B[49m\u001B[38;5;241;43m+\u001B[39;49m\u001B[43m \u001B[49m\u001B[38;5;124;43m'\u001B[39;49m\u001B[38;5;124;43m.tif\u001B[39;49m\u001B[38;5;124;43m'\u001B[39;49m\u001B[43m)\u001B[49m\u001B[43m,\u001B[49m\u001B[43m \u001B[49m\u001B[43mresolution\u001B[49m\u001B[38;5;241;43m=\u001B[39;49m\u001B[38;5;241;43m1\u001B[39;49m\u001B[43m,\u001B[49m\u001B[43m \u001B[49m\u001B[43mresolution_unit\u001B[49m\u001B[38;5;241;43m=\u001B[39;49m\u001B[38;5;241;43m1\u001B[39;49m\u001B[43m,\u001B[49m\u001B[43m \u001B[49m\u001B[43mquality\u001B[49m\u001B[38;5;241;43m=\u001B[39;49m\u001B[38;5;241;43m100\u001B[39;49m\u001B[43m,\u001B[49m\u001B[43m \u001B[49m\u001B[43mcompression\u001B[49m\u001B[38;5;241;43m=\u001B[39;49m\u001B[38;5;28;43;01mNone\u001B[39;49;00m\u001B[43m)\u001B[49m\n",
      "File \u001B[1;32m~\\anaconda3\\envs\\CODA_tinaFlow\\lib\\site-packages\\PIL\\Image.py:2568\u001B[0m, in \u001B[0;36mImage.save\u001B[1;34m(self, fp, format, **params)\u001B[0m\n\u001B[0;32m   2565\u001B[0m     fp \u001B[38;5;241m=\u001B[39m cast(IO[\u001B[38;5;28mbytes\u001B[39m], fp)\n\u001B[0;32m   2567\u001B[0m \u001B[38;5;28;01mtry\u001B[39;00m:\n\u001B[1;32m-> 2568\u001B[0m     \u001B[43msave_handler\u001B[49m\u001B[43m(\u001B[49m\u001B[38;5;28;43mself\u001B[39;49m\u001B[43m,\u001B[49m\u001B[43m \u001B[49m\u001B[43mfp\u001B[49m\u001B[43m,\u001B[49m\u001B[43m \u001B[49m\u001B[43mfilename\u001B[49m\u001B[43m)\u001B[49m\n\u001B[0;32m   2569\u001B[0m \u001B[38;5;28;01mexcept\u001B[39;00m \u001B[38;5;167;01mException\u001B[39;00m:\n\u001B[0;32m   2570\u001B[0m     \u001B[38;5;28;01mif\u001B[39;00m open_fp:\n",
      "File \u001B[1;32m~\\anaconda3\\envs\\CODA_tinaFlow\\lib\\site-packages\\PIL\\TiffImagePlugin.py:1899\u001B[0m, in \u001B[0;36m_save\u001B[1;34m(im, fp, filename)\u001B[0m\n\u001B[0;32m   1897\u001B[0m     \u001B[38;5;28;01mfor\u001B[39;00m tag \u001B[38;5;129;01min\u001B[39;00m blocklist:\n\u001B[0;32m   1898\u001B[0m         \u001B[38;5;28;01mdel\u001B[39;00m ifd[tag]\n\u001B[1;32m-> 1899\u001B[0m     offset \u001B[38;5;241m=\u001B[39m \u001B[43mifd\u001B[49m\u001B[38;5;241;43m.\u001B[39;49m\u001B[43msave\u001B[49m\u001B[43m(\u001B[49m\u001B[43mfp\u001B[49m\u001B[43m)\u001B[49m\n\u001B[0;32m   1901\u001B[0m     ImageFile\u001B[38;5;241m.\u001B[39m_save(\n\u001B[0;32m   1902\u001B[0m         im, fp, [(\u001B[38;5;124m\"\u001B[39m\u001B[38;5;124mraw\u001B[39m\u001B[38;5;124m\"\u001B[39m, (\u001B[38;5;241m0\u001B[39m, \u001B[38;5;241m0\u001B[39m) \u001B[38;5;241m+\u001B[39m im\u001B[38;5;241m.\u001B[39msize, offset, (rawmode, stride, \u001B[38;5;241m1\u001B[39m))]\n\u001B[0;32m   1903\u001B[0m     )\n\u001B[0;32m   1905\u001B[0m \u001B[38;5;66;03m# -- helper for multi-page save --\u001B[39;00m\n",
      "File \u001B[1;32m~\\anaconda3\\envs\\CODA_tinaFlow\\lib\\site-packages\\PIL\\TiffImagePlugin.py:986\u001B[0m, in \u001B[0;36mImageFileDirectory_v2.save\u001B[1;34m(self, fp)\u001B[0m\n\u001B[0;32m    983\u001B[0m     fp\u001B[38;5;241m.\u001B[39mwrite(\u001B[38;5;28mself\u001B[39m\u001B[38;5;241m.\u001B[39m_prefix \u001B[38;5;241m+\u001B[39m \u001B[38;5;28mself\u001B[39m\u001B[38;5;241m.\u001B[39m_pack(\u001B[38;5;124m\"\u001B[39m\u001B[38;5;124mHL\u001B[39m\u001B[38;5;124m\"\u001B[39m, \u001B[38;5;241m42\u001B[39m, \u001B[38;5;241m8\u001B[39m))\n\u001B[0;32m    985\u001B[0m offset \u001B[38;5;241m=\u001B[39m fp\u001B[38;5;241m.\u001B[39mtell()\n\u001B[1;32m--> 986\u001B[0m result \u001B[38;5;241m=\u001B[39m \u001B[38;5;28;43mself\u001B[39;49m\u001B[38;5;241;43m.\u001B[39;49m\u001B[43mtobytes\u001B[49m\u001B[43m(\u001B[49m\u001B[43moffset\u001B[49m\u001B[43m)\u001B[49m\n\u001B[0;32m    987\u001B[0m fp\u001B[38;5;241m.\u001B[39mwrite(result)\n\u001B[0;32m    988\u001B[0m \u001B[38;5;28;01mreturn\u001B[39;00m offset \u001B[38;5;241m+\u001B[39m \u001B[38;5;28mlen\u001B[39m(result)\n",
      "File \u001B[1;32m~\\anaconda3\\envs\\CODA_tinaFlow\\lib\\site-packages\\PIL\\TiffImagePlugin.py:931\u001B[0m, in \u001B[0;36mImageFileDirectory_v2.tobytes\u001B[1;34m(self, offset)\u001B[0m\n\u001B[0;32m    929\u001B[0m \u001B[38;5;28;01melse\u001B[39;00m:\n\u001B[0;32m    930\u001B[0m     values \u001B[38;5;241m=\u001B[39m value \u001B[38;5;28;01mif\u001B[39;00m \u001B[38;5;28misinstance\u001B[39m(value, \u001B[38;5;28mtuple\u001B[39m) \u001B[38;5;28;01melse\u001B[39;00m (value,)\n\u001B[1;32m--> 931\u001B[0m     data \u001B[38;5;241m=\u001B[39m \u001B[38;5;28;43mself\u001B[39;49m\u001B[38;5;241;43m.\u001B[39;49m\u001B[43m_write_dispatch\u001B[49m\u001B[43m[\u001B[49m\u001B[43mtyp\u001B[49m\u001B[43m]\u001B[49m\u001B[43m(\u001B[49m\u001B[38;5;28;43mself\u001B[39;49m\u001B[43m,\u001B[49m\u001B[43m \u001B[49m\u001B[38;5;241;43m*\u001B[39;49m\u001B[43mvalues\u001B[49m\u001B[43m)\u001B[49m\n\u001B[0;32m    933\u001B[0m tagname \u001B[38;5;241m=\u001B[39m TiffTags\u001B[38;5;241m.\u001B[39mlookup(tag, \u001B[38;5;28mself\u001B[39m\u001B[38;5;241m.\u001B[39mgroup)\u001B[38;5;241m.\u001B[39mname\n\u001B[0;32m    934\u001B[0m typname \u001B[38;5;241m=\u001B[39m \u001B[38;5;124m\"\u001B[39m\u001B[38;5;124mifd\u001B[39m\u001B[38;5;124m\"\u001B[39m \u001B[38;5;28;01mif\u001B[39;00m is_ifd \u001B[38;5;28;01melse\u001B[39;00m TYPES\u001B[38;5;241m.\u001B[39mget(typ, \u001B[38;5;124m\"\u001B[39m\u001B[38;5;124munknown\u001B[39m\u001B[38;5;124m\"\u001B[39m)\n",
      "File \u001B[1;32m~\\anaconda3\\envs\\CODA_tinaFlow\\lib\\site-packages\\PIL\\TiffImagePlugin.py:480\u001B[0m, in \u001B[0;36m_register_basic.<locals>.<lambda>\u001B[1;34m(self, *values)\u001B[0m\n\u001B[0;32m    472\u001B[0m size \u001B[38;5;241m=\u001B[39m struct\u001B[38;5;241m.\u001B[39mcalcsize(\u001B[38;5;124mf\u001B[39m\u001B[38;5;124m\"\u001B[39m\u001B[38;5;124m=\u001B[39m\u001B[38;5;132;01m{\u001B[39;00mfmt\u001B[38;5;132;01m}\u001B[39;00m\u001B[38;5;124m\"\u001B[39m)\n\u001B[0;32m    473\u001B[0m _load_dispatch[idx] \u001B[38;5;241m=\u001B[39m (  \u001B[38;5;66;03m# noqa: F821\u001B[39;00m\n\u001B[0;32m    474\u001B[0m     size,\n\u001B[0;32m    475\u001B[0m     \u001B[38;5;28;01mlambda\u001B[39;00m \u001B[38;5;28mself\u001B[39m, data, legacy_api\u001B[38;5;241m=\u001B[39m\u001B[38;5;28;01mTrue\u001B[39;00m: (\n\u001B[0;32m    476\u001B[0m         \u001B[38;5;28mself\u001B[39m\u001B[38;5;241m.\u001B[39m_unpack(\u001B[38;5;124mf\u001B[39m\u001B[38;5;124m\"\u001B[39m\u001B[38;5;132;01m{\u001B[39;00m\u001B[38;5;28mlen\u001B[39m(data)\u001B[38;5;250m \u001B[39m\u001B[38;5;241m/\u001B[39m\u001B[38;5;241m/\u001B[39m\u001B[38;5;250m \u001B[39msize\u001B[38;5;132;01m}\u001B[39;00m\u001B[38;5;132;01m{\u001B[39;00mfmt\u001B[38;5;132;01m}\u001B[39;00m\u001B[38;5;124m\"\u001B[39m, data)\n\u001B[0;32m    477\u001B[0m     ),\n\u001B[0;32m    478\u001B[0m )\n\u001B[0;32m    479\u001B[0m _write_dispatch[idx] \u001B[38;5;241m=\u001B[39m \u001B[38;5;28;01mlambda\u001B[39;00m \u001B[38;5;28mself\u001B[39m, \u001B[38;5;241m*\u001B[39mvalues: (  \u001B[38;5;66;03m# noqa: F821\u001B[39;00m\n\u001B[1;32m--> 480\u001B[0m     \u001B[38;5;124;43mb\u001B[39;49m\u001B[38;5;124;43m\"\u001B[39;49m\u001B[38;5;124;43m\"\u001B[39;49m\u001B[38;5;241;43m.\u001B[39;49m\u001B[43mjoin\u001B[49m\u001B[43m(\u001B[49m\u001B[38;5;28;43mself\u001B[39;49m\u001B[38;5;241;43m.\u001B[39;49m\u001B[43m_pack\u001B[49m\u001B[43m(\u001B[49m\u001B[43mfmt\u001B[49m\u001B[43m,\u001B[49m\u001B[43m \u001B[49m\u001B[43mvalue\u001B[49m\u001B[43m)\u001B[49m\u001B[43m \u001B[49m\u001B[38;5;28;43;01mfor\u001B[39;49;00m\u001B[43m \u001B[49m\u001B[43mvalue\u001B[49m\u001B[43m \u001B[49m\u001B[38;5;129;43;01min\u001B[39;49;00m\u001B[43m \u001B[49m\u001B[43mvalues\u001B[49m\u001B[43m)\u001B[49m\n\u001B[0;32m    481\u001B[0m )\n",
      "File \u001B[1;32m~\\anaconda3\\envs\\CODA_tinaFlow\\lib\\site-packages\\PIL\\TiffImagePlugin.py:480\u001B[0m, in \u001B[0;36m<genexpr>\u001B[1;34m(.0)\u001B[0m\n\u001B[0;32m    472\u001B[0m size \u001B[38;5;241m=\u001B[39m struct\u001B[38;5;241m.\u001B[39mcalcsize(\u001B[38;5;124mf\u001B[39m\u001B[38;5;124m\"\u001B[39m\u001B[38;5;124m=\u001B[39m\u001B[38;5;132;01m{\u001B[39;00mfmt\u001B[38;5;132;01m}\u001B[39;00m\u001B[38;5;124m\"\u001B[39m)\n\u001B[0;32m    473\u001B[0m _load_dispatch[idx] \u001B[38;5;241m=\u001B[39m (  \u001B[38;5;66;03m# noqa: F821\u001B[39;00m\n\u001B[0;32m    474\u001B[0m     size,\n\u001B[0;32m    475\u001B[0m     \u001B[38;5;28;01mlambda\u001B[39;00m \u001B[38;5;28mself\u001B[39m, data, legacy_api\u001B[38;5;241m=\u001B[39m\u001B[38;5;28;01mTrue\u001B[39;00m: (\n\u001B[0;32m    476\u001B[0m         \u001B[38;5;28mself\u001B[39m\u001B[38;5;241m.\u001B[39m_unpack(\u001B[38;5;124mf\u001B[39m\u001B[38;5;124m\"\u001B[39m\u001B[38;5;132;01m{\u001B[39;00m\u001B[38;5;28mlen\u001B[39m(data)\u001B[38;5;250m \u001B[39m\u001B[38;5;241m/\u001B[39m\u001B[38;5;241m/\u001B[39m\u001B[38;5;250m \u001B[39msize\u001B[38;5;132;01m}\u001B[39;00m\u001B[38;5;132;01m{\u001B[39;00mfmt\u001B[38;5;132;01m}\u001B[39;00m\u001B[38;5;124m\"\u001B[39m, data)\n\u001B[0;32m    477\u001B[0m     ),\n\u001B[0;32m    478\u001B[0m )\n\u001B[0;32m    479\u001B[0m _write_dispatch[idx] \u001B[38;5;241m=\u001B[39m \u001B[38;5;28;01mlambda\u001B[39;00m \u001B[38;5;28mself\u001B[39m, \u001B[38;5;241m*\u001B[39mvalues: (  \u001B[38;5;66;03m# noqa: F821\u001B[39;00m\n\u001B[1;32m--> 480\u001B[0m     \u001B[38;5;124mb\u001B[39m\u001B[38;5;124m\"\u001B[39m\u001B[38;5;124m\"\u001B[39m\u001B[38;5;241m.\u001B[39mjoin(\u001B[38;5;28;43mself\u001B[39;49m\u001B[38;5;241;43m.\u001B[39;49m\u001B[43m_pack\u001B[49m\u001B[43m(\u001B[49m\u001B[43mfmt\u001B[49m\u001B[43m,\u001B[49m\u001B[43m \u001B[49m\u001B[43mvalue\u001B[49m\u001B[43m)\u001B[49m \u001B[38;5;28;01mfor\u001B[39;00m value \u001B[38;5;129;01min\u001B[39;00m values)\n\u001B[0;32m    481\u001B[0m )\n",
      "File \u001B[1;32m~\\anaconda3\\envs\\CODA_tinaFlow\\lib\\site-packages\\PIL\\TiffImagePlugin.py:737\u001B[0m, in \u001B[0;36mImageFileDirectory_v2._pack\u001B[1;34m(self, fmt, *values)\u001B[0m\n\u001B[0;32m    736\u001B[0m \u001B[38;5;28;01mdef\u001B[39;00m \u001B[38;5;21m_pack\u001B[39m(\u001B[38;5;28mself\u001B[39m, fmt, \u001B[38;5;241m*\u001B[39mvalues):\n\u001B[1;32m--> 737\u001B[0m     \u001B[38;5;28;01mreturn\u001B[39;00m \u001B[43mstruct\u001B[49m\u001B[38;5;241;43m.\u001B[39;49m\u001B[43mpack\u001B[49m\u001B[43m(\u001B[49m\u001B[38;5;28;43mself\u001B[39;49m\u001B[38;5;241;43m.\u001B[39;49m\u001B[43m_endian\u001B[49m\u001B[43m \u001B[49m\u001B[38;5;241;43m+\u001B[39;49m\u001B[43m \u001B[49m\u001B[43mfmt\u001B[49m\u001B[43m,\u001B[49m\u001B[43m \u001B[49m\u001B[38;5;241;43m*\u001B[39;49m\u001B[43mvalues\u001B[49m\u001B[43m)\u001B[49m\n",
      "\u001B[1;31merror\u001B[0m: argument out of range"
     ]
    }
   ],
   "execution_count": 27
  },
  {
   "metadata": {},
   "cell_type": "code",
   "outputs": [],
   "execution_count": null,
   "source": ""
  },
  {
   "cell_type": "code",
   "execution_count": null,
   "outputs": [
    {
     "name": "stdout",
     "output_type": "stream",
     "text": [
      "0 / 108  processing:  PDAC-VI-KH-002_0103\n"
     ]
    },
    {
     "ename": "ValueError",
     "evalue": "image has wrong mode",
     "output_type": "error",
     "traceback": [
      "\u001B[1;31m---------------------------------------------------------------------------\u001B[0m",
      "\u001B[1;31mValueError\u001B[0m                                Traceback (most recent call last)",
      "Cell \u001B[1;32mIn[4], line 16\u001B[0m\n\u001B[0;32m     14\u001B[0m resize_factory \u001B[38;5;241m=\u001B[39m \u001B[38;5;241m1\u001B[39m\u001B[38;5;241m/\u001B[39mrsf\n\u001B[0;32m     15\u001B[0m resize_dimension \u001B[38;5;241m=\u001B[39m \u001B[38;5;28mtuple\u001B[39m([\u001B[38;5;28mint\u001B[39m(np\u001B[38;5;241m.\u001B[39mceil(wsi\u001B[38;5;241m.\u001B[39mdimensions[\u001B[38;5;241m0\u001B[39m]\u001B[38;5;241m/\u001B[39mresize_factorx)),\u001B[38;5;28mint\u001B[39m(np\u001B[38;5;241m.\u001B[39mceil(wsi\u001B[38;5;241m.\u001B[39mdimensions[\u001B[38;5;241m1\u001B[39m]\u001B[38;5;241m/\u001B[39mresize_factory))])\n\u001B[1;32m---> 16\u001B[0m svs_img \u001B[38;5;241m=\u001B[39m \u001B[43msvs_img\u001B[49m\u001B[38;5;241;43m.\u001B[39;49m\u001B[43mresize\u001B[49m\u001B[43m(\u001B[49m\u001B[43mresize_dimension\u001B[49m\u001B[43m,\u001B[49m\u001B[43mresample\u001B[49m\u001B[38;5;241;43m=\u001B[39;49m\u001B[43mImage\u001B[49m\u001B[38;5;241;43m.\u001B[39;49m\u001B[43mNEAREST\u001B[49m\u001B[43m)\u001B[49m\n",
      "File \u001B[1;32m~\\Desktop\\Python\\venv\\Lib\\site-packages\\PIL\\Image.py:2193\u001B[0m, in \u001B[0;36mImage.resize\u001B[1;34m(self, size, resample, box, reducing_gap)\u001B[0m\n\u001B[0;32m   2185\u001B[0m             \u001B[38;5;28mself\u001B[39m \u001B[38;5;241m=\u001B[39m Image\u001B[38;5;241m.\u001B[39mreduce(\u001B[38;5;28mself\u001B[39m, factor, box\u001B[38;5;241m=\u001B[39mreduce_box)\n\u001B[0;32m   2186\u001B[0m         box \u001B[38;5;241m=\u001B[39m (\n\u001B[0;32m   2187\u001B[0m             (box[\u001B[38;5;241m0\u001B[39m] \u001B[38;5;241m-\u001B[39m reduce_box[\u001B[38;5;241m0\u001B[39m]) \u001B[38;5;241m/\u001B[39m factor_x,\n\u001B[0;32m   2188\u001B[0m             (box[\u001B[38;5;241m1\u001B[39m] \u001B[38;5;241m-\u001B[39m reduce_box[\u001B[38;5;241m1\u001B[39m]) \u001B[38;5;241m/\u001B[39m factor_y,\n\u001B[0;32m   2189\u001B[0m             (box[\u001B[38;5;241m2\u001B[39m] \u001B[38;5;241m-\u001B[39m reduce_box[\u001B[38;5;241m0\u001B[39m]) \u001B[38;5;241m/\u001B[39m factor_x,\n\u001B[0;32m   2190\u001B[0m             (box[\u001B[38;5;241m3\u001B[39m] \u001B[38;5;241m-\u001B[39m reduce_box[\u001B[38;5;241m1\u001B[39m]) \u001B[38;5;241m/\u001B[39m factor_y,\n\u001B[0;32m   2191\u001B[0m         )\n\u001B[1;32m-> 2193\u001B[0m \u001B[38;5;28;01mreturn\u001B[39;00m \u001B[38;5;28mself\u001B[39m\u001B[38;5;241m.\u001B[39m_new(\u001B[38;5;28;43mself\u001B[39;49m\u001B[38;5;241;43m.\u001B[39;49m\u001B[43mim\u001B[49m\u001B[38;5;241;43m.\u001B[39;49m\u001B[43mresize\u001B[49m\u001B[43m(\u001B[49m\u001B[43msize\u001B[49m\u001B[43m,\u001B[49m\u001B[43m \u001B[49m\u001B[43mresample\u001B[49m\u001B[43m,\u001B[49m\u001B[43m \u001B[49m\u001B[43mbox\u001B[49m\u001B[43m)\u001B[49m)\n",
      "\u001B[1;31mValueError\u001B[0m: image has wrong mode"
     ]
    }
   ],
   "source": [
    "# Create 10x tif images\n",
    "for idx,missingimage in enumerate(missingimages):\n",
    "    print(idx,'/',len(missingimages),' processing: ',missingimage)\n",
    "    wsi = OpenSlide(os.path.join(path_wsi,missingimage+'.ndpi'))\n",
    "    rsf = 1\n",
    "    svs_img = wsi.read_region(location=(0,0),level=0,size=wsi.level_dimensions[0]).convert('RGB')\n",
    "    resize_factorx = rsf/float(wsi.properties['openslide.mpp-x']) #8um = 1.25x #4um = 2.5x, #2um=5x, 1um=10x, 0.5um=20x, 0.25um=40x\n",
    "    resize_factory = rsf/float(wsi.properties['openslide.mpp-y'])\n",
    "    resize_dimension = tuple([int(np.ceil(wsi.dimensions[0]/resize_factorx)),int(np.ceil(wsi.dimensions[1]/resize_factory))])\n",
    "    svs_img = svs_img.resize(resize_dimension,resample=Image.NEAREST)\n",
    "    svs_img.save(os.path.join(tenx_path,missingimage+'.tif'),resolution=1,resolution_unit=1,quality=100,compression=None)"
   ],
   "metadata": {
    "collapsed": false
   }
  },
  {
   "metadata": {
    "ExecuteTime": {
     "end_time": "2024-07-05T17:22:38.097471Z",
     "start_time": "2024-07-05T17:19:35.950776Z"
    }
   },
   "cell_type": "code",
   "source": [
    "# Create 5x tif images\n",
    "for idx,missingimage in enumerate(missingimages):\n",
    "    print(idx,'/',len(missingimages),' processing: ',missingimage)\n",
    "    wsi = OpenSlide(os.path.join(path_wsi,missingimage+'.ndpi'))\n",
    "    svs_img = wsi.read_region(location=(0,0),level=0,size=wsi.level_dimensions[0]).convert('RGB')\n",
    "    rsf = 4\n",
    "    resize_factorx = 1/rsf #8um = 1.25x #4um = 2.5x, #2um=5x, 1um=10x, 0.5um=20x, 0.25um=40x\n",
    "    resize_factory = 1/rsf\n",
    "    resize_dimension = tuple([int(np.ceil(wsi.dimensions[0]/resize_factorx)),int(np.ceil(wsi.dimensions[1]/resize_factory))])\n",
    "    svs_img = svs_img.resize(resize_dimension,resample=Image.NEAREST)\n",
    "    svs_img.save(os.path.join(tenx_path,missingimage+'.tif'),resolution=1,resolution_unit=1,quality=100,compression=None)"
   ],
   "outputs": [
    {
     "name": "stdout",
     "output_type": "stream",
     "text": [
      "0 / 66  processing:  AB_04_0001\n"
     ]
    },
    {
     "ename": "KeyboardInterrupt",
     "evalue": "",
     "output_type": "error",
     "traceback": [
      "\u001B[1;31m---------------------------------------------------------------------------\u001B[0m",
      "\u001B[1;31mKeyboardInterrupt\u001B[0m                         Traceback (most recent call last)",
      "Cell \u001B[1;32mIn[11], line 5\u001B[0m\n\u001B[0;32m      3\u001B[0m \u001B[38;5;28mprint\u001B[39m(idx,\u001B[38;5;124m'\u001B[39m\u001B[38;5;124m/\u001B[39m\u001B[38;5;124m'\u001B[39m,\u001B[38;5;28mlen\u001B[39m(missingimages),\u001B[38;5;124m'\u001B[39m\u001B[38;5;124m processing: \u001B[39m\u001B[38;5;124m'\u001B[39m,missingimage)\n\u001B[0;32m      4\u001B[0m wsi \u001B[38;5;241m=\u001B[39m OpenSlide(os\u001B[38;5;241m.\u001B[39mpath\u001B[38;5;241m.\u001B[39mjoin(path_wsi,missingimage\u001B[38;5;241m+\u001B[39m\u001B[38;5;124m'\u001B[39m\u001B[38;5;124m.ndpi\u001B[39m\u001B[38;5;124m'\u001B[39m))\n\u001B[1;32m----> 5\u001B[0m svs_img \u001B[38;5;241m=\u001B[39m \u001B[43mwsi\u001B[49m\u001B[38;5;241;43m.\u001B[39;49m\u001B[43mread_region\u001B[49m\u001B[43m(\u001B[49m\u001B[43mlocation\u001B[49m\u001B[38;5;241;43m=\u001B[39;49m\u001B[43m(\u001B[49m\u001B[38;5;241;43m0\u001B[39;49m\u001B[43m,\u001B[49m\u001B[38;5;241;43m0\u001B[39;49m\u001B[43m)\u001B[49m\u001B[43m,\u001B[49m\u001B[43mlevel\u001B[49m\u001B[38;5;241;43m=\u001B[39;49m\u001B[38;5;241;43m0\u001B[39;49m\u001B[43m,\u001B[49m\u001B[43msize\u001B[49m\u001B[38;5;241;43m=\u001B[39;49m\u001B[43mwsi\u001B[49m\u001B[38;5;241;43m.\u001B[39;49m\u001B[43mlevel_dimensions\u001B[49m\u001B[43m[\u001B[49m\u001B[38;5;241;43m0\u001B[39;49m\u001B[43m]\u001B[49m\u001B[43m)\u001B[49m\u001B[38;5;241m.\u001B[39mconvert(\u001B[38;5;124m'\u001B[39m\u001B[38;5;124mRGB\u001B[39m\u001B[38;5;124m'\u001B[39m)\n\u001B[0;32m      6\u001B[0m rsf \u001B[38;5;241m=\u001B[39m \u001B[38;5;241m4\u001B[39m\n\u001B[0;32m      7\u001B[0m resize_factorx \u001B[38;5;241m=\u001B[39m \u001B[38;5;241m1\u001B[39m\u001B[38;5;241m/\u001B[39mrsf \u001B[38;5;66;03m#8um = 1.25x #4um = 2.5x, #2um=5x, 1um=10x, 0.5um=20x, 0.25um=40x\u001B[39;00m\n",
      "File \u001B[1;32m~\\anaconda3\\envs\\CODA_tinaFlow\\lib\\site-packages\\openslide\\__init__.py:251\u001B[0m, in \u001B[0;36mOpenSlide.read_region\u001B[1;34m(self, location, level, size)\u001B[0m\n\u001B[0;32m    241\u001B[0m \u001B[38;5;28;01mdef\u001B[39;00m \u001B[38;5;21mread_region\u001B[39m(\u001B[38;5;28mself\u001B[39m, location, level, size):\n\u001B[0;32m    242\u001B[0m \u001B[38;5;250m    \u001B[39m\u001B[38;5;124;03m\"\"\"Return a PIL.Image containing the contents of the region.\u001B[39;00m\n\u001B[0;32m    243\u001B[0m \n\u001B[0;32m    244\u001B[0m \u001B[38;5;124;03m    location: (x, y) tuple giving the top left pixel in the level 0\u001B[39;00m\n\u001B[1;32m   (...)\u001B[0m\n\u001B[0;32m    249\u001B[0m \u001B[38;5;124;03m    Unlike in the C interface, the image data returned by this\u001B[39;00m\n\u001B[0;32m    250\u001B[0m \u001B[38;5;124;03m    function is not premultiplied.\"\"\"\u001B[39;00m\n\u001B[1;32m--> 251\u001B[0m     region \u001B[38;5;241m=\u001B[39m \u001B[43mlowlevel\u001B[49m\u001B[38;5;241;43m.\u001B[39;49m\u001B[43mread_region\u001B[49m\u001B[43m(\u001B[49m\n\u001B[0;32m    252\u001B[0m \u001B[43m        \u001B[49m\u001B[38;5;28;43mself\u001B[39;49m\u001B[38;5;241;43m.\u001B[39;49m\u001B[43m_osr\u001B[49m\u001B[43m,\u001B[49m\u001B[43m \u001B[49m\u001B[43mlocation\u001B[49m\u001B[43m[\u001B[49m\u001B[38;5;241;43m0\u001B[39;49m\u001B[43m]\u001B[49m\u001B[43m,\u001B[49m\u001B[43m \u001B[49m\u001B[43mlocation\u001B[49m\u001B[43m[\u001B[49m\u001B[38;5;241;43m1\u001B[39;49m\u001B[43m]\u001B[49m\u001B[43m,\u001B[49m\u001B[43m \u001B[49m\u001B[43mlevel\u001B[49m\u001B[43m,\u001B[49m\u001B[43m \u001B[49m\u001B[43msize\u001B[49m\u001B[43m[\u001B[49m\u001B[38;5;241;43m0\u001B[39;49m\u001B[43m]\u001B[49m\u001B[43m,\u001B[49m\u001B[43m \u001B[49m\u001B[43msize\u001B[49m\u001B[43m[\u001B[49m\u001B[38;5;241;43m1\u001B[39;49m\u001B[43m]\u001B[49m\n\u001B[0;32m    253\u001B[0m \u001B[43m    \u001B[49m\u001B[43m)\u001B[49m\n\u001B[0;32m    254\u001B[0m     \u001B[38;5;28;01mif\u001B[39;00m \u001B[38;5;28mself\u001B[39m\u001B[38;5;241m.\u001B[39m_profile \u001B[38;5;129;01mis\u001B[39;00m \u001B[38;5;129;01mnot\u001B[39;00m \u001B[38;5;28;01mNone\u001B[39;00m:\n\u001B[0;32m    255\u001B[0m         region\u001B[38;5;241m.\u001B[39minfo[\u001B[38;5;124m'\u001B[39m\u001B[38;5;124micc_profile\u001B[39m\u001B[38;5;124m'\u001B[39m] \u001B[38;5;241m=\u001B[39m \u001B[38;5;28mself\u001B[39m\u001B[38;5;241m.\u001B[39m_profile\n",
      "File \u001B[1;32m~\\anaconda3\\envs\\CODA_tinaFlow\\lib\\site-packages\\openslide\\lowlevel.py:335\u001B[0m, in \u001B[0;36mread_region\u001B[1;34m(slide, x, y, level, w, h)\u001B[0m\n\u001B[0;32m    333\u001B[0m     \u001B[38;5;28;01mreturn\u001B[39;00m Image\u001B[38;5;241m.\u001B[39mnew(\u001B[38;5;124m'\u001B[39m\u001B[38;5;124mRGBA\u001B[39m\u001B[38;5;124m'\u001B[39m, (w, h))\n\u001B[0;32m    334\u001B[0m buf \u001B[38;5;241m=\u001B[39m (w \u001B[38;5;241m*\u001B[39m h \u001B[38;5;241m*\u001B[39m c_uint32)()\n\u001B[1;32m--> 335\u001B[0m \u001B[43m_read_region\u001B[49m\u001B[43m(\u001B[49m\u001B[43mslide\u001B[49m\u001B[43m,\u001B[49m\u001B[43m \u001B[49m\u001B[43mbuf\u001B[49m\u001B[43m,\u001B[49m\u001B[43m \u001B[49m\u001B[43mx\u001B[49m\u001B[43m,\u001B[49m\u001B[43m \u001B[49m\u001B[43my\u001B[49m\u001B[43m,\u001B[49m\u001B[43m \u001B[49m\u001B[43mlevel\u001B[49m\u001B[43m,\u001B[49m\u001B[43m \u001B[49m\u001B[43mw\u001B[49m\u001B[43m,\u001B[49m\u001B[43m \u001B[49m\u001B[43mh\u001B[49m\u001B[43m)\u001B[49m\n\u001B[0;32m    336\u001B[0m \u001B[38;5;28;01mreturn\u001B[39;00m _load_image(buf, (w, h))\n",
      "File \u001B[1;32m~\\anaconda3\\envs\\CODA_tinaFlow\\lib\\site-packages\\openslide\\lowlevel.py:230\u001B[0m, in \u001B[0;36m_check_error\u001B[1;34m(result, func, args)\u001B[0m\n\u001B[0;32m    226\u001B[0m         \u001B[38;5;28;01mreturn\u001B[39;00m result\n\u001B[0;32m    229\u001B[0m \u001B[38;5;66;03m# check if the library got into an error state after each library call\u001B[39;00m\n\u001B[1;32m--> 230\u001B[0m \u001B[38;5;28;01mdef\u001B[39;00m \u001B[38;5;21m_check_error\u001B[39m(result, func, args):\n\u001B[0;32m    231\u001B[0m     err \u001B[38;5;241m=\u001B[39m get_error(args[\u001B[38;5;241m0\u001B[39m])\n\u001B[0;32m    232\u001B[0m     \u001B[38;5;28;01mif\u001B[39;00m err \u001B[38;5;129;01mis\u001B[39;00m \u001B[38;5;129;01mnot\u001B[39;00m \u001B[38;5;28;01mNone\u001B[39;00m:\n",
      "\u001B[1;31mKeyboardInterrupt\u001B[0m: "
     ]
    }
   ],
   "execution_count": 11
  },
  {
   "cell_type": "code",
   "execution_count": null,
   "outputs": [],
   "source": [
    "# Create 1x tif images\n",
    "for idx,missingimage in enumerate(missingimages):\n",
    "    print(idx,'/',len(missingimages),' processing: ',missingimage)\n",
    "    wsi = OpenSlide(os.path.join(path_wsi,missingimage+'.ndpi'))\n",
    "    svs_img = wsi.read_region(location=(0,0),level=0,size=wsi.level_dimensions[0]).convert('RGB')\n",
    "    rsf = 8\n",
    "    resize_factorx = rsf/float(wsi.properties['openslide.mpp-x']) #8um = 1.25x #4um = 2.5x, #2um=5x, 1um=10x, 0.5um=20x, 0.25um=40x\n",
    "    resize_factory = rsf/float(wsi.properties['openslide.mpp-y'])\n",
    "    resize_dimension = tuple([int(np.ceil(wsi.dimensions[0]/resize_factorx)),int(np.ceil(wsi.dimensions[1]/resize_factory))])\n",
    "    svs_img2_5x = svs_img.resize(resize_dimension,resample=Image.NEAREST)\n",
    "    svs_img2_5x.save(os.path.join(onex_path,missingimage+'.tif'),resolution=2_5,resolution_unit=1,quality=100,compression=None)\n",
    "    svs_img.save(os.path.join(tenx_path,missingimage+'.tif'),resolution=1,resolution_unit=1,quality=100,compression=None)"
   ],
   "metadata": {
    "collapsed": false
   }
  },
  {
   "cell_type": "markdown",
   "source": [],
   "metadata": {
    "collapsed": false
   }
  }
 ],
 "metadata": {
  "kernelspec": {
   "display_name": "Python 3",
   "language": "python",
   "name": "python3"
  },
  "language_info": {
   "codemirror_mode": {
    "name": "ipython",
    "version": 2
   },
   "file_extension": ".py",
   "mimetype": "text/x-python",
   "name": "python",
   "nbconvert_exporter": "python",
   "pygments_lexer": "ipython2",
   "version": "2.7.6"
  }
 },
 "nbformat": 4,
 "nbformat_minor": 0
}
