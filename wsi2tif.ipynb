{
 "cells": [
  {
   "cell_type": "code",
   "execution_count": null,
   "outputs": [],
   "source": [
    "import os\n",
    "from PIL import Image\n",
    "import numpy as np\n",
    "\n",
    "openslide_path=r'C:\\Users\\Wirtz\\Documents\\openslide-win64-20221111\\bin'\n",
    "# os.environ['PATH'] = openslide_path + \";\" + os.environ['PATH']\n",
    "from openslide import OpenSlide"
   ],
   "metadata": {
    "collapsed": false
   }
  },
  {
   "cell_type": "code",
   "execution_count": null,
   "outputs": [],
   "source": [
    "wsisrc = r'\\\\fatherserverdw\\ashleyex\\Pancreas images\\Fatemeh PDAC\\Katsuya S2\\PDAC-VI-KH-002'\n",
    "tenxsrc = os.path.join(wsisrc, '10x_python')\n",
    "twosrc = os.path.join(wsisrc, '1x_python')\n",
    "if not os.path.exists(tenxsrc):\n",
    "    os.mkdir(tenxsrc)\n",
    "if not os.path.exists(twosrc):\n",
    "    os.mkdir(twosrc)"
   ],
   "metadata": {
    "collapsed": false
   }
  },
  {
   "cell_type": "code",
   "execution_count": null,
   "outputs": [],
   "source": [
    "wsis = [_ for _ in os.listdir(wsisrc) if _.endswith('ndpi')]\n",
    "wsis2 = [os.path.splitext(_)[0] for _ in wsis]\n",
    "tenx = [_ for _ in os.listdir(tenxsrc) if _.endswith('tif')]\n",
    "tenx2 = [os.path.splitext(_)[0] for _ in tenx]\n",
    "missingimages = [_ for _ in wsis2 if _ not in tenx2]"
   ],
   "metadata": {
    "collapsed": false
   }
  },
  {
   "cell_type": "code",
   "execution_count": null,
   "outputs": [
    {
     "name": "stdout",
     "output_type": "stream",
     "text": [
      "0 / 108  processing:  PDAC-VI-KH-002_0103\n"
     ]
    },
    {
     "ename": "ValueError",
     "evalue": "image has wrong mode",
     "output_type": "error",
     "traceback": [
      "\u001B[1;31m---------------------------------------------------------------------------\u001B[0m",
      "\u001B[1;31mValueError\u001B[0m                                Traceback (most recent call last)",
      "Cell \u001B[1;32mIn[4], line 16\u001B[0m\n\u001B[0;32m     14\u001B[0m resize_factory \u001B[38;5;241m=\u001B[39m \u001B[38;5;241m1\u001B[39m\u001B[38;5;241m/\u001B[39mrsf\n\u001B[0;32m     15\u001B[0m resize_dimension \u001B[38;5;241m=\u001B[39m \u001B[38;5;28mtuple\u001B[39m([\u001B[38;5;28mint\u001B[39m(np\u001B[38;5;241m.\u001B[39mceil(wsi\u001B[38;5;241m.\u001B[39mdimensions[\u001B[38;5;241m0\u001B[39m]\u001B[38;5;241m/\u001B[39mresize_factorx)),\u001B[38;5;28mint\u001B[39m(np\u001B[38;5;241m.\u001B[39mceil(wsi\u001B[38;5;241m.\u001B[39mdimensions[\u001B[38;5;241m1\u001B[39m]\u001B[38;5;241m/\u001B[39mresize_factory))])\n\u001B[1;32m---> 16\u001B[0m svs_img \u001B[38;5;241m=\u001B[39m \u001B[43msvs_img\u001B[49m\u001B[38;5;241;43m.\u001B[39;49m\u001B[43mresize\u001B[49m\u001B[43m(\u001B[49m\u001B[43mresize_dimension\u001B[49m\u001B[43m,\u001B[49m\u001B[43mresample\u001B[49m\u001B[38;5;241;43m=\u001B[39;49m\u001B[43mImage\u001B[49m\u001B[38;5;241;43m.\u001B[39;49m\u001B[43mNEAREST\u001B[49m\u001B[43m)\u001B[49m\n",
      "File \u001B[1;32m~\\Desktop\\Python\\venv\\Lib\\site-packages\\PIL\\Image.py:2193\u001B[0m, in \u001B[0;36mImage.resize\u001B[1;34m(self, size, resample, box, reducing_gap)\u001B[0m\n\u001B[0;32m   2185\u001B[0m             \u001B[38;5;28mself\u001B[39m \u001B[38;5;241m=\u001B[39m Image\u001B[38;5;241m.\u001B[39mreduce(\u001B[38;5;28mself\u001B[39m, factor, box\u001B[38;5;241m=\u001B[39mreduce_box)\n\u001B[0;32m   2186\u001B[0m         box \u001B[38;5;241m=\u001B[39m (\n\u001B[0;32m   2187\u001B[0m             (box[\u001B[38;5;241m0\u001B[39m] \u001B[38;5;241m-\u001B[39m reduce_box[\u001B[38;5;241m0\u001B[39m]) \u001B[38;5;241m/\u001B[39m factor_x,\n\u001B[0;32m   2188\u001B[0m             (box[\u001B[38;5;241m1\u001B[39m] \u001B[38;5;241m-\u001B[39m reduce_box[\u001B[38;5;241m1\u001B[39m]) \u001B[38;5;241m/\u001B[39m factor_y,\n\u001B[0;32m   2189\u001B[0m             (box[\u001B[38;5;241m2\u001B[39m] \u001B[38;5;241m-\u001B[39m reduce_box[\u001B[38;5;241m0\u001B[39m]) \u001B[38;5;241m/\u001B[39m factor_x,\n\u001B[0;32m   2190\u001B[0m             (box[\u001B[38;5;241m3\u001B[39m] \u001B[38;5;241m-\u001B[39m reduce_box[\u001B[38;5;241m1\u001B[39m]) \u001B[38;5;241m/\u001B[39m factor_y,\n\u001B[0;32m   2191\u001B[0m         )\n\u001B[1;32m-> 2193\u001B[0m \u001B[38;5;28;01mreturn\u001B[39;00m \u001B[38;5;28mself\u001B[39m\u001B[38;5;241m.\u001B[39m_new(\u001B[38;5;28;43mself\u001B[39;49m\u001B[38;5;241;43m.\u001B[39;49m\u001B[43mim\u001B[49m\u001B[38;5;241;43m.\u001B[39;49m\u001B[43mresize\u001B[49m\u001B[43m(\u001B[49m\u001B[43msize\u001B[49m\u001B[43m,\u001B[49m\u001B[43m \u001B[49m\u001B[43mresample\u001B[49m\u001B[43m,\u001B[49m\u001B[43m \u001B[49m\u001B[43mbox\u001B[49m\u001B[43m)\u001B[49m)\n",
      "\u001B[1;31mValueError\u001B[0m: image has wrong mode"
     ]
    }
   ],
   "source": [
    "for idx,missingimage in enumerate(missingimages):\n",
    "    print(idx,'/',len(missingimages),' processing: ',missingimage)\n",
    "    wsi = OpenSlide(os.path.join(wsisrc,missingimage+'.ndpi'))\n",
    "    rsf = 1\n",
    "    svs_img = wsi.read_region(location=(0,0),level=0,size=wsi.level_dimensions[0]).convert('RGB')\n",
    "    resize_factorx = rsf/float(wsi.properties['openslide.mpp-x']) #8um = 1.25x #4um = 2.5x, #2um=5x, 1um=10x, 0.5um=20x, 0.25um=40x\n",
    "    resize_factory = rsf/float(wsi.properties['openslide.mpp-y'])\n",
    "    resize_dimension = tuple([int(np.ceil(wsi.dimensions[0]/resize_factorx)),int(np.ceil(wsi.dimensions[1]/resize_factory))])\n",
    "    svs_img = svs_img.resize(resize_dimension,resample=Image.NEAREST)\n",
    "    svs_img.save(os.path.join(tenxsrc,missingimage+'.tif'),resolution=1,resolution_unit=1,quality=100,compression=None)\n",
    "\n",
    "    rsf = 4\n",
    "    resize_factorx = 1/rsf #8um = 1.25x #4um = 2.5x, #2um=5x, 1um=10x, 0.5um=20x, 0.25um=40x\n",
    "    resize_factory = 1/rsf\n",
    "    resize_dimension = tuple([int(np.ceil(wsi.dimensions[0]/resize_factorx)),int(np.ceil(wsi.dimensions[1]/resize_factory))])\n",
    "    svs_img = svs_img.resize(resize_dimension,resample=Image.NEAREST)"
   ],
   "metadata": {
    "collapsed": false
   }
  },
  {
   "cell_type": "code",
   "execution_count": null,
   "outputs": [],
   "source": [
    "    rsf = 8\n",
    "    resize_factorx = rsf/float(wsi.properties['openslide.mpp-x']) #8um = 1.25x #4um = 2.5x, #2um=5x, 1um=10x, 0.5um=20x, 0.25um=40x\n",
    "    resize_factory = rsf/float(wsi.properties['openslide.mpp-y'])\n",
    "    resize_dimension = tuple([int(np.ceil(wsi.dimensions[0]/resize_factorx)),int(np.ceil(wsi.dimensions[1]/resize_factory))])\n",
    "    svs_img2_5x = svs_img.resize(resize_dimension,resample=Image.NEAREST)\n",
    "    svs_img2_5x.save(os.path.join(twosrc,missingimage+'.tif'),resolution=2_5,resolution_unit=1,quality=100,compression=None)"
   ],
   "metadata": {
    "collapsed": false
   }
  },
  {
   "cell_type": "markdown",
   "source": [],
   "metadata": {
    "collapsed": false
   }
  }
 ],
 "metadata": {
  "kernelspec": {
   "display_name": "Python 3",
   "language": "python",
   "name": "python3"
  },
  "language_info": {
   "codemirror_mode": {
    "name": "ipython",
    "version": 2
   },
   "file_extension": ".py",
   "mimetype": "text/x-python",
   "name": "python",
   "nbconvert_exporter": "python",
   "pygments_lexer": "ipython2",
   "version": "2.7.6"
  }
 },
 "nbformat": 4,
 "nbformat_minor": 0
}
