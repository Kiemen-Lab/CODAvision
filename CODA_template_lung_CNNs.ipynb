{
 "cells": [
  {
   "cell_type": "code",
   "id": "initial_id",
   "metadata": {
    "ExecuteTime": {
     "end_time": "2024-11-21T16:30:39.944005Z",
     "start_time": "2024-11-21T16:30:14.008089Z"
    }
   },
   "source": [
    "import os\n",
    "import numpy as np\n",
    "from base import *"
   ],
   "outputs": [],
   "execution_count": 1
  },
  {
   "cell_type": "code",
   "id": "9ba9ed0ead2baa9b",
   "metadata": {},
   "source": [
    "pth = r'\\\\10.99.134.183\\kiemen-lab-data\\Valentina Matos\\lung tissue data delete 10x'\n",
    "pthim = os.path.join(pth, '10x')\n",
    "umpix = 1\n",
    "pthtest = os.path.join(pth, 'test')\n",
    "pthtestim = os.path.join(pthtest, '10x')\n",
    "resolution = '10x'\n",
    "nm = '10xashleytest'\n",
    "\n",
    "\n",
    "WS = [[0, 2, 0, 0, 0, 2, 0], [6, 7], \n",
    "      [1, 2, 3, 4, 5, 6, 7], \n",
    "      [7, 2, 5, 4, 3, 1, 6], [5]]\n",
    "\n",
    "\n",
    "numclass = max(WS[2])\n",
    "sxy = 1024\n",
    "pthDL = os.path.join(pth, nm)\n",
    "nblack = numclass + 1\n",
    "nwhite = WS[1][0]\n",
    "cmap = np.array([[170, 170, 255],\n",
    "                   [  0,  85, 127],\n",
    "                   [170,   0,   0],\n",
    "                   [170, 170, 127],\n",
    "                   [255, 0, 255],\n",
    "                   [255, 255, 255],\n",
    "                   [255, 170, 255]])\n",
    "\n",
    "classNames = ['bronchioles', 'alveoli', 'vasculature', 'mets', 'nonexpanded','whitespace','collagen']\n",
    "classCheck = []\n",
    "ntrain = 15\n",
    "nvalidate = np.ceil(ntrain/5)\n",
    "numims = 2"
   ],
   "outputs": [],
   "execution_count": null
  },
  {
   "metadata": {},
   "cell_type": "code",
   "outputs": [],
   "execution_count": null,
   "source": "save_model_metadata_GUI(pthDL, pthim, WS, nm, umpix, cmap, sxy, classNames, ntrain, nvalidate)",
   "id": "923ae3e28792621a"
  },
  {
   "metadata": {},
   "cell_type": "code",
   "outputs": [],
   "execution_count": null,
   "source": "WSI2tif(pth, resolution, umpix)",
   "id": "ac87816e92568833"
  },
  {
   "cell_type": "code",
   "id": "2b16298adbd85f13",
   "metadata": {},
   "source": [
    "[ctlist0, numann0] = load_annotation_data(pthDL, pth, pthim, classCheck)"
   ],
   "outputs": [],
   "execution_count": null
  },
  {
   "cell_type": "code",
   "id": "3449c9fd82c44cb5",
   "metadata": {
    "scrolled": true
   },
   "source": [
    "create_training_tiles(pthDL, numann0, ctlist0)"
   ],
   "outputs": [],
   "execution_count": null
  },
  {
   "cell_type": "code",
   "id": "b2c95a175d662c78",
   "metadata": {
    "scrolled": true
   },
   "source": [
    "name = \"DeepLabV3_plus\"\n",
    "\n",
    "train_segmentation_model_cnns(pthDL,name)"
   ],
   "outputs": [],
   "execution_count": null
  },
  {
   "cell_type": "code",
   "id": "6462fd903fa4d552",
   "metadata": {},
   "source": [
    "test_segmentation_model(pthDL,pthtest, pthtestim)"
   ],
   "outputs": [],
   "execution_count": null
  },
  {
   "cell_type": "code",
   "id": "201d653012834981",
   "metadata": {},
   "source": [
    "classify_images(pthim,pthDL)"
   ],
   "outputs": [],
   "execution_count": null
  }
 ],
 "metadata": {
  "kernelspec": {
   "display_name": "Python 3 (ipykernel)",
   "language": "python",
   "name": "python3"
  },
  "language_info": {
   "codemirror_mode": {
    "name": "ipython",
    "version": 3
   },
   "file_extension": ".py",
   "mimetype": "text/x-python",
   "name": "python",
   "nbconvert_exporter": "python",
   "pygments_lexer": "ipython3",
   "version": "3.9.19"
  }
 },
 "nbformat": 4,
 "nbformat_minor": 5
}
