{
 "cells": [
  {
   "cell_type": "code",
   "id": "initial_id",
   "metadata": {},
   "source": [
    "import os\n",
    "import numpy as np\n",
    "from base import *"
   ],
   "outputs": [],
   "execution_count": null
  },
  {
   "cell_type": "code",
   "id": "9ba9ed0ead2baa9b",
   "metadata": {},
   "source": [
    "pth = r'\\\\10.99.134.183\\kiemen-lab-data\\Valentina Matos\\Lung tissue data GUI'\n",
    "pthim = os.path.join(pth, '5x')\n",
    "umpix = 2\n",
    "pthtest = os.path.join(pth, 'test')\n",
    "pthtestim = os.path.join(pthtest, '5x')\n",
    "nm = 'Arrun_CASE-UNet'\n",
    "\n",
    "\n",
    "WS = [[0, 2, 0, 0, 0, 2, 0], [6, 7], \n",
    "      [1, 2, 3, 4, 5, 6, 7], \n",
    "      [7, 2, 5, 4, 3, 1, 6], [5]]\n",
    "\n",
    "\n",
    "numclass = max(WS[2])\n",
    "sxy = 1024\n",
    "pthDL = os.path.join(pth, nm)\n",
    "nblack = numclass + 1\n",
    "nwhite = WS[1][0]\n",
    "cmap = np.array([[170, 170, 255],\n",
    "                   [  0,  85, 127],\n",
    "                   [170,   0,   0],\n",
    "                   [170, 170, 127],\n",
    "                   [255, 0, 255],\n",
    "                   [255, 255, 255],\n",
    "                   [255, 170, 255]])\n",
    "\n",
    "classNames = ['bronchioles', 'alveoli', 'vasculature', 'mets', 'nonexpanded','whitespace','collagen']\n",
    "classCheck = []\n",
    "ntrain = 15\n",
    "nvalidate = np.ceil(ntrain/5)\n",
    "numims = 2"
   ],
   "outputs": [],
   "execution_count": null
  },
  {
   "cell_type": "code",
   "id": "327415a9-6d5a-485a-ac4f-1e3c5baae723",
   "metadata": {},
   "source": [
    "from base.backbones import *"
   ],
   "outputs": [],
   "execution_count": null
  },
  {
   "cell_type": "code",
   "id": "712d0af6-30c6-4c51-a458-c64a61fc8779",
   "metadata": {
    "scrolled": true
   },
   "source": [
    "model = model_call('CASe_UNet',IMAGE_SIZE=IMAGE_SIZE, NUM_CLASSES=NUM_CLASSES)\n",
    "model.summary()"
   ],
   "outputs": [],
   "execution_count": null
  },
  {
   "cell_type": "code",
   "id": "501634df47c6cdc5",
   "metadata": {
    "scrolled": true
   },
   "source": [
    "save_model_metadata(pthDL, pthim, WS, nm, umpix, cmap, sxy, classNames, ntrain, nvalidate)"
   ],
   "outputs": [],
   "execution_count": null
  },
  {
   "cell_type": "code",
   "id": "2b16298adbd85f13",
   "metadata": {},
   "source": [
    "[ctlist0, numann0] = load_annotation_data(pthDL, pth, pthim, classCheck)"
   ],
   "outputs": [],
   "execution_count": null
  },
  {
   "cell_type": "code",
   "id": "3449c9fd82c44cb5",
   "metadata": {
    "scrolled": true
   },
   "source": [
    "create_training_tiles(pthDL, numann0, ctlist0)"
   ],
   "outputs": [],
   "execution_count": null
  },
  {
   "cell_type": "code",
   "id": "b2c95a175d662c78",
   "metadata": {
    "scrolled": true
   },
   "source": [
    "name = \"CASe_UNet\"\n",
    "\n",
    "train_segmentation_model(pthDL,name)"
   ],
   "outputs": [],
   "execution_count": null
  },
  {
   "cell_type": "code",
   "id": "6462fd903fa4d552",
   "metadata": {},
   "source": [
    "test_segmentation_model(pthDL,pthtest, pthtestim)"
   ],
   "outputs": [],
   "execution_count": null
  },
  {
   "cell_type": "code",
   "id": "201d653012834981",
   "metadata": {},
   "source": [
    "classify_images(pthim,pthDL)"
   ],
   "outputs": [],
   "execution_count": null
  }
 ],
 "metadata": {
  "kernelspec": {
   "display_name": "Python 3 (ipykernel)",
   "language": "python",
   "name": "python3"
  },
  "language_info": {
   "codemirror_mode": {
    "name": "ipython",
    "version": 3
   },
   "file_extension": ".py",
   "mimetype": "text/x-python",
   "name": "python",
   "nbconvert_exporter": "python",
   "pygments_lexer": "ipython3",
   "version": "3.9.19"
  }
 },
 "nbformat": 4,
 "nbformat_minor": 5
}
