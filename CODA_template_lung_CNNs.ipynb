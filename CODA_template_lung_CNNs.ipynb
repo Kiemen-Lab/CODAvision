{
 "cells": [
  {
   "cell_type": "code",
   "id": "initial_id",
   "metadata": {
    "ExecuteTime": {
     "end_time": "2024-11-21T16:58:43.944116Z",
     "start_time": "2024-11-21T16:58:17.587191Z"
    }
   },
   "source": [
    "import os\n",
    "import numpy as np\n",
    "from base import *"
   ],
   "outputs": [],
   "execution_count": 1
  },
  {
   "cell_type": "code",
   "id": "9ba9ed0ead2baa9b",
   "metadata": {
    "ExecuteTime": {
     "end_time": "2024-11-21T16:58:43.975260Z",
     "start_time": "2024-11-21T16:58:43.944116Z"
    }
   },
   "source": [
    "pth = r'\\\\10.99.134.183\\kiemen-lab-data\\Valentina Matos\\lung tissue data delete 10x'\n",
    "pthim = os.path.join(pth, '10x')\n",
    "umpix = 1\n",
    "pthtest = os.path.join(pth, 'test')\n",
    "pthtestim = os.path.join(pthtest, '10x')\n",
    "resolution = '10x'\n",
    "nm = '10xashleytest'\n",
    "\n",
    "\n",
    "WS = [[0, 2, 0, 0, 0, 2, 0], [6, 7], \n",
    "      [1, 2, 3, 4, 5, 6, 7], \n",
    "      [7, 2, 5, 4, 3, 1, 6], [5]]\n",
    "\n",
    "\n",
    "numclass = max(WS[2])\n",
    "sxy = 1024\n",
    "pthDL = os.path.join(pth, nm)\n",
    "nblack = numclass + 1\n",
    "nwhite = WS[1][0]\n",
    "cmap = np.array([[170, 170, 255],\n",
    "                   [  0,  85, 127],\n",
    "                   [170,   0,   0],\n",
    "                   [170, 170, 127],\n",
    "                   [255, 0, 255],\n",
    "                   [255, 255, 255],\n",
    "                   [255, 170, 255]])\n",
    "\n",
    "classNames = ['bronchioles', 'alveoli', 'vasculature', 'mets', 'nonexpanded','whitespace','collagen']\n",
    "classCheck = []\n",
    "ntrain = 15\n",
    "nvalidate = np.ceil(ntrain/5)\n",
    "numims = 2"
   ],
   "outputs": [],
   "execution_count": 2
  },
  {
   "metadata": {
    "ExecuteTime": {
     "end_time": "2024-11-21T16:58:44.292792Z",
     "start_time": "2024-11-21T16:58:43.975260Z"
    }
   },
   "cell_type": "code",
   "source": "save_model_metadata_GUI(pthDL, pthim,pthtest, WS, nm, umpix, cmap, sxy, classNames, ntrain, nvalidate, nTA = 3,final_df = None, combined_df = None, model_type=\"DeepLabV3_plus\", batch_size=3)",
   "id": "923ae3e28792621a",
   "outputs": [
    {
     "name": "stdout",
     "output_type": "stream",
     "text": [
      "Saving model metadata and classification colormap...\n",
      "['bronchioles', 'alveoli', 'vasculature', 'mets', 'nonexpanded', 'whitespace', 'collagen']\n",
      "['bronchioles', 'alveoli', 'vasculature', 'mets', 'whitespace', 'collagen']\n",
      "[[170 170 255]\n",
      " [  0  85 127]\n",
      " [170   0   0]\n",
      " [170 170 127]\n",
      " [255 255 255]\n",
      " [255 170 255]]\n",
      "Max WS[2]: 6\n",
      "Classnames: ['bronchioles', 'alveoli', 'vasculature', 'mets', 'whitespace', 'collagen']\n",
      "Creating Net metadata file...\n"
     ]
    },
    {
     "data": {
      "text/plain": [
       "<Figure size 640x480 with 1 Axes>"
      ],
      "image/png": "[encoded data removed]"
     },
     "metadata": {},
     "output_type": "display_data"
    }
   ],
   "execution_count": 3
  },
  {
   "metadata": {
    "ExecuteTime": {
     "end_time": "2024-11-21T17:10:57.802381Z",
     "start_time": "2024-11-21T16:58:50.850595Z"
    }
   },
   "cell_type": "code",
   "source": "WSI2tif(pth, resolution, umpix)",
   "id": "ac87816e92568833",
   "outputs": [
    {
     "name": "stdout",
     "output_type": "stream",
     "text": [
      "1 / 4 processing: TVNTC 1-2 2\n",
      "2 / 4 processing: 84 - 2024-02-26 10.33.40\n",
      "3 / 4 processing: TVWT 4-1 1\n",
      "4 / 4 processing: 2024-02-26 10.36.39\n"
     ]
    }
   ],
   "execution_count": 4
  },
  {
   "cell_type": "code",
   "id": "2b16298adbd85f13",
   "metadata": {
    "ExecuteTime": {
     "end_time": "2024-11-21T17:17:23.794957Z",
     "start_time": "2024-11-21T17:10:57.802381Z"
    }
   },
   "source": [
    "[ctlist0, numann0] = load_annotation_data(pthDL, pth, pthim, classCheck)"
   ],
   "outputs": [
    {
     "name": "stdout",
     "output_type": "stream",
     "text": [
      " \n",
      "Importing annotation data...\n",
      "Image 1 of 4: 84 - 2024-02-26 10.33.40\n",
      " 1. of 4. Importing annotation data from xml file\n",
      "Loading annotation took 0.0 minutes and 0.8764266967773438 seconds\n",
      " Creating file...\n",
      "  Calculating TA image\n",
      " 2. of 4. Interpolating annotated regions and saving mask image\n",
      " 4. of 4. Creating bounding box tiles of all annotations\n",
      " Finished image in 125 seconds.\n",
      "Image 2 of 4: 2024-02-26 10.36.39\n",
      " 1. of 4. Importing annotation data from xml file\n",
      "Loading annotation took 0.0 minutes and 0.5638673305511475 seconds\n",
      " Creating file...\n",
      "  Calculating TA image\n",
      " 2. of 4. Interpolating annotated regions and saving mask image\n",
      " 4. of 4. Creating bounding box tiles of all annotations\n",
      " Finished image in 71 seconds.\n",
      "Image 3 of 4: TVWT 4-1 1\n",
      " 1. of 4. Importing annotation data from xml file\n",
      "Loading annotation took 0.0 minutes and 0.845231294631958 seconds\n",
      " Creating file...\n",
      "  Calculating TA image\n",
      " 2. of 4. Interpolating annotated regions and saving mask image\n",
      " 4. of 4. Creating bounding box tiles of all annotations\n",
      " Finished image in 123 seconds.\n",
      "Image 4 of 4: TVNTC 1-2 2\n",
      " 1. of 4. Importing annotation data from xml file\n",
      "Loading annotation took 0.0 minutes and 0.6576986312866211 seconds\n",
      " Creating file...\n",
      "  Calculating TA image\n",
      " 2. of 4. Interpolating annotated regions and saving mask image\n",
      " 4. of 4. Creating bounding box tiles of all annotations\n",
      " Finished image in 68 seconds.\n"
     ]
    }
   ],
   "execution_count": 5
  },
  {
   "cell_type": "code",
   "id": "3449c9fd82c44cb5",
   "metadata": {
    "scrolled": true,
    "jupyter": {
     "is_executing": true
    },
    "ExecuteTime": {
     "start_time": "2024-11-21T17:17:23.794957Z"
    }
   },
   "source": [
    "create_training_tiles(pthDL, numann0, ctlist0)"
   ],
   "outputs": [
    {
     "name": "stdout",
     "output_type": "stream",
     "text": [
      "\n",
      "Calculating total number of pixels in the training dataset...\n",
      " There are 99878500.0 pixels of bronchioles, 7% of the most common class.\n",
      " There are 486783700.0 pixels of alveoli, 35% of the most common class.\n",
      " There are 72843800.0 pixels of vasculature, 5% of the most common class.\n",
      " There are 126566400.0 pixels of mets, 9% of the most common class.\n",
      " There are 1360772200.0 pixels of whitespace. This is the most common class.\n",
      " There are 69696300.0 pixels of collagen, 5% of the most common class.\n",
      "\n",
      "Building training tiles...\n",
      "Total time elapsed for the while loop: 301.9463093280792\n",
      "Saving big tiles\n",
      "  1 of 15 training images completed in 5 minutes\n",
      "  Used 281.5% counts and 58.5% unique annotations of bronchioles\n",
      "  Used 382.1% counts and 63.1% unique annotations of alveoli\n",
      "  Used 169.6% counts and 58.2% unique annotations of vasculature\n",
      "  Used 289.3% counts and 71.4% unique annotations of mets\n",
      "  Used 323.8% counts and 60.5% unique annotations of whitespace\n",
      "  Used 187.0% counts and 62.3% unique annotations of collagen\n",
      "Total time elapsed for the while loop: 298.2158832550049\n",
      "Saving big tiles\n",
      "  2 of 15 training images completed in 10 minutes\n",
      "  Used 489.2% counts and 70.8% unique annotations of bronchioles\n",
      "  Used 684.5% counts and 72.6% unique annotations of alveoli\n",
      "  Used 191.1% counts and 68.4% unique annotations of vasculature\n",
      "  Used 532.1% counts and 82.1% unique annotations of mets\n",
      "  Used 560.5% counts and 71.5% unique annotations of whitespace\n",
      "  Used 235.1% counts and 71.4% unique annotations of collagen\n",
      "Total time elapsed for the while loop: 294.64367032051086\n",
      "Saving big tiles\n",
      "  3 of 15 training images completed in 16 minutes\n",
      "  Used 676.9% counts and 78.5% unique annotations of bronchioles\n",
      "  Used 998.8% counts and 82.1% unique annotations of alveoli\n",
      "  Used 229.1% counts and 79.7% unique annotations of vasculature\n",
      "  Used 746.4% counts and 85.7% unique annotations of mets\n",
      "  Used 800.6% counts and 80.2% unique annotations of whitespace\n",
      "  Used 292.2% counts and 83.1% unique annotations of collagen\n",
      "Total time elapsed for the while loop: 316.4079751968384\n",
      "Saving big tiles\n",
      "  4 of 15 training images completed in 22 minutes\n",
      "  Used 892.3% counts and 87.7% unique annotations of bronchioles\n",
      "  Used 1298.8% counts and 89.3% unique annotations of alveoli\n",
      "  Used 251.9% counts and 86.1% unique annotations of vasculature\n",
      "  Used 964.3% counts and 96.4% unique annotations of mets\n",
      "  Used 1033.7% counts and 87.8% unique annotations of whitespace\n",
      "  Used 345.5% counts and 87.0% unique annotations of collagen\n",
      "Total time elapsed for the while loop: 314.42737674713135\n",
      "Saving big tiles\n",
      "  5 of 15 training images completed in 27 minutes\n",
      "  Used 1176.9% counts and 92.3% unique annotations of bronchioles\n",
      "  Used 1638.1% counts and 91.7% unique annotations of alveoli\n",
      "  Used 406.3% counts and 89.9% unique annotations of vasculature\n",
      "  Used 1046.4% counts and 100.0% unique annotations of mets\n",
      "  Used 1285.5% counts and 91.9% unique annotations of whitespace\n",
      "  Used 526.0% counts and 89.6% unique annotations of collagen\n",
      "Total time elapsed for the while loop: 297.0080404281616\n",
      "Saving big tiles\n",
      "  6 of 15 training images completed in 33 minutes\n",
      "  Used 1384.6% counts and 96.9% unique annotations of bronchioles\n",
      "  Used 1934.5% counts and 96.4% unique annotations of alveoli\n",
      "  Used 431.6% counts and 94.9% unique annotations of vasculature\n",
      "  Used 1253.6% counts and 100.0% unique annotations of mets\n",
      "  Used 1516.9% counts and 95.9% unique annotations of whitespace\n",
      "  Used 585.7% counts and 93.5% unique annotations of collagen\n",
      "Total time elapsed for the while loop: 292.143413066864\n",
      "Saving big tiles\n",
      "  7 of 15 training images completed in 38 minutes\n",
      "  Used 1563.1% counts and 96.9% unique annotations of bronchioles\n",
      "  Used 2235.7% counts and 97.6% unique annotations of alveoli\n",
      "  Used 473.4% counts and 96.2% unique annotations of vasculature\n",
      "  Used 1478.6% counts and 100.0% unique annotations of mets\n",
      "  Used 1747.1% counts and 96.5% unique annotations of whitespace\n",
      "  Used 642.9% counts and 94.8% unique annotations of collagen\n"
     ]
    }
   ],
   "execution_count": null
  },
  {
   "cell_type": "code",
   "id": "b2c95a175d662c78",
   "metadata": {
    "scrolled": true,
    "jupyter": {
     "is_executing": true
    }
   },
   "source": "train_segmentation_model_cnns(pthDL)",
   "outputs": [],
   "execution_count": null
  },
  {
   "cell_type": "code",
   "id": "6462fd903fa4d552",
   "metadata": {
    "jupyter": {
     "is_executing": true
    }
   },
   "source": "test_segmentation_model(pthDL,pthtest, pthtestim, cnn_name = \"DeepLabV3_plus\")",
   "outputs": [],
   "execution_count": null
  },
  {
   "cell_type": "code",
   "id": "201d653012834981",
   "metadata": {
    "jupyter": {
     "is_executing": true
    }
   },
   "source": "classify_images(pthim,pthDL, name = \"DeepLabV3_plus\")",
   "outputs": [],
   "execution_count": null
  },
  {
   "metadata": {},
   "cell_type": "code",
   "outputs": [],
   "execution_count": null,
   "source": "",
   "id": "e642f2469ad87027"
  }
 ],
 "metadata": {
  "kernelspec": {
   "display_name": "Python 3 (ipykernel)",
   "language": "python",
   "name": "python3"
  },
  "language_info": {
   "codemirror_mode": {
    "name": "ipython",
    "version": 3
   },
   "file_extension": ".py",
   "mimetype": "text/x-python",
   "name": "python",
   "nbconvert_exporter": "python",
   "pygments_lexer": "ipython3",
   "version": "3.9.19"
  }
 },
 "nbformat": 4,
 "nbformat_minor": 5
}
