{
 "cells": [
  {
   "cell_type": "code",
   "id": "initial_id",
   "metadata": {
    "collapsed": true,
    "ExecuteTime": {
     "end_time": "2024-05-15T15:57:01.409986Z",
     "start_time": "2024-05-15T15:57:01.406683Z"
    }
   },
   "source": [
    "import os\n",
    "import numpy as np\n",
    "import cv2\n",
    "from skimage.morphology import binary_dilation, disk, dilation\n",
    "from scipy.ndimage import distance_transform_edt\n",
    "from edit_annotation_tiles import edit_annotations_tiles\n",
    "from load_annotation_data import load_annotation_data"
   ],
   "outputs": [],
   "execution_count": 13
  },
  {
   "metadata": {
    "ExecuteTime": {
     "end_time": "2024-05-15T15:52:24.899369Z",
     "start_time": "2024-05-15T15:52:24.884599Z"
    }
   },
   "cell_type": "code",
   "source": [
    "# Pre - inputs\n",
    "pth = r'\\\\10.99.68.52\\Kiemendata\\Valentina Matos\\coda to python\\test model'\n",
    "pthDL = r'\\\\10.99.68.52\\Kiemendata\\Valentina Matos\\coda to python\\test model\\04_19_2024'\n",
    "pthim_ann = r'\\\\10.99.68.52\\Kiemendata\\Valentina Matos\\coda to python\\test model\\5x'\n",
    "classcheck = 0\n",
    "datafile = r'\\\\10.99.68.52\\Kiemendata\\Valentina Matos\\coda to python\\test model\\04_19_2024\\net.pkl'"
   ],
   "id": "d967958f54c2da71",
   "outputs": [],
   "execution_count": 6
  },
  {
   "metadata": {
    "ExecuteTime": {
     "end_time": "2024-05-15T15:53:28.609570Z",
     "start_time": "2024-05-15T15:53:28.397220Z"
    }
   },
   "cell_type": "code",
   "source": [
    "# Inputs \n",
    "import pickle\n",
    "with open(datafile, 'rb') as f:\n",
    "    data = pickle.load(f)\n",
    "nblack = data['nblack']\n",
    "sxy = data['sxy']\n",
    "ctlist0, numann0 = load_annotation_data(pthDL, pth, pthim_ann,classcheck)\n",
    "numann0 = np.array(numann0)  # Convert numann0 to a NumPy array\n",
    "\n",
    "numann = numann0.copy()\n",
    "percann = np.double(numann0 > 0)\n",
    "percann = np.dstack((percann, percann))\n",
    "percann0 = percann.copy()\n",
    "stile = None \n",
    "nbg = None\n",
    "\n",
    "outpth = r'training'"
   ],
   "id": "fa125a9340c23ef3",
   "outputs": [
    {
     "name": "stdout",
     "output_type": "stream",
     "text": [
      " \n",
      "Importing annotation data...\n",
      "Image 1 of 2: SG_013_0061\n",
      " annotation data previously loaded\n",
      "Image 2 of 2: SG_014_0016\n",
      " annotation data previously loaded\n"
     ]
    }
   ],
   "execution_count": 7
  },
  {
   "metadata": {
    "ExecuteTime": {
     "end_time": "2024-05-15T15:53:47.549504Z",
     "start_time": "2024-05-15T15:53:47.547047Z"
    }
   },
   "cell_type": "code",
   "source": [
    "if nbg is None:\n",
    "        nbg = 0\n",
    "if stile is None:\n",
    "    stile = 10000\n",
    "stile += 200\n",
    "kpall = 1"
   ],
   "id": "3dfeafd95332671a",
   "outputs": [],
   "execution_count": 8
  },
  {
   "metadata": {
    "ExecuteTime": {
     "end_time": "2024-05-15T15:54:04.424925Z",
     "start_time": "2024-05-15T15:54:04.392989Z"
    }
   },
   "cell_type": "code",
   "source": [
    "# Define folder locations\n",
    "outpthim = os.path.join(pthDL, outpth, 'im/')\n",
    "outpthlabel = os.path.join(pthDL, outpth, 'label/')\n",
    "outpthbg = os.path.join(pthDL, outpth, 'big_tiles/')\n",
    "os.makedirs(outpthim, exist_ok=True)\n",
    "os.makedirs(outpthlabel, exist_ok=True)\n",
    "os.makedirs(outpthbg, exist_ok=True)"
   ],
   "id": "3d1fa98fce25679e",
   "outputs": [],
   "execution_count": 9
  },
  {
   "metadata": {
    "ExecuteTime": {
     "end_time": "2024-05-15T15:54:13.829894Z",
     "start_time": "2024-05-15T15:54:13.816071Z"
    }
   },
   "cell_type": "code",
   "source": [
    "imlistck = [f for f in os.listdir(outpthim) if f.endswith('.tif')]\n",
    "nm0 = len(imlistck) + 1"
   ],
   "id": "763aeae4c132dc56",
   "outputs": [],
   "execution_count": 10
  },
  {
   "metadata": {
    "ExecuteTime": {
     "end_time": "2024-05-15T16:15:54.965106Z",
     "start_time": "2024-05-15T16:15:54.498638Z"
    }
   },
   "cell_type": "code",
   "source": [
    "# Create very large blank images - NO IDEA WHAT THESE VARIABLES ARE\n",
    "imH = np.full((stile, stile, 3), nbg, dtype=np.double) #create an array with the specified dimensions with the value of ngb\n",
    "imT = np.zeros((stile, stile))\n",
    "nL = imT.size\n",
    "ct = np.zeros([numann.shape[1],1])\n",
    "sf = np.sum(ct) / nL"
   ],
   "id": "c7c247c7ccda1c97",
   "outputs": [],
   "execution_count": 33
  },
  {
   "metadata": {
    "ExecuteTime": {
     "end_time": "2024-05-15T16:54:53.982357Z",
     "start_time": "2024-05-15T16:54:53.979307Z"
    }
   },
   "cell_type": "code",
   "source": [
    "count = 1\n",
    "tcount = 1\n",
    "cutoff = 0.55\n",
    "rsf = 5\n",
    "type0 = 0\n",
    "h = np.ones((51, 51))\n",
    "h[25, 25] = 0\n",
    "h = distance_transform_edt(h) < 26"
   ],
   "id": "72442ef05f7d0ff6",
   "outputs": [],
   "execution_count": 80
  },
  {
   "metadata": {
    "ExecuteTime": {
     "end_time": "2024-05-15T16:55:43.947143Z",
     "start_time": "2024-05-15T16:55:43.942951Z"
    }
   },
   "cell_type": "code",
   "source": [
    "# choose one of each class in order in a loop\n",
    "if count % 10 == 1:\n",
    "    type_ = tcount\n",
    "    tcount = (tcount % len(ct)) + 1\n",
    "# choose a tile containing the least prevalent class\n",
    "else:\n",
    "    tmp = np.sum(ct, axis=1)\n",
    "    tmp[type0] = np.max(tmp) #\n",
    "    type_ = np.argmin(tmp)\n",
    "    \n",
    "num = np.where(numann[:, type_] > 0)[0]\n",
    "\n",
    "if len(num) == 0:\n",
    "    numann[:, type_] = numann0[:, type_]\n",
    "    num = np.where(numann[:, type_] > 0)[0]\n",
    "num = np.random.permutation(num)"
   ],
   "id": "96602f519a98a510",
   "outputs": [],
   "execution_count": 83
  },
  {
   "metadata": {
    "ExecuteTime": {
     "end_time": "2024-05-15T16:54:00.486603Z",
     "start_time": "2024-05-15T16:54:00.482893Z"
    }
   },
   "cell_type": "code",
   "source": [
    "a = np.array([[-1, 2, 3, 0]])\n",
    "np.argmin(a)"
   ],
   "id": "4a95cdd96cf002f4",
   "outputs": [
    {
     "data": {
      "text/plain": [
       "0"
      ]
     },
     "execution_count": 79,
     "metadata": {},
     "output_type": "execute_result"
    }
   ],
   "execution_count": 79
  },
  {
   "metadata": {
    "ExecuteTime": {
     "end_time": "2024-05-15T16:42:04.680958Z",
     "start_time": "2024-05-15T16:42:04.678834Z"
    }
   },
   "cell_type": "code",
   "source": "",
   "id": "46e795cc24cb2f2c",
   "outputs": [],
   "execution_count": 54
  },
  {
   "metadata": {
    "ExecuteTime": {
     "end_time": "2024-05-15T16:42:05.273284Z",
     "start_time": "2024-05-15T16:42:05.270613Z"
    }
   },
   "cell_type": "code",
   "source": "",
   "id": "f69070f70d825c05",
   "outputs": [],
   "execution_count": 54
  },
  {
   "metadata": {},
   "cell_type": "code",
   "outputs": [],
   "execution_count": null,
   "source": "",
   "id": "4fb91e65a64a8850"
  }
 ],
 "metadata": {
  "kernelspec": {
   "display_name": "Python 3",
   "language": "python",
   "name": "python3"
  },
  "language_info": {
   "codemirror_mode": {
    "name": "ipython",
    "version": 2
   },
   "file_extension": ".py",
   "mimetype": "text/x-python",
   "name": "python",
   "nbconvert_exporter": "python",
   "pygments_lexer": "ipython2",
   "version": "2.7.6"
  }
 },
 "nbformat": 4,
 "nbformat_minor": 5
}
