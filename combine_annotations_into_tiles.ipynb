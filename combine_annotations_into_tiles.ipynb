{
 "cells": [
  {
   "cell_type": "code",
   "id": "initial_id",
   "metadata": {
    "collapsed": true,
    "ExecuteTime": {
     "end_time": "2024-05-17T16:32:55.035988Z",
     "start_time": "2024-05-17T16:32:55.015218Z"
    }
   },
   "source": [
    "import os\n",
    "import numpy as np\n",
    "from scipy.ndimage import distance_transform_edt\n",
    "from edit_annotation_tiles import edit_annotations_tiles\n",
    "from load_annotation_data import load_annotation_data\n",
    "from PIL import Image\n",
    "from skimage.morphology import disk, dilation\n",
    "from scipy.ndimage import convolve"
   ],
   "outputs": [],
   "execution_count": 59
  },
  {
   "metadata": {
    "ExecuteTime": {
     "end_time": "2024-05-17T16:09:00.506207Z",
     "start_time": "2024-05-17T16:09:00.502872Z"
    }
   },
   "cell_type": "code",
   "source": [
    "# Pre - inputs\n",
    "pth = r'\\\\10.99.68.52\\Kiemendata\\Valentina Matos\\coda to python\\test model'\n",
    "pthDL = r'\\\\10.99.68.52\\Kiemendata\\Valentina Matos\\coda to python\\test model\\04_19_2024'\n",
    "pthim_ann = r'\\\\10.99.68.52\\Kiemendata\\Valentina Matos\\coda to python\\test model\\5x'\n",
    "classcheck = 0\n",
    "datafile = r'\\\\10.99.68.52\\Kiemendata\\Valentina Matos\\coda to python\\test model\\04_19_2024\\net.pkl'"
   ],
   "id": "d967958f54c2da71",
   "outputs": [],
   "execution_count": 33
  },
  {
   "metadata": {
    "ExecuteTime": {
     "end_time": "2024-05-17T16:09:01.547305Z",
     "start_time": "2024-05-17T16:09:01.295197Z"
    }
   },
   "cell_type": "code",
   "source": [
    "# Inputs \n",
    "import pickle\n",
    "with open(datafile, 'rb') as f:\n",
    "    data = pickle.load(f)\n",
    "nblack = data['nblack']\n",
    "sxy = data['sxy']\n",
    "ctlist0, numann0 = load_annotation_data(pthDL, pth, pthim_ann,classcheck)\n",
    "numann0 = np.array(numann0)  # Convert numann0 to a NumPy array\n",
    "\n",
    "numann = numann0.copy()\n",
    "percann = np.double(numann0 > 0)\n",
    "percann = np.dstack((percann, percann))\n",
    "percann0 = percann.copy()\n",
    "stile = None \n",
    "nbg = None\n",
    "\n",
    "outpth = r'training'"
   ],
   "id": "fa125a9340c23ef3",
   "outputs": [
    {
     "name": "stdout",
     "output_type": "stream",
     "text": [
      " \n",
      "Importing annotation data...\n",
      "Image 1 of 2: SG_013_0061\n",
      " annotation data previously loaded\n",
      "Image 2 of 2: SG_014_0016\n",
      " annotation data previously loaded\n"
     ]
    }
   ],
   "execution_count": 34
  },
  {
   "metadata": {
    "ExecuteTime": {
     "end_time": "2024-05-17T16:09:02.816233Z",
     "start_time": "2024-05-17T16:09:02.813613Z"
    }
   },
   "cell_type": "code",
   "source": [
    "if nbg is None:\n",
    "        nbg = 0\n",
    "if stile is None:\n",
    "    stile = 10000\n",
    "stile += 200\n",
    "kpall = 1"
   ],
   "id": "3dfeafd95332671a",
   "outputs": [],
   "execution_count": 35
  },
  {
   "metadata": {
    "ExecuteTime": {
     "end_time": "2024-05-17T16:09:03.565666Z",
     "start_time": "2024-05-17T16:09:03.543768Z"
    }
   },
   "cell_type": "code",
   "source": [
    "# Define folder locations\n",
    "outpthim = os.path.join(pthDL, outpth, 'im/')\n",
    "outpthlabel = os.path.join(pthDL, outpth, 'label/')\n",
    "outpthbg = os.path.join(pthDL, outpth, 'big_tiles/')\n",
    "os.makedirs(outpthim, exist_ok=True)\n",
    "os.makedirs(outpthlabel, exist_ok=True)\n",
    "os.makedirs(outpthbg, exist_ok=True)"
   ],
   "id": "3d1fa98fce25679e",
   "outputs": [],
   "execution_count": 36
  },
  {
   "metadata": {
    "ExecuteTime": {
     "end_time": "2024-05-17T16:09:04.114223Z",
     "start_time": "2024-05-17T16:09:04.107823Z"
    }
   },
   "cell_type": "code",
   "source": [
    "imlistck = [f for f in os.listdir(outpthim) if f.endswith('.tif')]\n",
    "nm0 = len(imlistck) + 1"
   ],
   "id": "763aeae4c132dc56",
   "outputs": [],
   "execution_count": 37
  },
  {
   "metadata": {
    "ExecuteTime": {
     "end_time": "2024-05-17T16:09:05.240260Z",
     "start_time": "2024-05-17T16:09:04.872133Z"
    }
   },
   "cell_type": "code",
   "source": [
    "# Create very large blank images - NO IDEA WHAT THESE VARIABLES ARE\n",
    "imH = np.full((stile, stile, 3), nbg, dtype=np.double) #create an array with the specified dimensions with the value of ngb\n",
    "imT = np.zeros((stile, stile))\n",
    "nL = imT.size\n",
    "ct = np.zeros([numann.shape[1]])\n",
    "sf = np.sum(ct) / nL"
   ],
   "id": "c7c247c7ccda1c97",
   "outputs": [],
   "execution_count": 38
  },
  {
   "metadata": {
    "ExecuteTime": {
     "end_time": "2024-05-17T16:09:05.743829Z",
     "start_time": "2024-05-17T16:09:05.739557Z"
    }
   },
   "cell_type": "code",
   "source": [
    "count = 1\n",
    "tcount = 1\n",
    "cutoff = 0.55\n",
    "rsf = 5\n",
    "type0 = 0\n",
    "h = np.ones((51, 51))\n",
    "h[25, 25] = 0\n",
    "h = distance_transform_edt(h) < 26"
   ],
   "id": "72442ef05f7d0ff6",
   "outputs": [],
   "execution_count": 39
  },
  {
   "metadata": {
    "ExecuteTime": {
     "end_time": "2024-05-17T16:29:37.254210Z",
     "start_time": "2024-05-17T16:29:37.250074Z"
    }
   },
   "cell_type": "code",
   "source": [
    "#__________ This should be the iteration of a  while loop__________\n",
    "# choose one of each class in order in a loop\n",
    "if count % 10 == 1:\n",
    "    type_ = tcount\n",
    "    tcount = (tcount % len(ct)) + 1\n",
    "# choose a tile containing the least prevalent class\n",
    "else:\n",
    "    tmp = np.sum(ct, axis=1)\n",
    "    tmp[type0] = np.max(tmp) #\n",
    "    type_ = np.argmin(tmp)\n",
    "    \n",
    "num = np.where(numann[:, type_] > 0)[0]\n",
    "\n",
    "if len(num) == 0:\n",
    "    numann[:, type_] = numann0[:, type_]\n",
    "    num = np.where(numann[:, type_] > 0)[0]\n",
    "num = np.random.choice(num, size=1, replace=False)"
   ],
   "id": "96602f519a98a510",
   "outputs": [],
   "execution_count": 54
  },
  {
   "metadata": {
    "ExecuteTime": {
     "end_time": "2024-05-17T16:29:38.113500Z",
     "start_time": "2024-05-17T16:29:38.110136Z"
    }
   },
   "cell_type": "code",
   "source": [
    "# load annotation and mask\n",
    "tile_name = ctlist0['tile_name'][num[0]]\n",
    "print(tile_name)\n",
    "tile_path = os.path.join(ctlist0['tile_pth'][num[0]], tile_name)\n",
    "pf = tile_path.rfind('\\\\', 0 ,tile_path.rfind('\\\\'))\n",
    "pthlabel = os.path.join(tile_path[0:pf], 'label')"
   ],
   "id": "4a95cdd96cf002f4",
   "outputs": [
    {
     "name": "stdout",
     "output_type": "stream",
     "text": [
      "00104.tif\n"
     ]
    }
   ],
   "execution_count": 55
  },
  {
   "metadata": {
    "ExecuteTime": {
     "end_time": "2024-05-17T16:29:38.699589Z",
     "start_time": "2024-05-17T16:29:38.644262Z"
    }
   },
   "cell_type": "code",
   "source": [
    "im = np.array(Image.open(tile_path))\n",
    "TA = np.array(Image.open(os.path.join(pthlabel, tile_name)))"
   ],
   "id": "46e795cc24cb2f2c",
   "outputs": [],
   "execution_count": 56
  },
  {
   "metadata": {
    "ExecuteTime": {
     "end_time": "2024-05-17T16:29:39.383594Z",
     "start_time": "2024-05-17T16:29:39.325890Z"
    }
   },
   "cell_type": "code",
   "source": [
    "doaug = (count % 3 == 1)\n",
    "im, TA, kp = edit_annotations_tiles(im, TA, doaug, type_, ct, imT.shape[0], kpall)\n",
    "numann[num, kp-1] = 0 #kp-1 due to layer index starting in 1 and python index starting in 0\n",
    "percann[num, kp-1, 0] += 1\n",
    "percann[num, kp-1, 1] = 2\n",
    "fx = (TA != 0)\n",
    "if np.sum(fx) < 30:\n",
    "    print('skipped')\n",
    "    #continue"
   ],
   "id": "f69070f70d825c05",
   "outputs": [],
   "execution_count": 57
  },
  {
   "metadata": {
    "ExecuteTime": {
     "end_time": "2024-05-17T16:55:25.955813Z",
     "start_time": "2024-05-17T16:55:22.603652Z"
    }
   },
   "cell_type": "code",
   "source": [
    "# find low density location in large tile to add annotation\n",
    "tmp = imT > 0\n",
    "tmp2 = tmp[::rsf, ::rsf]\n",
    "tmp2 = convolve(tmp2.astype(float), h, mode='constant', cval=0.0)\n",
    "tmp = distance_transform_edt(tmp2 == 0)\n",
    "tmp[:19, :] = 0\n",
    "tmp[-20:, :] = 0\n",
    "tmp[:, :19] = 0\n",
    "tmp[:, -20:] = 0\n",
    "xii = np.argmax(tmp)\n",
    "xii = np.random.choice(xii, size=1, replace=False)\n",
    "x, y = np.unravel_index(xii, tmp.shape)\n",
    "x *= rsf\n",
    "y *= rsf\n",
    "szz = np.array(TA.shape) - 1\n",
    "szzA = szz // 2\n",
    "szzB = szz - szzA"
   ],
   "id": "4fb91e65a64a8850",
   "outputs": [],
   "execution_count": 65
  },
  {
   "metadata": {
    "ExecuteTime": {
     "end_time": "2024-05-17T16:42:55.739281Z",
     "start_time": "2024-05-17T16:42:55.733730Z"
    }
   },
   "cell_type": "code",
   "source": "",
   "id": "7dbd3a5ed5bdc772",
   "outputs": [
    {
     "data": {
      "text/plain": [
       "array([[  2,   1,  -4],\n",
       "       [ -3,   0,  -7],\n",
       "       [-16, -11, -22]])"
      ]
     },
     "execution_count": 61,
     "metadata": {},
     "output_type": "execute_result"
    }
   ],
   "execution_count": 61
  },
  {
   "metadata": {
    "ExecuteTime": {
     "end_time": "2024-05-17T16:27:29.215812Z",
     "start_time": "2024-05-17T16:27:29.207560Z"
    }
   },
   "cell_type": "code",
   "source": "numann0",
   "id": "c41c03969e6d898a",
   "outputs": [
    {
     "data": {
      "text/plain": [
       "array([[    0.,     0., 15178., ...,     0.,     0.,     0.],\n",
       "       [    0.,   300.,     0., ...,     0.,     0.,     0.],\n",
       "       [    0.,     0.,     0., ...,     0.,     0.,     0.],\n",
       "       ...,\n",
       "       [    0.,     0.,     0., ...,     0.,     0.,     0.],\n",
       "       [    0.,     0.,     0., ...,     0.,     0.,     0.],\n",
       "       [    0.,     0.,     0., ...,     0.,     0.,     0.]])"
      ]
     },
     "execution_count": 52,
     "metadata": {},
     "output_type": "execute_result"
    }
   ],
   "execution_count": 52
  },
  {
   "metadata": {},
   "cell_type": "code",
   "outputs": [],
   "execution_count": null,
   "source": "",
   "id": "9be7dc694722880d"
  }
 ],
 "metadata": {
  "kernelspec": {
   "display_name": "Python 3",
   "language": "python",
   "name": "python3"
  },
  "language_info": {
   "codemirror_mode": {
    "name": "ipython",
    "version": 2
   },
   "file_extension": ".py",
   "mimetype": "text/x-python",
   "name": "python",
   "nbconvert_exporter": "python",
   "pygments_lexer": "ipython2",
   "version": "2.7.6"
  }
 },
 "nbformat": 4,
 "nbformat_minor": 5
}
