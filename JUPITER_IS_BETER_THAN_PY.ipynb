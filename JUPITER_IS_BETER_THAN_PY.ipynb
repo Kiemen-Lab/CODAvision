{
 "cells": [
  {
   "cell_type": "code",
   "execution_count": null,
   "metadata": {
    "collapsed": true
   },
   "outputs": [],
   "source": []
  },
  {
   "cell_type": "code",
   "execution_count": 5,
   "outputs": [],
   "source": [
    "import xmltodict\n",
    "import matlab.engine\n",
    "eng = matlab.engine.start_matlab()\n"
   ],
   "metadata": {
    "collapsed": false
   }
  },
  {
   "cell_type": "code",
   "execution_count": 12,
   "outputs": [
    {
     "data": {
      "text/plain": "['2_7', '3_8', '3_9', '3_10']"
     },
     "execution_count": 12,
     "metadata": {},
     "output_type": "execute_result"
    }
   ],
   "source": [
    "matlab.engine._supported_versions"
   ],
   "metadata": {
    "collapsed": false
   }
  },
  {
   "cell_type": "code",
   "execution_count": 11,
   "outputs": [
    {
     "data": {
      "text/plain": "2.0"
     },
     "execution_count": 11,
     "metadata": {},
     "output_type": "execute_result"
    }
   ],
   "source": [
    "eng.sqrt(4.0)"
   ],
   "metadata": {
    "collapsed": false
   }
  },
  {
   "cell_type": "code",
   "execution_count": 13,
   "outputs": [],
   "source": [
    "import xmltodict\n",
    "import matlab.engine\n",
    "# from matlab.engine import matlab.engine.setup()\n"
   ],
   "metadata": {
    "collapsed": false
   }
  },
  {
   "cell_type": "code",
   "execution_count": 18,
   "outputs": [],
   "source": [
    "\n",
    "\n",
    "def test_xml_to_dict_equivalence():\n",
    "    # Prepare a sample XML file\n",
    "    xml_content = '''\n",
    "    <XMLname attrib1=\"Some value\">\n",
    "        <Element>Some text</Element>\n",
    "        <DifferentElement attrib2=\"2\">Some more text</DifferentElement>\n",
    "        <DifferentElement attrib3=\"2\" attrib4=\"1\">Even more text</DifferentElement>\n",
    "    </XMLname>\n",
    "    '''\n",
    "    file_path = 'sample.xml'\n",
    "    with open(file_path, 'w') as file:\n",
    "        file.write(xml_content)\n",
    "\n",
    "    # Convert XML to dictionary using xml_to_dict function\n",
    "    dict1 = xml_to_dict(file_path)\n",
    "\n",
    "    # Convert XML to dictionary using xml2struct2 function (implemented in MATLAB)\n",
    "    # For comparison purposes, you may need to write an equivalent Python function\n",
    "    # or convert the MATLAB function to Python\n",
    "    dict2 = convert_xml_to_dict_using_matlab_function(file_path)\n",
    "\n",
    "    # Compare the resulting dictionary structures\n",
    "    # assert dict1 == dict2, \"Dictionary structures from both functions are not equal\"\n",
    "\n",
    "    print(\"Unit test passed: Both functions produce equivalent dictionary structures\")\n",
    "    return dict1,dict2\n",
    "\n",
    "def convert_xml_to_dict_using_matlab_function(file_path):\n",
    "    # Start the MATLAB Engine session\n",
    "    eng = matlab.engine.start_matlab()\n",
    "    eng.addpath(r\"\\\\10.99.68.52\\Kiemendata\\Valentina Matos\\Dashboard Project\\CODA Hub\\base\")\n",
    "\n",
    "    # Call the MATLAB function with the provided file path\n",
    "    dict2 = eng.xml2struct2(file_path)\n",
    "\n",
    "    # Close the MATLAB Engine session\n",
    "    eng.quit()\n",
    "\n",
    "    return dict2\n",
    "\n",
    "#same funciton in python\n",
    "def xml_to_dict(file_path):\n",
    "    with open(file_path, 'r') as file:\n",
    "        xml_data = file.read()\n",
    "        xml_dict = xmltodict.parse(xml_data)\n",
    "    return xml_dict\n"
   ],
   "metadata": {
    "collapsed": false
   }
  },
  {
   "cell_type": "code",
   "execution_count": 19,
   "outputs": [
    {
     "name": "stdout",
     "output_type": "stream",
     "text": [
      "Unit test passed: Both functions produce equivalent dictionary structures\n"
     ]
    },
    {
     "data": {
      "text/plain": "({'XMLname': {'@attrib1': 'Some value',\n   'Element': 'Some text',\n   'DifferentElement': [{'@attrib2': '2', '#text': 'Some more text'},\n    {'@attrib3': '2', '@attrib4': '1', '#text': 'Even more text'}]}},\n {'XMLname': {'Element': {'Text': 'Some text'},\n   'DifferentElement': [{'Text': 'Some more text',\n     'Attributes': {'attrib2': '2'}},\n    {'Text': 'Even more text',\n     'Attributes': {'attrib3': '2', 'attrib4': '1'}}],\n   'Attributes': {'attrib1': 'Some value'}}})"
     },
     "execution_count": 19,
     "metadata": {},
     "output_type": "execute_result"
    }
   ],
   "source": [
    "\n",
    "# Run the unit test\n",
    "test_xml_to_dict_equivalence()"
   ],
   "metadata": {
    "collapsed": false
   }
  },
  {
   "cell_type": "code",
   "execution_count": null,
   "outputs": [],
   "source": [],
   "metadata": {
    "collapsed": false
   }
  },
  {
   "cell_type": "code",
   "execution_count": null,
   "outputs": [],
   "source": [],
   "metadata": {
    "collapsed": false
   }
  },
  {
   "cell_type": "code",
   "execution_count": null,
   "outputs": [],
   "source": [],
   "metadata": {
    "collapsed": false
   }
  }
 ],
 "metadata": {
  "kernelspec": {
   "display_name": "Python 3",
   "language": "python",
   "name": "python3"
  },
  "language_info": {
   "codemirror_mode": {
    "name": "ipython",
    "version": 2
   },
   "file_extension": ".py",
   "mimetype": "text/x-python",
   "name": "python",
   "nbconvert_exporter": "python",
   "pygments_lexer": "ipython2",
   "version": "2.7.6"
  }
 },
 "nbformat": 4,
 "nbformat_minor": 0
}
