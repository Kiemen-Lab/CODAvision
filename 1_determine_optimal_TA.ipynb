{
 "cells": [
  {
   "cell_type": "code",
   "execution_count": 1,
   "metadata": {
    "collapsed": true
   },
   "outputs": [],
   "source": [
    "import os\n",
    "import cv2\n",
    "import random\n",
    "import numpy as np\n",
    "from tkinter import messagebox\n",
    "import matplotlib\n",
    "matplotlib.use('TkAgg')\n",
    "import matplotlib.pyplot as plt\n",
    "from tkinter.messagebox import showinfo, askquestion"
   ]
  },
  {
   "cell_type": "code",
   "execution_count": 3,
   "outputs": [
    {
     "name": "stdout",
     "output_type": "stream",
     "text": [
      "Evaluating 2 randomly selected images to choose a good whitespace detection...\n"
     ]
    }
   ],
   "source": [
    "pthim = r'\\\\10.99.68.52\\Kiemendata\\Valentina Matos\\Dashboard Project\\coda python test files\\lung 5x'\n",
    "numims = 2\n",
    "\n",
    "CT0 = 205\n",
    "CTA = CT0 + 5\n",
    "CTC = CT0 - 5\n",
    "szz = 600\n",
    "\n",
    "# Choose images to load\n",
    "imlist = os.listdir(pthim)\n",
    "numims = min(len(imlist), numims)\n",
    "imlist = random.sample(imlist, numims)\n",
    "print(f'Evaluating {numims} randomly selected images to choose a good whitespace detection...')\n",
    "\n",
    "# Check if the optimal cutoff has already been chosen\n",
    "outpth = os.path.join(pthim, 'TA')\n",
    "if not os.path.exists(outpth):\n",
    "    os.makedirs(outpth)\n",
    "if os.path.exists(os.path.join(outpth, 'TA_cutoff.mat')):\n",
    "    print('  Optimal cutoff already chosen, skip this step')"
   ],
   "metadata": {
    "collapsed": false
   }
  },
  {
   "cell_type": "code",
   "execution_count": null,
   "outputs": [
    {
     "name": "stdout",
     "output_type": "stream",
     "text": [
      "Evaluating 2 randomly selected images to choose a good whitespace detection...\n",
      "  Loading image 1 of 2: TVWT 4-1 1.tif\n",
      "    Image loaded\n"
     ]
    }
   ],
   "source": [
    "cts = np.zeros(len(imlist))\n",
    "for b, nm in enumerate(imlist, 1):\n",
    "\n",
    "     # Load image\n",
    "    print(f'  Loading image {b} of {numims}: {nm}')\n",
    "    im0 = cv2.imread(os.path.join(pthim, nm))\n",
    "    print('    Image loaded')\n",
    "\n",
    "    # Crop a region from the image\n",
    "    do_again = True\n",
    "    while do_again:\n",
    "        # Display image\n",
    "        messagebox.showinfo(\"Info\", \"An image will appear\\n\\nClick on a location at the edge of tissue and whitespace\")\n",
    "        # Display image if dimensions are valid\n",
    "        if im0.shape[0] > 0 and im0.shape[1] > 0:\n",
    "            cv2.imshow(\"Image\", im0)\n",
    "            cv2.waitKey(0)\n",
    "            cv2.destroyAllWindows()\n",
    "        else:\n",
    "            print(\"Invalid image dimensions. Cannot display.\")\n",
    "        x, y = cv2.selectROI(\"Select ROI\", im0)\n",
    "        x, y, w, h = int(x), int(y), int(w), int(h)\n",
    "        xx = np.intersect1d(np.arange(im0.shape[1]), np.arange(x - szz, x + szz))\n",
    "        yy = np.intersect1d(np.arange(im0.shape[0]), np.arange(y - szz, y + szz))\n",
    "\n",
    "        # plt.imshow(cv2.cvtColor(im0, cv2.COLOR_BGR2RGB))\n",
    "        # plt.title('Click on a location at the edge of tissue and whitespace')\n",
    "        # plt.axis('off')\n",
    "        # coords = plt.ginput(1)  # Get coordinates from user input\n",
    "        # plt.close()\n",
    "        #\n",
    "        # x, y = int(coords[0][0]), int(coords[0][1])\n",
    "        #\n",
    "        # xx = np.intersect1d(np.arange(im0.shape[1]), np.arange(x - szz, x + szz))\n",
    "        # yy = np.intersect1d(np.arange(im0.shape[0]), np.arange(y - szz, y + szz))\n",
    "\n",
    "\n",
    "        # Determine if the cropped region is good or not\n",
    "        im = im0[yy[0]:yy[-1], xx[0]:xx[-1]]\n",
    "        plt.imshow('Cropped Image', im)\n",
    "        response = askquestion(\"Evaluation\", \"Is this a good location to evaluate tissue and whitespace detection?\")\n",
    "        if response == 'yes':\n",
    "            do_again = False\n",
    "\n",
    "    found_CT0 = False\n",
    "    while not found_CT0:\n",
    "        img = im[:, :, 1]\n",
    "        imA = img > CTA\n",
    "        imA = cv2.morphologyEx(imA.astype(np.uint8), cv2.MORPH_OPEN, np.ones((10, 10)))\n",
    "        imA = ~cv2.morphologyEx(~imA, cv2.MORPH_OPEN, np.ones((10, 10)))\n",
    "        imB = img > CT0\n",
    "        imB = cv2.morphologyEx(imB.astype(np.uint8), cv2.MORPH_OPEN, np.ones((10, 10)))\n",
    "        imB = ~cv2.morphologyEx(~imB, cv2.MORPH_OPEN, np.ones((10, 10)))\n",
    "        imC = img > CTC\n",
    "        imC = cv2.morphologyEx(imC.astype(np.uint8), cv2.MORPH_OPEN, np.ones((10, 10)))\n",
    "        imC = ~cv2.morphologyEx(~imC, cv2.MORPH_OPEN, np.ones((10, 10)))\n",
    "\n",
    "        plt.figure(figsize=(10, 5))\n",
    "\n",
    "        plt.subplot(2, 2, 1)\n",
    "        plt.imshow(im, cmap='gray')\n",
    "        plt.title('H&E Image')\n",
    "\n",
    "        plt.subplot(2, 2, 2)\n",
    "        plt.imshow(imA, cmap='gray')\n",
    "        plt.title('IMAGE A: keep more tissue')\n",
    "\n",
    "        plt.subplot(2, 2, 3)\n",
    "        plt.imshow(imB, cmap='gray')\n",
    "        plt.title('IMAGE B: medium')\n",
    "\n",
    "        plt.subplot(2, 2, 4)\n",
    "        plt.imshow(imC, cmap='gray')\n",
    "        plt.title('IMAGE C: keep more whitespace')\n",
    "\n",
    "        plt.tight_layout()\n",
    "        plt.show()\n",
    "\n",
    "        messagebox.showinfo(\"Note\", \"Zoom in to evaluate the potential whitespace detection images. \"\n",
    "                                    \"Determine which image is best, then press spacebar to continue. \"\n",
    "                                    \"In the images, black pixels are tissue, white pixels are whitespace.\")\n",
    "#         response = askquestion(\"Decision\", \"Does one of the images look good?\")\n",
    "#         if response == 'yes':\n",
    "#             found_CT0 = True\n",
    "#         elif response == 'no':\n",
    "#             response = askquestion(\"Decision\", \"No, keep more tissue or keep more whitespace?\")\n",
    "#             if response == 'yes':\n",
    "#                 CT0 += 10\n",
    "#                 CTA = CT0 + 5\n",
    "#                 CTC = CT0 - 5\n",
    "#             elif response == 'no':\n",
    "#                 CT0 -= 10\n",
    "#                 CTA = CT0 + 5\n",
    "#                 CTC = CT0 - 5\n",
    "#\n",
    "# response = askquestion(\"Decision\", \"Which image is best?\")\n",
    "# if response == 'yes':\n",
    "#     response = 'IMAGE B'\n",
    "# print(f'    Chose {response}')\n",
    "# if response == 'IMAGE A':\n",
    "#     cts[b - 1] = CTA\n",
    "# elif response == 'IMAGE B':\n",
    "#     cts[b - 1] = CT0\n",
    "# elif response == 'IMAGE C':\n",
    "#     cts[b - 1] = CTC\n",
    "#\n",
    "# np.save(os.path.join(outpth, 'TA_cutoff.npy'), [imlist, cts])"
   ],
   "metadata": {
    "collapsed": false,
    "pycharm": {
     "is_executing": true
    }
   }
  },
  {
   "cell_type": "code",
   "execution_count": 6,
   "outputs": [],
   "source": [
    "import matplotlib.pyplot as plt\n",
    "import numpy as np\n",
    "\n",
    "# Some example data to display\n",
    "x = np.linspace(0, 2 * np.pi, 400)\n",
    "y = np.sin(x ** 2)\n",
    "\n",
    "fig, axs = plt.subplots(2, 2)\n",
    "axs[0, 0].plot(x, y)\n",
    "axs[0, 0].set_title(\"main\")\n",
    "axs[1, 0].plot(x, y**2)\n",
    "axs[1, 0].set_title(\"shares x with main\")\n",
    "axs[1, 0].sharex(axs[0, 0])\n",
    "axs[0, 1].plot(x + 1, y + 1)\n",
    "axs[0, 1].set_title(\"unrelated\")\n",
    "axs[1, 1].plot(x + 2, y + 2)\n",
    "axs[1, 1].set_title(\"also unrelated\")\n",
    "fig.tight_layout()\n",
    "plt.show()\n"
   ],
   "metadata": {
    "collapsed": false
   }
  },
  {
   "cell_type": "code",
   "execution_count": 20,
   "outputs": [],
   "source": [
    "def determine_optimal_TA(pthim=None, numims=None):\n",
    "    if pthim is None or numims is None:\n",
    "        pthim = r'\\\\10.99.68.52\\Kiemendata\\Valentina Matos\\tissues for methods paper\\human skin\\10x'\n",
    "        numims = 5\n",
    "\n",
    "    CT0 = 205\n",
    "    CTA = CT0 + 5\n",
    "    CTC = CT0 - 5\n",
    "    szz = 600\n",
    "\n",
    "    # Choose images to load\n",
    "    imlist = os.listdir(pthim)\n",
    "    numims = min(len(imlist), numims)\n",
    "    imlist = random.sample(imlist, numims)\n",
    "    print(f'Evaluating {numims} randomly selected images to choose a good whitespace detection...')\n",
    "\n",
    "    # Check if the optimal cutoff has already been chosen\n",
    "    outpth = os.path.join(pthim, 'TA')\n",
    "    if not os.path.exists(outpth):\n",
    "        os.makedirs(outpth)\n",
    "    if os.path.exists(os.path.join(outpth, 'TA_cutoff.mat')):\n",
    "        print('  Optimal cutoff already chosen, skip this step')\n",
    "        return\n",
    "\n",
    "    cts = np.zeros(len(imlist))\n",
    "    for b, nm in enumerate(imlist, 1):\n",
    "        # Load image\n",
    "        print(f'  Loading image {b} of {numims}: {nm}')\n",
    "        im0 = cv2.imread(os.path.join(pthim, nm))\n",
    "        print('    Image loaded')\n",
    "\n",
    "        # Crop a region from the image\n",
    "        do_again = True\n",
    "        while do_again:\n",
    "            # Display image\n",
    "            plt.imshow(cv2.cvtColor(im0, cv2.COLOR_BGR2RGB))\n",
    "            plt.title('Click on a location at the edge of tissue and whitespace')\n",
    "            plt.axis('off')\n",
    "            coords = plt.ginput(1)  # Get coordinates from user input\n",
    "            plt.close()\n",
    "\n",
    "            x, y = int(coords[0][0]), int(coords[0][1])\n",
    "\n",
    "            xx = np.intersect1d(np.arange(im0.shape[1]), np.arange(x - szz, x + szz))\n",
    "            yy = np.intersect1d(np.arange(im0.shape[0]), np.arange(y - szz, y + szz))\n",
    "\n",
    "\n",
    "            # Determine if the cropped region is good or not\n",
    "            im = im0[yy[0]:yy[-1], xx[0]:xx[-1]]\n",
    "            cv2.imshow('Cropped Image', im)\n",
    "            response = askquestion(\"Evaluation\", \"Is this a good location to evaluate tissue and whitespace detection?\")\n",
    "            if response == 'yes':\n",
    "                do_again = False\n",
    "\n",
    "        found_CT0 = False\n",
    "        while not found_CT0:\n",
    "            img = im[:, :, 1]\n",
    "            imA = img > CTA\n",
    "            imA = cv2.morphologyEx(imA.astype(np.uint8), cv2.MORPH_OPEN, np.ones((10, 10)))\n",
    "            imA = ~cv2.morphologyEx(~imA, cv2.MORPH_OPEN, np.ones((10, 10)))\n",
    "            imB = img > CT0\n",
    "            imB = cv2.morphologyEx(imB.astype(np.uint8), cv2.MORPH_OPEN, np.ones((10, 10)))\n",
    "            imB = ~cv2.morphologyEx(~imB, cv2.MORPH_OPEN, np.ones((10, 10)))\n",
    "            imC = img > CTC\n",
    "            imC = cv2.morphologyEx(imC.astype(np.uint8), cv2.MORPH_OPEN, np.ones((10, 10)))\n",
    "            imC = ~cv2.morphologyEx(~imC, cv2.MORPH_OPEN, np.ones((10, 10)))\n",
    "\n",
    "            cv2.imshow('H&E Image', im)\n",
    "            cv2.imshow('IMAGE A: keep more tissue', imA)\n",
    "            cv2.imshow('IMAGE B: medium', imB)\n",
    "            cv2.imshow('IMAGE C: keep more whitespace', imC)\n",
    "            cv2.waitKey(0)\n",
    "            cv2.destroyAllWindows()\n",
    "\n",
    "            messagebox.showinfo(\"Note\", \"Zoom in to evaluate the potential whitespace detection images. \"\n",
    "                                        \"Determine which image is best, then press spacebar to continue. \"\n",
    "                                        \"In the images, black pixels are tissue, white pixels are whitespace.\")\n",
    "            cv2.waitKey(0)\n",
    "            cv2.destroyAllWindows()\n",
    "\n",
    "            response = askquestion(\"Decision\", \"Does one of the images look good?\")\n",
    "            if response == 'yes':\n",
    "                found_CT0 = True\n",
    "            elif response == 'no':\n",
    "                response = askquestion(\"Decision\", \"No, keep more tissue or keep more whitespace?\")\n",
    "                if response == 'yes':\n",
    "                    CT0 += 10\n",
    "                    CTA = CT0 + 5\n",
    "                    CTC = CT0 - 5\n",
    "                elif response == 'no':\n",
    "                    CT0 -= 10\n",
    "                    CTA = CT0 + 5\n",
    "                    CTC = CT0 - 5\n",
    "\n",
    "        response = askquestion(\"Decision\", \"Which image is best?\")\n",
    "        if response == 'yes':\n",
    "            response = 'IMAGE B'\n",
    "        print(f'    Chose {response}')\n",
    "        if response == 'IMAGE A':\n",
    "            cts[b - 1] = CTA\n",
    "        elif response == 'IMAGE B':\n",
    "            cts[b - 1] = CT0\n",
    "        elif response == 'IMAGE C':\n",
    "            cts[b - 1] = CTC\n",
    "\n",
    "    np.save(os.path.join(outpth, 'TA_cutoff.npy'), [imlist, cts])"
   ],
   "metadata": {
    "collapsed": false
   }
  },
  {
   "cell_type": "code",
   "execution_count": 21,
   "outputs": [
    {
     "name": "stdout",
     "output_type": "stream",
     "text": [
      "Evaluating 5 randomly selected images to choose a good whitespace detection...\n",
      "  Loading image 1 of 5: OTS-21-11041 - 2021-11-15 09.49.33.tif\n",
      "    Image loaded\n"
     ]
    },
    {
     "ename": "AttributeError",
     "evalue": "'NoneType' object has no attribute 'split'",
     "output_type": "error",
     "traceback": [
      "\u001B[1;31m---------------------------------------------------------------------------\u001B[0m",
      "\u001B[1;31mAttributeError\u001B[0m                            Traceback (most recent call last)",
      "Cell \u001B[1;32mIn[21], line 2\u001B[0m\n\u001B[0;32m      1\u001B[0m \u001B[38;5;28;01mif\u001B[39;00m \u001B[38;5;18m__name__\u001B[39m \u001B[38;5;241m==\u001B[39m \u001B[38;5;124m\"\u001B[39m\u001B[38;5;124m__main__\u001B[39m\u001B[38;5;124m\"\u001B[39m:\n\u001B[1;32m----> 2\u001B[0m     determine_optimal_TA()\n",
      "Cell \u001B[1;32mIn[20], line 40\u001B[0m, in \u001B[0;36mdetermine_optimal_TA\u001B[1;34m(pthim, numims)\u001B[0m\n\u001B[0;32m     38\u001B[0m cv2\u001B[38;5;241m.\u001B[39mwaitKey(\u001B[38;5;241m0\u001B[39m)\n\u001B[0;32m     39\u001B[0m cv2\u001B[38;5;241m.\u001B[39mdestroyAllWindows()\n\u001B[1;32m---> 40\u001B[0m x, y \u001B[38;5;241m=\u001B[39m askstring(\u001B[38;5;124m\"\u001B[39m\u001B[38;5;124mInput\u001B[39m\u001B[38;5;124m\"\u001B[39m, \u001B[38;5;124m\"\u001B[39m\u001B[38;5;124mEnter coordinates (x,y):\u001B[39m\u001B[38;5;124m\"\u001B[39m)\u001B[38;5;241m.\u001B[39msplit(\u001B[38;5;124m'\u001B[39m\u001B[38;5;124m,\u001B[39m\u001B[38;5;124m'\u001B[39m)\n\u001B[0;32m     41\u001B[0m x, y \u001B[38;5;241m=\u001B[39m \u001B[38;5;28mint\u001B[39m(x), \u001B[38;5;28mint\u001B[39m(y)\n\u001B[0;32m     42\u001B[0m xx \u001B[38;5;241m=\u001B[39m np\u001B[38;5;241m.\u001B[39mintersect1d(np\u001B[38;5;241m.\u001B[39marange(im0\u001B[38;5;241m.\u001B[39mshape[\u001B[38;5;241m1\u001B[39m]), np\u001B[38;5;241m.\u001B[39marange(x \u001B[38;5;241m-\u001B[39m szz, x \u001B[38;5;241m+\u001B[39m szz))\n",
      "\u001B[1;31mAttributeError\u001B[0m: 'NoneType' object has no attribute 'split'"
     ]
    }
   ],
   "source": [
    "if __name__ == \"__main__\":\n",
    "    determine_optimal_TA()"
   ],
   "metadata": {
    "collapsed": false
   }
  },
  {
   "cell_type": "code",
   "execution_count": 6,
   "outputs": [
    {
     "data": {
      "text/plain": "'ok'"
     },
     "execution_count": 6,
     "metadata": {},
     "output_type": "execute_result"
    }
   ],
   "source": [
    "messagebox.showinfo(\"Note\", \"Zoom in to evaluate the potential whitespace detection images. \"\n",
    "                                    \"Determine which image is best, then press spacebar to continue. \"\n",
    "                                    \"In the images, black pixels are tissue, white pixels are whitespace.\")"
   ],
   "metadata": {
    "collapsed": false
   }
  },
  {
   "cell_type": "code",
   "execution_count": null,
   "outputs": [],
   "source": [],
   "metadata": {
    "collapsed": false
   }
  }
 ],
 "metadata": {
  "kernelspec": {
   "display_name": "Python 3",
   "language": "python",
   "name": "python3"
  },
  "language_info": {
   "codemirror_mode": {
    "name": "ipython",
    "version": 2
   },
   "file_extension": ".py",
   "mimetype": "text/x-python",
   "name": "python",
   "nbconvert_exporter": "python",
   "pygments_lexer": "ipython2",
   "version": "2.7.6"
  }
 },
 "nbformat": 4,
 "nbformat_minor": 0
}
