{
 "cells": [
  {
   "cell_type": "code",
   "id": "initial_id",
   "metadata": {
    "collapsed": true,
    "ExecuteTime": {
     "end_time": "2024-12-14T15:46:46.159328Z",
     "start_time": "2024-12-14T15:46:37.368543Z"
    }
   },
   "source": [
    "import os.path\n",
    "import shutil\n",
    "import pickle\n",
    "from tkinter import image_names\n",
    "\n",
    "from base.CODAGUI_fend import MainWindow\n",
    "import sys\n",
    "from PySide6 import QtWidgets\n",
    "from base.classify_im_fend import MainWindowClassify\n",
    "from base import CODA\n",
    "from base import *\n",
    "\n",
    "# 1 Execute the GUI\n",
    "app = QtWidgets.QApplication.instance()\n",
    "if app is None:\n",
    "    app = QtWidgets.QApplication(sys.argv)\n",
    "\n",
    "# Load and apply the dark theme stylesheet\n",
    "current_dir = os.getcwd()\n",
    "with open(os.path.join(current_dir,'base','dark_theme.qss'), 'r') as file:\n",
    "    app.setStyleSheet(file.read())\n",
    "\n",
    "window = MainWindow()\n",
    "window.show()\n",
    "app.exec()"
   ],
   "outputs": [
    {
     "name": "stdout",
     "output_type": "stream",
     "text": [
      "Prerecorded data loaded successfully.\n",
      "Form filled with: \n",
      "Training path: //10.99.68.52/Kiemendata/Valentina Matos/Jaime/annotate\n",
      "Testing path: //10.99.68.52/Kiemendata/Valentina Matos/Jaime/annotate/test\n",
      "Model name: 12_14_2024\n",
      "Resolution: Custom\n",
      "Updated Raw DataFrame from tab 2:\n",
      "      Layer Name            Color Whitespace Settings  Delete layer  \\\n",
      "0          bones  (250, 236, 154)                   2         False   \n",
      "1           lung     (0, 255, 64)                   2         False   \n",
      "2   lung_vessels    (255, 128, 0)                   2         False   \n",
      "3  heart_vessels      (255, 0, 0)                   2         False   \n",
      "4            ecm  (255, 128, 192)                   2         False   \n",
      "5          heart  (255, 255, 255)                   2         False   \n",
      "6      nontissue    (0, 255, 255)                   2         False   \n",
      "\n",
      "   Combined layers  Nesting  Component analysis  \n",
      "0                1        1               False  \n",
      "1                2        2               False  \n",
      "2                3        3               False  \n",
      "3                4        4               False  \n",
      "4                5        5               False  \n",
      "5                6        6               False  \n",
      "6                7        7               False  \n",
      "Updated DataFrame:\n",
      "      Layer Name            Color Whitespace Settings  Delete layer  \\\n",
      "0          bones  (250, 236, 154)                   2         False   \n",
      "1           lung     (0, 255, 64)                   2         False   \n",
      "2   lung_vessels    (255, 128, 0)                   2         False   \n",
      "3  heart_vessels      (255, 0, 0)                   2         False   \n",
      "4            ecm  (255, 128, 192)                   2         False   \n",
      "5          heart  (255, 255, 255)                   2         False   \n",
      "6      nontissue    (0, 255, 255)                   2         False   \n",
      "\n",
      "   Combined layers  Nesting  Component analysis  \n",
      "0                1        1               False  \n",
      "1                2        2               False  \n",
      "2                3        3               False  \n",
      "3                4        4               False  \n",
      "4                5        5               False  \n",
      "5                6        6               False  \n",
      "6                7        7               False  \n",
      "\n",
      "Final Raw DataFrame with combined indexes:\n",
      "      Layer Name            Color Whitespace Settings  Delete layer  \\\n",
      "0          bones  (250, 236, 154)                   2         False   \n",
      "1           lung     (0, 255, 64)                   2         False   \n",
      "2   lung_vessels    (255, 128, 0)                   2         False   \n",
      "3  heart_vessels      (255, 0, 0)                   2         False   \n",
      "4            ecm  (255, 128, 192)                   2         False   \n",
      "5          heart  (255, 255, 255)                   2         False   \n",
      "6      nontissue    (0, 255, 255)                   2         False   \n",
      "\n",
      "   Combined layers  Nesting  Component analysis  \n",
      "0                1        1               False  \n",
      "1                2        2               False  \n",
      "2                3        3               False  \n",
      "3                4        4               False  \n",
      "4                5        5               False  \n",
      "5                6        6               False  \n",
      "6                7        7               False  \n",
      "\n",
      "Final Combined DataFrame:\n",
      "      Layer Name            Color Whitespace Settings  Layer idx  Deleted  \\\n",
      "0          bones  (250, 236, 154)                   2          1    False   \n",
      "1           lung     (0, 255, 64)                   2          2    False   \n",
      "2   lung_vessels    (255, 128, 0)                   2          3    False   \n",
      "3  heart_vessels      (255, 0, 0)                   2          4    False   \n",
      "4            ecm  (255, 128, 192)                   2          5    False   \n",
      "5          heart  (255, 255, 255)                   2          6    False   \n",
      "6      nontissue    (0, 255, 255)                   2          7    False   \n",
      "\n",
      "   Component analysis  \n",
      "0               False  \n",
      "1               False  \n",
      "2               False  \n",
      "3               False  \n",
      "4               False  \n",
      "5               False  \n",
      "6               False  \n",
      "Classnames:  ['bones', 'lung', 'lung_vessels', 'heart_vessels', 'ecm', 'heart', 'nontissue']\n",
      "Colormap:  [[250 236 154]\n",
      " [  0 255  64]\n",
      " [255 128   0]\n",
      " [255   0   0]\n",
      " [255 128 192]\n",
      " [255 255 255]\n",
      " [  0 255 255]]\n",
      "WS [[2, 2, 2, 2, 2, 2, 2], [2, 3], [1, 2, 3, 4, 5, 6, 7], [7, 6, 5, 4, 3, 2, 1], []]\n",
      "Saving model metadata and classification colormap...\n",
      "Max WS[2]: 7\n",
      "Classnames: ['bones', 'lung', 'lung_vessels', 'heart_vessels', 'ecm', 'heart', 'nontissue']\n",
      "Net file already exists, updating data...\n"
     ]
    },
    {
     "data": {
      "text/plain": [
       "0"
      ]
     },
     "execution_count": 1,
     "metadata": {},
     "output_type": "execute_result"
    },
    {
     "data": {
      "text/plain": [
       "<Figure size 640x480 with 1 Axes>"
      ],
      "image/png": "[encoded data removed]"
     },
     "metadata": {},
     "output_type": "display_data"
    }
   ],
   "execution_count": 1
  },
  {
   "metadata": {
    "ExecuteTime": {
     "end_time": "2024-12-14T15:46:48.707331Z",
     "start_time": "2024-12-14T15:46:48.676702Z"
    }
   },
   "cell_type": "code",
   "source": [
    "if window.classify:\n",
    "    if window.classification_source == 1:\n",
    "        pkl_pth = window.pth_net\n",
    "    else:\n",
    "        pkl_pth = os.path.join(window.pthim, window.nm,'net.pkl')\n",
    "    with open(window.pth_net, 'rb') as f:\n",
    "        data = pickle.load(f)\n",
    "        pthim = data['pthim']\n",
    "        umpix = data['umpix']\n",
    "        nm = data['nm']\n",
    "        pthDL = data['pthDL']\n",
    "        final_df = data['final_df']\n",
    "        model_type = data['model_type']\n",
    "        if umpix == 'TBD':\n",
    "            scale = data['scale']\n",
    "            uncomp_train = data['uncomp_train_pth']\n",
    "            uncompt_test = data['uncomp_test_pth']\n",
    "            create_down = data['create_down']\n",
    "            downsamp_annotated = data['downsamp_annotated']\n",
    "    umpix_to_resolution = {1: '10x', 2: '5x', 4: '1x'}\n",
    "    resolution = umpix_to_resolution.get(umpix, 'TBD')\n",
    "    if resolution == 'TBD' and not (create_down):\n",
    "        pth = ''\n",
    "        for element in pthDL.split(os.sep)[:-1]:\n",
    "            pth = os.path.join(pth, element)\n",
    "        window2 = MainWindowClassify(uncomp_train, nm, model_type, pth)\n",
    "        window2.show()\n",
    "        app.exec()\n",
    "    else:\n",
    "        window2 = MainWindowClassify(pthim, nm, model_type)\n",
    "        window2.show()\n",
    "        app.exec()"
   ],
   "id": "161c93498b1a3271",
   "outputs": [],
   "execution_count": 2
  },
  {
   "metadata": {
    "ExecuteTime": {
     "end_time": "2024-12-14T15:46:49.282649Z",
     "start_time": "2024-12-14T15:46:49.251019Z"
    }
   },
   "cell_type": "code",
   "source": [
    "if not(window.classify) and window.train:\n",
    "    # Load the paths from the GUI\n",
    "    pth = os.path.abspath(window.ui.trianing_LE.text())\n",
    "    pthDL = os.path.abspath(window.get_pthDL())\n",
    "    pthim = os.path.abspath(window.get_pthim())\n",
    "    pthtest = os.path.abspath(window.ui.testing_LE.text())\n",
    "    pthtestim = os.path.abspath(window.get_pthtestim())\n",
    "    nTA = window.TA\n",
    "    umpix = window.umpix\n",
    "    resolution = window.resolution\n",
    "    model_type = window.model_type\n",
    "    already_scaled = not(window.create_down)\n",
    "    downsamp_annotated = window.downsamp_annotated_images\n",
    "    # Create tiff images if they don't exist\n",
    "    print(' ')\n",
    "    if resolution == 'Custom':\n",
    "        train_img_type = window.img_type\n",
    "        test_img_type = window.test_img_type\n",
    "        scale = float(window.scale)\n",
    "        if downsamp_annotated:\n",
    "            WSI2tif(pth, resolution, umpix, train_img_type, scale, pth)\n",
    "        else:\n",
    "            uncomp_pth = window.uncomp_train_pth\n",
    "            uncomp_test_pth = window.uncomp_test_pth\n",
    "            if already_scaled:\n",
    "                pthim = uncomp_pth\n",
    "                pthtestim = uncomp_test_pth\n",
    "            if not already_scaled: # Additional function i accidentally added, might include it in the future\n",
    "                WSI2tif(uncomp_pth, resolution, umpix, train_img_type, scale,pth)\n",
    "    else:\n",
    "        WSI2tif(pth, resolution, umpix)"
   ],
   "id": "fcb6baa5119a73fb",
   "outputs": [
    {
     "name": "stdout",
     "output_type": "stream",
     "text": [
      "2\n",
      " \n"
     ]
    }
   ],
   "execution_count": 3
  },
  {
   "metadata": {
    "ExecuteTime": {
     "end_time": "2024-12-14T15:46:50.471009Z",
     "start_time": "2024-12-14T15:46:50.458006Z"
    }
   },
   "cell_type": "code",
   "source": [
    "# Determine optimal TA\n",
    "determine_optimal_TA(pthim, nTA)"
   ],
   "id": "767aa67dbd1c7c7b",
   "outputs": [
    {
     "name": "stdout",
     "output_type": "stream",
     "text": [
      "   \n",
      "Evaluating 3 randomly selected images to choose a good whitespace detection...\n",
      "   Optimal cutoff already chosen, skip this step\n"
     ]
    }
   ],
   "execution_count": 4
  },
  {
   "metadata": {
    "ExecuteTime": {
     "end_time": "2024-12-14T15:46:51.337777Z",
     "start_time": "2024-12-14T15:46:50.962558Z"
    }
   },
   "cell_type": "code",
   "source": [
    "# 2 load and format annotations from each annotated image\n",
    "[ctlist0, numann0, create_new_tiles] = load_annotation_data(pthDL, pth, pthim)"
   ],
   "id": "d6fa2f1c807b9d39",
   "outputs": [
    {
     "name": "stdout",
     "output_type": "stream",
     "text": [
      " \n",
      "Importing annotation data...\n",
      "Image 1 of 19: MRI_slice_1585\n",
      " annotation data previously loaded\n",
      "Image 2 of 19: MRI_slice_1627\n",
      " annotation data previously loaded\n",
      "Image 3 of 19: MRI_slice_1670\n",
      " annotation data previously loaded\n",
      "Image 4 of 19: MRI_slice_1712\n",
      " annotation data previously loaded\n",
      "Image 5 of 19: MRI_slice_1737\n",
      " annotation data previously loaded\n",
      "Image 6 of 19: MRI_slice_1744\n",
      " annotation data previously loaded\n",
      "Image 7 of 19: MRI_slice_1754\n",
      " annotation data previously loaded\n",
      "Image 8 of 19: MRI_slice_1839\n",
      " annotation data previously loaded\n",
      "Image 9 of 19: MRI_slice_1881\n",
      " annotation data previously loaded\n",
      "Image 10 of 19: MRI_slice_1924\n",
      " annotation data previously loaded\n",
      "Image 11 of 19: MRI_slice_1934\n",
      " annotation data previously loaded\n",
      "Image 12 of 19: MRI_slice_1939\n",
      " annotation data previously loaded\n",
      "Image 13 of 19: MRI_slice_1958\n",
      " annotation data previously loaded\n",
      "Image 14 of 19: MRI_slice_1963\n",
      " annotation data previously loaded\n",
      "Image 15 of 19: MRI_slice_1966\n",
      " annotation data previously loaded\n",
      "Image 16 of 19: MRI_slice_1974\n",
      " annotation data previously loaded\n",
      "Image 17 of 19: MRI_slice_1979\n",
      " annotation data previously loaded\n",
      "Image 18 of 19: MRI_slice_1984\n",
      " annotation data previously loaded\n",
      "Image 19 of 19: MRI_slice_1985\n",
      " annotation data previously loaded\n"
     ]
    }
   ],
   "execution_count": 5
  },
  {
   "metadata": {
    "ExecuteTime": {
     "end_time": "2024-12-14T15:46:51.596509Z",
     "start_time": "2024-12-14T15:46:51.564879Z"
    }
   },
   "cell_type": "code",
   "source": [
    "# 3 Make training & validation tiles for model training\n",
    "create_training_tiles(pthDL, numann0, ctlist0, create_new_tiles)"
   ],
   "id": "871e506589c04b53",
   "outputs": [
    {
     "name": "stdout",
     "output_type": "stream",
     "text": [
      "\n",
      "Calculating total number of pixels in the training dataset...\n",
      " There are 4712500.0 pixels of bones, 9% of the most common class.\n",
      " There are 22574800.0 pixels of lung, 46% of the most common class.\n",
      " There are 583800.0 pixels of lung_vessels, 1% of the most common class.\n",
      " There are 10749500.0 pixels of heart_vessels, 22% of the most common class.\n",
      " There are 48506900.0 pixels of ecm. This is the most common class.\n",
      " There are 1980300.0 pixels of heart, 4% of the most common class.\n",
      " There are 4118200.0 pixels of nontissue, 8% of the most common class.\n",
      "\n",
      "Building training tiles...\n",
      "  Already done.\n",
      "  Elapsed time to create training big tiles: 0.0h 0.0m 0.00250244140625s\n",
      "Building validation tiles...\n",
      "  Already done.\n",
      "  Elapsed time to create validation big tiles: 0.0h 0.0m 0.0s\n",
      "\n"
     ]
    }
   ],
   "execution_count": 6
  },
  {
   "metadata": {
    "ExecuteTime": {
     "end_time": "2024-12-14T15:46:52.279745Z",
     "start_time": "2024-12-14T15:46:52.270742Z"
    }
   },
   "cell_type": "code",
   "source": [
    "# 4 Train model\n",
    "train_segmentation_model_cnns(pthDL)"
   ],
   "id": "c4afd5abbd2e35f",
   "outputs": [
    {
     "name": "stdout",
     "output_type": "stream",
     "text": [
      "Model already trained with the same name\n"
     ]
    }
   ],
   "execution_count": 7
  },
  {
   "metadata": {
    "ExecuteTime": {
     "end_time": "2024-12-14T15:46:56.354572Z",
     "start_time": "2024-12-14T15:46:53.333243Z"
    }
   },
   "cell_type": "code",
   "source": [
    "# 5 Test model\n",
    "print(' ')\n",
    "if resolution == 'Custom':\n",
    "    if downsamp_annotated:\n",
    "        WSI2tif(pthtest, resolution, umpix, test_img_type, scale, pthtest)\n",
    "        if not os.path.isfile(os.path.join(pthtestim, 'TA', 'TA_cutoff.pkl')):\n",
    "            try:\n",
    "                os.makedirs(os.path.join(pthtestim, 'TA'), exist_ok=True)\n",
    "                shutil.copy(os.path.join(pthim, 'TA', 'TA_cutoff.pkl'),\n",
    "                            os.path.join(pthtestim, 'TA', 'TA_cutoff.pkl'))\n",
    "            except:\n",
    "                print('No TA cutoff file found, using default value')\n",
    "    else:\n",
    "        if already_scaled:\n",
    "            if not os.path.isfile(os.path.join(pthtestim, 'TA', 'TA_cutoff.pkl')):\n",
    "                try:\n",
    "                    os.makedirs(os.path.join(pthtestim, 'TA'), exist_ok=True)\n",
    "                    shutil.copy(os.path.join(pthim, 'TA', 'TA_cutoff.pkl'),\n",
    "                                 os.path.join(pthtestim, 'TA', 'TA_cutoff.pkl'))\n",
    "                except:\n",
    "                    print('No TA cutoff file found, using default value')\n",
    "        if not already_scaled: # Additional function i accidentally added, might include it in the future\n",
    "            WSI2tif(uncomp_test_pth, resolution, umpix, train_img_type, scale, pthtest)\n",
    "            if not os.path.isfile(os.path.join(pthtestim, 'TA', 'TA_cutoff.pkl')):\n",
    "                try:\n",
    "                    os.makedirs(os.path.join(pthtestim, 'TA'), exist_ok=True)\n",
    "                    shutil.copy(os.path.join(pthim, 'TA', 'TA_cutoff.pkl'),\n",
    "                                os.path.join(pthtestim, 'TA', 'TA_cutoff.pkl'))\n",
    "                except:\n",
    "                    print('No TA cutoff file found, using default value')\n",
    "else:\n",
    "    WSI2tif(pthtest, resolution, umpix)\n",
    "test_segmentation_model(pthDL, pthtest, pthtestim)"
   ],
   "id": "cd417bbdc73a33c5",
   "outputs": [
    {
     "name": "stdout",
     "output_type": "stream",
     "text": [
      " \n",
      "Testing segmentation model......\n",
      " \n",
      "Importing annotation data...\n",
      "Image 1 of 1: MRI_slice_1797\n",
      " annotation data previously loaded\n",
      "   \n",
      "MRI_slice_1797.tif\n",
      "Starting classification of image 1 of 1: MRI_slice_1797.tif\n",
      "  Image MRI_slice_1797.tif already classified by this model\n",
      "  Total time for classification: 0.0h 0.0m 2.624998092651367s\n",
      "\n",
      "Calculating total number of pixels in the testing dataset...\n",
      "  There are 3623 pixels of bones, 18% of the most common class.\n",
      "  There are 19627 pixels of lung. This is the most common class.\n",
      "  There are 54 pixels of lung_vessels, 0% of the most common class.\n",
      "  There are 11610 pixels of heart_vessels, 59% of the most common class.\n",
      "  There are 10945 pixels of ecm, 55% of the most common class.\n",
      "  There are 4347 pixels of heart, 22% of the most common class.\n",
      "  There are 5126 pixels of nontissue, 26% of the most common class.\n",
      "\n",
      "  Only 3623 testing pixels of bones found.\n",
      "    We suggest a minimum of 15,000 pixels for a good assessment of model accuracy.\n",
      "    Confusion matrix may be misleading.\n",
      "\n",
      "  Only 54 testing pixels of lung_vessels found.\n",
      "    We suggest a minimum of 15,000 pixels for a good assessment of model accuracy.\n",
      "    Confusion matrix may be misleading.\n",
      "\n",
      "  Only 11610 testing pixels of heart_vessels found.\n",
      "    We suggest a minimum of 15,000 pixels for a good assessment of model accuracy.\n",
      "    Confusion matrix may be misleading.\n",
      "\n",
      "  Only 10945 testing pixels of ecm found.\n",
      "    We suggest a minimum of 15,000 pixels for a good assessment of model accuracy.\n",
      "    Confusion matrix may be misleading.\n",
      "\n",
      "  Only 4347 testing pixels of heart found.\n",
      "    We suggest a minimum of 15,000 pixels for a good assessment of model accuracy.\n",
      "    Confusion matrix may be misleading.\n",
      "\n",
      "  Only 5126 testing pixels of nontissue found.\n",
      "    We suggest a minimum of 15,000 pixels for a good assessment of model accuracy.\n",
      "    Confusion matrix may be misleading.\n"
     ]
    },
    {
     "data": {
      "text/plain": [
       "<Figure size 1200x1000 with 1 Axes>"
      ],
      "image/png": "[encoded data removed]"
     },
     "metadata": {},
     "output_type": "display_data"
    },
    {
     "name": "stdout",
     "output_type": "stream",
     "text": [
      "\n",
      "Confusion matrix saved to \\\\10.99.68.52\\Kiemendata\\Valentina Matos\\Jaime\\annotate\\12_14_2024\\confusion_matrixDeepLabV3_plus.png\n",
      "Overall Accuracy: 77.7%\n"
     ]
    }
   ],
   "execution_count": 8
  },
  {
   "metadata": {
    "ExecuteTime": {
     "end_time": "2024-12-14T15:46:57.313320Z",
     "start_time": "2024-12-14T15:46:56.354572Z"
    }
   },
   "cell_type": "code",
   "source": [
    "# 6 Classify images with pretrained model\n",
    "classify_images(pthim, pthDL, model_type)"
   ],
   "id": "1864ce34b7ff5ef5",
   "outputs": [
    {
     "name": "stdout",
     "output_type": "stream",
     "text": [
      "   \n",
      "MRI_slice_1585.tif\n",
      "Starting classification of image 1 of 19: MRI_slice_1585.tif\n",
      "  Image MRI_slice_1585.tif already classified by this model\n",
      "MRI_slice_1627.tif\n",
      "Starting classification of image 2 of 19: MRI_slice_1627.tif\n",
      "  Image MRI_slice_1627.tif already classified by this model\n",
      "MRI_slice_1670.tif\n",
      "Starting classification of image 3 of 19: MRI_slice_1670.tif\n",
      "  Image MRI_slice_1670.tif already classified by this model\n",
      "MRI_slice_1712.tif\n",
      "Starting classification of image 4 of 19: MRI_slice_1712.tif\n",
      "  Image MRI_slice_1712.tif already classified by this model\n",
      "MRI_slice_1737.tif\n",
      "Starting classification of image 5 of 19: MRI_slice_1737.tif\n",
      "  Image MRI_slice_1737.tif already classified by this model\n",
      "MRI_slice_1744.tif\n",
      "Starting classification of image 6 of 19: MRI_slice_1744.tif\n",
      "  Image MRI_slice_1744.tif already classified by this model\n",
      "MRI_slice_1754.tif\n",
      "Starting classification of image 7 of 19: MRI_slice_1754.tif\n",
      "  Image MRI_slice_1754.tif already classified by this model\n",
      "MRI_slice_1839.tif\n",
      "Starting classification of image 8 of 19: MRI_slice_1839.tif\n",
      "  Image MRI_slice_1839.tif already classified by this model\n",
      "MRI_slice_1881.tif\n",
      "Starting classification of image 9 of 19: MRI_slice_1881.tif\n",
      "  Image MRI_slice_1881.tif already classified by this model\n",
      "MRI_slice_1924.tif\n",
      "Starting classification of image 10 of 19: MRI_slice_1924.tif\n",
      "  Image MRI_slice_1924.tif already classified by this model\n",
      "MRI_slice_1934.tif\n",
      "Starting classification of image 11 of 19: MRI_slice_1934.tif\n",
      "  Image MRI_slice_1934.tif already classified by this model\n",
      "MRI_slice_1939.tif\n",
      "Starting classification of image 12 of 19: MRI_slice_1939.tif\n",
      "  Image MRI_slice_1939.tif already classified by this model\n",
      "MRI_slice_1958.tif\n",
      "Starting classification of image 13 of 19: MRI_slice_1958.tif\n",
      "  Image MRI_slice_1958.tif already classified by this model\n",
      "MRI_slice_1963.tif\n",
      "Starting classification of image 14 of 19: MRI_slice_1963.tif\n",
      "  Image MRI_slice_1963.tif already classified by this model\n",
      "MRI_slice_1966.tif\n",
      "Starting classification of image 15 of 19: MRI_slice_1966.tif\n",
      "  Image MRI_slice_1966.tif already classified by this model\n",
      "MRI_slice_1974.tif\n",
      "Starting classification of image 16 of 19: MRI_slice_1974.tif\n",
      "  Image MRI_slice_1974.tif already classified by this model\n",
      "MRI_slice_1979.tif\n",
      "Starting classification of image 17 of 19: MRI_slice_1979.tif\n",
      "  Image MRI_slice_1979.tif already classified by this model\n",
      "MRI_slice_1984.tif\n",
      "Starting classification of image 18 of 19: MRI_slice_1984.tif\n",
      "  Image MRI_slice_1984.tif already classified by this model\n",
      "MRI_slice_1985.tif\n",
      "Starting classification of image 19 of 19: MRI_slice_1985.tif\n",
      "  Image MRI_slice_1985.tif already classified by this model\n",
      "  Total time for classification: 0.0h 0.0m 0.9403948783874512s\n"
     ]
    },
    {
     "data": {
      "text/plain": [
       "'//10.99.68.52/Kiemendata/Valentina Matos/Jaime/annotate/Test_2.0\\\\classification_12_14_2024_DeepLabV3_plus'"
      ]
     },
     "execution_count": 9,
     "metadata": {},
     "output_type": "execute_result"
    }
   ],
   "execution_count": 9
  },
  {
   "metadata": {
    "ExecuteTime": {
     "end_time": "2024-12-14T15:46:57.887660Z",
     "start_time": "2024-12-14T15:46:57.567871Z"
    }
   },
   "cell_type": "code",
   "source": [
    "# 7 Quantify images\n",
    "quantify_images(pthDL, pthim)"
   ],
   "id": "fbeddb926a7c4e2e",
   "outputs": [
    {
     "name": "stdout",
     "output_type": "stream",
     "text": [
      "Quantifying images...\n",
      "Image 1 / 19: MRI_slice_1585.tif\n",
      "Image 2 / 19: MRI_slice_1627.tif\n",
      "Image 3 / 19: MRI_slice_1670.tif\n",
      "Image 4 / 19: MRI_slice_1712.tif\n",
      "Image 5 / 19: MRI_slice_1737.tif\n",
      "Image 6 / 19: MRI_slice_1744.tif\n",
      "Image 7 / 19: MRI_slice_1754.tif\n",
      "Image 8 / 19: MRI_slice_1839.tif\n",
      "Image 9 / 19: MRI_slice_1881.tif\n",
      "Image 10 / 19: MRI_slice_1924.tif\n",
      "Image 11 / 19: MRI_slice_1934.tif\n",
      "Image 12 / 19: MRI_slice_1939.tif\n",
      "Image 13 / 19: MRI_slice_1958.tif\n",
      "Image 14 / 19: MRI_slice_1963.tif\n",
      "Image 15 / 19: MRI_slice_1966.tif\n",
      "Image 16 / 19: MRI_slice_1974.tif\n",
      "Image 17 / 19: MRI_slice_1979.tif\n",
      "Image 18 / 19: MRI_slice_1984.tif\n",
      "Image 19 / 19: MRI_slice_1985.tif\n"
     ]
    }
   ],
   "execution_count": 10
  },
  {
   "metadata": {
    "ExecuteTime": {
     "end_time": "2024-12-14T15:46:59.238751Z",
     "start_time": "2024-12-14T15:46:59.223121Z"
    }
   },
   "cell_type": "code",
   "source": [
    "# 8 Object count analysis if annotation classes were selected\n",
    "pickle_path = os.path.join(pthDL, 'net.pkl')\n",
    "with open(pickle_path, 'rb') as f:\n",
    "    data = pickle.load(f)\n",
    "final_df = data['final_df']\n",
    "model_name = data['nm']\n",
    "classNames = data['classNames']\n",
    "quantpath = os.path.join(pthim, 'classification_'+model_name+'_'+model_type)\n",
    "\n",
    "# Identify annotation classes for component analysis\n",
    "tissues = []\n",
    "count = 0\n",
    "print(final_df)\n",
    "for index, row in final_df.iterrows():\n",
    "    if final_df['Delete layer'][index]:\n",
    "        count += 1\n",
    "    if row['Component analysis']:\n",
    "        tissues.append(final_df['Combined layers'][index]-count)\n",
    "tissues = list(set(tissues))\n",
    "\n",
    "# Check if the tissue list has elements\n",
    "for tissue in tissues:\n",
    "    if not os.path.isfile(os.path.join(quantpath, classNames[tissue-1]+'_count_analysis.csv')):\n",
    "        # Call the quantify_objects function\n",
    "        quantify_objects(pthDL, quantpath, tissue)\n",
    "    else:\n",
    "        print(f'Object quantification already done for {classNames[tissue-1]}')"
   ],
   "id": "e6b29993b5210300",
   "outputs": [
    {
     "name": "stdout",
     "output_type": "stream",
     "text": [
      "      Layer Name            Color Whitespace Settings  Delete layer  \\\n",
      "0          bones  (250, 236, 154)                   2         False   \n",
      "1           lung     (0, 255, 64)                   2         False   \n",
      "2   lung_vessels    (255, 128, 0)                   2         False   \n",
      "3  heart_vessels      (255, 0, 0)                   2         False   \n",
      "4            ecm  (255, 128, 192)                   2         False   \n",
      "5          heart  (255, 255, 255)                   2         False   \n",
      "6      nontissue    (0, 255, 255)                   2         False   \n",
      "\n",
      "   Combined layers  Nesting  Component analysis  \n",
      "0                1        1               False  \n",
      "1                2        2               False  \n",
      "2                3        3               False  \n",
      "3                4        4               False  \n",
      "4                5        5               False  \n",
      "5                6        6               False  \n",
      "6                7        7               False  \n"
     ]
    }
   ],
   "execution_count": 11
  },
  {
   "metadata": {
    "ExecuteTime": {
     "end_time": "2024-12-14T15:48:57.410253Z",
     "start_time": "2024-12-14T15:48:56.349158Z"
    }
   },
   "cell_type": "code",
   "source": [
    "output_path = os.path.join(pthDL, model_type+ 'evaluation_report.pdf')\n",
    "confusion_matrix_path = os.path.join(pthDL, 'confusion_matrix_'+model_type+'.png')\n",
    "color_legend_path = os.path.join(pthDL, 'model_color_legend.jpg')\n",
    "check_annotations_path = os.path.join(pth, 'check_annotations')\n",
    "check_quant = os.path.join(quantpath, 'image_quantifications.csv')\n",
    "check_classification_path = os.path.join(pthim, 'classification_' + model_name + '_' + model_type,\n",
    "                                                     'check_classification')\n",
    "create_output_pdf(output_path, pthDL, confusion_matrix_path, color_legend_path, check_annotations_path,\n",
    "                      check_classification_path, check_quant)"
   ],
   "id": "ada559eda1a066b1",
   "outputs": [
    {
     "name": "stdout",
     "output_type": "stream",
     "text": [
      "Generating model evaluation report...\n",
      "PDF report saved at: \\\\10.99.68.52\\Kiemendata\\Valentina Matos\\Jaime\\annotate\\12_14_2024\\DeepLabV3_plusevaluation_report.pdf\n"
     ]
    }
   ],
   "execution_count": 14
  },
  {
   "metadata": {
    "ExecuteTime": {
     "end_time": "2025-02-14T17:30:41.934491Z",
     "start_time": "2025-02-14T17:30:41.898490Z"
    }
   },
   "cell_type": "code",
   "source": [
    "\n",
    "#read all image names into a datafreame\n",
    "import pandas as pd\n",
    "import os\n",
    "import glob\n",
    "\n",
    "pth = r'\\\\10.99.68.52\\Kiemendata\\Valentina Matos\\LG HG PanIN project\\LGHG segmentation'\n",
    "extensions = ['*.ndpi', '*.svs']\n",
    "imlist = []\n",
    "for ext in extensions:\n",
    "    imlist.extend(glob.glob(os.path.join(pth, ext)))\n",
    "imnames = [os.path.basename(im) for im in imlist]\n",
    "df = pd.DataFrame(imnames, columns=['Image name'])\n",
    "df\n"
   ],
   "id": "d11e33c2b80d4340",
   "outputs": [
    {
     "data": {
      "text/plain": [
       "          Image name\n",
       "0    AB_04_0001.ndpi\n",
       "1    AB_04_0226.ndpi\n",
       "2    AB_04_0305.ndpi\n",
       "3    AB_04_0451.ndpi\n",
       "4    AB_04_0530.ndpi\n",
       "..               ...\n",
       "111  TC_037_0370.svs\n",
       "112  TC_057_0570.svs\n",
       "113  TC_062_1180.svs\n",
       "114  TC_065_0320.svs\n",
       "115  TC_086_0500.svs\n",
       "\n",
       "[116 rows x 1 columns]"
      ],
      "text/html": [
       "<div>\n",
       "<style scoped>\n",
       "    .dataframe tbody tr th:only-of-type {\n",
       "        vertical-align: middle;\n",
       "    }\n",
       "\n",
       "    .dataframe tbody tr th {\n",
       "        vertical-align: top;\n",
       "    }\n",
       "\n",
       "    .dataframe thead th {\n",
       "        text-align: right;\n",
       "    }\n",
       "</style>\n",
       "<table border=\"1\" class=\"dataframe\">\n",
       "  <thead>\n",
       "    <tr style=\"text-align: right;\">\n",
       "      <th></th>\n",
       "      <th>Image name</th>\n",
       "    </tr>\n",
       "  </thead>\n",
       "  <tbody>\n",
       "    <tr>\n",
       "      <th>0</th>\n",
       "      <td>AB_04_0001.ndpi</td>\n",
       "    </tr>\n",
       "    <tr>\n",
       "      <th>1</th>\n",
       "      <td>AB_04_0226.ndpi</td>\n",
       "    </tr>\n",
       "    <tr>\n",
       "      <th>2</th>\n",
       "      <td>AB_04_0305.ndpi</td>\n",
       "    </tr>\n",
       "    <tr>\n",
       "      <th>3</th>\n",
       "      <td>AB_04_0451.ndpi</td>\n",
       "    </tr>\n",
       "    <tr>\n",
       "      <th>4</th>\n",
       "      <td>AB_04_0530.ndpi</td>\n",
       "    </tr>\n",
       "    <tr>\n",
       "      <th>...</th>\n",
       "      <td>...</td>\n",
       "    </tr>\n",
       "    <tr>\n",
       "      <th>111</th>\n",
       "      <td>TC_037_0370.svs</td>\n",
       "    </tr>\n",
       "    <tr>\n",
       "      <th>112</th>\n",
       "      <td>TC_057_0570.svs</td>\n",
       "    </tr>\n",
       "    <tr>\n",
       "      <th>113</th>\n",
       "      <td>TC_062_1180.svs</td>\n",
       "    </tr>\n",
       "    <tr>\n",
       "      <th>114</th>\n",
       "      <td>TC_065_0320.svs</td>\n",
       "    </tr>\n",
       "    <tr>\n",
       "      <th>115</th>\n",
       "      <td>TC_086_0500.svs</td>\n",
       "    </tr>\n",
       "  </tbody>\n",
       "</table>\n",
       "<p>116 rows × 1 columns</p>\n",
       "</div>"
      ]
     },
     "execution_count": 3,
     "metadata": {},
     "output_type": "execute_result"
    }
   ],
   "execution_count": 3
  },
  {
   "metadata": {},
   "cell_type": "code",
   "outputs": [],
   "execution_count": null,
   "source": "",
   "id": "a98bc4a19d520ac0"
  }
 ],
 "metadata": {
  "kernelspec": {
   "display_name": "Python 3",
   "language": "python",
   "name": "python3"
  },
  "language_info": {
   "codemirror_mode": {
    "name": "ipython",
    "version": 2
   },
   "file_extension": ".py",
   "mimetype": "text/x-python",
   "name": "python",
   "nbconvert_exporter": "python",
   "pygments_lexer": "ipython2",
   "version": "2.7.6"
  }
 },
 "nbformat": 4,
 "nbformat_minor": 5
}
