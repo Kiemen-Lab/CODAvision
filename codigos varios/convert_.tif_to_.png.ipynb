{
 "cells": [
  {
   "cell_type": "code",
   "id": "initial_id",
   "metadata": {
    "collapsed": true,
    "ExecuteTime": {
     "end_time": "2024-07-17T15:10:00.555523Z",
     "start_time": "2024-07-17T15:10:00.453524Z"
    }
   },
   "source": [
    "import os\n",
    "from PIL import Image\n",
    "import numpy as np\n",
    "Image.MAX_IMAGE_PIXELS = None"
   ],
   "execution_count": 1,
   "outputs": []
  },
  {
   "metadata": {
    "ExecuteTime": {
     "end_time": "2024-07-17T15:10:00.571524Z",
     "start_time": "2024-07-17T15:10:00.557523Z"
    }
   },
   "cell_type": "code",
   "source": [
    "def convert_tif_to_png(tif_path, png_path):\n",
    "    os.makedirs(os.path.dirname(png_path), exist_ok=True)\n",
    "    # Load the TIFF image\n",
    "    with Image.open(tif_path) as img:\n",
    "        # Convert to PNG and save\n",
    "        print(f'Saving image: {os.path.basename(png_path)}')\n",
    "        \n",
    "        img.save(png_path, format='PNG', compress_level=0)\n"
   ],
   "id": "45abe9b05cbe729a",
   "execution_count": 2,
   "outputs": []
  },
  {
   "metadata": {
    "jupyter": {
     "is_executing": true
    },
    "ExecuteTime": {
     "start_time": "2024-11-25T17:16:51.007379Z"
    }
   },
   "cell_type": "code",
   "source": [
    "import os\n",
    "from PIL import Image\n",
    "\n",
    "def convert_png_to_tif(png_path, tif_path):\n",
    "    os.makedirs(os.path.dirname(tif_path), exist_ok=True)\n",
    "    # Load the PNG image\n",
    "    with Image.open(png_path) as img:\n",
    "        # Convert to TIFF and save\n",
    "        print(f'Saving image: {os.path.basename(tif_path)}')\n",
    "        img.save(tif_path, format='TIFF', compress_level=0)\n",
    "#Usage\n",
    "#Path to training png tiles\n",
    "training_png = r'\\\\10.99.134.183\\kiemen-lab-data\\Valentina Matos\\CNNs loop liver delete\\CNNs_same_dataset\\training'\n",
    "validation_png = r'\\\\10.99.134.183\\kiemen-lab-data\\Valentina Matos\\CNNs loop liver delete\\CNNs_same_dataset\\validation'\n",
    "\n",
    "listfolders = ['label','im']\n",
    "for folder in listfolders:\n",
    "    for dataset in [training_png, validation_png]:\n",
    "        png_path = os.path.join(dataset,folder)\n",
    "        tif_path = os.path.join(dataset,'TIF',folder)\n",
    "        png_files = [f for f in os.listdir(png_path) if f.endswith('.png')]\n",
    "        tif_files = [f for f in os.listdir(tif_path) if f.endswith('.tif')]\n",
    "        for png_file in png_files:\n",
    "            tif_file = os.path.splitext(png_file)[0] + '.tif'\n",
    "            convert_png_to_tif(os.path.join(png_path, png_file), os.path.join(tif_path, tif_file))\n",
    "        print(f'Conversion of {folder} images done!')\n"
   ],
   "id": "1ea5b5707fd146bd",
   "outputs": [],
   "execution_count": null
  },
  {
   "metadata": {
    "ExecuteTime": {
     "end_time": "2024-07-17T15:10:00.586523Z",
     "start_time": "2024-07-17T15:10:00.572524Z"
    }
   },
   "cell_type": "code",
   "source": [
    "def compare_tif_and_png(tif_path, png_path):\n",
    "    # Load the TIFF image using Pillow\n",
    "    with Image.open(tif_path) as tif_image:\n",
    "        tif_image = np.array(tif_image)\n",
    "    \n",
    "    # Load the PNG image using Pillow\n",
    "    with Image.open(png_path) as png_image:\n",
    "        png_image = np.array(png_image)\n",
    "        \n",
    "        # Ensure images have the same size\n",
    "        if tif_image.shape != png_image.shape:\n",
    "            raise ValueError(\"Images must have the same dimensions\")\n",
    "        \n",
    "        # Compare pixel by pixel\n",
    "        total_pixels = tif_image.size\n",
    "        matching_pixels = np.sum(tif_image == png_image)\n",
    "        \n",
    "        # Calculate percentage similarity\n",
    "        similarity_percentage = (matching_pixels / total_pixels) * 100\n",
    "        return similarity_percentage"
   ],
   "id": "22fb2798a5664c0c",
   "execution_count": 3,
   "outputs": []
  },
  {
   "metadata": {
    "ExecuteTime": {
     "end_time": "2024-07-17T15:28:26.955492Z",
     "start_time": "2024-07-17T15:28:26.661489Z"
    }
   },
   "cell_type": "code",
   "source": [
    "import glob\n",
    "pth_tiles_tiff = r'\\\\10.99.68.52\\Kiemendata\\Valentina Matos\\coda to python\\test model\\02_23_2024\\training\\label'\n",
    "tiles = glob.glob(os.path.join(pth_tiles_tiff,'*.tif'))\n",
    "png_path = r'\\\\10.99.68.52\\Kiemendata\\Valentina Matos\\coda to python\\test model\\02_23_2024\\training\\label\\png'\n"
   ],
   "id": "150f68bd15d238b8",
   "execution_count": 8,
   "outputs": []
  },
  {
   "metadata": {
    "ExecuteTime": {
     "end_time": "2024-07-17T15:30:59.872014Z",
     "start_time": "2024-07-17T15:28:26.956492Z"
    }
   },
   "cell_type": "code",
   "source": [
    "#lossless PNG compression:\n",
    "for tile in tiles:\n",
    "    pth_tiles_png = os.path.join(png_path, os.path.splitext(os.path.basename(tile))[0] + '.png')    \n",
    "    convert_tif_to_png(tile, pth_tiles_png)\n",
    "    "
   ],
   "id": "fb9dc186b9887df6",
   "execution_count": 9,
   "outputs": []
  },
  {
   "metadata": {
    "ExecuteTime": {
     "end_time": "2024-07-17T15:32:35.611174Z",
     "start_time": "2024-07-17T15:31:35.880042Z"
    }
   },
   "cell_type": "code",
   "source": [
    "for tile in tiles:\n",
    "    pth_tiles_png = os.path.join(png_path, os.path.splitext(os.path.basename(tile))[0] + '.png')\n",
    "    similarity = compare_tif_and_png(tile, pth_tiles_png)\n",
    "    print(f'Similarity between {os.path.basename(tile)} and {os.path.basename(pth_tiles_png)}: {similarity}')\n",
    "    "
   ],
   "id": "b97e0cbedfe3af5b",
   "execution_count": 10,
   "outputs": []
  },
  {
   "metadata": {
    "ExecuteTime": {
     "end_time": "2024-06-26T15:56:29.335346Z",
     "start_time": "2024-06-26T15:56:29.329346Z"
    }
   },
   "cell_type": "code",
   "source": [
    "tif_path = r'C:\\Users\\Valentina\\OneDrive - Johns Hopkins\\Desktop\\python model 2\\06_26_2024_raw_mattiles\\validation\\im'\n",
    "png_path = r'C:\\Users\\Valentina\\OneDrive - Johns Hopkins\\Desktop\\python model 2\\06_26_2024_raw_mattiles\\validation\\png\\im'\n",
    "imlist_tif= [os.path.join(tif_path,f) for f in os.listdir(tif_path) if f.endswith('.tif')]\n",
    "png_names= [f.replace('.tif','.png') for f in os.listdir(tif_path) ]\n",
    "imlist_png = [os.path.join(png_path,f) for f in png_names ]"
   ],
   "id": "d01f85bff8039b5b",
   "execution_count": 9,
   "outputs": []
  },
  {
   "metadata": {
    "ExecuteTime": {
     "end_time": "2024-06-26T15:56:50.519318Z",
     "start_time": "2024-06-26T15:56:29.576336Z"
    }
   },
   "cell_type": "code",
   "source": [
    "# Convert TIFF to PNG\n",
    "total_images = len(imlist_tif)\n",
    "count = 1\n",
    "for tif_im, png_im in zip(imlist_tif, imlist_png):\n",
    "    convert_tif_to_png(tif_im, png_im)\n",
    "    print(f'{count}/{total_images}')\n",
    "    count += 1\n",
    "\n",
    "# # Compare two PNG images\n",
    "# similarity = compare_tif_and_png(png_path, png_path)\n",
    "# print(f\"Similarity: {similarity:.2f}%\")"
   ],
   "id": "10074d3cf6ee3df2",
   "execution_count": 10,
   "outputs": []
  },
  {
   "metadata": {
    "ExecuteTime": {
     "end_time": "2024-06-11T15:06:47.566012Z",
     "start_time": "2024-06-11T15:00:46.788517Z"
    }
   },
   "cell_type": "code",
   "source": [
    "folders = ['label','im']\n",
    "for folder in folders:\n",
    "    tif_path = os.path.join(r'\\\\10.99.68.52\\Kiemendata\\Valentina Matos\\coda to python\\test model\\02_23_2024\\training',folder)\n",
    "    png_path = os.path.join(r'\\\\10.99.68.52\\Kiemendata\\Valentina Matos\\coda to python\\test png\\training',folder)\n",
    "    \n",
    "    imlist_tif= [os.path.join(tif_path,f) for f in os.listdir(tif_path) if f.endswith('.tif')]\n",
    "    png_names= [f.replace('.tif','.png') for f in os.listdir(tif_path) ]\n",
    "    imlist_png = [os.path.join(png_path,f) for f in png_names ]\n",
    "    \n",
    "    total_images = len(imlist_tif)\n",
    "    count = 1\n",
    "    for tif_im, png_im in zip(imlist_tif, imlist_png):\n",
    "        convert_tif_to_png(tif_im, png_im)\n",
    "        print(f'{count}/{total_images}')\n",
    "        count += 1\n",
    "    "
   ],
   "id": "e0241ee075921de4",
   "execution_count": 5,
   "outputs": []
  },
  {
   "metadata": {
    "ExecuteTime": {
     "end_time": "2024-06-25T18:16:47.119668Z",
     "start_time": "2024-06-25T18:16:46.958364Z"
    }
   },
   "cell_type": "code",
   "source": [
    "tif_path = r'C:\\Users\\Valentina\\OneDrive - Johns Hopkins\\Desktop\\test png\\benchmark test classify tile\\1.tif'\n",
    "png_path = r'C:\\Users\\Valentina\\OneDrive - Johns Hopkins\\Desktop\\test png\\benchmark test classify tile\\1.png'\n",
    "convert_tif_to_png(tif_path, png_path)"
   ],
   "id": "8d64464a10afc876",
   "execution_count": 4,
   "outputs": []
  },
  {
   "metadata": {},
   "cell_type": "code",
   "execution_count": null,
   "source": "`",
   "id": "17909f633ed31179",
   "outputs": []
  }
 ],
 "metadata": {
  "kernelspec": {
   "display_name": "Python 3",
   "language": "python",
   "name": "python3"
  },
  "language_info": {
   "codemirror_mode": {
    "name": "ipython",
    "version": 2
   },
   "file_extension": ".py",
   "mimetype": "text/x-python",
   "name": "python",
   "nbconvert_exporter": "python",
   "pygments_lexer": "ipython2",
   "version": "2.7.6"
  }
 },
 "nbformat": 4,
 "nbformat_minor": 5
}
