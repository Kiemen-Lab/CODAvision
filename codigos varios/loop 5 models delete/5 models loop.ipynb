{
 "cells": [
  {
   "cell_type": "code",
   "id": "initial_id",
   "metadata": {
    "collapsed": true,
    "ExecuteTime": {
     "end_time": "2024-11-21T22:04:49.818382Z",
     "start_time": "2024-11-21T22:04:28.369264Z"
    }
   },
   "source": [
    "import os\n",
    "import numpy as np\n",
    "from base import *\n",
    "from base.train_segmentation_model_cnns import train_segmentation_model_cnns"
   ],
   "outputs": [],
   "execution_count": 1
  },
  {
   "metadata": {
    "ExecuteTime": {
     "end_time": "2024-11-18T18:06:53.867989Z",
     "start_time": "2024-11-18T18:06:53.856984Z"
    }
   },
   "cell_type": "code",
   "source": [
    "pth = r'\\\\10.99.134.183\\kiemen-lab-data\\Valentina Matos\\CNNs loop liver delete'\n",
    "pthim = os.path.join(pth, '10x')\n",
    "pthDL = r'\\\\10.99.134.183\\kiemen-lab-data\\Valentina Matos\\CNNs loop liver delete\\CNNs_same_dataset'\n",
    "pthtest = os.path.join(pth, 'test')\n",
    "pthtestim = os.path.join(pthtest, '10x')"
   ],
   "id": "14693f9fe881b3cf",
   "execution_count": 2,
   "outputs": []
  },
  {
   "metadata": {
    "ExecuteTime": {
     "end_time": "2024-11-21T22:05:05.601876Z",
     "start_time": "2024-11-21T22:05:04.853536Z"
    }
   },
   "cell_type": "code",
   "source": [
    "\n",
    "# CNNs = [\"DeepLabV3+\",\"UNet3+\",\"TransUNet\",\"CASe_UNet\",\"UNet\"]\n",
    "CNNs = [\"DeepLabV3_plus\",\"CoREAM2_SegNet\",\"UNet3_plus\",\"CASe_UNet\",\"UNet\",\"TransUNet\"]\n",
    "\n",
    "#Train 5 models for each CNN\n",
    "for i in range(5):\n",
    "    for cnn_name in CNNs:\n",
    "        print(f'______________{cnn_name} iteration {i+1}_______________')\n",
    "        train_segmentation_model_cnns(pthDL, cnn_name, i+1)\n",
    "        test_segmentation_model(pthDL,pthtest, pthtestim, f'{cnn_name}_{i+1}')\n",
    "        # classify_images(pthim,pthDL, cnn_name)\n",
    "        print(f'__________________________________________')"
   ],
   "id": "1d88362e81bc7e23",
   "outputs": [
    {
     "name": "stdout",
     "output_type": "stream",
     "text": [
      "______________DeepLabV3_plus iteration 1_______________\n"
     ]
    },
    {
     "ename": "NameError",
     "evalue": "name 'pthDL' is not defined",
     "output_type": "error",
     "traceback": [
      "\u001B[1;31m---------------------------------------------------------------------------\u001B[0m",
      "\u001B[1;31mNameError\u001B[0m                                 Traceback (most recent call last)",
      "Cell \u001B[1;32mIn[2], line 8\u001B[0m\n\u001B[0;32m      6\u001B[0m \u001B[38;5;28;01mfor\u001B[39;00m cnn_name \u001B[38;5;129;01min\u001B[39;00m CNNs:\n\u001B[0;32m      7\u001B[0m     \u001B[38;5;28mprint\u001B[39m(\u001B[38;5;124mf\u001B[39m\u001B[38;5;124m'\u001B[39m\u001B[38;5;124m______________\u001B[39m\u001B[38;5;132;01m{\u001B[39;00mcnn_name\u001B[38;5;132;01m}\u001B[39;00m\u001B[38;5;124m iteration \u001B[39m\u001B[38;5;132;01m{\u001B[39;00mi\u001B[38;5;241m+\u001B[39m\u001B[38;5;241m1\u001B[39m\u001B[38;5;132;01m}\u001B[39;00m\u001B[38;5;124m_______________\u001B[39m\u001B[38;5;124m'\u001B[39m)\n\u001B[1;32m----> 8\u001B[0m     train_segmentation_model_cnns(\u001B[43mpthDL\u001B[49m, cnn_name, i\u001B[38;5;241m+\u001B[39m\u001B[38;5;241m1\u001B[39m)\n\u001B[0;32m      9\u001B[0m     test_segmentation_model(pthDL,pthtest, pthtestim, \u001B[38;5;124mf\u001B[39m\u001B[38;5;124m'\u001B[39m\u001B[38;5;132;01m{\u001B[39;00mcnn_name\u001B[38;5;132;01m}\u001B[39;00m\u001B[38;5;124m_\u001B[39m\u001B[38;5;132;01m{\u001B[39;00mi\u001B[38;5;241m+\u001B[39m\u001B[38;5;241m1\u001B[39m\u001B[38;5;132;01m}\u001B[39;00m\u001B[38;5;124m'\u001B[39m)\n\u001B[0;32m     10\u001B[0m     \u001B[38;5;66;03m# classify_images(pthim,pthDL, cnn_name)\u001B[39;00m\n",
      "\u001B[1;31mNameError\u001B[0m: name 'pthDL' is not defined"
     ]
    }
   ],
   "execution_count": 2
  },
  {
   "metadata": {
    "ExecuteTime": {
     "end_time": "2024-11-19T20:32:19.125060Z",
     "start_time": "2024-11-19T20:32:18.889061Z"
    }
   },
   "cell_type": "code",
   "source": [
    "#add teh batch size to the pickle file\n",
    "import os \n",
    "import pickle\n",
    "pthDL = r'\\\\10.99.68.52\\Kiemendata\\Valentina Matos\\Jaime\\mouse lung\\10_27_2024'\n",
    "with open(os.path.join(pthDL,'net.pkl'), 'rb') as f:\n",
    "    data  = pickle.load(f)\n",
    "data['batch_size'] = 3\n",
    "with open(os.path.join(pthDL,'net.pkl'), 'wb') as f:\n",
    "    pickle.dump(data, f)"
   ],
   "id": "2a4d96f3a2d56814",
   "execution_count": 3,
   "outputs": []
  },
  {
   "metadata": {},
   "cell_type": "code",
   "execution_count": null,
   "source": "",
   "id": "69b4b98659d27cce",
   "outputs": []
  }
 ],
 "metadata": {
  "kernelspec": {
   "display_name": "Python 3",
   "language": "python",
   "name": "python3"
  },
  "language_info": {
   "codemirror_mode": {
    "name": "ipython",
    "version": 2
   },
   "file_extension": ".py",
   "mimetype": "text/x-python",
   "name": "python",
   "nbconvert_exporter": "python",
   "pygments_lexer": "ipython2",
   "version": "2.7.6"
  }
 },
 "nbformat": 4,
 "nbformat_minor": 5
}
