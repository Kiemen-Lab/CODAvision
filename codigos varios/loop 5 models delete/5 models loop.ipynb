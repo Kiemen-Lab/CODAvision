{
 "cells": [
  {
   "cell_type": "code",
   "id": "initial_id",
   "metadata": {
    "collapsed": true,
    "ExecuteTime": {
     "end_time": "2024-11-18T18:06:53.852628Z",
     "start_time": "2024-11-18T18:06:51.023388Z"
    }
   },
   "source": [
    "import os\n",
    "import numpy as np\n",
    "from base import *\n",
    "\n",
    "from base.train_segmentation_model_cnns import train_segmentation_model_cnns"
   ],
   "execution_count": 1,
   "outputs": []
  },
  {
   "metadata": {
    "ExecuteTime": {
     "end_time": "2024-11-18T18:06:53.867989Z",
     "start_time": "2024-11-18T18:06:53.856984Z"
    }
   },
   "cell_type": "code",
   "source": [
    "pth = r'\\\\10.99.134.183\\kiemen-lab-data\\Valentina Matos\\CNNs loop liver delete'\n",
    "pthim = os.path.join(pth, '10x')\n",
    "pthDL = r'\\\\10.99.134.183\\kiemen-lab-data\\Valentina Matos\\CNNs loop liver delete\\CNNs_same_dataset'\n",
    "pthtest = os.path.join(pth, 'test')\n",
    "pthtestim = os.path.join(pthtest, '10x')"
   ],
   "id": "14693f9fe881b3cf",
   "execution_count": 2,
   "outputs": []
  },
  {
   "metadata": {
    "jupyter": {
     "is_executing": true
    },
    "ExecuteTime": {
     "start_time": "2024-11-18T18:06:53.915493Z"
    }
   },
   "cell_type": "code",
   "source": [
    "\n",
    "# CNNs = [\"DeepLabV3+\",\"UNet3+\",\"TransUNet\",\"CASe_UNet\",\"UNet\"]\n",
    "CNNs = [\"DeepLabV3_plus\",\"UNet3_plus\",\"TransUNet\",\"CASe_UNet\",\"UNet\"]\n",
    "\n",
    "#Train 5 models for each CNN\n",
    "\n",
    "for i in range(5):\n",
    "    for cnn_name in CNNs:\n",
    "        print(f'______________{cnn_name} iteration {i+1}_______________')\n",
    "        train_segmentation_model_cnns(pthDL, cnn_name, i+1)\n",
    "        test_segmentation_model(pthDL,pthtest, pthtestim, f'{cnn_name}_{i+1}')\n",
    "        # classify_images(pthim,pthDL, cnn_name)\n",
    "        print(f'__________________________________________')"
   ],
   "id": "1d88362e81bc7e23",
   "execution_count": null,
   "outputs": []
  },
  {
   "metadata": {
    "ExecuteTime": {
     "end_time": "2024-11-19T20:32:19.125060Z",
     "start_time": "2024-11-19T20:32:18.889061Z"
    }
   },
   "cell_type": "code",
   "source": [
    "#add teh batch size to the pickle file\n",
    "import os \n",
    "import pickle\n",
    "pthDL = r'\\\\10.99.68.52\\Kiemendata\\Valentina Matos\\Jaime\\mouse lung\\10_27_2024'\n",
    "with open(os.path.join(pthDL,'net.pkl'), 'rb') as f:\n",
    "    data  = pickle.load(f)\n",
    "data['batch_size'] = 3\n",
    "with open(os.path.join(pthDL,'net.pkl'), 'wb') as f:\n",
    "    pickle.dump(data, f)"
   ],
   "id": "2a4d96f3a2d56814",
   "execution_count": 3,
   "outputs": []
  },
  {
   "metadata": {},
   "cell_type": "code",
   "execution_count": null,
   "source": "",
   "id": "69b4b98659d27cce",
   "outputs": []
  }
 ],
 "metadata": {
  "kernelspec": {
   "display_name": "Python 3",
   "language": "python",
   "name": "python3"
  },
  "language_info": {
   "codemirror_mode": {
    "name": "ipython",
    "version": 2
   },
   "file_extension": ".py",
   "mimetype": "text/x-python",
   "name": "python",
   "nbconvert_exporter": "python",
   "pygments_lexer": "ipython2",
   "version": "2.7.6"
  }
 },
 "nbformat": 4,
 "nbformat_minor": 5
}
