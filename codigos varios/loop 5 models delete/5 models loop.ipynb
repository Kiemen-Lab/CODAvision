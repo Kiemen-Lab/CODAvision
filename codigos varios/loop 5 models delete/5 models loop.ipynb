{
 "cells": [
  {
   "cell_type": "code",
   "id": "initial_id",
   "metadata": {
    "collapsed": true,
    "ExecuteTime": {
     "end_time": "2024-11-18T18:06:53.852628Z",
     "start_time": "2024-11-18T18:06:51.023388Z"
    }
   },
   "source": [
    "import os\n",
    "import numpy as np\n",
    "from base import *\n",
    "\n",
    "from base.train_segmentation_model_cnns import train_segmentation_model_cnns"
   ],
   "outputs": [],
   "execution_count": 1
  },
  {
   "metadata": {
    "ExecuteTime": {
     "end_time": "2024-11-18T18:06:53.867989Z",
     "start_time": "2024-11-18T18:06:53.856984Z"
    }
   },
   "cell_type": "code",
   "source": [
    "pth = r'\\\\10.99.134.183\\kiemen-lab-data\\Valentina Matos\\Lung tissue data GUI'\n",
    "pthim = os.path.join(pth, '5x')\n",
    "pthDL = r'\\\\10.99.134.183\\kiemen-lab-data\\Valentina Matos\\Lung tissue data GUI\\CNNs_same_dataset'\n",
    "pthtest = os.path.join(pth, 'test')\n",
    "pthtestim = os.path.join(pthtest, '5x')"
   ],
   "id": "14693f9fe881b3cf",
   "outputs": [],
   "execution_count": 2
  },
  {
   "metadata": {
    "jupyter": {
     "is_executing": true
    },
    "ExecuteTime": {
     "start_time": "2024-11-18T18:06:53.915493Z"
    }
   },
   "cell_type": "code",
   "source": [
    "\n",
    "# CNNs = [\"DeepLabV3+\",\"UNet3+\",\"TransUNet\",\"CASe_UNet\",\"UNet\"]\n",
    "CNNs = [\"DeepLabV3_plus\",\"UNet3_plus\",\"TransUNet\",\"CASe_UNet\",\"UNet\"]\n",
    "\n",
    "#Train 5 models for each CNN\n",
    "\n",
    "for i in range(5):\n",
    "    for cnn_name in CNNs:\n",
    "        print(f'______________{cnn_name} iteration {i+1}_______________')\n",
    "        train_segmentation_model_cnns(pthDL, cnn_name, i+1)\n",
    "        test_segmentation_model(pthDL,pthtest, pthtestim, f'{cnn_name}_{i+1}')\n",
    "        # classify_images(pthim,pthDL, cnn_name)\n",
    "        print(f'__________________________________________')"
   ],
   "id": "1d88362e81bc7e23",
   "outputs": [
    {
     "name": "stdout",
     "output_type": "stream",
     "text": [
      "______________DeepLabV3_plus iteration 1_______________\n",
      "TensorFlow is using the following GPU: LogicalDevice(name='/device:GPU:0', device_type='GPU')\n"
     ]
    }
   ],
   "execution_count": null
  },
  {
   "metadata": {},
   "cell_type": "code",
   "source": "",
   "id": "3e3b7c94f11e130d",
   "outputs": [],
   "execution_count": null
  }
 ],
 "metadata": {
  "kernelspec": {
   "display_name": "Python 3",
   "language": "python",
   "name": "python3"
  },
  "language_info": {
   "codemirror_mode": {
    "name": "ipython",
    "version": 2
   },
   "file_extension": ".py",
   "mimetype": "text/x-python",
   "name": "python",
   "nbconvert_exporter": "python",
   "pygments_lexer": "ipython2",
   "version": "2.7.6"
  }
 },
 "nbformat": 4,
 "nbformat_minor": 5
}
