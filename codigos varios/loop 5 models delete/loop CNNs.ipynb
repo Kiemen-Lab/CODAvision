{
 "cells": [
  {
   "cell_type": "code",
   "id": "initial_id",
   "metadata": {
    "collapsed": true,
    "ExecuteTime": {
     "end_time": "2024-11-15T17:55:09.137979Z",
     "start_time": "2024-11-15T17:54:32.309352Z"
    }
   },
   "source": [
    "import os\n",
    "import numpy as np\n",
    "from base import *\n",
    "from base.train_segmentation_model_cnns import train_segmentation_model_cnns"
   ],
   "execution_count": 1,
   "outputs": []
  },
  {
   "metadata": {
    "ExecuteTime": {
     "end_time": "2024-11-15T17:55:09.168350Z",
     "start_time": "2024-11-15T17:55:09.150085Z"
    }
   },
   "cell_type": "code",
   "source": [
    "pth = r'\\\\10.99.134.183\\kiemen-lab-data\\Valentina Matos\\CNNs loop liver delete'\n",
    "pthim = os.path.join(pth, '10x')\n",
    "pthDL = r'\\\\10.99.134.183\\kiemen-lab-data\\Valentina Matos\\CNNs loop liver delete\\CNNs_same_dataset'\n",
    "pthtest = os.path.join(pth, 'test')\n",
    "pthtestim = os.path.join(pthtest, '10x')"
   ],
   "id": "b4fdaf9c48b301a6",
   "execution_count": 2,
   "outputs": []
  },
  {
   "metadata": {
    "jupyter": {
     "is_executing": true
    },
    "ExecuteTime": {
     "start_time": "2024-11-15T17:59:06.714303Z"
    }
   },
   "cell_type": "code",
   "source": [
    "CNNs = [\"DeepLabV3_plus\"]\n",
    "# CNNs = [\"DeepLabV3+\",\"UNet3+\",\"TransUNet\",\"CASe_UNet\",\"UNet\"]\n",
    "# CNNs = [\"DeepLabV3_plus\",\"UNet3_plus\",\"TransUNet\",\"CASe_UNet\"]\n",
    "\n",
    "#Train test and classify an image for each CNN\n",
    "for cnn_name in CNNs:\n",
    "    print(f'______________{cnn_name}_______________')\n",
    "    train_segmentation_model_cnns(pthDL,cnn_name)\n",
    "    test_segmentation_model(pthDL,pthtest, pthtestim, cnn_name)\n",
    "    classify_images(pthim,pthDL, cnn_name)\n",
    "    print(f'__________________________________________')"
   ],
   "id": "46cc8813f7931e20",
   "execution_count": null,
   "outputs": []
  },
  {
   "metadata": {},
   "cell_type": "code",
   "source": [
    "#load net.pkl data\n",
    "import pickle\n",
    "with open(os.path.join(pthDL,'net.pkl'), 'rb') as f:\n",
    "    data = pickle.load(f)\n",
    "    print(f'name: {data[\"nm\"]}')\n",
    "\n",
    "newname = 'tinaflowing'\n",
    "\n",
    "data['nm'] = newname\n",
    "with open(os.path.join(pthDL,'net.pkl'), 'wb') as f:\n",
    "    pickle.dump(data, f)\n",
    "    "
   ],
   "id": "4b17db5b9da7073",
   "execution_count": null,
   "outputs": []
  },
  {
   "metadata": {},
   "cell_type": "code",
   "source": "",
   "id": "ddfc04593c3afbd4",
   "execution_count": null,
   "outputs": []
  }
 ],
 "metadata": {
  "kernelspec": {
   "display_name": "Python 3",
   "language": "python",
   "name": "python3"
  },
  "language_info": {
   "codemirror_mode": {
    "name": "ipython",
    "version": 2
   },
   "file_extension": ".py",
   "mimetype": "text/x-python",
   "name": "python",
   "nbconvert_exporter": "python",
   "pygments_lexer": "ipython2",
   "version": "2.7.6"
  }
 },
 "nbformat": 4,
 "nbformat_minor": 5
}
