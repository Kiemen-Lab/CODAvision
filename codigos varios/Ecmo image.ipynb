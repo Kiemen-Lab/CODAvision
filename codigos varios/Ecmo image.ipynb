{
 "cells": [
  {
   "cell_type": "code",
   "execution_count": null,
   "id": "initial_id",
   "metadata": {
    "collapsed": true
   },
   "outputs": [],
   "source": [
    "import os\n",
    "import numpy as np\n",
    "import cv2\n",
    "\n",
    "outpth = r'\\\\10.99.134.183\\kiemen-lab-data\\Valentina Matos\\Dashboard project\\ECMO image figure'\n",
    "img_path = r'\\\\10.99.134.183\\kiemen-lab-data\\Valentina Matos\\Dashboard project\\ECMO image figure\\ECMO_CT_flip_0142.tif'\n",
    "outpthcolor = os.path.join(outpth, 'color')\n",
    "os.makedirs(outpthcolor, exist_ok=True)\n",
    "\n",
    "imclassify = cv2.imread(img_path, cv2.IMREAD_GRAYSCALE)\n",
    "\n",
    "imclassify = imclassify - 1\n",
    "\n",
    "cmap = np.array([[139,149,221],\n",
    "                   [  222,186,138],\n",
    "                   [208,139,222],\n",
    "                   [140,222,138],\n",
    "                   [222,216,138],\n",
    "                   [120,30,30],\n",
    "                   [100,100,100]])\n",
    "\n",
    "red_channel = cmap[:, 0]\n",
    "green_channel = cmap[:, 1]\n",
    "blue_channel = cmap[:, 2]\n",
    "\n",
    "imcolor = np.dstack((red_channel[imclassify], green_channel[imclassify], blue_channel[imclassify])).astype(\n",
    "    np.uint8)\n",
    "\n",
    "save_file_path = os.path.join(outpthcolor, os.path.basename(img_path))\n",
    "cv2.imwrite(save_file_path, imcolor)"
   ]
  }
 ],
 "metadata": {
  "kernelspec": {
   "display_name": "Python 3",
   "language": "python",
   "name": "python3"
  },
  "language_info": {
   "codemirror_mode": {
    "name": "ipython",
    "version": 2
   },
   "file_extension": ".py",
   "mimetype": "text/x-python",
   "name": "python",
   "nbconvert_exporter": "python",
   "pygments_lexer": "ipython2",
   "version": "2.7.6"
  }
 },
 "nbformat": 4,
 "nbformat_minor": 5
}
