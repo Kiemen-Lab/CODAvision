{
 "cells": [
  {
   "cell_type": "code",
   "id": "initial_id",
   "metadata": {
    "collapsed": true,
    "ExecuteTime": {
     "end_time": "2024-10-17T17:53:05.477814Z",
     "start_time": "2024-10-17T17:53:05.474197Z"
    }
   },
   "source": [
    "import os\n",
    "import time\n",
    "import tkinter as tk\n",
    "from tkinter import messagebox\n"
   ],
   "outputs": [],
   "execution_count": 4
  },
  {
   "metadata": {
    "ExecuteTime": {
     "end_time": "2024-10-17T17:53:05.499642Z",
     "start_time": "2024-10-17T17:53:05.480809Z"
    }
   },
   "cell_type": "code",
   "source": [
    "def monitor_folder(path, wait_time=5):\n",
    "    \"\"\"\n",
    "    Monitors the specified folder and pops up an alert if no new file is created within the wait time.\n",
    "\n",
    "    Parameters:\n",
    "    - path (str): The path of the folder to monitor.\n",
    "    - wait_time (int): The waiting time in minutes.\n",
    "    \"\"\"\n",
    "    start_time = time.time()\n",
    "    initial_files = set(f for f in os.listdir(path) if f.endswith('.ndpi'))\n",
    "    new_file_loop = set()\n",
    "\n",
    "    while True:\n",
    "        time.sleep(10)  # Check every 10 seconds\n",
    "        current_files = set(f for f in os.listdir(path) if f.endswith('.ndpi'))\n",
    "        new_files = current_files - initial_files\n",
    "        if current_files != initial_files:\n",
    "            if new_files != new_file_loop:\n",
    "                for new_file in new_files:\n",
    "                    print(f\"New file detected: {new_file}\")\n",
    "                    print(f' Current number of files: {len(current_files)}')\n",
    "                    initial_files.add(new_file)\n",
    "                new_file_loop = new_files\n",
    "\n",
    "        elif time.time() - start_time > wait_time * 60:\n",
    "            root = tk.Tk()\n",
    "            root.withdraw()\n",
    "            messagebox.showwarning(\"Warning\", f\"No new file detected in {wait_time} minutes.\")\n",
    "            return\n",
    "\n"
   ],
   "id": "a9dbcae36dc82b52",
   "outputs": [],
   "execution_count": 5
  },
  {
   "metadata": {
    "ExecuteTime": {
     "end_time": "2024-10-17T17:53:15.809588Z",
     "start_time": "2024-10-17T17:53:05.513093Z"
    }
   },
   "cell_type": "code",
   "source": [
    "path = r'\\\\10.99.134.183\\kiemen-lab-data\\Valentina Matos\\CT project\\clinical slides\\10162024'\n",
    "monitor_folder(path, wait_time=5)"
   ],
   "id": "926452292cc3f48d",
   "outputs": [
    {
     "ename": "KeyboardInterrupt",
     "evalue": "",
     "output_type": "error",
     "traceback": [
      "\u001B[1;31m---------------------------------------------------------------------------\u001B[0m",
      "\u001B[1;31mKeyboardInterrupt\u001B[0m                         Traceback (most recent call last)",
      "Cell \u001B[1;32mIn[6], line 2\u001B[0m\n\u001B[0;32m      1\u001B[0m path \u001B[38;5;241m=\u001B[39m \u001B[38;5;124mr\u001B[39m\u001B[38;5;124m'\u001B[39m\u001B[38;5;130;01m\\\\\u001B[39;00m\u001B[38;5;124m10.99.134.183\u001B[39m\u001B[38;5;124m\\\u001B[39m\u001B[38;5;124mkiemen-lab-data\u001B[39m\u001B[38;5;124m\\\u001B[39m\u001B[38;5;124mValentina Matos\u001B[39m\u001B[38;5;124m\\\u001B[39m\u001B[38;5;124mCT project\u001B[39m\u001B[38;5;124m\\\u001B[39m\u001B[38;5;124mclinical slides\u001B[39m\u001B[38;5;124m\\\u001B[39m\u001B[38;5;124m10162024\u001B[39m\u001B[38;5;124m'\u001B[39m\n\u001B[1;32m----> 2\u001B[0m monitor_folder(path, wait_time\u001B[38;5;241m=\u001B[39m\u001B[38;5;241m5\u001B[39m)\n",
      "Cell \u001B[1;32mIn[5], line 14\u001B[0m, in \u001B[0;36mmonitor_folder\u001B[1;34m(path, wait_time)\u001B[0m\n\u001B[0;32m     11\u001B[0m new_file_loop \u001B[38;5;241m=\u001B[39m \u001B[38;5;28mset\u001B[39m()\n\u001B[0;32m     13\u001B[0m \u001B[38;5;28;01mwhile\u001B[39;00m \u001B[38;5;28;01mTrue\u001B[39;00m:\n\u001B[1;32m---> 14\u001B[0m     time\u001B[38;5;241m.\u001B[39msleep(\u001B[38;5;241m10\u001B[39m)  \u001B[38;5;66;03m# Check every 10 seconds\u001B[39;00m\n\u001B[0;32m     15\u001B[0m     current_files \u001B[38;5;241m=\u001B[39m \u001B[38;5;28mset\u001B[39m(f \u001B[38;5;28;01mfor\u001B[39;00m f \u001B[38;5;129;01min\u001B[39;00m os\u001B[38;5;241m.\u001B[39mlistdir(path) \u001B[38;5;28;01mif\u001B[39;00m f\u001B[38;5;241m.\u001B[39mendswith(\u001B[38;5;124m'\u001B[39m\u001B[38;5;124m.ndpi\u001B[39m\u001B[38;5;124m'\u001B[39m))\n\u001B[0;32m     16\u001B[0m     new_files \u001B[38;5;241m=\u001B[39m current_files \u001B[38;5;241m-\u001B[39m initial_files\n",
      "\u001B[1;31mKeyboardInterrupt\u001B[0m: "
     ]
    }
   ],
   "execution_count": 6
  }
 ],
 "metadata": {
  "kernelspec": {
   "display_name": "Python 3",
   "language": "python",
   "name": "python3"
  },
  "language_info": {
   "codemirror_mode": {
    "name": "ipython",
    "version": 2
   },
   "file_extension": ".py",
   "mimetype": "text/x-python",
   "name": "python",
   "nbconvert_exporter": "python",
   "pygments_lexer": "ipython2",
   "version": "2.7.6"
  }
 },
 "nbformat": 4,
 "nbformat_minor": 5
}
