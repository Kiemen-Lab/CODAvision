{
 "cells": [
  {
   "cell_type": "code",
   "id": "initial_id",
   "metadata": {
    "collapsed": true,
    "ExecuteTime": {
     "end_time": "2024-10-22T15:00:41.875622Z",
     "start_time": "2024-10-22T15:00:41.820622Z"
    }
   },
   "source": [
    "import os\n",
    "import pickle\n",
    "\n",
    "pthDL = r'\\\\10.99.68.52\\Kiemendata\\Valentina Matos\\tissues for methods paper\\mouse lung\\test python TA 205\\10_22_2024_gkggk'\n",
    "with open(os.path.join(pthDL,'net.pkl'), 'rb') as f:\n",
    "    data = pickle.load(f)\n",
    "\n",
    "print(data)"
   ],
   "outputs": [
    {
     "name": "stdout",
     "output_type": "stream",
     "text": [
      "{'pthim': '//10.99.68.52/Kiemendata/Valentina Matos/tissues for methods paper/mouse lung/test python TA 205\\\\5x', 'pthDL': '//10.99.68.52/Kiemendata/Valentina Matos/tissues for methods paper/mouse lung/test python TA 205\\\\10_22_2024_debug', 'pthtest': '//10.99.68.52/Kiemendata/Valentina Matos/tissues for methods paper/mouse lung/test python TA 205/testing images', 'WS': [[0, 2, 0, 2, 2, 0, 0], [6, 7], [1, 2, 3, 4, 1, 5, 6], [7, 2, 4, 3, 1, 6], [5]], 'nm': '10_22_2024_debug', 'umpix': 2, 'cmap': array([[171,  85,   0],\n",
      "       [  0,  85, 126],\n",
      "       [172,   0,   0],\n",
      "       [169, 170, 126],\n",
      "       [255, 255, 255],\n",
      "       [255, 170, 255]]), 'sxy': 1024, 'classNames': ['bronchioles', 'alveoli', 'vasculature', 'mets', 'whitespace', 'collagen', 'black'], 'ntrain': 15, 'nblack': 7, 'nwhite': 5, 'final_df':     Layer Name          Color Whitespace Settings  Delete layer  \\\n",
      "0  bronchioles    (0, 255, 0)                   0         False   \n",
      "1      alveoli  (255, 255, 0)                   2         False   \n",
      "2  vasculature    (255, 0, 0)                   0         False   \n",
      "3         mets  (0, 255, 255)                   2         False   \n",
      "4  nonexpanded  (255, 0, 255)                   2          True   \n",
      "5   whitespace    (0, 0, 255)                   0         False   \n",
      "6     collagen  (255, 128, 0)                   0         False   \n",
      "\n",
      "   Combined layers  Nesting Component analysis  \n",
      "0                1        6              False  \n",
      "1                2        1              False  \n",
      "2                3        3              False  \n",
      "3                4        4              False  \n",
      "4                5        2              False  \n",
      "5                6        7              False  \n",
      "6                7        5              False  , 'combined_df':     Layer Name            Color Whitespace Settings  Layer idx  Deleted  \\\n",
      "0  bronchioles     (171, 85, 0)                   0          1    False   \n",
      "1      alveoli     (0, 85, 126)                   2          2    False   \n",
      "2  vasculature      (172, 0, 0)                   0          3    False   \n",
      "3         mets  (169, 170, 126)                   2          4    False   \n",
      "4  nonexpanded  (169, 170, 126)                   2          5     True   \n",
      "5   whitespace  (255, 255, 255)                   0          6    False   \n",
      "6     collagen  (255, 170, 255)                   0          7    False   \n",
      "\n",
      "  Component analysis  \n",
      "0              False  \n",
      "1              False  \n",
      "2              False  \n",
      "3              False  \n",
      "4              False  \n",
      "5              False  \n",
      "6              False  , 'nvalidate': 3, 'nTA': 3}\n"
     ]
    }
   ],
   "execution_count": 3
  },
  {
   "metadata": {
    "ExecuteTime": {
     "end_time": "2024-10-22T15:00:58.403282Z",
     "start_time": "2024-10-22T15:00:58.360282Z"
    }
   },
   "cell_type": "code",
   "source": [
    "pthDL = r'\\\\10.99.68.52\\Kiemendata\\Valentina Matos\\tissues for methods paper\\mouse lung\\test python TA 205\\10_22_2024'\n",
    "with open(os.path.join(pthDL,'net.pkl'), 'rb') as f:\n",
    "    data = pickle.load(f)\n",
    "\n",
    "print(data)"
   ],
   "id": "6aa0042c08df4bfa",
   "outputs": [
    {
     "name": "stdout",
     "output_type": "stream",
     "text": [
      "{'pthim': '//10.99.68.52/Kiemendata/Valentina Matos/tissues for methods paper/mouse lung/test python TA 205\\\\5x', 'pthDL': '//10.99.68.52/Kiemendata/Valentina Matos/tissues for methods paper/mouse lung/test python TA 205\\\\10_22_2024', 'pthtest': '//10.99.68.52/Kiemendata/Valentina Matos/tissues for methods paper/mouse lung/test python TA 205/testing images', 'WS': [[0, 2, 0, 2, 2, 0, 0], [6, 7], [1, 2, 3, 4, 1, 5, 6], [7, 2, 4, 3, 1, 6], [5]], 'nm': '10_22_2024', 'umpix': 2, 'cmap': array([[171,  85,   0],\n",
      "       [  0,  85, 126],\n",
      "       [172,   0,   0],\n",
      "       [169, 170, 126],\n",
      "       [255, 255, 255],\n",
      "       [255, 170, 255]]), 'sxy': 1024, 'classNames': ['bronchioles', 'alveoli', 'vasculature', 'mets', 'whitespace', 'collagen', 'black'], 'ntrain': 15, 'nblack': 7, 'nwhite': 5, 'final_df':     Layer Name          Color Whitespace Settings  Delete layer  \\\n",
      "0  bronchioles    (0, 255, 0)                   0         False   \n",
      "1      alveoli  (255, 255, 0)                   2         False   \n",
      "2  vasculature    (255, 0, 0)                   0         False   \n",
      "3         mets  (0, 255, 255)                   2         False   \n",
      "4  nonexpanded  (255, 0, 255)                   2          True   \n",
      "5   whitespace    (0, 0, 255)                   0         False   \n",
      "6     collagen  (255, 128, 0)                   0         False   \n",
      "\n",
      "   Combined layers  Nesting Component analysis  \n",
      "0                1        6              False  \n",
      "1                2        1              False  \n",
      "2                3        3              False  \n",
      "3                4        4              False  \n",
      "4                5        2              False  \n",
      "5                6        7              False  \n",
      "6                7        5              False  , 'combined_df':     Layer Name            Color Whitespace Settings  Layer idx  Deleted  \\\n",
      "0  bronchioles     (171, 85, 0)                   0          1    False   \n",
      "1      alveoli     (0, 85, 126)                   2          2    False   \n",
      "2  vasculature      (172, 0, 0)                   0          3    False   \n",
      "3         mets  (169, 170, 126)                   2          4    False   \n",
      "4  nonexpanded  (169, 170, 126)                   2          5     True   \n",
      "5   whitespace  (255, 255, 255)                   0          6    False   \n",
      "6     collagen  (255, 170, 255)                   0          7    False   \n",
      "\n",
      "  Component analysis  \n",
      "0              False  \n",
      "1              False  \n",
      "2              False  \n",
      "3              False  \n",
      "4              False  \n",
      "5              False  \n",
      "6              False  , 'nvalidate': 3, 'nTA': 2}\n"
     ]
    }
   ],
   "execution_count": 4
  },
  {
   "metadata": {
    "ExecuteTime": {
     "end_time": "2024-10-22T15:10:52.325899Z",
     "start_time": "2024-10-22T15:10:52.274900Z"
    }
   },
   "cell_type": "code",
   "source": [
    "#compare content of two pickle files\n",
    "import pickle\n",
    "import os\n",
    "\n",
    "pth1 = r'\\\\10.99.68.52\\Kiemendata\\Valentina Matos\\tissues for methods paper\\mouse lung\\test python TA 205\\10_22_2024'\n",
    "pth2 = r'\\\\10.99.68.52\\Kiemendata\\Valentina Matos\\tissues for methods paper\\mouse lung\\test python TA 205\\10_22_2024_debug'\n",
    "with open(os.path.join(pth1,'net.pkl'), 'rb') as f:\n",
    "    data1 = pickle.load(f)\n",
    "with open(os.path.join(pth2,'net.pkl'), 'rb') as f:\n",
    "    data2 = pickle.load(f)\n",
    "\n",
    "#print elements that are different\n",
    "for key in data1.keys():\n",
    "    try:\n",
    "        if data1[key] != data2[key]:\n",
    "            print(key)\n",
    "            print('pickle1')\n",
    "            print(data1[key])\n",
    "            print('pickle2')\n",
    "            print(data2[key])\n",
    "    except ValueError as e:\n",
    "        print(f'ValueError for key {key}: {e}')\n",
    "    except Exception as e:\n",
    "        print(f'Error in key {key}: {e}')\n",
    "\n"
   ],
   "id": "dc280706d644890",
   "outputs": [
    {
     "name": "stdout",
     "output_type": "stream",
     "text": [
      "pthDL\n",
      "pickle1\n",
      "//10.99.68.52/Kiemendata/Valentina Matos/tissues for methods paper/mouse lung/test python TA 205\\10_22_2024\n",
      "pickle2\n",
      "//10.99.68.52/Kiemendata/Valentina Matos/tissues for methods paper/mouse lung/test python TA 205\\10_22_2024_debug\n",
      "nm\n",
      "pickle1\n",
      "10_22_2024\n",
      "pickle2\n",
      "10_22_2024_debug\n",
      "ValueError for key cmap: The truth value of an array with more than one element is ambiguous. Use a.any() or a.all()\n",
      "ValueError for key final_df: The truth value of a DataFrame is ambiguous. Use a.empty, a.bool(), a.item(), a.any() or a.all().\n",
      "ValueError for key combined_df: The truth value of a DataFrame is ambiguous. Use a.empty, a.bool(), a.item(), a.any() or a.all().\n",
      "nTA\n",
      "pickle1\n",
      "2\n",
      "pickle2\n",
      "3\n"
     ]
    }
   ],
   "execution_count": 14
  },
  {
   "metadata": {},
   "cell_type": "code",
   "outputs": [],
   "execution_count": null,
   "source": "",
   "id": "76366c5e838167da"
  }
 ],
 "metadata": {
  "kernelspec": {
   "display_name": "Python 3",
   "language": "python",
   "name": "python3"
  },
  "language_info": {
   "codemirror_mode": {
    "name": "ipython",
    "version": 2
   },
   "file_extension": ".py",
   "mimetype": "text/x-python",
   "name": "python",
   "nbconvert_exporter": "python",
   "pygments_lexer": "ipython2",
   "version": "2.7.6"
  }
 },
 "nbformat": 4,
 "nbformat_minor": 5
}
