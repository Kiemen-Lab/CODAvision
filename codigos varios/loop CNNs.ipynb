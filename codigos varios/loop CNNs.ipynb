{
 "cells": [
  {
   "cell_type": "code",
   "id": "initial_id",
   "metadata": {
    "collapsed": true,
    "ExecuteTime": {
     "end_time": "2024-11-13T21:38:36.014722Z",
     "start_time": "2024-11-13T21:38:17.715474Z"
    }
   },
   "source": [
    "import os\n",
    "import numpy as np\n",
    "from base import *\n",
    "from base.train_segmentation_model_cnns import train_segmentation_model_cnns"
   ],
   "outputs": [],
   "execution_count": 1
  },
  {
   "metadata": {
    "ExecuteTime": {
     "end_time": "2024-11-13T21:38:36.046238Z",
     "start_time": "2024-11-13T21:38:36.036239Z"
    }
   },
   "cell_type": "code",
   "source": [
    "pth = r'\\\\10.99.134.183\\kiemen-lab-data\\Valentina Matos\\Lung tissue data GUI'\n",
    "pthim = os.path.join(pth, '5x')\n",
    "pthDL = r'\\\\10.99.134.183\\kiemen-lab-data\\Valentina Matos\\Lung tissue data GUI\\CNNs_same_dataset'\n",
    "pthtest = os.path.join(pth, 'test')\n",
    "pthtestim = os.path.join(pthtest, '5x')"
   ],
   "id": "b4fdaf9c48b301a6",
   "outputs": [],
   "execution_count": 2
  },
  {
   "metadata": {
    "jupyter": {
     "is_executing": true
    },
    "ExecuteTime": {
     "start_time": "2024-11-13T21:38:36.267784Z"
    }
   },
   "cell_type": "code",
   "source": [
    "CNNs = [\"CASe_UNet\",\"UNet3+\",\"TransUNet\",\"DeepLabV3+\"]\n",
    "# CNNs = [\"DeepLabV3+\",\"UNet3+\",\"TransUNet\",\"CASe_UNet\",\"UNet\"]\n",
    "\n",
    "#Train test and classify an image for each CNN\n",
    "for cnn_name in CNNs:\n",
    "    print(f'Training: {cnn_name}')\n",
    "    # train_segmentation_model(pthDL)\n",
    "    train_segmentation_model_cnns(pthDL,cnn_name)\n",
    "    test_segmentation_model(pthDL,pthtest, pthtestim, cnn_name)\n",
    "    classify_images(pthim,pthDL , cnn_name)\n",
    "    print(f'Done training: {cnn_name}')"
   ],
   "id": "46cc8813f7931e20",
   "outputs": [
    {
     "name": "stdout",
     "output_type": "stream",
     "text": [
      "Training: CASe_UNet\n",
      "TensorFlow is using the following GPU: LogicalDevice(name='/device:GPU:0', device_type='GPU')\n",
      "Starting model training...\n",
      "Epoch 1/8\n",
      " 31/750 [>.............................] - ETA: 13:44 - loss: 470.0210 - accuracy: 0.1283"
     ]
    }
   ],
   "execution_count": null
  },
  {
   "metadata": {},
   "cell_type": "code",
   "source": "",
   "id": "4b17db5b9da7073",
   "outputs": [],
   "execution_count": null
  }
 ],
 "metadata": {
  "kernelspec": {
   "display_name": "Python 3",
   "language": "python",
   "name": "python3"
  },
  "language_info": {
   "codemirror_mode": {
    "name": "ipython",
    "version": 2
   },
   "file_extension": ".py",
   "mimetype": "text/x-python",
   "name": "python",
   "nbconvert_exporter": "python",
   "pygments_lexer": "ipython2",
   "version": "2.7.6"
  }
 },
 "nbformat": 4,
 "nbformat_minor": 5
}
