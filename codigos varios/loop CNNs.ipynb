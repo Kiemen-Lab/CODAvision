{
 "cells": [
  {
   "cell_type": "code",
   "id": "initial_id",
   "metadata": {
    "collapsed": true,
    "ExecuteTime": {
     "end_time": "2024-11-13T22:07:28.054247Z",
     "start_time": "2024-11-13T22:07:27.991453Z"
    }
   },
   "source": [
    "import os\n",
    "import numpy as np\n",
    "from base import *\n",
    "from base.train_segmentation_model_cnns import train_segmentation_model_cnns"
   ],
   "outputs": [
    {
     "ename": "ModuleNotFoundError",
     "evalue": "No module named 'PySide6'",
     "output_type": "error",
     "traceback": [
      "\u001B[1;31m---------------------------------------------------------------------------\u001B[0m",
      "\u001B[1;31mModuleNotFoundError\u001B[0m                       Traceback (most recent call last)",
      "Cell \u001B[1;32mIn[2], line 3\u001B[0m\n\u001B[0;32m      1\u001B[0m \u001B[38;5;28;01mimport\u001B[39;00m \u001B[38;5;21;01mos\u001B[39;00m\n\u001B[0;32m      2\u001B[0m \u001B[38;5;28;01mimport\u001B[39;00m \u001B[38;5;21;01mnumpy\u001B[39;00m \u001B[38;5;28;01mas\u001B[39;00m \u001B[38;5;21;01mnp\u001B[39;00m\n\u001B[1;32m----> 3\u001B[0m \u001B[38;5;28;01mfrom\u001B[39;00m \u001B[38;5;21;01mbase\u001B[39;00m \u001B[38;5;28;01mimport\u001B[39;00m \u001B[38;5;241m*\u001B[39m\n\u001B[0;32m      4\u001B[0m \u001B[38;5;28;01mfrom\u001B[39;00m \u001B[38;5;21;01mbase\u001B[39;00m\u001B[38;5;21;01m.\u001B[39;00m\u001B[38;5;21;01mtrain_segmentation_model_cnns\u001B[39;00m \u001B[38;5;28;01mimport\u001B[39;00m train_segmentation_model_cnns\n",
      "File \u001B[1;32m~\\PycharmProjects\\CODA_python\\base\\__init__.py:3\u001B[0m\n\u001B[0;32m      1\u001B[0m \u001B[38;5;66;03m# Import  modules or functions\u001B[39;00m\n\u001B[0;32m      2\u001B[0m \u001B[38;5;28;01mfrom\u001B[39;00m \u001B[38;5;21;01m.\u001B[39;00m\u001B[38;5;21;01msave_model_metadata\u001B[39;00m \u001B[38;5;28;01mimport\u001B[39;00m save_model_metadata\n\u001B[1;32m----> 3\u001B[0m \u001B[38;5;28;01mfrom\u001B[39;00m \u001B[38;5;21;01m.\u001B[39;00m\u001B[38;5;21;01mdetermine_optimal_TA\u001B[39;00m \u001B[38;5;28;01mimport\u001B[39;00m determine_optimal_TA\n\u001B[0;32m      4\u001B[0m \u001B[38;5;28;01mfrom\u001B[39;00m \u001B[38;5;21;01m.\u001B[39;00m\u001B[38;5;21;01mload_annotation_data\u001B[39;00m \u001B[38;5;28;01mimport\u001B[39;00m load_annotation_data\n\u001B[0;32m      5\u001B[0m \u001B[38;5;28;01mfrom\u001B[39;00m \u001B[38;5;21;01m.\u001B[39;00m\u001B[38;5;21;01mcreate_training_tiles\u001B[39;00m \u001B[38;5;28;01mimport\u001B[39;00m create_training_tiles\n",
      "File \u001B[1;32m~\\PycharmProjects\\CODA_python\\base\\determine_optimal_TA.py:7\u001B[0m\n\u001B[0;32m      5\u001B[0m \u001B[38;5;28;01mimport\u001B[39;00m \u001B[38;5;21;01mpickle\u001B[39;00m\n\u001B[0;32m      6\u001B[0m \u001B[38;5;66;03m# Import pyqt stuff\u001B[39;00m\n\u001B[1;32m----> 7\u001B[0m \u001B[38;5;28;01mfrom\u001B[39;00m \u001B[38;5;21;01mPySide6\u001B[39;00m \u001B[38;5;28;01mimport\u001B[39;00m QtGui, QtWidgets, QtCore\n\u001B[0;32m      8\u001B[0m \u001B[38;5;28;01mfrom\u001B[39;00m \u001B[38;5;21;01mPySide6\u001B[39;00m\u001B[38;5;21;01m.\u001B[39;00m\u001B[38;5;21;01mQtCore\u001B[39;00m \u001B[38;5;28;01mimport\u001B[39;00m Qt, QRect, QMetaObject, QCoreApplication\n\u001B[0;32m      9\u001B[0m \u001B[38;5;28;01mfrom\u001B[39;00m \u001B[38;5;21;01m.\u001B[39;00m\u001B[38;5;21;01mdetermine_optimal_TA_UIs\u001B[39;00m \u001B[38;5;28;01mimport\u001B[39;00m Ui_choose_area, Ui_disp_crop, Ui_choose_TA\n",
      "\u001B[1;31mModuleNotFoundError\u001B[0m: No module named 'PySide6'"
     ]
    }
   ],
   "execution_count": 2
  },
  {
   "metadata": {
    "ExecuteTime": {
     "start_time": "2024-11-13T22:07:22.917935Z"
    }
   },
   "cell_type": "code",
   "source": [
    "pth = r'\\\\10.99.134.183\\kiemen-lab-data\\Valentina Matos\\Lung tissue data GUI'\n",
    "pthim = os.path.join(pth, '5x')\n",
    "pthDL = r'\\\\10.99.134.183\\kiemen-lab-data\\Valentina Matos\\Lung tissue data GUI\\CNNs_same_dataset'\n",
    "pthtest = os.path.join(pth, 'test')\n",
    "pthtestim = os.path.join(pthtest, '5x')"
   ],
   "id": "b4fdaf9c48b301a6",
   "outputs": [],
   "execution_count": null
  },
  {
   "metadata": {
    "ExecuteTime": {
     "end_time": "2024-11-13T22:07:22.917935Z",
     "start_time": "2024-11-13T22:07:22.917935Z"
    }
   },
   "cell_type": "code",
   "source": [
    "CNNs = [\"CASe_UNet\",\"UNet3+\",\"TransUNet\",\"DeepLabV3+\"]\n",
    "# CNNs = [\"DeepLabV3+\",\"UNet3+\",\"TransUNet\",\"CASe_UNet\",\"UNet\"]\n",
    "\n",
    "#Train test and classify an image for each CNN\n",
    "for cnn_name in CNNs:\n",
    "    print(f'Training: {cnn_name}')\n",
    "    # train_segmentation_model(pthDL)\n",
    "    train_segmentation_model_cnns(pthDL,cnn_name)\n",
    "    test_segmentation_model(pthDL,pthtest, pthtestim, cnn_name)\n",
    "    classify_images(pthim,pthDL , cnn_name)\n",
    "    print(f'Done training: {cnn_name}')"
   ],
   "id": "46cc8813f7931e20",
   "outputs": [],
   "execution_count": null
  },
  {
   "metadata": {
    "ExecuteTime": {
     "start_time": "2024-11-13T22:07:22.917935Z"
    }
   },
   "cell_type": "code",
   "source": "",
   "id": "4b17db5b9da7073",
   "outputs": [],
   "execution_count": null
  }
 ],
 "metadata": {
  "kernelspec": {
   "display_name": "Python 3",
   "language": "python",
   "name": "python3"
  },
  "language_info": {
   "codemirror_mode": {
    "name": "ipython",
    "version": 2
   },
   "file_extension": ".py",
   "mimetype": "text/x-python",
   "name": "python",
   "nbconvert_exporter": "python",
   "pygments_lexer": "ipython2",
   "version": "2.7.6"
  }
 },
 "nbformat": 4,
 "nbformat_minor": 5
}
