{
 "cells": [
  {
   "cell_type": "code",
   "execution_count": 1,
   "metadata": {
    "collapsed": true
   },
   "outputs": [],
   "source": [
    "import numpy as np\n",
    "import matplotlib.pyplot as plt"
   ]
  },
  {
   "cell_type": "code",
   "execution_count": null,
   "outputs": [],
   "source": [
    "# Define inputs\n",
    "D=None\n",
    "class_names=None\n",
    "path_dl= r'\\\\10.99.68.52\\Kiemendata\\Valentina Matos\\Melanoma Project\\Annotations\\model\\03_27_2024_5x\\'"
   ],
   "metadata": {
    "collapsed": false
   }
  },
  {
   "cell_type": "code",
   "execution_count": null,
   "outputs": [],
   "source": [
    "#Make D into blue-red heatmap\n",
    "\n",
    "nn = 20\n",
    "Dc = np.round(D / np.max(D) * (nn - 1)) + 1\n",
    "\n",
    "Cb = np.array([39, 123, 227]) / 255  # blue\n",
    "Cw = np.array([245, 242, 237]) / 255  # white\n",
    "Cr = np.array([227, 57, 39]) / 255  # red\n",
    "\n",
    "a1 = np.linspace(Cw[0], Cb[0], nn)\n",
    "b1 = np.linspace(Cw[1], Cb[1], nn)\n",
    "c1 = np.linspace(Cw[2], Cb[2], nn)\n",
    "a2 = np.linspace(Cw[0], Cr[0], nn)\n",
    "b2 = np.linspace(Cw[1], Cr[1], nn)\n",
    "c2 = np.linspace(Cw[2], Cr[2], nn)\n",
    "\n",
    "Cb = np.column_stack((a1, b1, c1))"
   ],
   "metadata": {
    "collapsed": false
   }
  }
 ],
 "metadata": {
  "kernelspec": {
   "display_name": "Python 3",
   "language": "python",
   "name": "python3"
  },
  "language_info": {
   "codemirror_mode": {
    "name": "ipython",
    "version": 2
   },
   "file_extension": ".py",
   "mimetype": "text/x-python",
   "name": "python",
   "nbconvert_exporter": "python",
   "pygments_lexer": "ipython2",
   "version": "2.7.6"
  }
 },
 "nbformat": 4,
 "nbformat_minor": 0
}
