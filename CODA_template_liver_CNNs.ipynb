{
 "cells": [
  {
   "cell_type": "code",
   "id": "initial_id",
   "metadata": {
    "ExecuteTime": {
     "end_time": "2025-01-07T17:16:27.468846700Z",
     "start_time": "2025-01-07T17:16:27.338848800Z"
    }
   },
   "source": [
    "import os\n",
    "import numpy as np\n",
    "from base import *"
   ],
   "outputs": [],
   "execution_count": 2
  },
  {
   "cell_type": "code",
   "id": "9ba9ed0ead2baa9b",
   "metadata": {
    "ExecuteTime": {
     "end_time": "2025-01-07T17:17:02.468662400Z",
     "start_time": "2025-01-07T17:17:02.457654200Z"
    }
   },
   "source": [
    "pth = r'\\\\10.99.68.52\\Kiemendata\\Valentina Matos\\tissues for methods paper\\human liver'\n",
    "pthim = os.path.join(pth, '10x')\n",
    "umpix = 1\n",
    "pthtest = os.path.join(pth, 'testing image')\n",
    "pthtestim = os.path.join(pthtest, '10x')\n",
    "nm = 'CODA_python_01_06_2024_sametilesas12_03_2024_notGUI'\n",
    "resolution = '10x'\n",
    "\n",
    "WS = [[0, 0, 0, 0, 0, 0, 2], [7, 6], \n",
    "      [1, 2, 3, 4, 5, 6, 7], \n",
    "      [4, 6, 2, 3, 5, 1, 7], []]\n",
    "\n",
    "numclass = max(WS[2])\n",
    "sxy = 1024\n",
    "pthDL = os.path.join(pth, nm)\n",
    "nblack = numclass + 1\n",
    "nwhite = WS[1][0]\n",
    "cmap = np.array([[230, 190, 100],\n",
    "                  [65, 155, 210],\n",
    "                  [145, 35, 35],\n",
    "                  [158, 24, 118],\n",
    "                  [30, 50, 50],\n",
    "                  [235, 188, 215],\n",
    "                  [255, 255, 255]])\n",
    "classNames = ['PDAC', 'bile duct', 'vasculature', 'hepatocyte','immune','stroma','whitespace']\n",
    "classCheck = []\n",
    "ntrain = 15\n",
    "nvalidate = np.ceil(ntrain/5)\n",
    "nTA = 2"
   ],
   "outputs": [],
   "execution_count": 4
  },
  {
   "metadata": {
    "ExecuteTime": {
     "end_time": "2025-01-07T17:17:06.590200200Z",
     "start_time": "2025-01-07T17:17:05.995553200Z"
    }
   },
   "cell_type": "code",
   "source": [
    "save_model_metadata_GUI(pthDL, pthim,pthtest, WS, nm, umpix, cmap, sxy, classNames, ntrain, nvalidate, nTA = 3,final_df = None, combined_df = None, model_type=\"DeepLabV3_plus\", batch_size=3)"
   ],
   "id": "923ae3e28792621a",
   "outputs": [
    {
     "name": "stdout",
     "output_type": "stream",
     "text": [
      "Saving model metadata and classification colormap...\n",
      "Max WS[2]: 7\n",
      "Classnames: ['PDAC', 'bile duct', 'vasculature', 'hepatocyte', 'immune', 'stroma', 'whitespace']\n",
      "Creating Net metadata file...\n"
     ]
    },
    {
     "data": {
      "text/plain": "<Figure size 640x480 with 1 Axes>",
      "image/png": "[encoded data removed]"
     },
     "metadata": {},
     "output_type": "display_data"
    }
   ],
   "execution_count": 5
  },
  {
   "metadata": {
    "ExecuteTime": {
     "end_time": "2024-12-06T15:09:30.592278Z",
     "start_time": "2024-12-06T15:09:30.433135Z"
    }
   },
   "cell_type": "code",
   "source": [
    "WSI2tif(pth, resolution, umpix)"
   ],
   "id": "ac87816e92568833",
   "outputs": [],
   "execution_count": 5
  },
  {
   "metadata": {
    "ExecuteTime": {
     "end_time": "2024-12-06T15:09:30.702283Z",
     "start_time": "2024-12-06T15:09:30.627284Z"
    }
   },
   "cell_type": "code",
   "source": [
    "# Determine optimal TA\n",
    "determine_optimal_TA(pthim, nTA)"
   ],
   "id": "59d96cd6a27813a0",
   "outputs": [
    {
     "name": "stdout",
     "output_type": "stream",
     "text": [
      "   \n",
      "Evaluating 2 randomly selected images to choose a good whitespace detection...\n",
      "   Optimal cutoff already chosen, skip this step\n"
     ]
    }
   ],
   "execution_count": 6
  },
  {
   "cell_type": "code",
   "id": "2b16298adbd85f13",
   "metadata": {
    "ExecuteTime": {
     "end_time": "2024-12-06T15:09:33.180525Z",
     "start_time": "2024-12-06T15:09:30.720283Z"
    }
   },
   "source": [
    "[ctlist0, numann0] = load_annotation_data(pthDL, pth, pthim, classCheck)"
   ],
   "outputs": [
    {
     "name": "stdout",
     "output_type": "stream",
     "text": [
      " \n",
      "Importing annotation data...\n",
      "Image 1 of 6: Liv-17_0001\n",
      " annotation data previously loaded\n",
      "Image 2 of 6: Liv-17_0041\n",
      " annotation data previously loaded\n",
      "Image 3 of 6: Liv-17_0081\n",
      " annotation data previously loaded\n",
      "Image 4 of 6: Liv-17_0121\n",
      " annotation data previously loaded\n",
      "Image 5 of 6: Liv-17_0161\n",
      " annotation data previously loaded\n",
      "Image 6 of 6: Liv-17_0199\n",
      " annotation data previously loaded\n"
     ]
    }
   ],
   "execution_count": 7
  },
  {
   "cell_type": "code",
   "id": "3449c9fd82c44cb5",
   "metadata": {
    "scrolled": true,
    "ExecuteTime": {
     "end_time": "2024-12-06T15:09:33.335525Z",
     "start_time": "2024-12-06T15:09:33.198524Z"
    }
   },
   "source": [
    "create_training_tiles(pthDL, numann0, ctlist0)"
   ],
   "outputs": [
    {
     "name": "stdout",
     "output_type": "stream",
     "text": [
      "\n",
      "Calculating total number of pixels in the training dataset...\n",
      " There are 544424100.0 pixels of PDAC, 47% of the most common class.\n",
      " There are 32228400.0 pixels of bile duct, 2% of the most common class.\n",
      " There are 92477300.0 pixels of vasculature, 8% of the most common class.\n",
      " There are 1155811000.0 pixels of hepatocyte. This is the most common class.\n",
      " There are 31894000.0 pixels of immune, 2% of the most common class.\n",
      " There are 812402300.0 pixels of stroma, 70% of the most common class.\n",
      " There are 816831000.0 pixels of whitespace, 70% of the most common class.\n",
      "\n",
      "Building training tiles...\n",
      "  Already done.\n",
      "  Elapsed time to create training big tiles: 0.0h 0.0m 0.05800294876098633s\n",
      "\n",
      "\n",
      "Building validation tiles...\n",
      "Already done.\n",
      "Elapsed time to create validation big tiles: 0.0h 0.0m 0.05399751663208008s\n"
     ]
    }
   ],
   "execution_count": 8
  },
  {
   "cell_type": "code",
   "id": "b2c95a175d662c78",
   "metadata": {
    "scrolled": true,
    "jupyter": {
     "is_executing": true
    },
    "ExecuteTime": {
     "end_time": "2025-01-07T17:20:24.681544300Z",
     "start_time": "2025-01-07T17:20:16.539008500Z"
    }
   },
   "source": [
    "train_segmentation_model_cnns(pthDL)"
   ],
   "outputs": [
    {
     "name": "stdout",
     "output_type": "stream",
     "text": [
      "No GPU available. Ensure that the NVIDIA GPU and CUDA are correctly installed.\n"
     ]
    },
    {
     "ename": "KeyboardInterrupt",
     "evalue": "",
     "output_type": "error",
     "traceback": [
      "\u001B[1;31m---------------------------------------------------------------------------\u001B[0m",
      "\u001B[1;31mKeyboardInterrupt\u001B[0m                         Traceback (most recent call last)",
      "\u001B[1;32m~\\AppData\\Local\\Temp\\2\\ipykernel_29840\\139568566.py\u001B[0m in \u001B[0;36m?\u001B[1;34m()\u001B[0m\n\u001B[1;32m----> 1\u001B[1;33m \u001B[0mtrain_segmentation_model_cnns\u001B[0m\u001B[1;33m(\u001B[0m\u001B[0mpthDL\u001B[0m\u001B[1;33m)\u001B[0m\u001B[1;33m\u001B[0m\u001B[1;33m\u001B[0m\u001B[0m\n\u001B[0m",
      "\u001B[1;32m~\\PycharmProjects\\CODA_python\\base\\train_segmentation_model_cnns.py\u001B[0m in \u001B[0;36m?\u001B[1;34m(pthDL, retrain_model)\u001B[0m\n\u001B[0;32m    127\u001B[0m                     \u001B[1;32melse\u001B[0m\u001B[1;33m:\u001B[0m\u001B[1;33m\u001B[0m\u001B[1;33m\u001B[0m\u001B[0m\n\u001B[0;32m    128\u001B[0m                         \u001B[0mlabel_counts\u001B[0m\u001B[1;33m[\u001B[0m\u001B[0mu\u001B[0m\u001B[1;33m]\u001B[0m \u001B[1;33m=\u001B[0m \u001B[0mc\u001B[0m\u001B[1;33m\u001B[0m\u001B[1;33m\u001B[0m\u001B[0m\n\u001B[0;32m    129\u001B[0m             \u001B[1;32mreturn\u001B[0m \u001B[0mlabel_counts\u001B[0m\u001B[1;33m\u001B[0m\u001B[1;33m\u001B[0m\u001B[0m\n\u001B[0;32m    130\u001B[0m \u001B[1;33m\u001B[0m\u001B[0m\n\u001B[1;32m--> 131\u001B[1;33m         \u001B[0mlabel_counts\u001B[0m \u001B[1;33m=\u001B[0m \u001B[0mcount_each_label\u001B[0m\u001B[1;33m(\u001B[0m\u001B[0mtrain_masks\u001B[0m\u001B[1;33m)\u001B[0m\u001B[1;33m\u001B[0m\u001B[1;33m\u001B[0m\u001B[0m\n\u001B[0m\u001B[0;32m    132\u001B[0m         \u001B[0mtbl\u001B[0m \u001B[1;33m=\u001B[0m \u001B[0mpd\u001B[0m\u001B[1;33m.\u001B[0m\u001B[0mDataFrame\u001B[0m\u001B[1;33m(\u001B[0m\u001B[0mlist\u001B[0m\u001B[1;33m(\u001B[0m\u001B[0mlabel_counts\u001B[0m\u001B[1;33m.\u001B[0m\u001B[0mitems\u001B[0m\u001B[1;33m(\u001B[0m\u001B[1;33m)\u001B[0m\u001B[1;33m)\u001B[0m\u001B[1;33m,\u001B[0m \u001B[0mcolumns\u001B[0m\u001B[1;33m=\u001B[0m\u001B[1;33m[\u001B[0m\u001B[1;34m'Label'\u001B[0m\u001B[1;33m,\u001B[0m \u001B[1;34m'PixelCount'\u001B[0m\u001B[1;33m]\u001B[0m\u001B[1;33m)\u001B[0m\u001B[1;33m\u001B[0m\u001B[1;33m\u001B[0m\u001B[0m\n\u001B[0;32m    133\u001B[0m         \u001B[0mtbl\u001B[0m\u001B[1;33m[\u001B[0m\u001B[1;34m'ImagePixelCount'\u001B[0m\u001B[1;33m]\u001B[0m \u001B[1;33m=\u001B[0m \u001B[0mtbl\u001B[0m\u001B[1;33m[\u001B[0m\u001B[1;34m'PixelCount'\u001B[0m\u001B[1;33m]\u001B[0m\u001B[1;33m.\u001B[0m\u001B[0msum\u001B[0m\u001B[1;33m(\u001B[0m\u001B[1;33m)\u001B[0m\u001B[1;33m\u001B[0m\u001B[1;33m\u001B[0m\u001B[0m\n\u001B[0;32m    134\u001B[0m         \u001B[0mimage_freq\u001B[0m \u001B[1;33m=\u001B[0m \u001B[0mtbl\u001B[0m\u001B[1;33m[\u001B[0m\u001B[1;34m'PixelCount'\u001B[0m\u001B[1;33m]\u001B[0m \u001B[1;33m/\u001B[0m \u001B[0mtbl\u001B[0m\u001B[1;33m[\u001B[0m\u001B[1;34m'ImagePixelCount'\u001B[0m\u001B[1;33m]\u001B[0m\u001B[1;33m\u001B[0m\u001B[1;33m\u001B[0m\u001B[0m\n",
      "\u001B[1;32m~\\PycharmProjects\\CODA_python\\base\\train_segmentation_model_cnns.py\u001B[0m in \u001B[0;36m?\u001B[1;34m(mask_list)\u001B[0m\n\u001B[0;32m    119\u001B[0m         \u001B[1;32mdef\u001B[0m \u001B[0mcount_each_label\u001B[0m\u001B[1;33m(\u001B[0m\u001B[0mmask_list\u001B[0m\u001B[1;33m)\u001B[0m\u001B[1;33m:\u001B[0m\u001B[1;33m\u001B[0m\u001B[1;33m\u001B[0m\u001B[0m\n\u001B[0;32m    120\u001B[0m             \u001B[0mlabel_counts\u001B[0m \u001B[1;33m=\u001B[0m \u001B[1;33m{\u001B[0m\u001B[1;33m}\u001B[0m\u001B[1;33m\u001B[0m\u001B[1;33m\u001B[0m\u001B[0m\n\u001B[0;32m    121\u001B[0m             \u001B[1;32mfor\u001B[0m \u001B[0mmask_path\u001B[0m \u001B[1;32min\u001B[0m \u001B[0mmask_list\u001B[0m\u001B[1;33m:\u001B[0m\u001B[1;33m\u001B[0m\u001B[1;33m\u001B[0m\u001B[0m\n\u001B[0;32m    122\u001B[0m                 \u001B[0mmask\u001B[0m \u001B[1;33m=\u001B[0m \u001B[0mread_image\u001B[0m\u001B[1;33m(\u001B[0m\u001B[0mmask_path\u001B[0m\u001B[1;33m,\u001B[0m \u001B[0mmask\u001B[0m\u001B[1;33m=\u001B[0m\u001B[1;32mTrue\u001B[0m\u001B[1;33m)\u001B[0m\u001B[1;33m\u001B[0m\u001B[1;33m\u001B[0m\u001B[0m\n\u001B[1;32m--> 123\u001B[1;33m                 \u001B[0munique\u001B[0m\u001B[1;33m,\u001B[0m \u001B[0mcounts\u001B[0m \u001B[1;33m=\u001B[0m \u001B[0mtf\u001B[0m\u001B[1;33m.\u001B[0m\u001B[0munique\u001B[0m\u001B[1;33m(\u001B[0m\u001B[0mtf\u001B[0m\u001B[1;33m.\u001B[0m\u001B[0mreshape\u001B[0m\u001B[1;33m(\u001B[0m\u001B[0mmask\u001B[0m\u001B[1;33m,\u001B[0m \u001B[1;33m[\u001B[0m\u001B[1;33m-\u001B[0m\u001B[1;36m1\u001B[0m\u001B[1;33m]\u001B[0m\u001B[1;33m)\u001B[0m\u001B[1;33m)\u001B[0m\u001B[1;33m\u001B[0m\u001B[1;33m\u001B[0m\u001B[0m\n\u001B[0m\u001B[0;32m    124\u001B[0m                 \u001B[1;32mfor\u001B[0m \u001B[0mu\u001B[0m\u001B[1;33m,\u001B[0m \u001B[0mc\u001B[0m \u001B[1;32min\u001B[0m \u001B[0mzip\u001B[0m\u001B[1;33m(\u001B[0m\u001B[0munique\u001B[0m\u001B[1;33m.\u001B[0m\u001B[0mnumpy\u001B[0m\u001B[1;33m(\u001B[0m\u001B[1;33m)\u001B[0m\u001B[1;33m,\u001B[0m \u001B[0mcounts\u001B[0m\u001B[1;33m.\u001B[0m\u001B[0mnumpy\u001B[0m\u001B[1;33m(\u001B[0m\u001B[1;33m)\u001B[0m\u001B[1;33m)\u001B[0m\u001B[1;33m:\u001B[0m\u001B[1;33m\u001B[0m\u001B[1;33m\u001B[0m\u001B[0m\n\u001B[0;32m    125\u001B[0m                     \u001B[1;32mif\u001B[0m \u001B[0mu\u001B[0m \u001B[1;32min\u001B[0m \u001B[0mlabel_counts\u001B[0m\u001B[1;33m:\u001B[0m\u001B[1;33m\u001B[0m\u001B[1;33m\u001B[0m\u001B[0m\n\u001B[0;32m    126\u001B[0m                         \u001B[0mlabel_counts\u001B[0m\u001B[1;33m[\u001B[0m\u001B[0mu\u001B[0m\u001B[1;33m]\u001B[0m \u001B[1;33m+=\u001B[0m \u001B[0mc\u001B[0m\u001B[1;33m\u001B[0m\u001B[1;33m\u001B[0m\u001B[0m\n",
      "\u001B[1;32m~\\.conda\\envs\\CODAvision\\lib\\site-packages\\tensorflow\\python\\util\\traceback_utils.py\u001B[0m in \u001B[0;36m?\u001B[1;34m(*args, **kwargs)\u001B[0m\n\u001B[0;32m    151\u001B[0m     \u001B[1;32mexcept\u001B[0m \u001B[0mException\u001B[0m \u001B[1;32mas\u001B[0m \u001B[0me\u001B[0m\u001B[1;33m:\u001B[0m\u001B[1;33m\u001B[0m\u001B[1;33m\u001B[0m\u001B[0m\n\u001B[0;32m    152\u001B[0m       \u001B[0mfiltered_tb\u001B[0m \u001B[1;33m=\u001B[0m \u001B[0m_process_traceback_frames\u001B[0m\u001B[1;33m(\u001B[0m\u001B[0me\u001B[0m\u001B[1;33m.\u001B[0m\u001B[0m__traceback__\u001B[0m\u001B[1;33m)\u001B[0m\u001B[1;33m\u001B[0m\u001B[1;33m\u001B[0m\u001B[0m\n\u001B[0;32m    153\u001B[0m       \u001B[1;32mraise\u001B[0m \u001B[0me\u001B[0m\u001B[1;33m.\u001B[0m\u001B[0mwith_traceback\u001B[0m\u001B[1;33m(\u001B[0m\u001B[0mfiltered_tb\u001B[0m\u001B[1;33m)\u001B[0m \u001B[1;32mfrom\u001B[0m \u001B[1;32mNone\u001B[0m\u001B[1;33m\u001B[0m\u001B[1;33m\u001B[0m\u001B[0m\n\u001B[0;32m    154\u001B[0m     \u001B[1;32mfinally\u001B[0m\u001B[1;33m:\u001B[0m\u001B[1;33m\u001B[0m\u001B[1;33m\u001B[0m\u001B[0m\n\u001B[1;32m--> 155\u001B[1;33m       \u001B[1;32mdel\u001B[0m \u001B[0mfiltered_tb\u001B[0m\u001B[1;33m\u001B[0m\u001B[1;33m\u001B[0m\u001B[0m\n\u001B[0m",
      "\u001B[1;32m~\\.conda\\envs\\CODAvision\\lib\\site-packages\\tensorflow\\python\\util\\dispatch.py\u001B[0m in \u001B[0;36m?\u001B[1;34m(*args, **kwargs)\u001B[0m\n\u001B[0;32m   1180\u001B[0m         \u001B[0mresult\u001B[0m \u001B[1;33m=\u001B[0m \u001B[0mdispatch\u001B[0m\u001B[1;33m(\u001B[0m\u001B[0mop_dispatch_handler\u001B[0m\u001B[1;33m,\u001B[0m \u001B[0margs\u001B[0m\u001B[1;33m,\u001B[0m \u001B[0mkwargs\u001B[0m\u001B[1;33m)\u001B[0m\u001B[1;33m\u001B[0m\u001B[1;33m\u001B[0m\u001B[0m\n\u001B[0;32m   1181\u001B[0m         \u001B[1;32mif\u001B[0m \u001B[0mresult\u001B[0m \u001B[1;32mis\u001B[0m \u001B[1;32mnot\u001B[0m \u001B[0mOpDispatcher\u001B[0m\u001B[1;33m.\u001B[0m\u001B[0mNOT_SUPPORTED\u001B[0m\u001B[1;33m:\u001B[0m\u001B[1;33m\u001B[0m\u001B[1;33m\u001B[0m\u001B[0m\n\u001B[0;32m   1182\u001B[0m           \u001B[1;32mreturn\u001B[0m \u001B[0mresult\u001B[0m\u001B[1;33m\u001B[0m\u001B[1;33m\u001B[0m\u001B[0m\n\u001B[0;32m   1183\u001B[0m         \u001B[1;32melse\u001B[0m\u001B[1;33m:\u001B[0m\u001B[1;33m\u001B[0m\u001B[1;33m\u001B[0m\u001B[0m\n\u001B[1;32m-> 1184\u001B[1;33m           \u001B[1;32mraise\u001B[0m\u001B[1;33m\u001B[0m\u001B[1;33m\u001B[0m\u001B[0m\n\u001B[0m",
      "\u001B[1;32m~\\.conda\\envs\\CODAvision\\lib\\site-packages\\tensorflow\\python\\ops\\array_ops.py\u001B[0m in \u001B[0;36m?\u001B[1;34m(x, out_idx, name)\u001B[0m\n\u001B[0;32m   2062\u001B[0m   \u001B[1;31m# TODO(yongtang): switch to v2 once API deprecation\u001B[0m\u001B[1;33m\u001B[0m\u001B[1;33m\u001B[0m\u001B[0m\n\u001B[0;32m   2063\u001B[0m   \u001B[1;31m# period (3 weeks) pass.\u001B[0m\u001B[1;33m\u001B[0m\u001B[1;33m\u001B[0m\u001B[0m\n\u001B[0;32m   2064\u001B[0m   \u001B[1;31m# TODO(yongtang): The documentation should also\u001B[0m\u001B[1;33m\u001B[0m\u001B[1;33m\u001B[0m\u001B[0m\n\u001B[0;32m   2065\u001B[0m   \u001B[1;31m# be updated when switch  to v2.\u001B[0m\u001B[1;33m\u001B[0m\u001B[1;33m\u001B[0m\u001B[0m\n\u001B[1;32m-> 2066\u001B[1;33m   \u001B[1;32mreturn\u001B[0m \u001B[0mgen_array_ops\u001B[0m\u001B[1;33m.\u001B[0m\u001B[0munique\u001B[0m\u001B[1;33m(\u001B[0m\u001B[0mx\u001B[0m\u001B[1;33m,\u001B[0m \u001B[0mout_idx\u001B[0m\u001B[1;33m,\u001B[0m \u001B[0mname\u001B[0m\u001B[1;33m)\u001B[0m\u001B[1;33m\u001B[0m\u001B[1;33m\u001B[0m\u001B[0m\n\u001B[0m",
      "\u001B[1;32m~\\.conda\\envs\\CODAvision\\lib\\site-packages\\tensorflow\\python\\ops\\gen_array_ops.py\u001B[0m in \u001B[0;36m?\u001B[1;34m(x, out_idx, name)\u001B[0m\n\u001B[0;32m  11963\u001B[0m       \u001B[1;32mreturn\u001B[0m \u001B[0m_result\u001B[0m\u001B[1;33m\u001B[0m\u001B[1;33m\u001B[0m\u001B[0m\n\u001B[0;32m  11964\u001B[0m     \u001B[1;32mexcept\u001B[0m \u001B[0m_core\u001B[0m\u001B[1;33m.\u001B[0m\u001B[0m_NotOkStatusException\u001B[0m \u001B[1;32mas\u001B[0m \u001B[0me\u001B[0m\u001B[1;33m:\u001B[0m\u001B[1;33m\u001B[0m\u001B[1;33m\u001B[0m\u001B[0m\n\u001B[0;32m  11965\u001B[0m       \u001B[0m_ops\u001B[0m\u001B[1;33m.\u001B[0m\u001B[0mraise_from_not_ok_status\u001B[0m\u001B[1;33m(\u001B[0m\u001B[0me\u001B[0m\u001B[1;33m,\u001B[0m \u001B[0mname\u001B[0m\u001B[1;33m)\u001B[0m\u001B[1;33m\u001B[0m\u001B[1;33m\u001B[0m\u001B[0m\n\u001B[0;32m  11966\u001B[0m     \u001B[1;32mexcept\u001B[0m \u001B[0m_core\u001B[0m\u001B[1;33m.\u001B[0m\u001B[0m_FallbackException\u001B[0m\u001B[1;33m:\u001B[0m\u001B[1;33m\u001B[0m\u001B[1;33m\u001B[0m\u001B[0m\n\u001B[1;32m> 11967\u001B[1;33m       \u001B[1;32mpass\u001B[0m\u001B[1;33m\u001B[0m\u001B[1;33m\u001B[0m\u001B[0m\n\u001B[0m\u001B[0;32m  11968\u001B[0m     \u001B[1;32mtry\u001B[0m\u001B[1;33m:\u001B[0m\u001B[1;33m\u001B[0m\u001B[1;33m\u001B[0m\u001B[0m\n\u001B[0;32m  11969\u001B[0m       return unique_eager_fallback(\n\u001B[0;32m  11970\u001B[0m           x, out_idx=out_idx, name=name, ctx=_ctx)\n",
      "\u001B[1;31mKeyboardInterrupt\u001B[0m: "
     ]
    }
   ],
   "execution_count": 6
  },
  {
   "cell_type": "code",
   "id": "6462fd903fa4d552",
   "metadata": {
    "ExecuteTime": {
     "end_time": "2024-11-26T02:16:49.691338Z",
     "start_time": "2024-11-26T01:47:06.428692Z"
    }
   },
   "source": [
    "WSI2tif(pthtest, resolution, umpix)\n",
    "test_segmentation_model(pthDL,pthtest, pthtestim, cnn_name = \"DeepLabV3_plus\")"
   ],
   "execution_count": 3,
   "outputs": []
  },
  {
   "cell_type": "code",
   "id": "201d653012834981",
   "metadata": {
    "ExecuteTime": {
     "end_time": "2024-11-26T01:32:11.120983Z",
     "start_time": "2024-11-26T01:32:11.120983Z"
    }
   },
   "source": [
    "classify_images(pthim,pthDL, name = \"DeepLabV3_plus\")"
   ],
   "execution_count": null,
   "outputs": []
  },
  {
   "metadata": {
    "ExecuteTime": {
     "end_time": "2024-12-06T15:23:15.933342Z",
     "start_time": "2024-12-06T15:23:15.886328Z"
    }
   },
   "cell_type": "code",
   "source": [
    "import tensorflow as tf\n",
    "from keras import Input, Model\n",
    "import numpy as np\n",
    "\n",
    "# Define the input tensor\n",
    "input_size = 224  # Example input size, replace with your actual input size\n",
    "model_input = Input(shape=(input_size, input_size, 3))\n",
    "\n",
    "# Preprocess the input tensor\n",
    "preprocessed = tf.keras.applications.resnet50.preprocess_input(model_input)\n",
    "\n",
    "# Get the maximum, minimum, mean, and standard deviation values of the preprocessed tensor\n",
    "max_value = tf.reduce_max(preprocessed)\n",
    "min_value = tf.reduce_min(preprocessed)\n",
    "mean_value = tf.reduce_mean(preprocessed)\n",
    "std_value = tf.math.reduce_std(preprocessed)\n",
    "\n",
    "# Create a model to evaluate the tensor\n",
    "model = Model(inputs=model_input, outputs=[max_value, min_value, mean_value, std_value])\n",
    "\n",
    "# Generate some dummy data to feed into the model\n",
    "dummy_data = np.random.random((1, input_size, input_size, 3))\n",
    "\n",
    "# Evaluate the tensor to get the actual values\n",
    "max_value_evaluated, min_value_evaluated, mean_value_evaluated, std_value_evaluated = model.predict(dummy_data)\n",
    "print(f\"Max value: {max_value_evaluated}\")\n",
    "print(f\"Min value: {min_value_evaluated}\")\n",
    "print(f\"Mean value: {mean_value_evaluated}\")\n",
    "print(f\"Standard Deviation: {std_value_evaluated}\")"
   ],
   "id": "3e4f8255e07b6ca",
   "outputs": [
    {
     "ename": "TypeError",
     "evalue": "Could not build a TypeSpec for name: \"tf.print_4/PrintV2\"\nop: \"PrintV2\"\ninput: \"tf.print_4/StringFormat\"\nattr {\n  key: \"end\"\n  value {\n    s: \"\\r\\n\"\n  }\n}\nattr {\n  key: \"output_stream\"\n  value {\n    s: \"stderr\"\n  }\n}\n of unsupported type <class 'tensorflow.python.framework.ops.Operation'>.",
     "output_type": "error",
     "traceback": [
      "\u001B[1;31m---------------------------------------------------------------------------\u001B[0m",
      "\u001B[1;31mTypeError\u001B[0m                                 Traceback (most recent call last)",
      "Cell \u001B[1;32mIn[5], line 9\u001B[0m\n\u001B[0;32m      6\u001B[0m preprocessed \u001B[38;5;241m=\u001B[39m resnet50\u001B[38;5;241m.\u001B[39mpreprocess_input(model_input)\n\u001B[0;32m      8\u001B[0m max_value \u001B[38;5;241m=\u001B[39m tf\u001B[38;5;241m.\u001B[39mreduce_max(preprocessed)\n\u001B[1;32m----> 9\u001B[0m \u001B[43mtf\u001B[49m\u001B[38;5;241;43m.\u001B[39;49m\u001B[43mprint\u001B[49m\u001B[43m(\u001B[49m\u001B[38;5;124;43m\"\u001B[39;49m\u001B[38;5;124;43mMaximum value of preprocessed tensor:\u001B[39;49m\u001B[38;5;124;43m\"\u001B[39;49m\u001B[43m,\u001B[49m\u001B[43m \u001B[49m\u001B[43mmax_value\u001B[49m\u001B[43m)\u001B[49m\n",
      "File \u001B[1;32m~\\AppData\\Local\\anaconda3\\envs\\ANACODA_GUI\\lib\\site-packages\\tensorflow\\python\\util\\traceback_utils.py:153\u001B[0m, in \u001B[0;36mfilter_traceback.<locals>.error_handler\u001B[1;34m(*args, **kwargs)\u001B[0m\n\u001B[0;32m    151\u001B[0m \u001B[38;5;28;01mexcept\u001B[39;00m \u001B[38;5;167;01mException\u001B[39;00m \u001B[38;5;28;01mas\u001B[39;00m e:\n\u001B[0;32m    152\u001B[0m   filtered_tb \u001B[38;5;241m=\u001B[39m _process_traceback_frames(e\u001B[38;5;241m.\u001B[39m__traceback__)\n\u001B[1;32m--> 153\u001B[0m   \u001B[38;5;28;01mraise\u001B[39;00m e\u001B[38;5;241m.\u001B[39mwith_traceback(filtered_tb) \u001B[38;5;28;01mfrom\u001B[39;00m \u001B[38;5;28;01mNone\u001B[39;00m\n\u001B[0;32m    154\u001B[0m \u001B[38;5;28;01mfinally\u001B[39;00m:\n\u001B[0;32m    155\u001B[0m   \u001B[38;5;28;01mdel\u001B[39;00m filtered_tb\n",
      "File \u001B[1;32m~\\AppData\\Local\\anaconda3\\envs\\ANACODA_GUI\\lib\\site-packages\\keras\\layers\\core\\tf_op_layer.py:119\u001B[0m, in \u001B[0;36mKerasOpDispatcher.handle\u001B[1;34m(self, op, args, kwargs)\u001B[0m\n\u001B[0;32m    114\u001B[0m \u001B[38;5;250m\u001B[39m\u001B[38;5;124;03m\"\"\"Handle the specified operation with the specified arguments.\"\"\"\u001B[39;00m\n\u001B[0;32m    115\u001B[0m \u001B[38;5;28;01mif\u001B[39;00m \u001B[38;5;28many\u001B[39m(\n\u001B[0;32m    116\u001B[0m     \u001B[38;5;28misinstance\u001B[39m(x, keras_tensor\u001B[38;5;241m.\u001B[39mKerasTensor)\n\u001B[0;32m    117\u001B[0m     \u001B[38;5;28;01mfor\u001B[39;00m x \u001B[38;5;129;01min\u001B[39;00m tf\u001B[38;5;241m.\u001B[39mnest\u001B[38;5;241m.\u001B[39mflatten([args, kwargs])\n\u001B[0;32m    118\u001B[0m ):\n\u001B[1;32m--> 119\u001B[0m     \u001B[38;5;28;01mreturn\u001B[39;00m TFOpLambda(op)(\u001B[38;5;241m*\u001B[39margs, \u001B[38;5;241m*\u001B[39m\u001B[38;5;241m*\u001B[39mkwargs)\n\u001B[0;32m    120\u001B[0m \u001B[38;5;28;01melse\u001B[39;00m:\n\u001B[0;32m    121\u001B[0m     \u001B[38;5;28;01mreturn\u001B[39;00m \u001B[38;5;28mself\u001B[39m\u001B[38;5;241m.\u001B[39mNOT_SUPPORTED\n",
      "File \u001B[1;32m~\\AppData\\Local\\anaconda3\\envs\\ANACODA_GUI\\lib\\site-packages\\keras\\utils\\traceback_utils.py:70\u001B[0m, in \u001B[0;36mfilter_traceback.<locals>.error_handler\u001B[1;34m(*args, **kwargs)\u001B[0m\n\u001B[0;32m     67\u001B[0m     filtered_tb \u001B[38;5;241m=\u001B[39m _process_traceback_frames(e\u001B[38;5;241m.\u001B[39m__traceback__)\n\u001B[0;32m     68\u001B[0m     \u001B[38;5;66;03m# To get the full stack trace, call:\u001B[39;00m\n\u001B[0;32m     69\u001B[0m     \u001B[38;5;66;03m# `tf.debugging.disable_traceback_filtering()`\u001B[39;00m\n\u001B[1;32m---> 70\u001B[0m     \u001B[38;5;28;01mraise\u001B[39;00m e\u001B[38;5;241m.\u001B[39mwith_traceback(filtered_tb) \u001B[38;5;28;01mfrom\u001B[39;00m \u001B[38;5;28;01mNone\u001B[39;00m\n\u001B[0;32m     71\u001B[0m \u001B[38;5;28;01mfinally\u001B[39;00m:\n\u001B[0;32m     72\u001B[0m     \u001B[38;5;28;01mdel\u001B[39;00m filtered_tb\n",
      "\u001B[1;31mTypeError\u001B[0m: Could not build a TypeSpec for name: \"tf.print_4/PrintV2\"\nop: \"PrintV2\"\ninput: \"tf.print_4/StringFormat\"\nattr {\n  key: \"end\"\n  value {\n    s: \"\\r\\n\"\n  }\n}\nattr {\n  key: \"output_stream\"\n  value {\n    s: \"stderr\"\n  }\n}\n of unsupported type <class 'tensorflow.python.framework.ops.Operation'>."
     ]
    }
   ],
   "execution_count": 5
  },
  {
   "metadata": {
    "ExecuteTime": {
     "end_time": "2024-12-06T15:22:59.243290Z",
     "start_time": "2024-12-06T15:22:59.232290Z"
    }
   },
   "cell_type": "code",
   "source": [],
   "id": "9081885bd2b30b3d",
   "outputs": [],
   "execution_count": null
  },
  {
   "metadata": {},
   "cell_type": "code",
   "outputs": [],
   "execution_count": null,
   "source": [],
   "id": "ca50f2722bc1e5a2"
  }
 ],
 "metadata": {
  "kernelspec": {
   "display_name": "Python 3 (ipykernel)",
   "language": "python",
   "name": "python3"
  },
  "language_info": {
   "codemirror_mode": {
    "name": "ipython",
    "version": 3
   },
   "file_extension": ".py",
   "mimetype": "text/x-python",
   "name": "python",
   "nbconvert_exporter": "python",
   "pygments_lexer": "ipython3",
   "version": "3.9.19"
  }
 },
 "nbformat": 4,
 "nbformat_minor": 5
}
