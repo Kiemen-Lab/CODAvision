{
 "cells": [
  {
   "cell_type": "code",
   "id": "initial_id",
   "metadata": {
    "ExecuteTime": {
     "end_time": "2024-11-26T01:46:33.879012Z",
     "start_time": "2024-11-26T01:46:28.875270Z"
    }
   },
   "source": [
    "import os\n",
    "import numpy as np\n",
    "from base import *"
   ],
   "execution_count": 1,
   "outputs": []
  },
  {
   "cell_type": "code",
   "id": "9ba9ed0ead2baa9b",
   "metadata": {
    "ExecuteTime": {
     "end_time": "2024-11-26T01:46:33.894521Z",
     "start_time": "2024-11-26T01:46:33.879012Z"
    }
   },
   "source": [
    "pth = r'\\\\10.99.134.183\\kiemen-lab-data\\Valentina Matos\\CNNs loop liver delete\\retrain 11252024'\n",
    "pthim = os.path.join(pth, '10x')\n",
    "umpix = 1\n",
    "pthtest = os.path.join(pth, 'testing image')\n",
    "pthtestim = os.path.join(pthtest, '10x')\n",
    "nm = 'CODA_python_11_25_2024'\n",
    "resolution = '10x'\n",
    "\n",
    "WS = [[0, 0, 0, 0, 0, 0, 2], [7, 6], \n",
    "      [1, 2, 3, 4, 5, 6, 7], \n",
    "      [4, 6, 2, 3, 5, 1, 7], []]\n",
    "numclass = max(WS[2])\n",
    "sxy = 1024\n",
    "pthDL = os.path.join(pth, nm)\n",
    "nblack = numclass + 1\n",
    "nwhite = WS[1][0]\n",
    "cmap = np.array([[230, 190, 100],\n",
    "                  [65, 155, 210],\n",
    "                  [145, 35, 35],\n",
    "                  [158, 24, 118],\n",
    "                  [30, 50, 50],\n",
    "                  [235, 188, 215],\n",
    "                  [255, 255, 255]])\n",
    "classNames = ['PDAC', 'bile duct', 'vasculature', 'hepatocyte','immune','stroma','whitespace']\n",
    "classCheck = []\n",
    "ntrain = 15\n",
    "nvalidate = np.ceil(ntrain/5)\n",
    "nTA = 2"
   ],
   "execution_count": 2,
   "outputs": []
  },
  {
   "metadata": {
    "ExecuteTime": {
     "end_time": "2024-11-25T17:23:02.711566Z",
     "start_time": "2024-11-25T17:23:02.398278Z"
    }
   },
   "cell_type": "code",
   "source": "save_model_metadata_GUI(pthDL, pthim,pthtest, WS, nm, umpix, cmap, sxy, classNames, ntrain, nvalidate, nTA = 3,final_df = None, combined_df = None, model_type=\"DeepLabV3_plus\", batch_size=3)",
   "id": "923ae3e28792621a",
   "execution_count": 3,
   "outputs": []
  },
  {
   "metadata": {
    "ExecuteTime": {
     "end_time": "2024-11-25T18:39:22.406564Z",
     "start_time": "2024-11-25T17:23:02.711566Z"
    }
   },
   "cell_type": "code",
   "source": "WSI2tif(pth, resolution, umpix)",
   "id": "ac87816e92568833",
   "execution_count": 4,
   "outputs": []
  },
  {
   "metadata": {},
   "cell_type": "code",
   "execution_count": null,
   "source": [
    "# Determine optimal TA\n",
    "determine_optimal_TA(pthim, nTA)"
   ],
   "id": "59d96cd6a27813a0",
   "outputs": []
  },
  {
   "cell_type": "code",
   "id": "2b16298adbd85f13",
   "metadata": {
    "ExecuteTime": {
     "end_time": "2024-11-25T19:17:18.819435Z",
     "start_time": "2024-11-25T18:39:22.406564Z"
    }
   },
   "source": [
    "[ctlist0, numann0] = load_annotation_data(pthDL, pth, pthim, classCheck)"
   ],
   "execution_count": 5,
   "outputs": []
  },
  {
   "cell_type": "code",
   "id": "3449c9fd82c44cb5",
   "metadata": {
    "scrolled": true,
    "ExecuteTime": {
     "end_time": "2024-11-25T21:02:32.549254Z",
     "start_time": "2024-11-25T19:17:18.819435Z"
    }
   },
   "source": [
    "create_training_tiles(pthDL, numann0, ctlist0)"
   ],
   "execution_count": 6,
   "outputs": []
  },
  {
   "cell_type": "code",
   "id": "b2c95a175d662c78",
   "metadata": {
    "scrolled": true,
    "ExecuteTime": {
     "end_time": "2024-11-26T01:24:06.211667Z",
     "start_time": "2024-11-26T00:38:16.940308Z"
    }
   },
   "source": "train_segmentation_model_cnns(pthDL)",
   "execution_count": 3,
   "outputs": []
  },
  {
   "cell_type": "code",
   "id": "6462fd903fa4d552",
   "metadata": {
    "ExecuteTime": {
     "end_time": "2024-11-26T02:16:49.691338Z",
     "start_time": "2024-11-26T01:47:06.428692Z"
    }
   },
   "source": [
    "WSI2tif(pthtest, resolution, umpix)\n",
    "test_segmentation_model(pthDL,pthtest, pthtestim, cnn_name = \"DeepLabV3_plus\")"
   ],
   "execution_count": 3,
   "outputs": []
  },
  {
   "cell_type": "code",
   "id": "201d653012834981",
   "metadata": {
    "ExecuteTime": {
     "end_time": "2024-11-26T01:32:11.120983Z",
     "start_time": "2024-11-26T01:32:11.120983Z"
    }
   },
   "source": "classify_images(pthim,pthDL, name = \"DeepLabV3_plus\")",
   "execution_count": null,
   "outputs": []
  },
  {
   "metadata": {},
   "cell_type": "code",
   "execution_count": null,
   "source": "",
   "id": "3e4f8255e07b6ca",
   "outputs": []
  }
 ],
 "metadata": {
  "kernelspec": {
   "display_name": "Python 3 (ipykernel)",
   "language": "python",
   "name": "python3"
  },
  "language_info": {
   "codemirror_mode": {
    "name": "ipython",
    "version": 3
   },
   "file_extension": ".py",
   "mimetype": "text/x-python",
   "name": "python",
   "nbconvert_exporter": "python",
   "pygments_lexer": "ipython3",
   "version": "3.9.19"
  }
 },
 "nbformat": 4,
 "nbformat_minor": 5
}
