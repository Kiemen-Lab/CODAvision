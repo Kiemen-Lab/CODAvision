{
 "cells": [
  {
   "cell_type": "code",
   "id": "initial_id",
   "metadata": {
    "ExecuteTime": {
     "end_time": "2024-11-21T16:58:43.944116Z",
     "start_time": "2024-11-21T16:58:17.587191Z"
    }
   },
   "source": [
    "import os\n",
    "import numpy as np\n",
    "from base import *"
   ],
   "execution_count": 1,
   "outputs": []
  },
  {
   "cell_type": "code",
   "id": "9ba9ed0ead2baa9b",
   "metadata": {
    "ExecuteTime": {
     "end_time": "2024-11-21T16:58:43.975260Z",
     "start_time": "2024-11-21T16:58:43.944116Z"
    }
   },
   "source": [
    "pth = r'\\\\10.99.134.183\\kiemen-lab-data\\Valentina Matos\\CNNs loop liver delete\\retrain 11252024'\n",
    "pthim = os.path.join(pth, '10x')\n",
    "umpix = 1\n",
    "pthtest = os.path.join(pth, 'testing image')\n",
    "pthtestim = os.path.join(pthtest, '10x')\n",
    "nm = 'CODA_python_11_25_2024'\n",
    "resolution = '10x'\n",
    "\n",
    "WS = [[0, 0, 0, 0, 0, 0, 2], [7, 6], \n",
    "      [1, 2, 3, 4, 5, 6, 7], \n",
    "      [4, 6, 2, 3, 5, 1, 7], []]\n",
    "numclass = max(WS[2])\n",
    "sxy = 1024\n",
    "pthDL = os.path.join(pth, nm)\n",
    "nblack = numclass + 1\n",
    "nwhite = WS[1][0]\n",
    "cmap = np.array([[230, 190, 100],\n",
    "                  [65, 155, 210],\n",
    "                  [145, 35, 35],\n",
    "                  [158, 24, 118],\n",
    "                  [30, 50, 50],\n",
    "                  [235, 188, 215],\n",
    "                  [255, 255, 255]])\n",
    "classNames = ['PDAC', 'bile duct', 'vasculature', 'hepatocyte','immune','stroma','whitespace']\n",
    "classCheck = []\n",
    "ntrain = 15\n",
    "nvalidate = np.ceil(ntrain/5)\n",
    "numims = 2"
   ],
   "execution_count": 2,
   "outputs": []
  },
  {
   "metadata": {
    "ExecuteTime": {
     "end_time": "2024-11-21T16:58:44.292792Z",
     "start_time": "2024-11-21T16:58:43.975260Z"
    }
   },
   "cell_type": "code",
   "source": "save_model_metadata_GUI(pthDL, pthim,pthtest, WS, nm, umpix, cmap, sxy, classNames, ntrain, nvalidate, nTA = 3,final_df = None, combined_df = None, model_type=\"DeepLabV3_plus\", batch_size=3)",
   "id": "923ae3e28792621a",
   "execution_count": 3,
   "outputs": []
  },
  {
   "metadata": {
    "ExecuteTime": {
     "end_time": "2024-11-21T17:10:57.802381Z",
     "start_time": "2024-11-21T16:58:50.850595Z"
    }
   },
   "cell_type": "code",
   "source": "WSI2tif(pth, resolution, umpix)",
   "id": "ac87816e92568833",
   "execution_count": 4,
   "outputs": []
  },
  {
   "cell_type": "code",
   "id": "2b16298adbd85f13",
   "metadata": {
    "ExecuteTime": {
     "end_time": "2024-11-21T17:17:23.794957Z",
     "start_time": "2024-11-21T17:10:57.802381Z"
    }
   },
   "source": [
    "[ctlist0, numann0] = load_annotation_data(pthDL, pth, pthim, classCheck)"
   ],
   "execution_count": 5,
   "outputs": []
  },
  {
   "cell_type": "code",
   "id": "3449c9fd82c44cb5",
   "metadata": {
    "scrolled": true,
    "ExecuteTime": {
     "end_time": "2024-11-21T18:56:57.256685Z",
     "start_time": "2024-11-21T17:17:23.794957Z"
    }
   },
   "source": [
    "create_training_tiles(pthDL, numann0, ctlist0)"
   ],
   "execution_count": 6,
   "outputs": []
  },
  {
   "cell_type": "code",
   "id": "b2c95a175d662c78",
   "metadata": {
    "scrolled": true,
    "ExecuteTime": {
     "end_time": "2024-11-21T19:22:16.322216Z",
     "start_time": "2024-11-21T18:56:57.256685Z"
    }
   },
   "source": "train_segmentation_model_cnns(pthDL)",
   "execution_count": 7,
   "outputs": []
  },
  {
   "cell_type": "code",
   "id": "6462fd903fa4d552",
   "metadata": {
    "ExecuteTime": {
     "end_time": "2024-11-21T20:02:39.247557Z",
     "start_time": "2024-11-21T19:57:21.255359Z"
    }
   },
   "source": [
    "WSI2tif(pthtest, resolution, umpix)\n",
    "test_segmentation_model(pthDL,pthtest, pthtestim, cnn_name = \"DeepLabV3_plus\")"
   ],
   "execution_count": 9,
   "outputs": []
  },
  {
   "cell_type": "code",
   "id": "201d653012834981",
   "metadata": {
    "ExecuteTime": {
     "end_time": "2024-11-21T20:10:01.589396Z",
     "start_time": "2024-11-21T20:02:39.247557Z"
    }
   },
   "source": "classify_images(pthim,pthDL, name = \"DeepLabV3_plus\")",
   "execution_count": 10,
   "outputs": []
  }
 ],
 "metadata": {
  "kernelspec": {
   "display_name": "Python 3 (ipykernel)",
   "language": "python",
   "name": "python3"
  },
  "language_info": {
   "codemirror_mode": {
    "name": "ipython",
    "version": 3
   },
   "file_extension": ".py",
   "mimetype": "text/x-python",
   "name": "python",
   "nbconvert_exporter": "python",
   "pygments_lexer": "ipython3",
   "version": "3.9.19"
  }
 },
 "nbformat": 4,
 "nbformat_minor": 5
}
