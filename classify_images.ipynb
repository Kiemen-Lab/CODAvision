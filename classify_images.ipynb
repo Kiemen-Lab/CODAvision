{
 "cells": [
  {
   "cell_type": "code",
   "id": "initial_id",
   "metadata": {
    "collapsed": true,
    "ExecuteTime": {
     "end_time": "2024-06-07T21:16:15.361098Z",
     "start_time": "2024-06-07T21:16:15.334096Z"
    }
   },
   "source": [
    "\"\"\"\n",
    "Author: Valentina Matos (Johns Hopkins - Wirtz/Kiemen Lab)\n",
    "Date: May 29, 2024\n",
    "\"\"\"\n",
    "\n",
    "import os\n",
    "import tensorflow as tf\n",
    "import numpy as np\n",
    "from PIL import Image\n",
    "import matplotlib.pyplot as plt\n",
    "from DeepLabV3 import DeepLabV3Plus\n",
    "import pickle\n"
   ],
   "outputs": [],
   "execution_count": 4
  },
  {
   "metadata": {
    "ExecuteTime": {
     "end_time": "2024-06-07T21:16:15.682092Z",
     "start_time": "2024-06-07T21:16:15.662096Z"
    }
   },
   "cell_type": "code",
   "source": [
    "#Inputs:\n",
    "pthim = r'\\\\10.99.68.52\\kiemendata\\Valentina Matos\\coda to python\\test model\\5x'\n",
    "pthDL = r'\\\\10.99.68.52\\Kiemendata\\Valentina Matos\\coda to python\\test model\\model test tiles'\n",
    "colHE=False #set to true in the real code\n",
    "col=False\n"
   ],
   "id": "c1041c6a5f8c93a5",
   "outputs": [],
   "execution_count": 5
  },
  {
   "metadata": {},
   "cell_type": "code",
   "outputs": [],
   "execution_count": null,
   "source": [
    "# Load the model weights and other relevant data\n",
    "with open(os.path.join(pthDL, 'net.pkl'), 'rb') as f:\n",
    "    data = pickle.load(f)\n",
    "    saved_weights = data['net']\n",
    "    classNames = data['classNames']\n",
    "    sxy = data['sxy']\n",
    "    nblack = data['nblack']\n",
    "    nwhite = data['nwhite']\n",
    "    cmap = data['cmap']\n",
    "    nm = data['nm']"
   ],
   "id": "d3b7515e8f18a09f"
  },
  {
   "metadata": {},
   "cell_type": "code",
   "outputs": [],
   "execution_count": null,
   "source": [
    "input_shape = (sxy,sxy,3)\n",
    "num_classes = len(classNames)\n",
    "model = DeepLabV3Plus(shape=(input_shape), num_classes=num_classes)\n",
    "model.set_weights(saved_weights)"
   ],
   "id": "a860be10ee30fd5e"
  },
  {
   "metadata": {},
   "cell_type": "code",
   "outputs": [],
   "execution_count": null,
   "source": [
    "def segment_image_tile(model, tile, input_shape):\n",
    "    tile = tile / 255.0  # Normalize\n",
    "    tile = tf.expand_dims(tile, axis=0)  # Add batch dimension\n",
    "    predictions = model.predict(tile)\n",
    "    predictions = tf.argmax(predictions, axis=-1)\n",
    "    predictions = tf.squeeze(predictions, axis=0)\n",
    "    return predictions"
   ],
   "id": "627016ec50aff96"
  },
  {
   "metadata": {},
   "cell_type": "code",
   "outputs": [],
   "execution_count": null,
   "source": [
    "# Output path\n",
    "outpth = os.path.join(pthim, f'classification_{nm}')\n",
    "os.makedirs(outpth, exist_ok=True)"
   ],
   "id": "8af2c893fb0f330d"
  },
  {
   "metadata": {},
   "cell_type": "code",
   "outputs": [],
   "execution_count": null,
   "source": [
    "imlist = [f for f in os.listdir(pthim) if f.endswith(('tif', 'png'))]\n",
    "b = 100"
   ],
   "id": "59c77f6f9f644805"
  },
  {
   "metadata": {},
   "cell_type": "code",
   "outputs": [],
   "execution_count": null,
   "source": [
    "for kk, nm in enumerate(imlist):\n",
    "    print(f'Starting classification of image {kk + 1} of {len(imlist)}: {nm}')\n",
    "    im_path = os.path.join(pthim, nm)\n",
    "    im = tf.io.read_file(im_path)\n",
    "    im = tf.image.decode_image(im, channels=3)\n",
    "    \n",
    "    # Pad image\n",
    "    im = tf.pad(im, [[sxy + b, sxy + b], [sxy + b, sxy + b], [0, 0]], \"CONSTANT\")\n",
    "    imclassify = np.zeros(im.shape[:2], dtype=np.uint8)\n",
    "    \n",
    "    # Classify tiles\n",
    "    sz = im.shape\n",
    "    for s1 in range(0, sz[0] - sxy, sxy - b * 2):\n",
    "        for s2 in range(0, sz[1] - sxy, sxy - b * 2):\n",
    "            tileHE = im[s1:s1+sxy, s2:s2+sxy, :]\n",
    "            tileclassify = segment_image_tile(model, tileHE, input_shape)\n",
    "            tileclassify = tileclassify[b:-b, b:-b]\n",
    "            imclassify[s1+b:s1+sxy-b, s2+b:s2+sxy-b] = tileclassify\n",
    "    \n",
    "    # Remove padding\n",
    "    imclassify = imclassify[sxy+b:-sxy-b, sxy+b:-sxy-b]\n",
    "    \n",
    "    # Save the classified image\n",
    "    classified_image_path = os.path.join(outpth, nm)\n",
    "    tf.keras.preprocessing.image.save_img(classified_image_path, imclassify)\n",
    "    print(f'Classified image saved to {classified_image_path}')\n",
    "    \n",
    "    # Optional: Save colorized and overlayed images\n",
    "    if col:\n",
    "        outpthcolor = os.path.join(outpth, 'color')\n",
    "        os.makedirs(outpthcolor, exist_ok=True)\n",
    "        cmap = data['cmap']\n",
    "        am, bm, cm = cmap[:, 0], cmap[:, 1], cmap[:, 2]\n",
    "        imcolor = np.dstack((am[imclassify], bm[imclassify], cm[imclassify]))\n",
    "        color_image_path = os.path.join(outpthcolor, nm)\n",
    "        tf.keras.preprocessing.image.save_img(color_image_path, imcolor)\n",
    "        print(f'Colorized image saved to {color_image_path}')\n",
    "    \n",
    "    if colHE:\n",
    "        outpth2 = os.path.join(outpth, 'check_classification')\n",
    "        os.makedirs(outpth2, exist_ok=True)\n",
    "        # make_check_annotation_image(im, imclassify, data['cmap'], 2, os.path.join(outpth2, nm)) #uncomment in real code\n",
    "        print(f'Overlay image saved to {os.path.join(outpth2, nm)}')\n"
   ],
   "id": "94315c212f1cfe02"
  }
 ],
 "metadata": {
  "kernelspec": {
   "display_name": "Python 3",
   "language": "python",
   "name": "python3"
  },
  "language_info": {
   "codemirror_mode": {
    "name": "ipython",
    "version": 2
   },
   "file_extension": ".py",
   "mimetype": "text/x-python",
   "name": "python",
   "nbconvert_exporter": "python",
   "pygments_lexer": "ipython2",
   "version": "2.7.6"
  }
 },
 "nbformat": 4,
 "nbformat_minor": 5
}
