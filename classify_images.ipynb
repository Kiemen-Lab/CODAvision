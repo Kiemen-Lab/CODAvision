{
 "cells": [
  {
   "cell_type": "code",
   "id": "initial_id",
   "metadata": {
    "collapsed": true,
    "ExecuteTime": {
     "end_time": "2024-06-07T21:16:15.361098Z",
     "start_time": "2024-06-07T21:16:15.334096Z"
    }
   },
   "source": [
    "\"\"\"\n",
    "Author: Valentina Matos (Johns Hopkins - Wirtz/Kiemen Lab)\n",
    "Date: May 29, 2024\n",
    "\"\"\"\n",
    "\n",
    "import os\n",
    "import tensorflow as tf\n",
    "import numpy as np\n",
    "from glob import glob\n",
    "from PIL import Image\n",
    "import matplotlib.pyplot as plt\n",
    "from DeepLabV3 import DeepLabV3Plus\n",
    "import pickle\n",
    "import time\n",
    "from scipy.ndimage import binary_fill_holes\n",
    "from Semanticseg import semantic_seg\n"
   ],
   "outputs": [],
   "execution_count": 4
  },
  {
   "metadata": {
    "ExecuteTime": {
     "end_time": "2024-06-07T21:16:15.682092Z",
     "start_time": "2024-06-07T21:16:15.662096Z"
    }
   },
   "cell_type": "code",
   "source": [
    "#Inputs:\n",
    "pthim = r'\\\\10.99.68.52\\kiemendata\\Valentina Matos\\coda to python\\test model\\5x'\n",
    "pthDL = r'\\\\10.99.68.52\\Kiemendata\\Valentina Matos\\coda to python\\test model\\model test tiles'\n",
    "color_overlay_HE=True #set to true in the real code\n",
    "color_mask=False\n"
   ],
   "id": "c1041c6a5f8c93a5",
   "outputs": [],
   "execution_count": 5
  },
  {
   "metadata": {},
   "cell_type": "code",
   "outputs": [],
   "execution_count": null,
   "source": [
    "# Load the model weights and other relevant data\n",
    "with open(os.path.join(pthDL, 'net.pkl'), 'rb') as f:\n",
    "    data = pickle.load(f)\n",
    "    model = data['model']\n",
    "    classNames = data['classNames']\n",
    "    sxy = data['sxy']\n",
    "    nblack = data['nblack']\n",
    "    nwhite = data['nwhite']\n",
    "    cmap = data['cmap']\n",
    "    nm = data['nm']\n"
   ],
   "id": "d3b7515e8f18a09f"
  },
  {
   "metadata": {},
   "cell_type": "code",
   "outputs": [],
   "execution_count": null,
   "source": [
    "outpth = os.path.join(pthim, 'classification_'+ nm)\n",
    "os.makedirs(outpth, exist_ok=True)"
   ],
   "id": "c58157b1f2882f7c"
  },
  {
   "metadata": {},
   "cell_type": "code",
   "outputs": [],
   "execution_count": null,
   "source": [
    "b=100\n",
    "imlist = sorted(glob(os.path.join(pthim, '*.png')))\n",
    "# If no PNGs found, search for JPG files\n",
    "if not imlist:\n",
    "  jpg_files = glob(os.path.join(pthim, \"*.jpg\"))\n",
    "  if jpg_files:\n",
    "    imlist.extend(jpg_files)  # Add full paths of JPGs to list\n",
    "if not imlist:\n",
    "  print(\"No PNG or JPG image files found in\", pthim)\n",
    "print('   ')"
   ],
   "id": "7a34966a1e6f356b"
  },
  {
   "metadata": {},
   "cell_type": "code",
   "outputs": [],
   "execution_count": null,
   "source": [
    "classification_st = time.time()\n",
    "for i, img_path in enumerate(imlist):\n",
    "    img_name = os.path.basename(img_path)\n",
    "    print(f'  Starting classification of image {i+1} of {len(imlist)}: {img_name}')\n",
    "    if os.path.isfile(os.path.join(outpth, img_name[:-4] + \".png\")):\n",
    "        print(f'  Image {img_name} already classified by this model')\n",
    "        continue\n",
    "    image = Image.open(os.path.join(pthim, img_name))\n",
    "    try:\n",
    "        try:\n",
    "            TA = Image.open(os.path.join(outpth,'TA',img_name[:-4] + \".png\"))\n",
    "        except:\n",
    "            TA = Image.open(os.path.join(outpth,'TA',img_name[:-4] + \".tif\"))\n",
    "        TA = binary_fill_holes(TA)\n",
    "    except:\n",
    "        TA = np.array(image.convert('L')) < 220\n",
    "        TA = binary_fill_holes(TA.astype(bool))\n",
    "        \n",
    "    imclassify = np.zeros(TA.shape, dtype=np.uint8)\n",
    "    sz = np.array(image).shape\n",
    "    \n",
    "    for s1 in range(0, sxy - b * 2, sz[0]-sxy):\n",
    "        for s2 in range(0, sxy - b * 2, sz[1]-sxy):\n",
    "            tileHE= image[s1:s1+sxy, s2:s2+sxy, :]\n",
    "            tileTA = TA[s1:s1+sxy, s2:s2+sxy]\n",
    "            \n",
    "            if np.sum(tileTA) < 100:\n",
    "                tileclassify = np.zeros(TA.shape)\n",
    "            else:\n",
    "                tileclassify = semantic_seg(tileHE, image_size=1024,model=model)\n",
    "            tileclassify = tileclassify[b:-b, b:-b, :]\n",
    "            imclassify[s1+b:s1+sxy-b, s2+b:s2+sxy-b] = tileclassify\n",
    "\n",
    "                \n",
    "                \n",
    "        \n",
    "            \n",
    "        \n",
    "        \n",
    "    "
   ],
   "id": "6ddfc72c198ca0b6"
  },
  {
   "metadata": {
    "ExecuteTime": {
     "end_time": "2024-06-12T15:29:04.622473Z",
     "start_time": "2024-06-12T15:28:56.889472Z"
    }
   },
   "cell_type": "code",
   "source": [
    "import os\n",
    "import pickle\n",
    "pthDL = r'\\\\10.99.68.52\\Kiemendata\\Valentina Matos\\coda to python\\test model\\04_19_2024'\n",
    "with open(os.path.join(pthDL, 'net.pkl'), 'rb') as f:\n",
    "    data = pickle.load(f)\n",
    "for key, value in data.items():\n",
    "    print(f\"Key: {key}, Value: {value}\")"
   ],
   "id": "db696fe78b9774d5",
   "outputs": [
    {
     "name": "stdout",
     "output_type": "stream",
     "text": [
      "Key: pthim, Value: \\\\10.99.68.52\\Kiemendata\\Valentina Matos\\coda to python\\test model\\5x\n",
      "Key: pthDL, Value: \\\\10.99.68.52\\Kiemendata\\Valentina Matos\\coda to python\\test model\\04_19_2024\n",
      "Key: WS, Value: [[2, 0, 0, 1, 0, 0, 2, 0, 2, 2, 2, 0, 0], [7, 6], [1, 2, 3, 4, 5, 6, 7, 8, 7, 9, 10, 8, 11], [6, 5, 4, 11, 1, 2, 3, 8, 10, 12, 13, 7, 9], []]\n",
      "Key: nm, Value: 04_19_2024\n",
      "Key: umpix, Value: 2\n",
      "Key: cmap, Value: [[121 248 252]\n",
      " [  0   0 255]\n",
      " [ 80 237  80]\n",
      " [255 255   0]\n",
      " [149  35 184]\n",
      " [255 194 245]\n",
      " [255 255 255]\n",
      " [255   0   0]\n",
      " [ 73 120 111]\n",
      " [  0   0   0]\n",
      " [240 159  10]]\n",
      "Key: sxy, Value: 1000\n",
      "Key: classNames, Value: ['islet', 'epithelium', 'vasculature', 'fat', 'acini', 'stroma', 'nontissue', 'PanIN', 'nerves', 'immune', 'PDAC', 'black']\n",
      "Key: ntrain, Value: 15\n",
      "Key: nblack, Value: 12\n",
      "Key: nwhite, Value: 7\n",
      "Key: nvalidate, Value: 3\n",
      "Key: model, Value: <Functional name=functional_1, built=True>\n",
      "Key: history, Value: {'accuracy': [0.8926311135292053, 0.9422486424446106, 0.9523577094078064, 0.9570350646972656, 0.9592857956886292, 0.9627068042755127, 0.9613136053085327, 0.9670762419700623], 'loss': [0.3193460702896118, 0.16331592202186584, 0.13148249685764313, 0.1167389377951622, 0.10977203398942947, 0.09908117353916168, 0.10349566489458084, 0.08567056059837341], 'val_accuracy': [0.8867580890655518, 0.9311774373054504, 0.9410406947135925, 0.9455101490020752, 0.9469987750053406, 0.9473928213119507, 0.9545266032218933, 0.9559837579727173], 'val_loss': [0.38134536147117615, 0.20580044388771057, 0.1666695773601532, 0.15822188556194305, 0.1606324166059494, 0.15638771653175354, 0.13375762104988098, 0.1301296502351761]}\n"
     ]
    }
   ],
   "execution_count": 3
  },
  {
   "metadata": {},
   "cell_type": "code",
   "outputs": [],
   "execution_count": null,
   "source": "",
   "id": "c4ad8155e21a1321"
  }
 ],
 "metadata": {
  "kernelspec": {
   "display_name": "Python 3",
   "language": "python",
   "name": "python3"
  },
  "language_info": {
   "codemirror_mode": {
    "name": "ipython",
    "version": 2
   },
   "file_extension": ".py",
   "mimetype": "text/x-python",
   "name": "python",
   "nbconvert_exporter": "python",
   "pygments_lexer": "ipython2",
   "version": "2.7.6"
  }
 },
 "nbformat": 4,
 "nbformat_minor": 5
}
