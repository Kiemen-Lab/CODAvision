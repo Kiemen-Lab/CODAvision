{
 "cells": [
  {
   "cell_type": "code",
   "id": "initial_id",
   "metadata": {
    "collapsed": true,
    "ExecuteTime": {
     "end_time": "2024-06-07T21:16:15.361098Z",
     "start_time": "2024-06-07T21:16:15.334096Z"
    }
   },
   "source": [
    "\"\"\"\n",
    "Author: Valentina Matos (Johns Hopkins - Wirtz/Kiemen Lab)\n",
    "Date: May 29, 2024\n",
    "\"\"\"\n",
    "\n",
    "import os\n",
    "import tensorflow as tf\n",
    "import numpy as np\n",
    "from glob import glob\n",
    "from PIL import Image\n",
    "import matplotlib.pyplot as plt\n",
    "from DeepLabV3 import DeepLabV3Plus\n",
    "import pickle\n",
    "import time\n",
    "from scipy.ndimage import binary_fill_holes\n",
    "from Semanticseg import semantic_seg\n"
   ],
   "outputs": [],
   "execution_count": 4
  },
  {
   "metadata": {
    "ExecuteTime": {
     "end_time": "2024-06-07T21:16:15.682092Z",
     "start_time": "2024-06-07T21:16:15.662096Z"
    }
   },
   "cell_type": "code",
   "source": [
    "#Inputs:\n",
    "pthim = r'\\\\10.99.68.52\\kiemendata\\Valentina Matos\\coda to python\\test model\\5x'\n",
    "pthDL = r'\\\\10.99.68.52\\Kiemendata\\Valentina Matos\\coda to python\\test model\\model test tiles'\n",
    "color_overlay_HE=True #set to true in the real code\n",
    "color_mask=False\n"
   ],
   "id": "c1041c6a5f8c93a5",
   "outputs": [],
   "execution_count": 5
  },
  {
   "metadata": {},
   "cell_type": "code",
   "outputs": [],
   "execution_count": null,
   "source": [
    "# Load the model weights and other relevant data\n",
    "with open(os.path.join(pthDL, 'net.pkl'), 'rb') as f:\n",
    "    data = pickle.load(f)\n",
    "    model = data['model']\n",
    "    classNames = data['classNames']\n",
    "    sxy = data['sxy']\n",
    "    nblack = data['nblack']\n",
    "    nwhite = data['nwhite']\n",
    "    cmap = data['cmap']\n",
    "    nm = data['nm']\n"
   ],
   "id": "d3b7515e8f18a09f"
  },
  {
   "metadata": {},
   "cell_type": "code",
   "outputs": [],
   "execution_count": null,
   "source": [
    "outpth = os.path.join(pthim, 'classification_'+ nm)\n",
    "os.makedirs(outpth, exist_ok=True)"
   ],
   "id": "c58157b1f2882f7c"
  },
  {
   "metadata": {},
   "cell_type": "code",
   "outputs": [],
   "execution_count": null,
   "source": [
    "b=100\n",
    "imlist = sorted(glob(os.path.join(pthim, '*.png')))\n",
    "# If no PNGs found, search for JPG files\n",
    "if not imlist:\n",
    "  jpg_files = glob(os.path.join(pthim, \"*.jpg\"))\n",
    "  if jpg_files:\n",
    "    imlist.extend(jpg_files)  # Add full paths of JPGs to list\n",
    "if not imlist:\n",
    "  print(\"No PNG or JPG image files found in\", pthim)\n",
    "print('   ')"
   ],
   "id": "7a34966a1e6f356b"
  },
  {
   "metadata": {},
   "cell_type": "code",
   "outputs": [],
   "execution_count": null,
   "source": [
    "classification_st = time.time()\n",
    "for i, img_path in enumerate(imlist):\n",
    "    img_name = os.path.basename(img_path)\n",
    "    print(f'  Starting classification of image {i+1} of {len(imlist)}: {img_name}')\n",
    "    if os.path.isfile(os.path.join(outpth, img_name[:-4] + \".png\")):\n",
    "        print(f'  Image {img_name} already classified by this model')\n",
    "        continue\n",
    "    image = Image.open(os.path.join(pthim, img_name))\n",
    "    try:\n",
    "        try:\n",
    "            TA = Image.open(os.path.join(outpth,'TA',img_name[:-4] + \".png\"))\n",
    "        except:\n",
    "            TA = Image.open(os.path.join(outpth,'TA',img_name[:-4] + \".tif\"))\n",
    "        TA = binary_fill_holes(TA)\n",
    "    except:\n",
    "        TA = np.array(image.convert('L')) < 220\n",
    "        TA = binary_fill_holes(TA.astype(bool))\n",
    "        \n",
    "    imclassify = np.zeros(TA.shape, dtype=np.uint8)\n",
    "    sz = np.array(image).shape\n",
    "    \n",
    "    for s1 in range(0, sxy - b * 2, sz[0]-sxy):\n",
    "        for s2 in range(0, sxy - b * 2, sz[1]-sxy):\n",
    "            tileHE= image[s1:s1+sxy, s2:s2+sxy, :]\n",
    "            tileTA = TA[s1:s1+sxy, s2:s2+sxy]\n",
    "            \n",
    "            if np.sum(tileTA) < 100:\n",
    "                tileclassify = np.zeros(TA.shape)\n",
    "            else:\n",
    "                tileclassify = semantic_seg(tileHE, image_size=1024,model=model)\n",
    "            tileclassify = tileclassify[b:-b, b:-b, :]\n",
    "            imclassify[s1+b:s1+sxy-b, s2+b:s2+sxy-b] = tileclassify\n",
    "\n",
    "                \n",
    "                \n",
    "        \n",
    "            \n",
    "        \n",
    "        \n",
    "    "
   ],
   "id": "6ddfc72c198ca0b6"
  }
 ],
 "metadata": {
  "kernelspec": {
   "display_name": "Python 3",
   "language": "python",
   "name": "python3"
  },
  "language_info": {
   "codemirror_mode": {
    "name": "ipython",
    "version": 2
   },
   "file_extension": ".py",
   "mimetype": "text/x-python",
   "name": "python",
   "nbconvert_exporter": "python",
   "pygments_lexer": "ipython2",
   "version": "2.7.6"
  }
 },
 "nbformat": 4,
 "nbformat_minor": 5
}
