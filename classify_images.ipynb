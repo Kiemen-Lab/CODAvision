{
 "cells": [
  {
   "cell_type": "code",
   "id": "initial_id",
   "metadata": {
    "collapsed": true,
    "ExecuteTime": {
     "end_time": "2024-06-17T00:10:45.009467Z",
     "start_time": "2024-06-17T00:10:43.810152Z"
    }
   },
   "source": [
    "import cv2\n",
    "\n",
    "\"\"\"\n",
    "Author: Valentina Matos (Johns Hopkins - Wirtz/Kiemen Lab)\n",
    "Date: May 29, 2024\n",
    "\"\"\"\n",
    "\n",
    "import os\n",
    "import tensorflow as tf\n",
    "import numpy as np\n",
    "from glob import glob\n",
    "from PIL import Image\n",
    "import matplotlib.pyplot as plt\n",
    "import pickle\n",
    "import time\n",
    "from scipy.ndimage import binary_fill_holes\n",
    "from Semanticseg import semantic_seg\n",
    "from make_overlay import make_overlay\n",
    "Image.MAX_IMAGE_PIXELS = None\n",
    "\n"
   ],
   "outputs": [],
   "execution_count": 3
  },
  {
   "metadata": {
    "ExecuteTime": {
     "end_time": "2024-06-17T00:10:45.024464Z",
     "start_time": "2024-06-17T00:10:45.010467Z"
    }
   },
   "cell_type": "code",
   "source": [
    "#Inputs:\n",
    "pthim = r'C:\\Users\\Valentina\\OneDrive - Johns Hopkins\\Desktop\\test png\\PNG'\n",
    "pthDL = r'\\\\10.99.68.52\\Kiemendata\\Valentina Matos\\coda to python\\test model\\04_19_2024'\n",
    "color_overlay_HE=False #set to true in the real code\n",
    "color_mask=False\n"
   ],
   "id": "c1041c6a5f8c93a5",
   "outputs": [],
   "execution_count": 4
  },
  {
   "metadata": {
    "ExecuteTime": {
     "end_time": "2024-06-17T00:10:53.109147Z",
     "start_time": "2024-06-17T00:10:45.025466Z"
    }
   },
   "cell_type": "code",
   "source": [
    "# Load the model weights and other relevant data\n",
    "with open(os.path.join(pthDL, 'net.pkl'), 'rb') as f:\n",
    "    data = pickle.load(f)\n",
    "    model = data['model']\n",
    "    classNames = data['classNames']\n",
    "    sxy = data['sxy']\n",
    "    nblack = data['nblack']\n",
    "    nwhite = data['nwhite']\n",
    "    cmap = data['cmap']\n",
    "    nm = data['nm']\n",
    "sxy = 1024 #need to update"
   ],
   "id": "d3b7515e8f18a09f",
   "outputs": [],
   "execution_count": 5
  },
  {
   "metadata": {
    "ExecuteTime": {
     "end_time": "2024-06-17T00:14:37.789911Z",
     "start_time": "2024-06-17T00:14:37.777912Z"
    }
   },
   "cell_type": "code",
   "source": [
    "outpth = os.path.join(pthim, 'classification_'+ nm)\n",
    "os.makedirs(outpth, exist_ok=True)"
   ],
   "id": "c58157b1f2882f7c",
   "outputs": [],
   "execution_count": 10
  },
  {
   "metadata": {
    "ExecuteTime": {
     "end_time": "2024-06-17T00:14:38.406724Z",
     "start_time": "2024-06-17T00:14:38.394725Z"
    }
   },
   "cell_type": "code",
   "source": [
    "b=100\n",
    "imlist = sorted(glob(os.path.join(pthim, '*.png')))\n",
    "# If no PNGs found, search for JPG files\n",
    "if not imlist:\n",
    "  jpg_files = glob(os.path.join(pthim, \"*.jpg\"))\n",
    "  if jpg_files:\n",
    "    imlist.extend(jpg_files)  # Add full paths of JPGs to list\n",
    "if not imlist:\n",
    "  print(\"No PNG or JPG image files found in\", pthim)\n",
    "print('   ')"
   ],
   "id": "7a34966a1e6f356b",
   "outputs": [
    {
     "name": "stdout",
     "output_type": "stream",
     "text": [
      "   \n"
     ]
    }
   ],
   "execution_count": 11
  },
  {
   "metadata": {
    "ExecuteTime": {
     "end_time": "2024-06-17T14:20:22.318717Z",
     "start_time": "2024-06-17T00:18:18.875474Z"
    }
   },
   "cell_type": "code",
   "source": [
    "classification_st = time.time()\n",
    "save_dirHE = r'C:\\Users\\Valentina\\OneDrive - Johns Hopkins\\Desktop\\test png\\PNG\\tilesHE'\n",
    "save_dirmask = r'C:\\Users\\Valentina\\OneDrive - Johns Hopkins\\Desktop\\test png\\PNG\\tilesmask'\n",
    "os.makedirs(save_dirHE, exist_ok=True)\n",
    "os.makedirs(save_dirmask, exist_ok=True)\n",
    "\n",
    "for i, img_path in enumerate(imlist):\n",
    "    img_name = os.path.basename(img_path)\n",
    "    print(f'  Starting classification of image {i+1} of {len(imlist)}: {img_name}')\n",
    "    if os.path.isfile(os.path.join(outpth, img_name[:-4] + \".png\")):\n",
    "        print(f'  Image {img_name} already classified by this model')\n",
    "        continue\n",
    "    im = Image.open(os.path.join(pthim, img_name))\n",
    "    im_array = np.array(im)  # Convert to NumPy array for slicing\n",
    "    try:\n",
    "        try:\n",
    "            TA = Image.open(os.path.join(outpth, 'TA', img_name[:-4] + \".png\"))\n",
    "        except:\n",
    "            TA = Image.open(os.path.join(outpth, 'TA', img_name[:-4] + \".tif\"))\n",
    "        TA = binary_fill_holes(TA)\n",
    "    except:\n",
    "        TA = np.array(im.convert('L')) < 220\n",
    "        TA = binary_fill_holes(TA.astype(bool))\n",
    "\n",
    "\n",
    "    imclassify = np.zeros(TA.shape, dtype=np.uint8)\n",
    "    sz = np.array(im).shape\n",
    "    \n",
    "    count = 1\n",
    "    for s1 in range(0, sxy - b * 2, sz[0] - sxy):\n",
    "        for s2 in range(0, sxy - b * 2, sz[1] - sxy):\n",
    "            tileHE = im_array[s1:s1 + sxy, s2:s2 + sxy, :]\n",
    "            tileHE_image = Image.fromarray(tileHE)\n",
    "            save_path_HE  = os.path.join(save_dirHE, f'{img_name}_tileHE_{count}.png')  # You can change the filename as needed\n",
    "            tileHE_image.save(save_path_HE )\n",
    "            \n",
    "            \n",
    "            tileTA = TA[s1:s1 + sxy, s2:s2 + sxy]\n",
    "\n",
    "            if np.sum(tileTA) < 100:\n",
    "                tileclassify = np.zeros(TA.shape)\n",
    "            else:\n",
    "                tileclassify = semantic_seg(tileHE, image_size=1024, model=model)\n",
    "            \n",
    "            tileclassify = tileclassify[b:-b, b:-b]\n",
    "            \n",
    "            # Convert to uint8 before saving\n",
    "            tileclassify_uint8 = (tileclassify * 10).astype(np.uint8)\n",
    "            tilemask_image = Image.fromarray(tileclassify_uint8)\n",
    "            save_path_mask = os.path.join(save_dirmask, f'{img_name}_tilemask_{count}.png')\n",
    "            tilemask_image.save(save_path_mask)\n",
    "            \n",
    "            imclassify[s1 + b:s1 + sxy - b, s2 + b:s2 + sxy - b] = tileclassify\n",
    "            print(count)\n",
    "            count += 1\n",
    "\n",
    "    # Remove padding\n",
    "    im_array = im_array[sxy + b:-sxy - b, sxy + b:-sxy - b, :]\n",
    "    imclassify = imclassify[sxy + b:-sxy - b, sxy + b:-sxy - b]\n",
    "\n",
    "    elapsed_time = round(time.time() - classification_st)\n",
    "    print(f'{i+1} of {len(imlist)} {elapsed_time}')\n",
    "\n",
    "    imclassify[np.logical_or(imclassify == nblack, imclassify == 0)] = nwhite\n",
    "    imclassify = Image.fromarray(imclassify)  # Convert NumPy array to PIL Image\n",
    "    imclassify.save(os.path.join(outpth, img_name[:-3] + 'png'))  # Save as PNG\n",
    "\n",
    "    # Make color image overlay on H&E\n",
    "    if color_overlay_HE:\n",
    "        save_path = os.path.join(outpth, 'check_classification')\n",
    "        _ = make_overlay(img_path, imclassify, image_size=sxy, colormap=cmap, save_path=save_path)\n",
    "\n",
    "    if color_mask:\n",
    "        outpthcolor = os.path.join(outpth, 'color')\n",
    "        os.makedirs(outpthcolor, exist_ok=True)\n",
    "        red_channel = cmap[:, 0]\n",
    "        green_channel = cmap[:, 1]\n",
    "        blue_channel = cmap[:, 2]\n",
    "\n",
    "        imcolor = np.dstack((red_channel[imclassify], green_channel[imclassify], blue_channel[imclassify])).astype(np.uint8)\n",
    "\n",
    "        save_file_path = os.path.join(outpthcolor, os.path.basename(img_path))\n",
    "        cv2.imwrite(save_file_path, imcolor)\n",
    "\n",
    "    # Display the first image in the series\n",
    "    if i == 0 and cmap is not None:\n",
    "        red_channel = cmap[:, 0]\n",
    "        green_channel = cmap[:, 1]\n",
    "        blue_channel = cmap[:, 2]\n",
    "\n",
    "        imcolor = np.dstack((red_channel[imclassify], green_channel[imclassify], blue_channel[imclassify])).astype(np.uint8)\n",
    "\n",
    "        fig, axs = plt.subplots(1, 2)\n",
    "        axs[0].imshow(im)\n",
    "        axs[1].imshow(imcolor)\n",
    "\n",
    "        for ax in axs:\n",
    "            ax.axis('off')\n",
    "\n",
    "        plt.subplots_adjust(wspace=0, hspace=0)\n",
    "        plt.show()\n",
    "        plt.pause(0.2)\n"
   ],
   "id": "6ddfc72c198ca0b6",
   "outputs": [
    {
     "name": "stdout",
     "output_type": "stream",
     "text": [
      "  Starting classification of image 1 of 2: SG_013_0061.png\n"
     ]
    },
    {
     "ename": "KeyboardInterrupt",
     "evalue": "",
     "output_type": "error",
     "traceback": [
      "\u001B[1;31m---------------------------------------------------------------------------\u001B[0m",
      "\u001B[1;31mKeyboardInterrupt\u001B[0m                         Traceback (most recent call last)",
      "Cell \u001B[1;32mIn[15], line 34\u001B[0m\n\u001B[0;32m     32\u001B[0m tileHE \u001B[38;5;241m=\u001B[39m im_array[s1:s1 \u001B[38;5;241m+\u001B[39m sxy, s2:s2 \u001B[38;5;241m+\u001B[39m sxy, :]\n\u001B[0;32m     33\u001B[0m tileHE_image \u001B[38;5;241m=\u001B[39m Image\u001B[38;5;241m.\u001B[39mfromarray(tileHE)\n\u001B[1;32m---> 34\u001B[0m save_path_HE  \u001B[38;5;241m=\u001B[39m \u001B[43mos\u001B[49m\u001B[38;5;241m.\u001B[39mpath\u001B[38;5;241m.\u001B[39mjoin(save_dirHE, \u001B[38;5;124mf\u001B[39m\u001B[38;5;124m'\u001B[39m\u001B[38;5;132;01m{\u001B[39;00mimg_name\u001B[38;5;132;01m}\u001B[39;00m\u001B[38;5;124m_tileHE_\u001B[39m\u001B[38;5;132;01m{\u001B[39;00mcount\u001B[38;5;132;01m}\u001B[39;00m\u001B[38;5;124m.png\u001B[39m\u001B[38;5;124m'\u001B[39m)  \u001B[38;5;66;03m# You can change the filename as needed\u001B[39;00m\n\u001B[0;32m     35\u001B[0m tileHE_image\u001B[38;5;241m.\u001B[39msave(save_path_HE )\n\u001B[0;32m     38\u001B[0m tileTA \u001B[38;5;241m=\u001B[39m TA[s1:s1 \u001B[38;5;241m+\u001B[39m sxy, s2:s2 \u001B[38;5;241m+\u001B[39m sxy]\n",
      "Cell \u001B[1;32mIn[15], line 34\u001B[0m\n\u001B[0;32m     32\u001B[0m tileHE \u001B[38;5;241m=\u001B[39m im_array[s1:s1 \u001B[38;5;241m+\u001B[39m sxy, s2:s2 \u001B[38;5;241m+\u001B[39m sxy, :]\n\u001B[0;32m     33\u001B[0m tileHE_image \u001B[38;5;241m=\u001B[39m Image\u001B[38;5;241m.\u001B[39mfromarray(tileHE)\n\u001B[1;32m---> 34\u001B[0m save_path_HE  \u001B[38;5;241m=\u001B[39m \u001B[43mos\u001B[49m\u001B[38;5;241m.\u001B[39mpath\u001B[38;5;241m.\u001B[39mjoin(save_dirHE, \u001B[38;5;124mf\u001B[39m\u001B[38;5;124m'\u001B[39m\u001B[38;5;132;01m{\u001B[39;00mimg_name\u001B[38;5;132;01m}\u001B[39;00m\u001B[38;5;124m_tileHE_\u001B[39m\u001B[38;5;132;01m{\u001B[39;00mcount\u001B[38;5;132;01m}\u001B[39;00m\u001B[38;5;124m.png\u001B[39m\u001B[38;5;124m'\u001B[39m)  \u001B[38;5;66;03m# You can change the filename as needed\u001B[39;00m\n\u001B[0;32m     35\u001B[0m tileHE_image\u001B[38;5;241m.\u001B[39msave(save_path_HE )\n\u001B[0;32m     38\u001B[0m tileTA \u001B[38;5;241m=\u001B[39m TA[s1:s1 \u001B[38;5;241m+\u001B[39m sxy, s2:s2 \u001B[38;5;241m+\u001B[39m sxy]\n",
      "File \u001B[1;32m_pydevd_bundle\\\\pydevd_cython_win32_39_64.pyx:1187\u001B[0m, in \u001B[0;36m_pydevd_bundle.pydevd_cython_win32_39_64.SafeCallWrapper.__call__\u001B[1;34m()\u001B[0m\n",
      "File \u001B[1;32m_pydevd_bundle\\\\pydevd_cython_win32_39_64.pyx:627\u001B[0m, in \u001B[0;36m_pydevd_bundle.pydevd_cython_win32_39_64.PyDBFrame.trace_dispatch\u001B[1;34m()\u001B[0m\n",
      "File \u001B[1;32m_pydevd_bundle\\\\pydevd_cython_win32_39_64.pyx:1103\u001B[0m, in \u001B[0;36m_pydevd_bundle.pydevd_cython_win32_39_64.PyDBFrame.trace_dispatch\u001B[1;34m()\u001B[0m\n",
      "File \u001B[1;32m_pydevd_bundle\\\\pydevd_cython_win32_39_64.pyx:1065\u001B[0m, in \u001B[0;36m_pydevd_bundle.pydevd_cython_win32_39_64.PyDBFrame.trace_dispatch\u001B[1;34m()\u001B[0m\n",
      "File \u001B[1;32m_pydevd_bundle\\\\pydevd_cython_win32_39_64.pyx:585\u001B[0m, in \u001B[0;36m_pydevd_bundle.pydevd_cython_win32_39_64.PyDBFrame.do_wait_suspend\u001B[1;34m()\u001B[0m\n",
      "File \u001B[1;32mC:\\Program Files\\JetBrains\\PyCharm 2024.1\\plugins\\python\\helpers\\pydev\\pydevd.py:1185\u001B[0m, in \u001B[0;36mPyDB.do_wait_suspend\u001B[1;34m(self, thread, frame, event, arg, send_suspend_message, is_unhandled_exception)\u001B[0m\n\u001B[0;32m   1182\u001B[0m         from_this_thread\u001B[38;5;241m.\u001B[39mappend(frame_id)\n\u001B[0;32m   1184\u001B[0m \u001B[38;5;28;01mwith\u001B[39;00m \u001B[38;5;28mself\u001B[39m\u001B[38;5;241m.\u001B[39m_threads_suspended_single_notification\u001B[38;5;241m.\u001B[39mnotify_thread_suspended(thread_id, stop_reason):\n\u001B[1;32m-> 1185\u001B[0m     \u001B[38;5;28;43mself\u001B[39;49m\u001B[38;5;241;43m.\u001B[39;49m\u001B[43m_do_wait_suspend\u001B[49m\u001B[43m(\u001B[49m\u001B[43mthread\u001B[49m\u001B[43m,\u001B[49m\u001B[43m \u001B[49m\u001B[43mframe\u001B[49m\u001B[43m,\u001B[49m\u001B[43m \u001B[49m\u001B[43mevent\u001B[49m\u001B[43m,\u001B[49m\u001B[43m \u001B[49m\u001B[43marg\u001B[49m\u001B[43m,\u001B[49m\u001B[43m \u001B[49m\u001B[43msuspend_type\u001B[49m\u001B[43m,\u001B[49m\u001B[43m \u001B[49m\u001B[43mfrom_this_thread\u001B[49m\u001B[43m)\u001B[49m\n",
      "File \u001B[1;32mC:\\Program Files\\JetBrains\\PyCharm 2024.1\\plugins\\python\\helpers\\pydev\\pydevd.py:1200\u001B[0m, in \u001B[0;36mPyDB._do_wait_suspend\u001B[1;34m(self, thread, frame, event, arg, suspend_type, from_this_thread)\u001B[0m\n\u001B[0;32m   1197\u001B[0m             \u001B[38;5;28mself\u001B[39m\u001B[38;5;241m.\u001B[39m_call_mpl_hook()\n\u001B[0;32m   1199\u001B[0m         \u001B[38;5;28mself\u001B[39m\u001B[38;5;241m.\u001B[39mprocess_internal_commands()\n\u001B[1;32m-> 1200\u001B[0m         \u001B[43mtime\u001B[49m\u001B[38;5;241;43m.\u001B[39;49m\u001B[43msleep\u001B[49m\u001B[43m(\u001B[49m\u001B[38;5;241;43m0.01\u001B[39;49m\u001B[43m)\u001B[49m\n\u001B[0;32m   1202\u001B[0m \u001B[38;5;28mself\u001B[39m\u001B[38;5;241m.\u001B[39mcancel_async_evaluation(get_current_thread_id(thread), \u001B[38;5;28mstr\u001B[39m(\u001B[38;5;28mid\u001B[39m(frame)))\n\u001B[0;32m   1204\u001B[0m \u001B[38;5;66;03m# process any stepping instructions\u001B[39;00m\n",
      "\u001B[1;31mKeyboardInterrupt\u001B[0m: "
     ]
    }
   ],
   "execution_count": 15
  },
  {
   "metadata": {
    "ExecuteTime": {
     "end_time": "2024-06-14T20:43:56.464738Z",
     "start_time": "2024-06-14T20:43:56.449739Z"
    }
   },
   "cell_type": "code",
   "source": "",
   "id": "30682aa8aeb9c0",
   "outputs": [],
   "execution_count": 34
  },
  {
   "metadata": {},
   "cell_type": "code",
   "outputs": [],
   "execution_count": null,
   "source": "",
   "id": "9d9e2b0cae46c848"
  },
  {
   "metadata": {},
   "cell_type": "code",
   "outputs": [
    {
     "name": "stdout",
     "output_type": "stream",
     "text": [
      "Key: pthim, Value: \\\\10.99.68.52\\Kiemendata\\Valentina Matos\\coda to python\\test model\\5x\n",
      "Key: pthDL, Value: \\\\10.99.68.52\\Kiemendata\\Valentina Matos\\coda to python\\test model\\04_19_2024\n",
      "Key: WS, Value: [[2, 0, 0, 1, 0, 0, 2, 0, 2, 2, 2, 0, 0], [7, 6], [1, 2, 3, 4, 5, 6, 7, 8, 7, 9, 10, 8, 11], [6, 5, 4, 11, 1, 2, 3, 8, 10, 12, 13, 7, 9], []]\n",
      "Key: nm, Value: 04_19_2024\n",
      "Key: umpix, Value: 2\n",
      "Key: cmap, Value: [[121 248 252]\n",
      " [  0   0 255]\n",
      " [ 80 237  80]\n",
      " [255 255   0]\n",
      " [149  35 184]\n",
      " [255 194 245]\n",
      " [255 255 255]\n",
      " [255   0   0]\n",
      " [ 73 120 111]\n",
      " [  0   0   0]\n",
      " [240 159  10]]\n",
      "Key: sxy, Value: 1000\n",
      "Key: classNames, Value: ['islet', 'epithelium', 'vasculature', 'fat', 'acini', 'stroma', 'nontissue', 'PanIN', 'nerves', 'immune', 'PDAC', 'black']\n",
      "Key: ntrain, Value: 15\n",
      "Key: nblack, Value: 12\n",
      "Key: nwhite, Value: 7\n",
      "Key: nvalidate, Value: 3\n",
      "Key: model, Value: <Functional name=functional_1, built=True>\n",
      "Key: history, Value: {'accuracy': [0.8926311135292053, 0.9422486424446106, 0.9523577094078064, 0.9570350646972656, 0.9592857956886292, 0.9627068042755127, 0.9613136053085327, 0.9670762419700623], 'loss': [0.3193460702896118, 0.16331592202186584, 0.13148249685764313, 0.1167389377951622, 0.10977203398942947, 0.09908117353916168, 0.10349566489458084, 0.08567056059837341], 'val_accuracy': [0.8867580890655518, 0.9311774373054504, 0.9410406947135925, 0.9455101490020752, 0.9469987750053406, 0.9473928213119507, 0.9545266032218933, 0.9559837579727173], 'val_loss': [0.38134536147117615, 0.20580044388771057, 0.1666695773601532, 0.15822188556194305, 0.1606324166059494, 0.15638771653175354, 0.13375762104988098, 0.1301296502351761]}\n"
     ]
    }
   ],
   "execution_count": 3,
   "source": [
    "import os\n",
    "import pickle\n",
    "pthDL = r'\\\\10.99.68.52\\Kiemendata\\Valentina Matos\\coda to python\\test model\\04_19_2024'\n",
    "with open(os.path.join(pthDL, 'net.pkl'), 'rb') as f:\n",
    "    data = pickle.load(f)\n",
    "for key, value in data.items():\n",
    "    print(f\"Key: {key}, Value: {value}\")"
   ],
   "id": "db696fe78b9774d5"
  },
  {
   "metadata": {
    "ExecuteTime": {
     "end_time": "2024-06-14T18:03:40.179920Z",
     "start_time": "2024-06-14T18:03:35.455212Z"
    }
   },
   "cell_type": "code",
   "source": [
    "\n",
    "import PIL\n",
    "PIL.Image.MAX_IMAGE_PIXELS = 933120000\n",
    "\n",
    "def convert_tif_to_png(tif_path, png_path):\n",
    "    os.makedirs(os.path.dirname(png_path), exist_ok=True)\n",
    "    # Load the TIFF image\n",
    "    with Image.open(tif_path) as img:\n",
    "        # Convert to PNG and save\n",
    "        print(f'Saving image: {os.path.basename(png_path)}')\n",
    "        img.save(png_path, format='PNG')\n",
    "\n",
    "pth_images = r'\\\\10.99.68.52\\Kiemendata\\Valentina Matos\\coda to python\\test model\\5x\\TA'\n",
    "tif_files = glob(os.path.join(pth_images, '*.tif'))\n",
    "png_path  = os.path.join(pth_images,'PNG')\n",
    "\n",
    "for img_path in tif_files:\n",
    "    png_file = os.path.join(png_path, os.path.basename(img_path[:-4] + \".png\"))\n",
    "    convert_tif_to_png(img_path, png_file)\n",
    "    "
   ],
   "id": "c4ad8155e21a1321",
   "outputs": [
    {
     "name": "stdout",
     "output_type": "stream",
     "text": [
      "Saving image: SG_013_0061.png\n",
      "Saving image: SG_014_0016.png\n"
     ]
    }
   ],
   "execution_count": 14
  },
  {
   "metadata": {
    "ExecuteTime": {
     "end_time": "2024-06-14T20:15:30.022130Z",
     "start_time": "2024-06-14T20:14:46.583600Z"
    }
   },
   "cell_type": "code",
   "source": [
    "from Semanticseg import semantic_seg\n",
    "import numpy as np\n",
    "# Load colormap\n",
    "pthDL = r'\\\\10.99.68.52\\Kiemendata\\Valentina Matos\\coda to python\\test model\\04_19_2024'\n",
    "with open(os.path.join(pthDL, 'net.pkl'), 'rb') as f:\n",
    "    data = pickle.load(f)\n",
    "    model_load = data['model']\n",
    "    colormap = data['cmap']\n",
    "    \n",
    "image_path = r'C:\\Users\\Valentina\\OneDrive - Johns Hopkins\\Desktop\\test png\\testing_io\\3.png'  # only PNG IMAGES!!!!!\n",
    "prediction_mask = semantic_seg(image_path, image_size=1024, model = model_load)"
   ],
   "id": "4751f51605165763",
   "outputs": [
    {
     "ename": "KeyboardInterrupt",
     "evalue": "",
     "output_type": "error",
     "traceback": [
      "\u001B[1;31m---------------------------------------------------------------------------\u001B[0m",
      "\u001B[1;31mKeyboardInterrupt\u001B[0m                         Traceback (most recent call last)",
      "Cell \u001B[1;32mIn[7], line 11\u001B[0m\n\u001B[0;32m      8\u001B[0m     colormap \u001B[38;5;241m=\u001B[39m data[\u001B[38;5;124m'\u001B[39m\u001B[38;5;124mcmap\u001B[39m\u001B[38;5;124m'\u001B[39m]\n\u001B[0;32m     10\u001B[0m image_path \u001B[38;5;241m=\u001B[39m \u001B[38;5;124mr\u001B[39m\u001B[38;5;124m'\u001B[39m\u001B[38;5;124mC:\u001B[39m\u001B[38;5;124m\\\u001B[39m\u001B[38;5;124mUsers\u001B[39m\u001B[38;5;124m\\\u001B[39m\u001B[38;5;124mValentina\u001B[39m\u001B[38;5;124m\\\u001B[39m\u001B[38;5;124mOneDrive - Johns Hopkins\u001B[39m\u001B[38;5;124m\\\u001B[39m\u001B[38;5;124mDesktop\u001B[39m\u001B[38;5;124m\\\u001B[39m\u001B[38;5;124mtest png\u001B[39m\u001B[38;5;124m\\\u001B[39m\u001B[38;5;124mtesting_io\u001B[39m\u001B[38;5;124m\\\u001B[39m\u001B[38;5;124m3.png\u001B[39m\u001B[38;5;124m'\u001B[39m  \u001B[38;5;66;03m# only PNG IMAGES!!!!!\u001B[39;00m\n\u001B[1;32m---> 11\u001B[0m prediction_mask \u001B[38;5;241m=\u001B[39m \u001B[43msemantic_seg\u001B[49m\u001B[43m(\u001B[49m\u001B[43mimage_path\u001B[49m\u001B[43m,\u001B[49m\u001B[43m \u001B[49m\u001B[43mimage_size\u001B[49m\u001B[38;5;241;43m=\u001B[39;49m\u001B[38;5;241;43m1024\u001B[39;49m\u001B[43m,\u001B[49m\u001B[43m \u001B[49m\u001B[43mmodel\u001B[49m\u001B[43m \u001B[49m\u001B[38;5;241;43m=\u001B[39;49m\u001B[43m \u001B[49m\u001B[43mmodel_load\u001B[49m\u001B[43m)\u001B[49m\n",
      "File \u001B[1;32m~\\PycharmProjects\\CODA_python\\Semanticseg.py:59\u001B[0m, in \u001B[0;36msemantic_seg\u001B[1;34m(image_path, image_size, model)\u001B[0m\n\u001B[0;32m     46\u001B[0m \u001B[38;5;28;01mdef\u001B[39;00m \u001B[38;5;21msemantic_seg\u001B[39m(image_path, image_size, model):\n\u001B[0;32m     47\u001B[0m \u001B[38;5;250m    \u001B[39m\u001B[38;5;124;03m\"\"\"\u001B[39;00m\n\u001B[0;32m     48\u001B[0m \u001B[38;5;124;03m        Perform semantic segmentation on an input image using a pre-trained model.\u001B[39;00m\n\u001B[0;32m     49\u001B[0m \n\u001B[1;32m   (...)\u001B[0m\n\u001B[0;32m     57\u001B[0m \u001B[38;5;124;03m                    Raises an assertion error if there is an error reading the image.\u001B[39;00m\n\u001B[0;32m     58\u001B[0m \u001B[38;5;124;03m    \"\"\"\u001B[39;00m\n\u001B[1;32m---> 59\u001B[0m     image_tensor \u001B[38;5;241m=\u001B[39m \u001B[43mread_image\u001B[49m\u001B[43m(\u001B[49m\u001B[43mimage_path\u001B[49m\u001B[43m,\u001B[49m\u001B[43m \u001B[49m\u001B[43mimage_size\u001B[49m\u001B[43m)\u001B[49m\n\u001B[0;32m     60\u001B[0m     \u001B[38;5;28;01massert\u001B[39;00m image_tensor \u001B[38;5;129;01mis\u001B[39;00m \u001B[38;5;129;01mnot\u001B[39;00m \u001B[38;5;28;01mNone\u001B[39;00m, \u001B[38;5;124mf\u001B[39m\u001B[38;5;124m\"\u001B[39m\u001B[38;5;124mError: Could not read the image from path \u001B[39m\u001B[38;5;132;01m{\u001B[39;00mimage_path\u001B[38;5;132;01m}\u001B[39;00m\u001B[38;5;124m\"\u001B[39m\n\u001B[0;32m     61\u001B[0m     prediction_mask \u001B[38;5;241m=\u001B[39m infer(model, image_tensor)\n",
      "File \u001B[1;32m~\\PycharmProjects\\CODA_python\\Semanticseg.py:34\u001B[0m, in \u001B[0;36mread_image\u001B[1;34m(image_input, image_size, mask)\u001B[0m\n\u001B[0;32m     32\u001B[0m             image\u001B[38;5;241m.\u001B[39mset_shape([\u001B[38;5;28;01mNone\u001B[39;00m, \u001B[38;5;28;01mNone\u001B[39;00m, \u001B[38;5;241m3\u001B[39m])\n\u001B[0;32m     33\u001B[0m             image \u001B[38;5;241m=\u001B[39m tf\u001B[38;5;241m.\u001B[39mimage\u001B[38;5;241m.\u001B[39mresize(images\u001B[38;5;241m=\u001B[39mimage, size\u001B[38;5;241m=\u001B[39m[image_size, image_size])\n\u001B[1;32m---> 34\u001B[0m     \u001B[38;5;28;01mreturn\u001B[39;00m \u001B[43mimage\u001B[49m\n\u001B[0;32m     35\u001B[0m \u001B[38;5;28;01mexcept\u001B[39;00m \u001B[38;5;167;01mException\u001B[39;00m \u001B[38;5;28;01mas\u001B[39;00m e:\n\u001B[0;32m     36\u001B[0m     \u001B[38;5;28mprint\u001B[39m(\u001B[38;5;124mf\u001B[39m\u001B[38;5;124m\"\u001B[39m\u001B[38;5;124mError reading image \u001B[39m\u001B[38;5;132;01m{\u001B[39;00mimage_input\u001B[38;5;132;01m}\u001B[39;00m\u001B[38;5;124m: \u001B[39m\u001B[38;5;132;01m{\u001B[39;00me\u001B[38;5;132;01m}\u001B[39;00m\u001B[38;5;124m\"\u001B[39m)\n",
      "File \u001B[1;32m~\\PycharmProjects\\CODA_python\\Semanticseg.py:34\u001B[0m, in \u001B[0;36mread_image\u001B[1;34m(image_input, image_size, mask)\u001B[0m\n\u001B[0;32m     32\u001B[0m             image\u001B[38;5;241m.\u001B[39mset_shape([\u001B[38;5;28;01mNone\u001B[39;00m, \u001B[38;5;28;01mNone\u001B[39;00m, \u001B[38;5;241m3\u001B[39m])\n\u001B[0;32m     33\u001B[0m             image \u001B[38;5;241m=\u001B[39m tf\u001B[38;5;241m.\u001B[39mimage\u001B[38;5;241m.\u001B[39mresize(images\u001B[38;5;241m=\u001B[39mimage, size\u001B[38;5;241m=\u001B[39m[image_size, image_size])\n\u001B[1;32m---> 34\u001B[0m     \u001B[38;5;28;01mreturn\u001B[39;00m \u001B[43mimage\u001B[49m\n\u001B[0;32m     35\u001B[0m \u001B[38;5;28;01mexcept\u001B[39;00m \u001B[38;5;167;01mException\u001B[39;00m \u001B[38;5;28;01mas\u001B[39;00m e:\n\u001B[0;32m     36\u001B[0m     \u001B[38;5;28mprint\u001B[39m(\u001B[38;5;124mf\u001B[39m\u001B[38;5;124m\"\u001B[39m\u001B[38;5;124mError reading image \u001B[39m\u001B[38;5;132;01m{\u001B[39;00mimage_input\u001B[38;5;132;01m}\u001B[39;00m\u001B[38;5;124m: \u001B[39m\u001B[38;5;132;01m{\u001B[39;00me\u001B[38;5;132;01m}\u001B[39;00m\u001B[38;5;124m\"\u001B[39m)\n",
      "File \u001B[1;32m_pydevd_bundle\\\\pydevd_cython_win32_39_64.pyx:1187\u001B[0m, in \u001B[0;36m_pydevd_bundle.pydevd_cython_win32_39_64.SafeCallWrapper.__call__\u001B[1;34m()\u001B[0m\n",
      "File \u001B[1;32m_pydevd_bundle\\\\pydevd_cython_win32_39_64.pyx:627\u001B[0m, in \u001B[0;36m_pydevd_bundle.pydevd_cython_win32_39_64.PyDBFrame.trace_dispatch\u001B[1;34m()\u001B[0m\n",
      "File \u001B[1;32m_pydevd_bundle\\\\pydevd_cython_win32_39_64.pyx:1103\u001B[0m, in \u001B[0;36m_pydevd_bundle.pydevd_cython_win32_39_64.PyDBFrame.trace_dispatch\u001B[1;34m()\u001B[0m\n",
      "File \u001B[1;32m_pydevd_bundle\\\\pydevd_cython_win32_39_64.pyx:1065\u001B[0m, in \u001B[0;36m_pydevd_bundle.pydevd_cython_win32_39_64.PyDBFrame.trace_dispatch\u001B[1;34m()\u001B[0m\n",
      "File \u001B[1;32m_pydevd_bundle\\\\pydevd_cython_win32_39_64.pyx:585\u001B[0m, in \u001B[0;36m_pydevd_bundle.pydevd_cython_win32_39_64.PyDBFrame.do_wait_suspend\u001B[1;34m()\u001B[0m\n",
      "File \u001B[1;32mC:\\Program Files\\JetBrains\\PyCharm 2024.1\\plugins\\python\\helpers\\pydev\\pydevd.py:1185\u001B[0m, in \u001B[0;36mPyDB.do_wait_suspend\u001B[1;34m(self, thread, frame, event, arg, send_suspend_message, is_unhandled_exception)\u001B[0m\n\u001B[0;32m   1182\u001B[0m         from_this_thread\u001B[38;5;241m.\u001B[39mappend(frame_id)\n\u001B[0;32m   1184\u001B[0m \u001B[38;5;28;01mwith\u001B[39;00m \u001B[38;5;28mself\u001B[39m\u001B[38;5;241m.\u001B[39m_threads_suspended_single_notification\u001B[38;5;241m.\u001B[39mnotify_thread_suspended(thread_id, stop_reason):\n\u001B[1;32m-> 1185\u001B[0m     \u001B[38;5;28;43mself\u001B[39;49m\u001B[38;5;241;43m.\u001B[39;49m\u001B[43m_do_wait_suspend\u001B[49m\u001B[43m(\u001B[49m\u001B[43mthread\u001B[49m\u001B[43m,\u001B[49m\u001B[43m \u001B[49m\u001B[43mframe\u001B[49m\u001B[43m,\u001B[49m\u001B[43m \u001B[49m\u001B[43mevent\u001B[49m\u001B[43m,\u001B[49m\u001B[43m \u001B[49m\u001B[43marg\u001B[49m\u001B[43m,\u001B[49m\u001B[43m \u001B[49m\u001B[43msuspend_type\u001B[49m\u001B[43m,\u001B[49m\u001B[43m \u001B[49m\u001B[43mfrom_this_thread\u001B[49m\u001B[43m)\u001B[49m\n",
      "File \u001B[1;32mC:\\Program Files\\JetBrains\\PyCharm 2024.1\\plugins\\python\\helpers\\pydev\\pydevd.py:1200\u001B[0m, in \u001B[0;36mPyDB._do_wait_suspend\u001B[1;34m(self, thread, frame, event, arg, suspend_type, from_this_thread)\u001B[0m\n\u001B[0;32m   1197\u001B[0m             \u001B[38;5;28mself\u001B[39m\u001B[38;5;241m.\u001B[39m_call_mpl_hook()\n\u001B[0;32m   1199\u001B[0m         \u001B[38;5;28mself\u001B[39m\u001B[38;5;241m.\u001B[39mprocess_internal_commands()\n\u001B[1;32m-> 1200\u001B[0m         \u001B[43mtime\u001B[49m\u001B[38;5;241;43m.\u001B[39;49m\u001B[43msleep\u001B[49m\u001B[43m(\u001B[49m\u001B[38;5;241;43m0.01\u001B[39;49m\u001B[43m)\u001B[49m\n\u001B[0;32m   1202\u001B[0m \u001B[38;5;28mself\u001B[39m\u001B[38;5;241m.\u001B[39mcancel_async_evaluation(get_current_thread_id(thread), \u001B[38;5;28mstr\u001B[39m(\u001B[38;5;28mid\u001B[39m(frame)))\n\u001B[0;32m   1204\u001B[0m \u001B[38;5;66;03m# process any stepping instructions\u001B[39;00m\n",
      "\u001B[1;31mKeyboardInterrupt\u001B[0m: "
     ]
    }
   ],
   "execution_count": 7
  }
 ],
 "metadata": {
  "kernelspec": {
   "display_name": "Python 3",
   "language": "python",
   "name": "python3"
  },
  "language_info": {
   "codemirror_mode": {
    "name": "ipython",
    "version": 2
   },
   "file_extension": ".py",
   "mimetype": "text/x-python",
   "name": "python",
   "nbconvert_exporter": "python",
   "pygments_lexer": "ipython2",
   "version": "2.7.6"
  }
 },
 "nbformat": 4,
 "nbformat_minor": 5
}
