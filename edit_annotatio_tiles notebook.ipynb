{
 "cells": [
  {
   "cell_type": "code",
   "execution_count": null,
   "id": "initial_id",
   "metadata": {
    "collapsed": true
   },
   "outputs": [],
   "source": [
    "import numpy as np\n",
    "from skimage.morphology import disk, dilation\n",
    "from augment_annotation import augment_annotation"
   ]
  },
  {
   "metadata": {},
   "cell_type": "code",
   "outputs": [],
   "execution_count": null,
   "source": [
    "# inputs\n",
    "im = None\n",
    "TA = None\n",
    "doaug = None\n",
    "class_id = None\n",
    "big_tile_size = None \n",
    "num_pixels_class = None\n",
    "kpall = 1"
   ],
   "id": "858228c0be22801b"
  },
  {
   "metadata": {},
   "cell_type": "code",
   "outputs": [],
   "execution_count": null,
   "source": [
    "if doaug:\n",
    "    im, TA = augment_annotation(im, TA, 1, 1, 1, 1, 0)\n",
    "else:\n",
    "    im, TA = augment_annotation(im, TA, 1, 1, 0, 0, 0)\n",
    "\n",
    "if kpall == 0:\n",
    "    maxn = ct[type]\n",
    "    kp = ct <= maxn * 1.05\n",
    "else:\n",
    "    kp = ct >= 0\n",
    "\n",
    "# classes to always keep in the annotation tiles\n",
    "# kp[11] = 1; kp[13] = 1; # collagen, whitespace - whole monkey\n",
    "# kp[2] = 1; kp[3] = 1; # alveoli, whitespace - monkey lungs\n",
    "\n",
    "kp = np.concatenate(([0], kp))\n",
    "tmp = kp[TA + 1]\n",
    "dil = np.random.randint(15) + 15\n",
    "tmp = dilation(tmp, disk(dil))\n",
    "TA = TA * tmp\n",
    "im = im * tmp\n",
    "\n",
    "kpout = np.unique(TA)\n",
    "kpout = kpout[1:]\n",
    "\n",
    "p1 = min([sT, TA.shape[0]])\n",
    "p2 = min([sT, TA.shape[1]])\n",
    "im = im[0:p1, 0:p2, :]\n",
    "TA = TA[0:p1, 0:p2]\n",
    "\n",
    "im = im.astype(np.uint8)\n",
    "TA = TA.astype(np.uint8)\n",
    "\n",
    "return im, TA, kpout"
   ],
   "id": "a805ce4ef270d504"
  }
 ],
 "metadata": {
  "kernelspec": {
   "display_name": "Python 3",
   "language": "python",
   "name": "python3"
  },
  "language_info": {
   "codemirror_mode": {
    "name": "ipython",
    "version": 2
   },
   "file_extension": ".py",
   "mimetype": "text/x-python",
   "name": "python",
   "nbconvert_exporter": "python",
   "pygments_lexer": "ipython2",
   "version": "2.7.6"
  }
 },
 "nbformat": 4,
 "nbformat_minor": 5
}
