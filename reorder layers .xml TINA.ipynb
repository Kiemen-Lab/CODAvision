{
 "cells": [
  {
   "cell_type": "code",
   "id": "initial_id",
   "metadata": {
    "collapsed": true,
    "ExecuteTime": {
     "end_time": "2025-03-10T15:55:08.558952Z",
     "start_time": "2025-03-10T15:55:08.533449Z"
    }
   },
   "source": [
    "import xmltodict\n",
    "import os\n",
    "import glob\n",
    "\"\"\"\n",
    "Author: Valentina Matos (Johns Hopkins - Wirtz/Kiemen Lab)\n",
    "Date: July 15th, 2024\n",
    "\"\"\""
   ],
   "outputs": [
    {
     "data": {
      "text/plain": [
       "'\\nAuthor: Valentina Matos (Johns Hopkins - Wirtz/Kiemen Lab)\\nDate: July 15th, 2024\\n'"
      ]
     },
     "execution_count": 2,
     "metadata": {},
     "output_type": "execute_result"
    }
   ],
   "execution_count": 2
  },
  {
   "metadata": {
    "ExecuteTime": {
     "end_time": "2024-07-15T17:24:43.051512Z",
     "start_time": "2024-07-15T17:24:43.027210Z"
    }
   },
   "cell_type": "code",
   "source": [
    "# Parse .xml file to target structure\n",
    "xmlpath_template= r'\\\\10.99.68.52\\Kiemendata\\Valentina Matos\\LG HG PanIN project\\LGHG segmentation\\template\\template.xml'\n",
    "with open(xmlpath_template, 'r') as file:\n",
    "    xmlcontent = file.read()\n",
    "xml_dict_template = xmltodict.parse(xmlcontent)\n",
    "layers_template = xml_dict_template.get(\"Annotations\", {}).get(\"Annotation\", [])\n",
    "layers_new = layers_template"
   ],
   "id": "20baadfa275748f3",
   "outputs": [],
   "execution_count": 62
  },
  {
   "metadata": {
    "ExecuteTime": {
     "end_time": "2024-07-15T17:24:49.693767Z",
     "start_time": "2024-07-15T17:24:44.133331Z"
    }
   },
   "cell_type": "code",
   "source": [
    "#_____________________Parse all .xml files______________\n",
    "base_path = r'\\\\10.99.68.52\\Kiemendata\\Valentina Matos\\LG HG PanIN project\\annotations lucie to revise'\n",
    "xml_files = glob.glob(os.path.join(base_path, \"*.xml\"))\n",
    "\n",
    "new_folder = os.path.join(base_path, \"new xml\")\n",
    "os.makedirs(new_folder, exist_ok=True)\n",
    "\n",
    "layers_to_change = [7, 11]\n",
    "\n",
    "for xml_file in xml_files:\n",
    "    with open(xml_file, 'r') as file:\n",
    "        xml_dict = xmltodict.parse(file.read())\n",
    "    \n",
    "    layers = xml_dict[\"Annotations\"][\"Annotation\"]\n",
    "    \n",
    "    # Create a new layers list based on the template\n",
    "    layers_new = layers_template.copy()\n",
    "    \n",
    "    # Swap the layers\n",
    "    layers_new[7] = layers[1]\n",
    "    layers_new[11] = layers[0]\n",
    "    \n",
    "    # Keep template name and color for changed layers\n",
    "    for idx in layers_to_change:\n",
    "        layers_new[idx]['@Name'] = layers_template[idx]['@Name']\n",
    "        layers_new[idx]['@LineColor'] = layers_template[idx]['@LineColor']\n",
    "    \n",
    "    # Create new XML structure\n",
    "    xml_new = xml_dict_template.copy()\n",
    "    xml_new[\"Annotations\"][\"Annotation\"] = layers_new\n",
    "    \n",
    "    # Save the modified XML file\n",
    "    filename = os.path.basename(xml_file)\n",
    "    new_xmlpath = os.path.join(new_folder, filename)\n",
    "    with open(new_xmlpath, 'w') as file:\n",
    "        file.write(xmltodict.unparse(xml_new, pretty=True))\n",
    "    \n",
    "    print(f\"Modified XML file saved as: {new_xmlpath}\")\n"
   ],
   "id": "19c4bb38d0a0a811",
   "outputs": [
    {
     "name": "stdout",
     "output_type": "stream",
     "text": [
      "Modified XML file saved as: \\\\10.99.68.52\\Kiemendata\\Valentina Matos\\LG HG PanIN project\\annotations lucie to revise\\new xml\\S08-07401 1C.xml\n",
      "Modified XML file saved as: \\\\10.99.68.52\\Kiemendata\\Valentina Matos\\LG HG PanIN project\\annotations lucie to revise\\new xml\\S08-07401 1D.xml\n",
      "Modified XML file saved as: \\\\10.99.68.52\\Kiemendata\\Valentina Matos\\LG HG PanIN project\\annotations lucie to revise\\new xml\\S08-07401 1DD.xml\n",
      "Modified XML file saved as: \\\\10.99.68.52\\Kiemendata\\Valentina Matos\\LG HG PanIN project\\annotations lucie to revise\\new xml\\S08-07401 1FF.xml\n",
      "Modified XML file saved as: \\\\10.99.68.52\\Kiemendata\\Valentina Matos\\LG HG PanIN project\\annotations lucie to revise\\new xml\\S08-07401 1G.xml\n",
      "Modified XML file saved as: \\\\10.99.68.52\\Kiemendata\\Valentina Matos\\LG HG PanIN project\\annotations lucie to revise\\new xml\\S08-07401 1I.xml\n",
      "Modified XML file saved as: \\\\10.99.68.52\\Kiemendata\\Valentina Matos\\LG HG PanIN project\\annotations lucie to revise\\new xml\\S08-07401 1J.xml\n",
      "Modified XML file saved as: \\\\10.99.68.52\\Kiemendata\\Valentina Matos\\LG HG PanIN project\\annotations lucie to revise\\new xml\\S08-07401 1K.xml\n",
      "Modified XML file saved as: \\\\10.99.68.52\\Kiemendata\\Valentina Matos\\LG HG PanIN project\\annotations lucie to revise\\new xml\\S08-07401 1LL.xml\n",
      "Modified XML file saved as: \\\\10.99.68.52\\Kiemendata\\Valentina Matos\\LG HG PanIN project\\annotations lucie to revise\\new xml\\S08-07401 1MM1.xml\n",
      "Modified XML file saved as: \\\\10.99.68.52\\Kiemendata\\Valentina Matos\\LG HG PanIN project\\annotations lucie to revise\\new xml\\S08-07401 1MM2.xml\n",
      "Modified XML file saved as: \\\\10.99.68.52\\Kiemendata\\Valentina Matos\\LG HG PanIN project\\annotations lucie to revise\\new xml\\S08-07401 1Q.xml\n",
      "Modified XML file saved as: \\\\10.99.68.52\\Kiemendata\\Valentina Matos\\LG HG PanIN project\\annotations lucie to revise\\new xml\\S08-07401 1QQ.xml\n",
      "Modified XML file saved as: \\\\10.99.68.52\\Kiemendata\\Valentina Matos\\LG HG PanIN project\\annotations lucie to revise\\new xml\\S08-07401 1R.xml\n",
      "Modified XML file saved as: \\\\10.99.68.52\\Kiemendata\\Valentina Matos\\LG HG PanIN project\\annotations lucie to revise\\new xml\\S08-07401 1SS.xml\n",
      "Modified XML file saved as: \\\\10.99.68.52\\Kiemendata\\Valentina Matos\\LG HG PanIN project\\annotations lucie to revise\\new xml\\S08-07401 1T.xml\n",
      "Modified XML file saved as: \\\\10.99.68.52\\Kiemendata\\Valentina Matos\\LG HG PanIN project\\annotations lucie to revise\\new xml\\S08-07401 1WW.xml\n",
      "Modified XML file saved as: \\\\10.99.68.52\\Kiemendata\\Valentina Matos\\LG HG PanIN project\\annotations lucie to revise\\new xml\\S08-07401 1Z.xml\n",
      "Modified XML file saved as: \\\\10.99.68.52\\Kiemendata\\Valentina Matos\\LG HG PanIN project\\annotations lucie to revise\\new xml\\S08-07401 JJ.xml\n",
      "Modified XML file saved as: \\\\10.99.68.52\\Kiemendata\\Valentina Matos\\LG HG PanIN project\\annotations lucie to revise\\new xml\\S08-07401 KK.xml\n",
      "Modified XML file saved as: \\\\10.99.68.52\\Kiemendata\\Valentina Matos\\LG HG PanIN project\\annotations lucie to revise\\new xml\\S08-07401 N.xml\n",
      "Modified XML file saved as: \\\\10.99.68.52\\Kiemendata\\Valentina Matos\\LG HG PanIN project\\annotations lucie to revise\\new xml\\S08-07401 Y.xml\n",
      "Modified XML file saved as: \\\\10.99.68.52\\Kiemendata\\Valentina Matos\\LG HG PanIN project\\annotations lucie to revise\\new xml\\S08-46758 2F.xml\n",
      "Modified XML file saved as: \\\\10.99.68.52\\Kiemendata\\Valentina Matos\\LG HG PanIN project\\annotations lucie to revise\\new xml\\S08-46758 2MM.xml\n",
      "Modified XML file saved as: \\\\10.99.68.52\\Kiemendata\\Valentina Matos\\LG HG PanIN project\\annotations lucie to revise\\new xml\\S09-15280 3 FS2 C.xml\n",
      "Modified XML file saved as: \\\\10.99.68.52\\Kiemendata\\Valentina Matos\\LG HG PanIN project\\annotations lucie to revise\\new xml\\S09-15280 3I-1.xml\n",
      "Modified XML file saved as: \\\\10.99.68.52\\Kiemendata\\Valentina Matos\\LG HG PanIN project\\annotations lucie to revise\\new xml\\S09-15280 FS1 C.xml\n",
      "Modified XML file saved as: \\\\10.99.68.52\\Kiemendata\\Valentina Matos\\LG HG PanIN project\\annotations lucie to revise\\new xml\\S09-15280 FS2 C.xml\n",
      "Modified XML file saved as: \\\\10.99.68.52\\Kiemendata\\Valentina Matos\\LG HG PanIN project\\annotations lucie to revise\\new xml\\S14-13514 1CC.xml\n",
      "Modified XML file saved as: \\\\10.99.68.52\\Kiemendata\\Valentina Matos\\LG HG PanIN project\\annotations lucie to revise\\new xml\\S14-13514 1EE.xml\n",
      "Modified XML file saved as: \\\\10.99.68.52\\Kiemendata\\Valentina Matos\\LG HG PanIN project\\annotations lucie to revise\\new xml\\S14-13514 1FF.xml\n",
      "Modified XML file saved as: \\\\10.99.68.52\\Kiemendata\\Valentina Matos\\LG HG PanIN project\\annotations lucie to revise\\new xml\\S14-13514 1O.xml\n",
      "Modified XML file saved as: \\\\10.99.68.52\\Kiemendata\\Valentina Matos\\LG HG PanIN project\\annotations lucie to revise\\new xml\\S14-13514 1P.xml\n",
      "Modified XML file saved as: \\\\10.99.68.52\\Kiemendata\\Valentina Matos\\LG HG PanIN project\\annotations lucie to revise\\new xml\\S14-13514 1Q.xml\n",
      "Modified XML file saved as: \\\\10.99.68.52\\Kiemendata\\Valentina Matos\\LG HG PanIN project\\annotations lucie to revise\\new xml\\S14-13514 1S.xml\n",
      "Modified XML file saved as: \\\\10.99.68.52\\Kiemendata\\Valentina Matos\\LG HG PanIN project\\annotations lucie to revise\\new xml\\S14-13514 1W.xml\n",
      "Modified XML file saved as: \\\\10.99.68.52\\Kiemendata\\Valentina Matos\\LG HG PanIN project\\annotations lucie to revise\\new xml\\S14-13514 1YY.xml\n",
      "Modified XML file saved as: \\\\10.99.68.52\\Kiemendata\\Valentina Matos\\LG HG PanIN project\\annotations lucie to revise\\new xml\\S18-60490 2AA.xml\n",
      "Modified XML file saved as: \\\\10.99.68.52\\Kiemendata\\Valentina Matos\\LG HG PanIN project\\annotations lucie to revise\\new xml\\S18-60490 2AW.xml\n",
      "Modified XML file saved as: \\\\10.99.68.52\\Kiemendata\\Valentina Matos\\LG HG PanIN project\\annotations lucie to revise\\new xml\\S18-60490 2AZ.xml\n",
      "Modified XML file saved as: \\\\10.99.68.52\\Kiemendata\\Valentina Matos\\LG HG PanIN project\\annotations lucie to revise\\new xml\\S18-60490 2BC.xml\n",
      "Modified XML file saved as: \\\\10.99.68.52\\Kiemendata\\Valentina Matos\\LG HG PanIN project\\annotations lucie to revise\\new xml\\S18-60490 2V.xml\n"
     ]
    }
   ],
   "execution_count": 63
  },
  {
   "metadata": {},
   "cell_type": "code",
   "outputs": [],
   "execution_count": null,
   "source": "",
   "id": "29fd1fd6b9e67ae5"
  }
 ],
 "metadata": {
  "kernelspec": {
   "display_name": "Python 3",
   "language": "python",
   "name": "python3"
  },
  "language_info": {
   "codemirror_mode": {
    "name": "ipython",
    "version": 2
   },
   "file_extension": ".py",
   "mimetype": "text/x-python",
   "name": "python",
   "nbconvert_exporter": "python",
   "pygments_lexer": "ipython2",
   "version": "2.7.6"
  }
 },
 "nbformat": 4,
 "nbformat_minor": 5
}
